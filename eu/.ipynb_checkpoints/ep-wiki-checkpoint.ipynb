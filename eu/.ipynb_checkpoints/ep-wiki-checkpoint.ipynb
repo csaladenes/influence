{
 "cells": [
  {
   "cell_type": "code",
   "execution_count": 162,
   "metadata": {},
   "outputs": [],
   "source": [
    "import pandas as pd\n",
    "import matplotlib.pyplot as plt\n",
    "%matplotlib inline"
   ]
  },
  {
   "cell_type": "code",
   "execution_count": 2,
   "metadata": {},
   "outputs": [],
   "source": [
    "links_ro={5:{'link':'https://en.wikipedia.org/wiki/List_of_members_of_the_European_Parliament_for_Romania,_2007','table':1},\n",
    "          6:{'link':'https://en.wikipedia.org/wiki/List_of_members_of_the_European_Parliament_for_Romania,_2007%E2%80%9309','table':1},\n",
    "          7:{'link':'https://en.wikipedia.org/wiki/List_of_members_of_the_European_Parliament_for_Romania,_2009%E2%80%9314','table':1},\n",
    "          8:{'link':'https://en.wikipedia.org/wiki/List_of_members_of_the_European_Parliament_for_Romania,_2014%E2%80%9319','table':1}}"
   ]
  },
  {
   "cell_type": "code",
   "execution_count": 3,
   "metadata": {},
   "outputs": [],
   "source": [
    "dfs_ro=[]\n",
    "for i in links_ro:\n",
    "    link=links_ro[i]['link']\n",
    "    df=pd.read_html(link)[links_ro[i]['table']]\n",
    "    df['Year']=i\n",
    "    df.columns=[i.replace('EP Group','EP group') for i in df.columns]\n",
    "    dfs_ro.append(df)\n",
    "dfs_ro=pd.concat(dfs_ro)"
   ]
  },
  {
   "cell_type": "code",
   "execution_count": 4,
   "metadata": {},
   "outputs": [],
   "source": [
    "links_hu={5:{'link':'https://en.wikipedia.org/wiki/List_of_observers_to_the_European_Parliament_for_Hungary,_2003%E2%80%9304','table':2},\n",
    "          6:{'link':'https://en.wikipedia.org/wiki/List_of_members_of_the_European_Parliament_for_Hungary,_2004%E2%80%9309','table':1},\n",
    "          7:{'link':'https://en.wikipedia.org/wiki/List_of_members_of_the_European_Parliament_for_Hungary,_2009%E2%80%9314','table':1},\n",
    "          8:{'link':'https://en.wikipedia.org/wiki/List_of_members_of_the_European_Parliament_for_Hungary,_2014%E2%80%9319','table':2}}"
   ]
  },
  {
   "cell_type": "code",
   "execution_count": 5,
   "metadata": {
    "scrolled": false
   },
   "outputs": [],
   "source": [
    "dfs_hu=[]\n",
    "for i in links_hu:\n",
    "    link=links_hu[i]['link']\n",
    "    df=pd.read_html(link)[links_hu[i]['table']]\n",
    "    df['Year']=i\n",
    "    #df.columns=[i.replace('EP Group','EP group') for i in df.columns]\n",
    "    dfs_hu.append(df)\n",
    "dfs_hu=pd.concat(dfs_hu)"
   ]
  }
 ],
 "metadata": {
  "kernelspec": {
   "display_name": "Python 3",
   "language": "python",
   "name": "python3"
  },
  "language_info": {
   "codemirror_mode": {
    "name": "ipython",
    "version": 3
   },
   "file_extension": ".py",
   "mimetype": "text/x-python",
   "name": "python",
   "nbconvert_exporter": "python",
   "pygments_lexer": "ipython3",
   "version": "3.6.6"
  }
 },
 "nbformat": 4,
 "nbformat_minor": 2
}
