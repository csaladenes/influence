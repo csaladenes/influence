{
 "cells": [
  {
   "cell_type": "code",
   "execution_count": 1,
   "metadata": {
    "ExecuteTime": {
     "end_time": "2019-03-07T02:56:32.521682Z",
     "start_time": "2019-03-07T02:56:26.288106Z"
    }
   },
   "outputs": [],
   "source": [
    "import pandas as pd, numpy as np\n",
    "import matplotlib.pyplot as plt\n",
    "%matplotlib inline"
   ]
  },
  {
   "cell_type": "code",
   "execution_count": 2,
   "metadata": {},
   "outputs": [],
   "source": [
    "import lzma,json,gzip\n",
    "import urllib.request"
   ]
  },
  {
   "cell_type": "code",
   "execution_count": 3,
   "metadata": {},
   "outputs": [],
   "source": [
    "from utils import party_color_links,\\\n",
    "    get_link_color,\\\n",
    "    party_normalizer,\\\n",
    "    party_normalizer2,\\\n",
    "    hu_country,\\\n",
    "    get_photo,get_photos,\\\n",
    "    load_file, save_local, load_local"
   ]
  },
  {
   "cell_type": "code",
   "execution_count": 4,
   "metadata": {
    "ExecuteTime": {
     "end_time": "2019-03-07T02:22:15.078768Z",
     "start_time": "2019-03-07T02:22:15.069761Z"
    }
   },
   "outputs": [],
   "source": [
    "groups=load_local('groups')"
   ]
  },
  {
   "cell_type": "code",
   "execution_count": 5,
   "metadata": {
    "ExecuteTime": {
     "end_time": "2019-03-07T02:22:15.658534Z",
     "start_time": "2019-03-07T02:22:15.649529Z"
    }
   },
   "outputs": [],
   "source": [
    "parties=load_local('parties')"
   ]
  },
  {
   "cell_type": "code",
   "execution_count": 6,
   "metadata": {
    "ExecuteTime": {
     "end_time": "2019-03-07T02:22:17.841191Z",
     "start_time": "2019-03-07T02:22:16.505772Z"
    }
   },
   "outputs": [],
   "source": [
    "names=load_local('names')"
   ]
  },
  {
   "cell_type": "code",
   "execution_count": 7,
   "metadata": {
    "ExecuteTime": {
     "end_time": "2019-03-07T02:12:27.514227Z",
     "start_time": "2019-03-07T02:12:27.507228Z"
    }
   },
   "outputs": [
    {
     "name": "stdout",
     "output_type": "stream",
     "text": [
      "['bmh', 'classic', 'dark_background', 'fast', 'fivethirtyeight', 'ggplot', 'grayscale', 'seaborn-bright', 'seaborn-colorblind', 'seaborn-dark-palette', 'seaborn-dark', 'seaborn-darkgrid', 'seaborn-deep', 'seaborn-muted', 'seaborn-notebook', 'seaborn-paper', 'seaborn-pastel', 'seaborn-poster', 'seaborn-talk', 'seaborn-ticks', 'seaborn-white', 'seaborn-whitegrid', 'seaborn', 'Solarize_Light2', 'tableau-colorblind10', '_classic_test']\n"
     ]
    }
   ],
   "source": [
    "plt.style.use('fivethirtyeight')\n",
    "print(plt.style.available)"
   ]
  },
  {
   "cell_type": "code",
   "execution_count": 8,
   "metadata": {
    "ExecuteTime": {
     "end_time": "2019-03-07T02:13:15.632560Z",
     "start_time": "2019-03-07T02:13:13.823563Z"
    }
   },
   "outputs": [
    {
     "data": {
      "image/png": "[encoded data removed]",
      "text/plain": [
       "<Figure size 432x288 with 1 Axes>"
      ]
     },
     "metadata": {},
     "output_type": "display_data"
    }
   ],
   "source": [
    "for e,i in enumerate(party_color_links):\n",
    "    plt.plot([0,1],[e,e],color=get_link_color(i),lw=3,label=i)\n",
    "    plt.legend(fontsize=8,loc=3,framealpha=1)"
   ]
  },
  {
   "cell_type": "code",
   "execution_count": 9,
   "metadata": {
    "ExecuteTime": {
     "end_time": "2019-03-07T02:30:51.832351Z",
     "start_time": "2019-03-07T02:30:51.823346Z"
    }
   },
   "outputs": [
    {
     "name": "stdout",
     "output_type": "stream",
     "text": [
      "ALDE: #3755a3\n",
      "ECR: #0454a4\n",
      "ENF: #777777\n",
      "N/A: #444444\n",
      "EPP: #051ecb\n",
      "S&D: #fc0404\n",
      "Greens: #04b404\n",
      "ALDE RO: #459ccc\n",
      "DK: #1464ac\n",
      "Egyéb: #04632c\n",
      "Együtt PM: #1f3b17\n",
      "FDGR: #961934\n",
      "FIDESZ-KDNP: #fb6b04\n",
      "Jobbik: #3cb25a\n",
      "LMP: #7dbb37\n",
      "MSZP: #b4c0af\n",
      "PMP: #0484cc\n",
      "PNL: #046cab\n",
      "PNȚCD: #04843c\n",
      "PRM: #0d5ca4\n",
      "PSD: #dc2c24\n",
      "RMDSZ: #1e3c21\n",
      "UNPR: #a8190f\n"
     ]
    }
   ],
   "source": [
    "for e,i in enumerate(party_color_links):\n",
    "    print(i+':',get_link_color(i))"
   ]
  },
  {
   "cell_type": "code",
   "execution_count": 10,
   "metadata": {
    "ExecuteTime": {
     "end_time": "2019-03-07T02:31:14.042742Z",
     "start_time": "2019-03-07T02:31:14.032742Z"
    }
   },
   "outputs": [
    {
     "name": "stdout",
     "output_type": "stream",
     "text": [
      "ALDE ⏩: #3755a3\n",
      "ECR 🦁: #0454a4\n",
      "ENF 🌐: #777777\n",
      "N/A 👤: #444444\n",
      "EPP ⭐️: #051ecb\n",
      "S&D 🔴: #fc0404\n",
      "Greens 🌻: #04b404\n",
      "ALDE RO 🕊️: #459ccc\n",
      "DK 🔵: #1464ac\n",
      "Egyéb ⭕️: #04632c\n",
      "Együtt PM ✳️: #1f3b17\n",
      "FDGR ⚫️: #961934\n",
      "FIDESZ-KDNP 🍊: #fb6b04\n",
      "Jobbik ✅: #3cb25a\n",
      "LMP 🏃‍♂️: #7dbb37\n",
      "MSZP 🌸: #b4c0af\n",
      "PMP 🍏: #0484cc\n",
      "PNL 🔶: #046cab\n",
      "PNȚCD ✳️: #04843c\n",
      "PRM 🔱: #0d5ca4\n",
      "PSD 🌹: #dc2c24\n",
      "RMDSZ 🌷: #1e3c21\n",
      "UNPR 🦅: #a8190f\n"
     ]
    }
   ],
   "source": [
    "for e,i in enumerate(party_color_links):\n",
    "    print(party_normalizer2(i)+':',get_link_color(i))"
   ]
  },
  {
   "cell_type": "code",
   "execution_count": 11,
   "metadata": {},
   "outputs": [],
   "source": [
    "eu_vt=load_local('eu_vt')"
   ]
  },
  {
   "cell_type": "code",
   "execution_count": 12,
   "metadata": {},
   "outputs": [],
   "source": [
    "eu_allegiance=load_local('eu_allegiance')"
   ]
  },
  {
   "cell_type": "code",
   "execution_count": 13,
   "metadata": {},
   "outputs": [],
   "source": [
    "voteid_2_dossierid=load_local('voteid_2_dossierid')"
   ]
  },
  {
   "cell_type": "code",
   "execution_count": 14,
   "metadata": {},
   "outputs": [],
   "source": [
    "countries=sorted(eu_vt)"
   ]
  },
  {
   "cell_type": "markdown",
   "metadata": {},
   "source": [
    "Allegiance"
   ]
  },
  {
   "cell_type": "code",
   "execution_count": 15,
   "metadata": {
    "ExecuteTime": {
     "end_time": "2019-03-07T00:55:58.723167Z",
     "start_time": "2019-03-07T00:55:58.183534Z"
    }
   },
   "outputs": [],
   "source": [
    "def get_allegiance_matrix(key,vt,allegiance):\n",
    "    allegiance_matrix={}\n",
    "    initvote={'Same':0,'Opposite':0,'Total':0}\n",
    "    for j1 in vt:\n",
    "        outcome=j1['outcome']\n",
    "        name1=j1[key]\n",
    "        if name1 not in allegiance_matrix:allegiance_matrix[name1]={}\n",
    "        if outcome=='For':\n",
    "            for name2 in allegiance[j1['vote']]['For']:\n",
    "                if name2 not in allegiance_matrix[name1]:\n",
    "                    allegiance_matrix[name1][name2]=dict(initvote)\n",
    "                allegiance_matrix[name1][name2]['Total']+=1\n",
    "                allegiance_matrix[name1][name2]['Same']+=1\n",
    "            if 'Against' in allegiance[j1['vote']]:\n",
    "                for name2 in allegiance[j1['vote']]['Against']:\n",
    "                    if name2 not in allegiance_matrix[name1]:\n",
    "                        allegiance_matrix[name1][name2]=dict(initvote)\n",
    "                    allegiance_matrix[name1][name2]['Total']+=1\n",
    "                    allegiance_matrix[name1][name2]['Opposite']+=1\n",
    "        elif outcome=='Against':\n",
    "            for name2 in allegiance[j1['vote']]['Against']:\n",
    "                if name2 not in allegiance_matrix[name1]:\n",
    "                    allegiance_matrix[name1][name2]=dict(initvote)\n",
    "                allegiance_matrix[name1][name2]['Total']+=1\n",
    "                allegiance_matrix[name1][name2]['Same']+=1\n",
    "            if 'For' in allegiance[j1['vote']]:\n",
    "                for name2 in allegiance[j1['vote']]['For']:\n",
    "                    if name2 not in allegiance_matrix[name1]:\n",
    "                        allegiance_matrix[name1][name2]=dict(initvote)\n",
    "                    allegiance_matrix[name1][name2]['Total']+=1\n",
    "                    allegiance_matrix[name1][name2]['Opposite']+=1\n",
    "    for j in allegiance_matrix:\n",
    "        for i in allegiance_matrix[j]:\n",
    "            allegiance_matrix[j][i]['Same_perc']=np.round(allegiance_matrix[j][i]['Same']/allegiance_matrix[j][i]['Total'],3)\n",
    "            allegiance_matrix[j][i]['Opposite_perc']=np.round(allegiance_matrix[j][i]['Opposite']/allegiance_matrix[j][i]['Total'],3)\n",
    "    return allegiance_matrix"
   ]
  },
  {
   "cell_type": "code",
   "execution_count": 16,
   "metadata": {},
   "outputs": [],
   "source": [
    "def clean_country(country):\n",
    "    if country=='Atlantic Ocean area':return 'Atlantic Ocean Area'\n",
    "    if country=='Baltic Sea area':return 'Baltic Sea Area'\n",
    "    if country=='Former Yugoslav Republic of Macedonia':return 'Macedonia'\n",
    "    if country=='Former Yugoslav Republic of Macedonia (FYROM)':return 'Macedonia'\n",
    "    if country=='Kosovo under UNSCR 1244/1999':return 'Kosovo'\n",
    "    if country=='Mediterranean Sea area':return 'Mediterranean Sea Area'\n",
    "    if country=='Moldova, Republic':return 'Moldova'\n",
    "    if country=='Montenegro, from 06/2006':return 'Montenegro'\n",
    "    if country=='Serbia, from 06/2006':return 'Serbia'\n",
    "    if country=='North Sea area':return 'North Sea Area'\n",
    "    return country"
   ]
  },
  {
   "cell_type": "code",
   "execution_count": 20,
   "metadata": {},
   "outputs": [],
   "source": [
    "def clean_topic(topic,k=3):\n",
    "    return topic[:k]"
   ]
  },
  {
   "cell_type": "code",
   "execution_count": 21,
   "metadata": {},
   "outputs": [],
   "source": [
    "def get_vote_topics(voteid):\n",
    "    topics=set()\n",
    "    for i in voteid_2_dossierid[voteid]:\n",
    "        if 'subject' in i:\n",
    "            for topic in i['subject']:\n",
    "                topics.add(clean_topic(topic))\n",
    "        elif 'sujet' in i:\n",
    "            for topic in i['sujet']:\n",
    "                topics.add(clean_topic(topic))\n",
    "    return list(topics)"
   ]
  },
  {
   "cell_type": "code",
   "execution_count": 22,
   "metadata": {},
   "outputs": [],
   "source": [
    "def get_vote_areas(voteid):\n",
    "    on_countries=set()\n",
    "    for i in voteid_2_dossierid[voteid]:\n",
    "        if 'geographical_area' in i:\n",
    "            for on_country in i['geographical_area']:\n",
    "                on_countries.add(clean_country(on_country))\n",
    "    return list(on_countries)"
   ]
  },
  {
   "cell_type": "code",
   "execution_count": 185,
   "metadata": {
    "ExecuteTime": {
     "end_time": "2019-03-07T01:02:56.830809Z",
     "start_time": "2019-03-07T00:55:58.756695Z"
    }
   },
   "outputs": [
    {
     "name": "stdout",
     "output_type": "stream",
     "text": [
      "Hungary 2004 topic\n",
      "Hungary 2004 area\n",
      "Hungary 2005 topic\n",
      "Hungary 2005 area\n",
      "Hungary 2006 topic\n",
      "Hungary 2006 area\n",
      "Hungary 2007 topic\n",
      "Hungary 2007 area\n",
      "Hungary 2008 topic\n",
      "Hungary 2008 area\n",
      "Hungary 2009 topic\n",
      "Hungary 2009 area\n",
      "Hungary 2010 topic\n",
      "Hungary 2010 area\n",
      "Hungary 2011 topic\n",
      "Hungary 2011 area\n",
      "Hungary 2012 topic\n",
      "Hungary 2012 area\n",
      "Hungary 2013 topic\n",
      "Hungary 2013 area\n",
      "Hungary 2014 topic\n",
      "Hungary 2014 area\n",
      "Hungary 2015 topic\n",
      "Hungary 2015 area\n",
      "Hungary 2016 topic\n",
      "Hungary 2016 area\n",
      "Hungary 2017 topic\n",
      "Hungary 2017 area\n",
      "Hungary 2018 topic\n",
      "Hungary 2018 area\n",
      "Hungary 2019 topic\n",
      "Hungary 2019 area\n",
      "Joint 2004 topic\n",
      "Joint 2004 area\n",
      "Joint 2005 topic\n",
      "Joint 2005 area\n",
      "Joint 2006 topic\n",
      "Joint 2006 area\n",
      "Joint 2007 topic\n",
      "Joint 2007 area\n",
      "Joint 2008 topic\n",
      "Joint 2008 area\n",
      "Joint 2009 topic\n",
      "Joint 2009 area\n",
      "Joint 2010 topic\n",
      "Joint 2010 area\n",
      "Joint 2011 topic\n",
      "Joint 2011 area\n",
      "Joint 2012 topic\n",
      "Joint 2012 area\n",
      "Joint 2013 topic\n",
      "Joint 2013 area\n",
      "Joint 2014 topic\n",
      "Joint 2014 area\n",
      "Joint 2015 topic\n",
      "Joint 2015 area\n",
      "Joint 2016 topic\n",
      "Joint 2016 area\n",
      "Joint 2017 topic\n",
      "Joint 2017 area\n",
      "Joint 2018 topic\n",
      "Joint 2018 area\n",
      "Joint 2019 topic\n",
      "Joint 2019 area\n",
      "Romania 2004 topic\n",
      "Romania 2004 area\n",
      "Romania 2005 topic\n",
      "Romania 2005 area\n",
      "Romania 2006 topic\n",
      "Romania 2006 area\n",
      "Romania 2007 topic\n",
      "Romania 2007 area\n",
      "Romania 2008 topic\n",
      "Romania 2008 area\n",
      "Romania 2009 topic\n",
      "Romania 2009 area\n",
      "Romania 2010 topic\n",
      "Romania 2010 area\n",
      "Romania 2011 topic\n",
      "Romania 2011 area\n",
      "Romania 2012 topic\n",
      "Romania 2012 area\n",
      "Romania 2013 topic\n",
      "Romania 2013 area\n",
      "Romania 2014 topic\n",
      "Romania 2014 area\n",
      "Romania 2015 topic\n",
      "Romania 2015 area\n",
      "Romania 2016 topic\n",
      "Romania 2016 area\n",
      "Romania 2017 topic\n",
      "Romania 2017 area\n",
      "Romania 2018 topic\n",
      "Romania 2018 area\n",
      "Romania 2019 topic\n",
      "Romania 2019 area\n"
     ]
    }
   ],
   "source": [
    "eu_allegiance_matrix={}\n",
    "topic_types=['topic','area']\n",
    "for country in countries:\n",
    "    for year in sorted(eu_vt[country]):\n",
    "        votes_by_topic={}\n",
    "        votes_by_area={}\n",
    "        for vote in eu_vt[country][year]:\n",
    "            topics=get_vote_topics(vote['vote'])\n",
    "            areas=get_vote_areas(vote['vote'])\n",
    "            for topic in topics:\n",
    "                if topic not in votes_by_topic:votes_by_topic[topic]=[]\n",
    "                votes_by_topic[topic].append(vote)\n",
    "            for area in areas:\n",
    "                if area not in votes_by_area:votes_by_area[area]=[]\n",
    "                votes_by_area[area].append(vote)\n",
    "        votes_by_topic['All topics']=list(eu_vt[country][year])\n",
    "        votes_by_area['All areas']=list(eu_vt[country][year])\n",
    "        for topic_type in topic_types:\n",
    "            if topic_type=='topic':\n",
    "                sub_type=votes_by_topic\n",
    "            else:\n",
    "                sub_type=votes_by_area\n",
    "            for topic in sub_type:\n",
    "                for allegiance_type1 in ['name','group','party']:\n",
    "                    for allegiance_type2 in ['name','group','party']:\n",
    "                        dummy=get_allegiance_matrix(allegiance_type1,sub_type[topic],\n",
    "                                eu_allegiance[country][year][allegiance_type2])\n",
    "                        if dummy!={}:\n",
    "                            if country not in eu_allegiance_matrix:\n",
    "                                eu_allegiance_matrix[country]={}\n",
    "                            if year not in eu_allegiance_matrix[country]:\n",
    "                                eu_allegiance_matrix[country][year]={}\n",
    "                            if topic_type not in eu_allegiance_matrix[country][year]:\n",
    "                                eu_allegiance_matrix[country][year][topic_type]={}\n",
    "                            if topic not in eu_allegiance_matrix[country][year][topic_type]:\n",
    "                                eu_allegiance_matrix[country][year][topic_type][topic]={}\n",
    "                            if allegiance_type1 not in eu_allegiance_matrix[country][year][topic_type][topic]:\n",
    "                                eu_allegiance_matrix[country][year][topic_type][topic][allegiance_type1]={}\n",
    "                            if allegiance_type2 not in eu_allegiance_matrix[country][year][topic_type][topic][allegiance_type1]:\n",
    "                                eu_allegiance_matrix[country][year][topic_type][topic][allegiance_type1][allegiance_type2]={}\n",
    "                            eu_allegiance_matrix[country][year][topic_type][topic][allegiance_type1][allegiance_type2]=dummy\n",
    "            print(country,year,topic_type)"
   ]
  },
  {
   "cell_type": "markdown",
   "metadata": {},
   "source": [
    "Clusterings"
   ]
  },
  {
   "cell_type": "code",
   "execution_count": 186,
   "metadata": {
    "ExecuteTime": {
     "end_time": "2019-03-07T01:03:43.009807Z",
     "start_time": "2019-03-07T01:03:41.708739Z"
    }
   },
   "outputs": [],
   "source": [
    "from scipy.cluster.hierarchy import dendrogram, linkage, fcluster"
   ]
  },
  {
   "cell_type": "code",
   "execution_count": 187,
   "metadata": {
    "ExecuteTime": {
     "end_time": "2019-03-07T01:03:43.026801Z",
     "start_time": "2019-03-07T01:03:43.013795Z"
    }
   },
   "outputs": [],
   "source": [
    "def dict_2_matrix(matrix,key,party_labels=False):\n",
    "    labels=sorted(matrix)\n",
    "    slabels=[]\n",
    "    for i in range(len(labels)):\n",
    "        label=labels[i]\n",
    "        if label in names:\n",
    "            if party_labels:\n",
    "                party=party_normalizer(names[label]['Constituencies'][0]['party'])\n",
    "                group=party_normalizer(names[label]['Groups'][0]['groupid'])\n",
    "                slabels.append(str(label)+u' | '+str(party)+' | '+str(group))\n",
    "            else:\n",
    "                slabels.append(label)\n",
    "        else:\n",
    "            slabels.append(label)\n",
    "\n",
    "    #extend to square matrix\n",
    "    inner_keys=matrix[sorted(matrix)[0]]\n",
    "    inner_keys=sorted(inner_keys[sorted(inner_keys)[0]])\n",
    "    for name1 in  labels:\n",
    "        for name2 in labels:\n",
    "            if name2 not in matrix[name1]:\n",
    "                matrix[name1][name2]={i:0 for i in inner_keys}\n",
    "    return np.array([[matrix[name1][name2][key] for name2 in sorted(matrix[name1])] for name1 in labels]),slabels"
   ]
  },
  {
   "cell_type": "code",
   "execution_count": 188,
   "metadata": {
    "ExecuteTime": {
     "end_time": "2019-03-07T01:03:43.044797Z",
     "start_time": "2019-03-07T01:03:43.032798Z"
    }
   },
   "outputs": [],
   "source": [
    "def hier_cluster(matrix,level,th=1,key='Same_perc',party_labels=False,method='single', metric='euclidean',criterion='distance'):\n",
    "    X,labelList=dict_2_matrix(matrix[level][level],key,party_labels)\n",
    "    if len(X)>1:\n",
    "        try:\n",
    "            linked = linkage(X, method=method,metric=metric)\n",
    "        except:\n",
    "            try:\n",
    "                linked = linkage(X, method=method,metric='euclidean')\n",
    "            except:\n",
    "                linked = linkage(X, method='single',metric='euclidean')\n",
    "        f=fcluster(linked, th, criterion)\n",
    "        labelList=[labelList[i]+' | '+str(f[i]) for i in range(len(labelList))]\n",
    "        return linked,labelList\n",
    "    else:\n",
    "        return [],[]"
   ]
  },
  {
   "cell_type": "markdown",
   "metadata": {},
   "source": [
    "Exctract clusters"
   ]
  },
  {
   "cell_type": "code",
   "execution_count": 189,
   "metadata": {
    "ExecuteTime": {
     "end_time": "2019-03-07T01:03:45.292376Z",
     "start_time": "2019-03-07T01:03:45.285376Z"
    }
   },
   "outputs": [],
   "source": [
    "def get_unique_parent_node(nodes_children,node):\n",
    "    if node in leafs:\n",
    "        return node\n",
    "    elif len(nodes_children[node])>1:\n",
    "        return node\n",
    "    else:\n",
    "        return get_unique_parent_node(nodes_children,nodes_children[node][0])\n",
    "def get_unique_parent(node,node_dict,unique_node_set,root):\n",
    "    if node not in node_dict: \n",
    "        return root\n",
    "    elif node_dict[node] in unique_node_set:\n",
    "        return node_dict[node]\n",
    "    else:\n",
    "        return get_unique_parent(node_dict[node],node_dict,unique_node_set,root)"
   ]
  },
  {
   "cell_type": "markdown",
   "metadata": {},
   "source": [
    "Save for VEGA"
   ]
  },
  {
   "cell_type": "code",
   "execution_count": 190,
   "metadata": {
    "ExecuteTime": {
     "end_time": "2019-03-07T01:03:47.052375Z",
     "start_time": "2019-03-07T01:03:45.299376Z"
    }
   },
   "outputs": [
    {
     "name": "stdout",
     "output_type": "stream",
     "text": [
      "Hungary 2004 topic\n",
      "Hungary 2004 area\n",
      "Hungary 2005 topic\n",
      "Hungary 2005 area\n",
      "Hungary 2006 topic\n",
      "Hungary 2006 area\n",
      "Hungary 2007 topic\n",
      "Hungary 2007 area\n",
      "Hungary 2008 topic\n",
      "Hungary 2008 area\n",
      "Hungary 2009 topic\n",
      "Hungary 2009 area\n",
      "Hungary 2010 topic\n",
      "Hungary 2010 area\n",
      "Hungary 2011 topic\n",
      "Hungary 2011 area\n",
      "Hungary 2012 topic\n",
      "Hungary 2012 area\n",
      "Hungary 2013 topic\n",
      "Hungary 2013 area\n",
      "Hungary 2014 topic\n",
      "Hungary 2014 area\n",
      "Hungary 2015 topic\n",
      "Hungary 2015 area\n",
      "Hungary 2016 topic\n",
      "Hungary 2016 area\n",
      "Hungary 2017 topic\n",
      "Hungary 2017 area\n",
      "Hungary 2018 topic\n",
      "Hungary 2018 area\n",
      "Hungary 2019 topic\n",
      "Hungary 2019 area\n",
      "Joint 2004 topic\n",
      "Joint 2004 area\n",
      "Joint 2005 topic\n",
      "Joint 2005 area\n",
      "Joint 2006 topic\n",
      "Joint 2006 area\n",
      "Joint 2007 topic\n",
      "Joint 2007 area\n",
      "Joint 2008 topic\n",
      "Joint 2008 area\n",
      "Joint 2009 topic\n",
      "Joint 2009 area\n",
      "Joint 2010 topic\n",
      "Joint 2010 area\n",
      "Joint 2011 topic\n",
      "Joint 2011 area\n",
      "Joint 2012 topic\n",
      "Joint 2012 area\n",
      "Joint 2013 topic\n",
      "Joint 2013 area\n",
      "Joint 2014 topic\n",
      "Joint 2014 area\n",
      "Joint 2015 topic\n",
      "Joint 2015 area\n",
      "Joint 2016 topic\n",
      "Joint 2016 area\n",
      "Joint 2017 topic\n",
      "Joint 2017 area\n",
      "Joint 2018 topic\n",
      "Joint 2018 area\n",
      "Joint 2019 topic\n",
      "Joint 2019 area\n",
      "Romania 2007 topic\n",
      "Romania 2007 area\n",
      "Romania 2008 topic\n",
      "Romania 2008 area\n",
      "Romania 2009 topic\n",
      "Romania 2009 area\n",
      "Romania 2010 topic\n",
      "Romania 2010 area\n",
      "Romania 2011 topic\n",
      "Romania 2011 area\n",
      "Romania 2012 topic\n",
      "Romania 2012 area\n",
      "Romania 2013 topic\n",
      "Romania 2013 area\n",
      "Romania 2014 topic\n",
      "Romania 2014 area\n",
      "Romania 2015 topic\n",
      "Romania 2015 area\n",
      "Romania 2016 topic\n",
      "Romania 2016 area\n",
      "Romania 2017 topic\n",
      "Romania 2017 area\n",
      "Romania 2018 topic\n",
      "Romania 2018 area\n",
      "Romania 2019 topic\n",
      "Romania 2019 area\n"
     ]
    }
   ],
   "source": [
    "master_tree={}\n",
    "nc_levels=10\n",
    "key='Same_perc'\n",
    "mpruned_nodes=[]\n",
    "for country in countries:\n",
    "    for year in eu_allegiance_matrix[country]:\n",
    "        for topic_type in eu_allegiance_matrix[country][year]:\n",
    "            print(country,year,topic_type)\n",
    "            for topic in eu_allegiance_matrix[country][year][topic_type]:\n",
    "                for allegiance in eu_allegiance_matrix[country][year][topic_type][topic]:\n",
    "                    uid=country+year+allegiance+topic_type+topic\n",
    "                    cluster_list=[]\n",
    "                    clusterdummy={}\n",
    "                    for nc in range(2,nc_levels):\n",
    "                        hc,hlabels=hier_cluster(eu_allegiance_matrix[country][year][topic_type][topic],\n",
    "                                                allegiance,nc,key,True,'complete','seuclidean','maxclust')\n",
    "                        for i in hlabels:\n",
    "                            hi=i.split('|')\n",
    "                            name=hi[0].strip()\n",
    "                            cluster_no=hi[-1].strip()\n",
    "                            if name not in clusterdummy:\n",
    "                                clusterdummy[name]={}\n",
    "                                clusterdummy[name]['name']=name\n",
    "                                clusterdummy[name]['cluster_level_'+str(nc_levels)]=name\n",
    "                                clusterdummy[name]['country']=country\n",
    "                                clusterdummy[name]['cluster_level_1']=country\n",
    "                            clusterdummy[name]['cluster_level_'+str(nc)]='c'+str(nc)+str(cluster_no)\n",
    "                    cluster_list=list(clusterdummy.values())\n",
    "                    #construct tree\n",
    "                    leafs=sorted(clusterdummy)\n",
    "                    nodes=[{'name':country}]\n",
    "                    nodes_done=set()\n",
    "                    nodes_children={}\n",
    "                    for i in cluster_list:\n",
    "                        for cluster_level in range(2,nc_levels+1):\n",
    "                            node=i['cluster_level_'+str(cluster_level)]\n",
    "                            parent=i['cluster_level_'+str(cluster_level-1)]\n",
    "                            if node not in nodes_done:\n",
    "                                dummy={}\n",
    "                                nodes_done.add(node)\n",
    "                                dummy['name']=node\n",
    "                                dummy['parent']=parent\n",
    "                                if parent not in nodes_children:nodes_children[parent]=[]\n",
    "                                nodes_children[parent].append(node)\n",
    "                                nodes.append(dummy)\n",
    "                    #get unique nodes\n",
    "                    node_dict={i['name']:i['parent'] for i in nodes[1:]}\n",
    "                    unique_nodes={}\n",
    "                    for node in nodes_children:\n",
    "                        unique_nodes[node]=get_unique_parent_node(nodes_children,node)\n",
    "                    unique_node_set=set(unique_nodes.values()).union(set(leafs))\n",
    "                    #prune\n",
    "                    pruned_nodes=[]\n",
    "                    for i in nodes:\n",
    "                        dummy=i\n",
    "                        name=i['name']\n",
    "                        if 'parent' not in i:\n",
    "                            pruned_nodes.append(i)\n",
    "                        elif i['name'] in unique_node_set:\n",
    "                            dummy['parent']=get_unique_parent(name,node_dict,unique_node_set,nodes[0]['name'])\n",
    "                            if name in leafs:\n",
    "                                if allegiance=='name':\n",
    "                                    dummy['party']=party_normalizer(names[name]['Constituencies'][0]['party'])\n",
    "                                    dummy['group']=party_normalizer(names[name]['Groups'][0]['groupid'])\n",
    "                                    dummy['party2']=party_normalizer2(names[name]['Constituencies'][0]['party'])\n",
    "                                    dummy['group2']=party_normalizer2(names[name]['Groups'][0]['groupid'])\n",
    "                                else:\n",
    "                                    dummy['party']=''\n",
    "                                    dummy['group']=''\n",
    "                                    dummy['party2']=''\n",
    "                                    dummy['group2']=''\n",
    "                                dummy['image']=get_photo(name,names,allegiance)     \n",
    "                            pruned_nodes.append(dummy)\n",
    "                    for i in pruned_nodes:\n",
    "                        dummy=i\n",
    "                        if 'party' in dummy:\n",
    "                            dummy['partycolor']=get_link_color(dummy['party'])\n",
    "                        if 'group' in dummy:\n",
    "                            dummy['groupcolor']=get_link_color(dummy['group'])\n",
    "                        dummy['country']=country\n",
    "                        dummy['year']=year\n",
    "                        dummy['topic_type']=topic_type\n",
    "                        dummy['topic']=topic\n",
    "                        dummy['allegiance']=allegiance\n",
    "                        mpruned_nodes.append(dummy)"
   ]
  },
  {
   "cell_type": "code",
   "execution_count": 191,
   "metadata": {},
   "outputs": [
    {
     "data": {
      "text/plain": [
       "50212122"
      ]
     },
     "execution_count": 191,
     "metadata": {},
     "output_type": "execute_result"
    }
   ],
   "source": [
    "open('ep/export/json/topics.json','w').write(json.dumps(mpruned_nodes))"
   ]
  },
  {
   "cell_type": "code",
   "execution_count": 193,
   "metadata": {},
   "outputs": [],
   "source": [
    "save_local(mpruned_nodes,'topics.json')"
   ]
  }
 ],
 "metadata": {
  "kernelspec": {
   "display_name": "Python 3",
   "language": "python",
   "name": "python3"
  },
  "language_info": {
   "codemirror_mode": {
    "name": "ipython",
    "version": 3
   },
   "file_extension": ".py",
   "mimetype": "text/x-python",
   "name": "python",
   "nbconvert_exporter": "python",
   "pygments_lexer": "ipython3",
   "version": "3.6.6"
  },
  "toc": {
   "base_numbering": 1,
   "nav_menu": {},
   "number_sections": true,
   "sideBar": true,
   "skip_h1_title": false,
   "title_cell": "Table of Contents",
   "title_sidebar": "Contents",
   "toc_cell": false,
   "toc_position": {},
   "toc_section_display": true,
   "toc_window_display": false
  }
 },
 "nbformat": 4,
 "nbformat_minor": 2
}
