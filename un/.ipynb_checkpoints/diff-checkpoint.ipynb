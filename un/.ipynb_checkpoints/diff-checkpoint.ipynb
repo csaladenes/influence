{
 "cells": [
  {
   "cell_type": "markdown",
   "metadata": {},
   "source": [
    "# UN resolution miner"
   ]
  },
  {
   "cell_type": "code",
   "execution_count": 1,
   "metadata": {
    "collapsed": false
   },
   "outputs": [],
   "source": [
    "import pandas as pd, urllib, requests, urllib2, json, numpy as np\n",
    "datapath='E:/Dropbox/Public/datarepo/un/'"
   ]
  },
  {
   "cell_type": "code",
   "execution_count": 23,
   "metadata": {
    "collapsed": false
   },
   "outputs": [],
   "source": [
    "from os import listdir\n",
    "from os.path import isfile, join\n",
    "b = set([f[:-4] for f in listdir(datapath+'pdf/') if isfile(join(datapath+'pdf/', f))])\n",
    "a = set([f[:-8] for f in listdir(datapath+'pdfocr/') if isfile(join(datapath+'pdfocr/', f))])"
   ]
  },
  {
   "cell_type": "code",
   "execution_count": 18,
   "metadata": {
    "collapsed": false
   },
   "outputs": [],
   "source": [
    "from shutil import copyfile\n",
    "for i in b:\n",
    "    if i not in a:\n",
    "        print i\n",
    "        copyfile(datapath+'pdf/'+i+'.pdf', datapath+'pdf1/'+i+'.pdf')"
   ]
  }
 ],
 "metadata": {
  "anaconda-cloud": {},
  "kernelspec": {
   "display_name": "Python [conda root]",
   "language": "python",
   "name": "conda-root-py"
  },
  "language_info": {
   "codemirror_mode": {
    "name": "ipython",
    "version": 2
   },
   "file_extension": ".py",
   "mimetype": "text/x-python",
   "name": "python",
   "nbconvert_exporter": "python",
   "pygments_lexer": "ipython2",
   "version": "2.7.13"
  }
 },
 "nbformat": 4,
 "nbformat_minor": 1
}
