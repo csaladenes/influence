{
 "cells": [
  {
   "cell_type": "markdown",
   "metadata": {},
   "source": [
    "# UN resolution miner"
   ]
  },
  {
   "cell_type": "code",
   "execution_count": 1,
   "metadata": {
    "collapsed": false
   },
   "outputs": [],
   "source": [
    "import pandas as pd, urllib, requests, urllib2, json, numpy as np\n",
    "datapath='E:/Dropbox/Public/datarepo/un/'"
   ]
  },
  {
   "cell_type": "markdown",
   "metadata": {},
   "source": [
    "## Scrape and save resolution list for each session"
   ]
  },
  {
   "cell_type": "code",
   "execution_count": null,
   "metadata": {
    "collapsed": false
   },
   "outputs": [],
   "source": [
    "for i in range(1,72):\n",
    "    print i,\n",
    "    try:\n",
    "        pd.read_html('https://www.un.org/depts/dhl/resguide/r'+str(i)+'_resolutions_table_en.htm',skiprows=1,header=0)[0].to_excel('res/'+str(i)+'en.xlsx')\n",
    "    except:\n",
    "        try:\n",
    "            pd.read_html('https://www.un.org/depts/dhl/resguide/r'+str(i)+'_resolutions_table_eng.htm',skiprows=1,header=0)[0].to_excel('res/'+str(i)+'eng.xlsx')\n",
    "        except:\n",
    "            print 'ERROR',i"
   ]
  },
  {
   "cell_type": "markdown",
   "metadata": {},
   "source": [
    "## Download individual resolutions"
   ]
  },
  {
   "cell_type": "code",
   "execution_count": 2,
   "metadata": {
    "collapsed": false
   },
   "outputs": [],
   "source": [
    "from os import listdir\n",
    "from os.path import isfile, join\n",
    "onlyfiles = [f for f in listdir(datapath+'pdf/') if isfile(join(datapath+'pdf/', f))]\n",
    "links=[i[i.find('_')+1:i.rfind('_')].replace('-','/') for i in onlyfiles]\n",
    "errors=[]"
   ]
  },
  {
   "cell_type": "markdown",
   "metadata": {},
   "source": [
    "#### PDF"
   ]
  },
  {
   "cell_type": "code",
   "execution_count": 15,
   "metadata": {
    "collapsed": false,
    "scrolled": true
   },
   "outputs": [],
   "source": [
    "#save progress\n",
    "file(\"links.json\",'w').write(json.dumps(links))\n",
    "file(\"errors.json\",'w').write(json.dumps(list(set(errors))))\n",
    "verbose=False\n",
    "br=False\n",
    "#parse new entries\n",
    "for i in range(1,72):\n",
    "    if verbose:print 'Session',i\n",
    "    #load session file\n",
    "    try: \n",
    "        df=pd.read_excel('res/'+str(i)+'en.xlsx')\n",
    "    except:\n",
    "        try:\n",
    "            df=pd.read_excel('res/'+str(i)+'eng.xlsx')\n",
    "        except:\n",
    "            print 'ERROR',i\n",
    "    #for all resolutions in that session\n",
    "    for v in range(len(df[df.columns[0]].values)):\n",
    "        if str(df[df.columns[0]].values[v]).lower()!='nan':\n",
    "            j=df[df.columns[0]].values[v].replace(' ','')\n",
    "            #formatting functions - UN filing conventions and taxonomies changed over time\n",
    "            if ')' in j: j=j[:j.find(')')+1]\n",
    "            for ii in range(5):\n",
    "                if j[-1].isalpha():j=j[:-1]\n",
    "                if j[-1] in {' ','-'}:j=j[:-1]\n",
    "\n",
    "            if j not in links+errors:\n",
    "                if verbose: print 'Resolution',j\n",
    "                else: print j,\n",
    "                try:\n",
    "                    url='http://daccess-ods.un.org/'\n",
    "                    link2='access.nsf/Get?Open&DS='+str(j)+'&Lang=E'\n",
    "                    meta=requests.get(url+link2).content\n",
    "                    #get temporary redirect link - 1st redirect\n",
    "                    redir=meta[meta.find('URL')+5:meta.find('.html')]\n",
    "                    if verbose:print url+redir+'.html'\n",
    "                    meta2=requests.get(url+redir+'.html').content\n",
    "                    #get pdf link - 2nd redirect\n",
    "                    redir2=meta2[meta2.find('URL')+9:meta2.find('.pdf')]\n",
    "                    #capture cookies\n",
    "                    s = requests.Session()\n",
    "                    cookielink=meta2[meta2.find('src')+5:meta2.find('Password=1234')+13]\n",
    "                    cookiesopen = s.get(cookielink)\n",
    "                    cookies=str(s.cookies)\n",
    "                    fcookies=[[k[:k.find('=')],k[k.find('=')+1:k.find(' for ')]] for k in cookies[cookies.find('Cookie '):].split('Cookie ')[1:]]\n",
    "                    if verbose:print 'http'+redir2+'.pdf'\n",
    "                    #push cookies\n",
    "                    opener = urllib2.build_opener()\n",
    "                    for k in fcookies:\n",
    "                        opener.addheaders.append(('Cookie', k[0]+'='+k[1]))\n",
    "                    #open and save pdf\n",
    "                    with open(datapath+\"pdf/\"+str(i)+\"_\"+str(j).replace('/','-')+\"_\"+redir2[redir2.rfind('/')+1:]+'.pdf', \"wb\") as code:\n",
    "                        code.write(opener.open('http'+redir2+'.pdf?OpenElement').read())\n",
    "                    code.close()\n",
    "                    links.append(j)\n",
    "                except:\n",
    "                    errors.append(j)\n",
    "                    #raise ValueError('Format error',j)\n",
    "                    print 'error',j"
   ]
  },
  {
   "cell_type": "code",
   "execution_count": 16,
   "metadata": {
    "collapsed": true
   },
   "outputs": [],
   "source": [
    "file(\"links.json\",'w').write(json.dumps(links))\n",
    "file(\"errors.json\",'w').write(json.dumps(list(set(errors))))"
   ]
  },
  {
   "cell_type": "markdown",
   "metadata": {},
   "source": [
    "#### DOC"
   ]
  },
  {
   "cell_type": "code",
   "execution_count": 8,
   "metadata": {
    "collapsed": true
   },
   "outputs": [],
   "source": [
    "onlyfiles2 = [f for f in listdir(datapath+'doc/') if isfile(join(datapath+'doc/', f))]\n",
    "links2=[i[i.find('_')+1:i.rfind('_')].replace('-','/') for i in onlyfiles2]\n",
    "errors2=[]"
   ]
  },
  {
   "cell_type": "code",
   "execution_count": 13,
   "metadata": {
    "collapsed": false,
    "scrolled": true
   },
   "outputs": [],
   "source": [
    "#save progress\n",
    "file(\"links2.json\",'w').write(json.dumps(links2))\n",
    "file(\"errors2.json\",'w').write(json.dumps(list(set(errors2))))\n",
    "verbose=False\n",
    "br=False\n",
    "#parse new entries\n",
    "for i in range(48,72): #no word docuemnts before session 48\n",
    "    if verbose:print 'Session',i\n",
    "    #load session file\n",
    "    try: \n",
    "        df=pd.read_excel('res/'+str(i)+'en.xlsx')\n",
    "    except:\n",
    "        try:\n",
    "            df=pd.read_excel('res/'+str(i)+'eng.xlsx')\n",
    "        except:\n",
    "            print 'ERROR',i\n",
    "    #for all resolutions in that session\n",
    "    for v in range(len(df[df.columns[0]].values)):\n",
    "        if str(df[df.columns[0]].values[v]).lower()!='nan':\n",
    "            j=df[df.columns[0]].values[v].replace(' ','')\n",
    "            #formatting functions - UN filing conventions and taxonomies changed over time\n",
    "            if ')' in j: j=j[:j.find(')')+1]\n",
    "            for ii in range(5):\n",
    "                if j[-1].isalpha():j=j[:-1]\n",
    "                if j[-1] in {' ','-'}:j=j[:-1]\n",
    "\n",
    "            if j not in links2+errors2:\n",
    "                if verbose: print 'Resolution',j\n",
    "                else: print j,\n",
    "                try:\n",
    "                    url='http://daccess-ods.un.org/'\n",
    "                    link2='access.nsf/Get?Open&DS='+str(j)+'&Lang=E'\n",
    "                    meta=requests.get(url+link2).content\n",
    "                    #get temporary redirect link - 1st redirect\n",
    "                    redir=meta[meta.find('URL')+5:meta.find('.html')]\n",
    "                    if verbose:print url+redir+'.html'\n",
    "                    meta2=requests.get(url+redir+'.html').content\n",
    "                    #get pdf link - 2nd redirect\n",
    "                    redir2=meta2[meta2.find('URL')+9:meta2.find('.pdf')]\n",
    "                    #capture cookies\n",
    "                    s = requests.Session()\n",
    "                    cookielink=meta2[meta2.find('src')+5:meta2.find('Password=1234')+13]\n",
    "                    cookiesopen = s.get(cookielink)\n",
    "                    cookies=str(s.cookies)\n",
    "                    fcookies=[[k[:k.find('=')],k[k.find('=')+1:k.find(' for ')]] for k in cookies[cookies.find('Cookie '):].split('Cookie ')[1:]]\n",
    "                    if verbose:print 'http'+redir2+'.pdf'\n",
    "                    #push cookies\n",
    "                    opener = urllib2.build_opener()\n",
    "                    for k in fcookies:\n",
    "                        opener.addheaders.append(('Cookie', k[0]+'='+k[1]))\n",
    "                    #open and save doc\n",
    "                    doclink='http://daccess-ods.un.org/access.nsf/GetFile?OpenAgent&DS='+str(j)+'&Lang=E&Type=DOC'\n",
    "                    stream=opener.open(doclink).read()\n",
    "                    if 'Error Handle in function SearchDS' not in stream:\n",
    "                        with open(datapath+\"doc/\"+str(i)+\"_\"+str(j).replace('/','-')+\"_\"+redir2[redir2.rfind('/')+1:]+'.doc', \"wb\") as code:\n",
    "                            code.write(stream)\n",
    "                        code.close()\n",
    "                    links2.append(j)\n",
    "                except:\n",
    "                    errors2.append(j)\n",
    "                    #raise ValueError('Format error',j)\n",
    "                    print 'error',j"
   ]
  },
  {
   "cell_type": "code",
   "execution_count": 14,
   "metadata": {
    "collapsed": true
   },
   "outputs": [],
   "source": [
    "file(\"links2.json\",'w').write(json.dumps(links2))\n",
    "file(\"errors2.json\",'w').write(json.dumps(list(set(errors2))))"
   ]
  },
  {
   "cell_type": "markdown",
   "metadata": {},
   "source": [
    "## Re-parse errors"
   ]
  },
  {
   "cell_type": "code",
   "execution_count": 47,
   "metadata": {
    "collapsed": true
   },
   "outputs": [],
   "source": [
    "genuinerrors=[]\n",
    "fixedlinks=[]\n",
    "verbose=True"
   ]
  },
  {
   "cell_type": "code",
   "execution_count": 48,
   "metadata": {
    "collapsed": false
   },
   "outputs": [
    {
     "name": "stdout",
     "output_type": "stream",
     "text": [
      "genuine error http://daccess-ods.un.org/access.nsf/Get?Open&DS=A/RES/35/220&Lang=E\n",
      "genuine error http://daccess-ods.un.org/access.nsf/Get?Open&DS=A/RES/37/235&Lang=E\n",
      "http://daccess-ods.un.org/TMP/9349543.45226288.html\n",
      "http://documents-dds-ny.un.org/doc/RESOLUTION/GEN/NR0/425/55/IMG/NR042555.pdf\n",
      "http://daccess-ods.un.org/TMP/2584508.95547867.html\n",
      "http://documents-dds-ny.un.org/doc/RESOLUTION/GEN/NR0/446/26/IMG/NR044626.pdf\n",
      "genuine error http://daccess-ods.un.org/access.nsf/Get?Open&DS=A/RES/38/183J*B108&Lang=E\n",
      "genuine error http://daccess-ods.un.org/access.nsf/Get?Open&DS=A/RES/47/54&Lang=E\n",
      "genuine error http://daccess-ods.un.org/access.nsf/Get?Open&DS=A/RES/48/230&Lang=E\n",
      "genuine error http://daccess-ods.un.org/access.nsf/Get?Open&DS=A/RES/50/125&Lang=E\n",
      "genuine error http://daccess-ods.un.org/access.nsf/Get?Open&DS=A/RES/53/203&Lang=E\n",
      "genuine error http://daccess-ods.un.org/access.nsf/Get?Open&DS=A/RES/54/250&Lang=E\n",
      "genuine error http://daccess-ods.un.org/access.nsf/Get?Open&DS=A/RES/54/247&Lang=E\n",
      "genuine error http://daccess-ods.un.org/access.nsf/Get?Open&DS=A/RES/54/237&Lang=E\n",
      "genuine error http://daccess-ods.un.org/access.nsf/Get?Open&DS=A/RES/54/96&Lang=E\n",
      "genuine error http://daccess-ods.un.org/access.nsf/Get?Open&DS=A/RES/55/239&Lang=E\n",
      "genuine error http://daccess-ods.un.org/access.nsf/Get?Open&DS=A/RES/56/254&Lang=E\n",
      "genuine error http://daccess-ods.un.org/access.nsf/Get?Open&DS=A/RES/56/220&Lang=E\n",
      "genuine error http://daccess-ods.un.org/access.nsf/Get?Open&DS=A/RES/57/293&Lang=E\n",
      "genuine error http://daccess-ods.un.org/access.nsf/Get?Open&DS=A/RES/57/287&Lang=E\n",
      "genuine error http://daccess-ods.un.org/access.nsf/Get?Open&DS=A/RES/57/284&Lang=E\n",
      "genuine error http://daccess-ods.un.org/access.nsf/Get?Open&DS=A/RES/57/138&Lang=E\n",
      "genuine error http://daccess-ods.un.org/access.nsf/Get?Open&DS=A/RES/57/130&Lang=E\n",
      "genuine error http://daccess-ods.un.org/access.nsf/Get?Open&DS=A/RES/57/113&Lang=E\n",
      "genuine error http://daccess-ods.un.org/access.nsf/Get?Open&DS=A/RES/58/271&Lang=E\n",
      "genuine error http://daccess-ods.un.org/access.nsf/Get?Open&DS=A/RES/58/267&Lang=E\n",
      "genuine error http://daccess-ods.un.org/access.nsf/Get?Open&DS=A/RES/58/108&Lang=E\n",
      "genuine error http://daccess-ods.un.org/access.nsf/Get?Open&DS=A/RES/58/27&Lang=E\n",
      "genuine error http://daccess-ods.un.org/access.nsf/Get?Open&DS=A/RES/59/277&Lang=E\n",
      "genuine error http://daccess-ods.un.org/access.nsf/Get?Open&DS=A/RES/59/134&Lang=E\n",
      "genuine error http://daccess-ods.un.org/access.nsf/Get?Open&DS=A/RES/59/126&Lang=E\n",
      "genuine error http://daccess-ods.un.org/access.nsf/Get?Open&DS=A/RES/59/112&Lang=E\n",
      "genuine error http://daccess-ods.un.org/access.nsf/Get?Open&DS=A/RES/60/247&Lang=E\n",
      "genuine error http://daccess-ods.un.org/access.nsf/Get?Open&DS=A/RES/60/245&Lang=E\n",
      "genuine error http://daccess-ods.un.org/access.nsf/Get?Open&DS=>A/RES/60/244&Lang=E\n",
      "genuine error http://daccess-ods.un.org/access.nsf/Get?Open&DS=A/RES/60/109&Lang=E\n",
      "genuine error http://daccess-ods.un.org/access.nsf/Get?Open&DS=A/RES/60/32&Lang=E\n",
      "genuine error http://daccess-ods.un.org/access.nsf/Get?Open&DS=A/RES/61/128&Lang=E\n",
      "genuine error http://daccess-ods.un.org/access.nsf/Get?Open&DS=A/RES/62/237&Lang=E\n",
      "genuine error http://daccess-ods.un.org/access.nsf/Get?Open&DS=A/RES/62/118&Lang=E\n",
      "genuine error http://daccess-ods.un.org/access.nsf/Get?Open&DS=A/RES/62/111&Lang=E\n",
      "genuine error http://daccess-ods.un.org/access.nsf/Get?Open&DS=A/RES/63/264&Lang=E\n",
      "genuine error http://daccess-ods.un.org/access.nsf/Get?Open&DS=A/RES/63/108&Lang=E\n",
      "genuine error http://daccess-ods.un.org/access.nsf/Get?Open&DS=A/RES/63/100&Lang=E\n",
      "genuine error http://daccess-ods.un.org/access.nsf/Get?Open&DS=A/RES/64/244&Lang=E\n",
      "genuine error http://daccess-ods.un.org/access.nsf/Get?Open&DS=A/RES/64/242&Lang=E\n",
      "genuine error http://daccess-ods.un.org/access.nsf/Get?Open&DS=AA/RES/65/303&Lang=E\n",
      "genuine error http://daccess-ods.un.org/access.nsf/Get?Open&DS=AA/RES/65/300&Lang=E\n",
      "genuine error http://daccess-ods.un.org/access.nsf/Get?Open&DS=AA/RES/65/256&Lang=E\n",
      "genuine error http://daccess-ods.un.org/access.nsf/Get?Open&DS=A/RES/65/115&Lang=E\n",
      "genuine error http://daccess-ods.un.org/access.nsf/Get?Open&DS=A/RES/66/248&Lang=E\n",
      "genuine error http://daccess-ods.un.org/access.nsf/Get?Open&DS=A/RES/66/245&Lang=E\n",
      "genuine error http://daccess-ods.un.org/access.nsf/Get?Open&DS=A/RES/66/1&Lang=E\n",
      "genuine error http://daccess-ods.un.org/access.nsf/Get?Open&DS=A/RES/67/247&Lang=E\n",
      "genuine error http://daccess-ods.un.org/access.nsf/Get?Open&DS=A/RES/68/248&Lang=E\n",
      "genuine error http://daccess-ods.un.org/access.nsf/Get?Open&DS=A/RES/68/245&Lang=E\n",
      "genuine error http://daccess-ods.un.org/access.nsf/Get?Open&DS=A/RES/68/107&Lang=E\n",
      "genuine error http://daccess-ods.un.org/access.nsf/Get?Open&DS=A/RES/68/95&Lang=E\n",
      "genuine error http://daccess-ods.un.org/access.nsf/Get?Open&DS=A/RES/68/86&Lang=E\n",
      "genuine error http://daccess-ods.un.org/access.nsf/Get?Open&DS=A/RES/69/263&Lang=E\n",
      "genuine error http://daccess-ods.un.org/access.nsf/Get?Open&DS=A/70/PV.7514December2015GA/11740Wi&Lang=E\n",
      "genuine error http://daccess-ods.un.org/access.nsf/Get?Open&DS=A/RES/70/93&Lang=E\n",
      "genuine error http://daccess-ods.un.org/access.nsf/Get?Open&DS=A/RES/71/273&Lang=E\n",
      "genuine error http://daccess-ods.un.org/access.nsf/Get?Open&DS=A/RES/71/164&Lang=E\n",
      "genuine error http://daccess-ods.un.org/access.nsf/Get?Open&DS=A/RES/71/101&Lang=E\n"
     ]
    }
   ],
   "source": [
    "for i in errors:\n",
    "    j=i.replace('{','')\n",
    "    for ii in range(5):\n",
    "        if j[-1].isalpha():j=j[:-1]\n",
    "        if j[-1] in {' ','-'}:j=j[:-1]\n",
    "    if j not in genuinerrors+fixedlinks:\n",
    "        url='http://daccess-ods.un.org/'\n",
    "        link2='access.nsf/Get?Open&DS='+str(j)+'&Lang=E'\n",
    "        meta=requests.get(url+link2).content\n",
    "        if 'There is no document matching your request' in meta:\n",
    "            genuinerrors.append(j)\n",
    "            if verbose: print 'genuine error',url+link2\n",
    "        elif 'This document is under EMBARGO' in meta:\n",
    "            genuinerrors.append(j)\n",
    "            if verbose: print 'genuine error',url+link2\n",
    "        else:\n",
    "            #get temporary redirect link - 1st redirect\n",
    "            redir=meta[meta.find('URL')+5:meta.find('.html')]\n",
    "            if verbose:print url+redir+'.html'\n",
    "            meta2=requests.get(url+redir+'.html').content\n",
    "            #get pdf link - 2nd redirect\n",
    "            redir2=meta2[meta2.find('URL')+9:meta2.find('.pdf')]\n",
    "            #capture cookies\n",
    "            s = requests.Session()\n",
    "            cookielink=meta2[meta2.find('src')+5:meta2.find('Password=1234')+13]\n",
    "            cookiesopen = s.get(cookielink)\n",
    "            cookies=str(s.cookies)\n",
    "            fcookies=[[k[:k.find('=')],k[k.find('=')+1:k.find(' for ')]] for k in cookies[cookies.find('Cookie '):].split('Cookie ')[1:]]\n",
    "            if verbose:print 'http'+redir2+'.pdf'\n",
    "            #push cookies\n",
    "            opener = urllib2.build_opener()\n",
    "            for k in fcookies:\n",
    "                opener.addheaders.append(('Cookie', k[0]+'='+k[1]))\n",
    "            #open and save pdf\n",
    "            with open(datapath+\"pdf/\"+j[j.find('RES')+4:][:2]+\"_\"+str(j).replace('/','-')+\"_\"+redir2[redir2.rfind('/')+1:]+'.pdf', \"wb\") as code:\n",
    "                code.write(opener.open('http'+redir2+'.pdf?OpenElement').read())\n",
    "            code.close()\n",
    "            fixedlinks.append(j)"
   ]
  },
  {
   "cell_type": "code",
   "execution_count": 62,
   "metadata": {
    "collapsed": true
   },
   "outputs": [],
   "source": [
    "genuinerrors2=[]\n",
    "fixedlinks2=[]"
   ]
  },
  {
   "cell_type": "code",
   "execution_count": 63,
   "metadata": {
    "collapsed": false
   },
   "outputs": [
    {
     "name": "stdout",
     "output_type": "stream",
     "text": [
      "genuine error http://daccess-ods.un.org/access.nsf/Get?Open&DS=A/RES/48/230&Lang=E\n",
      "genuine error http://daccess-ods.un.org/access.nsf/Get?Open&DS=A/RES/50/125&Lang=E\n",
      "genuine error http://daccess-ods.un.org/access.nsf/Get?Open&DS=A/RES/53/203&Lang=E\n",
      "genuine error http://daccess-ods.un.org/access.nsf/Get?Open&DS=A/RES/54/250&Lang=E\n",
      "genuine error http://daccess-ods.un.org/access.nsf/Get?Open&DS=A/RES/54/247&Lang=E\n",
      "genuine error http://daccess-ods.un.org/access.nsf/Get?Open&DS=A/RES/54/237&Lang=E\n",
      "genuine error http://daccess-ods.un.org/access.nsf/Get?Open&DS=A/RES/54/96&Lang=E\n",
      "genuine error http://daccess-ods.un.org/access.nsf/Get?Open&DS=A/RES/55/239&Lang=E\n",
      "genuine error http://daccess-ods.un.org/access.nsf/Get?Open&DS=A/RES/56/254&Lang=E\n",
      "genuine error http://daccess-ods.un.org/access.nsf/Get?Open&DS=A/RES/56/220&Lang=E\n",
      "genuine error http://daccess-ods.un.org/access.nsf/Get?Open&DS=A/RES/57/293&Lang=E\n",
      "genuine error http://daccess-ods.un.org/access.nsf/Get?Open&DS=A/RES/57/287&Lang=E\n",
      "genuine error http://daccess-ods.un.org/access.nsf/Get?Open&DS=A/RES/57/284&Lang=E\n",
      "genuine error http://daccess-ods.un.org/access.nsf/Get?Open&DS=A/RES/57/138&Lang=E\n",
      "genuine error http://daccess-ods.un.org/access.nsf/Get?Open&DS=A/RES/57/130&Lang=E\n",
      "genuine error http://daccess-ods.un.org/access.nsf/Get?Open&DS=A/RES/57/113&Lang=E\n",
      "genuine error http://daccess-ods.un.org/access.nsf/Get?Open&DS=A/RES/58/271&Lang=E\n",
      "genuine error http://daccess-ods.un.org/access.nsf/Get?Open&DS=A/RES/58/267&Lang=E\n",
      "genuine error http://daccess-ods.un.org/access.nsf/Get?Open&DS=A/RES/58/108&Lang=E\n",
      "genuine error http://daccess-ods.un.org/access.nsf/Get?Open&DS=A/RES/58/27&Lang=E\n",
      "genuine error http://daccess-ods.un.org/access.nsf/Get?Open&DS=A/RES/59/277&Lang=E\n",
      "genuine error http://daccess-ods.un.org/access.nsf/Get?Open&DS=A/RES/59/134&Lang=E\n",
      "genuine error http://daccess-ods.un.org/access.nsf/Get?Open&DS=A/RES/59/126&Lang=E\n",
      "genuine error http://daccess-ods.un.org/access.nsf/Get?Open&DS=A/RES/59/112&Lang=E\n",
      "genuine error http://daccess-ods.un.org/access.nsf/Get?Open&DS=A/RES/60/247&Lang=E\n",
      "genuine error http://daccess-ods.un.org/access.nsf/Get?Open&DS=A/RES/60/245&Lang=E\n",
      "genuine error http://daccess-ods.un.org/access.nsf/Get?Open&DS=>A/RES/60/244&Lang=E\n",
      "genuine error http://daccess-ods.un.org/access.nsf/Get?Open&DS=A/RES/60/109&Lang=E\n",
      "genuine error http://daccess-ods.un.org/access.nsf/Get?Open&DS=A/RES/60/32&Lang=E\n",
      "genuine error http://daccess-ods.un.org/access.nsf/Get?Open&DS=A/RES/61/128&Lang=E\n",
      "genuine error http://daccess-ods.un.org/access.nsf/Get?Open&DS=A/RES/62/237&Lang=E\n",
      "genuine error http://daccess-ods.un.org/access.nsf/Get?Open&DS=A/RES/62/118&Lang=E\n",
      "genuine error http://daccess-ods.un.org/access.nsf/Get?Open&DS=A/RES/62/111&Lang=E\n",
      "genuine error http://daccess-ods.un.org/access.nsf/Get?Open&DS=A/RES/63/264&Lang=E\n",
      "genuine error http://daccess-ods.un.org/access.nsf/Get?Open&DS=A/RES/63/108&Lang=E\n",
      "genuine error http://daccess-ods.un.org/access.nsf/Get?Open&DS=A/RES/63/100&Lang=E\n",
      "genuine error http://daccess-ods.un.org/access.nsf/Get?Open&DS=A/RES/64/244&Lang=E\n",
      "genuine error http://daccess-ods.un.org/access.nsf/Get?Open&DS=A/RES/64/242&Lang=E\n",
      "genuine error http://daccess-ods.un.org/access.nsf/Get?Open&DS=AA/RES/65/303&Lang=E\n",
      "genuine error http://daccess-ods.un.org/access.nsf/Get?Open&DS=AA/RES/65/300&Lang=E\n",
      "genuine error http://daccess-ods.un.org/access.nsf/Get?Open&DS=AA/RES/65/256&Lang=E\n",
      "genuine error http://daccess-ods.un.org/access.nsf/Get?Open&DS=A/RES/65/115&Lang=E\n",
      "genuine error http://daccess-ods.un.org/access.nsf/Get?Open&DS=A/RES/66/248&Lang=E\n",
      "genuine error http://daccess-ods.un.org/access.nsf/Get?Open&DS=A/RES/66/245&Lang=E\n",
      "genuine error http://daccess-ods.un.org/access.nsf/Get?Open&DS=A/RES/66/1&Lang=E\n",
      "genuine error http://daccess-ods.un.org/access.nsf/Get?Open&DS=A/RES/67/247&Lang=E\n",
      "genuine error http://daccess-ods.un.org/access.nsf/Get?Open&DS=A/RES/68/248&Lang=E\n",
      "genuine error http://daccess-ods.un.org/access.nsf/Get?Open&DS=A/RES/68/245&Lang=E\n",
      "genuine error http://daccess-ods.un.org/access.nsf/Get?Open&DS=A/RES/68/107&Lang=E\n",
      "genuine error http://daccess-ods.un.org/access.nsf/Get?Open&DS=A/RES/68/95&Lang=E\n",
      "genuine error http://daccess-ods.un.org/access.nsf/Get?Open&DS=A/RES/68/86&Lang=E\n",
      "genuine error http://daccess-ods.un.org/access.nsf/Get?Open&DS=A/RES/69/263&Lang=E\n",
      "genuine error http://daccess-ods.un.org/access.nsf/Get?Open&DS=A/70/PV.7514December2015GA/11740Wi&Lang=E\n",
      "genuine error http://daccess-ods.un.org/access.nsf/Get?Open&DS=A/RES/70/93&Lang=E\n",
      "genuine error http://daccess-ods.un.org/access.nsf/Get?Open&DS=A/RES/71/273&Lang=E\n",
      "genuine error http://daccess-ods.un.org/access.nsf/Get?Open&DS=A/RES/71/164&Lang=E\n",
      "genuine error http://daccess-ods.un.org/access.nsf/Get?Open&DS=A/RES/71/101&Lang=E\n"
     ]
    }
   ],
   "source": [
    "for i in errors2:\n",
    "    j=i.replace('{','')\n",
    "    for ii in range(5):\n",
    "        if j[-1].isalpha():j=j[:-1]\n",
    "        if j[-1] in {' ','-'}:j=j[:-1]\n",
    "    if j not in genuinerrors2+fixedlinks2:\n",
    "        url='http://daccess-ods.un.org/'\n",
    "        link2='access.nsf/Get?Open&DS='+str(j)+'&Lang=E'\n",
    "        meta=requests.get(url+link2).content\n",
    "        if 'There is no document matching your request' in meta:\n",
    "            genuinerrors2.append(j)\n",
    "            if verbose: print 'genuine error',url+link2\n",
    "        elif 'This document is under EMBARGO' in meta:\n",
    "            genuinerrors2.append(j)\n",
    "            if verbose: print 'genuine error',url+link2\n",
    "        else:\n",
    "            #get temporary redirect link - 1st redirect\n",
    "            redir=meta[meta.find('URL')+5:meta.find('.html')]\n",
    "            if verbose:print url+redir+'.html'\n",
    "            meta2=requests.get(url+redir+'.html').content\n",
    "            #get pdf link - 2nd redirect\n",
    "            redir2=meta2[meta2.find('URL')+9:meta2.find('.pdf')]\n",
    "            #capture cookies\n",
    "            s = requests.Session()\n",
    "            cookielink=meta2[meta2.find('src')+5:meta2.find('Password=1234')+13]\n",
    "            cookiesopen = s.get(cookielink)\n",
    "            cookies=str(s.cookies)\n",
    "            fcookies=[[k[:k.find('=')],k[k.find('=')+1:k.find(' for ')]] for k in cookies[cookies.find('Cookie '):].split('Cookie ')[1:]]\n",
    "            if verbose:print 'http'+redir2+'.pdf'\n",
    "            #push cookies\n",
    "            opener = urllib2.build_opener()\n",
    "            for k in fcookies:\n",
    "                opener.addheaders.append(('Cookie', k[0]+'='+k[1]))\n",
    "            if 'Error Handle in function SearchDS' not in stream:\n",
    "                    with open(datapath+\"doc/\"+j[j.find('RES')+4:][:2]+\"_\"+str(j).replace('/','-')+\"_\"+redir2[redir2.rfind('/')+1:]+'.doc', \"wb\") as code:\n",
    "                        code.write(stream)\n",
    "                    code.close()\n",
    "            fixedlinks2.append(j)"
   ]
  }
 ],
 "metadata": {
  "anaconda-cloud": {},
  "kernelspec": {
   "display_name": "Python [conda root]",
   "language": "python",
   "name": "conda-root-py"
  },
  "language_info": {
   "codemirror_mode": {
    "name": "ipython",
    "version": 2
   },
   "file_extension": ".py",
   "mimetype": "text/x-python",
   "name": "python",
   "nbconvert_exporter": "python",
   "pygments_lexer": "ipython2",
   "version": "2.7.12"
  }
 },
 "nbformat": 4,
 "nbformat_minor": 1
}
