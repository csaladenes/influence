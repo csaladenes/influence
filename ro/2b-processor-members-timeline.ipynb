{
 "cells": [
  {
   "cell_type": "code",
   "execution_count": 149,
   "metadata": {
    "ExecuteTime": {
     "end_time": "2019-03-07T02:56:32.521682Z",
     "start_time": "2019-03-07T02:56:26.288106Z"
    }
   },
   "outputs": [],
   "source": [
    "import pandas as pd, numpy as np, json, os"
   ]
  },
  {
   "cell_type": "code",
   "execution_count": 150,
   "metadata": {},
   "outputs": [],
   "source": [
    "#os.chdir('E:/Onedrive - Lancaster University/datarepo/influence/ro')\n",
    "os.chdir('C:/users/csala/Onedrive - Lancaster University/datarepo/influence/ro')"
   ]
  },
  {
   "cell_type": "code",
   "execution_count": 151,
   "metadata": {},
   "outputs": [],
   "source": [
    "nmembers=json.loads(open('data/nmembers.json','r').read())"
   ]
  },
  {
   "cell_type": "code",
   "execution_count": 152,
   "metadata": {},
   "outputs": [],
   "source": [
    "img=json.loads(open('data/img.json','r').read())"
   ]
  },
  {
   "cell_type": "code",
   "execution_count": 153,
   "metadata": {},
   "outputs": [],
   "source": [
    "deaths=json.loads(open('data/deaths.json','r').read())"
   ]
  },
  {
   "cell_type": "code",
   "execution_count": 154,
   "metadata": {},
   "outputs": [],
   "source": [
    "#os.chdir('E:/Skydrive/Github/influence/ro')\n",
    "os.chdir('C:/users/csala/Onedrive/Github/influence/ro')"
   ]
  },
  {
   "cell_type": "code",
   "execution_count": 155,
   "metadata": {},
   "outputs": [],
   "source": [
    "legs={'2016':['2016-12-21','2019-07-01'],\n",
    "'2012':['2012-12-20','2016-12-21'],\n",
    "'2008':['2008-12-19','2012-12-20'],\n",
    "'2004':['2004-12-19','2008-12-13'],\n",
    "'2000':['2000-12-15','2004-11-30'],\n",
    "'1996':['1996-11-27','2000-11-30'],\n",
    "'1992':['1992-10-28','1996-11-22'],\n",
    "'1990':['1990-06-19','1992-10-16']}"
   ]
  },
  {
   "cell_type": "code",
   "execution_count": 158,
   "metadata": {},
   "outputs": [],
   "source": [
    "import altair as alt"
   ]
  },
  {
   "cell_type": "code",
   "execution_count": 159,
   "metadata": {},
   "outputs": [],
   "source": [
    "from colorthief import ColorThief\n",
    "import requests"
   ]
  },
  {
   "cell_type": "code",
   "execution_count": 160,
   "metadata": {},
   "outputs": [],
   "source": [
    "party_imgs={}\n",
    "for p in img['party']:\n",
    "    i=img['party'][p]['img']\n",
    "    try: \n",
    "        color_thief = ColorThief('img/'+p.lower()+'.png')\n",
    "        rgb_color=color_thief.get_color(quality=1)        \n",
    "        z='#%02x%02x%02x' % rgb_color\n",
    "    except:\n",
    "        try:\n",
    "            color_thief = ColorThief('img/'+p.lower()+'.jpg')\n",
    "            rgb_color=color_thief.get_color(quality=1)        \n",
    "            z='#%02x%02x%02x' % rgb_color\n",
    "        except:\n",
    "            z='grey'  \n",
    "    party_imgs[p]=z"
   ]
  },
  {
   "cell_type": "code",
   "execution_count": 161,
   "metadata": {},
   "outputs": [],
   "source": [
    "party_imgs['UDMR']='green'\n",
    "party_imgs['RMDSZ']='green'\n",
    "party_imgs['PNL']='#f4d42c'\n",
    "party_imgs['ALDE']='#046cab'"
   ]
  },
  {
   "cell_type": "code",
   "execution_count": 162,
   "metadata": {},
   "outputs": [],
   "source": [
    "colors=pd.DataFrame(party_imgs,index=['Color']).T"
   ]
  },
  {
   "cell_type": "code",
   "execution_count": 163,
   "metadata": {},
   "outputs": [
    {
     "name": "stdout",
     "output_type": "stream",
     "text": [
      "\"PUR-SL\":\"grey\",\n",
      "\"PC\":\"#96c2f2\",\n",
      "\"PSD\":\"#dc2c24\",\n",
      "\"PUNR\":\"grey\",\n",
      "\"PDL\":\"grey\",\n",
      "\"PNL\":\"#f4d42c\",\n",
      "\"PP-DD\":\"#d7c9e0\",\n",
      "\"FSN\":\"grey\",\n",
      "\"PDSR\":\"#ebedf1\",\n",
      "\"PNTCD\":\"#04843c\",\n",
      "\"PRM\":\"#0d5ca4\",\n",
      "\"PD\":\"grey\",\n",
      "\"UDMR\":\"green\",\n",
      "\"PAC\":\"grey\",\n",
      "\"PER\":\"grey\",\n",
      "\"PMP\":\"#0484cc\",\n",
      "\"USR\":\"#04abe4\",\n",
      "\"UNPR\":\"#a8190f\",\n",
      "\"FDSN\":\"grey\",\n",
      "\"FER\":\"grey\",\n",
      "\"PSM\":\"grey\",\n",
      "\"PNL-CD\":\"grey\",\n",
      "\"ALDE\":\"#046cab\",\n",
      "\"FC\":\"#1d7aad\",\n",
      "\"PL'93\":\"grey\",\n",
      "\"PDAR\":\"grey\",\n",
      "\"Fără adeziune la formaţiunea politică pentru care a candidat la alegeri\":\"grey\",\n",
      "\"MER\":\"grey\",\n",
      "\"AUR\":\"grey\",\n",
      "\"PSDR\":\"#2e2f26\",\n",
      "\"GDC\":\"grey\",\n",
      "\"PAR\":\"grey\",\n",
      "\"PLS\":\"grey\",\n",
      "\"ULB\":\"grey\",\n",
      "\"PRNR\":\"grey\",\n",
      "\"PNL-AT\":\"grey\",\n",
      "\"PDM\":\"grey\",\n",
      "\"PTLDR\":\"grey\",\n",
      "\"Minorități\":\"#eeeeee\",\n",
      "\"Independent\":\"#eeeeee\",\n",
      "\"RMDSZ\":\"green\",\n"
     ]
    }
   ],
   "source": [
    "plinks={}\n",
    "for i in colors.index:\n",
    "    print('\"'+i+'\":\"'+colors.loc[i]['Color']+'\",')\n",
    "    plinks[i]='https://influence.csaladen.es/ro/img/'+i.lower()+'.png'"
   ]
  },
  {
   "cell_type": "markdown",
   "metadata": {},
   "source": [
    "Members"
   ]
  },
  {
   "cell_type": "code",
   "execution_count": 164,
   "metadata": {},
   "outputs": [],
   "source": [
    "szen=['🔼 Szenátus','🔽 Képviselőház']\n",
    "szen2=['Senat','Camera Deputaților']"
   ]
  },
  {
   "cell_type": "code",
   "execution_count": 165,
   "metadata": {},
   "outputs": [],
   "source": [
    "istart=legs['1990'][0]\n",
    "iend=legs['2016'][1]"
   ]
  },
  {
   "cell_type": "code",
   "execution_count": 166,
   "metadata": {},
   "outputs": [],
   "source": [
    "m=nmembers['Popescu-Tariceanu Calin Constantin Anton | 1952-01-14']\n",
    "data=[]\n",
    "for p in m['Parties']:\n",
    "    start=pd.to_datetime(p['start'])\n",
    "    end=pd.to_datetime(p['end'])    \n",
    "    d={}\n",
    "    d['Name']=m['Name']['full']\n",
    "    d['Csoportok']=p['party']\n",
    "    d['Típus']='Párt'\n",
    "    d['start']=start\n",
    "    d['end']=end\n",
    "    d['duration']=pd.to_timedelta(end-start).days\n",
    "    data.append(d)\n",
    "    d=dict(d)\n",
    "    d['Csoportok']=p['judet']\n",
    "    d['Típus']='Megye'\n",
    "    data.append(d)\n",
    "for p in m['Countries']:\n",
    "    start=pd.to_datetime(p['start'])\n",
    "    end=pd.to_datetime(p['end'])    \n",
    "    d={}\n",
    "    d['Name']=m['Name']['full']\n",
    "    d['Csoportok']=p['country']\n",
    "    d['Típus']='Ország'\n",
    "    d['start']=start\n",
    "    d['end']=end\n",
    "    d['duration']=pd.to_timedelta(end-start).days\n",
    "    data.append(d)\n",
    "for p in m['Groups']:\n",
    "    start=pd.to_datetime(p['start'])\n",
    "    end=pd.to_datetime(p['end'])    \n",
    "    d={}\n",
    "    d['Name']=m['Name']['full']\n",
    "    d['Csoportok']=p['group'].replace('Comisia pentru','').replace('Comisia','').strip().capitalize()\n",
    "    d['Típus']='Bizottság'\n",
    "    d['start']=start\n",
    "    d['end']=end\n",
    "    d['duration']=pd.to_timedelta(end-start).days\n",
    "    data.append(d)\n",
    "for p in m['Link']:\n",
    "    start=pd.to_datetime(legs[p[-10:-6]][0])\n",
    "    end=pd.to_datetime(legs[p[-10:-6]][1])    \n",
    "    d={}\n",
    "    d['Name']=m['Name']['full']\n",
    "    d['Csoportok']=szen2[int(p[-1])-1]\n",
    "    d['Típus']='Kamara'\n",
    "    d['start']=start\n",
    "    d['end']=end\n",
    "    d['duration']=pd.to_timedelta(end-start).days\n",
    "    data.append(d)\n",
    "ef=pd.DataFrame(data)\n",
    "eord=ef.groupby('Típus').sum()\n",
    "eord['duration']=[1,60,30,4,50]\n",
    "eord.columns=['order']\n",
    "ef=ef.set_index('Típus').join(eord).reset_index()"
   ]
  },
  {
   "cell_type": "code",
   "execution_count": 167,
   "metadata": {},
   "outputs": [
    {
     "data": {
      "text/html": [
       "<div>\n",
       "<style scoped>\n",
       "    .dataframe tbody tr th:only-of-type {\n",
       "        vertical-align: middle;\n",
       "    }\n",
       "\n",
       "    .dataframe tbody tr th {\n",
       "        vertical-align: top;\n",
       "    }\n",
       "\n",
       "    .dataframe thead th {\n",
       "        text-align: right;\n",
       "    }\n",
       "</style>\n",
       "<table border=\"1\" class=\"dataframe\">\n",
       "  <thead>\n",
       "    <tr style=\"text-align: right;\">\n",
       "      <th></th>\n",
       "      <th>Típus</th>\n",
       "      <th>Csoportok</th>\n",
       "      <th>Name</th>\n",
       "      <th>duration</th>\n",
       "      <th>end</th>\n",
       "      <th>start</th>\n",
       "      <th>order</th>\n",
       "    </tr>\n",
       "  </thead>\n",
       "  <tbody>\n",
       "    <tr>\n",
       "      <th>0</th>\n",
       "      <td>Bizottság</td>\n",
       "      <td>Politică externă</td>\n",
       "      <td>Călin Constantin Anton POPESCU-TĂRICEANU</td>\n",
       "      <td>1462</td>\n",
       "      <td>2012-12-20</td>\n",
       "      <td>2008-12-19</td>\n",
       "      <td>1</td>\n",
       "    </tr>\n",
       "    <tr>\n",
       "      <th>1</th>\n",
       "      <td>Bizottság</td>\n",
       "      <td>Economică</td>\n",
       "      <td>Călin Constantin Anton POPESCU-TĂRICEANU</td>\n",
       "      <td>850</td>\n",
       "      <td>1992-10-16</td>\n",
       "      <td>1990-06-19</td>\n",
       "      <td>1</td>\n",
       "    </tr>\n",
       "    <tr>\n",
       "      <th>2</th>\n",
       "      <td>Bizottság</td>\n",
       "      <td>Învăţământ, ştiinţă, tineret, sport</td>\n",
       "      <td>Călin Constantin Anton POPESCU-TĂRICEANU</td>\n",
       "      <td>850</td>\n",
       "      <td>1992-10-16</td>\n",
       "      <td>1990-06-19</td>\n",
       "      <td>1</td>\n",
       "    </tr>\n",
       "    <tr>\n",
       "      <th>3</th>\n",
       "      <td>Bizottság</td>\n",
       "      <td>Politică economică, reformă şi privatizare</td>\n",
       "      <td>Călin Constantin Anton POPESCU-TĂRICEANU</td>\n",
       "      <td>1464</td>\n",
       "      <td>2000-11-30</td>\n",
       "      <td>1996-11-27</td>\n",
       "      <td>1</td>\n",
       "    </tr>\n",
       "    <tr>\n",
       "      <th>4</th>\n",
       "      <td>Bizottság</td>\n",
       "      <td>Drepturile omului, culte şi problemele minorit...</td>\n",
       "      <td>Călin Constantin Anton POPESCU-TĂRICEANU</td>\n",
       "      <td>1455</td>\n",
       "      <td>2008-12-13</td>\n",
       "      <td>2004-12-19</td>\n",
       "      <td>1</td>\n",
       "    </tr>\n",
       "    <tr>\n",
       "      <th>5</th>\n",
       "      <td>Bizottság</td>\n",
       "      <td>Politică externă</td>\n",
       "      <td>Călin Constantin Anton POPESCU-TĂRICEANU</td>\n",
       "      <td>436</td>\n",
       "      <td>2014-03-01</td>\n",
       "      <td>2012-12-20</td>\n",
       "      <td>1</td>\n",
       "    </tr>\n",
       "    <tr>\n",
       "      <th>6</th>\n",
       "      <td>Bizottság</td>\n",
       "      <td>Buget, finanţe şi bănci</td>\n",
       "      <td>Călin Constantin Anton POPESCU-TĂRICEANU</td>\n",
       "      <td>1446</td>\n",
       "      <td>2004-11-30</td>\n",
       "      <td>2000-12-15</td>\n",
       "      <td>1</td>\n",
       "    </tr>\n",
       "    <tr>\n",
       "      <th>7</th>\n",
       "      <td>Kamara</td>\n",
       "      <td>Camera Deputaților</td>\n",
       "      <td>Călin Constantin Anton POPESCU-TĂRICEANU</td>\n",
       "      <td>1462</td>\n",
       "      <td>2012-12-20</td>\n",
       "      <td>2008-12-19</td>\n",
       "      <td>60</td>\n",
       "    </tr>\n",
       "    <tr>\n",
       "      <th>8</th>\n",
       "      <td>Kamara</td>\n",
       "      <td>Camera Deputaților</td>\n",
       "      <td>Călin Constantin Anton POPESCU-TĂRICEANU</td>\n",
       "      <td>850</td>\n",
       "      <td>1992-10-16</td>\n",
       "      <td>1990-06-19</td>\n",
       "      <td>60</td>\n",
       "    </tr>\n",
       "    <tr>\n",
       "      <th>9</th>\n",
       "      <td>Kamara</td>\n",
       "      <td>Camera Deputaților</td>\n",
       "      <td>Călin Constantin Anton POPESCU-TĂRICEANU</td>\n",
       "      <td>1464</td>\n",
       "      <td>2000-11-30</td>\n",
       "      <td>1996-11-27</td>\n",
       "      <td>60</td>\n",
       "    </tr>\n",
       "    <tr>\n",
       "      <th>10</th>\n",
       "      <td>Kamara</td>\n",
       "      <td>Camera Deputaților</td>\n",
       "      <td>Călin Constantin Anton POPESCU-TĂRICEANU</td>\n",
       "      <td>1455</td>\n",
       "      <td>2008-12-13</td>\n",
       "      <td>2004-12-19</td>\n",
       "      <td>60</td>\n",
       "    </tr>\n",
       "    <tr>\n",
       "      <th>11</th>\n",
       "      <td>Kamara</td>\n",
       "      <td>Senat</td>\n",
       "      <td>Călin Constantin Anton POPESCU-TĂRICEANU</td>\n",
       "      <td>1462</td>\n",
       "      <td>2016-12-21</td>\n",
       "      <td>2012-12-20</td>\n",
       "      <td>60</td>\n",
       "    </tr>\n",
       "    <tr>\n",
       "      <th>12</th>\n",
       "      <td>Kamara</td>\n",
       "      <td>Camera Deputaților</td>\n",
       "      <td>Călin Constantin Anton POPESCU-TĂRICEANU</td>\n",
       "      <td>1446</td>\n",
       "      <td>2004-11-30</td>\n",
       "      <td>2000-12-15</td>\n",
       "      <td>60</td>\n",
       "    </tr>\n",
       "    <tr>\n",
       "      <th>13</th>\n",
       "      <td>Kamara</td>\n",
       "      <td>Senat</td>\n",
       "      <td>Călin Constantin Anton POPESCU-TĂRICEANU</td>\n",
       "      <td>922</td>\n",
       "      <td>2019-07-01</td>\n",
       "      <td>2016-12-21</td>\n",
       "      <td>60</td>\n",
       "    </tr>\n",
       "    <tr>\n",
       "      <th>14</th>\n",
       "      <td>Megye</td>\n",
       "      <td>ILFOV</td>\n",
       "      <td>Călin Constantin Anton POPESCU-TĂRICEANU</td>\n",
       "      <td>1462</td>\n",
       "      <td>2012-12-20</td>\n",
       "      <td>2008-12-19</td>\n",
       "      <td>30</td>\n",
       "    </tr>\n",
       "    <tr>\n",
       "      <th>15</th>\n",
       "      <td>Megye</td>\n",
       "      <td>ARAD</td>\n",
       "      <td>Călin Constantin Anton POPESCU-TĂRICEANU</td>\n",
       "      <td>850</td>\n",
       "      <td>1992-10-16</td>\n",
       "      <td>1990-06-19</td>\n",
       "      <td>30</td>\n",
       "    </tr>\n",
       "    <tr>\n",
       "      <th>16</th>\n",
       "      <td>Megye</td>\n",
       "      <td>BUCUREŞTI</td>\n",
       "      <td>Călin Constantin Anton POPESCU-TĂRICEANU</td>\n",
       "      <td>1464</td>\n",
       "      <td>2000-11-30</td>\n",
       "      <td>1996-11-27</td>\n",
       "      <td>30</td>\n",
       "    </tr>\n",
       "    <tr>\n",
       "      <th>17</th>\n",
       "      <td>Megye</td>\n",
       "      <td>BUCUREŞTI</td>\n",
       "      <td>Călin Constantin Anton POPESCU-TĂRICEANU</td>\n",
       "      <td>1455</td>\n",
       "      <td>2008-12-13</td>\n",
       "      <td>2004-12-19</td>\n",
       "      <td>30</td>\n",
       "    </tr>\n",
       "    <tr>\n",
       "      <th>18</th>\n",
       "      <td>Megye</td>\n",
       "      <td>BUCUREŞTI</td>\n",
       "      <td>Călin Constantin Anton POPESCU-TĂRICEANU</td>\n",
       "      <td>436</td>\n",
       "      <td>2014-03-01</td>\n",
       "      <td>2012-12-20</td>\n",
       "      <td>30</td>\n",
       "    </tr>\n",
       "    <tr>\n",
       "      <th>19</th>\n",
       "      <td>Megye</td>\n",
       "      <td>BUCUREŞTI</td>\n",
       "      <td>Călin Constantin Anton POPESCU-TĂRICEANU</td>\n",
       "      <td>1026</td>\n",
       "      <td>2016-12-21</td>\n",
       "      <td>2014-03-01</td>\n",
       "      <td>30</td>\n",
       "    </tr>\n",
       "    <tr>\n",
       "      <th>20</th>\n",
       "      <td>Megye</td>\n",
       "      <td>BUCUREŞTI</td>\n",
       "      <td>Călin Constantin Anton POPESCU-TĂRICEANU</td>\n",
       "      <td>1446</td>\n",
       "      <td>2004-11-30</td>\n",
       "      <td>2000-12-15</td>\n",
       "      <td>30</td>\n",
       "    </tr>\n",
       "    <tr>\n",
       "      <th>21</th>\n",
       "      <td>Megye</td>\n",
       "      <td>BUCUREŞTI</td>\n",
       "      <td>Călin Constantin Anton POPESCU-TĂRICEANU</td>\n",
       "      <td>922</td>\n",
       "      <td>2019-07-01</td>\n",
       "      <td>2016-12-21</td>\n",
       "      <td>30</td>\n",
       "    </tr>\n",
       "    <tr>\n",
       "      <th>22</th>\n",
       "      <td>Ország</td>\n",
       "      <td>Republica Elenă</td>\n",
       "      <td>Călin Constantin Anton POPESCU-TĂRICEANU</td>\n",
       "      <td>850</td>\n",
       "      <td>1992-10-16</td>\n",
       "      <td>1990-06-19</td>\n",
       "      <td>4</td>\n",
       "    </tr>\n",
       "    <tr>\n",
       "      <th>23</th>\n",
       "      <td>Ország</td>\n",
       "      <td>Republica Filipine</td>\n",
       "      <td>Călin Constantin Anton POPESCU-TĂRICEANU</td>\n",
       "      <td>1398</td>\n",
       "      <td>2000-11-30</td>\n",
       "      <td>1997-02-01</td>\n",
       "      <td>4</td>\n",
       "    </tr>\n",
       "    <tr>\n",
       "      <th>24</th>\n",
       "      <td>Ország</td>\n",
       "      <td>Republica Franceză - Senat</td>\n",
       "      <td>Călin Constantin Anton POPESCU-TĂRICEANU</td>\n",
       "      <td>801</td>\n",
       "      <td>2015-03-01</td>\n",
       "      <td>2012-12-20</td>\n",
       "      <td>4</td>\n",
       "    </tr>\n",
       "    <tr>\n",
       "      <th>25</th>\n",
       "      <td>Ország</td>\n",
       "      <td>Republica Filipine</td>\n",
       "      <td>Călin Constantin Anton POPESCU-TĂRICEANU</td>\n",
       "      <td>1446</td>\n",
       "      <td>2004-11-30</td>\n",
       "      <td>2000-12-15</td>\n",
       "      <td>4</td>\n",
       "    </tr>\n",
       "    <tr>\n",
       "      <th>26</th>\n",
       "      <td>Ország</td>\n",
       "      <td>Republica Elenă</td>\n",
       "      <td>Călin Constantin Anton POPESCU-TĂRICEANU</td>\n",
       "      <td>1446</td>\n",
       "      <td>2004-11-30</td>\n",
       "      <td>2000-12-15</td>\n",
       "      <td>4</td>\n",
       "    </tr>\n",
       "    <tr>\n",
       "      <th>27</th>\n",
       "      <td>Párt</td>\n",
       "      <td>PNL</td>\n",
       "      <td>Călin Constantin Anton POPESCU-TĂRICEANU</td>\n",
       "      <td>1462</td>\n",
       "      <td>2012-12-20</td>\n",
       "      <td>2008-12-19</td>\n",
       "      <td>50</td>\n",
       "    </tr>\n",
       "    <tr>\n",
       "      <th>28</th>\n",
       "      <td>Párt</td>\n",
       "      <td>PNL</td>\n",
       "      <td>Călin Constantin Anton POPESCU-TĂRICEANU</td>\n",
       "      <td>850</td>\n",
       "      <td>1992-10-16</td>\n",
       "      <td>1990-06-19</td>\n",
       "      <td>50</td>\n",
       "    </tr>\n",
       "    <tr>\n",
       "      <th>29</th>\n",
       "      <td>Párt</td>\n",
       "      <td>PNL</td>\n",
       "      <td>Călin Constantin Anton POPESCU-TĂRICEANU</td>\n",
       "      <td>1464</td>\n",
       "      <td>2000-11-30</td>\n",
       "      <td>1996-11-27</td>\n",
       "      <td>50</td>\n",
       "    </tr>\n",
       "    <tr>\n",
       "      <th>30</th>\n",
       "      <td>Párt</td>\n",
       "      <td>PNL</td>\n",
       "      <td>Călin Constantin Anton POPESCU-TĂRICEANU</td>\n",
       "      <td>1455</td>\n",
       "      <td>2008-12-13</td>\n",
       "      <td>2004-12-19</td>\n",
       "      <td>50</td>\n",
       "    </tr>\n",
       "    <tr>\n",
       "      <th>31</th>\n",
       "      <td>Párt</td>\n",
       "      <td>PNL</td>\n",
       "      <td>Călin Constantin Anton POPESCU-TĂRICEANU</td>\n",
       "      <td>436</td>\n",
       "      <td>2014-03-01</td>\n",
       "      <td>2012-12-20</td>\n",
       "      <td>50</td>\n",
       "    </tr>\n",
       "    <tr>\n",
       "      <th>32</th>\n",
       "      <td>Párt</td>\n",
       "      <td>Independent</td>\n",
       "      <td>Călin Constantin Anton POPESCU-TĂRICEANU</td>\n",
       "      <td>1026</td>\n",
       "      <td>2016-12-21</td>\n",
       "      <td>2014-03-01</td>\n",
       "      <td>50</td>\n",
       "    </tr>\n",
       "    <tr>\n",
       "      <th>33</th>\n",
       "      <td>Párt</td>\n",
       "      <td>PNL</td>\n",
       "      <td>Călin Constantin Anton POPESCU-TĂRICEANU</td>\n",
       "      <td>1446</td>\n",
       "      <td>2004-11-30</td>\n",
       "      <td>2000-12-15</td>\n",
       "      <td>50</td>\n",
       "    </tr>\n",
       "    <tr>\n",
       "      <th>34</th>\n",
       "      <td>Párt</td>\n",
       "      <td>ALDE</td>\n",
       "      <td>Călin Constantin Anton POPESCU-TĂRICEANU</td>\n",
       "      <td>922</td>\n",
       "      <td>2019-07-01</td>\n",
       "      <td>2016-12-21</td>\n",
       "      <td>50</td>\n",
       "    </tr>\n",
       "  </tbody>\n",
       "</table>\n",
       "</div>"
      ],
      "text/plain": [
       "        Típus                                          Csoportok  \\\n",
       "0   Bizottság                                   Politică externă   \n",
       "1   Bizottság                                          Economică   \n",
       "2   Bizottság                Învăţământ, ştiinţă, tineret, sport   \n",
       "3   Bizottság         Politică economică, reformă şi privatizare   \n",
       "4   Bizottság  Drepturile omului, culte şi problemele minorit...   \n",
       "5   Bizottság                                   Politică externă   \n",
       "6   Bizottság                            Buget, finanţe şi bănci   \n",
       "7      Kamara                                 Camera Deputaților   \n",
       "8      Kamara                                 Camera Deputaților   \n",
       "9      Kamara                                 Camera Deputaților   \n",
       "10     Kamara                                 Camera Deputaților   \n",
       "11     Kamara                                              Senat   \n",
       "12     Kamara                                 Camera Deputaților   \n",
       "13     Kamara                                              Senat   \n",
       "14      Megye                                              ILFOV   \n",
       "15      Megye                                               ARAD   \n",
       "16      Megye                                          BUCUREŞTI   \n",
       "17      Megye                                          BUCUREŞTI   \n",
       "18      Megye                                          BUCUREŞTI   \n",
       "19      Megye                                          BUCUREŞTI   \n",
       "20      Megye                                          BUCUREŞTI   \n",
       "21      Megye                                          BUCUREŞTI   \n",
       "22     Ország                                    Republica Elenă   \n",
       "23     Ország                                 Republica Filipine   \n",
       "24     Ország                         Republica Franceză - Senat   \n",
       "25     Ország                                 Republica Filipine   \n",
       "26     Ország                                    Republica Elenă   \n",
       "27       Párt                                                PNL   \n",
       "28       Párt                                                PNL   \n",
       "29       Párt                                                PNL   \n",
       "30       Párt                                                PNL   \n",
       "31       Párt                                                PNL   \n",
       "32       Párt                                        Independent   \n",
       "33       Párt                                                PNL   \n",
       "34       Párt                                               ALDE   \n",
       "\n",
       "                                        Name  duration        end      start  \\\n",
       "0   Călin Constantin Anton POPESCU-TĂRICEANU      1462 2012-12-20 2008-12-19   \n",
       "1   Călin Constantin Anton POPESCU-TĂRICEANU       850 1992-10-16 1990-06-19   \n",
       "2   Călin Constantin Anton POPESCU-TĂRICEANU       850 1992-10-16 1990-06-19   \n",
       "3   Călin Constantin Anton POPESCU-TĂRICEANU      1464 2000-11-30 1996-11-27   \n",
       "4   Călin Constantin Anton POPESCU-TĂRICEANU      1455 2008-12-13 2004-12-19   \n",
       "5   Călin Constantin Anton POPESCU-TĂRICEANU       436 2014-03-01 2012-12-20   \n",
       "6   Călin Constantin Anton POPESCU-TĂRICEANU      1446 2004-11-30 2000-12-15   \n",
       "7   Călin Constantin Anton POPESCU-TĂRICEANU      1462 2012-12-20 2008-12-19   \n",
       "8   Călin Constantin Anton POPESCU-TĂRICEANU       850 1992-10-16 1990-06-19   \n",
       "9   Călin Constantin Anton POPESCU-TĂRICEANU      1464 2000-11-30 1996-11-27   \n",
       "10  Călin Constantin Anton POPESCU-TĂRICEANU      1455 2008-12-13 2004-12-19   \n",
       "11  Călin Constantin Anton POPESCU-TĂRICEANU      1462 2016-12-21 2012-12-20   \n",
       "12  Călin Constantin Anton POPESCU-TĂRICEANU      1446 2004-11-30 2000-12-15   \n",
       "13  Călin Constantin Anton POPESCU-TĂRICEANU       922 2019-07-01 2016-12-21   \n",
       "14  Călin Constantin Anton POPESCU-TĂRICEANU      1462 2012-12-20 2008-12-19   \n",
       "15  Călin Constantin Anton POPESCU-TĂRICEANU       850 1992-10-16 1990-06-19   \n",
       "16  Călin Constantin Anton POPESCU-TĂRICEANU      1464 2000-11-30 1996-11-27   \n",
       "17  Călin Constantin Anton POPESCU-TĂRICEANU      1455 2008-12-13 2004-12-19   \n",
       "18  Călin Constantin Anton POPESCU-TĂRICEANU       436 2014-03-01 2012-12-20   \n",
       "19  Călin Constantin Anton POPESCU-TĂRICEANU      1026 2016-12-21 2014-03-01   \n",
       "20  Călin Constantin Anton POPESCU-TĂRICEANU      1446 2004-11-30 2000-12-15   \n",
       "21  Călin Constantin Anton POPESCU-TĂRICEANU       922 2019-07-01 2016-12-21   \n",
       "22  Călin Constantin Anton POPESCU-TĂRICEANU       850 1992-10-16 1990-06-19   \n",
       "23  Călin Constantin Anton POPESCU-TĂRICEANU      1398 2000-11-30 1997-02-01   \n",
       "24  Călin Constantin Anton POPESCU-TĂRICEANU       801 2015-03-01 2012-12-20   \n",
       "25  Călin Constantin Anton POPESCU-TĂRICEANU      1446 2004-11-30 2000-12-15   \n",
       "26  Călin Constantin Anton POPESCU-TĂRICEANU      1446 2004-11-30 2000-12-15   \n",
       "27  Călin Constantin Anton POPESCU-TĂRICEANU      1462 2012-12-20 2008-12-19   \n",
       "28  Călin Constantin Anton POPESCU-TĂRICEANU       850 1992-10-16 1990-06-19   \n",
       "29  Călin Constantin Anton POPESCU-TĂRICEANU      1464 2000-11-30 1996-11-27   \n",
       "30  Călin Constantin Anton POPESCU-TĂRICEANU      1455 2008-12-13 2004-12-19   \n",
       "31  Călin Constantin Anton POPESCU-TĂRICEANU       436 2014-03-01 2012-12-20   \n",
       "32  Călin Constantin Anton POPESCU-TĂRICEANU      1026 2016-12-21 2014-03-01   \n",
       "33  Călin Constantin Anton POPESCU-TĂRICEANU      1446 2004-11-30 2000-12-15   \n",
       "34  Călin Constantin Anton POPESCU-TĂRICEANU       922 2019-07-01 2016-12-21   \n",
       "\n",
       "    order  \n",
       "0       1  \n",
       "1       1  \n",
       "2       1  \n",
       "3       1  \n",
       "4       1  \n",
       "5       1  \n",
       "6       1  \n",
       "7      60  \n",
       "8      60  \n",
       "9      60  \n",
       "10     60  \n",
       "11     60  \n",
       "12     60  \n",
       "13     60  \n",
       "14     30  \n",
       "15     30  \n",
       "16     30  \n",
       "17     30  \n",
       "18     30  \n",
       "19     30  \n",
       "20     30  \n",
       "21     30  \n",
       "22      4  \n",
       "23      4  \n",
       "24      4  \n",
       "25      4  \n",
       "26      4  \n",
       "27     50  \n",
       "28     50  \n",
       "29     50  \n",
       "30     50  \n",
       "31     50  \n",
       "32     50  \n",
       "33     50  \n",
       "34     50  "
      ]
     },
     "execution_count": 167,
     "metadata": {},
     "output_type": "execute_result"
    }
   ],
   "source": [
    "ef"
   ]
  },
  {
   "cell_type": "code",
   "execution_count": 168,
   "metadata": {},
   "outputs": [
    {
     "data": {
      "application/vnd.vegalite.v3+json": {
       "$schema": "https://vega.github.io/schema/vega-lite/v3.3.0.json",
       "config": {
        "mark": {
         "tooltip": null
        },
        "view": {
         "height": 300,
         "width": 400
        }
       },
       "data": {
        "name": "data-481126e92cc612875fcb4b5929e2f18a"
       },
       "datasets": {
        "data-481126e92cc612875fcb4b5929e2f18a": [
         {
          "Csoportok": "Politică externă",
          "Name": "Călin Constantin Anton POPESCU-TĂRICEANU",
          "Típus": "Bizottság",
          "duration": 1462,
          "end": "2012-12-20T00:00:00",
          "order": 1,
          "start": "2008-12-19T00:00:00"
         },
         {
          "Csoportok": "Economică",
          "Name": "Călin Constantin Anton POPESCU-TĂRICEANU",
          "Típus": "Bizottság",
          "duration": 850,
          "end": "1992-10-16T00:00:00",
          "order": 1,
          "start": "1990-06-19T00:00:00"
         },
         {
          "Csoportok": "Învăţământ, ştiinţă, tineret, sport",
          "Name": "Călin Constantin Anton POPESCU-TĂRICEANU",
          "Típus": "Bizottság",
          "duration": 850,
          "end": "1992-10-16T00:00:00",
          "order": 1,
          "start": "1990-06-19T00:00:00"
         },
         {
          "Csoportok": "Politică economică, reformă şi privatizare",
          "Name": "Călin Constantin Anton POPESCU-TĂRICEANU",
          "Típus": "Bizottság",
          "duration": 1464,
          "end": "2000-11-30T00:00:00",
          "order": 1,
          "start": "1996-11-27T00:00:00"
         },
         {
          "Csoportok": "Drepturile omului, culte şi problemele minorităţilor naţionale",
          "Name": "Călin Constantin Anton POPESCU-TĂRICEANU",
          "Típus": "Bizottság",
          "duration": 1455,
          "end": "2008-12-13T00:00:00",
          "order": 1,
          "start": "2004-12-19T00:00:00"
         },
         {
          "Csoportok": "Politică externă",
          "Name": "Călin Constantin Anton POPESCU-TĂRICEANU",
          "Típus": "Bizottság",
          "duration": 436,
          "end": "2014-03-01T00:00:00",
          "order": 1,
          "start": "2012-12-20T00:00:00"
         },
         {
          "Csoportok": "Buget, finanţe şi bănci",
          "Name": "Călin Constantin Anton POPESCU-TĂRICEANU",
          "Típus": "Bizottság",
          "duration": 1446,
          "end": "2004-11-30T00:00:00",
          "order": 1,
          "start": "2000-12-15T00:00:00"
         },
         {
          "Csoportok": "Camera Deputaților",
          "Name": "Călin Constantin Anton POPESCU-TĂRICEANU",
          "Típus": "Kamara",
          "duration": 1462,
          "end": "2012-12-20T00:00:00",
          "order": 60,
          "start": "2008-12-19T00:00:00"
         },
         {
          "Csoportok": "Camera Deputaților",
          "Name": "Călin Constantin Anton POPESCU-TĂRICEANU",
          "Típus": "Kamara",
          "duration": 850,
          "end": "1992-10-16T00:00:00",
          "order": 60,
          "start": "1990-06-19T00:00:00"
         },
         {
          "Csoportok": "Camera Deputaților",
          "Name": "Călin Constantin Anton POPESCU-TĂRICEANU",
          "Típus": "Kamara",
          "duration": 1464,
          "end": "2000-11-30T00:00:00",
          "order": 60,
          "start": "1996-11-27T00:00:00"
         },
         {
          "Csoportok": "Camera Deputaților",
          "Name": "Călin Constantin Anton POPESCU-TĂRICEANU",
          "Típus": "Kamara",
          "duration": 1455,
          "end": "2008-12-13T00:00:00",
          "order": 60,
          "start": "2004-12-19T00:00:00"
         },
         {
          "Csoportok": "Senat",
          "Name": "Călin Constantin Anton POPESCU-TĂRICEANU",
          "Típus": "Kamara",
          "duration": 1462,
          "end": "2016-12-21T00:00:00",
          "order": 60,
          "start": "2012-12-20T00:00:00"
         },
         {
          "Csoportok": "Camera Deputaților",
          "Name": "Călin Constantin Anton POPESCU-TĂRICEANU",
          "Típus": "Kamara",
          "duration": 1446,
          "end": "2004-11-30T00:00:00",
          "order": 60,
          "start": "2000-12-15T00:00:00"
         },
         {
          "Csoportok": "Senat",
          "Name": "Călin Constantin Anton POPESCU-TĂRICEANU",
          "Típus": "Kamara",
          "duration": 922,
          "end": "2019-07-01T00:00:00",
          "order": 60,
          "start": "2016-12-21T00:00:00"
         },
         {
          "Csoportok": "ILFOV",
          "Name": "Călin Constantin Anton POPESCU-TĂRICEANU",
          "Típus": "Megye",
          "duration": 1462,
          "end": "2012-12-20T00:00:00",
          "order": 30,
          "start": "2008-12-19T00:00:00"
         },
         {
          "Csoportok": "ARAD",
          "Name": "Călin Constantin Anton POPESCU-TĂRICEANU",
          "Típus": "Megye",
          "duration": 850,
          "end": "1992-10-16T00:00:00",
          "order": 30,
          "start": "1990-06-19T00:00:00"
         },
         {
          "Csoportok": "BUCUREŞTI",
          "Name": "Călin Constantin Anton POPESCU-TĂRICEANU",
          "Típus": "Megye",
          "duration": 1464,
          "end": "2000-11-30T00:00:00",
          "order": 30,
          "start": "1996-11-27T00:00:00"
         },
         {
          "Csoportok": "BUCUREŞTI",
          "Name": "Călin Constantin Anton POPESCU-TĂRICEANU",
          "Típus": "Megye",
          "duration": 1455,
          "end": "2008-12-13T00:00:00",
          "order": 30,
          "start": "2004-12-19T00:00:00"
         },
         {
          "Csoportok": "BUCUREŞTI",
          "Name": "Călin Constantin Anton POPESCU-TĂRICEANU",
          "Típus": "Megye",
          "duration": 436,
          "end": "2014-03-01T00:00:00",
          "order": 30,
          "start": "2012-12-20T00:00:00"
         },
         {
          "Csoportok": "BUCUREŞTI",
          "Name": "Călin Constantin Anton POPESCU-TĂRICEANU",
          "Típus": "Megye",
          "duration": 1026,
          "end": "2016-12-21T00:00:00",
          "order": 30,
          "start": "2014-03-01T00:00:00"
         },
         {
          "Csoportok": "BUCUREŞTI",
          "Name": "Călin Constantin Anton POPESCU-TĂRICEANU",
          "Típus": "Megye",
          "duration": 1446,
          "end": "2004-11-30T00:00:00",
          "order": 30,
          "start": "2000-12-15T00:00:00"
         },
         {
          "Csoportok": "BUCUREŞTI",
          "Name": "Călin Constantin Anton POPESCU-TĂRICEANU",
          "Típus": "Megye",
          "duration": 922,
          "end": "2019-07-01T00:00:00",
          "order": 30,
          "start": "2016-12-21T00:00:00"
         },
         {
          "Csoportok": "Republica Elenă",
          "Name": "Călin Constantin Anton POPESCU-TĂRICEANU",
          "Típus": "Ország",
          "duration": 850,
          "end": "1992-10-16T00:00:00",
          "order": 4,
          "start": "1990-06-19T00:00:00"
         },
         {
          "Csoportok": "Republica Filipine",
          "Name": "Călin Constantin Anton POPESCU-TĂRICEANU",
          "Típus": "Ország",
          "duration": 1398,
          "end": "2000-11-30T00:00:00",
          "order": 4,
          "start": "1997-02-01T00:00:00"
         },
         {
          "Csoportok": "Republica Franceză - Senat",
          "Name": "Călin Constantin Anton POPESCU-TĂRICEANU",
          "Típus": "Ország",
          "duration": 801,
          "end": "2015-03-01T00:00:00",
          "order": 4,
          "start": "2012-12-20T00:00:00"
         },
         {
          "Csoportok": "Republica Filipine",
          "Name": "Călin Constantin Anton POPESCU-TĂRICEANU",
          "Típus": "Ország",
          "duration": 1446,
          "end": "2004-11-30T00:00:00",
          "order": 4,
          "start": "2000-12-15T00:00:00"
         },
         {
          "Csoportok": "Republica Elenă",
          "Name": "Călin Constantin Anton POPESCU-TĂRICEANU",
          "Típus": "Ország",
          "duration": 1446,
          "end": "2004-11-30T00:00:00",
          "order": 4,
          "start": "2000-12-15T00:00:00"
         },
         {
          "Csoportok": "PNL",
          "Name": "Călin Constantin Anton POPESCU-TĂRICEANU",
          "Típus": "Párt",
          "duration": 1462,
          "end": "2012-12-20T00:00:00",
          "order": 50,
          "start": "2008-12-19T00:00:00"
         },
         {
          "Csoportok": "PNL",
          "Name": "Călin Constantin Anton POPESCU-TĂRICEANU",
          "Típus": "Párt",
          "duration": 850,
          "end": "1992-10-16T00:00:00",
          "order": 50,
          "start": "1990-06-19T00:00:00"
         },
         {
          "Csoportok": "PNL",
          "Name": "Călin Constantin Anton POPESCU-TĂRICEANU",
          "Típus": "Párt",
          "duration": 1464,
          "end": "2000-11-30T00:00:00",
          "order": 50,
          "start": "1996-11-27T00:00:00"
         },
         {
          "Csoportok": "PNL",
          "Name": "Călin Constantin Anton POPESCU-TĂRICEANU",
          "Típus": "Párt",
          "duration": 1455,
          "end": "2008-12-13T00:00:00",
          "order": 50,
          "start": "2004-12-19T00:00:00"
         },
         {
          "Csoportok": "PNL",
          "Name": "Călin Constantin Anton POPESCU-TĂRICEANU",
          "Típus": "Párt",
          "duration": 436,
          "end": "2014-03-01T00:00:00",
          "order": 50,
          "start": "2012-12-20T00:00:00"
         },
         {
          "Csoportok": "Independent",
          "Name": "Călin Constantin Anton POPESCU-TĂRICEANU",
          "Típus": "Párt",
          "duration": 1026,
          "end": "2016-12-21T00:00:00",
          "order": 50,
          "start": "2014-03-01T00:00:00"
         },
         {
          "Csoportok": "PNL",
          "Name": "Călin Constantin Anton POPESCU-TĂRICEANU",
          "Típus": "Párt",
          "duration": 1446,
          "end": "2004-11-30T00:00:00",
          "order": 50,
          "start": "2000-12-15T00:00:00"
         },
         {
          "Csoportok": "ALDE",
          "Name": "Călin Constantin Anton POPESCU-TĂRICEANU",
          "Típus": "Párt",
          "duration": 922,
          "end": "2019-07-01T00:00:00",
          "order": 50,
          "start": "2016-12-21T00:00:00"
         }
        ]
       },
       "encoding": {
        "color": {
         "field": "Típus",
         "sort": {
          "field": "order",
          "op": "mean",
          "order": "descending"
         },
         "type": "nominal"
        },
        "x": {
         "field": "start",
         "title": "",
         "type": "temporal"
        },
        "x2": {
         "field": "end"
        },
        "y": {
         "field": "Csoportok",
         "sort": {
          "field": "order",
          "op": "mean",
          "order": "descending"
         },
         "title": "",
         "type": "nominal"
        }
       },
       "mark": "bar",
       "title": "Călin Constantin Anton POPESCU-TĂRICEANU"
      },
      "text/plain": [
       "<VegaLite 3 object>\n",
       "\n",
       "If you see this message, it means the renderer has not been properly enabled\n",
       "for the frontend that you are using. For more information, see\n",
       "https://altair-viz.github.io/user_guide/troubleshooting.html\n"
      ]
     },
     "execution_count": 168,
     "metadata": {},
     "output_type": "execute_result"
    }
   ],
   "source": [
    "alt.Chart(ef,\n",
    "          title=m['Name']['full']\n",
    "         ).mark_bar().encode(\n",
    "    x=alt.X('start:T',title=''),\n",
    "    x2='end:T',\n",
    "    y=alt.Y('Csoportok:N',title='',\n",
    "            sort=alt.EncodingSortField(field=\"order\", op=\"mean\", order='descending')),\n",
    "    color=alt.Color('Típus:N',\n",
    "        sort=alt.EncodingSortField(field=\"order\", op=\"mean\", order='descending'))\n",
    ")"
   ]
  },
  {
   "cell_type": "markdown",
   "metadata": {},
   "source": [
    "Save JSON"
   ]
  },
  {
   "cell_type": "code",
   "execution_count": 169,
   "metadata": {},
   "outputs": [],
   "source": [
    "def party_normalizer(party):\n",
    "    if party in ['N/A','NA','NI',['NA', 'NI'],'-','Independent','Minorități',\n",
    "                'Fără adeziune la formaţiunea politică pentru care a candidat la alegeri']: return '👤'\n",
    "    elif party in ['ALDE RO','ALDE Romania','Partidul Conservator',\n",
    "                   'PC','Partidul Puterii Umaniste','ALDE','PUNR','PUR','PUR-SL']: return '🕊️'\n",
    "    elif party in ['Forumul Democrat al Germanitor din România','FDGR']: return '⚫️'\n",
    "    elif party in ['Partidul Naţional Liberal','PNL-CD',\"PL'93\",'PNL-AT','PAC',\n",
    "        'Partidul Liberal Democrat','PNL']: return'📐'\n",
    "    elif party in ['Partidul Democrat','Partidul Democrat-Liberal',\n",
    "        'PD-L','PD','PDL']: return'🔶'\n",
    "    elif party in ['Partidul Mișcarea Populară','PMP']: return '🍏'\n",
    "    elif party in ['Partidul Naţional Ţaranesc Creştin Democrat','PNȚCD','PNTCD']:return '✳️'\n",
    "    elif party in ['Partidul România Mare','PRM']:return '🔱'\n",
    "    elif party in ['FSN','FDSN']:return '⚪️'\n",
    "    elif party in ['USR']:return '🔷'\n",
    "    elif party in ['PP-DD']:return '⚛️'\n",
    "    elif party in ['PER','MER','PDAR','FER']:return '🍀'\n",
    "    elif party in ['PSD','Partidul Social Democrat','Partidul Social Democrat + Partidul Conservator',\n",
    "                   'PDSR','PSDR','PSM']:return '🌹'\n",
    "    elif party in ['Romániai Magyar Demokrata Szövetség',\n",
    "        'Uniunea Democrată Maghiară din România','RMDSZ','UDMR']:return '🌷'\n",
    "    elif party in ['Uniunea Națională pentru Progresul României','UNPR']: return '🦅'\n",
    "    else: \n",
    "        return '🔘'"
   ]
  },
  {
   "cell_type": "code",
   "execution_count": 170,
   "metadata": {},
   "outputs": [],
   "source": [
    "def party_writer(party):\n",
    "    if party in ['Romániai Magyar Demokrata Szövetség',\n",
    "        'Uniunea Democrată Maghiară din România','RMDSZ','UDMR']:return 'RMDSZ'\n",
    "    elif party in ['Fără adeziune la formaţiunea politică pentru care a candidat la alegeri']:\n",
    "        return 'Independent'\n",
    "    else: \n",
    "        return party"
   ]
  },
  {
   "cell_type": "code",
   "execution_count": 171,
   "metadata": {},
   "outputs": [],
   "source": [
    "#megyek=json.loads(open('E:/Skydrive/Github/universal/ro/hun_megyek.json','r').read())\n",
    "megyek=json.loads(open('C:/users/csala/Onedrive/Github/universal/ro/hun_megyek.json','r').read())"
   ]
  },
  {
   "cell_type": "code",
   "execution_count": 172,
   "metadata": {},
   "outputs": [],
   "source": [
    "r={\n",
    "\"Buget, finanţe şi bănci\":\"Pénzügy\",\n",
    "\"Drepturile omului, culte şi problemele minorităţilor naţionale\":\"Emberi jogok, kisebbségek\",\n",
    "\"Economică\":\"Gazdaság, ipar\",\n",
    "\"Politică economică, reformă şi privatizare\":\"Gazdaság, ipar\",\n",
    "\"Politică externă\":\"Külpolitika, diaszpóra\",\n",
    "\"Învăţământ, ştiinţă, tineret, sport\":\"Oktatás, tudomány, sport\",\n",
    "\"Cultură, arte, mijloace de informare în masă\":\"Művészet, média\",\n",
    "\"Juridică, de disciplină şi imunităţi\":\"Állami ügyek\",\n",
    "\"Regulament\":\"Állami ügyek\",\n",
    "\"Agricultură, silvicultură, industrie alimentară şi servicii specifice\":\"Mezőgazdaság, erdők\",\n",
    "\"Buget şi finanţe\":\"Pénzügy\",\n",
    "\"Industrii şi servicii\":\"Gazdaság, ipar\",\n",
    "\"Tehnologia informaţiei şi comunicaţiilor\":\"Infrastruktúra, energia, kommunikáció\",\n",
    "\"Afaceri europene\":\"Európa\",\n",
    "\"Agricultură, silvicultură şi dezvoltare rurală\":\"Mezőgazdaság, erdők\",\n",
    "\"Muncă, familie şi protecţie socială\":\"Munka, szociális és családi ügyek\",\n",
    "\"Cultură, artă şi mijloace de informare în masă\":\"Művészet, média\",\n",
    "\"Drepturile omului, culte şi minorităţi\":\"Emberi jogok, kisebbségek\",\n",
    "\"Muncă şi protecţie socială\":\"Munka, szociális és családi ügyek\",\n",
    "\"Buget, finanţe, activitate bancară şi piaţă de capital\":\"Pénzügy\",\n",
    "\"Economică, industrii şi servicii\":\"Gazdaság, ipar\",\n",
    "\"Privatizare şi administrarea activelor statului\":\"Állami ügyek\",\n",
    "\"Învăţământ, ştiinţă, tineret şi sport\":\"Oktatás, tudomány, sport\",\n",
    "\"Administraţie publică, organizarea teritoriului şi protecţia mediului\":\"Közigazgatás, környezetvédelem\",\n",
    "\"Egalitatea de şanse\":\"Munka, szociális és családi ügyek\",\n",
    "\"Specială pentru modificarea şi completarea regulamentului senatului\":\"Állami ügyek\",\n",
    "\"Comunităţile de români din afara graniţelor ţării\":\"Külpolitika, diaszpóra\",\n",
    "\"Cercetarea abuzurilor, corupţiei şi pentru petiţii\":\"Állami ügyek\",\n",
    "\"Dezvoltare și strategie economică\":\"Gazdaság, ipar\",\n",
    "\"Transporturi şi energie\":\"Infrastruktúra, energia, kommunikáció\",\n",
    "\"Transporturi şi infrastructură\":\"Infrastruktúra, energia, kommunikáció\",\n",
    "\"Sănătate publică\":\"Egészésgügy\",\n",
    "\"Sănătate şi familie\":\"Egészésgügy\",\n",
    "\"Apărare, ordine publică şi siguranţă naţională\":\"Biztonság\",\n",
    "\"Egalitatea de şanse pentru femei şi bărbaţi\":\"Munka, szociális és családi ügyek\",\n",
    "\"Echilibru ecologic şi protecţia mediului\":\"Közigazgatás, környezetvédelem\",\n",
    "\"Industrie şi servicii\":\"Gazdaság, ipar\",\n",
    "\"Mediu şi echilibru ecologic\":\"Közigazgatás, környezetvédelem\",\n",
    "\"Cercetarea abuzurilor, combaterea corupţiei şi petiţii\":\"Állami ügyek\",\n",
    "\"Muncă, sănătate, protecţie socială şi statutul femeii în societate\":\"Munka, szociális és családi ügyek\",\n",
    "\"Administraţie centrală şi locală, amenajarea teritoriului şi urbanism\":\"Közigazgatás, környezetvédelem\",\n",
    "\"Administraţie publică şi amenajarea teritoriului\":\"Közigazgatás, környezetvédelem\",\n",
    "\"Agricultură, silvicultură, industrie alimentară şi servicii pentru agricultură\":\"Mezőgazdaság, erdők\",\n",
    "\"Juridică, de numiri, disciplină, imunităţi şi validări\":\"Állami ügyek\",\n",
    "\"Subcomisia pentru spaţiu\":\"Közigazgatás, környezetvédelem\",\n",
    "\"Cercetarea abuzurilor şi pentru petiţii\":\"Állami ügyek\",\n",
    "\"Muncă, probleme sociale, sănătate\":\"Munka, szociális és családi ügyek\",\n",
    "\"Mediu\":\"Közigazgatás, környezetvédelem\",\n",
    "\"Economică şi pentru problemele de industrie, comerţ, transporturi, telecomunicaţii, servicii\":\"Infrastruktúra, energia, kommunikáció\",\n",
    "\"Constituţionalitate, libertăţi civile şi monitorizare a executării hotărârilor curţii europene a drepturilor omului\":\"Európa\",\n",
    "\"De politică şi pentru drepturile fundamentale ale omului şi cetăţeanului\":\"Emberi jogok, kisebbségek\",\n",
    "\"Românii de pretutindeni\":\"Külpolitika, diaszpóra\",\n",
    "\"Subcomisia pentru monitorizarea executării hotărârilor curţii europene a drepurilor omului\":\"Emberi jogok, kisebbségek\",\n",
    "\"Subcomisia parlamentară pentru romi\":\"Emberi jogok, kisebbségek\",\n",
    "\"Agricultură, industrie alimentară, silvicultură şi protecţia mediului înconjurător\":\"Mezőgazdaság, erdők\",\n",
    "\"Subcomisia pentru protecţia copilului\":\"Munka, szociális és családi ügyek\",\n",
    "\"Subcomisia pentru minoritatea maghiară\":\"Emberi jogok, kisebbségek\",\n",
    "\"Artă, cultură şi mijloace de informare în masă\":\"Művészet, média\",\n",
    "\"Subcomisia pentru demnitate umană\":\"Emberi jogok, kisebbségek\",\n",
    "\"Subcomisia pentru egalitate de tratament şi  nediscriminare\":\"Emberi jogok, kisebbségek\",\n",
    "\"Subcomisia pentru problemele românilor de pretutindeni\":\"Külpolitika, diaszpóra\",\n",
    "\"Subcomisia pe problemele românilor din afara graniţelor\":\"Külpolitika, diaszpóra\",\n",
    "\"Politică financiară, bancară şi bugetară\":\"Pénzügy\",\n",
    "\"Permanentă comună a camerei deputaţilor şi senatului pentru relaţia cu unesco\":\"Külpolitika, diaszpóra\",\n",
    "\"Afaceri europene a parlamentului româniei\":\"Európa\",\n",
    "\"Parlamentară a revoluţionarilor din decembrie 1989\":\"Állami ügyek\",\n",
    "\"Parlamentului româniei pentru integrare europeană\":\"Európa\",\n",
    "\"De redactare a proiectului constituţiei româniei\":\"Állami ügyek\",\n",
    "\"Permanentă a camerei deputaţilor şi senatului privind statutul deputaţilor şi al senatorilor, organizarea şi funcţionarea şedinţelor comune ale camerei deputaţilor şi senatului\":\"Állami ügyek\",\n",
    "\"Comună pentru integrare europeană dintre parlamentul româniei și parlamentul republicii moldova\":\"Európa\",\n",
    "\"Comună permanentă a camerei deputaţilor şi senatului pentru exercitarea controlului parlamentar asupra activităţii sri\":\"Biztonság\",\n",
    "\"Apărare şi asigurarea ordinii publice\":\"Biztonság\",\n",
    "\"Parlamentară specială pentru controlul activităţii serviciului de informaţii externe\":\"Biztonság\"}"
   ]
  },
  {
   "cell_type": "code",
   "execution_count": 173,
   "metadata": {},
   "outputs": [],
   "source": [
    "r2={\"Biztonság\":\"🛃 Biztonság\",\n",
    "\"Egészésgügy\":\"♿️ Egészségügy\",\n",
    "\"Emberi jogok, kisebbségek\":\"🚹 Emberi jogok, kisebbségek\",\n",
    "\"Európa\":\"⏺️ Európa\",\n",
    "\"Gazdaság, ipar\":\"⏫ Gazdaság, ipar\",\n",
    "\"Infrastruktúra, energia, kommunikáció\":\"➿ Infrastruktúra, energia, kommunikáció\",\n",
    "\"Közigazgatás, környezetvédelem\":\"🔄 Közigazgatás, környezetvédelem\",\n",
    "\"Külpolitika, diaszpóra\":\"🌐 Külpolitika, diaszpóra\",\n",
    "\"Mezőgazdaság, erdők\":\"🚰 Mezőgazdaság, erdők\",\n",
    "\"Munka, szociális és családi ügyek\":\"🚻 Munka, szociális és családi ügyek\",\n",
    "\"Művészet, média\":\"🎦 Művészet, média\",\n",
    "\"Oktatás, tudomány, sport\":\"🔠 Oktatás, tudomány, sport\",\n",
    "\"Pénzügy\":\"💹 Pénzügy\",\n",
    "\"Állami ügyek\":\"🔀 Állami ügyek\"}"
   ]
  },
  {
   "cell_type": "code",
   "execution_count": 174,
   "metadata": {},
   "outputs": [],
   "source": [
    "def extender(r,n=5):\n",
    "    p={}\n",
    "    for i in r:\n",
    "        for j in range(n):\n",
    "            p[i+j*' ']=r[i]+j*' '\n",
    "    return p"
   ]
  },
  {
   "cell_type": "code",
   "execution_count": 175,
   "metadata": {},
   "outputs": [],
   "source": [
    "cc={\"\":\"uu\",\n",
    "\"/camera_deputatilor/grupuri_prietenie/flags1/africadesud.gif\":\"za\",\n",
    "\"/camera_deputatilor/grupuri_prietenie/flags1/albania.gif\":\"al\",\n",
    "\"/camera_deputatilor/grupuri_prietenie/flags1/algeria.gif\":\"dz\",\n",
    "\"/camera_deputatilor/grupuri_prietenie/flags1/arabiasaudi.gif\":\"sa\",\n",
    "\"/camera_deputatilor/grupuri_prietenie/flags1/argentina.gif\":\"ar\",\n",
    "\"/camera_deputatilor/grupuri_prietenie/flags1/armenia.gif\":\"am\",\n",
    "\"/camera_deputatilor/grupuri_prietenie/flags1/australia.gif\":\"au\",\n",
    "\"/camera_deputatilor/grupuri_prietenie/flags1/austria.gif\":\"at\",\n",
    "\"/camera_deputatilor/grupuri_prietenie/flags1/azerbaidjan.gif\":\"az\",\n",
    "\"/camera_deputatilor/grupuri_prietenie/flags1/bahrein.gif\":\"bh\",\n",
    "\"/camera_deputatilor/grupuri_prietenie/flags1/belarus.gif\":\"by\",\n",
    "\"/camera_deputatilor/grupuri_prietenie/flags1/belgia.gif\":\"be\",\n",
    "\"/camera_deputatilor/grupuri_prietenie/flags1/bolivia.gif\":\"bo\",\n",
    "\"/camera_deputatilor/grupuri_prietenie/flags1/bosnia.gif\":\"ba\",\n",
    "\"/camera_deputatilor/grupuri_prietenie/flags1/brazilia.gif\":\"br\",\n",
    "\"/camera_deputatilor/grupuri_prietenie/flags1/bulgaria.gif\":\"bg\",\n",
    "\"/camera_deputatilor/grupuri_prietenie/flags1/canada.gif\":\"ca\",\n",
    "\"/camera_deputatilor/grupuri_prietenie/flags1/cehia.gif\":\"cz\",\n",
    "\"/camera_deputatilor/grupuri_prietenie/flags1/chile.gif\":\"cl\",\n",
    "\"/camera_deputatilor/grupuri_prietenie/flags1/china.gif\":\"cn\",\n",
    "\"/camera_deputatilor/grupuri_prietenie/flags1/cipru.gif\":\"cy\",\n",
    "\"/camera_deputatilor/grupuri_prietenie/flags1/columbia.gif\":\"co\",\n",
    "\"/camera_deputatilor/grupuri_prietenie/flags1/congo.gif\":\"cg\",\n",
    "\"/camera_deputatilor/grupuri_prietenie/flags1/coreea.gif\":\"kr\",\n",
    "\"/camera_deputatilor/grupuri_prietenie/flags1/costarica.gif\":\"cr\",\n",
    "\"/camera_deputatilor/grupuri_prietenie/flags1/cotedivoir.gif\":\"ci\",\n",
    "\"/camera_deputatilor/grupuri_prietenie/flags1/croatia.gif\":\"hr\",\n",
    "\"/camera_deputatilor/grupuri_prietenie/flags1/cuba.gif\":\"cu\",\n",
    "\"/camera_deputatilor/grupuri_prietenie/flags1/danemarca.gif\":\"dk\",\n",
    "\"/camera_deputatilor/grupuri_prietenie/flags1/ecuador.gif\":\"ec\",\n",
    "\"/camera_deputatilor/grupuri_prietenie/flags1/egipt.gif\":\"eg\",\n",
    "\"/camera_deputatilor/grupuri_prietenie/flags1/elvetia.gif\":\"ch\",\n",
    "\"/camera_deputatilor/grupuri_prietenie/flags1/emirate.png\":\"ae\",\n",
    "\"/camera_deputatilor/grupuri_prietenie/flags1/estonia.gif\":\"ee\",\n",
    "\"/camera_deputatilor/grupuri_prietenie/flags1/filipine.gif\":\"ph\",\n",
    "\"/camera_deputatilor/grupuri_prietenie/flags1/finlanda.gif\":\"fi\",\n",
    "\"/camera_deputatilor/grupuri_prietenie/flags1/franta.gif\":\"fr\",\n",
    "\"/camera_deputatilor/grupuri_prietenie/flags1/georgia.gif\":\"ge\",\n",
    "\"/camera_deputatilor/grupuri_prietenie/flags1/germania.gif\":\"de\",\n",
    "\"/camera_deputatilor/grupuri_prietenie/flags1/grecia.gif\":\"gr\",\n",
    "\"/camera_deputatilor/grupuri_prietenie/flags1/guineea.gif\":\"gn\",\n",
    "\"/camera_deputatilor/grupuri_prietenie/flags1/india.gif\":\"in\",\n",
    "\"/camera_deputatilor/grupuri_prietenie/flags1/indonezia.gif\":\"id\",\n",
    "\"/camera_deputatilor/grupuri_prietenie/flags1/iordania.gif\":\"jo\",\n",
    "\"/camera_deputatilor/grupuri_prietenie/flags1/irak.gif\":\"iq\",\n",
    "\"/camera_deputatilor/grupuri_prietenie/flags1/iran.gif\":\"ir\",\n",
    "\"/camera_deputatilor/grupuri_prietenie/flags1/irlanda.gif\":\"ie\",\n",
    "\"/camera_deputatilor/grupuri_prietenie/flags1/islanda.gif\":\"is\",\n",
    "\"/camera_deputatilor/grupuri_prietenie/flags1/israel.gif\":\"il\",\n",
    "\"/camera_deputatilor/grupuri_prietenie/flags1/italia.gif\":\"it\",\n",
    "\"/camera_deputatilor/grupuri_prietenie/flags1/iugoslavia.gif\":\"uu\",\n",
    "\"/camera_deputatilor/grupuri_prietenie/flags1/japonia.gif\":\"jp\",\n",
    "\"/camera_deputatilor/grupuri_prietenie/flags1/kazahtan.gif\":\"kz\",\n",
    "\"/camera_deputatilor/grupuri_prietenie/flags1/kuwait.gif\":\"kw\",\n",
    "\"/camera_deputatilor/grupuri_prietenie/flags1/letonia.gif\":\"lv\",\n",
    "\"/camera_deputatilor/grupuri_prietenie/flags1/liban.gif\":\"lb\",\n",
    "\"/camera_deputatilor/grupuri_prietenie/flags1/lituania.gif\":\"lt\",\n",
    "\"/camera_deputatilor/grupuri_prietenie/flags1/luxemburg.gif\":\"lu\",\n",
    "\"/camera_deputatilor/grupuri_prietenie/flags1/macedonia.gif\":\"mk\",\n",
    "\"/camera_deputatilor/grupuri_prietenie/flags1/malaezia.gif\":\"my\",\n",
    "\"/camera_deputatilor/grupuri_prietenie/flags1/malta.gif\":\"mt\",\n",
    "\"/camera_deputatilor/grupuri_prietenie/flags1/mareabritanie.gif\":\"gb\",\n",
    "\"/camera_deputatilor/grupuri_prietenie/flags1/maroc.gif\":\"ma\",\n",
    "\"/camera_deputatilor/grupuri_prietenie/flags1/mexic.gif\":\"mx\",\n",
    "\"/camera_deputatilor/grupuri_prietenie/flags1/mongolia.gif\":\"mn\",\n",
    "\"/camera_deputatilor/grupuri_prietenie/flags1/muntenegru.gif\":\"me\",\n",
    "\"/camera_deputatilor/grupuri_prietenie/flags1/norvegia.gif\":\"no\",\n",
    "\"/camera_deputatilor/grupuri_prietenie/flags1/olanda.gif\":\"nl\",\n",
    "\"/camera_deputatilor/grupuri_prietenie/flags1/oman.gif\":\"om\",\n",
    "\"/camera_deputatilor/grupuri_prietenie/flags1/pakistan.gif\":\"pk\",\n",
    "\"/camera_deputatilor/grupuri_prietenie/flags1/panama.gif\":\"pa\",\n",
    "\"/camera_deputatilor/grupuri_prietenie/flags1/peru.gif\":\"pe\",\n",
    "\"/camera_deputatilor/grupuri_prietenie/flags1/polonia.gif\":\"pl\",\n",
    "\"/camera_deputatilor/grupuri_prietenie/flags1/portugalia.gif\":\"pt\",\n",
    "\"/camera_deputatilor/grupuri_prietenie/flags1/qatar.gif\":\"qa\",\n",
    "\"/camera_deputatilor/grupuri_prietenie/flags1/rusia.gif\":\"ru\",\n",
    "\"/camera_deputatilor/grupuri_prietenie/flags1/senegal.gif\":\"sn\",\n",
    "\"/camera_deputatilor/grupuri_prietenie/flags1/singapore.gif\":\"sg\",\n",
    "\"/camera_deputatilor/grupuri_prietenie/flags1/siria.gif\":\"sy\",\n",
    "\"/camera_deputatilor/grupuri_prietenie/flags1/slovacia.gif\":\"sk\",\n",
    "\"/camera_deputatilor/grupuri_prietenie/flags1/slovenia.gif\":\"si\",\n",
    "\"/camera_deputatilor/grupuri_prietenie/flags1/spania.gif\":\"es\",\n",
    "\"/camera_deputatilor/grupuri_prietenie/flags1/srilanka.gif\":\"lk\",\n",
    "\"/camera_deputatilor/grupuri_prietenie/flags1/sudan.gif\":\"sd\",\n",
    "\"/camera_deputatilor/grupuri_prietenie/flags1/suedia.gif\":\"se\",\n",
    "\"/camera_deputatilor/grupuri_prietenie/flags1/thailanda.gif\":\"th\",\n",
    "\"/camera_deputatilor/grupuri_prietenie/flags1/tunisia.gif\":\"tn\",\n",
    "\"/camera_deputatilor/grupuri_prietenie/flags1/turcia.gif\":\"tr\",\n",
    "\"/camera_deputatilor/grupuri_prietenie/flags1/turkmenistan.gif\":\"tm\",\n",
    "\"/camera_deputatilor/grupuri_prietenie/flags1/ucraina.gif\":\"ua\",\n",
    "\"/camera_deputatilor/grupuri_prietenie/flags1/ungaria.gif\":\"hu\",\n",
    "\"/camera_deputatilor/grupuri_prietenie/flags1/urss.gif\":\"uu\",\n",
    "\"/camera_deputatilor/grupuri_prietenie/flags1/usa.png\":\"us\",\n",
    "\"/camera_deputatilor/grupuri_prietenie/flags1/uruguay.gif\":\"uy\",\n",
    "\"/camera_deputatilor/grupuri_prietenie/flags1/venezuela.gif\":\"ve\",\n",
    "\"/camera_deputatilor/grupuri_prietenie/flags1/vietnam.gif\":\"vn\",\n",
    "\"/camera_deputatilor/grupuri_prietenie/flags1/zambia.gif\":\"zm\",\n",
    "\"/img/spacer.gif\":\"uu\"}"
   ]
  },
  {
   "cell_type": "code",
   "execution_count": 176,
   "metadata": {},
   "outputs": [],
   "source": [
    "#!pip install pycountry\n",
    "import pycountry\n",
    "import gettext\n",
    "#!pip install emoji-country-flag\n",
    "import flag\n",
    "hun = gettext.translation('iso3166', pycountry.LOCALES_DIR,\n",
    "                              languages=['hu'])\n",
    "hun.install()"
   ]
  },
  {
   "cell_type": "code",
   "execution_count": 177,
   "metadata": {},
   "outputs": [],
   "source": [
    "def local_country(c):\n",
    "    if c=='uu':return 'Más ország'\n",
    "    z=_(pycountry.countries.get(alpha_2=c.upper()).name)\n",
    "    #manual overrides\n",
    "    if z=='Koreai Köztársaság':z='Dél-Korea'\n",
    "    if z=='Nagy-Britannia (Egyesült Királyság)':z='Egyesült Királyság'\n",
    "    if z=='Macedón Köztársaság':z='Macedónia'\n",
    "    if z=='Szíriai Arab Köztársaság':z='Szíria'\n",
    "    if z=='Venezuelai Bolivári Köztársaság':z='Venezuela'\n",
    "    if z=='Orosz Föderáció':z='Oroszország'\n",
    "    g=flag.flagize(':'+c.upper()+':')\n",
    "    return g+' '+z"
   ]
  },
  {
   "cell_type": "code",
   "execution_count": 178,
   "metadata": {},
   "outputs": [],
   "source": [
    "def tolerance_cleaner(ef,dt=30):\n",
    "    hfs=[]\n",
    "    df=ef.sort_values('start').groupby(['Típus','Csoportok','start','end']).first()\n",
    "    df=df.reset_index(level=[2,3], drop=False)\n",
    "    for p in df.index.get_level_values(0).unique():\n",
    "        for r in df.loc[p].index.get_level_values(0).unique():\n",
    "            hf=df.loc[p].loc[[r]].sort_values('start')\n",
    "            hf['dt']=list((hf[1:]['start']-hf['end'][:-1]).dt.days.values)+[0]\n",
    "            hf=hf.reset_index(drop=False)\n",
    "            new_column=[]\n",
    "            counters={i:0 for i in hf['Csoportok'].unique()}\n",
    "            for i in hf.index:\n",
    "                j=hf.loc[i]['Csoportok']\n",
    "                new_column.append(j+counters[j]*' ')\n",
    "                if hf.loc[i]['dt']>dt:\n",
    "                    counters[j]+=1\n",
    "            hf['Csoportok1']=new_column\n",
    "            hf['Típus']=p\n",
    "            hf=hf.drop(['dt'],axis=1)\n",
    "            hfs.append(hf)\n",
    "    hfs=pd.concat(hfs)\n",
    "    hfs=hfs.reset_index(drop=True)\n",
    "    return(hfs)"
   ]
  },
  {
   "cell_type": "code",
   "execution_count": 179,
   "metadata": {},
   "outputs": [],
   "source": [
    "efs=[]\n",
    "for n in nmembers:\n",
    "    m=nmembers[n]\n",
    "    data=[]\n",
    "    for p in m['Parties']:\n",
    "        start=pd.to_datetime(p['start'])\n",
    "        end=pd.to_datetime(p['end'])    \n",
    "        d={}\n",
    "        d['Name']=m['Name']['full']\n",
    "        d['Csoportok']=party_normalizer(p['party'])+' '+party_writer(p['party'])+' - '+img['party'][party_writer(p['party'])]['name']\n",
    "        d['Típus']='Párt'\n",
    "        d['Image']=img['party'][p['party']]['img']\n",
    "        d['start']=start\n",
    "        d['end']=end\n",
    "        d['duration']=pd.to_timedelta(end-start).days\n",
    "        data.append(d)\n",
    "        d=dict(d)\n",
    "        d['Csoportok']='🇷🇴 '+megyek[p['judet'].capitalize()]\n",
    "        d['Típus']='Megye'\n",
    "        data.append(d)\n",
    "    for p in m['Countries']:\n",
    "        start=pd.to_datetime(p['start'])\n",
    "        end=pd.to_datetime(p['end'])    \n",
    "        d={}\n",
    "        d['Name']=m['Name']['full']\n",
    "        d['Csoportok']=p['country']\n",
    "        d['Típus']='Ország'\n",
    "        d['Image']=img['state'][p['country']]\n",
    "        d['start']=start\n",
    "        d['end']=end\n",
    "        d['duration']=pd.to_timedelta(end-start).days\n",
    "        data.append(d)\n",
    "    for p in m['Groups']:\n",
    "        start=pd.to_datetime(p['start'])\n",
    "        end=pd.to_datetime(p['end'])    \n",
    "        d={}\n",
    "        d['Name']=m['Name']['full']\n",
    "        d['Csoportok']=p['group'].replace('Comisia pentru','').replace('Comisia','').strip().capitalize()\n",
    "        d['Típus']='Bizottság'\n",
    "        d['start']=start\n",
    "        d['end']=end\n",
    "        d['duration']=pd.to_timedelta(end-start).days\n",
    "        data.append(d)\n",
    "    for pi in range(len(m['Link'])):\n",
    "        p=m['Link'][pi]\n",
    "        start=pd.to_datetime(legs[p[-10:-6]][0])\n",
    "        end=pd.to_datetime(legs[p[-10:-6]][1])    \n",
    "        d={}\n",
    "        d['Name']=m['Name']['full']\n",
    "        d['Csoportok']=szen[int(p[-1])-1] #hu\n",
    "        #d['Csoportok']=szen2[int(p[-1])-1] #ro\n",
    "        d['Típus']='Kamara'\n",
    "        d['start']=start\n",
    "        d['end']=end\n",
    "        d['duration']=pd.to_timedelta(end-start).days\n",
    "        data.append(d)\n",
    "    ef=pd.DataFrame(data)\n",
    "    ef=ef.set_index('Típus').reset_index()\n",
    "    ef['Simple']=n\n",
    "    \n",
    "    #committees\n",
    "    ef=ef.replace(r).replace(r2)\n",
    "    \n",
    "    #countries\n",
    "    if 'Image' in ef.columns:\n",
    "        cz={}\n",
    "        cs=ef[ef['Típus']=='Ország'].groupby('Image').first()['Csoportok']\n",
    "        for i in sorted(ef[ef['Típus']=='Ország']['Image'].unique()):\n",
    "            cz[cs.loc[i]]=local_country(cc[i])\n",
    "\n",
    "        #manual overrides\n",
    "        cz['Republica Macedonia']='🇲🇰 Macedónia'\n",
    "        cz['Republica Federală Iugoslavia']='Jugoszlávia'\n",
    "        cz['fosta Republică Iugoslavă Macedonia']='🇲🇰 Macedónia'\n",
    "        cz['Republica Franceză - Senat']='🇫🇷 Franciaország'\n",
    "        cz['Republica Serbia']='🇷🇸 Szerbia'\n",
    "        cz['Republica Franceză - Adunarea Naţională']='🇫🇷 Franciaország'\n",
    "        ef=ef.replace(cz)\n",
    "    \n",
    "    #unique counting\n",
    "    new_column=[]\n",
    "    counters={i:0 for i in ef['Csoportok'].unique()}\n",
    "    for i in ef['Csoportok']:\n",
    "        new_column.append(i+counters[i]*' ')\n",
    "        counters[i]+=1\n",
    "    ef['Csoportok0']=new_column\n",
    "    \n",
    "    #tolerance\n",
    "    ef=tolerance_cleaner(ef).reset_index()\n",
    "    \n",
    "    #append\n",
    "    efs.append(ef)"
   ]
  },
  {
   "cell_type": "code",
   "execution_count": 180,
   "metadata": {},
   "outputs": [
    {
     "name": "stderr",
     "output_type": "stream",
     "text": [
      "C:\\ProgramData\\Anaconda3\\lib\\site-packages\\ipykernel_launcher.py:1: FutureWarning: Sorting because non-concatenation axis is not aligned. A future version\n",
      "of pandas will change to not sort by default.\n",
      "\n",
      "To accept the future behavior, pass 'sort=False'.\n",
      "\n",
      "To retain the current behavior and silence the warning, pass 'sort=True'.\n",
      "\n",
      "  \"\"\"Entry point for launching an IPython kernel.\n"
     ]
    }
   ],
   "source": [
    "efs2=pd.concat(efs)"
   ]
  },
  {
   "cell_type": "code",
   "execution_count": 185,
   "metadata": {},
   "outputs": [],
   "source": [
    "efs4=efs2[['start', 'end', 'Name', 'duration',\n",
    "       'Simple', 'Csoportok','Csoportok0','Csoportok1', 'Típus']]"
   ]
  },
  {
   "cell_type": "code",
   "execution_count": 186,
   "metadata": {},
   "outputs": [
    {
     "name": "stderr",
     "output_type": "stream",
     "text": [
      "C:\\ProgramData\\Anaconda3\\lib\\site-packages\\ipykernel_launcher.py:8: SettingWithCopyWarning: \n",
      "A value is trying to be set on a copy of a slice from a DataFrame.\n",
      "Try using .loc[row_indexer,col_indexer] = value instead\n",
      "\n",
      "See the caveats in the documentation: http://pandas.pydata.org/pandas-docs/stable/indexing.html#indexing-view-versus-copy\n",
      "  \n"
     ]
    }
   ],
   "source": [
    "efs4['Name']=efs4['Name'].str.replace('chestor al Camerei Deputaţilor','')\\\n",
    "    .str.replace('vicepreşedinte al Camerei Deputaţilor','')\\\n",
    "    .str.replace('secretar al Camerei Deputaţilor','')\\\n",
    "    .str.replace('Preşedintele Senatului','')\\\n",
    "    .str.replace('Preşedintele Camerei Deputaţilor','')\\\n",
    "    .str.replace('secretar al Senatului','')\\\n",
    "    .str.replace('chestor al Senatului','')\\\n",
    "    .str.replace('vicepreşedinte al Senatului','')"
   ]
  },
  {
   "cell_type": "code",
   "execution_count": 187,
   "metadata": {},
   "outputs": [
    {
     "data": {
      "text/plain": [
       "10875912"
      ]
     },
     "execution_count": 187,
     "metadata": {},
     "output_type": "execute_result"
    }
   ],
   "source": [
    "j=efs4.reset_index().drop('index',axis=1).T.astype(str).to_dict()\n",
    "open('ignore/member_timelines.json','w').write(json.dumps(list(j.values())))"
   ]
  },
  {
   "cell_type": "code",
   "execution_count": 188,
   "metadata": {},
   "outputs": [],
   "source": [
    "import zipfile\n",
    "\n",
    "with zipfile.ZipFile(\"json/member_timelines.zip\", \"w\", compression=zipfile.ZIP_DEFLATED) as zf:\n",
    "    zf.write(\"ignore/member_timelines.json\",\"member_timelines.json\")"
   ]
  },
  {
   "cell_type": "code",
   "execution_count": 189,
   "metadata": {},
   "outputs": [],
   "source": [
    "members={}\n",
    "simple={}\n",
    "simple2={}\n",
    "for i in efs4[['Name','Simple']].T.iteritems():\n",
    "    if i[1][0] not in simple: simple[i[1][0]]=i[1][1]\n",
    "    if i[1][1] not in simple2: simple2[i[1][1]]=i[1][0]\n",
    "members['s']=simple\n",
    "members['s2']=simple2"
   ]
  },
  {
   "cell_type": "code",
   "execution_count": 190,
   "metadata": {},
   "outputs": [],
   "source": [
    "members['megye']=efs4[efs4['Típus']=='Megye'].sort_values(by='start')[['Simple','Csoportok']].set_index('Csoportok')\\\n",
    "    .drop_duplicates(keep='last').reset_index().set_index('Simple')['Csoportok'].to_dict()"
   ]
  },
  {
   "cell_type": "code",
   "execution_count": 191,
   "metadata": {},
   "outputs": [],
   "source": [
    "members['part']=efs4[efs4['Típus']=='Párt'].sort_values(by='start')[['Simple','Csoportok']].set_index('Csoportok')\\\n",
    "    .drop_duplicates(keep='last').reset_index().set_index('Simple')['Csoportok'].to_dict()"
   ]
  },
  {
   "cell_type": "code",
   "execution_count": 192,
   "metadata": {},
   "outputs": [],
   "source": [
    "members['deaths']=deaths"
   ]
  },
  {
   "cell_type": "markdown",
   "metadata": {},
   "source": [
    "Vega direct plot"
   ]
  },
  {
   "cell_type": "code",
   "execution_count": 193,
   "metadata": {},
   "outputs": [
    {
     "data": {
      "application/vnd.vegalite.v3+json": {
       "$schema": "https://vega.github.io/schema/vega-lite/v3.3.0.json",
       "config": {
        "mark": {
         "tooltip": null
        },
        "view": {
         "height": 300,
         "width": 400
        }
       },
       "data": {
        "name": "data-b7aefb365acc275870caa9412c48f392"
       },
       "datasets": {
        "data-b7aefb365acc275870caa9412c48f392": [
         {
          "Csoportok": "⏫ Gazdaság, ipar",
          "Csoportok0": "⏫ Gazdaság, ipar",
          "Csoportok1": "⏫ Gazdaság, ipar",
          "Name": "Călin Constantin Anton POPESCU-TĂRICEANU",
          "Simple": "Popescu-Tariceanu Calin Constantin Anton | 1952-01-14",
          "Típus": "Bizottság",
          "duration": 850,
          "end": "1992-10-16T00:00:00",
          "start": "1990-06-19T00:00:00"
         },
         {
          "Csoportok": "⏫ Gazdaság, ipar",
          "Csoportok0": "⏫ Gazdaság, ipar ",
          "Csoportok1": "⏫ Gazdaság, ipar ",
          "Name": "Călin Constantin Anton POPESCU-TĂRICEANU",
          "Simple": "Popescu-Tariceanu Calin Constantin Anton | 1952-01-14",
          "Típus": "Bizottság",
          "duration": 1464,
          "end": "2000-11-30T00:00:00",
          "start": "1996-11-27T00:00:00"
         },
         {
          "Csoportok": "🌐 Külpolitika, diaszpóra",
          "Csoportok0": "🌐 Külpolitika, diaszpóra",
          "Csoportok1": "🌐 Külpolitika, diaszpóra",
          "Name": "Călin Constantin Anton POPESCU-TĂRICEANU",
          "Simple": "Popescu-Tariceanu Calin Constantin Anton | 1952-01-14",
          "Típus": "Bizottság",
          "duration": 1462,
          "end": "2012-12-20T00:00:00",
          "start": "2008-12-19T00:00:00"
         },
         {
          "Csoportok": "🌐 Külpolitika, diaszpóra",
          "Csoportok0": "🌐 Külpolitika, diaszpóra ",
          "Csoportok1": "🌐 Külpolitika, diaszpóra",
          "Name": "Călin Constantin Anton POPESCU-TĂRICEANU",
          "Simple": "Popescu-Tariceanu Calin Constantin Anton | 1952-01-14",
          "Típus": "Bizottság",
          "duration": 436,
          "end": "2014-03-01T00:00:00",
          "start": "2012-12-20T00:00:00"
         },
         {
          "Csoportok": "💹 Pénzügy",
          "Csoportok0": "💹 Pénzügy",
          "Csoportok1": "💹 Pénzügy",
          "Name": "Călin Constantin Anton POPESCU-TĂRICEANU",
          "Simple": "Popescu-Tariceanu Calin Constantin Anton | 1952-01-14",
          "Típus": "Bizottság",
          "duration": 1446,
          "end": "2004-11-30T00:00:00",
          "start": "2000-12-15T00:00:00"
         },
         {
          "Csoportok": "🔠 Oktatás, tudomány, sport",
          "Csoportok0": "🔠 Oktatás, tudomány, sport",
          "Csoportok1": "🔠 Oktatás, tudomány, sport",
          "Name": "Călin Constantin Anton POPESCU-TĂRICEANU",
          "Simple": "Popescu-Tariceanu Calin Constantin Anton | 1952-01-14",
          "Típus": "Bizottság",
          "duration": 850,
          "end": "1992-10-16T00:00:00",
          "start": "1990-06-19T00:00:00"
         },
         {
          "Csoportok": "🚹 Emberi jogok, kisebbségek",
          "Csoportok0": "🚹 Emberi jogok, kisebbségek",
          "Csoportok1": "🚹 Emberi jogok, kisebbségek",
          "Name": "Călin Constantin Anton POPESCU-TĂRICEANU",
          "Simple": "Popescu-Tariceanu Calin Constantin Anton | 1952-01-14",
          "Típus": "Bizottság",
          "duration": 1455,
          "end": "2008-12-13T00:00:00",
          "start": "2004-12-19T00:00:00"
         },
         {
          "Csoportok": "🔼 Szenátus",
          "Csoportok0": "🔼 Szenátus",
          "Csoportok1": "🔼 Szenátus",
          "Name": "Călin Constantin Anton POPESCU-TĂRICEANU",
          "Simple": "Popescu-Tariceanu Calin Constantin Anton | 1952-01-14",
          "Típus": "Kamara",
          "duration": 1462,
          "end": "2016-12-21T00:00:00",
          "start": "2012-12-20T00:00:00"
         },
         {
          "Csoportok": "🔼 Szenátus",
          "Csoportok0": "🔼 Szenátus ",
          "Csoportok1": "🔼 Szenátus",
          "Name": "Călin Constantin Anton POPESCU-TĂRICEANU",
          "Simple": "Popescu-Tariceanu Calin Constantin Anton | 1952-01-14",
          "Típus": "Kamara",
          "duration": 922,
          "end": "2019-07-01T00:00:00",
          "start": "2016-12-21T00:00:00"
         },
         {
          "Csoportok": "🔽 Képviselőház",
          "Csoportok0": "🔽 Képviselőház ",
          "Csoportok1": "🔽 Képviselőház",
          "Name": "Călin Constantin Anton POPESCU-TĂRICEANU",
          "Simple": "Popescu-Tariceanu Calin Constantin Anton | 1952-01-14",
          "Típus": "Kamara",
          "duration": 850,
          "end": "1992-10-16T00:00:00",
          "start": "1990-06-19T00:00:00"
         },
         {
          "Csoportok": "🔽 Képviselőház",
          "Csoportok0": "🔽 Képviselőház  ",
          "Csoportok1": "🔽 Képviselőház ",
          "Name": "Călin Constantin Anton POPESCU-TĂRICEANU",
          "Simple": "Popescu-Tariceanu Calin Constantin Anton | 1952-01-14",
          "Típus": "Kamara",
          "duration": 1464,
          "end": "2000-11-30T00:00:00",
          "start": "1996-11-27T00:00:00"
         },
         {
          "Csoportok": "🔽 Képviselőház",
          "Csoportok0": "🔽 Képviselőház    ",
          "Csoportok1": "🔽 Képviselőház ",
          "Name": "Călin Constantin Anton POPESCU-TĂRICEANU",
          "Simple": "Popescu-Tariceanu Calin Constantin Anton | 1952-01-14",
          "Típus": "Kamara",
          "duration": 1446,
          "end": "2004-11-30T00:00:00",
          "start": "2000-12-15T00:00:00"
         },
         {
          "Csoportok": "🔽 Képviselőház",
          "Csoportok0": "🔽 Képviselőház   ",
          "Csoportok1": "🔽 Képviselőház ",
          "Name": "Călin Constantin Anton POPESCU-TĂRICEANU",
          "Simple": "Popescu-Tariceanu Calin Constantin Anton | 1952-01-14",
          "Típus": "Kamara",
          "duration": 1455,
          "end": "2008-12-13T00:00:00",
          "start": "2004-12-19T00:00:00"
         },
         {
          "Csoportok": "🔽 Képviselőház",
          "Csoportok0": "🔽 Képviselőház",
          "Csoportok1": "🔽 Képviselőház ",
          "Name": "Călin Constantin Anton POPESCU-TĂRICEANU",
          "Simple": "Popescu-Tariceanu Calin Constantin Anton | 1952-01-14",
          "Típus": "Kamara",
          "duration": 1462,
          "end": "2012-12-20T00:00:00",
          "start": "2008-12-19T00:00:00"
         },
         {
          "Csoportok": "🇷🇴 Arad",
          "Csoportok0": "🇷🇴 Arad",
          "Csoportok1": "🇷🇴 Arad",
          "Name": "Călin Constantin Anton POPESCU-TĂRICEANU",
          "Simple": "Popescu-Tariceanu Calin Constantin Anton | 1952-01-14",
          "Típus": "Megye",
          "duration": 850,
          "end": "1992-10-16T00:00:00",
          "start": "1990-06-19T00:00:00"
         },
         {
          "Csoportok": "🇷🇴 Bukarest",
          "Csoportok0": "🇷🇴 Bukarest",
          "Csoportok1": "🇷🇴 Bukarest",
          "Name": "Călin Constantin Anton POPESCU-TĂRICEANU",
          "Simple": "Popescu-Tariceanu Calin Constantin Anton | 1952-01-14",
          "Típus": "Megye",
          "duration": 1464,
          "end": "2000-11-30T00:00:00",
          "start": "1996-11-27T00:00:00"
         },
         {
          "Csoportok": "🇷🇴 Bukarest",
          "Csoportok0": "🇷🇴 Bukarest    ",
          "Csoportok1": "🇷🇴 Bukarest",
          "Name": "Călin Constantin Anton POPESCU-TĂRICEANU",
          "Simple": "Popescu-Tariceanu Calin Constantin Anton | 1952-01-14",
          "Típus": "Megye",
          "duration": 1446,
          "end": "2004-11-30T00:00:00",
          "start": "2000-12-15T00:00:00"
         },
         {
          "Csoportok": "🇷🇴 Bukarest",
          "Csoportok0": "🇷🇴 Bukarest ",
          "Csoportok1": "🇷🇴 Bukarest",
          "Name": "Călin Constantin Anton POPESCU-TĂRICEANU",
          "Simple": "Popescu-Tariceanu Calin Constantin Anton | 1952-01-14",
          "Típus": "Megye",
          "duration": 1455,
          "end": "2008-12-13T00:00:00",
          "start": "2004-12-19T00:00:00"
         },
         {
          "Csoportok": "🇷🇴 Bukarest",
          "Csoportok0": "🇷🇴 Bukarest  ",
          "Csoportok1": "🇷🇴 Bukarest ",
          "Name": "Călin Constantin Anton POPESCU-TĂRICEANU",
          "Simple": "Popescu-Tariceanu Calin Constantin Anton | 1952-01-14",
          "Típus": "Megye",
          "duration": 436,
          "end": "2014-03-01T00:00:00",
          "start": "2012-12-20T00:00:00"
         },
         {
          "Csoportok": "🇷🇴 Bukarest",
          "Csoportok0": "🇷🇴 Bukarest   ",
          "Csoportok1": "🇷🇴 Bukarest ",
          "Name": "Călin Constantin Anton POPESCU-TĂRICEANU",
          "Simple": "Popescu-Tariceanu Calin Constantin Anton | 1952-01-14",
          "Típus": "Megye",
          "duration": 1026,
          "end": "2016-12-21T00:00:00",
          "start": "2014-03-01T00:00:00"
         },
         {
          "Csoportok": "🇷🇴 Bukarest",
          "Csoportok0": "🇷🇴 Bukarest     ",
          "Csoportok1": "🇷🇴 Bukarest ",
          "Name": "Călin Constantin Anton POPESCU-TĂRICEANU",
          "Simple": "Popescu-Tariceanu Calin Constantin Anton | 1952-01-14",
          "Típus": "Megye",
          "duration": 922,
          "end": "2019-07-01T00:00:00",
          "start": "2016-12-21T00:00:00"
         },
         {
          "Csoportok": "🇷🇴 Ilfov",
          "Csoportok0": "🇷🇴 Ilfov",
          "Csoportok1": "🇷🇴 Ilfov",
          "Name": "Călin Constantin Anton POPESCU-TĂRICEANU",
          "Simple": "Popescu-Tariceanu Calin Constantin Anton | 1952-01-14",
          "Típus": "Megye",
          "duration": 1462,
          "end": "2012-12-20T00:00:00",
          "start": "2008-12-19T00:00:00"
         },
         {
          "Csoportok": "🇫🇷 Franciaország",
          "Csoportok0": "🇫🇷 Franciaország",
          "Csoportok1": "🇫🇷 Franciaország",
          "Name": "Călin Constantin Anton POPESCU-TĂRICEANU",
          "Simple": "Popescu-Tariceanu Calin Constantin Anton | 1952-01-14",
          "Típus": "Ország",
          "duration": 801,
          "end": "2015-03-01T00:00:00",
          "start": "2012-12-20T00:00:00"
         },
         {
          "Csoportok": "🇬🇷 Görögország",
          "Csoportok0": "🇬🇷 Görögország",
          "Csoportok1": "🇬🇷 Görögország",
          "Name": "Călin Constantin Anton POPESCU-TĂRICEANU",
          "Simple": "Popescu-Tariceanu Calin Constantin Anton | 1952-01-14",
          "Típus": "Ország",
          "duration": 850,
          "end": "1992-10-16T00:00:00",
          "start": "1990-06-19T00:00:00"
         },
         {
          "Csoportok": "🇬🇷 Görögország",
          "Csoportok0": "🇬🇷 Görögország ",
          "Csoportok1": "🇬🇷 Görögország ",
          "Name": "Călin Constantin Anton POPESCU-TĂRICEANU",
          "Simple": "Popescu-Tariceanu Calin Constantin Anton | 1952-01-14",
          "Típus": "Ország",
          "duration": 1446,
          "end": "2004-11-30T00:00:00",
          "start": "2000-12-15T00:00:00"
         },
         {
          "Csoportok": "🇵🇭 Fülöp-szigetek",
          "Csoportok0": "🇵🇭 Fülöp-szigetek",
          "Csoportok1": "🇵🇭 Fülöp-szigetek",
          "Name": "Călin Constantin Anton POPESCU-TĂRICEANU",
          "Simple": "Popescu-Tariceanu Calin Constantin Anton | 1952-01-14",
          "Típus": "Ország",
          "duration": 1398,
          "end": "2000-11-30T00:00:00",
          "start": "1997-02-01T00:00:00"
         },
         {
          "Csoportok": "🇵🇭 Fülöp-szigetek",
          "Csoportok0": "🇵🇭 Fülöp-szigetek ",
          "Csoportok1": "🇵🇭 Fülöp-szigetek",
          "Name": "Călin Constantin Anton POPESCU-TĂRICEANU",
          "Simple": "Popescu-Tariceanu Calin Constantin Anton | 1952-01-14",
          "Típus": "Ország",
          "duration": 1446,
          "end": "2004-11-30T00:00:00",
          "start": "2000-12-15T00:00:00"
         },
         {
          "Csoportok": "👤 Independent - Independent",
          "Csoportok0": "👤 Independent - Independent",
          "Csoportok1": "👤 Independent - Independent",
          "Name": "Călin Constantin Anton POPESCU-TĂRICEANU",
          "Simple": "Popescu-Tariceanu Calin Constantin Anton | 1952-01-14",
          "Típus": "Párt",
          "duration": 1026,
          "end": "2016-12-21T00:00:00",
          "start": "2014-03-01T00:00:00"
         },
         {
          "Csoportok": "📐 PNL - Partidul Naţional Liberal",
          "Csoportok0": "📐 PNL - Partidul Naţional Liberal ",
          "Csoportok1": "📐 PNL - Partidul Naţional Liberal",
          "Name": "Călin Constantin Anton POPESCU-TĂRICEANU",
          "Simple": "Popescu-Tariceanu Calin Constantin Anton | 1952-01-14",
          "Típus": "Párt",
          "duration": 850,
          "end": "1992-10-16T00:00:00",
          "start": "1990-06-19T00:00:00"
         },
         {
          "Csoportok": "📐 PNL - Partidul Naţional Liberal",
          "Csoportok0": "📐 PNL - Partidul Naţional Liberal  ",
          "Csoportok1": "📐 PNL - Partidul Naţional Liberal ",
          "Name": "Călin Constantin Anton POPESCU-TĂRICEANU",
          "Simple": "Popescu-Tariceanu Calin Constantin Anton | 1952-01-14",
          "Típus": "Párt",
          "duration": 1464,
          "end": "2000-11-30T00:00:00",
          "start": "1996-11-27T00:00:00"
         },
         {
          "Csoportok": "📐 PNL - Partidul Naţional Liberal",
          "Csoportok0": "📐 PNL - Partidul Naţional Liberal     ",
          "Csoportok1": "📐 PNL - Partidul Naţional Liberal ",
          "Name": "Călin Constantin Anton POPESCU-TĂRICEANU",
          "Simple": "Popescu-Tariceanu Calin Constantin Anton | 1952-01-14",
          "Típus": "Párt",
          "duration": 1446,
          "end": "2004-11-30T00:00:00",
          "start": "2000-12-15T00:00:00"
         },
         {
          "Csoportok": "📐 PNL - Partidul Naţional Liberal",
          "Csoportok0": "📐 PNL - Partidul Naţional Liberal   ",
          "Csoportok1": "📐 PNL - Partidul Naţional Liberal ",
          "Name": "Călin Constantin Anton POPESCU-TĂRICEANU",
          "Simple": "Popescu-Tariceanu Calin Constantin Anton | 1952-01-14",
          "Típus": "Párt",
          "duration": 1455,
          "end": "2008-12-13T00:00:00",
          "start": "2004-12-19T00:00:00"
         },
         {
          "Csoportok": "📐 PNL - Partidul Naţional Liberal",
          "Csoportok0": "📐 PNL - Partidul Naţional Liberal",
          "Csoportok1": "📐 PNL - Partidul Naţional Liberal ",
          "Name": "Călin Constantin Anton POPESCU-TĂRICEANU",
          "Simple": "Popescu-Tariceanu Calin Constantin Anton | 1952-01-14",
          "Típus": "Párt",
          "duration": 1462,
          "end": "2012-12-20T00:00:00",
          "start": "2008-12-19T00:00:00"
         },
         {
          "Csoportok": "📐 PNL - Partidul Naţional Liberal",
          "Csoportok0": "📐 PNL - Partidul Naţional Liberal    ",
          "Csoportok1": "📐 PNL - Partidul Naţional Liberal ",
          "Name": "Călin Constantin Anton POPESCU-TĂRICEANU",
          "Simple": "Popescu-Tariceanu Calin Constantin Anton | 1952-01-14",
          "Típus": "Párt",
          "duration": 436,
          "end": "2014-03-01T00:00:00",
          "start": "2012-12-20T00:00:00"
         },
         {
          "Csoportok": "🕊️ ALDE - Partidul Alianţa Liberalilor şi Democraţilor",
          "Csoportok0": "🕊️ ALDE - Partidul Alianţa Liberalilor şi Democraţilor",
          "Csoportok1": "🕊️ ALDE - Partidul Alianţa Liberalilor şi Democraţilor",
          "Name": "Călin Constantin Anton POPESCU-TĂRICEANU",
          "Simple": "Popescu-Tariceanu Calin Constantin Anton | 1952-01-14",
          "Típus": "Párt",
          "duration": 922,
          "end": "2019-07-01T00:00:00",
          "start": "2016-12-21T00:00:00"
         }
        ]
       },
       "encoding": {
        "color": {
         "field": "Típus",
         "sort": {
          "field": "order",
          "op": "mean",
          "order": "descending"
         },
         "type": "nominal"
        },
        "x": {
         "field": "start",
         "title": "",
         "type": "temporal"
        },
        "x2": {
         "field": "end"
        },
        "y": {
         "field": "Csoportok",
         "sort": {
          "field": "order",
          "op": "mean",
          "order": "descending"
         },
         "title": "",
         "type": "nominal"
        }
       },
       "mark": "bar",
       "selection": {
        "selector003": {
         "bind": "scales",
         "encodings": [
          "x",
          "y"
         ],
         "type": "interval"
        }
       },
       "title": "Popescu-Tariceanu Calin Constantin Anton | 1952-01-14"
      },
      "text/plain": [
       "<VegaLite 3 object>\n",
       "\n",
       "If you see this message, it means the renderer has not been properly enabled\n",
       "for the frontend that you are using. For more information, see\n",
       "https://altair-viz.github.io/user_guide/troubleshooting.html\n"
      ]
     },
     "execution_count": 193,
     "metadata": {},
     "output_type": "execute_result"
    }
   ],
   "source": [
    "m='Popescu-Tariceanu Calin Constantin Anton | 1952-01-14'\n",
    "ef=efs4[efs4['Simple']==m]\n",
    "viz=alt.Chart(ef,\n",
    "          title=m\n",
    "         ).mark_bar().encode(\n",
    "    x=alt.X('start:T',title=''),\n",
    "    x2='end:T',\n",
    "    y=alt.Y('Csoportok:N',title='',\n",
    "            sort=alt.EncodingSortField(field=\"order\", op=\"mean\", order='descending')),\n",
    "    color=alt.Color('Típus:N',\n",
    "        sort=alt.EncodingSortField(field=\"order\", op=\"mean\", order='descending'))\n",
    ")\n",
    "# viz.save('json/viz.json')\n",
    "viz.interactive()"
   ]
  },
  {
   "cell_type": "markdown",
   "metadata": {},
   "source": [
    "Member images"
   ]
  },
  {
   "cell_type": "code",
   "execution_count": 194,
   "metadata": {},
   "outputs": [],
   "source": [
    "photos={name:nmembers[name]['Photo'][np.array([p[-10:-6] for p in nmembers[name]['Link']]).argmax()] for name in nmembers}"
   ]
  },
  {
   "cell_type": "markdown",
   "metadata": {},
   "source": [
    "Download photos if you need to.."
   ]
  },
  {
   "cell_type": "code",
   "execution_count": null,
   "metadata": {},
   "outputs": [],
   "source": [
    "import urllib.request"
   ]
  },
  {
   "cell_type": "code",
   "execution_count": null,
   "metadata": {},
   "outputs": [],
   "source": [
    "#downloader - run once only\n",
    "for p in photos:\n",
    "    urllib.request.urlretrieve(photos[p], \"photos3/\"+p.replace('|','+')+'.jpg')"
   ]
  },
  {
   "cell_type": "code",
   "execution_count": null,
   "metadata": {},
   "outputs": [],
   "source": [
    "from PIL import Image\n",
    "#!pip install python-resize-image\n",
    "from resizeimage import resizeimage"
   ]
  },
  {
   "cell_type": "code",
   "execution_count": null,
   "metadata": {},
   "outputs": [],
   "source": [
    "err=[]\n",
    "for p in photos:\n",
    "    try:\n",
    "        img = Image.open('photos3/'+p.replace('|','+')+'.jpg', 'r')\n",
    "        img = resizeimage.resize_cover(img, [123,150])\n",
    "        img.save('photos4/'+p.replace('|','+')+'.jpg', img.format)\n",
    "    except:\n",
    "        print(p)\n",
    "        err.append(p)"
   ]
  },
  {
   "cell_type": "code",
   "execution_count": null,
   "metadata": {},
   "outputs": [],
   "source": [
    "#run this then iterate cell above until no errors\n",
    "for p in err:\n",
    "    urllib.request.urlretrieve(photos[p], \"photos3/\"+p.replace('|','+')+'.jpg')"
   ]
  },
  {
   "cell_type": "code",
   "execution_count": null,
   "metadata": {},
   "outputs": [],
   "source": [
    "for p in err:\n",
    "    try:\n",
    "        img = Image.open('photos3/'+p.replace('|','+')+'.jpg', 'r')\n",
    "        img = resizeimage.resize_cover(img, [123,150])\n",
    "        img.save('photos4/'+p.replace('|','+')+'.jpg', img.format)\n",
    "    except:\n",
    "        img = Image.open('photos3/'+p.replace('|','+')+'.jpg', 'r')\n",
    "        img.save('photos4/'+p.replace('|','+')+'.jpg', img.format)"
   ]
  },
  {
   "cell_type": "markdown",
   "metadata": {},
   "source": [
    "Otherwise continue here:"
   ]
  },
  {
   "cell_type": "code",
   "execution_count": 195,
   "metadata": {},
   "outputs": [],
   "source": [
    "members['photo']={p:'photos4/'+p.replace('|','+')+'.jpg' for p in photos}"
   ]
  },
  {
   "cell_type": "code",
   "execution_count": 196,
   "metadata": {},
   "outputs": [
    {
     "data": {
      "text/plain": [
       "974747"
      ]
     },
     "execution_count": 196,
     "metadata": {},
     "output_type": "execute_result"
    }
   ],
   "source": [
    "open('ignore/member_simple.json','w').write(json.dumps(members))"
   ]
  },
  {
   "cell_type": "code",
   "execution_count": 197,
   "metadata": {},
   "outputs": [],
   "source": [
    "import zipfile\n",
    "\n",
    "with zipfile.ZipFile(\"json/member_simple.zip\", \"w\", compression=zipfile.ZIP_DEFLATED) as zf:\n",
    "    zf.write(\"ignore/member_simple.json\",\"member_simple.json\")"
   ]
  },
  {
   "cell_type": "code",
   "execution_count": 198,
   "metadata": {},
   "outputs": [],
   "source": [
    "pretty={'- din care declaraţii politice':'🧾 Nyilatkozatok',\n",
    "        'Declaraţii politice depuse în scris':'🧾 Nyilatkozatok',\n",
    "       'Luari de cuvânt':'🎙️ Felszólalások', \n",
    "        'Luari de cuvânt în BP':'🎙️ Felszólalások', \n",
    "        'Motiuni':'📚 Javaslatok', \n",
    "        'Proiecte de hotarâre initiate':'📚 Javaslatok', \n",
    "        'Propuneri legislative initiate':'📚 Javaslatok',\n",
    "        'Sedințe':'💺 Ülések', \n",
    "        'Întrebari si interpelari':'🎙️ Felszólalások'}"
   ]
  },
  {
   "cell_type": "code",
   "execution_count": 199,
   "metadata": {},
   "outputs": [],
   "source": [
    "efx=[]\n",
    "for n in nmembers:\n",
    "    m=nmembers[n]\n",
    "    data=[]\n",
    "    for pi in range(len(m['Link'])):\n",
    "        p=m['Link'][pi]\n",
    "        d={}\n",
    "        d['Simple']=n\n",
    "        d['Link']=p\n",
    "        d['Session']=p[-10:-6]\n",
    "        for a in m['Activity']:\n",
    "            if type(m['Activity'][a])==list:\n",
    "                g=m['Activity'][a]\n",
    "            else:\n",
    "                g=[m['Activity'][a]]\n",
    "            for h in g:\n",
    "                if h['start']==legs[d['Session']][0]: \n",
    "                    if pretty[a] not in d:d[pretty[a]]=0\n",
    "                    d[pretty[a]]+=h['value']\n",
    "        data.append(d)\n",
    "    ef=pd.DataFrame(data)\n",
    "    \n",
    "    #append\n",
    "    efx.append(ef)"
   ]
  },
  {
   "cell_type": "code",
   "execution_count": 200,
   "metadata": {},
   "outputs": [
    {
     "name": "stderr",
     "output_type": "stream",
     "text": [
      "C:\\ProgramData\\Anaconda3\\lib\\site-packages\\ipykernel_launcher.py:1: FutureWarning: Sorting because non-concatenation axis is not aligned. A future version\n",
      "of pandas will change to not sort by default.\n",
      "\n",
      "To accept the future behavior, pass 'sort=False'.\n",
      "\n",
      "To retain the current behavior and silence the warning, pass 'sort=True'.\n",
      "\n",
      "  \"\"\"Entry point for launching an IPython kernel.\n"
     ]
    }
   ],
   "source": [
    "efx2=pd.concat(efx).fillna(0).reset_index().drop('index',axis=1)"
   ]
  },
  {
   "cell_type": "code",
   "execution_count": 201,
   "metadata": {},
   "outputs": [],
   "source": [
    "j=efx2.T.astype(str).to_dict()\n",
    "j2=list(j.values())"
   ]
  },
  {
   "cell_type": "code",
   "execution_count": 202,
   "metadata": {},
   "outputs": [],
   "source": [
    "j3={}\n",
    "for i in j2:\n",
    "    if i['Simple'] not in j3:j3[i['Simple']]=[]\n",
    "    j3[i['Simple']].append(i)"
   ]
  },
  {
   "cell_type": "code",
   "execution_count": 203,
   "metadata": {},
   "outputs": [
    {
     "data": {
      "text/plain": [
       "1433479"
      ]
     },
     "execution_count": 203,
     "metadata": {},
     "output_type": "execute_result"
    }
   ],
   "source": [
    "open('ignore/member_activity.json','w').write(json.dumps(j3))"
   ]
  },
  {
   "cell_type": "code",
   "execution_count": 204,
   "metadata": {},
   "outputs": [],
   "source": [
    "import zipfile\n",
    "\n",
    "with zipfile.ZipFile(\"json/member_activity.zip\", \"w\", compression=zipfile.ZIP_DEFLATED) as zf:\n",
    "    zf.write(\"ignore/member_activity.json\",\"member_activity.json\")"
   ]
  },
  {
   "cell_type": "code",
   "execution_count": null,
   "metadata": {},
   "outputs": [],
   "source": []
  }
 ],
 "metadata": {
  "kernelspec": {
   "display_name": "Python 3",
   "language": "python",
   "name": "python3"
  },
  "language_info": {
   "codemirror_mode": {
    "name": "ipython",
    "version": 3
   },
   "file_extension": ".py",
   "mimetype": "text/x-python",
   "name": "python",
   "nbconvert_exporter": "python",
   "pygments_lexer": "ipython3",
   "version": "3.6.7"
  },
  "toc": {
   "base_numbering": 1,
   "nav_menu": {},
   "number_sections": true,
   "sideBar": true,
   "skip_h1_title": false,
   "title_cell": "Table of Contents",
   "title_sidebar": "Contents",
   "toc_cell": false,
   "toc_position": {},
   "toc_section_display": true,
   "toc_window_display": false
  }
 },
 "nbformat": 4,
 "nbformat_minor": 2
}
