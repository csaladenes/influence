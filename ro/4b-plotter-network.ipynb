{
 "cells": [
  {
   "cell_type": "code",
   "execution_count": 4,
   "metadata": {
    "ExecuteTime": {
     "end_time": "2019-03-07T02:56:32.521682Z",
     "start_time": "2019-03-07T02:56:26.288106Z"
    }
   },
   "outputs": [],
   "source": [
    "import pandas as pd, numpy as np, json, os"
   ]
  },
  {
   "cell_type": "code",
   "execution_count": 188,
   "metadata": {},
   "outputs": [],
   "source": [
    "m=json.loads(open('json/member_timelines.json','r').read())"
   ]
  },
  {
   "cell_type": "code",
   "execution_count": 330,
   "metadata": {},
   "outputs": [
    {
     "name": "stdout",
     "output_type": "stream",
     "text": [
      "0.0 %\n",
      "3.289040915668991 %\n",
      "6.578081831337982 %\n",
      "9.867122747006974 %\n",
      "13.156163662675963 %\n",
      "16.445204578344956 %\n",
      "19.734245494013948 %\n",
      "23.023286409682935 %\n",
      "26.312327325351927 %\n",
      "29.60136824102092 %\n",
      "32.89040915668991 %\n",
      "36.1794500723589 %\n",
      "39.468490988027895 %\n",
      "42.75753190369688 %\n",
      "46.04657281936587 %\n",
      "49.33561373503486 %\n",
      "52.62465465070385 %\n",
      "55.913695566372844 %\n",
      "59.20273648204184 %\n",
      "62.49177739771083 %\n",
      "65.78081831337983 %\n",
      "69.06985922904882 %\n",
      "72.3589001447178 %\n",
      "75.64794106038678 %\n",
      "78.93698197605579 %\n",
      "82.22602289172477 %\n",
      "85.51506380739376 %\n",
      "88.80410472306276 %\n",
      "92.09314563873174 %\n",
      "95.38218655440073 %\n",
      "98.67122747006972 %\n"
     ]
    }
   ],
   "source": [
    "data={'Ország':{},'Bizottság':{},'Párt':{}}\n",
    "for k,i in enumerate(m):\n",
    "    if k%1000==0: print(k/len(m)*100,'%')\n",
    "    if i['Típus'] in list(data.keys()):\n",
    "        if i['Csoportok'] not in data[i['Típus']]:data[i['Típus']][i['Csoportok']]={}\n",
    "        for t in pd.date_range(i['start'],i['end']):\n",
    "            st=str(t)[:10]\n",
    "            if st not in data[i['Típus']][i['Csoportok']]:data[i['Típus']][i['Csoportok']][st]=set()\n",
    "            data[i['Típus']][i['Csoportok']][st].add(i['Name'])"
   ]
  },
  {
   "cell_type": "code",
   "execution_count": 339,
   "metadata": {},
   "outputs": [],
   "source": [
    "data2=dict(data)\n",
    "for tipus in data:\n",
    "    for csoport in data[tipus]:\n",
    "        for t in data[tipus][csoport]:\n",
    "            data2[tipus][csoport][t]=list(data[tipus][csoport][t])"
   ]
  },
  {
   "cell_type": "code",
   "execution_count": 340,
   "metadata": {},
   "outputs": [
    {
     "data": {
      "text/plain": [
       "536767417"
      ]
     },
     "execution_count": 340,
     "metadata": {},
     "output_type": "execute_result"
    }
   ],
   "source": [
    "#save\n",
    "open('E:/Onedrive - Lancaster University/datarepo/influence/ro/data/member_pairs.json','w').write(json.dumps(data2))"
   ]
  },
  {
   "cell_type": "code",
   "execution_count": 5,
   "metadata": {},
   "outputs": [],
   "source": [
    "#load\n",
    "# data=json.loads(open('E:/Onedrive - Lancaster University/datarepo/influence/ro/data/member_pairs.json','r').read())\n",
    "data=json.loads(open('C:/Users/csala/Onedrive - Lancaster University/datarepo/influence/ro/data/member_pairs.json','r').read())"
   ]
  },
  {
   "cell_type": "code",
   "execution_count": 51,
   "metadata": {},
   "outputs": [
    {
     "name": "stdout",
     "output_type": "stream",
     "text": [
      "🇫🇷 Franciaország\n",
      "🇬🇷 Görögország\n",
      "🇵🇭 Fülöp-szigetek\n",
      "🇦🇺 Ausztrália\n",
      "🇧🇪 Belgium\n",
      "🇧🇾 Fehéroroszország\n",
      "🇨🇴 Kolumbia\n",
      "🇫🇮 Finnország\n",
      "🇮🇩 Indonézia\n",
      "🇰🇷 Dél-Korea\n",
      "🇲🇽 Mexikó\n",
      "🇵🇦 Panama\n",
      "🇸🇰 Szlovákia\n",
      "🇻🇪 Venezuela\n",
      "🇨🇱 Chile\n",
      "🇸🇾 Szíria\n",
      "🇦🇷 Argentína\n",
      "🇭🇺 Magyarország\n",
      "🇮🇹 Olaszország\n",
      "🇨🇾 Ciprus\n",
      "🇱🇺 Luxemburg\n",
      "🇱🇻 Lettország\n",
      "🇿🇦 Dél-Afrika\n",
      "🇪🇬 Egyiptom\n",
      "🇷🇺 Orosz Föderáció\n",
      "🇨🇳 Kína\n",
      "🇬🇳 Guinea\n",
      "🇵🇱 Lengyelország\n",
      "🇧🇦 Bosznia-Hercegovina\n",
      "🇧🇬 Bulgária\n",
      "🇨🇬 Kongó\n",
      "🇩🇪 Németország\n",
      "🇬🇪 Grúzia\n",
      "🇮🇪 Írország\n",
      "🇮🇱 Izrael\n",
      "🇯🇵 Japán\n",
      "🇦🇹 Ausztria\n",
      "Más ország\n",
      "🇹🇭 Thaiföld\n",
      "🇬🇧 Egyesült Királyság\n",
      "🇱🇹 Litvánia\n",
      "🇵🇪 Peru\n",
      "🇸🇪 Svédország\n",
      "🇦🇱 Albánia\n",
      "🇮🇷 Irán\n",
      "🇳🇱 Hollandia\n",
      "🇦🇲 Örményország\n",
      "🇨🇭 Svájc\n",
      "🇲🇦 Marokkó\n",
      "🇲🇾 Malajzia\n",
      "🇵🇹 Portugália\n",
      "🇻🇳 Vietnam\n",
      "🇨🇿 Czechia\n",
      "🇧🇷 Brazília\n",
      "🇨🇺 Kuba\n",
      "🇱🇧 Libanon\n",
      "🇸🇬 Szingapúr\n",
      "🇺🇦 Ukrajna\n",
      "🇮🇳 India\n",
      "🇮🇸 Izland\n",
      "🇦🇿 Azerbajdzsán\n",
      "🇰🇼 Kuvait\n",
      "🇹🇷 Törökország\n",
      "🇿🇲 Zambia\n",
      "🇲🇳 Mongólia\n",
      "🇯🇴 Jordánia\n",
      "🇲🇰 Macedónia\n",
      "🇪🇨 Ecuador\n",
      "🇨🇮 Elefántcsontpart\n",
      "🇪🇸 Spanyolország\n",
      "Jugoszlávia\n",
      "🇳🇴 Norvégia\n",
      "🇵🇰 Pakisztán\n",
      "🇧🇴 Bolívia\n",
      "🇪🇪 Észtország\n",
      "🇹🇳 Tunézia\n",
      "🇨🇦 Kanada\n",
      "🇸🇦 Szaúd-Arábia\n",
      "🇸🇮 Szlovénia\n",
      "🇺🇾 Uruguay\n",
      "🇩🇿 Algéria\n",
      "fosta Republică Iugoslavă Macedonia\n",
      "🇮🇶 Irak\n",
      "🇨🇷 Costa Rica\n",
      "🇲🇹 Málta\n",
      "🇭🇷 Horvátország\n",
      "🇰🇿 Kazahsztán\n",
      "🇱🇰 Srí Lanka\n",
      "🇹🇲 Türkmenisztán\n",
      "🇩🇰 Dánia\n",
      "🇶🇦 Katar\n",
      "🇧🇭 Bahrein\n",
      "🇸🇩 Szudán\n",
      "🇸🇳 Szenegál\n",
      "Republica Franceză - Senat\n",
      "🇲🇪 Montenegró\n",
      "🇦🇪 Egyesült Arab Emírségek\n",
      "🇴🇲 Omán\n",
      "Republica Serbia\n",
      "⏫ Gazdaság, ipar\n",
      "🌐 Külpolitika, diaszpóra\n",
      "💹 Pénzügy\n",
      "🔠 Oktatás, tudomány, sport\n",
      "🚹 Emberi jogok, kisebbségek\n",
      "🎦 Művészet, média\n",
      "🔀 Állami ügyek\n",
      "🚰 Mezőgazdaság, erdők\n",
      "➿ Infrastruktúra, energia, kommunikáció\n",
      "⏺️ Európa\n",
      "🚻 Munka, szociális és családi ügyek\n",
      "🔄 Közigazgatás, környezetvédelem\n",
      "♿️ Egészségügy\n",
      "🛃 Biztonság\n",
      "👤 Independent - Independent\n",
      "📐 PNL - Partidul Naţional Liberal\n",
      "🕊️ ALDE - Partidul Alianţa Liberalilor şi Democraţilor\n",
      "⚪️ FSN - Frontul Salvării Naţionale\n",
      "🌹 PDSR - Partidul Democraţiei Sociale din România\n",
      "🌹 PSD - Partidul Social Democrat\n",
      "🔶 PD - Partidul Democrat\n",
      "🔶 PDL - Partidul Democrat Liberal\n",
      "✳️ PNTCD - Partidul Naţional Ţărănesc Creştin Democrat\n",
      "🍀 MER - Mişcarea Ecologistă din România\n",
      "📐 PAC - Partidul Alianţei Civice\n",
      "🍀 PER - Partidul Ecologist Român\n",
      "⚪️ FDSN - Frontul Democrat al Salvarii Nationale\n",
      "🌷 RMDSZ - Romániai Magyar Demokrata Szövetség\n",
      "🕊️ PUR-SL - Partidul Umanist din România\n",
      "🕊️ PC - Partidul Conservator\n",
      "🔱 PRM - Partidul România Mare\n",
      "🕊️ PUNR - Partidul Unităţii Naţionale Române\n",
      "🍏 PMP - Partidul Mişcarea Populară\n",
      "🌹 PSDR - Partidul Social Democrat Român\n",
      "🦅 UNPR - Uniunea Naţională pentru Progresul României\n",
      "🍀 PDAR - Partidul Democrat Agrar din România\n",
      "⚛️ PP-DD - Partidul Poporului Dan Diaconescu\n",
      "🌹 PSM - Partidul Socialist al Muncii\n",
      "🔷 USR - Uniunea Salvaţi România\n",
      "📐 PNL-AT - Partidul Naţional Liberal\n",
      "📐 PL'93 - Partidul Liberal\n",
      "👤 Minorități - Minorități\n",
      "🔘 PAR - Partidul Alternativa României\n",
      "📐 PNL-CD - Partidul Naţional Liberal\n",
      "🍀 FER - Federaţia Ecologistă Română\n",
      "🔘 PLS - Partidul Liber Schimbist\n",
      "🔘 AUR - Alianţa pentru Unitatea Românilor\n",
      "🔘 PRNR - Partidul Reconstrucţiei Naţionale din România\n",
      "🔘 ULB - Uniunea Liberală \"Brătianu\"\n",
      "🔘 FC - Forţa Civică\n",
      "🔘 GDC - Gruparea Democratică de Centru\n",
      "🔘 PDM - Partidul Democrat al Muncii\n",
      "🔘 PTLDR - Partidul Tineretului Liber Democrat din România\n"
     ]
    }
   ],
   "source": [
    "network={}\n",
    "tnetwork={}\n",
    "weights={'Ország':2,'Bizottság':3,'Párt':1}\n",
    "for tipus in data:\n",
    "    for csoport in data[tipus]:\n",
    "        print(csoport)\n",
    "        for t in data[tipus][csoport]:\n",
    "            names=list(data[tipus][csoport][t])\n",
    "            #st=t[:7]\n",
    "            st=t[:4]\n",
    "            if st not in tnetwork:tnetwork[st]={}\n",
    "            #exponential time anneal\n",
    "            #today 1.89 times 1990. 5 years ago 1.5 times 1990\n",
    "            anneal=2-float((pd.to_datetime('2019-05-01')-pd.to_datetime(t))/(pd.to_datetime('2019-05-01')-pd.to_datetime('1990-01-01')))**0.5\n",
    "            for r in range(len(names)):\n",
    "                name=names[r]\n",
    "                if name not in network: network[name]={}\n",
    "                if name not in tnetwork[st]: tnetwork[st][name]={}\n",
    "                for p in range(len(names)):\n",
    "                    name2=names[p]\n",
    "                    if name!=name2:\n",
    "                        if name2 not in network[name]: network[name][name2]=0\n",
    "                        network[name][name2]+=weights[tipus]*anneal\n",
    "                        if name2 not in tnetwork[st][name]: tnetwork[st][name][name2]=0\n",
    "                        tnetwork[st][name][name2]+=weights[tipus]*anneal"
   ]
  },
  {
   "cell_type": "code",
   "execution_count": 52,
   "metadata": {},
   "outputs": [
    {
     "data": {
      "text/plain": [
       "47654262"
      ]
     },
     "execution_count": 52,
     "metadata": {},
     "output_type": "execute_result"
    }
   ],
   "source": [
    "open('C:/Users/csala/Onedrive - Lancaster University/datarepo/influence/ro/data/member_network_raw.json','w').write(json.dumps(network))"
   ]
  },
  {
   "cell_type": "code",
   "execution_count": 53,
   "metadata": {},
   "outputs": [
    {
     "data": {
      "text/plain": [
       "174017269"
      ]
     },
     "execution_count": 53,
     "metadata": {},
     "output_type": "execute_result"
    }
   ],
   "source": [
    "open('C:/Users/csala/Onedrive - Lancaster University/datarepo/influence/ro/data/member_tnetwork_raw.json','w').write(json.dumps(tnetwork))"
   ]
  },
  {
   "cell_type": "markdown",
   "metadata": {},
   "source": [
    "Format for D3plus"
   ]
  },
  {
   "cell_type": "markdown",
   "metadata": {},
   "source": [
    "Normalize to fraction of all committee days spent together"
   ]
  },
  {
   "cell_type": "code",
   "execution_count": 79,
   "metadata": {},
   "outputs": [
    {
     "name": "stdout",
     "output_type": "stream",
     "text": [
      "0.0 %\n",
      "3.5855145213338115 %\n",
      "7.171029042667623 %\n",
      "10.756543564001435 %\n",
      "14.342058085335246 %\n",
      "17.927572606669056 %\n",
      "21.51308712800287 %\n",
      "25.098601649336683 %\n",
      "28.684116170670492 %\n",
      "32.269630692004306 %\n",
      "35.85514521333811 %\n",
      "39.440659734671925 %\n",
      "43.02617425600574 %\n",
      "46.61168877733955 %\n",
      "50.197203298673365 %\n",
      "53.78271782000718 %\n",
      "57.368232341340985 %\n",
      "60.9537468626748 %\n",
      "64.53926138400861 %\n",
      "68.12477590534242 %\n",
      "71.71029042667622 %\n",
      "75.29580494801003 %\n",
      "78.88131946934385 %\n",
      "82.46683399067766 %\n",
      "86.05234851201148 %\n",
      "89.63786303334528 %\n",
      "93.2233775546791 %\n",
      "96.80889207601291 %\n"
     ]
    }
   ],
   "source": [
    "member_rings_normed=[]\n",
    "min_ratio=4.5\n",
    "names={}\n",
    "all_names=set()\n",
    "for iname,name in enumerate(network):\n",
    "    if iname%100==0: print(iname/len(network)*100,'%')\n",
    "    for name2 in network[name]:\n",
    "        if name!=name2:\n",
    "            #if not already processed\n",
    "            insert=False\n",
    "            if name2 not in names:\n",
    "                insert=True\n",
    "            elif name not in names[name2]:\n",
    "                insert=True\n",
    "            if insert:\n",
    "                #if partner is important for both\n",
    "                ratio=network[name][name2]/np.mean(list(network[name].values()))\n",
    "                ratio2=network[name2][name]/np.mean(list(network[name2].values()))\n",
    "                #if ((ratio>min_ratio) and (ratio2>min_ratio)):\n",
    "                if ratio+ratio2>2*min_ratio:\n",
    "                    avg_ratio=(ratio+ratio2)/2\n",
    "                    if name not in names: names[name]=set()\n",
    "                    names[name].add(name2)\n",
    "                    all_names.add(name)\n",
    "                    all_names.add(name2)\n",
    "                    member_rings_normed.append({'source':name,'target':name2,'ratio':avg_ratio})"
   ]
  },
  {
   "cell_type": "code",
   "execution_count": 80,
   "metadata": {},
   "outputs": [
    {
     "name": "stdout",
     "output_type": "stream",
     "text": [
      "2796\n"
     ]
    }
   ],
   "source": [
    "print(len(member_rings_normed))"
   ]
  },
  {
   "cell_type": "code",
   "execution_count": 81,
   "metadata": {},
   "outputs": [],
   "source": [
    "#add lone nodes\n",
    "member_rings_normed2=member_rings_normed+[{'source':i,'target':'Nincsenek erős kapcsolatok '+i,'ratio':1} for i in network if i not in all_names]"
   ]
  },
  {
   "cell_type": "markdown",
   "metadata": {},
   "source": [
    "Network analysis"
   ]
  },
  {
   "cell_type": "code",
   "execution_count": 82,
   "metadata": {},
   "outputs": [],
   "source": [
    "import networkx as nx"
   ]
  },
  {
   "cell_type": "code",
   "execution_count": 85,
   "metadata": {},
   "outputs": [],
   "source": [
    "G=nx.Graph(network) \n",
    "pr = nx.pagerank(G)\n",
    "sorted_pr = sorted(pr.items(), key=lambda kv: kv[1], reverse=True)\n",
    "member_rings_nodes={i[0]:i[1] for i in sorted_pr}\n",
    "member_rings_nodes={i:[{'id':'','Befolyás':member_rings_nodes[i]/np.mean(list(member_rings_nodes.values()))}] for i in member_rings_nodes}"
   ]
  },
  {
   "cell_type": "code",
   "execution_count": 86,
   "metadata": {},
   "outputs": [
    {
     "name": "stdout",
     "output_type": "stream",
     "text": [
      "2012\n",
      "2013\n",
      "2014\n",
      "2015\n",
      "1990\n",
      "1991\n",
      "1992\n",
      "2010\n",
      "1997\n",
      "1998\n",
      "1999\n",
      "2000\n",
      "2001\n",
      "2002\n",
      "2003\n",
      "2004\n",
      "2016\n",
      "2017\n",
      "2018\n",
      "2019\n",
      "2008\n",
      "2009\n",
      "2005\n",
      "2006\n",
      "2007\n",
      "2011\n",
      "1996\n",
      "1993\n",
      "1994\n",
      "1995\n"
     ]
    }
   ],
   "source": [
    "tmember_rings_nodes=[]\n",
    "for t in tnetwork:\n",
    "    print(t)\n",
    "    G=nx.Graph(tnetwork[t]) \n",
    "    pr = nx.pagerank(G)\n",
    "    sorted_pr = sorted(pr.items(), key=lambda kv: kv[1], reverse=True)\n",
    "    smember_rings_nodes={i[0]:i[1] for i in sorted_pr}\n",
    "    tmember_rings_nodes+=[{'id':i,'x':t,'y':smember_rings_nodes[i]/np.mean(list(smember_rings_nodes.values()))} for i in smember_rings_nodes]"
   ]
  },
  {
   "cell_type": "code",
   "execution_count": 87,
   "metadata": {},
   "outputs": [],
   "source": [
    "tmember_rings_dict={}\n",
    "for i in tmember_rings_nodes:\n",
    "    if i['id'] not in tmember_rings_dict:tmember_rings_dict[i['id']]=[]\n",
    "    z=dict(i)\n",
    "    z['id']='Relatív befolyás'\n",
    "    #z['x']=int(z['x'])\n",
    "    #z['x']=str(pd.to_datetime(z['x']))\n",
    "    tmember_rings_dict[i['id']].append(z)"
   ]
  },
  {
   "cell_type": "code",
   "execution_count": 88,
   "metadata": {},
   "outputs": [
    {
     "data": {
      "text/plain": [
       "2130298"
      ]
     },
     "execution_count": 88,
     "metadata": {},
     "output_type": "execute_result"
    }
   ],
   "source": [
    "open('json/member_rings_normed.json','w').write(json.dumps({'nodes_abs':member_rings_nodes,'nodes_t':tmember_rings_dict,'edges':member_rings_normed2}))"
   ]
  },
  {
   "cell_type": "code",
   "execution_count": null,
   "metadata": {},
   "outputs": [],
   "source": []
  },
  {
   "cell_type": "code",
   "execution_count": null,
   "metadata": {},
   "outputs": [],
   "source": []
  }
 ],
 "metadata": {
  "kernelspec": {
   "display_name": "Python 3",
   "language": "python",
   "name": "python3"
  },
  "language_info": {
   "codemirror_mode": {
    "name": "ipython",
    "version": 3
   },
   "file_extension": ".py",
   "mimetype": "text/x-python",
   "name": "python",
   "nbconvert_exporter": "python",
   "pygments_lexer": "ipython3",
   "version": "3.6.7"
  },
  "toc": {
   "base_numbering": 1,
   "nav_menu": {},
   "number_sections": true,
   "sideBar": true,
   "skip_h1_title": false,
   "title_cell": "Table of Contents",
   "title_sidebar": "Contents",
   "toc_cell": false,
   "toc_position": {},
   "toc_section_display": true,
   "toc_window_display": false
  }
 },
 "nbformat": 4,
 "nbformat_minor": 2
}
