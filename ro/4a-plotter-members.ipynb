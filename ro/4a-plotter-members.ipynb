{
 "cells": [
  {
   "cell_type": "code",
   "execution_count": 1,
   "metadata": {
    "ExecuteTime": {
     "end_time": "2019-03-07T02:56:32.521682Z",
     "start_time": "2019-03-07T02:56:26.288106Z"
    }
   },
   "outputs": [],
   "source": [
    "import pandas as pd, numpy as np, json, os"
   ]
  },
  {
   "cell_type": "code",
   "execution_count": 2,
   "metadata": {},
   "outputs": [],
   "source": [
    "base_url='http://www.cdep.ro'"
   ]
  },
  {
   "cell_type": "code",
   "execution_count": 3,
   "metadata": {},
   "outputs": [],
   "source": [
    "os.chdir('E:/Onedrive - Lancaster University/datarepo/influence/ro')"
   ]
  },
  {
   "cell_type": "code",
   "execution_count": 4,
   "metadata": {},
   "outputs": [],
   "source": [
    "nmembers=json.loads(open('data/nmembers.json','r').read())"
   ]
  },
  {
   "cell_type": "code",
   "execution_count": 5,
   "metadata": {},
   "outputs": [],
   "source": [
    "img=json.loads(open('data/img.json','r').read())"
   ]
  },
  {
   "cell_type": "code",
   "execution_count": 6,
   "metadata": {},
   "outputs": [],
   "source": [
    "os.chdir('E:/Skydrive/Github/influence/ro')"
   ]
  },
  {
   "cell_type": "code",
   "execution_count": 7,
   "metadata": {},
   "outputs": [],
   "source": [
    "legs={'2016':['2016-12-21','2019-05-01'],\n",
    "'2012':['2012-12-20','2016-12-21'],\n",
    "'2008':['2008-12-19','2012-12-20'],\n",
    "'2004':['2004-12-19','2008-12-13'],\n",
    "'2000':['2000-12-15','2004-11-30'],\n",
    "'1996':['1996-11-27','2000-11-30'],\n",
    "'1992':['1992-10-28','1996-11-22'],\n",
    "'1990':['1990-06-19','1992-10-16']}"
   ]
  },
  {
   "cell_type": "code",
   "execution_count": 8,
   "metadata": {},
   "outputs": [],
   "source": [
    "import altair as alt"
   ]
  },
  {
   "cell_type": "code",
   "execution_count": 9,
   "metadata": {},
   "outputs": [],
   "source": [
    "from colorthief import ColorThief\n",
    "import requests"
   ]
  },
  {
   "cell_type": "code",
   "execution_count": 10,
   "metadata": {},
   "outputs": [
    {
     "ename": "FileNotFoundError",
     "evalue": "[Errno 2] No such file or directory: 'img2/psd.png'",
     "output_type": "error",
     "traceback": [
      "\u001b[1;31m---------------------------------------------------------------------------\u001b[0m",
      "\u001b[1;31mFileNotFoundError\u001b[0m                         Traceback (most recent call last)",
      "\u001b[1;32m<ipython-input-10-f056fe6e4f27>\u001b[0m in \u001b[0;36m<module>\u001b[1;34m\u001b[0m\n\u001b[0;32m      3\u001b[0m     \u001b[0mi\u001b[0m\u001b[1;33m=\u001b[0m\u001b[0mimg\u001b[0m\u001b[1;33m[\u001b[0m\u001b[1;34m'party'\u001b[0m\u001b[1;33m]\u001b[0m\u001b[1;33m[\u001b[0m\u001b[0mp\u001b[0m\u001b[1;33m]\u001b[0m\u001b[1;33m[\u001b[0m\u001b[1;34m'img'\u001b[0m\u001b[1;33m]\u001b[0m\u001b[1;33m\u001b[0m\u001b[1;33m\u001b[0m\u001b[0m\n\u001b[0;32m      4\u001b[0m     \u001b[1;32mif\u001b[0m \u001b[0mi\u001b[0m\u001b[1;33m:\u001b[0m\u001b[1;33m\u001b[0m\u001b[1;33m\u001b[0m\u001b[0m\n\u001b[1;32m----> 5\u001b[1;33m         \u001b[0mcolor_thief\u001b[0m \u001b[1;33m=\u001b[0m \u001b[0mColorThief\u001b[0m\u001b[1;33m(\u001b[0m\u001b[1;34m'img2/'\u001b[0m\u001b[1;33m+\u001b[0m\u001b[0mp\u001b[0m\u001b[1;33m.\u001b[0m\u001b[0mlower\u001b[0m\u001b[1;33m(\u001b[0m\u001b[1;33m)\u001b[0m\u001b[1;33m+\u001b[0m\u001b[1;34m'.png'\u001b[0m\u001b[1;33m)\u001b[0m\u001b[1;33m\u001b[0m\u001b[1;33m\u001b[0m\u001b[0m\n\u001b[0m\u001b[0;32m      6\u001b[0m         \u001b[0mrgb_color\u001b[0m\u001b[1;33m=\u001b[0m\u001b[0mcolor_thief\u001b[0m\u001b[1;33m.\u001b[0m\u001b[0mget_color\u001b[0m\u001b[1;33m(\u001b[0m\u001b[0mquality\u001b[0m\u001b[1;33m=\u001b[0m\u001b[1;36m1\u001b[0m\u001b[1;33m)\u001b[0m\u001b[1;33m\u001b[0m\u001b[1;33m\u001b[0m\u001b[0m\n\u001b[0;32m      7\u001b[0m         \u001b[0mz\u001b[0m\u001b[1;33m=\u001b[0m\u001b[1;34m'#%02x%02x%02x'\u001b[0m \u001b[1;33m%\u001b[0m \u001b[0mrgb_color\u001b[0m\u001b[1;33m\u001b[0m\u001b[1;33m\u001b[0m\u001b[0m\n",
      "\u001b[1;32mC:\\ProgramData\\Anaconda3\\lib\\site-packages\\colorthief.py\u001b[0m in \u001b[0;36m__init__\u001b[1;34m(self, file)\u001b[0m\n\u001b[0;32m     37\u001b[0m                      \u001b[1;32mand\u001b[0m \u001b[0mbe\u001b[0m \u001b[0mopened\u001b[0m \u001b[1;32min\u001b[0m \u001b[0mbinary\u001b[0m \u001b[0mmode\u001b[0m\u001b[1;33m.\u001b[0m\u001b[1;33m\u001b[0m\u001b[1;33m\u001b[0m\u001b[0m\n\u001b[0;32m     38\u001b[0m         \"\"\"\n\u001b[1;32m---> 39\u001b[1;33m         \u001b[0mself\u001b[0m\u001b[1;33m.\u001b[0m\u001b[0mimage\u001b[0m \u001b[1;33m=\u001b[0m \u001b[0mImage\u001b[0m\u001b[1;33m.\u001b[0m\u001b[0mopen\u001b[0m\u001b[1;33m(\u001b[0m\u001b[0mfile\u001b[0m\u001b[1;33m)\u001b[0m\u001b[1;33m\u001b[0m\u001b[1;33m\u001b[0m\u001b[0m\n\u001b[0m\u001b[0;32m     40\u001b[0m \u001b[1;33m\u001b[0m\u001b[0m\n\u001b[0;32m     41\u001b[0m     \u001b[1;32mdef\u001b[0m \u001b[0mget_color\u001b[0m\u001b[1;33m(\u001b[0m\u001b[0mself\u001b[0m\u001b[1;33m,\u001b[0m \u001b[0mquality\u001b[0m\u001b[1;33m=\u001b[0m\u001b[1;36m10\u001b[0m\u001b[1;33m)\u001b[0m\u001b[1;33m:\u001b[0m\u001b[1;33m\u001b[0m\u001b[1;33m\u001b[0m\u001b[0m\n",
      "\u001b[1;32mC:\\ProgramData\\Anaconda3\\lib\\site-packages\\PIL\\Image.py\u001b[0m in \u001b[0;36mopen\u001b[1;34m(fp, mode)\u001b[0m\n\u001b[0;32m   2650\u001b[0m \u001b[1;33m\u001b[0m\u001b[0m\n\u001b[0;32m   2651\u001b[0m     \u001b[1;32mif\u001b[0m \u001b[0mfilename\u001b[0m\u001b[1;33m:\u001b[0m\u001b[1;33m\u001b[0m\u001b[1;33m\u001b[0m\u001b[0m\n\u001b[1;32m-> 2652\u001b[1;33m         \u001b[0mfp\u001b[0m \u001b[1;33m=\u001b[0m \u001b[0mbuiltins\u001b[0m\u001b[1;33m.\u001b[0m\u001b[0mopen\u001b[0m\u001b[1;33m(\u001b[0m\u001b[0mfilename\u001b[0m\u001b[1;33m,\u001b[0m \u001b[1;34m\"rb\"\u001b[0m\u001b[1;33m)\u001b[0m\u001b[1;33m\u001b[0m\u001b[1;33m\u001b[0m\u001b[0m\n\u001b[0m\u001b[0;32m   2653\u001b[0m         \u001b[0mexclusive_fp\u001b[0m \u001b[1;33m=\u001b[0m \u001b[1;32mTrue\u001b[0m\u001b[1;33m\u001b[0m\u001b[1;33m\u001b[0m\u001b[0m\n\u001b[0;32m   2654\u001b[0m \u001b[1;33m\u001b[0m\u001b[0m\n",
      "\u001b[1;31mFileNotFoundError\u001b[0m: [Errno 2] No such file or directory: 'img2/psd.png'"
     ]
    }
   ],
   "source": [
    "party_imgs={}\n",
    "for p in img['party']:\n",
    "    i=img['party'][p]['img']\n",
    "    if i:\n",
    "        color_thief = ColorThief('img2/'+p.lower()+'.png')\n",
    "        rgb_color=color_thief.get_color(quality=1)        \n",
    "        z='#%02x%02x%02x' % rgb_color\n",
    "    else:\n",
    "        try:\n",
    "            color_thief = ColorThief('img/'+p.lower()+'.png')\n",
    "            rgb_color=color_thief.get_color(quality=1)        \n",
    "            z='#%02x%02x%02x' % rgb_color\n",
    "        except:\n",
    "            z='grey'\n",
    "    \n",
    "    party_imgs[p]=z"
   ]
  },
  {
   "cell_type": "code",
   "execution_count": null,
   "metadata": {},
   "outputs": [],
   "source": [
    "party_imgs['UDMR']='green'\n",
    "party_imgs['RMDSZ']='green'\n",
    "party_imgs['PNL']='#f4d42c'\n",
    "party_imgs['ALDE']='#046cab'"
   ]
  },
  {
   "cell_type": "code",
   "execution_count": null,
   "metadata": {},
   "outputs": [],
   "source": [
    "colors=pd.DataFrame(party_imgs,index=['Color']).T"
   ]
  },
  {
   "cell_type": "code",
   "execution_count": null,
   "metadata": {},
   "outputs": [],
   "source": [
    "plinks={}\n",
    "for i in colors.index:\n",
    "    print(i+':'+colors.loc[i]['Color'])\n",
    "    plinks[i]='https://influence.csaladen.es/ro/img/'+i.lower()+'.png'"
   ]
  },
  {
   "cell_type": "markdown",
   "metadata": {},
   "source": [
    "Members"
   ]
  },
  {
   "cell_type": "code",
   "execution_count": null,
   "metadata": {},
   "outputs": [],
   "source": [
    "szen=['🔼 Szenátus','🔽 Képviselőház']\n",
    "szen2=['Senat','Camera Deputaților']"
   ]
  },
  {
   "cell_type": "code",
   "execution_count": null,
   "metadata": {},
   "outputs": [],
   "source": [
    "istart=legs['1990'][0]\n",
    "iend='2019-05-01'"
   ]
  },
  {
   "cell_type": "code",
   "execution_count": null,
   "metadata": {},
   "outputs": [],
   "source": [
    "m=nmembers['Popescu-Tariceanu Calin Constantin Anton']\n",
    "data=[]\n",
    "for p in m['Parties']:\n",
    "    start=pd.to_datetime(p['start'])\n",
    "    end=pd.to_datetime(p['end'])    \n",
    "    d={}\n",
    "    d['Name']=m['Name']['full']\n",
    "    d['Csoportok']=p['party']\n",
    "    d['Típus']='Párt'\n",
    "    d['start']=start\n",
    "    d['end']=end\n",
    "    d['duration']=pd.to_timedelta(end-start).days\n",
    "    data.append(d)\n",
    "    d=dict(d)\n",
    "    d['Csoportok']=p['judet']\n",
    "    d['Típus']='Megye'\n",
    "    data.append(d)\n",
    "for p in m['Countries']:\n",
    "    start=pd.to_datetime(p['start'])\n",
    "    end=pd.to_datetime(p['end'])    \n",
    "    d={}\n",
    "    d['Name']=m['Name']['full']\n",
    "    d['Csoportok']=p['country']\n",
    "    d['Típus']='Ország'\n",
    "    d['start']=start\n",
    "    d['end']=end\n",
    "    d['duration']=pd.to_timedelta(end-start).days\n",
    "    data.append(d)\n",
    "for p in m['Groups']:\n",
    "    start=pd.to_datetime(p['start'])\n",
    "    end=pd.to_datetime(p['end'])    \n",
    "    d={}\n",
    "    d['Name']=m['Name']['full']\n",
    "    d['Csoportok']=p['group'].replace('Comisia pentru','').replace('Comisia','').strip().capitalize()\n",
    "    d['Típus']='Bizottság'\n",
    "    d['start']=start\n",
    "    d['end']=end\n",
    "    d['duration']=pd.to_timedelta(end-start).days\n",
    "    data.append(d)\n",
    "for p in m['Link']:\n",
    "    start=pd.to_datetime(legs[p[-10:-6]][0])\n",
    "    end=pd.to_datetime(legs[p[-10:-6]][1])    \n",
    "    d={}\n",
    "    d['Name']=m['Name']['full']\n",
    "    d['Csoportok']=szen2[int(p[-1])-1]\n",
    "    d['Típus']='Kamara'\n",
    "    d['start']=start\n",
    "    d['end']=end\n",
    "    d['duration']=pd.to_timedelta(end-start).days\n",
    "    data.append(d)\n",
    "ef=pd.DataFrame(data)\n",
    "eord=ef.groupby('Típus').sum()\n",
    "eord['duration']=[1,60,30,4,50]\n",
    "eord.columns=['order']\n",
    "ef=ef.set_index('Típus').join(eord).reset_index()"
   ]
  },
  {
   "cell_type": "code",
   "execution_count": null,
   "metadata": {},
   "outputs": [],
   "source": [
    "ef"
   ]
  },
  {
   "cell_type": "code",
   "execution_count": null,
   "metadata": {},
   "outputs": [],
   "source": [
    "alt.Chart(ef,\n",
    "          title=m['Name']['full']\n",
    "         ).mark_bar().encode(\n",
    "    x=alt.X('start:T',title=''),\n",
    "    x2='end:T',\n",
    "    y=alt.Y('Csoportok:N',title='',\n",
    "            sort=alt.EncodingSortField(field=\"order\", op=\"mean\", order='descending')),\n",
    "    color=alt.Color('Típus:N',\n",
    "        sort=alt.EncodingSortField(field=\"order\", op=\"mean\", order='descending'))\n",
    ")"
   ]
  },
  {
   "cell_type": "code",
   "execution_count": null,
   "metadata": {},
   "outputs": [],
   "source": [
    "m=nmembers['Kelemen Hunor']\n",
    "data=[]\n",
    "for p in m['Parties']:\n",
    "    start=pd.to_datetime(p['start'])\n",
    "    end=pd.to_datetime(p['end'])    \n",
    "    d={}\n",
    "    d['Name']=m['Name']['full']\n",
    "    d['Csoportok']=p['party']\n",
    "    d['Típus']='Párt'\n",
    "    d['start']=start\n",
    "    d['end']=end\n",
    "    d['duration']=pd.to_timedelta(end-start).days\n",
    "    data.append(d)\n",
    "    d=dict(d)\n",
    "    d['Csoportok']=p['judet']\n",
    "    d['Típus']='Megye'\n",
    "    data.append(d)\n",
    "for p in m['Countries']:\n",
    "    start=pd.to_datetime(p['start'])\n",
    "    end=pd.to_datetime(p['end'])    \n",
    "    d={}\n",
    "    d['Name']=m['Name']['full']\n",
    "    d['Csoportok']=p['country']\n",
    "    d['Típus']='Ország'\n",
    "    d['start']=start\n",
    "    d['end']=end\n",
    "    d['duration']=pd.to_timedelta(end-start).days\n",
    "    data.append(d)\n",
    "for p in m['Groups']:\n",
    "    start=pd.to_datetime(p['start'])\n",
    "    end=pd.to_datetime(p['end'])    \n",
    "    d={}\n",
    "    d['Name']=m['Name']['full']\n",
    "    d['Csoportok']=p['group'].replace('Comisia pentru','').replace('Comisia','').strip().capitalize()\n",
    "    d['Típus']='Bizottság'\n",
    "    d['start']=start\n",
    "    d['end']=end\n",
    "    d['duration']=pd.to_timedelta(end-start).days\n",
    "    data.append(d)\n",
    "for p in m['Link']:\n",
    "    start=pd.to_datetime(legs[p[-10:-6]][0])\n",
    "    end=pd.to_datetime(legs[p[-10:-6]][1])    \n",
    "    d={}\n",
    "    d['Name']=m['Name']['full']\n",
    "    d['Csoportok']=szen2[int(p[-1])-1]\n",
    "    d['Típus']='Kamara'\n",
    "    d['start']=start\n",
    "    d['end']=end\n",
    "    d['duration']=pd.to_timedelta(end-start).days\n",
    "    data.append(d)\n",
    "ef=pd.DataFrame(data)\n",
    "eord=ef.groupby('Típus').sum()\n",
    "eord['duration']=[1,60,30,4,50]\n",
    "eord.columns=['order']\n",
    "ef=ef.set_index('Típus').join(eord).reset_index()"
   ]
  },
  {
   "cell_type": "code",
   "execution_count": null,
   "metadata": {},
   "outputs": [],
   "source": [
    "viz=alt.Chart(ef,\n",
    "          title=m['Name']['full'].replace('DRAGNEA','DRAGNEA - ')\n",
    "         ).mark_bar().encode(\n",
    "    x=alt.X('start:T',title=''),\n",
    "    x2='end:T',\n",
    "    y=alt.Y('Csoportok:N',title='',\n",
    "            sort=alt.EncodingSortField(field=\"order\", op=\"mean\", order='descending')),\n",
    "    color=alt.Color('Típus:N',\n",
    "        sort=alt.EncodingSortField(field=\"order\", op=\"mean\", order='descending'))\n",
    ")\n",
    "viz.save('viz.json')\n",
    "viz"
   ]
  },
  {
   "cell_type": "code",
   "execution_count": null,
   "metadata": {},
   "outputs": [],
   "source": [
    "m=nmembers['Dragnea Nicolae-Liviu']\n",
    "data=[]\n",
    "for p in m['Parties']:\n",
    "    start=pd.to_datetime(p['start'])\n",
    "    end=pd.to_datetime(p['end'])    \n",
    "    d={}\n",
    "    d['Name']=m['Name']['full']\n",
    "    d['Csoportok']=p['party']\n",
    "    d['Típus']='Párt'\n",
    "    d['start']=start\n",
    "    d['end']=end\n",
    "    d['duration']=pd.to_timedelta(end-start).days\n",
    "    data.append(d)\n",
    "    d=dict(d)\n",
    "    d['Csoportok']=p['judet']\n",
    "    d['Típus']='Megye'\n",
    "    data.append(d)\n",
    "for p in m['Countries']:\n",
    "    start=pd.to_datetime(p['start'])\n",
    "    end=pd.to_datetime(p['end'])    \n",
    "    d={}\n",
    "    d['Name']=m['Name']['full']\n",
    "    d['Csoportok']=p['country']\n",
    "    d['Típus']='Ország'\n",
    "    d['start']=start\n",
    "    d['end']=end\n",
    "    d['duration']=pd.to_timedelta(end-start).days\n",
    "    data.append(d)\n",
    "for p in m['Groups']:\n",
    "    start=pd.to_datetime(p['start'])\n",
    "    end=pd.to_datetime(p['end'])    \n",
    "    d={}\n",
    "    d['Name']=m['Name']['full']\n",
    "    d['Csoportok']=p['group'].replace('Comisia pentru','').replace('Comisia','').strip().capitalize()\n",
    "    d['Típus']='Bizottság'\n",
    "    d['start']=start\n",
    "    d['end']=end\n",
    "    d['duration']=pd.to_timedelta(end-start).days\n",
    "    data.append(d)\n",
    "for p in m['Link']:\n",
    "    start=pd.to_datetime(legs[p[-10:-6]][0])\n",
    "    end=pd.to_datetime(legs[p[-10:-6]][1])    \n",
    "    d={}\n",
    "    d['Name']=m['Name']['full']\n",
    "    d['Csoportok']=szen2[int(p[-1])-1]\n",
    "    d['Típus']='Kamara'\n",
    "    d['start']=start\n",
    "    d['end']=end\n",
    "    d['duration']=pd.to_timedelta(end-start).days\n",
    "    data.append(d)\n",
    "ef=pd.DataFrame(data)\n",
    "eord=ef.groupby('Típus').sum()\n",
    "eord['duration']=[1,60,30,4,50]\n",
    "eord.columns=['order']\n",
    "ef=ef.set_index('Típus').join(eord).reset_index()"
   ]
  },
  {
   "cell_type": "code",
   "execution_count": null,
   "metadata": {},
   "outputs": [],
   "source": [
    "viz=alt.Chart(ef,\n",
    "          title=m['Name']['full'].replace('DRAGNEA','DRAGNEA - ')\n",
    "         ).mark_bar().encode(\n",
    "    x=alt.X('start:T',title=''),\n",
    "    x2='end:T',\n",
    "    y=alt.Y('Csoportok:N',title='',\n",
    "            sort=alt.EncodingSortField(field=\"order\", op=\"mean\", order='descending')),\n",
    "    color=alt.Color('Típus:N',\n",
    "        sort=alt.EncodingSortField(field=\"order\", op=\"mean\", order='descending'))\n",
    ")\n",
    "viz.save('viz.json')\n",
    "viz"
   ]
  },
  {
   "cell_type": "markdown",
   "metadata": {},
   "source": [
    "Save JSON"
   ]
  },
  {
   "cell_type": "code",
   "execution_count": null,
   "metadata": {},
   "outputs": [],
   "source": [
    "def party_normalizer(party):\n",
    "    if party in ['N/A','NA','NI',['NA', 'NI'],'-','Independent','Minorități']: return '👤'\n",
    "    elif party in ['ALDE RO','ALDE Romania','Partidul Conservator',\n",
    "                   'PC','Partidul Puterii Umaniste','ALDE','PUNR','PUR','PUR-SL']: return '🕊️'\n",
    "    elif party in ['Forumul Democrat al Germanitor din România','FDGR']: return '⚫️'\n",
    "    elif party in ['Partidul Naţional Liberal','PNL-CD',\"PL'93\",'PNL-AT','PAC',\n",
    "        'Partidul Liberal Democrat','PNL']: return'📐'\n",
    "    elif party in ['Partidul Democrat','Partidul Democrat-Liberal',\n",
    "        'PD-L','PD','PDL']: return'🔶'\n",
    "    elif party in ['Partidul Mișcarea Populară','PMP']: return '🍏'\n",
    "    elif party in ['Partidul Naţional Ţaranesc Creştin Democrat','PNȚCD','PNTCD']:return '✳️'\n",
    "    elif party in ['Partidul România Mare','PRM']:return '🔱'\n",
    "    elif party in ['FSN','FDSN']:return '⚪️'\n",
    "    elif party in ['USR']:return '🔷'\n",
    "    elif party in ['PP-DD']:return '⚛️'\n",
    "    elif party in ['PER','MER','PDAR','FER']:return '🍀'\n",
    "    elif party in ['PSD','Partidul Social Democrat','Partidul Social Democrat + Partidul Conservator',\n",
    "                   'PDSR','PSDR','PSM']:return '🌹'\n",
    "    elif party in ['Romániai Magyar Demokrata Szövetség',\n",
    "        'Uniunea Democrată Maghiară din România','RMDSZ','UDMR']:return '🌷'\n",
    "    elif party in ['Uniunea Națională pentru Progresul României','UNPR']: return '🦅'\n",
    "    else: \n",
    "        return '🔘'"
   ]
  },
  {
   "cell_type": "code",
   "execution_count": null,
   "metadata": {},
   "outputs": [],
   "source": [
    "def party_writer(party):\n",
    "    if party in ['Romániai Magyar Demokrata Szövetség',\n",
    "        'Uniunea Democrată Maghiară din România','RMDSZ','UDMR']:return 'RMDSZ'\n",
    "    else: \n",
    "        return party"
   ]
  },
  {
   "cell_type": "code",
   "execution_count": null,
   "metadata": {},
   "outputs": [],
   "source": [
    "megyek=json.loads(open('E:/Skydrive/Github/universal/ro/hun_megyek.json','r').read())"
   ]
  },
  {
   "cell_type": "code",
   "execution_count": null,
   "metadata": {},
   "outputs": [],
   "source": [
    "r={\n",
    "\"Buget, finanţe şi bănci\":\"Pénzügy\",\n",
    "\"Drepturile omului, culte şi problemele minorităţilor naţionale\":\"Emberi jogok, kisebbségek\",\n",
    "\"Economică\":\"Gazdaság, ipar\",\n",
    "\"Politică economică, reformă şi privatizare\":\"Gazdaság, ipar\",\n",
    "\"Politică externă\":\"Külpolitika, diaszpóra\",\n",
    "\"Învăţământ, ştiinţă, tineret, sport\":\"Oktatás, tudomány, sport\",\n",
    "\"Cultură, arte, mijloace de informare în masă\":\"Művészet, média\",\n",
    "\"Juridică, de disciplină şi imunităţi\":\"Állami ügyek\",\n",
    "\"Regulament\":\"Állami ügyek\",\n",
    "\"Agricultură, silvicultură, industrie alimentară şi servicii specifice\":\"Mezőgazdaság, erdők\",\n",
    "\"Buget şi finanţe\":\"Pénzügy\",\n",
    "\"Industrii şi servicii\":\"Gazdaság, ipar\",\n",
    "\"Tehnologia informaţiei şi comunicaţiilor\":\"Infrastruktúra, energia, kommunikáció\",\n",
    "\"Afaceri europene\":\"Európa\",\n",
    "\"Agricultură, silvicultură şi dezvoltare rurală\":\"Mezőgazdaság, erdők\",\n",
    "\"Muncă, familie şi protecţie socială\":\"Munka, szociális és családi ügyek\",\n",
    "\"Cultură, artă şi mijloace de informare în masă\":\"Művészet, média\",\n",
    "\"Drepturile omului, culte şi minorităţi\":\"Emberi jogok, kisebbségek\",\n",
    "\"Muncă şi protecţie socială\":\"Munka, szociális és családi ügyek\",\n",
    "\"Buget, finanţe, activitate bancară şi piaţă de capital\":\"Pénzügy\",\n",
    "\"Economică, industrii şi servicii\":\"Gazdaság, ipar\",\n",
    "\"Privatizare şi administrarea activelor statului\":\"Állami ügyek\",\n",
    "\"Învăţământ, ştiinţă, tineret şi sport\":\"Oktatás, tudomány, sport\",\n",
    "\"Administraţie publică, organizarea teritoriului şi protecţia mediului\":\"Közigazgatás, környezetvédelem\",\n",
    "\"Egalitatea de şanse\":\"Munka, szociális és családi ügyek\",\n",
    "\"Specială pentru modificarea şi completarea regulamentului senatului\":\"Állami ügyek\",\n",
    "\"Comunităţile de români din afara graniţelor ţării\":\"Külpolitika, diaszpóra\",\n",
    "\"Cercetarea abuzurilor, corupţiei şi pentru petiţii\":\"Állami ügyek\",\n",
    "\"Dezvoltare și strategie economică\":\"Gazdaság, ipar\",\n",
    "\"Transporturi şi energie\":\"Infrastruktúra, energia, kommunikáció\",\n",
    "\"Transporturi şi infrastructură\":\"Infrastruktúra, energia, kommunikáció\",\n",
    "\"Sănătate publică\":\"Egészésgügy\",\n",
    "\"Sănătate şi familie\":\"Egészésgügy\",\n",
    "\"Apărare, ordine publică şi siguranţă naţională\":\"Biztonság\",\n",
    "\"Egalitatea de şanse pentru femei şi bărbaţi\":\"Munka, szociális és családi ügyek\",\n",
    "\"Echilibru ecologic şi protecţia mediului\":\"Közigazgatás, környezetvédelem\",\n",
    "\"Industrie şi servicii\":\"Gazdaság, ipar\",\n",
    "\"Mediu şi echilibru ecologic\":\"Közigazgatás, környezetvédelem\",\n",
    "\"Cercetarea abuzurilor, combaterea corupţiei şi petiţii\":\"Állami ügyek\",\n",
    "\"Muncă, sănătate, protecţie socială şi statutul femeii în societate\":\"Munka, szociális és családi ügyek\",\n",
    "\"Administraţie centrală şi locală, amenajarea teritoriului şi urbanism\":\"Közigazgatás, környezetvédelem\",\n",
    "\"Administraţie publică şi amenajarea teritoriului\":\"Közigazgatás, környezetvédelem\",\n",
    "\"Agricultură, silvicultură, industrie alimentară şi servicii pentru agricultură\":\"Mezőgazdaság, erdők\",\n",
    "\"Juridică, de numiri, disciplină, imunităţi şi validări\":\"Állami ügyek\",\n",
    "\"Subcomisia pentru spaţiu\":\"Közigazgatás, környezetvédelem\",\n",
    "\"Cercetarea abuzurilor şi pentru petiţii\":\"Állami ügyek\",\n",
    "\"Muncă, probleme sociale, sănătate\":\"Munka, szociális és családi ügyek\",\n",
    "\"Mediu\":\"Közigazgatás, környezetvédelem\",\n",
    "\"Economică şi pentru problemele de industrie, comerţ, transporturi, telecomunicaţii, servicii\":\"Infrastruktúra, energia, kommunikáció\",\n",
    "\"Constituţionalitate, libertăţi civile şi monitorizare a executării hotărârilor curţii europene a drepturilor omului\":\"Európa\",\n",
    "\"De politică şi pentru drepturile fundamentale ale omului şi cetăţeanului\":\"Emberi jogok, kisebbségek\",\n",
    "\"Românii de pretutindeni\":\"Külpolitika, diaszpóra\",\n",
    "\"Subcomisia pentru monitorizarea executării hotărârilor curţii europene a drepurilor omului\":\"Emberi jogok, kisebbségek\",\n",
    "\"Subcomisia parlamentară pentru romi\":\"Emberi jogok, kisebbségek\",\n",
    "\"Agricultură, industrie alimentară, silvicultură şi protecţia mediului înconjurător\":\"Mezőgazdaság, erdők\",\n",
    "\"Subcomisia pentru protecţia copilului\":\"Munka, szociális és családi ügyek\",\n",
    "\"Subcomisia pentru minoritatea maghiară\":\"Emberi jogok, kisebbségek\",\n",
    "\"Artă, cultură şi mijloace de informare în masă\":\"Művészet, média\",\n",
    "\"Subcomisia pentru demnitate umană\":\"Emberi jogok, kisebbségek\",\n",
    "\"Subcomisia pentru egalitate de tratament şi  nediscriminare\":\"Emberi jogok, kisebbségek\",\n",
    "\"Subcomisia pentru problemele românilor de pretutindeni\":\"Külpolitika, diaszpóra\",\n",
    "\"Subcomisia pe problemele românilor din afara graniţelor\":\"Külpolitika, diaszpóra\",\n",
    "\"Politică financiară, bancară şi bugetară\":\"Pénzügy\"}"
   ]
  },
  {
   "cell_type": "code",
   "execution_count": null,
   "metadata": {},
   "outputs": [],
   "source": [
    "r2={\"Biztonság\":\"🛃 Biztonság\",\n",
    "\"Egészésgügy\":\"♿️ Egészségügy\",\n",
    "\"Emberi jogok, kisebbségek\":\"🚹 Emberi jogok, kisebbségek\",\n",
    "\"Európa\":\"⏺️ Európa\",\n",
    "\"Gazdaság, ipar\":\"⏫ Gazdaság, ipar\",\n",
    "\"Infrastruktúra, energia, kommunikáció\":\"➿ Infrastruktúra, energia, kommunikáció\",\n",
    "\"Közigazgatás, környezetvédelem\":\"🔄 Közigazgatás, környezetvédelem\",\n",
    "\"Külpolitika, diaszpóra\":\"🌐 Külpolitika, diaszpóra\",\n",
    "\"Mezőgazdaság, erdők\":\"🚰 Mezőgazdaság, erdők\",\n",
    "\"Munka, szociális és családi ügyek\":\"🚻 Munka, szociális és családi ügyek\",\n",
    "\"Művészet, média\":\"🎦 Művészet, média\",\n",
    "\"Oktatás, tudomány, sport\":\"🔠 Oktatás, tudomány, sport\",\n",
    "\"Pénzügy\":\"💹 Pénzügy\",\n",
    "\"Állami ügyek\":\"🔀 Állami ügyek\"}"
   ]
  },
  {
   "cell_type": "code",
   "execution_count": null,
   "metadata": {},
   "outputs": [],
   "source": [
    "def extender(r,n=5):\n",
    "    p={}\n",
    "    for i in r:\n",
    "        for j in range(n):\n",
    "            p[i+j*' ']=r[i]+j*' '\n",
    "    return p"
   ]
  },
  {
   "cell_type": "code",
   "execution_count": null,
   "metadata": {},
   "outputs": [],
   "source": [
    "cc={\"\":\"uu\",\n",
    "\"/camera_deputatilor/grupuri_prietenie/flags1/africadesud.gif\":\"za\",\n",
    "\"/camera_deputatilor/grupuri_prietenie/flags1/albania.gif\":\"al\",\n",
    "\"/camera_deputatilor/grupuri_prietenie/flags1/algeria.gif\":\"dz\",\n",
    "\"/camera_deputatilor/grupuri_prietenie/flags1/arabiasaudi.gif\":\"sa\",\n",
    "\"/camera_deputatilor/grupuri_prietenie/flags1/argentina.gif\":\"ar\",\n",
    "\"/camera_deputatilor/grupuri_prietenie/flags1/armenia.gif\":\"am\",\n",
    "\"/camera_deputatilor/grupuri_prietenie/flags1/australia.gif\":\"au\",\n",
    "\"/camera_deputatilor/grupuri_prietenie/flags1/austria.gif\":\"at\",\n",
    "\"/camera_deputatilor/grupuri_prietenie/flags1/azerbaidjan.gif\":\"az\",\n",
    "\"/camera_deputatilor/grupuri_prietenie/flags1/bahrein.gif\":\"bh\",\n",
    "\"/camera_deputatilor/grupuri_prietenie/flags1/belarus.gif\":\"by\",\n",
    "\"/camera_deputatilor/grupuri_prietenie/flags1/belgia.gif\":\"be\",\n",
    "\"/camera_deputatilor/grupuri_prietenie/flags1/bolivia.gif\":\"bo\",\n",
    "\"/camera_deputatilor/grupuri_prietenie/flags1/bosnia.gif\":\"ba\",\n",
    "\"/camera_deputatilor/grupuri_prietenie/flags1/brazilia.gif\":\"br\",\n",
    "\"/camera_deputatilor/grupuri_prietenie/flags1/bulgaria.gif\":\"bg\",\n",
    "\"/camera_deputatilor/grupuri_prietenie/flags1/canada.gif\":\"ca\",\n",
    "\"/camera_deputatilor/grupuri_prietenie/flags1/cehia.gif\":\"cz\",\n",
    "\"/camera_deputatilor/grupuri_prietenie/flags1/chile.gif\":\"cl\",\n",
    "\"/camera_deputatilor/grupuri_prietenie/flags1/china.gif\":\"cn\",\n",
    "\"/camera_deputatilor/grupuri_prietenie/flags1/cipru.gif\":\"cy\",\n",
    "\"/camera_deputatilor/grupuri_prietenie/flags1/columbia.gif\":\"co\",\n",
    "\"/camera_deputatilor/grupuri_prietenie/flags1/congo.gif\":\"cg\",\n",
    "\"/camera_deputatilor/grupuri_prietenie/flags1/coreea.gif\":\"kr\",\n",
    "\"/camera_deputatilor/grupuri_prietenie/flags1/costarica.gif\":\"cr\",\n",
    "\"/camera_deputatilor/grupuri_prietenie/flags1/cotedivoir.gif\":\"ci\",\n",
    "\"/camera_deputatilor/grupuri_prietenie/flags1/croatia.gif\":\"hr\",\n",
    "\"/camera_deputatilor/grupuri_prietenie/flags1/cuba.gif\":\"cu\",\n",
    "\"/camera_deputatilor/grupuri_prietenie/flags1/danemarca.gif\":\"dk\",\n",
    "\"/camera_deputatilor/grupuri_prietenie/flags1/ecuador.gif\":\"ec\",\n",
    "\"/camera_deputatilor/grupuri_prietenie/flags1/egipt.gif\":\"eg\",\n",
    "\"/camera_deputatilor/grupuri_prietenie/flags1/elvetia.gif\":\"ch\",\n",
    "\"/camera_deputatilor/grupuri_prietenie/flags1/emirate.png\":\"ae\",\n",
    "\"/camera_deputatilor/grupuri_prietenie/flags1/estonia.gif\":\"ee\",\n",
    "\"/camera_deputatilor/grupuri_prietenie/flags1/filipine.gif\":\"ph\",\n",
    "\"/camera_deputatilor/grupuri_prietenie/flags1/finlanda.gif\":\"fi\",\n",
    "\"/camera_deputatilor/grupuri_prietenie/flags1/franta.gif\":\"fr\",\n",
    "\"/camera_deputatilor/grupuri_prietenie/flags1/georgia.gif\":\"ge\",\n",
    "\"/camera_deputatilor/grupuri_prietenie/flags1/germania.gif\":\"de\",\n",
    "\"/camera_deputatilor/grupuri_prietenie/flags1/grecia.gif\":\"gr\",\n",
    "\"/camera_deputatilor/grupuri_prietenie/flags1/guineea.gif\":\"gn\",\n",
    "\"/camera_deputatilor/grupuri_prietenie/flags1/india.gif\":\"in\",\n",
    "\"/camera_deputatilor/grupuri_prietenie/flags1/indonezia.gif\":\"id\",\n",
    "\"/camera_deputatilor/grupuri_prietenie/flags1/iordania.gif\":\"jo\",\n",
    "\"/camera_deputatilor/grupuri_prietenie/flags1/irak.gif\":\"iq\",\n",
    "\"/camera_deputatilor/grupuri_prietenie/flags1/iran.gif\":\"ir\",\n",
    "\"/camera_deputatilor/grupuri_prietenie/flags1/irlanda.gif\":\"ie\",\n",
    "\"/camera_deputatilor/grupuri_prietenie/flags1/islanda.gif\":\"is\",\n",
    "\"/camera_deputatilor/grupuri_prietenie/flags1/israel.gif\":\"il\",\n",
    "\"/camera_deputatilor/grupuri_prietenie/flags1/italia.gif\":\"it\",\n",
    "\"/camera_deputatilor/grupuri_prietenie/flags1/iugoslavia.gif\":\"uu\",\n",
    "\"/camera_deputatilor/grupuri_prietenie/flags1/japonia.gif\":\"jp\",\n",
    "\"/camera_deputatilor/grupuri_prietenie/flags1/kazahtan.gif\":\"kz\",\n",
    "\"/camera_deputatilor/grupuri_prietenie/flags1/kuwait.gif\":\"kw\",\n",
    "\"/camera_deputatilor/grupuri_prietenie/flags1/letonia.gif\":\"lv\",\n",
    "\"/camera_deputatilor/grupuri_prietenie/flags1/liban.gif\":\"lb\",\n",
    "\"/camera_deputatilor/grupuri_prietenie/flags1/lituania.gif\":\"lt\",\n",
    "\"/camera_deputatilor/grupuri_prietenie/flags1/luxemburg.gif\":\"lu\",\n",
    "\"/camera_deputatilor/grupuri_prietenie/flags1/macedonia.gif\":\"mk\",\n",
    "\"/camera_deputatilor/grupuri_prietenie/flags1/malaezia.gif\":\"my\",\n",
    "\"/camera_deputatilor/grupuri_prietenie/flags1/malta.gif\":\"mt\",\n",
    "\"/camera_deputatilor/grupuri_prietenie/flags1/mareabritanie.gif\":\"gb\",\n",
    "\"/camera_deputatilor/grupuri_prietenie/flags1/maroc.gif\":\"ma\",\n",
    "\"/camera_deputatilor/grupuri_prietenie/flags1/mexic.gif\":\"mx\",\n",
    "\"/camera_deputatilor/grupuri_prietenie/flags1/mongolia.gif\":\"mn\",\n",
    "\"/camera_deputatilor/grupuri_prietenie/flags1/muntenegru.gif\":\"me\",\n",
    "\"/camera_deputatilor/grupuri_prietenie/flags1/norvegia.gif\":\"no\",\n",
    "\"/camera_deputatilor/grupuri_prietenie/flags1/olanda.gif\":\"nl\",\n",
    "\"/camera_deputatilor/grupuri_prietenie/flags1/oman.gif\":\"om\",\n",
    "\"/camera_deputatilor/grupuri_prietenie/flags1/pakistan.gif\":\"pk\",\n",
    "\"/camera_deputatilor/grupuri_prietenie/flags1/panama.gif\":\"pa\",\n",
    "\"/camera_deputatilor/grupuri_prietenie/flags1/peru.gif\":\"pe\",\n",
    "\"/camera_deputatilor/grupuri_prietenie/flags1/polonia.gif\":\"pl\",\n",
    "\"/camera_deputatilor/grupuri_prietenie/flags1/portugalia.gif\":\"pt\",\n",
    "\"/camera_deputatilor/grupuri_prietenie/flags1/qatar.gif\":\"qa\",\n",
    "\"/camera_deputatilor/grupuri_prietenie/flags1/rusia.gif\":\"ru\",\n",
    "\"/camera_deputatilor/grupuri_prietenie/flags1/senegal.gif\":\"sn\",\n",
    "\"/camera_deputatilor/grupuri_prietenie/flags1/singapore.gif\":\"sg\",\n",
    "\"/camera_deputatilor/grupuri_prietenie/flags1/siria.gif\":\"sy\",\n",
    "\"/camera_deputatilor/grupuri_prietenie/flags1/slovacia.gif\":\"sk\",\n",
    "\"/camera_deputatilor/grupuri_prietenie/flags1/slovenia.gif\":\"si\",\n",
    "\"/camera_deputatilor/grupuri_prietenie/flags1/spania.gif\":\"es\",\n",
    "\"/camera_deputatilor/grupuri_prietenie/flags1/srilanka.gif\":\"lk\",\n",
    "\"/camera_deputatilor/grupuri_prietenie/flags1/sudan.gif\":\"sd\",\n",
    "\"/camera_deputatilor/grupuri_prietenie/flags1/suedia.gif\":\"se\",\n",
    "\"/camera_deputatilor/grupuri_prietenie/flags1/thailanda.gif\":\"th\",\n",
    "\"/camera_deputatilor/grupuri_prietenie/flags1/tunisia.gif\":\"tn\",\n",
    "\"/camera_deputatilor/grupuri_prietenie/flags1/turcia.gif\":\"tr\",\n",
    "\"/camera_deputatilor/grupuri_prietenie/flags1/turkmenistan.gif\":\"tm\",\n",
    "\"/camera_deputatilor/grupuri_prietenie/flags1/ucraina.gif\":\"ua\",\n",
    "\"/camera_deputatilor/grupuri_prietenie/flags1/ungaria.gif\":\"hu\",\n",
    "\"/camera_deputatilor/grupuri_prietenie/flags1/urss.gif\":\"uu\",\n",
    "\"/camera_deputatilor/grupuri_prietenie/flags1/uruguay.gif\":\"uy\",\n",
    "\"/camera_deputatilor/grupuri_prietenie/flags1/venezuela.gif\":\"ve\",\n",
    "\"/camera_deputatilor/grupuri_prietenie/flags1/vietnam.gif\":\"vn\",\n",
    "\"/camera_deputatilor/grupuri_prietenie/flags1/zambia.gif\":\"zm\",\n",
    "\"/img/spacer.gif\":\"uu\"}"
   ]
  },
  {
   "cell_type": "code",
   "execution_count": null,
   "metadata": {},
   "outputs": [],
   "source": [
    "import pycountry\n",
    "import gettext\n",
    "import flag\n",
    "hun = gettext.translation('iso3166', pycountry.LOCALES_DIR,\n",
    "                              languages=['hu'])\n",
    "hun.install()"
   ]
  },
  {
   "cell_type": "code",
   "execution_count": null,
   "metadata": {},
   "outputs": [],
   "source": [
    "def local_country(c):\n",
    "    if c=='uu':return 'Más ország'\n",
    "    z=_(pycountry.countries.get(alpha_2=c.upper()).name)\n",
    "    #manual overrides\n",
    "    if z=='Koreai Köztársaság':z='Dél-Korea'\n",
    "    if z=='Nagy-Britannia (Egyesült Királyság)':z='Egyesült Királyság'\n",
    "    if z=='Macedón Köztársaság':z='Macedónia'\n",
    "    if z=='Szíriai Arab Köztársaság':z='Szíria'\n",
    "    if z=='Venezuelai Bolivári Köztársaság':z='Venezuela'\n",
    "    g=flag.flagize(':'+c.upper()+':')\n",
    "    return g+' '+z"
   ]
  },
  {
   "cell_type": "code",
   "execution_count": null,
   "metadata": {},
   "outputs": [],
   "source": [
    "def tolerance_cleaner(ef,dt=30):\n",
    "    hfs=[]\n",
    "    df=ef.sort_values('start').groupby(['Típus','Csoportok','start','end']).first()\n",
    "    df=df.reset_index(level=[2,3], drop=False)\n",
    "    for p in df.index.get_level_values(0).unique():\n",
    "        for r in df.loc[p].index.get_level_values(0).unique():\n",
    "            hf=df.loc[p].loc[[r]].sort_values('start')\n",
    "            hf['dt']=list((hf[1:]['start']-hf['end'][:-1]).dt.days.values)+[0]\n",
    "            hf=hf.reset_index(drop=False)\n",
    "            new_column=[]\n",
    "            counters={i:0 for i in hf['Csoportok'].unique()}\n",
    "            for i in hf.index:\n",
    "                j=hf.loc[i]['Csoportok']\n",
    "                new_column.append(j+counters[j]*' ')\n",
    "                if hf.loc[i]['dt']>dt:\n",
    "                    counters[j]+=1\n",
    "            hf['Csoportok1']=new_column\n",
    "            hf['Típus']=p\n",
    "            hf=hf.drop(['dt'],axis=1)\n",
    "            hfs.append(hf)\n",
    "    hfs=pd.concat(hfs)\n",
    "    hfs=hfs.reset_index(drop=True)\n",
    "    return(hfs)"
   ]
  },
  {
   "cell_type": "code",
   "execution_count": 44,
   "metadata": {},
   "outputs": [],
   "source": [
    "efs=[]\n",
    "for n in nmembers:\n",
    "    m=nmembers[n]\n",
    "    data=[]\n",
    "    for p in m['Parties']:\n",
    "        start=pd.to_datetime(p['start'])\n",
    "        end=pd.to_datetime(p['end'])    \n",
    "        d={}\n",
    "        d['Name']=m['Name']['full']\n",
    "        #d['Csoportok']=p['party']\n",
    "        #d['Csoportok']=p['party']+' - '+img['party'][p['party']]['name']\n",
    "        d['Csoportok']=party_normalizer(p['party'])+' '+party_writer(p['party'])+' - '+img['party'][party_writer(p['party'])]['name']\n",
    "        d['Típus']='Párt'\n",
    "        d['Image']=img['party'][p['party']]['img']\n",
    "        d['start']=start\n",
    "        d['end']=end\n",
    "        d['duration']=pd.to_timedelta(end-start).days\n",
    "        data.append(d)\n",
    "        d=dict(d)\n",
    "        d['Csoportok']='🇷🇴 '+megyek[p['judet'].capitalize()]\n",
    "        d['Típus']='Megye'\n",
    "        data.append(d)\n",
    "    for p in m['Countries']:\n",
    "        start=pd.to_datetime(p['start'])\n",
    "        end=pd.to_datetime(p['end'])    \n",
    "        d={}\n",
    "        d['Name']=m['Name']['full']\n",
    "        d['Csoportok']=p['country']\n",
    "        d['Típus']='Ország'\n",
    "        d['Image']=img['state'][p['country']]\n",
    "        d['start']=start\n",
    "        d['end']=end\n",
    "        d['duration']=pd.to_timedelta(end-start).days\n",
    "        data.append(d)\n",
    "    for p in m['Groups']:\n",
    "        start=pd.to_datetime(p['start'])\n",
    "        end=pd.to_datetime(p['end'])    \n",
    "        d={}\n",
    "        d['Name']=m['Name']['full']\n",
    "        d['Csoportok']=p['group'].replace('Comisia pentru','').replace('Comisia','').strip().capitalize()\n",
    "        d['Típus']='Bizottság'\n",
    "        d['start']=start\n",
    "        d['end']=end\n",
    "        d['duration']=pd.to_timedelta(end-start).days\n",
    "        data.append(d)\n",
    "    for pi in range(len(m['Link'])):\n",
    "        p=m['Link'][pi]\n",
    "        start=pd.to_datetime(legs[p[-10:-6]][0])\n",
    "        end=pd.to_datetime(legs[p[-10:-6]][1])    \n",
    "        d={}\n",
    "        #d['Link']=p\n",
    "        #d['Photo']=m['Photo'][pi]\n",
    "        d['Name']=m['Name']['full']\n",
    "        d['Csoportok']=szen[int(p[-1])-1] #hu\n",
    "        #d['Csoportok']=szen2[int(p[-1])-1] #ro\n",
    "        d['Típus']='Kamara'\n",
    "        d['start']=start\n",
    "        d['end']=end\n",
    "        d['duration']=pd.to_timedelta(end-start).days\n",
    "        data.append(d)\n",
    "    ef=pd.DataFrame(data)\n",
    "    #eord=ef.groupby('Típus').sum()\n",
    "    #eord.columns=['order']\n",
    "    #ef=ef.set_index('Típus').join(eord).reset_index()\n",
    "    ef=ef.set_index('Típus').reset_index()\n",
    "    ef['Simple']=n\n",
    "    \n",
    "    #committees\n",
    "    ef=ef.replace(r).replace(r2)\n",
    "    \n",
    "    #countries\n",
    "    if 'Image' in ef.columns:\n",
    "        cz={}\n",
    "        cs=ef[ef['Típus']=='Ország'].groupby('Image').first()['Csoportok']\n",
    "        for i in sorted(ef[ef['Típus']=='Ország']['Image'].unique()):\n",
    "            cz[cs.loc[i]]=local_country(cc[i])\n",
    "\n",
    "        #manual overrides\n",
    "        cz['Republica Macedonia']='🇲🇰 Macedónia'\n",
    "        cz['Republica Federală Iugoslavia']='Jugoszlávia'\n",
    "        cz['Republica Franceză - Adunarea Naţională']='🇫🇷 Franciaország'\n",
    "        ef=ef.replace(cz)\n",
    "    \n",
    "    #unique counting\n",
    "    new_column=[]\n",
    "    counters={i:0 for i in ef['Csoportok'].unique()}\n",
    "    for i in ef['Csoportok']:\n",
    "        new_column.append(i+counters[i]*' ')\n",
    "        counters[i]+=1\n",
    "    ef['Csoportok0']=new_column\n",
    "    \n",
    "    #tolerance\n",
    "    ef=tolerance_cleaner(ef).reset_index()\n",
    "    \n",
    "    #append\n",
    "    efs.append(ef)"
   ]
  },
  {
   "cell_type": "code",
   "execution_count": 45,
   "metadata": {},
   "outputs": [
    {
     "name": "stderr",
     "output_type": "stream",
     "text": [
      "C:\\ProgramData\\Anaconda3\\lib\\site-packages\\ipykernel_launcher.py:1: FutureWarning: Sorting because non-concatenation axis is not aligned. A future version\n",
      "of pandas will change to not sort by default.\n",
      "\n",
      "To accept the future behavior, pass 'sort=False'.\n",
      "\n",
      "To retain the current behavior and silence the warning, pass 'sort=True'.\n",
      "\n",
      "  \"\"\"Entry point for launching an IPython kernel.\n"
     ]
    }
   ],
   "source": [
    "efs2=pd.concat(efs)"
   ]
  },
  {
   "cell_type": "code",
   "execution_count": 46,
   "metadata": {},
   "outputs": [],
   "source": [
    "efs4=efs2[['start', 'end', 'Name', 'duration',\n",
    "       'Simple', 'Csoportok','Csoportok0','Csoportok1', 'Típus']]"
   ]
  },
  {
   "cell_type": "code",
   "execution_count": null,
   "metadata": {},
   "outputs": [],
   "source": [
    "j=efs4.reset_index().drop('index',axis=1).T.astype(str).to_dict()\n",
    "open('json/member_timelines.json','w').write(json.dumps(list(j.values())))"
   ]
  },
  {
   "cell_type": "code",
   "execution_count": 111,
   "metadata": {},
   "outputs": [],
   "source": [
    "members={'m':sorted(efs4['Name'].unique())}\n",
    "simple={}\n",
    "simple2={}\n",
    "for i in efs4[['Name','Simple']].T.iteritems():\n",
    "    if i[1][0] not in simple: simple[i[1][0]]=i[1][1]\n",
    "    if i[1][1] not in simple2: simple2[i[1][1]]=i[1][0]\n",
    "members['s']=simple\n",
    "members['s2']=simple2"
   ]
  },
  {
   "cell_type": "code",
   "execution_count": 112,
   "metadata": {},
   "outputs": [],
   "source": [
    "x2m={}\n",
    "m2x={}\n",
    "for x,m in enumerate(members['m']):\n",
    "    m2x[m] = x;\n",
    "    x2m[x] = m;\n",
    "members['x2m']=x2m\n",
    "members['m2x']=m2x"
   ]
  },
  {
   "cell_type": "markdown",
   "metadata": {},
   "source": [
    "Vega direct plot"
   ]
  },
  {
   "cell_type": "code",
   "execution_count": 80,
   "metadata": {},
   "outputs": [
    {
     "data": {
      "text/html": [
       "<div>\n",
       "<style scoped>\n",
       "    .dataframe tbody tr th:only-of-type {\n",
       "        vertical-align: middle;\n",
       "    }\n",
       "\n",
       "    .dataframe tbody tr th {\n",
       "        vertical-align: top;\n",
       "    }\n",
       "\n",
       "    .dataframe thead th {\n",
       "        text-align: right;\n",
       "    }\n",
       "</style>\n",
       "<table border=\"1\" class=\"dataframe\">\n",
       "  <thead>\n",
       "    <tr style=\"text-align: right;\">\n",
       "      <th></th>\n",
       "      <th>start</th>\n",
       "      <th>end</th>\n",
       "      <th>Name</th>\n",
       "      <th>duration</th>\n",
       "      <th>Simple</th>\n",
       "      <th>Csoportok</th>\n",
       "      <th>Csoportok0</th>\n",
       "      <th>Csoportok1</th>\n",
       "      <th>Típus</th>\n",
       "    </tr>\n",
       "  </thead>\n",
       "  <tbody>\n",
       "    <tr>\n",
       "      <th>16</th>\n",
       "      <td>1997-02-01</td>\n",
       "      <td>2000-11-30</td>\n",
       "      <td>Viorel HREBENCIUC</td>\n",
       "      <td>1398</td>\n",
       "      <td>Hrebenciuc Viorel</td>\n",
       "      <td>🇨🇱 Chile</td>\n",
       "      <td>🇨🇱 Chile</td>\n",
       "      <td>🇨🇱 Chile</td>\n",
       "      <td>Ország</td>\n",
       "    </tr>\n",
       "    <tr>\n",
       "      <th>20</th>\n",
       "      <td>1997-02-01</td>\n",
       "      <td>2000-11-30</td>\n",
       "      <td>Viorel HREBENCIUC</td>\n",
       "      <td>1398</td>\n",
       "      <td>Hrebenciuc Viorel</td>\n",
       "      <td>🇮🇱 Izrael</td>\n",
       "      <td>🇮🇱 Izrael</td>\n",
       "      <td>🇮🇱 Izrael</td>\n",
       "      <td>Ország</td>\n",
       "    </tr>\n",
       "    <tr>\n",
       "      <th>18</th>\n",
       "      <td>2004-12-19</td>\n",
       "      <td>2008-12-13</td>\n",
       "      <td>Viorel HREBENCIUC</td>\n",
       "      <td>1455</td>\n",
       "      <td>Hrebenciuc Viorel</td>\n",
       "      <td>🇨🇴 Kolumbia</td>\n",
       "      <td>🇨🇴 Kolumbia</td>\n",
       "      <td>🇨🇴 Kolumbia</td>\n",
       "      <td>Ország</td>\n",
       "    </tr>\n",
       "    <tr>\n",
       "      <th>19</th>\n",
       "      <td>2004-12-19</td>\n",
       "      <td>2008-12-13</td>\n",
       "      <td>Viorel HREBENCIUC</td>\n",
       "      <td>1455</td>\n",
       "      <td>Hrebenciuc Viorel</td>\n",
       "      <td>🇬🇪 Grúzia</td>\n",
       "      <td>🇬🇪 Grúzia</td>\n",
       "      <td>🇬🇪 Grúzia</td>\n",
       "      <td>Ország</td>\n",
       "    </tr>\n",
       "    <tr>\n",
       "      <th>21</th>\n",
       "      <td>2004-12-19</td>\n",
       "      <td>2008-12-13</td>\n",
       "      <td>Viorel HREBENCIUC</td>\n",
       "      <td>1455</td>\n",
       "      <td>Hrebenciuc Viorel</td>\n",
       "      <td>🇮🇱 Izrael</td>\n",
       "      <td>🇮🇱 Izrael</td>\n",
       "      <td>🇮🇱 Izrael</td>\n",
       "      <td>Ország</td>\n",
       "    </tr>\n",
       "    <tr>\n",
       "      <th>15</th>\n",
       "      <td>2008-12-19</td>\n",
       "      <td>2012-12-20</td>\n",
       "      <td>Viorel HREBENCIUC</td>\n",
       "      <td>1462</td>\n",
       "      <td>Hrebenciuc Viorel</td>\n",
       "      <td>🇧🇪 Belgium</td>\n",
       "      <td>🇧🇪 Belgium</td>\n",
       "      <td>🇧🇪 Belgium</td>\n",
       "      <td>Ország</td>\n",
       "    </tr>\n",
       "    <tr>\n",
       "      <th>22</th>\n",
       "      <td>2008-12-19</td>\n",
       "      <td>2012-12-20</td>\n",
       "      <td>Viorel HREBENCIUC</td>\n",
       "      <td>1462</td>\n",
       "      <td>Hrebenciuc Viorel</td>\n",
       "      <td>🇮🇱 Izrael</td>\n",
       "      <td>🇮🇱 Izrael</td>\n",
       "      <td>🇮🇱 Izrael</td>\n",
       "      <td>Ország</td>\n",
       "    </tr>\n",
       "    <tr>\n",
       "      <th>24</th>\n",
       "      <td>2008-12-19</td>\n",
       "      <td>2012-12-20</td>\n",
       "      <td>Viorel HREBENCIUC</td>\n",
       "      <td>1462</td>\n",
       "      <td>Hrebenciuc Viorel</td>\n",
       "      <td>🇸🇪 Svédország</td>\n",
       "      <td>🇸🇪 Svédország</td>\n",
       "      <td>🇸🇪 Svédország</td>\n",
       "      <td>Ország</td>\n",
       "    </tr>\n",
       "    <tr>\n",
       "      <th>17</th>\n",
       "      <td>2012-12-20</td>\n",
       "      <td>2014-10-01</td>\n",
       "      <td>Viorel HREBENCIUC</td>\n",
       "      <td>650</td>\n",
       "      <td>Hrebenciuc Viorel</td>\n",
       "      <td>🇨🇳 Kína</td>\n",
       "      <td>🇨🇳 Kína</td>\n",
       "      <td>🇨🇳 Kína</td>\n",
       "      <td>Ország</td>\n",
       "    </tr>\n",
       "    <tr>\n",
       "      <th>23</th>\n",
       "      <td>2012-12-20</td>\n",
       "      <td>2014-10-01</td>\n",
       "      <td>Viorel HREBENCIUC</td>\n",
       "      <td>650</td>\n",
       "      <td>Hrebenciuc Viorel</td>\n",
       "      <td>🇮🇱 Izrael</td>\n",
       "      <td>🇮🇱 Izrael</td>\n",
       "      <td>🇮🇱 Izrael</td>\n",
       "      <td>Ország</td>\n",
       "    </tr>\n",
       "  </tbody>\n",
       "</table>\n",
       "</div>"
      ],
      "text/plain": [
       "        start        end               Name  duration             Simple  \\\n",
       "16 1997-02-01 2000-11-30  Viorel HREBENCIUC      1398  Hrebenciuc Viorel   \n",
       "20 1997-02-01 2000-11-30  Viorel HREBENCIUC      1398  Hrebenciuc Viorel   \n",
       "18 2004-12-19 2008-12-13  Viorel HREBENCIUC      1455  Hrebenciuc Viorel   \n",
       "19 2004-12-19 2008-12-13  Viorel HREBENCIUC      1455  Hrebenciuc Viorel   \n",
       "21 2004-12-19 2008-12-13  Viorel HREBENCIUC      1455  Hrebenciuc Viorel   \n",
       "15 2008-12-19 2012-12-20  Viorel HREBENCIUC      1462  Hrebenciuc Viorel   \n",
       "22 2008-12-19 2012-12-20  Viorel HREBENCIUC      1462  Hrebenciuc Viorel   \n",
       "24 2008-12-19 2012-12-20  Viorel HREBENCIUC      1462  Hrebenciuc Viorel   \n",
       "17 2012-12-20 2014-10-01  Viorel HREBENCIUC       650  Hrebenciuc Viorel   \n",
       "23 2012-12-20 2014-10-01  Viorel HREBENCIUC       650  Hrebenciuc Viorel   \n",
       "\n",
       "        Csoportok     Csoportok0     Csoportok1   Típus  \n",
       "16       🇨🇱 Chile       🇨🇱 Chile       🇨🇱 Chile  Ország  \n",
       "20      🇮🇱 Izrael    🇮🇱 Izrael        🇮🇱 Izrael  Ország  \n",
       "18    🇨🇴 Kolumbia    🇨🇴 Kolumbia    🇨🇴 Kolumbia  Ország  \n",
       "19      🇬🇪 Grúzia      🇬🇪 Grúzia      🇬🇪 Grúzia  Ország  \n",
       "21      🇮🇱 Izrael   🇮🇱 Izrael        🇮🇱 Izrael   Ország  \n",
       "15     🇧🇪 Belgium     🇧🇪 Belgium     🇧🇪 Belgium  Ország  \n",
       "22      🇮🇱 Izrael     🇮🇱 Izrael      🇮🇱 Izrael   Ország  \n",
       "24  🇸🇪 Svédország  🇸🇪 Svédország  🇸🇪 Svédország  Ország  \n",
       "17        🇨🇳 Kína        🇨🇳 Kína        🇨🇳 Kína  Ország  \n",
       "23      🇮🇱 Izrael      🇮🇱 Izrael     🇮🇱 Izrael   Ország  "
      ]
     },
     "execution_count": 80,
     "metadata": {},
     "output_type": "execute_result"
    }
   ],
   "source": [
    "ef=efs4[efs4['Simple']=='Hrebenciuc Viorel']\n",
    "ef[ef['Típus']=='Ország'].sort_values('start')"
   ]
  },
  {
   "cell_type": "code",
   "execution_count": 81,
   "metadata": {},
   "outputs": [],
   "source": [
    "ef=efs4[efs4['Simple']=='Popescu-Tariceanu Calin Constantin Anton']"
   ]
  },
  {
   "cell_type": "code",
   "execution_count": 82,
   "metadata": {},
   "outputs": [
    {
     "data": {
      "application/vnd.vegalite.v2+json": {
       "$schema": "https://vega.github.io/schema/vega-lite/v2.6.0.json",
       "config": {
        "view": {
         "height": 300,
         "width": 400
        }
       },
       "data": {
        "name": "data-bbf9e73f217334f561219d469f411bb0"
       },
       "datasets": {
        "data-bbf9e73f217334f561219d469f411bb0": [
         {
          "Csoportok": "⏫ Gazdaság, ipar",
          "Csoportok0": "⏫ Gazdaság, ipar",
          "Csoportok1": "⏫ Gazdaság, ipar",
          "Name": "Călin Constantin Anton POPESCU-TĂRICEANU",
          "Simple": "Popescu-Tariceanu Calin Constantin Anton",
          "Típus": "Bizottság",
          "duration": 850,
          "end": "1992-10-16T00:00:00",
          "start": "1990-06-19T00:00:00"
         },
         {
          "Csoportok": "⏫ Gazdaság, ipar",
          "Csoportok0": "⏫ Gazdaság, ipar ",
          "Csoportok1": "⏫ Gazdaság, ipar ",
          "Name": "Călin Constantin Anton POPESCU-TĂRICEANU",
          "Simple": "Popescu-Tariceanu Calin Constantin Anton",
          "Típus": "Bizottság",
          "duration": 1464,
          "end": "2000-11-30T00:00:00",
          "start": "1996-11-27T00:00:00"
         },
         {
          "Csoportok": "🌐 Külpolitika, diaszpóra",
          "Csoportok0": "🌐 Külpolitika, diaszpóra",
          "Csoportok1": "🌐 Külpolitika, diaszpóra",
          "Name": "Călin Constantin Anton POPESCU-TĂRICEANU",
          "Simple": "Popescu-Tariceanu Calin Constantin Anton",
          "Típus": "Bizottság",
          "duration": 1462,
          "end": "2012-12-20T00:00:00",
          "start": "2008-12-19T00:00:00"
         },
         {
          "Csoportok": "🌐 Külpolitika, diaszpóra",
          "Csoportok0": "🌐 Külpolitika, diaszpóra ",
          "Csoportok1": "🌐 Külpolitika, diaszpóra",
          "Name": "Călin Constantin Anton POPESCU-TĂRICEANU",
          "Simple": "Popescu-Tariceanu Calin Constantin Anton",
          "Típus": "Bizottság",
          "duration": 436,
          "end": "2014-03-01T00:00:00",
          "start": "2012-12-20T00:00:00"
         },
         {
          "Csoportok": "💹 Pénzügy",
          "Csoportok0": "💹 Pénzügy",
          "Csoportok1": "💹 Pénzügy",
          "Name": "Călin Constantin Anton POPESCU-TĂRICEANU",
          "Simple": "Popescu-Tariceanu Calin Constantin Anton",
          "Típus": "Bizottság",
          "duration": 1446,
          "end": "2004-11-30T00:00:00",
          "start": "2000-12-15T00:00:00"
         },
         {
          "Csoportok": "🔠 Oktatás, tudomány, sport",
          "Csoportok0": "🔠 Oktatás, tudomány, sport",
          "Csoportok1": "🔠 Oktatás, tudomány, sport",
          "Name": "Călin Constantin Anton POPESCU-TĂRICEANU",
          "Simple": "Popescu-Tariceanu Calin Constantin Anton",
          "Típus": "Bizottság",
          "duration": 850,
          "end": "1992-10-16T00:00:00",
          "start": "1990-06-19T00:00:00"
         },
         {
          "Csoportok": "🚹 Emberi jogok, kisebbségek",
          "Csoportok0": "🚹 Emberi jogok, kisebbségek",
          "Csoportok1": "🚹 Emberi jogok, kisebbségek",
          "Name": "Călin Constantin Anton POPESCU-TĂRICEANU",
          "Simple": "Popescu-Tariceanu Calin Constantin Anton",
          "Típus": "Bizottság",
          "duration": 1455,
          "end": "2008-12-13T00:00:00",
          "start": "2004-12-19T00:00:00"
         },
         {
          "Csoportok": "🔼 Szenátus",
          "Csoportok0": "🔼 Szenátus",
          "Csoportok1": "🔼 Szenátus",
          "Name": "Călin Constantin Anton POPESCU-TĂRICEANU",
          "Simple": "Popescu-Tariceanu Calin Constantin Anton",
          "Típus": "Kamara",
          "duration": 1462,
          "end": "2016-12-21T00:00:00",
          "start": "2012-12-20T00:00:00"
         },
         {
          "Csoportok": "🔼 Szenátus",
          "Csoportok0": "🔼 Szenátus ",
          "Csoportok1": "🔼 Szenátus",
          "Name": "Călin Constantin Anton POPESCU-TĂRICEANU",
          "Simple": "Popescu-Tariceanu Calin Constantin Anton",
          "Típus": "Kamara",
          "duration": 861,
          "end": "2019-05-01T00:00:00",
          "start": "2016-12-21T00:00:00"
         },
         {
          "Csoportok": "🔽 Képviselőház",
          "Csoportok0": "🔽 Képviselőház",
          "Csoportok1": "🔽 Képviselőház",
          "Name": "Călin Constantin Anton POPESCU-TĂRICEANU",
          "Simple": "Popescu-Tariceanu Calin Constantin Anton",
          "Típus": "Kamara",
          "duration": 850,
          "end": "1992-10-16T00:00:00",
          "start": "1990-06-19T00:00:00"
         },
         {
          "Csoportok": "🔽 Képviselőház",
          "Csoportok0": "🔽 Képviselőház    ",
          "Csoportok1": "🔽 Képviselőház ",
          "Name": "Călin Constantin Anton POPESCU-TĂRICEANU",
          "Simple": "Popescu-Tariceanu Calin Constantin Anton",
          "Típus": "Kamara",
          "duration": 1464,
          "end": "2000-11-30T00:00:00",
          "start": "1996-11-27T00:00:00"
         },
         {
          "Csoportok": "🔽 Képviselőház",
          "Csoportok0": "🔽 Képviselőház  ",
          "Csoportok1": "🔽 Képviselőház ",
          "Name": "Călin Constantin Anton POPESCU-TĂRICEANU",
          "Simple": "Popescu-Tariceanu Calin Constantin Anton",
          "Típus": "Kamara",
          "duration": 1446,
          "end": "2004-11-30T00:00:00",
          "start": "2000-12-15T00:00:00"
         },
         {
          "Csoportok": "🔽 Képviselőház",
          "Csoportok0": "🔽 Képviselőház   ",
          "Csoportok1": "🔽 Képviselőház ",
          "Name": "Călin Constantin Anton POPESCU-TĂRICEANU",
          "Simple": "Popescu-Tariceanu Calin Constantin Anton",
          "Típus": "Kamara",
          "duration": 1455,
          "end": "2008-12-13T00:00:00",
          "start": "2004-12-19T00:00:00"
         },
         {
          "Csoportok": "🔽 Képviselőház",
          "Csoportok0": "🔽 Képviselőház ",
          "Csoportok1": "🔽 Képviselőház ",
          "Name": "Călin Constantin Anton POPESCU-TĂRICEANU",
          "Simple": "Popescu-Tariceanu Calin Constantin Anton",
          "Típus": "Kamara",
          "duration": 1462,
          "end": "2012-12-20T00:00:00",
          "start": "2008-12-19T00:00:00"
         },
         {
          "Csoportok": "🇷🇴 Arad",
          "Csoportok0": "🇷🇴 Arad",
          "Csoportok1": "🇷🇴 Arad",
          "Name": "Călin Constantin Anton POPESCU-TĂRICEANU",
          "Simple": "Popescu-Tariceanu Calin Constantin Anton",
          "Típus": "Megye",
          "duration": 850,
          "end": "1992-10-16T00:00:00",
          "start": "1990-06-19T00:00:00"
         },
         {
          "Csoportok": "🇷🇴 Bukarest",
          "Csoportok0": "🇷🇴 Bukarest     ",
          "Csoportok1": "🇷🇴 Bukarest",
          "Name": "Călin Constantin Anton POPESCU-TĂRICEANU",
          "Simple": "Popescu-Tariceanu Calin Constantin Anton",
          "Típus": "Megye",
          "duration": 1464,
          "end": "2000-11-30T00:00:00",
          "start": "1996-11-27T00:00:00"
         },
         {
          "Csoportok": "🇷🇴 Bukarest",
          "Csoportok0": "🇷🇴 Bukarest  ",
          "Csoportok1": "🇷🇴 Bukarest",
          "Name": "Călin Constantin Anton POPESCU-TĂRICEANU",
          "Simple": "Popescu-Tariceanu Calin Constantin Anton",
          "Típus": "Megye",
          "duration": 1446,
          "end": "2004-11-30T00:00:00",
          "start": "2000-12-15T00:00:00"
         },
         {
          "Csoportok": "🇷🇴 Bukarest",
          "Csoportok0": "🇷🇴 Bukarest    ",
          "Csoportok1": "🇷🇴 Bukarest",
          "Name": "Călin Constantin Anton POPESCU-TĂRICEANU",
          "Simple": "Popescu-Tariceanu Calin Constantin Anton",
          "Típus": "Megye",
          "duration": 1455,
          "end": "2008-12-13T00:00:00",
          "start": "2004-12-19T00:00:00"
         },
         {
          "Csoportok": "🇷🇴 Bukarest",
          "Csoportok0": "🇷🇴 Bukarest",
          "Csoportok1": "🇷🇴 Bukarest ",
          "Name": "Călin Constantin Anton POPESCU-TĂRICEANU",
          "Simple": "Popescu-Tariceanu Calin Constantin Anton",
          "Típus": "Megye",
          "duration": 436,
          "end": "2014-03-01T00:00:00",
          "start": "2012-12-20T00:00:00"
         },
         {
          "Csoportok": "🇷🇴 Bukarest",
          "Csoportok0": "🇷🇴 Bukarest ",
          "Csoportok1": "🇷🇴 Bukarest ",
          "Name": "Călin Constantin Anton POPESCU-TĂRICEANU",
          "Simple": "Popescu-Tariceanu Calin Constantin Anton",
          "Típus": "Megye",
          "duration": 1026,
          "end": "2016-12-21T00:00:00",
          "start": "2014-03-01T00:00:00"
         },
         {
          "Csoportok": "🇷🇴 Bukarest",
          "Csoportok0": "🇷🇴 Bukarest   ",
          "Csoportok1": "🇷🇴 Bukarest ",
          "Name": "Călin Constantin Anton POPESCU-TĂRICEANU",
          "Simple": "Popescu-Tariceanu Calin Constantin Anton",
          "Típus": "Megye",
          "duration": 861,
          "end": "2019-05-01T00:00:00",
          "start": "2016-12-21T00:00:00"
         },
         {
          "Csoportok": "🇷🇴 Ilfov",
          "Csoportok0": "🇷🇴 Ilfov",
          "Csoportok1": "🇷🇴 Ilfov",
          "Name": "Călin Constantin Anton POPESCU-TĂRICEANU",
          "Simple": "Popescu-Tariceanu Calin Constantin Anton",
          "Típus": "Megye",
          "duration": 1462,
          "end": "2012-12-20T00:00:00",
          "start": "2008-12-19T00:00:00"
         },
         {
          "Csoportok": "🇫🇷 Franciaország",
          "Csoportok0": "🇫🇷 Franciaország",
          "Csoportok1": "🇫🇷 Franciaország",
          "Name": "Călin Constantin Anton POPESCU-TĂRICEANU",
          "Simple": "Popescu-Tariceanu Calin Constantin Anton",
          "Típus": "Ország",
          "duration": 801,
          "end": "2015-03-01T00:00:00",
          "start": "2012-12-20T00:00:00"
         },
         {
          "Csoportok": "🇬🇷 Görögország",
          "Csoportok0": "🇬🇷 Görögország",
          "Csoportok1": "🇬🇷 Görögország",
          "Name": "Călin Constantin Anton POPESCU-TĂRICEANU",
          "Simple": "Popescu-Tariceanu Calin Constantin Anton",
          "Típus": "Ország",
          "duration": 850,
          "end": "1992-10-16T00:00:00",
          "start": "1990-06-19T00:00:00"
         },
         {
          "Csoportok": "🇬🇷 Görögország",
          "Csoportok0": "🇬🇷 Görögország ",
          "Csoportok1": "🇬🇷 Görögország ",
          "Name": "Călin Constantin Anton POPESCU-TĂRICEANU",
          "Simple": "Popescu-Tariceanu Calin Constantin Anton",
          "Típus": "Ország",
          "duration": 1446,
          "end": "2004-11-30T00:00:00",
          "start": "2000-12-15T00:00:00"
         },
         {
          "Csoportok": "🇵🇭 Fülöp-szigetek",
          "Csoportok0": "🇵🇭 Fülöp-szigetek ",
          "Csoportok1": "🇵🇭 Fülöp-szigetek",
          "Name": "Călin Constantin Anton POPESCU-TĂRICEANU",
          "Simple": "Popescu-Tariceanu Calin Constantin Anton",
          "Típus": "Ország",
          "duration": 1398,
          "end": "2000-11-30T00:00:00",
          "start": "1997-02-01T00:00:00"
         },
         {
          "Csoportok": "🇵🇭 Fülöp-szigetek",
          "Csoportok0": "🇵🇭 Fülöp-szigetek",
          "Csoportok1": "🇵🇭 Fülöp-szigetek",
          "Name": "Călin Constantin Anton POPESCU-TĂRICEANU",
          "Simple": "Popescu-Tariceanu Calin Constantin Anton",
          "Típus": "Ország",
          "duration": 1446,
          "end": "2004-11-30T00:00:00",
          "start": "2000-12-15T00:00:00"
         },
         {
          "Csoportok": "👤 Independent - Independent",
          "Csoportok0": "👤 Independent - Independent",
          "Csoportok1": "👤 Independent - Independent",
          "Name": "Călin Constantin Anton POPESCU-TĂRICEANU",
          "Simple": "Popescu-Tariceanu Calin Constantin Anton",
          "Típus": "Párt",
          "duration": 1026,
          "end": "2016-12-21T00:00:00",
          "start": "2014-03-01T00:00:00"
         },
         {
          "Csoportok": "📐 PNL - Partidul Naţional Liberal",
          "Csoportok0": "📐 PNL - Partidul Naţional Liberal",
          "Csoportok1": "📐 PNL - Partidul Naţional Liberal",
          "Name": "Călin Constantin Anton POPESCU-TĂRICEANU",
          "Simple": "Popescu-Tariceanu Calin Constantin Anton",
          "Típus": "Párt",
          "duration": 850,
          "end": "1992-10-16T00:00:00",
          "start": "1990-06-19T00:00:00"
         },
         {
          "Csoportok": "📐 PNL - Partidul Naţional Liberal",
          "Csoportok0": "📐 PNL - Partidul Naţional Liberal     ",
          "Csoportok1": "📐 PNL - Partidul Naţional Liberal ",
          "Name": "Călin Constantin Anton POPESCU-TĂRICEANU",
          "Simple": "Popescu-Tariceanu Calin Constantin Anton",
          "Típus": "Párt",
          "duration": 1464,
          "end": "2000-11-30T00:00:00",
          "start": "1996-11-27T00:00:00"
         },
         {
          "Csoportok": "📐 PNL - Partidul Naţional Liberal",
          "Csoportok0": "📐 PNL - Partidul Naţional Liberal   ",
          "Csoportok1": "📐 PNL - Partidul Naţional Liberal ",
          "Name": "Călin Constantin Anton POPESCU-TĂRICEANU",
          "Simple": "Popescu-Tariceanu Calin Constantin Anton",
          "Típus": "Párt",
          "duration": 1446,
          "end": "2004-11-30T00:00:00",
          "start": "2000-12-15T00:00:00"
         },
         {
          "Csoportok": "📐 PNL - Partidul Naţional Liberal",
          "Csoportok0": "📐 PNL - Partidul Naţional Liberal    ",
          "Csoportok1": "📐 PNL - Partidul Naţional Liberal ",
          "Name": "Călin Constantin Anton POPESCU-TĂRICEANU",
          "Simple": "Popescu-Tariceanu Calin Constantin Anton",
          "Típus": "Párt",
          "duration": 1455,
          "end": "2008-12-13T00:00:00",
          "start": "2004-12-19T00:00:00"
         },
         {
          "Csoportok": "📐 PNL - Partidul Naţional Liberal",
          "Csoportok0": "📐 PNL - Partidul Naţional Liberal ",
          "Csoportok1": "📐 PNL - Partidul Naţional Liberal ",
          "Name": "Călin Constantin Anton POPESCU-TĂRICEANU",
          "Simple": "Popescu-Tariceanu Calin Constantin Anton",
          "Típus": "Párt",
          "duration": 1462,
          "end": "2012-12-20T00:00:00",
          "start": "2008-12-19T00:00:00"
         },
         {
          "Csoportok": "📐 PNL - Partidul Naţional Liberal",
          "Csoportok0": "📐 PNL - Partidul Naţional Liberal  ",
          "Csoportok1": "📐 PNL - Partidul Naţional Liberal ",
          "Name": "Călin Constantin Anton POPESCU-TĂRICEANU",
          "Simple": "Popescu-Tariceanu Calin Constantin Anton",
          "Típus": "Párt",
          "duration": 436,
          "end": "2014-03-01T00:00:00",
          "start": "2012-12-20T00:00:00"
         },
         {
          "Csoportok": "🕊️ ALDE - Partidul Alianţa Liberalilor şi Democraţilor",
          "Csoportok0": "🕊️ ALDE - Partidul Alianţa Liberalilor şi Democraţilor",
          "Csoportok1": "🕊️ ALDE - Partidul Alianţa Liberalilor şi Democraţilor",
          "Name": "Călin Constantin Anton POPESCU-TĂRICEANU",
          "Simple": "Popescu-Tariceanu Calin Constantin Anton",
          "Típus": "Párt",
          "duration": 861,
          "end": "2019-05-01T00:00:00",
          "start": "2016-12-21T00:00:00"
         }
        ]
       },
       "encoding": {
        "color": {
         "field": "Típus",
         "sort": {
          "field": "order",
          "op": "mean",
          "order": "descending"
         },
         "type": "nominal"
        },
        "x": {
         "field": "start",
         "title": "",
         "type": "temporal"
        },
        "x2": {
         "field": "end",
         "type": "temporal"
        },
        "y": {
         "field": "Csoportok",
         "sort": {
          "field": "order",
          "op": "mean",
          "order": "descending"
         },
         "title": "",
         "type": "nominal"
        }
       },
       "mark": "bar",
       "selection": {
        "selector002": {
         "bind": "scales",
         "encodings": [
          "x",
          "y"
         ],
         "mark": {
          "fill": "#333",
          "fillOpacity": 0.125,
          "stroke": "white"
         },
         "on": "[mousedown, window:mouseup] > window:mousemove!",
         "resolve": "global",
         "translate": "[mousedown, window:mouseup] > window:mousemove!",
         "type": "interval",
         "zoom": "wheel!"
        }
       },
       "title": "Popescu-Tariceanu Calin Constantin Anton"
      },
      "image/png": "[encoded data removed]",
      "text/plain": [
       "<VegaLite 2 object>\n",
       "\n",
       "If you see this message, it means the renderer has not been properly enabled\n",
       "for the frontend that you are using. For more information, see\n",
       "https://altair-viz.github.io/user_guide/troubleshooting.html\n"
      ]
     },
     "execution_count": 82,
     "metadata": {},
     "output_type": "execute_result"
    }
   ],
   "source": [
    "m='Popescu-Tariceanu Calin Constantin Anton'\n",
    "ef=efs4[efs4['Simple']==m]\n",
    "viz=alt.Chart(ef,\n",
    "          title=m\n",
    "         ).mark_bar().encode(\n",
    "    x=alt.X('start:T',title=''),\n",
    "    x2='end:T',\n",
    "    y=alt.Y('Csoportok:N',title='',\n",
    "            sort=alt.EncodingSortField(field=\"order\", op=\"mean\", order='descending')),\n",
    "    color=alt.Color('Típus:N',\n",
    "        sort=alt.EncodingSortField(field=\"order\", op=\"mean\", order='descending'))\n",
    ")\n",
    "# viz.save('json/viz.json')\n",
    "viz.interactive()"
   ]
  },
  {
   "cell_type": "markdown",
   "metadata": {},
   "source": [
    "Member images"
   ]
  },
  {
   "cell_type": "code",
   "execution_count": 11,
   "metadata": {},
   "outputs": [],
   "source": [
    "photos={name:nmembers[name]['Photo'][np.array([p[-10:-6] for p in nmembers[name]['Link']]).argmax()] for name in nmembers}"
   ]
  },
  {
   "cell_type": "code",
   "execution_count": 12,
   "metadata": {},
   "outputs": [],
   "source": [
    "import urllib.request"
   ]
  },
  {
   "cell_type": "code",
   "execution_count": null,
   "metadata": {},
   "outputs": [],
   "source": [
    "#downloader - run once only\n",
    "for p in photos:\n",
    "    urllib.request.urlretrieve(photos[p], \"photos/\"+p+'.jpg')"
   ]
  },
  {
   "cell_type": "code",
   "execution_count": 29,
   "metadata": {},
   "outputs": [],
   "source": [
    "from PIL import Image\n",
    "from resizeimage import resizeimage"
   ]
  },
  {
   "cell_type": "code",
   "execution_count": 33,
   "metadata": {},
   "outputs": [
    {
     "name": "stdout",
     "output_type": "stream",
     "text": [
      "Maior Liviu\n",
      "Badea Nelu\n",
      "Nastase Ilie\n",
      "Dragomir Traian-Caius\n"
     ]
    }
   ],
   "source": [
    "err=[]\n",
    "for p in photos:\n",
    "    try:\n",
    "        img = Image.open('photos/'+p+'.jpg', 'r')\n",
    "        img = resizeimage.resize_cover(img, [123,150])\n",
    "        img.save('photos2/'+p+'.jpg', img.format)\n",
    "    except:\n",
    "        print(p)\n",
    "        err.append(p)"
   ]
  },
  {
   "cell_type": "code",
   "execution_count": 34,
   "metadata": {},
   "outputs": [],
   "source": [
    "for p in err:\n",
    "    urllib.request.urlretrieve(photos[p], \"photos/\"+p+'.jpg')"
   ]
  },
  {
   "cell_type": "code",
   "execution_count": 113,
   "metadata": {},
   "outputs": [],
   "source": [
    "members['photo']={p:'photos2/'+p+'.jpg' for p in photos}"
   ]
  },
  {
   "cell_type": "code",
   "execution_count": 114,
   "metadata": {},
   "outputs": [
    {
     "data": {
      "text/plain": [
       "616171"
      ]
     },
     "execution_count": 114,
     "metadata": {},
     "output_type": "execute_result"
    }
   ],
   "source": [
    "open('json/member_simple.json','w').write(json.dumps(members))"
   ]
  },
  {
   "cell_type": "code",
   "execution_count": 116,
   "metadata": {},
   "outputs": [
    {
     "data": {
      "text/plain": [
       "{'Luari de cuvânt': [{'value': 104,\n",
       "   'start': '2008-12-19',\n",
       "   'end': '2012-12-20'},\n",
       "  {'value': 61, 'start': '2012-12-20', 'end': '2016-12-21'},\n",
       "  {'value': 25, 'start': '2000-12-15', 'end': '2004-11-30'},\n",
       "  {'value': 77, 'start': '2016-12-21', 'end': '2019-05-01'},\n",
       "  {'value': 45, 'start': '2004-12-19', 'end': '2008-12-13'},\n",
       "  {'value': 11, 'start': '1996-11-27', 'end': '2000-11-30'}],\n",
       " 'Sedințe': {'value': 11, 'start': '1996-11-27', 'end': '2000-11-30'},\n",
       " 'Luari de cuvânt în BP': [{'value': 95,\n",
       "   'start': '2008-12-19',\n",
       "   'end': '2012-12-20'}],\n",
       " 'Propuneri legislative initiate': [{'value': 20,\n",
       "   'start': '2008-12-19',\n",
       "   'end': '2012-12-20'},\n",
       "  {'value': 13, 'start': '2012-12-20', 'end': '2016-12-21'},\n",
       "  {'value': 4, 'start': '2000-12-15', 'end': '2004-11-30'},\n",
       "  {'value': 12, 'start': '2016-12-21', 'end': '2019-05-01'},\n",
       "  {'value': 10, 'start': '2004-12-19', 'end': '2008-12-13'},\n",
       "  {'value': 2, 'start': '1996-11-27', 'end': '2000-11-30'}],\n",
       " 'Întrebari si interpelari': [{'value': 3,\n",
       "   'start': '2008-12-19',\n",
       "   'end': '2012-12-20'},\n",
       "  {'value': 12, 'start': '2000-12-15', 'end': '2004-11-30'}],\n",
       " 'Motiuni': [{'value': 21, 'start': '2008-12-19', 'end': '2012-12-20'},\n",
       "  {'value': 10, 'start': '2000-12-15', 'end': '2004-11-30'},\n",
       "  {'value': 1, 'start': '2016-12-21', 'end': '2019-05-01'}],\n",
       " '- din care declaraţii politice': [{'value': 7,\n",
       "   'start': '2000-12-15',\n",
       "   'end': '2004-11-30'},\n",
       "  {'value': 2, 'start': '2004-12-19', 'end': '2008-12-13'}]}"
      ]
     },
     "execution_count": 116,
     "metadata": {},
     "output_type": "execute_result"
    }
   ],
   "source": [
    "nmembers[name]['Activity']"
   ]
  },
  {
   "cell_type": "code",
   "execution_count": null,
   "metadata": {},
   "outputs": [],
   "source": [
    "m='Popescu-Tariceanu Calin Constantin Anton'\n",
    "ef=efs4[efs4['Simple']==m]\n",
    "viz=alt.Chart(ef,\n",
    "          title=m\n",
    "         ).mark_bar().encode(\n",
    "    x=alt.X('start:T',title=''),\n",
    "    x2='end:T',\n",
    "    y=alt.Y('Csoportok:N',title='',\n",
    "            sort=alt.EncodingSortField(field=\"order\", op=\"mean\", order='descending')),\n",
    "    color=alt.Color('Típus:N',\n",
    "        sort=alt.EncodingSortField(field=\"order\", op=\"mean\", order='descending'))\n",
    ")\n",
    "# viz.save('json/viz.json')\n",
    "viz.interactive()"
   ]
  }
 ],
 "metadata": {
  "kernelspec": {
   "display_name": "Python 3",
   "language": "python",
   "name": "python3"
  },
  "language_info": {
   "codemirror_mode": {
    "name": "ipython",
    "version": 3
   },
   "file_extension": ".py",
   "mimetype": "text/x-python",
   "name": "python",
   "nbconvert_exporter": "python",
   "pygments_lexer": "ipython3",
   "version": "3.6.7"
  },
  "toc": {
   "base_numbering": 1,
   "nav_menu": {},
   "number_sections": true,
   "sideBar": true,
   "skip_h1_title": false,
   "title_cell": "Table of Contents",
   "title_sidebar": "Contents",
   "toc_cell": false,
   "toc_position": {},
   "toc_section_display": true,
   "toc_window_display": false
  }
 },
 "nbformat": 4,
 "nbformat_minor": 2
}
