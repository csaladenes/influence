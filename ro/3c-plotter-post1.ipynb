{
 "cells": [
  {
   "cell_type": "code",
   "execution_count": 1,
   "metadata": {
    "ExecuteTime": {
     "end_time": "2019-03-07T02:56:32.521682Z",
     "start_time": "2019-03-07T02:56:26.288106Z"
    }
   },
   "outputs": [],
   "source": [
    "import pandas as pd, numpy as np, json, os\n",
    "import matplotlib.pyplot as plt\n",
    "%matplotlib inline"
   ]
  },
  {
   "cell_type": "code",
   "execution_count": 59,
   "metadata": {},
   "outputs": [],
   "source": [
    "m=json.loads(open('ignore/member_timelines.json','r').read())\n",
    "members=json.loads(open('ignore/member_simple.json','r').read())"
   ]
  },
  {
   "cell_type": "code",
   "execution_count": 3,
   "metadata": {},
   "outputs": [
    {
     "data": {
      "text/plain": [
       "{'start': '1992-10-28 00:00:00',\n",
       " 'end': '1996-11-22 00:00:00',\n",
       " 'Name': 'ANTAL István',\n",
       " 'duration': '1486',\n",
       " 'Simple': 'Antal Istvan | 1948-06-23',\n",
       " 'Csoportok': '⏫ Gazdaság, ipar',\n",
       " 'Csoportok0': '⏫ Gazdaság, ipar    ',\n",
       " 'Csoportok1': '⏫ Gazdaság, ipar',\n",
       " 'Típus': 'Bizottság'}"
      ]
     },
     "execution_count": 3,
     "metadata": {},
     "output_type": "execute_result"
    }
   ],
   "source": [
    "m[10]"
   ]
  },
  {
   "cell_type": "code",
   "execution_count": 186,
   "metadata": {},
   "outputs": [],
   "source": [
    "d=pd.DataFrame(members['deaths'],index=['v']).T"
   ]
  },
  {
   "cell_type": "code",
   "execution_count": 187,
   "metadata": {},
   "outputs": [],
   "source": [
    "d['v']=' †'"
   ]
  },
  {
   "cell_type": "code",
   "execution_count": 66,
   "metadata": {},
   "outputs": [],
   "source": [
    "s=pd.DataFrame(members['s2'],index=['s']).T"
   ]
  },
  {
   "cell_type": "code",
   "execution_count": 67,
   "metadata": {},
   "outputs": [
    {
     "data": {
      "text/html": [
       "<div>\n",
       "<style scoped>\n",
       "    .dataframe tbody tr th:only-of-type {\n",
       "        vertical-align: middle;\n",
       "    }\n",
       "\n",
       "    .dataframe tbody tr th {\n",
       "        vertical-align: top;\n",
       "    }\n",
       "\n",
       "    .dataframe thead th {\n",
       "        text-align: right;\n",
       "    }\n",
       "</style>\n",
       "<table border=\"1\" class=\"dataframe\">\n",
       "  <thead>\n",
       "    <tr style=\"text-align: right;\">\n",
       "      <th></th>\n",
       "      <th>s</th>\n",
       "    </tr>\n",
       "  </thead>\n",
       "  <tbody>\n",
       "    <tr>\n",
       "      <th>Mocioi Ion | 1940-10-03</th>\n",
       "      <td>Ion MOCIOI</td>\n",
       "    </tr>\n",
       "    <tr>\n",
       "      <th>Antal Istvan | 1948-06-23</th>\n",
       "      <td>ANTAL István</td>\n",
       "    </tr>\n",
       "    <tr>\n",
       "      <th>Giurgiu Mircia | 1964-12-16</th>\n",
       "      <td>Mircia GIURGIU</td>\n",
       "    </tr>\n",
       "    <tr>\n",
       "      <th>Andronescu Ecaterina | 1948-04-07</th>\n",
       "      <td>Ecaterina ANDRONESCU</td>\n",
       "    </tr>\n",
       "    <tr>\n",
       "      <th>Chircu Doinita-Mariana | 1960-08-13</th>\n",
       "      <td>Doiniţa-Mariana CHIRCU</td>\n",
       "    </tr>\n",
       "  </tbody>\n",
       "</table>\n",
       "</div>"
      ],
      "text/plain": [
       "                                                          s\n",
       "Mocioi Ion | 1940-10-03                          Ion MOCIOI\n",
       "Antal Istvan | 1948-06-23                      ANTAL István\n",
       "Giurgiu Mircia | 1964-12-16                  Mircia GIURGIU\n",
       "Andronescu Ecaterina | 1948-04-07      Ecaterina ANDRONESCU\n",
       "Chircu Doinita-Mariana | 1960-08-13  Doiniţa-Mariana CHIRCU"
      ]
     },
     "execution_count": 67,
     "metadata": {},
     "output_type": "execute_result"
    }
   ],
   "source": [
    "s.head()"
   ]
  },
  {
   "cell_type": "code",
   "execution_count": 5,
   "metadata": {},
   "outputs": [
    {
     "name": "stdout",
     "output_type": "stream",
     "text": [
      "0.0 %\n",
      "3.3083005260197833 %\n",
      "6.616601052039567 %\n",
      "9.92490157805935 %\n",
      "13.233202104079133 %\n",
      "16.54150263009892 %\n",
      "19.8498031561187 %\n",
      "23.15810368213849 %\n",
      "26.466404208158266 %\n",
      "29.774704734178055 %\n",
      "33.08300526019784 %\n",
      "36.39130578621762 %\n",
      "39.6996063122374 %\n",
      "43.007906838257185 %\n",
      "46.31620736427698 %\n",
      "49.624507890296755 %\n",
      "52.93280841631653 %\n",
      "56.241108942336325 %\n",
      "59.54940946835611 %\n",
      "62.85770999437589 %\n",
      "66.16601052039567 %\n",
      "69.47431104641547 %\n",
      "72.78261157243524 %\n",
      "76.09091209845502 %\n",
      "79.3992126244748 %\n",
      "82.70751315049459 %\n",
      "86.01581367651437 %\n",
      "89.32411420253416 %\n",
      "92.63241472855395 %\n",
      "95.94071525457373 %\n",
      "99.24901578059351 %\n"
     ]
    }
   ],
   "source": [
    "data={'Ország':{},'Bizottság':{},'Párt':{},'Megye':{}}\n",
    "attention={}\n",
    "for k,i in enumerate(m):\n",
    "    if k%1000==0: print(k/len(m)*100,'%')\n",
    "    name=i['Simple']\n",
    "    if i['Típus'] in list(data.keys()):\n",
    "        if i['Csoportok'] not in data[i['Típus']]:data[i['Típus']][i['Csoportok']]={}\n",
    "        for t in pd.date_range(i['start'],i['end']):\n",
    "            st=str(t)[:10]\n",
    "            if st not in data[i['Típus']][i['Csoportok']]:data[i['Típus']][i['Csoportok']][st]=set()\n",
    "            data[i['Típus']][i['Csoportok']][st].add(name)            \n",
    "            if name not in attention:attention[name]={}\n",
    "            if st not in attention[name]:attention[name][st]=0\n",
    "            attention[name][st]+=1"
   ]
  },
  {
   "cell_type": "code",
   "execution_count": 10,
   "metadata": {},
   "outputs": [],
   "source": [
    "df=pd.DataFrame(attention)"
   ]
  },
  {
   "cell_type": "code",
   "execution_count": 23,
   "metadata": {},
   "outputs": [
    {
     "data": {
      "text/plain": [
       "Timedelta('523 days 00:00:00')"
      ]
     },
     "execution_count": 23,
     "metadata": {},
     "output_type": "execute_result"
    }
   ],
   "source": [
    "pd.to_datetime('2019-07-01')-pd.to_datetime('2018-01-24')"
   ]
  },
  {
   "cell_type": "code",
   "execution_count": 31,
   "metadata": {},
   "outputs": [],
   "source": [
    "counts=df.count().sort_values(ascending=False)"
   ]
  },
  {
   "cell_type": "code",
   "execution_count": 32,
   "metadata": {},
   "outputs": [
    {
     "data": {
      "text/plain": [
       "Marton Arpad-Francisc | 1955-03-25             10553\n",
       "Verestoy Attila | 1954-03-01                   10553\n",
       "Dumitrescu Cristian-Sorin | 1955-04-24          9702\n",
       "Seres Denes | 1953-07-21                        9702\n",
       "Nicolicea Eugen | 1956-06-06                    9702\n",
       "Niculescu Duvaz Bogdan Nicolae | 1948-12-14     9631\n",
       "Marko Bela | 1951-09-08                         9631\n",
       "dtype: int64"
      ]
     },
     "execution_count": 32,
     "metadata": {},
     "output_type": "execute_result"
    }
   ],
   "source": [
    "counts.head(7)"
   ]
  },
  {
   "cell_type": "code",
   "execution_count": 206,
   "metadata": {},
   "outputs": [
    {
     "name": "stdout",
     "output_type": "stream",
     "text": [
      "0.0 %\n",
      "3.3083005260197833 %\n",
      "6.616601052039567 %\n",
      "9.92490157805935 %\n",
      "13.233202104079133 %\n",
      "16.54150263009892 %\n",
      "19.8498031561187 %\n",
      "23.15810368213849 %\n",
      "26.466404208158266 %\n",
      "29.774704734178055 %\n",
      "33.08300526019784 %\n",
      "36.39130578621762 %\n",
      "39.6996063122374 %\n",
      "43.007906838257185 %\n",
      "46.31620736427698 %\n",
      "49.624507890296755 %\n",
      "52.93280841631653 %\n",
      "56.241108942336325 %\n",
      "59.54940946835611 %\n",
      "62.85770999437589 %\n",
      "66.16601052039567 %\n",
      "69.47431104641547 %\n",
      "72.78261157243524 %\n",
      "76.09091209845502 %\n",
      "79.3992126244748 %\n",
      "82.70751315049459 %\n",
      "86.01581367651437 %\n",
      "89.32411420253416 %\n",
      "92.63241472855395 %\n",
      "95.94071525457373 %\n",
      "99.24901578059351 %\n"
     ]
    }
   ],
   "source": [
    "switches={}\n",
    "fusions={}\n",
    "for k,i in enumerate(m):\n",
    "    if k%1000==0: print(k/len(m)*100,'%')\n",
    "    name=i['Simple']\n",
    "    if i['Típus'] in ['Megye','Párt']:\n",
    "        for t in pd.date_range(i['start'],i['end']):\n",
    "            st=str(t)[:10]\n",
    "            if name not in switches:switches[name]={}\n",
    "            if i['Típus']not in switches[name]:switches[name][i['Típus']]={'count':0,'current':i['Csoportok']}\n",
    "            if switches[name][i['Típus']]['current']!=i['Csoportok']:\n",
    "                if i['Típus']=='Párt':\n",
    "                    p1=i['Csoportok']\n",
    "                    p2=switches[name][i['Típus']]['current']\n",
    "                    if p1 not in fusions:fusions[p1]={}\n",
    "                    if p2 not in fusions[p1]:fusions[p1][p2]=0\n",
    "                    fusions[p1][p2]+=1\n",
    "                switches[name][i['Típus']]['current']=str(i['Csoportok'])\n",
    "                switches[name][i['Típus']]['count']+=1"
   ]
  },
  {
   "cell_type": "code",
   "execution_count": 192,
   "metadata": {},
   "outputs": [
    {
     "name": "stdout",
     "output_type": "stream",
     "text": [
      "0.5221530574880996\n",
      "Timis Ioan | 1951-09-17                 6\n",
      "Ion Vasile | 1950-01-12                 5\n",
      "Iriza Scarlat | 1955-09-03              5\n",
      "Gradinaru Nicolae | 1953-11-05          5\n",
      "Iliescu Valentin Adrian | 1961-11-01    5\n",
      "Name: Párt, dtype: int64\n"
     ]
    }
   ],
   "source": [
    "df=pd.DataFrame({i:{j:switches[i][j]['count'] for j in switches[i]} for i in switches})\n",
    "part=df.T['Párt'].sort_values(ascending=False)\n",
    "print(part.mean())\n",
    "print(part.head(5))\n",
    "df=pd.DataFrame(part).join(pd.DataFrame(counts)).join(s).join(d)\n",
    "df['v']=df['v'].fillna('')\n",
    "df['s']=df['s']+df['v']\n",
    "df=df.set_index('s')\n",
    "df['a']=df['Párt']/(df[0]/365)\n",
    "df=df.replace([np.inf, -np.inf], np.nan)\n",
    "part=df.sort_values(by='a',ascending=False)['a']"
   ]
  },
  {
   "cell_type": "code",
   "execution_count": 193,
   "metadata": {},
   "outputs": [
    {
     "name": "stdout",
     "output_type": "stream",
     "text": [
      "0.06847308678139875\n",
      "Mihalcescu Carmen-Ileana | 1970-05-14          3\n",
      "Niculescu Duvaz Bogdan Nicolae | 1948-12-14    3\n",
      "Nicolaescu Sergiu-Florin | 1930-04-13          3\n",
      "Banicioiu Nicolae | 1979-03-26                 3\n",
      "Nicolae Serban | 1968-04-05                    2\n",
      "Name: Megye, dtype: int64\n"
     ]
    }
   ],
   "source": [
    "df=pd.DataFrame({i:{j:switches[i][j]['count'] for j in switches[i]} for i in switches})\n",
    "megye=df.T['Megye'].sort_values(ascending=False)\n",
    "print(megye.mean())\n",
    "print(megye.head(5))\n",
    "df=pd.DataFrame(megye).join(pd.DataFrame(counts)).join(s).join(d)\n",
    "df['v']=df['v'].fillna('')\n",
    "df['s']=df['s']+df['v']\n",
    "df=df.set_index('s')\n",
    "df['a']=df['Megye']/(df[0]/365)\n",
    "df=df.replace([np.inf, -np.inf], np.nan)\n",
    "megye=df.sort_values(by='a',ascending=False)['a']"
   ]
  },
  {
   "cell_type": "code",
   "execution_count": 194,
   "metadata": {},
   "outputs": [
    {
     "data": {
      "text/plain": [
       "['bmh',\n",
       " 'classic',\n",
       " 'dark_background',\n",
       " 'fast',\n",
       " 'fivethirtyeight',\n",
       " 'ggplot',\n",
       " 'grayscale',\n",
       " 'seaborn-bright',\n",
       " 'seaborn-colorblind',\n",
       " 'seaborn-dark-palette',\n",
       " 'seaborn-dark',\n",
       " 'seaborn-darkgrid',\n",
       " 'seaborn-deep',\n",
       " 'seaborn-muted',\n",
       " 'seaborn-notebook',\n",
       " 'seaborn-paper',\n",
       " 'seaborn-pastel',\n",
       " 'seaborn-poster',\n",
       " 'seaborn-talk',\n",
       " 'seaborn-ticks',\n",
       " 'seaborn-white',\n",
       " 'seaborn-whitegrid',\n",
       " 'seaborn',\n",
       " 'Solarize_Light2',\n",
       " 'tableau-colorblind10',\n",
       " '_classic_test']"
      ]
     },
     "execution_count": 194,
     "metadata": {},
     "output_type": "execute_result"
    }
   ],
   "source": [
    "plt.style.use('seaborn-whitegrid')\n",
    "plt.style.available"
   ]
  },
  {
   "cell_type": "code",
   "execution_count": 203,
   "metadata": {},
   "outputs": [
    {
     "name": "stdout",
     "output_type": "stream",
     "text": [
      "0.08654849021238178\n",
      "0.0066872897002045436\n"
     ]
    },
    {
     "data": {
      "image/png": "[encoded data removed]",
      "text/plain": [
       "<Figure size 792x216 with 2 Axes>"
      ]
     },
     "metadata": {},
     "output_type": "display_data"
    }
   ],
   "source": [
    "top=15\n",
    "fig,axes=plt.subplots(1,2,figsize=(11,3))\n",
    "ax=axes[0]\n",
    "print(part.mean())\n",
    "ax=part.head(top).plot(kind='bar',ax=ax)\n",
    "ax.set_xlabel(\"\")\n",
    "ax.set_ylabel(\"Pártváltás / év\")\n",
    "print(megye.mean())\n",
    "ax=axes[1]\n",
    "megye.head(top).plot(kind='bar',ax=ax)\n",
    "ax.set_xlabel(\"\")\n",
    "ax.set_ylabel(\"Megyeváltás / év\")\n",
    "plt.savefig('fig/valtas.png',bbox_inches='tight',transparent=True)\n",
    "plt.show()"
   ]
  },
  {
   "cell_type": "code",
   "execution_count": 215,
   "metadata": {},
   "outputs": [
    {
     "data": {
      "text/plain": [
       "7205"
      ]
     },
     "execution_count": 215,
     "metadata": {},
     "output_type": "execute_result"
    }
   ],
   "source": [
    "open('json/fusions.json','w').write(json.dumps(fusions))"
   ]
  },
  {
   "cell_type": "code",
   "execution_count": 54,
   "metadata": {},
   "outputs": [
    {
     "data": {
      "text/plain": [
       "Mihalcescu Carmen-Ileana | 1970-05-14           3\n",
       "Niculescu Duvaz Bogdan Nicolae | 1948-12-14     3\n",
       "Nicolaescu Sergiu-Florin | 1930-04-13           3\n",
       "Banicioiu Nicolae | 1979-03-26                  3\n",
       "Nicolae Serban | 1968-04-05                     2\n",
       "Sassu Alexandru | 1955-10-26                    2\n",
       "Stireanu Octavian | 1952-06-25                  2\n",
       "Enache Marian | 1954-05-05                      2\n",
       "Iancu Iulian | 1960-10-06                       2\n",
       "Nicolaescu Gheorghe-Eugen | 1955-08-02          2\n",
       "Radulescu Cristian | 1955-11-13                 2\n",
       "Stroe Radu | 1949-08-31                         2\n",
       "Popescu Dan-Mircea | 1950-10-06                 2\n",
       "Paleologu Alexandru | 1919-03-14                2\n",
       "Vasile Radu | 1942-10-10                        2\n",
       "Vasilescu Valentin. | 1935-11-06                2\n",
       "Nicolicea Eugen | 1956-06-06                    2\n",
       "Steriu Valeriu-Andrei | 1965-09-24              2\n",
       "Antonescu George Crin Laurentiu | 1959-09-21    2\n",
       "Lixandroiu Viorel | 1952-04-20                  2\n",
       "Name: Megye, dtype: int64"
      ]
     },
     "execution_count": 54,
     "metadata": {},
     "output_type": "execute_result"
    }
   ],
   "source": [
    "megye.head(20)"
   ]
  },
  {
   "cell_type": "code",
   "execution_count": null,
   "metadata": {},
   "outputs": [],
   "source": []
  },
  {
   "cell_type": "code",
   "execution_count": null,
   "metadata": {},
   "outputs": [],
   "source": [
    "edges={}\n",
    "points={'Ország':3,'Bizottság':4,'Párt':2,'Megye':1}\n",
    "for tipus in data:\n",
    "    for csoport in data[tipus]:\n",
    "        print(csoport)\n",
    "        for t in data[tipus][csoport]:\n",
    "            names=list(data[tipus][csoport][t])\n",
    "            for r in range(len(names)):\n",
    "                name=names[r]\n",
    "                for p in range(r+1,len(names)):\n",
    "                    name2=names[p]\n",
    "                    nset=tuple(np.sort([name,name2]))\n",
    "                    v=points[tipus]\n",
    "                    if nset not in edges:edges[nset]={'anneal':0,'values':0}\n",
    "                    edges[nset]['values']+=v\n",
    "                    edges[nset]['anneal']+=v*tanneal[t]"
   ]
  },
  {
   "cell_type": "markdown",
   "metadata": {},
   "source": [
    "Save"
   ]
  },
  {
   "cell_type": "code",
   "execution_count": null,
   "metadata": {},
   "outputs": [],
   "source": [
    "import pickle"
   ]
  },
  {
   "cell_type": "code",
   "execution_count": null,
   "metadata": {},
   "outputs": [],
   "source": [
    "def save_obj(obj, name ):\n",
    "    with open('ignore/'+ name + '.pkl', 'wb') as f:\n",
    "        pickle.dump(obj, f, pickle.HIGHEST_PROTOCOL)\n",
    "\n",
    "def load_obj(name ):\n",
    "    with open('ignore/' + name + '.pkl', 'rb') as f:\n",
    "        return pickle.load(f)"
   ]
  },
  {
   "cell_type": "code",
   "execution_count": null,
   "metadata": {},
   "outputs": [],
   "source": [
    "save_obj(edges,'plotter_name_edges')"
   ]
  },
  {
   "cell_type": "code",
   "execution_count": 82,
   "metadata": {},
   "outputs": [],
   "source": [
    "edges=load_obj('plotter_name_edges')"
   ]
  },
  {
   "cell_type": "markdown",
   "metadata": {},
   "source": [
    "Prune"
   ]
  },
  {
   "cell_type": "code",
   "execution_count": null,
   "metadata": {},
   "outputs": [],
   "source": [
    "df=pd.DataFrame(edges).T"
   ]
  },
  {
   "cell_type": "code",
   "execution_count": null,
   "metadata": {},
   "outputs": [],
   "source": [
    "all_nodes=set(df.reset_index()['level_0']).union(df.reset_index()['level_1'])"
   ]
  },
  {
   "cell_type": "code",
   "execution_count": null,
   "metadata": {},
   "outputs": [],
   "source": [
    "min_baratsag=500\n",
    "df2=df[df['anneal']>min_baratsag]"
   ]
  },
  {
   "cell_type": "code",
   "execution_count": null,
   "metadata": {},
   "outputs": [],
   "source": [
    "df2['regi']=df2['anneal']/df2['values']"
   ]
  },
  {
   "cell_type": "code",
   "execution_count": null,
   "metadata": {},
   "outputs": [],
   "source": [
    "df2=df2['anneal'].reset_index()"
   ]
  },
  {
   "cell_type": "code",
   "execution_count": null,
   "metadata": {},
   "outputs": [],
   "source": [
    "df2.columns=['source','target','weight']"
   ]
  },
  {
   "cell_type": "code",
   "execution_count": null,
   "metadata": {},
   "outputs": [],
   "source": [
    "nodes={}\n",
    "for i in all_nodes:\n",
    "    if i not in nodes:\n",
    "        nodes[i]={'pr':0,'bc':0,'cf':0}"
   ]
  },
  {
   "cell_type": "code",
   "execution_count": null,
   "metadata": {},
   "outputs": [],
   "source": [
    "G=nx.Graph(df2)"
   ]
  },
  {
   "cell_type": "code",
   "execution_count": null,
   "metadata": {},
   "outputs": [],
   "source": [
    "r = nx.pagerank(G,weight='weight')\n",
    "mr=np.median(list(r.values()))\n",
    "for i in r:\n",
    "    nodes[i]['pr']=r[i]/mr"
   ]
  },
  {
   "cell_type": "code",
   "execution_count": null,
   "metadata": {},
   "outputs": [],
   "source": [
    "Gc = max(nx.connected_component_subgraphs(G), key=len)\n",
    "r = nx.current_flow_closeness_centrality(Gc,weight='weight')\n",
    "mr=np.median(list(r.values()))\n",
    "for i in r:\n",
    "    nodes[i]['cf']=r[i]/mr"
   ]
  },
  {
   "cell_type": "code",
   "execution_count": null,
   "metadata": {},
   "outputs": [],
   "source": [
    "links={}\n",
    "for i in G.edges(data=True):\n",
    "    name=i[0]\n",
    "    name2=i[1]\n",
    "    z=i[2]['weight']\n",
    "    if name not in links:links[name]={}\n",
    "    if name2 not in links:links[name2]={}\n",
    "    links[name][name2]=z\n",
    "    links[name2][name]=z"
   ]
  },
  {
   "cell_type": "code",
   "execution_count": null,
   "metadata": {},
   "outputs": [],
   "source": [
    "#save \n",
    "network={'nodes':nodes,'links':links}\n",
    "print(len(nodes),'nodes and',len(G.edges()),'edges')"
   ]
  },
  {
   "cell_type": "code",
   "execution_count": null,
   "metadata": {},
   "outputs": [],
   "source": [
    "open('ignore/plotter_name.json','w').write(json.dumps(network))"
   ]
  },
  {
   "cell_type": "code",
   "execution_count": null,
   "metadata": {},
   "outputs": [],
   "source": [
    "import zipfile\n",
    "\n",
    "with zipfile.ZipFile(\"json/plotter_name.zip\", \"w\", compression=zipfile.ZIP_DEFLATED) as zf:\n",
    "    zf.write(\"ignore/plotter_name.json\",'plotter_name.json')"
   ]
  },
  {
   "cell_type": "code",
   "execution_count": null,
   "metadata": {},
   "outputs": [],
   "source": []
  }
 ],
 "metadata": {
  "kernelspec": {
   "display_name": "Python 3",
   "language": "python",
   "name": "python3"
  },
  "language_info": {
   "codemirror_mode": {
    "name": "ipython",
    "version": 3
   },
   "file_extension": ".py",
   "mimetype": "text/x-python",
   "name": "python",
   "nbconvert_exporter": "python",
   "pygments_lexer": "ipython3",
   "version": "3.6.7"
  },
  "toc": {
   "base_numbering": 1,
   "nav_menu": {},
   "number_sections": true,
   "sideBar": true,
   "skip_h1_title": false,
   "title_cell": "Table of Contents",
   "title_sidebar": "Contents",
   "toc_cell": false,
   "toc_position": {},
   "toc_section_display": true,
   "toc_window_display": false
  }
 },
 "nbformat": 4,
 "nbformat_minor": 2
}
