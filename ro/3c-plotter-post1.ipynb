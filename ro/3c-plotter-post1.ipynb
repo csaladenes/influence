{
 "cells": [
  {
   "cell_type": "code",
   "execution_count": 3,
   "metadata": {
    "ExecuteTime": {
     "end_time": "2019-03-07T02:56:32.521682Z",
     "start_time": "2019-03-07T02:56:26.288106Z"
    }
   },
   "outputs": [],
   "source": [
    "import pandas as pd, numpy as np, json, os\n",
    "import matplotlib.pyplot as plt\n",
    "%matplotlib inline"
   ]
  },
  {
   "cell_type": "code",
   "execution_count": 4,
   "metadata": {},
   "outputs": [
    {
     "data": {
      "text/plain": [
       "['bmh',\n",
       " 'classic',\n",
       " 'dark_background',\n",
       " 'fast',\n",
       " 'fivethirtyeight',\n",
       " 'ggplot',\n",
       " 'grayscale',\n",
       " 'seaborn-bright',\n",
       " 'seaborn-colorblind',\n",
       " 'seaborn-dark-palette',\n",
       " 'seaborn-dark',\n",
       " 'seaborn-darkgrid',\n",
       " 'seaborn-deep',\n",
       " 'seaborn-muted',\n",
       " 'seaborn-notebook',\n",
       " 'seaborn-paper',\n",
       " 'seaborn-pastel',\n",
       " 'seaborn-poster',\n",
       " 'seaborn-talk',\n",
       " 'seaborn-ticks',\n",
       " 'seaborn-white',\n",
       " 'seaborn-whitegrid',\n",
       " 'seaborn',\n",
       " 'Solarize_Light2',\n",
       " 'tableau-colorblind10',\n",
       " '_classic_test']"
      ]
     },
     "execution_count": 4,
     "metadata": {},
     "output_type": "execute_result"
    }
   ],
   "source": [
    "plt.style.use('seaborn-whitegrid')\n",
    "plt.style.available"
   ]
  },
  {
   "cell_type": "code",
   "execution_count": 5,
   "metadata": {},
   "outputs": [],
   "source": [
    "m=json.loads(open('ignore/member_timelines.json','r').read())\n",
    "members=json.loads(open('ignore/member_simple.json','r').read())"
   ]
  },
  {
   "cell_type": "code",
   "execution_count": 6,
   "metadata": {},
   "outputs": [
    {
     "data": {
      "text/plain": [
       "{'start': '1992-10-28 00:00:00',\n",
       " 'end': '1996-11-22 00:00:00',\n",
       " 'Name': 'ANTAL István',\n",
       " 'duration': '1486',\n",
       " 'Simple': 'Antal Istvan | 1948-06-23',\n",
       " 'Csoportok': '⏫ Gazdaság, ipar',\n",
       " 'Csoportok0': '⏫ Gazdaság, ipar    ',\n",
       " 'Csoportok1': '⏫ Gazdaság, ipar',\n",
       " 'Típus': 'Bizottság'}"
      ]
     },
     "execution_count": 6,
     "metadata": {},
     "output_type": "execute_result"
    }
   ],
   "source": [
    "m[10]"
   ]
  },
  {
   "cell_type": "code",
   "execution_count": 7,
   "metadata": {},
   "outputs": [],
   "source": [
    "d=pd.DataFrame(members['deaths'],index=['v']).T"
   ]
  },
  {
   "cell_type": "code",
   "execution_count": 8,
   "metadata": {},
   "outputs": [],
   "source": [
    "d['v']=' †'"
   ]
  },
  {
   "cell_type": "code",
   "execution_count": 9,
   "metadata": {},
   "outputs": [],
   "source": [
    "s=pd.DataFrame(members['s2'],index=['s']).T\n",
    "s=s.join(d)\n",
    "s['v']=s['v'].fillna('')\n",
    "s['s']=s['s']+s['v']\n",
    "s=s[['s']]"
   ]
  },
  {
   "cell_type": "code",
   "execution_count": 10,
   "metadata": {},
   "outputs": [
    {
     "data": {
      "text/html": [
       "<div>\n",
       "<style scoped>\n",
       "    .dataframe tbody tr th:only-of-type {\n",
       "        vertical-align: middle;\n",
       "    }\n",
       "\n",
       "    .dataframe tbody tr th {\n",
       "        vertical-align: top;\n",
       "    }\n",
       "\n",
       "    .dataframe thead th {\n",
       "        text-align: right;\n",
       "    }\n",
       "</style>\n",
       "<table border=\"1\" class=\"dataframe\">\n",
       "  <thead>\n",
       "    <tr style=\"text-align: right;\">\n",
       "      <th></th>\n",
       "      <th>s</th>\n",
       "    </tr>\n",
       "  </thead>\n",
       "  <tbody>\n",
       "    <tr>\n",
       "      <th>Mocioi Ion | 1940-10-03</th>\n",
       "      <td>Ion MOCIOI</td>\n",
       "    </tr>\n",
       "    <tr>\n",
       "      <th>Antal Istvan | 1948-06-23</th>\n",
       "      <td>ANTAL István</td>\n",
       "    </tr>\n",
       "    <tr>\n",
       "      <th>Giurgiu Mircia | 1964-12-16</th>\n",
       "      <td>Mircia GIURGIU</td>\n",
       "    </tr>\n",
       "    <tr>\n",
       "      <th>Andronescu Ecaterina | 1948-04-07</th>\n",
       "      <td>Ecaterina ANDRONESCU</td>\n",
       "    </tr>\n",
       "    <tr>\n",
       "      <th>Chircu Doinita-Mariana | 1960-08-13</th>\n",
       "      <td>Doiniţa-Mariana CHIRCU</td>\n",
       "    </tr>\n",
       "  </tbody>\n",
       "</table>\n",
       "</div>"
      ],
      "text/plain": [
       "                                                          s\n",
       "Mocioi Ion | 1940-10-03                          Ion MOCIOI\n",
       "Antal Istvan | 1948-06-23                      ANTAL István\n",
       "Giurgiu Mircia | 1964-12-16                  Mircia GIURGIU\n",
       "Andronescu Ecaterina | 1948-04-07      Ecaterina ANDRONESCU\n",
       "Chircu Doinita-Mariana | 1960-08-13  Doiniţa-Mariana CHIRCU"
      ]
     },
     "execution_count": 10,
     "metadata": {},
     "output_type": "execute_result"
    }
   ],
   "source": [
    "s.head()"
   ]
  },
  {
   "cell_type": "code",
   "execution_count": null,
   "metadata": {},
   "outputs": [
    {
     "data": {
      "text/html": [
       "<div>\n",
       "<style scoped>\n",
       "    .dataframe tbody tr th:only-of-type {\n",
       "        vertical-align: middle;\n",
       "    }\n",
       "\n",
       "    .dataframe tbody tr th {\n",
       "        vertical-align: top;\n",
       "    }\n",
       "\n",
       "    .dataframe thead th {\n",
       "        text-align: right;\n",
       "    }\n",
       "</style>\n",
       "<table border=\"1\" class=\"dataframe\">\n",
       "  <thead>\n",
       "    <tr style=\"text-align: right;\">\n",
       "      <th></th>\n",
       "      <th>Párt</th>\n",
       "    </tr>\n",
       "  </thead>\n",
       "  <tbody>\n",
       "    <tr>\n",
       "      <th>Capatina Octavian-Dan | 1948-04-17</th>\n",
       "      <td>🕊️ PUNR - nităţii Naţionale Române</td>\n",
       "    </tr>\n",
       "    <tr>\n",
       "      <th>Radu Neculae | 1934-10-18</th>\n",
       "      <td>⚪️ FSN - Salvării Naţionale</td>\n",
       "    </tr>\n",
       "    <tr>\n",
       "      <th>Georgescu Ioan | 1941-04-03</th>\n",
       "      <td>⚪️ FSN - Salvării Naţionale</td>\n",
       "    </tr>\n",
       "    <tr>\n",
       "      <th>Morcovescu Stelian | 1934-07-23</th>\n",
       "      <td>⚪️ FSN - Salvării Naţionale</td>\n",
       "    </tr>\n",
       "    <tr>\n",
       "      <th>Tupilatu Ioan Florin | 1950-09-18</th>\n",
       "      <td>🍀 MER - Ecologistă din România</td>\n",
       "    </tr>\n",
       "  </tbody>\n",
       "</table>\n",
       "</div>"
      ],
      "text/plain": [
       "                                                                 Párt \n",
       "Capatina Octavian-Dan | 1948-04-17  🕊️ PUNR - nităţii Naţionale Române\n",
       "Radu Neculae | 1934-10-18                  ⚪️ FSN - Salvării Naţionale\n",
       "Georgescu Ioan | 1941-04-03                ⚪️ FSN - Salvării Naţionale\n",
       "Morcovescu Stelian | 1934-07-23            ⚪️ FSN - Salvării Naţionale\n",
       "Tupilatu Ioan Florin | 1950-09-18       🍀 MER - Ecologistă din România"
      ]
     },
     "execution_count": 11,
     "metadata": {},
     "output_type": "execute_result"
    }
   ],
   "source": [
    "p=pd.DataFrame(members['part'],index=['Párt ']).T\n",
    "p.head()"
   ]
  },
  {
   "cell_type": "code",
   "execution_count": null,
   "metadata": {},
   "outputs": [],
   "source": [
    "pcolors = {\n",
    "        \"PRM\": \"#0d5ca4\",\n",
    "        \"UDMR\": \"green\",\n",
    "        \"PDL\": \"darkOrange\",\n",
    "        \"PSD\": \"#dc2c24\",\n",
    "        \"USR\": \"#04abe4\",\n",
    "        \"PAC\": \"grey\",\n",
    "        \"FSN\": \"grey\",\n",
    "        \"PNL\": \"#f4d42c\",\n",
    "        \"PD\": \"darkOrange\",\n",
    "        \"PUNR\": \"grey\",\n",
    "        \"UNPR\": \"#a8190f\",\n",
    "        \"PDSR\": \"#dc2c24\",\n",
    "        \"PNTCD\": \"#04843c\",\n",
    "        \"FC\": \"#1d7aad\",\n",
    "        \"PP-DD\": \"#9966cc\",\n",
    "        \"PAR\": \"grey\",\n",
    "        \"PL'93\": \"grey\",\n",
    "        \"MER\": \"grey\",\n",
    "        \"PMP\": \"#0484cc\",\n",
    "        \"PC\": \"#96c2f2\",\n",
    "        \"FDSN\": \"grey\",\n",
    "        \"ALDE\": \"#046cab\",\n",
    "        \"PUR-SL\": \"grey\",\n",
    "        \"PSDR\": \"#dc2c24\",\n",
    "        \"AUR\": \"grey\",\n",
    "        \"PER\": \"grey\",\n",
    "        \"PNL-CD\": \"grey\",\n",
    "        \"PSM\": \"grey\",\n",
    "        \"FER\": \"grey\",\n",
    "        \"PDAR\": \"grey\",\n",
    "        \"PLS\": \"grey\",\n",
    "        \"PTLDR\": \"grey\",\n",
    "        \"PRNR\": \"grey\",\n",
    "        \"GDC\": \"grey\",\n",
    "        \"PDM\": \"grey\",\n",
    "        \"PNL-AT\": \"grey\",\n",
    "        \"ULB\": \"grey\",\n",
    "        \"Independent\": \"#444\",\n",
    "        \"Minorități\": \"#999\",\n",
    "        \"RMDSZ\": \"green\"\n",
    "    }\n",
    "p['Color']=p['Párt '].str.split(' ').str[1].str.strip()\n",
    "p['Párt  ']=p['Párt '].str.split('-').str[0].str.strip()\n",
    "p=p.join(pd.DataFrame(pcolors,index=['cvalue']).T,on='Color')"
   ]
  },
  {
   "cell_type": "code",
   "execution_count": null,
   "metadata": {},
   "outputs": [
    {
     "data": {
      "text/html": [
       "<div>\n",
       "<style scoped>\n",
       "    .dataframe tbody tr th:only-of-type {\n",
       "        vertical-align: middle;\n",
       "    }\n",
       "\n",
       "    .dataframe tbody tr th {\n",
       "        vertical-align: top;\n",
       "    }\n",
       "\n",
       "    .dataframe thead th {\n",
       "        text-align: right;\n",
       "    }\n",
       "</style>\n",
       "<table border=\"1\" class=\"dataframe\">\n",
       "  <thead>\n",
       "    <tr style=\"text-align: right;\">\n",
       "      <th></th>\n",
       "      <th>Megye</th>\n",
       "    </tr>\n",
       "  </thead>\n",
       "  <tbody>\n",
       "    <tr>\n",
       "      <th>Sandu Costin | 1934-05-14</th>\n",
       "      <td>🇷🇴 Buzău</td>\n",
       "    </tr>\n",
       "    <tr>\n",
       "      <th>Comisel Constanta | 1934-04-30</th>\n",
       "      <td>🇷🇴 Dolj</td>\n",
       "    </tr>\n",
       "    <tr>\n",
       "      <th>Bona Petru | 1940-08-05</th>\n",
       "      <td>🇷🇴 Krassó-Szörény</td>\n",
       "    </tr>\n",
       "    <tr>\n",
       "      <th>Sfercoci Gheorghe | 1957-05-10</th>\n",
       "      <td>🇷🇴 Temes</td>\n",
       "    </tr>\n",
       "    <tr>\n",
       "      <th>Oarza Florin-Lucian | 1938-12-26</th>\n",
       "      <td>🇷🇴 Iași</td>\n",
       "    </tr>\n",
       "  </tbody>\n",
       "</table>\n",
       "</div>"
      ],
      "text/plain": [
       "                                             Megye \n",
       "Sandu Costin | 1934-05-14                  🇷🇴 Buzău\n",
       "Comisel Constanta | 1934-04-30              🇷🇴 Dolj\n",
       "Bona Petru | 1940-08-05           🇷🇴 Krassó-Szörény\n",
       "Sfercoci Gheorghe | 1957-05-10             🇷🇴 Temes\n",
       "Oarza Florin-Lucian | 1938-12-26            🇷🇴 Iași"
      ]
     },
     "execution_count": 13,
     "metadata": {},
     "output_type": "execute_result"
    }
   ],
   "source": [
    "g=pd.DataFrame(members['megye'],index=['Megye ']).T\n",
    "g.head()"
   ]
  },
  {
   "cell_type": "code",
   "execution_count": null,
   "metadata": {},
   "outputs": [
    {
     "name": "stdout",
     "output_type": "stream",
     "text": [
      "0.0 %\n",
      "3.3083005260197833 %\n",
      "6.616601052039567 %\n",
      "9.92490157805935 %\n",
      "13.233202104079133 %\n",
      "16.54150263009892 %\n",
      "19.8498031561187 %\n",
      "23.15810368213849 %\n",
      "26.466404208158266 %\n",
      "29.774704734178055 %\n",
      "33.08300526019784 %\n",
      "36.39130578621762 %\n"
     ]
    }
   ],
   "source": [
    "data={'Ország':{},'Bizottság':{},'Párt':{},'Megye':{}}\n",
    "attention={}\n",
    "for k,i in enumerate(m):\n",
    "    if k%1000==0: print(k/len(m)*100,'%')\n",
    "    name=i['Simple']\n",
    "    if i['Típus'] in list(data.keys()):\n",
    "        if i['Csoportok'] not in data[i['Típus']]:data[i['Típus']][i['Csoportok']]={}\n",
    "        for t in pd.date_range(i['start'],i['end']):\n",
    "            st=str(t)[:10]\n",
    "            if st not in data[i['Típus']][i['Csoportok']]:data[i['Típus']][i['Csoportok']][st]=set()\n",
    "            data[i['Típus']][i['Csoportok']][st].add(name)            \n",
    "            if name not in attention:attention[name]={}\n",
    "            if st not in attention[name]:attention[name][st]=0\n",
    "            attention[name][st]+=1"
   ]
  },
  {
   "cell_type": "code",
   "execution_count": null,
   "metadata": {},
   "outputs": [],
   "source": [
    "df=pd.DataFrame(attention)"
   ]
  },
  {
   "cell_type": "code",
   "execution_count": null,
   "metadata": {},
   "outputs": [],
   "source": [
    "pd.to_datetime('2019-07-01')-pd.to_datetime('2018-01-24')"
   ]
  },
  {
   "cell_type": "code",
   "execution_count": null,
   "metadata": {},
   "outputs": [],
   "source": [
    "counts=df.count().sort_values(ascending=False)"
   ]
  },
  {
   "cell_type": "code",
   "execution_count": null,
   "metadata": {},
   "outputs": [],
   "source": [
    "counts.head(7)"
   ]
  },
  {
   "cell_type": "code",
   "execution_count": null,
   "metadata": {},
   "outputs": [],
   "source": [
    "switches={}\n",
    "fusions={}\n",
    "for k,i in enumerate(m):\n",
    "    if k%1000==0: print(k/len(m)*100,'%')\n",
    "    name=i['Simple']\n",
    "    if i['Típus'] in ['Megye','Párt']:\n",
    "        for t in pd.date_range(i['start'],i['end']):\n",
    "            st=str(t)[:10]\n",
    "            if name not in switches:switches[name]={}\n",
    "            if i['Típus']not in switches[name]:switches[name][i['Típus']]={'count':0,'current':i['Csoportok']}\n",
    "            if switches[name][i['Típus']]['current']!=i['Csoportok']:\n",
    "                p1=i['Csoportok']\n",
    "                p2=switches[name][i['Típus']]['current']\n",
    "                if i['Típus'] not in fusions:fusions[i['Típus']]={}\n",
    "                if p1 not in fusions[i['Típus']]:fusions[i['Típus']][p1]={}\n",
    "                if p2 not in fusions[i['Típus']][p1]:fusions[i['Típus']][p1][p2]=0\n",
    "                fusions[i['Típus']][p1][p2]+=1\n",
    "                switches[name][i['Típus']]['current']=str(i['Csoportok'])\n",
    "                switches[name][i['Típus']]['count']+=1"
   ]
  },
  {
   "cell_type": "code",
   "execution_count": null,
   "metadata": {},
   "outputs": [],
   "source": [
    "def get_sub(dz,x,k=1):\n",
    "    part=dz.T[x].sort_values(ascending=False)\n",
    "    print(part.mean())\n",
    "    print(part.head(5))\n",
    "    df=pd.DataFrame(part).join(pd.DataFrame(counts)).join(s)\n",
    "    df['a']=df[x]/(df[0]/k)\n",
    "    df=df.replace([np.inf, -np.inf], np.nan)\n",
    "    df=df[df[0]>365*6] #remove outliers\n",
    "    part=df.sort_values(by='a',ascending=False)[['a','s']]\n",
    "    return part"
   ]
  },
  {
   "cell_type": "code",
   "execution_count": null,
   "metadata": {},
   "outputs": [],
   "source": [
    "dw=pd.DataFrame({i:{j:switches[i][j]['count'] for j in switches[i]} for i in switches})\n",
    "part=get_sub(dw,'Párt',365)\n",
    "megye=get_sub(dw,'Megye',365)"
   ]
  },
  {
   "cell_type": "code",
   "execution_count": null,
   "metadata": {},
   "outputs": [],
   "source": [
    "top=15\n",
    "fig,axes=plt.subplots(1,2,figsize=(11,3))\n",
    "to_plot=part.set_index('s')['a']\n",
    "ax=axes[0]\n",
    "print(to_plot.mean())\n",
    "ax=to_plot.head(top).plot(kind='bar',ax=ax)\n",
    "ax.set_xlabel(\"\")\n",
    "ax.set_ylabel(\"Pártváltás / év\")\n",
    "to_plot=megye.set_index('s')['a']\n",
    "ax=axes[1]\n",
    "print(to_plot.mean())\n",
    "to_plot.head(top).plot(kind='bar',ax=ax)\n",
    "ax.set_xlabel(\"\")\n",
    "ax.set_ylabel(\"Megyeváltás / év\")\n",
    "plt.savefig('fig/valtas.png',bbox_inches='tight',transparent=True)\n",
    "plt.show()"
   ]
  },
  {
   "cell_type": "markdown",
   "metadata": {},
   "source": [
    "Fusions"
   ]
  },
  {
   "cell_type": "code",
   "execution_count": null,
   "metadata": {},
   "outputs": [],
   "source": [
    "fusions['part']=fusions['Párt']\n",
    "fusions.pop('Párt');\n",
    "open('json/fusions.json','w').write(json.dumps(fusions))"
   ]
  },
  {
   "cell_type": "code",
   "execution_count": null,
   "metadata": {},
   "outputs": [],
   "source": [
    "switches2={}\n",
    "fusions2={}\n",
    "for k,i in enumerate(m):\n",
    "    if k%1000==0: print(k/len(m)*100,'%')\n",
    "    name=i['Simple']\n",
    "    if i['Típus'] in ['Párt']:\n",
    "        if not ((i['Típus']=='Párt')and(i['Csoportok']=='👤 Independent - Independent')):        \n",
    "            for t in pd.date_range(i['start'],i['end']):\n",
    "                st=str(t)[:10]\n",
    "                if name not in switches2:switches2[name]={}\n",
    "                if i['Típus']not in switches2[name]:switches2[name][i['Típus']]={'count':0,'current':i['Csoportok']}\n",
    "                if switches2[name][i['Típus']]['current']!=i['Csoportok']:\n",
    "                    p1=i['Csoportok']\n",
    "                    p2=switches2[name][i['Típus']]['current']\n",
    "                    if i['Típus'] not in fusions2:fusions2[i['Típus']]={}\n",
    "                    if p1 not in fusions2[i['Típus']]:fusions2[i['Típus']][p1]={}\n",
    "                    if p2 not in fusions2[i['Típus']][p1]:fusions2[i['Típus']][p1][p2]=0\n",
    "                    fusions2[i['Típus']][p1][p2]+=1\n",
    "                    switches2[name][i['Típus']]['current']=str(i['Csoportok'])\n",
    "                    switches2[name][i['Típus']]['count']+=1"
   ]
  },
  {
   "cell_type": "code",
   "execution_count": null,
   "metadata": {},
   "outputs": [],
   "source": [
    "fusions2['part']=fusions2['Párt']\n",
    "fusions2.pop('Párt');\n",
    "open('json/fusions2.json','w').write(json.dumps(fusions2))"
   ]
  },
  {
   "cell_type": "markdown",
   "metadata": {},
   "source": [
    "Orszag"
   ]
  },
  {
   "cell_type": "code",
   "execution_count": null,
   "metadata": {},
   "outputs": [],
   "source": [
    "countries={}\n",
    "for k,i in enumerate(m):\n",
    "    if k%1000==0: print(k/len(m)*100,'%')\n",
    "    name=i['Simple']\n",
    "    if i['Típus'] in ['Ország','Bizottság']:\n",
    "        for t in pd.date_range(i['start'],i['end']):\n",
    "            st=str(t)[:10]\n",
    "            if name not in countries:countries[name]={}\n",
    "            if i['Típus'] not in countries[name]:countries[name][i['Típus']]={}\n",
    "            if i['Csoportok'] not in countries[name][i['Típus']]:countries[name][i['Típus']][i['Csoportok']]=0\n",
    "            countries[name][i['Típus']][i['Csoportok']]+=1"
   ]
  },
  {
   "cell_type": "code",
   "execution_count": null,
   "metadata": {},
   "outputs": [],
   "source": [
    "dz=pd.DataFrame({i:{j:sum(countries[i][j].values()) for j in countries[i]} for i in countries}).fillna(0)\n",
    "dz2=pd.DataFrame({i:{j:len(countries[i][j].values()) for j in countries[i]} for i in countries}).fillna(0)"
   ]
  },
  {
   "cell_type": "code",
   "execution_count": null,
   "metadata": {},
   "outputs": [],
   "source": [
    "def get_sum(dz,x):\n",
    "    part=dz.T[x].sort_values(ascending=False)\n",
    "    print(part.mean())\n",
    "    print(part.head(5))\n",
    "    df=pd.DataFrame(part).join(pd.DataFrame(counts)).join(s).join(d)\n",
    "    df['v']=df['v'].fillna('')\n",
    "    df['s']=df['s']+df['v']\n",
    "    #df=df.set_index('s')\n",
    "    df['a']=df[x]/(df[0])\n",
    "    df=df.replace([np.inf, -np.inf], np.nan)\n",
    "    df=df[df[0]>365*6] #remove outliers\n",
    "    part=df.sort_values(by='a',ascending=False)[['a','s']]\n",
    "    return part"
   ]
  },
  {
   "cell_type": "code",
   "execution_count": null,
   "metadata": {},
   "outputs": [],
   "source": [
    "orsz1=get_sum(dz2,'Ország')\n",
    "biz1=get_sum(dz2,'Bizottság')"
   ]
  },
  {
   "cell_type": "code",
   "execution_count": null,
   "metadata": {},
   "outputs": [],
   "source": [
    "orsz2=get_sum(dz,'Ország')\n",
    "biz2=get_sum(dz,'Bizottság')"
   ]
  },
  {
   "cell_type": "code",
   "execution_count": null,
   "metadata": {},
   "outputs": [],
   "source": [
    "top=15\n",
    "fig,axes=plt.subplots(1,2,figsize=(11,3))\n",
    "to_plot=orsz2.set_index('s')['a']\n",
    "ax=axes[0]\n",
    "print(to_plot.mean())\n",
    "to_plot.head(top).plot(kind='bar',ax=ax)\n",
    "ax.set_xlabel(\"\")\n",
    "ax.set_ylabel(\"Ország-barátság-csoport / év\")\n",
    "to_plot=biz2.set_index('s')['a']\n",
    "ax=axes[1]\n",
    "print(to_plot.mean())\n",
    "to_plot.head(top).plot(kind='bar',ax=ax)\n",
    "ax.set_xlabel(\"\")\n",
    "ax.set_ylabel(\"Bizottság / év\")\n",
    "plt.savefig('fig/valtas2.png',bbox_inches='tight',transparent=True)\n",
    "plt.show()"
   ]
  },
  {
   "cell_type": "markdown",
   "metadata": {},
   "source": [
    "Scatter"
   ]
  },
  {
   "cell_type": "code",
   "execution_count": null,
   "metadata": {},
   "outputs": [],
   "source": [
    "part2=pd.DataFrame(part[['a','s']])\n",
    "part2.columns=['Part','Név']\n",
    "megye2=pd.DataFrame(megye['a'])\n",
    "megye2.columns=['Megye']\n",
    "sc1=part2.join(megye2).join(p).join(g)"
   ]
  },
  {
   "cell_type": "code",
   "execution_count": null,
   "metadata": {},
   "outputs": [],
   "source": [
    "orsz3=pd.DataFrame(orsz2[['a','s']])\n",
    "orsz3.columns=['Orszag','Név']\n",
    "biz3=pd.DataFrame(biz2[['a']])\n",
    "biz3.columns=['Bizottsag']\n",
    "sc2=orsz3.join(biz3).join(p).join(g)"
   ]
  },
  {
   "cell_type": "code",
   "execution_count": null,
   "metadata": {},
   "outputs": [],
   "source": [
    "fig,axes=plt.subplots(1,2,figsize=(9,4))\n",
    "ax=axes[0]\n",
    "sc1.plot(x='Part',y='Megye',kind='scatter',ax=ax)\n",
    "ax.set_xlabel('Pártváltás / év')\n",
    "ax.set_ylabel('Megyeváltás / év')\n",
    "ax=axes[1]\n",
    "sc2.plot(x='Orszag',y='Bizottsag',kind='scatter',ax=ax)\n",
    "ax.set_xlabel('Ország-barátság-csoport / év')\n",
    "ax.set_ylabel('Bizottság / év')\n",
    "plt.savefig('fig/valtas3.png',bbox_inches='tight',transparent=True)\n",
    "plt.show()"
   ]
  },
  {
   "cell_type": "code",
   "execution_count": null,
   "metadata": {},
   "outputs": [],
   "source": [
    "from d3IpyPlus import ScatterPlot, LinePlot, BarPlot, StackedArea"
   ]
  },
  {
   "cell_type": "code",
   "execution_count": null,
   "metadata": {},
   "outputs": [],
   "source": [
    "sample_data = list(sc1.reset_index().T.to_dict().values())\n",
    "scplot = ScatterPlot(x={'value':'Part','label':'Pártváltás / év'}, \n",
    "                     y={'value':'Megye','label':'Megyeváltás / év'}, id='index', text='Név', color='cvalue', \n",
    "                     tooltip=['Párt  ','Megye ','index'],\n",
    "                     legend=False, width=600, size=6)\n",
    "scplot.draw(sample_data)\n",
    "open('scatter1.html','w').write(scplot.dump_html(sample_data))"
   ]
  },
  {
   "cell_type": "code",
   "execution_count": null,
   "metadata": {},
   "outputs": [],
   "source": [
    "sample_data = list(sc2.reset_index().T.to_dict().values())\n",
    "scplot = ScatterPlot(x={'value':'Orszag','label':'Ország-barátság-csoport / év'}, \n",
    "                     y={'value':'Bizottsag','label':'Bizottság / év'}, id='index', text='Név', color='cvalue', \n",
    "                     tooltip=['Párt  ','Megye ','index'], \n",
    "                     legend=False, width=600, size=6)\n",
    "scplot.draw(sample_data)\n",
    "open('scatter2.html','w').write(scplot.dump_html(sample_data))"
   ]
  },
  {
   "cell_type": "code",
   "execution_count": null,
   "metadata": {},
   "outputs": [],
   "source": []
  }
 ],
 "metadata": {
  "kernelspec": {
   "display_name": "Python 3",
   "language": "python",
   "name": "python3"
  },
  "language_info": {
   "codemirror_mode": {
    "name": "ipython",
    "version": 3
   },
   "file_extension": ".py",
   "mimetype": "text/x-python",
   "name": "python",
   "nbconvert_exporter": "python",
   "pygments_lexer": "ipython3",
   "version": "3.6.7"
  },
  "toc": {
   "base_numbering": 1,
   "nav_menu": {},
   "number_sections": true,
   "sideBar": true,
   "skip_h1_title": false,
   "title_cell": "Table of Contents",
   "title_sidebar": "Contents",
   "toc_cell": false,
   "toc_position": {},
   "toc_section_display": true,
   "toc_window_display": false
  }
 },
 "nbformat": 4,
 "nbformat_minor": 2
}
