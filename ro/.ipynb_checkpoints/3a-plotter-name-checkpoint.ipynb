{
 "cells": [
  {
   "cell_type": "code",
   "execution_count": 102,
   "metadata": {
    "ExecuteTime": {
     "end_time": "2019-03-07T02:56:32.521682Z",
     "start_time": "2019-03-07T02:56:26.288106Z"
    }
   },
   "outputs": [],
   "source": [
    "import pandas as pd, numpy as np, json, os\n",
    "import networkx as nx\n",
    "import operator\n",
    "import matplotlib.pyplot as plt\n",
    "%matplotlib inline"
   ]
  },
  {
   "cell_type": "code",
   "execution_count": 103,
   "metadata": {},
   "outputs": [],
   "source": [
    "plt.style.use('seaborn-whitegrid')"
   ]
  },
  {
   "cell_type": "code",
   "execution_count": 104,
   "metadata": {},
   "outputs": [],
   "source": [
    "m=json.loads(open('ignore/member_timelines.json','r').read())"
   ]
  },
  {
   "cell_type": "code",
   "execution_count": 105,
   "metadata": {},
   "outputs": [
    {
     "data": {
      "text/plain": [
       "{'⚛️ PP-DD - Partidul Poporului Dan Diaconescu',\n",
       " '⚪️ FDSN - Frontul Democrat al Salvarii Nationale',\n",
       " '⚪️ FSN - Frontul Salvării Naţionale',\n",
       " '✳️ PNTCD - Partidul Naţional Ţărănesc Creştin Democrat',\n",
       " '🌷 RMDSZ - Romániai Magyar Demokrata Szövetség',\n",
       " '🌹 PDSR - Partidul Democraţiei Sociale din România',\n",
       " '🌹 PSD - Partidul Social Democrat',\n",
       " '🌹 PSDR - Partidul Socialist Democratic din România',\n",
       " '🌹 PSM - Partidul Socialist al Muncii',\n",
       " '🍀 FER - Federaţia Ecologistă Română',\n",
       " '🍀 MER - Mişcarea Ecologistă din România',\n",
       " '🍀 PDAR - Partidul Democrat Agrar din România',\n",
       " '🍀 PER - Partidul Ecologist Român',\n",
       " '🍏 PMP - Partidul Mişcarea Populară',\n",
       " '👤 Independent - Independent',\n",
       " '👤 Minorități - Minorități',\n",
       " '📐 PAC - Partidul Alianţei Civice',\n",
       " \"📐 PL'93 - Partidul Liberal\",\n",
       " '📐 PNL - Partidul Naţional Liberal',\n",
       " '📐 PNL-AT - Partidul Naţional Liberal',\n",
       " '📐 PNL-CD - Partidul Naţional Liberal',\n",
       " '🔘 AUR - Alianţa pentru Unitatea Românilor',\n",
       " '🔘 FC - Forţa Civică',\n",
       " '🔘 GDC - Gruparea Democratică de Centru',\n",
       " '🔘 PAR - Partidul Alternativa României',\n",
       " '🔘 PDM - Partidul Democrat al Muncii',\n",
       " '🔘 PLS - Partidul Liber Schimbist',\n",
       " '🔘 PRNR - Partidul Reconstrucţiei Naţionale din România',\n",
       " '🔘 PTLDR - Partidul Tineretului Liber Democrat din România',\n",
       " '🔘 ULB - Uniunea Liberală \"Brătianu\"',\n",
       " '🔱 PRM - Partidul România Mare',\n",
       " '🔶 PD - Partidul Democrat',\n",
       " '🔶 PDL - Partidul Democrat Liberal',\n",
       " '🔷 USR - Uniunea Salvaţi România',\n",
       " '🕊️ ALDE - Partidul Alianţa Liberalilor şi Democraţilor',\n",
       " '🕊️ PC - Partidul Conservator',\n",
       " '🕊️ PUNR - Partidul Unităţii Naţionale Române',\n",
       " '🕊️ PUR-SL - Partidul Umanist din România',\n",
       " '🦅 UNPR - Uniunea Naţională pentru Progresul României'}"
      ]
     },
     "execution_count": 105,
     "metadata": {},
     "output_type": "execute_result"
    }
   ],
   "source": [
    "set([i['Csoportok'] for i in m if i['Típus']=='Párt'])"
   ]
  },
  {
   "cell_type": "code",
   "execution_count": 1,
   "metadata": {},
   "outputs": [
    {
     "ename": "NameError",
     "evalue": "name 'm' is not defined",
     "output_type": "error",
     "traceback": [
      "\u001b[1;31m---------------------------------------------------------------------------\u001b[0m",
      "\u001b[1;31mNameError\u001b[0m                                 Traceback (most recent call last)",
      "\u001b[1;32m<ipython-input-1-df8294f871c3>\u001b[0m in \u001b[0;36m<module>\u001b[1;34m\u001b[0m\n\u001b[1;32m----> 1\u001b[1;33m \u001b[0mset\u001b[0m\u001b[1;33m(\u001b[0m\u001b[1;33m[\u001b[0m\u001b[0mi\u001b[0m\u001b[1;33m[\u001b[0m\u001b[1;34m'Csoportok'\u001b[0m\u001b[1;33m]\u001b[0m \u001b[1;32mfor\u001b[0m \u001b[0mi\u001b[0m \u001b[1;32min\u001b[0m \u001b[0mm\u001b[0m \u001b[1;32mif\u001b[0m \u001b[0mi\u001b[0m\u001b[1;33m[\u001b[0m\u001b[1;34m'Típus'\u001b[0m\u001b[1;33m]\u001b[0m\u001b[1;33m==\u001b[0m\u001b[1;34m'Kamara'\u001b[0m\u001b[1;33m]\u001b[0m\u001b[1;33m)\u001b[0m\u001b[1;33m\u001b[0m\u001b[1;33m\u001b[0m\u001b[0m\n\u001b[0m",
      "\u001b[1;31mNameError\u001b[0m: name 'm' is not defined"
     ]
    }
   ],
   "source": [
    "set([i['Csoportok'] for i in m if i['Típus']=='Kamara'])"
   ]
  },
  {
   "cell_type": "code",
   "execution_count": 133,
   "metadata": {},
   "outputs": [
    {
     "data": {
      "text/plain": [
       "{'⏫ Gazdaság, ipar',\n",
       " '⏺️ Európa',\n",
       " '♿️ Egészségügy',\n",
       " '➿ Infrastruktúra, energia, kommunikáció',\n",
       " '🅿️ Parlament',\n",
       " '🌐 Külpolitika, diaszpóra',\n",
       " '🎦 Művészet, média',\n",
       " '🏅🅾️ Parlamenti Iroda',\n",
       " '🔀 Állami ügyek',\n",
       " '🔄 Közigazgatás, környezetvédelem',\n",
       " '🔠 Oktatás, tudomány, sport',\n",
       " '🔢 Pénzügy',\n",
       " '🚩⏫ Gazdaság, ipar',\n",
       " '🚩⏺️ Európa',\n",
       " '🚩✅ Választások',\n",
       " '🚩❎ Más',\n",
       " '🚩➿ Infrastruktúra, energia, kommunikáció',\n",
       " '🚩🅿️ Parlament',\n",
       " '🚩🎦 Művészet, média',\n",
       " '🚩💹 Költségvetés',\n",
       " '🚩🔀 Állami ügyek',\n",
       " '🚩🔄 Közigazgatás, környezetvédelem',\n",
       " '🚩🔠 Oktatás, tudomány, sport',\n",
       " '🚩🔢 Pénzügy',\n",
       " '🚩🚰 Mezőgazdaság, erdők',\n",
       " '🚩🚹 Emberi jogok, kisebbségek',\n",
       " '🚩🛂 Állambiztonság',\n",
       " '🚰 Mezőgazdaság, erdők',\n",
       " '🚹 Emberi jogok, kisebbségek',\n",
       " '🚻 Munka, szociális és családi ügyek',\n",
       " '🛂 Állambiztonság',\n",
       " '🛃 Biztonság',\n",
       " '🥇🅾️ Parlamenti Iroda',\n",
       " '🥈🅾️ Parlamenti Iroda',\n",
       " '🥉🅾️ Parlamenti Iroda'}"
      ]
     },
     "execution_count": 133,
     "metadata": {},
     "output_type": "execute_result"
    }
   ],
   "source": [
    "set([i['Csoportok'] for i in m if i['Típus']=='Bizottság'])"
   ]
  },
  {
   "cell_type": "code",
   "execution_count": 106,
   "metadata": {},
   "outputs": [],
   "source": [
    "def replace_all(text, dic):\n",
    "    for i in dic:\n",
    "        text = text.replace(i, dic[i])\n",
    "    return text"
   ]
  },
  {
   "cell_type": "code",
   "execution_count": 75,
   "metadata": {},
   "outputs": [],
   "source": [
    "medals={'🥈':2,'🥇':3,'🥉':1.5,'🏅':1.25,'🚩':1.5}\n",
    "medals_none={i:'' for i in medals}"
   ]
  },
  {
   "cell_type": "code",
   "execution_count": 111,
   "metadata": {},
   "outputs": [
    {
     "name": "stdout",
     "output_type": "stream",
     "text": [
      "0.0 %\n",
      "2.9080757262919126 %\n",
      "5.816151452583825 %\n",
      "8.724227178875738 %\n",
      "11.63230290516765 %\n",
      "14.540378631459564 %\n",
      "17.448454357751476 %\n",
      "20.35653008404339 %\n",
      "23.2646058103353 %\n",
      "26.172681536627213 %\n",
      "29.08075726291913 %\n",
      "31.98883298921104 %\n",
      "34.89690871550295 %\n",
      "37.804984441794865 %\n",
      "40.71306016808678 %\n",
      "43.62113589437869 %\n",
      "46.5292116206706 %\n",
      "49.43728734696251 %\n",
      "52.345363073254426 %\n",
      "55.25343879954634 %\n",
      "58.16151452583826 %\n",
      "61.06959025213017 %\n",
      "63.97766597842208 %\n",
      "66.88574170471398 %\n",
      "69.7938174310059 %\n",
      "72.70189315729782 %\n",
      "75.60996888358973 %\n",
      "78.51804460988164 %\n",
      "81.42612033617355 %\n",
      "84.33419606246547 %\n",
      "87.24227178875738 %\n",
      "90.15034751504929 %\n",
      "93.0584232413412 %\n",
      "95.96649896763311 %\n",
      "98.87457469392503 %\n"
     ]
    }
   ],
   "source": [
    "data={'Ország':{},'Bizottság':{},'Párt':{},'Megye':{}}\n",
    "attention={}\n",
    "for k,i in enumerate(m):\n",
    "    if k%1000==0: print(k/len(m)*100,'%')\n",
    "    name=i['Simple']\n",
    "    if i['Típus'] in list(data.keys()):\n",
    "        csoport=i['Csoportok']\n",
    "        csoport=replace_all(csoport,medals_none)\n",
    "        if csoport not in data[i['Típus']]:data[i['Típus']][csoport]={}\n",
    "        for t in pd.date_range(i['start'],i['end']):\n",
    "            st=str(t)[:10]\n",
    "            if st not in data[i['Típus']][csoport]:data[i['Típus']][csoport][st]=set()\n",
    "            data[i['Típus']][csoport][st].add(name)            \n",
    "            if name not in attention:attention[name]={}\n",
    "            if csoport not in attention[name]:attention[name][csoport]={}\n",
    "            if st not in attention[name][csoport]:attention[name][csoport][st]=[]\n",
    "            for j in medals:\n",
    "                if j in i['Csoportok']:\n",
    "                    attention[name][csoport][st].append(j)"
   ]
  },
  {
   "cell_type": "code",
   "execution_count": 124,
   "metadata": {},
   "outputs": [
    {
     "data": {
      "text/plain": [
       "{'start': '1997-02-01 00:00:00',\n",
       " 'end': '2000-07-01 00:00:00',\n",
       " 'Name': 'Ion DUŢU',\n",
       " 'duration': '1246',\n",
       " 'Simple': 'Dutu Ion | 1942-10-07',\n",
       " 'Csoportok': '🇮🇷 Irán',\n",
       " 'Csoportok0': '🇮🇷 Irán',\n",
       " 'Csoportok1': '🇮🇷 Irán',\n",
       " 'Típus': 'Ország',\n",
       " 'Medals': ''}"
      ]
     },
     "execution_count": 124,
     "metadata": {},
     "output_type": "execute_result"
    }
   ],
   "source": [
    "m[8]"
   ]
  },
  {
   "cell_type": "code",
   "execution_count": 123,
   "metadata": {},
   "outputs": [
    {
     "data": {
      "text/plain": [
       "{'',\n",
       " '🇺🇳 ',\n",
       " '🏅',\n",
       " '🏅🅾️ Parlamenti Iroda',\n",
       " '🏅🇺🇳 ',\n",
       " '🚩',\n",
       " '🥇',\n",
       " '🥇🅾️ Parlamenti Iroda',\n",
       " '🥇🇺🇳 ',\n",
       " '🥇🚩',\n",
       " '🥈',\n",
       " '🥈🅾️ Parlamenti Iroda',\n",
       " '🥈🇺🇳 ',\n",
       " '🥉',\n",
       " '🥉🅾️ Parlamenti Iroda'}"
      ]
     },
     "execution_count": 123,
     "metadata": {},
     "output_type": "execute_result"
    }
   ],
   "source": [
    "set([i['Medals'] for i in m])"
   ]
  },
  {
   "cell_type": "code",
   "execution_count": 77,
   "metadata": {},
   "outputs": [
    {
     "data": {
      "image/png": "[encoded data removed]",
      "text/plain": [
       "<Figure size 360x216 with 1 Axes>"
      ]
     },
     "metadata": {},
     "output_type": "display_data"
    }
   ],
   "source": [
    "def anneal(t,p=7):\n",
    "    #pd.to_datetime('2020-01-01')-pd.to_datetime('1989-01-01')=11322\n",
    "    return (2-(pd.to_datetime('2020-01-01')-pd.to_datetime(t)).days/11322)**p\n",
    "    \n",
    "tanneal={}\n",
    "anneal2020=anneal(pd.to_datetime('2020'))\n",
    "for t in pd.date_range('1990','2020'):\n",
    "    tanneal[t]=anneal(t)/anneal2020+0.1\n",
    "    tanneal[str(t)[:10]]=tanneal[t]\n",
    "plt.subplots(1,1,figsize=(5,3))\n",
    "plt.plot(tanneal.keys(),tanneal.values())\n",
    "plt.ylabel('Elavulási együttható')\n",
    "plt.show()"
   ]
  },
  {
   "cell_type": "code",
   "execution_count": 78,
   "metadata": {},
   "outputs": [
    {
     "name": "stdout",
     "output_type": "stream",
     "text": [
      "🇨🇮 Elefántcsontpart\n",
      "🇮🇷 Irán\n",
      "Más\n",
      "🇬🇷 Görögország\n",
      "🇲🇾 Malajzia\n",
      "🇧🇬 Bulgária\n",
      "🇰🇷 Dél-Korea\n",
      "🇨🇦 Kanada\n",
      "🇺🇳 🇲🇩 Moldova\n",
      "🇦🇺 Ausztrália\n",
      "🇨🇾 Ciprus\n",
      "🇪🇪 Észtország\n",
      "🇱🇹 Litvánia\n",
      "🇮🇹 Olaszország\n",
      "🇲🇰 Macedónia\n",
      "🇦🇱 Albánia\n",
      "🇨🇳 Kína\n",
      "🇪🇸 Spanyolország\n",
      "🇫🇷 Franciaország\n",
      "🇮🇱 Izrael\n",
      "🇱🇧 Libanon\n",
      "🇲🇳 Mongólia\n",
      "🇸🇪 Svédország\n",
      "🇹🇭 Thaiföld\n",
      "🇺🇳 Frankofónia\n",
      "🇻🇪 Venezuela\n",
      "🇲🇦 Marokkó\n",
      "🇱🇺 Luxemburg\n",
      "🇷🇺 Oroszország\n",
      "🇫🇮 Finnország\n",
      "🇮🇪 Írország\n",
      "🇯🇵 Japán\n",
      "🇧🇷 Brazília\n",
      "🇨🇺 Kuba\n",
      "🇭🇷 Horvátország\n",
      "🇯🇴 Jordánia\n",
      "🇵🇦 Panama\n",
      "🇰🇼 Kuvait\n",
      "🇹🇷 Törökország\n",
      "🇵🇭 Fülöp-szigetek\n",
      "🇵🇪 Peru\n",
      "🇻🇳 Vietnam\n",
      "🇲🇽 Mexikó\n",
      "🇦🇿 Azerbajdzsán\n",
      "🇺🇳 Kelet-Európa\n",
      "🇺🇳 Fekete tenger\n",
      "🇪🇨 Ecuador\n",
      "🇧🇪 Belgium\n",
      "🇺🇳 Közép-Európa\n",
      "🇸🇾 Szíria\n",
      "🇨🇭 Svájc\n",
      "🇮🇳 India\n",
      "🇺🇳 Európa Tanács\n",
      "🇺🇳 Földközi tenger\n",
      "🇱🇰 Srí Lanka\n",
      "🇦🇹 Ausztria\n",
      "🇨🇱 Chile\n",
      "🇮🇸 Izland\n",
      "🇧🇴 Bolívia\n",
      "🇨🇷 Costa Rica\n",
      "🇨🇿 Czechia\n",
      "🇸🇮 Szlovénia\n",
      "🇸🇰 Szlovákia\n",
      "🇩🇿 Algéria\n",
      "🇧🇦 Bosznia-Hercegovina\n",
      "🇱🇻 Lettország\n",
      "🇵🇹 Portugália\n",
      "🇦🇲 Örményország\n",
      "🇧🇭 Bahrein\n",
      "🇨🇴 Kolumbia\n",
      "🇬🇧 Egyesült Királyság\n",
      "🇳🇱 Hollandia\n",
      "🇳🇴 Norvégia\n",
      "🇵🇰 Pakisztán\n",
      "🇭🇺 Magyarország\n",
      "🇵🇱 Lengyelország\n",
      "🇩🇪 Németország\n",
      "🇬🇳 Guinea\n",
      "🇺🇦 Ukrajna\n",
      "🇸🇬 Szingapúr\n",
      "🇿🇦 Dél-Afrika\n",
      "🇰🇿 Kazahsztán\n",
      "🇹🇲 Türkmenisztán\n",
      "🇺🇳 OSCE\n",
      "🇬🇪 Grúzia\n",
      "🇧🇾 Fehéroroszország\n",
      "🇴🇲 Omán\n",
      "🇹🇳 Tunézia\n",
      "🇺🇳 NATO\n",
      "🇮🇶 Irak\n",
      "🇮🇩 Indonézia\n",
      "🇺🇾 Uruguay\n",
      "🇸🇦 Szaúd-Arábia\n",
      "🇺🇸 Egyesült Államok\n",
      "🇿🇲 Zambia\n",
      "🇲🇹 Málta\n",
      "🇪🇬 Egyiptom\n",
      "🇦🇪 Egyesült Arab Emírségek\n",
      "🇩🇰 Dánia\n",
      "🇦🇷 Argentína\n",
      "🇲🇪 Montenegró\n",
      "🇨🇬 Kongó\n",
      "🇸🇩 Szudán\n",
      "🇶🇦 Katar\n",
      "🇺🇳 Ortodoxia\n",
      "🇺🇳 Délkelet-Európa\n",
      "🇸🇳 Szenegál\n",
      "🇺🇳 Europol\n",
      "🇷🇸 Szerbia\n",
      "🅿️ Parlament\n",
      "🚹 Emberi jogok, kisebbségek\n",
      "♿️ Egészségügy\n",
      "🔠 Oktatás, tudomány, sport\n",
      "🚰 Mezőgazdaság, erdők\n",
      "🅾️ Parlamenti Iroda\n",
      "⏺️ Európa\n",
      "🌐 Külpolitika, diaszpóra\n",
      "🎦 Művészet, média\n",
      "🚻 Munka, szociális és családi ügyek\n",
      "🛂 Állambiztonság\n",
      "⏫ Gazdaság, ipar\n",
      "🔀 Állami ügyek\n",
      "🔢 Pénzügy\n",
      "🔄 Közigazgatás, környezetvédelem\n",
      "✅ Választások\n",
      "➿ Infrastruktúra, energia, kommunikáció\n",
      "❎ Más\n",
      "💹 Költségvetés\n",
      "🛃 Biztonság\n",
      "🔱 PRM - Partidul România Mare\n",
      "✳️ PNTCD - Partidul Naţional Ţărănesc Creştin Democrat\n",
      "📐 PAC - Partidul Alianţei Civice\n",
      "📐 PNL - Partidul Naţional Liberal\n",
      "🔶 PDL - Partidul Democrat Liberal\n",
      "⚪️ FSN - Frontul Salvării Naţionale\n",
      "🔶 PD - Partidul Democrat\n",
      "🌹 PSM - Partidul Socialist al Muncii\n",
      "🌷 RMDSZ - Romániai Magyar Demokrata Szövetség\n",
      "🌹 PSD - Partidul Social Democrat\n",
      "👤 Independent - Independent\n",
      "🕊️ ALDE - Partidul Alianţa Liberalilor şi Democraţilor\n",
      "🌹 PDSR - Partidul Democraţiei Sociale din România\n",
      "🔷 USR - Uniunea Salvaţi România\n",
      "🕊️ PUR-SL - Partidul Umanist din România\n",
      "⚛️ PP-DD - Partidul Poporului Dan Diaconescu\n",
      "🦅 UNPR - Uniunea Naţională pentru Progresul României\n",
      "📐 PNL-CD - Partidul Naţional Liberal\n",
      "🕊️ PC - Partidul Conservator\n",
      "🕊️ PUNR - Partidul Unităţii Naţionale Române\n",
      "📐 PL'93 - Partidul Liberal\n",
      "⚪️ FDSN - Frontul Democrat al Salvarii Nationale\n",
      "🍏 PMP - Partidul Mişcarea Populară\n",
      "🔘 PTLDR - Partidul Tineretului Liber Democrat din România\n",
      "🔘 PLS - Partidul Liber Schimbist\n",
      "🌹 PSDR - Partidul Socialist Democratic din România\n",
      "🍀 PER - Partidul Ecologist Român\n",
      "🔘 PAR - Partidul Alternativa României\n",
      "🔘 FC - Forţa Civică\n",
      "🍀 PDAR - Partidul Democrat Agrar din România\n",
      "🔘 PRNR - Partidul Reconstrucţiei Naţionale din România\n",
      "🍀 MER - Mişcarea Ecologistă din România\n",
      "📐 PNL-AT - Partidul Naţional Liberal\n",
      "🍀 FER - Federaţia Ecologistă Română\n",
      "🔘 GDC - Gruparea Democratică de Centru\n",
      "🔘 AUR - Alianţa pentru Unitatea Românilor\n",
      "🔘 PDM - Partidul Democrat al Muncii\n",
      "🔘 ULB - Uniunea Liberală \"Brătianu\"\n",
      "👤 Minorități - Minorități\n",
      "🇷🇴 Bukarest\n",
      "🇷🇴 Bákó\n",
      "🇷🇴 Fehér\n",
      "🇷🇴 Temes\n",
      "🇷🇴 Iași\n",
      "🇷🇴 Dolj\n",
      "🇷🇴 Gorj\n",
      "🇷🇴 Maros\n",
      "🇷🇴 Hunyad\n",
      "🇷🇴 Buzău\n",
      "🇷🇴 Arad\n",
      "🇷🇴 Ilfov\n",
      "🇷🇴 Botoșani\n",
      "🇷🇴 Kolozs\n",
      "🇷🇴 Konstanca\n",
      "🇷🇴 Brassó\n",
      "🇷🇴 Dâmbovița\n",
      "🇷🇴 Argeș\n",
      "🇷🇴 Krassó-Szörény\n",
      "🇷🇴 Olt\n",
      "🇷🇴 Teleorman\n",
      "🇷🇴 Galac\n",
      "🇷🇴 Neamț\n",
      "🇷🇴 Brăila\n",
      "🇷🇴 Prahova\n",
      "🇷🇴 Tulcea\n",
      "🇷🇴 Máramaros\n",
      "🇷🇴 Diaszpóra\n",
      "🇷🇴 Mehedinți\n",
      "🇷🇴 Vaslui\n",
      "🇷🇴 Suceava\n",
      "🇷🇴 Szeben\n",
      "🇷🇴 Bihar\n",
      "🇷🇴 Ialomița\n",
      "🇷🇴 Szatmár\n",
      "🇷🇴 Vâlcea\n",
      "🇷🇴 Călărași\n",
      "🇷🇴 Kovászna\n",
      "🇷🇴 Vrancea\n",
      "🇷🇴 Szilágy\n",
      "🇷🇴 Hargita\n",
      "🇷🇴 Giurgiu\n",
      "🇷🇴 Beszterce\n"
     ]
    }
   ],
   "source": [
    "edges={}\n",
    "edges2={}\n",
    "points={'Ország':1.5,'Bizottság':4,'Párt':2,'Megye':1}\n",
    "for tipus in data:\n",
    "    for csoport in data[tipus]:\n",
    "        print(csoport)\n",
    "        for t in data[tipus][csoport]:\n",
    "            names=list(data[tipus][csoport][t])\n",
    "            for r in range(len(names)):\n",
    "                name=names[r]\n",
    "                for p in range(r+1,len(names)):\n",
    "                    name2=names[p]\n",
    "                    nset=tuple(np.sort([name,name2]))\n",
    "                    v=points[tipus]\n",
    "                    \n",
    "                    #symmetric\n",
    "                    if nset not in edges:edges[nset]={'anneal':0,'values':0}\n",
    "                    edges[nset]['values']+=v\n",
    "                    edges[nset]['anneal']+=v*tanneal[t]\n",
    "                    \n",
    "                    #asymmetric\n",
    "                    nset=tuple(np.sort([name,name2]))\n",
    "                    v=points[tipus]*attention[name][csoport][t]\n",
    "                    if nset not in edges2:edges2[nset]={'weight':0}\n",
    "                    edges2[nset]['weight']+=v*tanneal[t]\n",
    "                    \n",
    "                    nset=tuple(np.sort([name,name2]))\n",
    "                    v=points[tipus]*attention[name2][csoport][t]\n",
    "                    nset=tuple(np.sort([name,name2])[::-1])\n",
    "                    if nset not in edges2:edges2[nset]={'weight':0}\n",
    "                    edges2[nset]['weight']+=v*tanneal[t]"
   ]
  },
  {
   "cell_type": "markdown",
   "metadata": {},
   "source": [
    "Save"
   ]
  },
  {
   "cell_type": "code",
   "execution_count": 86,
   "metadata": {},
   "outputs": [],
   "source": [
    "import pickle"
   ]
  },
  {
   "cell_type": "code",
   "execution_count": 87,
   "metadata": {},
   "outputs": [],
   "source": [
    "def save_obj(obj, name ):\n",
    "    with open('ignore/'+ name + '.pkl', 'wb') as f:\n",
    "        pickle.dump(obj, f, pickle.HIGHEST_PROTOCOL)\n",
    "\n",
    "def load_obj(name ):\n",
    "    with open('ignore/' + name + '.pkl', 'rb') as f:\n",
    "        return pickle.load(f)"
   ]
  },
  {
   "cell_type": "code",
   "execution_count": 88,
   "metadata": {},
   "outputs": [],
   "source": [
    "save_obj(edges,'plotter_name_edges')"
   ]
  },
  {
   "cell_type": "code",
   "execution_count": 82,
   "metadata": {},
   "outputs": [],
   "source": [
    "#edges=load_obj('plotter_name_edges')"
   ]
  },
  {
   "cell_type": "markdown",
   "metadata": {},
   "source": [
    "Weighted"
   ]
  },
  {
   "cell_type": "code",
   "execution_count": 100,
   "metadata": {},
   "outputs": [],
   "source": [
    "edges2l=[(i[0],i[1],edges2[i]) for i in edges2]\n",
    "G = nx.DiGraph()\n",
    "G.add_edges_from(edges2l)\n",
    "nodes={}\n",
    "\n",
    "r = nx.pagerank(G,weight='weight')\n",
    "mr=np.median(list(r.values()))\n",
    "for i in r:\n",
    "    nodes[i]={'pr':r[i]/mr}\n",
    "    \n",
    "links={}\n",
    "for i in G.edges(data=True):\n",
    "    name=i[0]\n",
    "    name2=i[1]\n",
    "    z=i[2]['weight']\n",
    "    if name not in links:links[name]={}\n",
    "    if name2 not in links:links[name2]={}\n",
    "    links[name][name2]=z"
   ]
  },
  {
   "cell_type": "code",
   "execution_count": 101,
   "metadata": {},
   "outputs": [
    {
     "name": "stdout",
     "output_type": "stream",
     "text": [
      "2818 nodes and 1227316 edges\n"
     ]
    }
   ],
   "source": [
    "#save \n",
    "network={'nodes':nodes,'links':links,'size':len(edges2l)}\n",
    "print(len(nodes),'nodes and',len(G.edges()),'edges')\n",
    "open('ignore/plotter_name_weighted.json','w').write(json.dumps(network))\n",
    "import zipfile\n",
    "\n",
    "with zipfile.ZipFile(\"json/plotter_name_weighted.zip\", \"w\", compression=zipfile.ZIP_DEFLATED) as zf:\n",
    "    zf.write(\"ignore/plotter_name_weighted.json\",'plotter_name_weighted.json')"
   ]
  },
  {
   "cell_type": "markdown",
   "metadata": {},
   "source": [
    "Prune"
   ]
  },
  {
   "cell_type": "code",
   "execution_count": 97,
   "metadata": {},
   "outputs": [],
   "source": [
    "min_t=365*4*10\n",
    "edges2l=[(i[0],i[1],edges2[i]) for i in edges2 if edges2[i]['weight']>min_t]\n",
    "G = nx.DiGraph()\n",
    "G.add_edges_from(edges2l)\n",
    "nodes={}\n",
    "\n",
    "r = nx.pagerank(G,weight='weight')\n",
    "mr=np.median(list(r.values()))\n",
    "for i in r:\n",
    "    nodes[i]={'pr':r[i]/mr}\n",
    "    \n",
    "links={}\n",
    "for i in G.edges(data=True):\n",
    "    name=i[0]\n",
    "    name2=i[1]\n",
    "    z=i[2]['weight']\n",
    "    if name not in links:links[name]={}\n",
    "    if name2 not in links:links[name2]={}\n",
    "    links[name][name2]=z"
   ]
  },
  {
   "cell_type": "code",
   "execution_count": 99,
   "metadata": {},
   "outputs": [
    {
     "name": "stdout",
     "output_type": "stream",
     "text": [
      "451 nodes and 4984 edges\n"
     ]
    }
   ],
   "source": [
    "#save \n",
    "network={'nodes':nodes,'links':links,'size':len(edges2l)}\n",
    "print(len(nodes),'nodes and',len(G.edges()),'edges')\n",
    "open('ignore/plotter_name_weighted_pruned.json','w').write(json.dumps(network))\n",
    "import zipfile\n",
    "\n",
    "with zipfile.ZipFile(\"json/plotter_name_weighted_pruned.zip\", \"w\", compression=zipfile.ZIP_DEFLATED) as zf:\n",
    "    zf.write(\"ignore/plotter_name_weighted_pruned.json\",'plotter_name_weighted_pruned.json')"
   ]
  }
 ],
 "metadata": {
  "kernelspec": {
   "display_name": "Python 3",
   "language": "python",
   "name": "python3"
  },
  "language_info": {
   "codemirror_mode": {
    "name": "ipython",
    "version": 3
   },
   "file_extension": ".py",
   "mimetype": "text/x-python",
   "name": "python",
   "nbconvert_exporter": "python",
   "pygments_lexer": "ipython3",
   "version": "3.6.7"
  },
  "toc": {
   "base_numbering": 1,
   "nav_menu": {},
   "number_sections": true,
   "sideBar": true,
   "skip_h1_title": false,
   "title_cell": "Table of Contents",
   "title_sidebar": "Contents",
   "toc_cell": false,
   "toc_position": {},
   "toc_section_display": true,
   "toc_window_display": false
  }
 },
 "nbformat": 4,
 "nbformat_minor": 2
}
