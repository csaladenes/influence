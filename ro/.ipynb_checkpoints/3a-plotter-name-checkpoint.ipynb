{
 "cells": [
  {
   "cell_type": "code",
   "execution_count": 81,
   "metadata": {
    "ExecuteTime": {
     "end_time": "2019-03-07T02:56:32.521682Z",
     "start_time": "2019-03-07T02:56:26.288106Z"
    }
   },
   "outputs": [],
   "source": [
    "import pandas as pd, numpy as np, json, os\n",
    "import networkx as nx\n",
    "import matplotlib.pyplot as plt\n",
    "%matplotlib inline"
   ]
  },
  {
   "cell_type": "code",
   "execution_count": 82,
   "metadata": {},
   "outputs": [],
   "source": [
    "m=json.loads(open('ignore/member_timelines.json','r').read())"
   ]
  },
  {
   "cell_type": "code",
   "execution_count": 83,
   "metadata": {},
   "outputs": [
    {
     "data": {
      "text/plain": [
       "{'⚛️ PP-DD - Partidul Poporului Dan Diaconescu',\n",
       " '⚪️ FDSN - Frontul Democrat al Salvarii Nationale',\n",
       " '⚪️ FSN - Frontul Salvării Naţionale',\n",
       " '✳️ PNTCD - Partidul Naţional Ţărănesc Creştin Democrat',\n",
       " '🌷 RMDSZ - Romániai Magyar Demokrata Szövetség',\n",
       " '🌹 PDSR - Partidul Democraţiei Sociale din România',\n",
       " '🌹 PSD - Partidul Social Democrat',\n",
       " '🌹 PSDR - Partidul Social Democrat Român',\n",
       " '🌹 PSM - Partidul Socialist al Muncii',\n",
       " '🍀 FER - Federaţia Ecologistă Română',\n",
       " '🍀 MER - Mişcarea Ecologistă din România',\n",
       " '🍀 PDAR - Partidul Democrat Agrar din România',\n",
       " '🍀 PER - Partidul Ecologist Român',\n",
       " '🍏 PMP - Partidul Mişcarea Populară',\n",
       " '👤 Independent - Independent',\n",
       " '👤 Minorități - Minorități',\n",
       " '📐 PAC - Partidul Alianţei Civice',\n",
       " \"📐 PL'93 - Partidul Liberal\",\n",
       " '📐 PNL - Partidul Naţional Liberal',\n",
       " '📐 PNL-AT - Partidul Naţional Liberal',\n",
       " '📐 PNL-CD - Partidul Naţional Liberal',\n",
       " '🔘 AUR - Alianţa pentru Unitatea Românilor',\n",
       " '🔘 FC - Forţa Civică',\n",
       " '🔘 GDC - Gruparea Democratică de Centru',\n",
       " '🔘 PAR - Partidul Alternativa României',\n",
       " '🔘 PDM - Partidul Democrat al Muncii',\n",
       " '🔘 PLS - Partidul Liber Schimbist',\n",
       " '🔘 PRNR - Partidul Reconstrucţiei Naţionale din România',\n",
       " '🔘 PTLDR - Partidul Tineretului Liber Democrat din România',\n",
       " '🔘 ULB - Uniunea Liberală \"Brătianu\"',\n",
       " '🔱 PRM - Partidul România Mare',\n",
       " '🔶 PD - Partidul Democrat',\n",
       " '🔶 PDL - Partidul Democrat Liberal',\n",
       " '🔷 USR - Uniunea Salvaţi România',\n",
       " '🕊️ ALDE - Partidul Alianţa Liberalilor şi Democraţilor',\n",
       " '🕊️ PC - Partidul Conservator',\n",
       " '🕊️ PUNR - Partidul Unităţii Naţionale Române',\n",
       " '🕊️ PUR-SL - Partidul Umanist din România',\n",
       " '🦅 UNPR - Uniunea Naţională pentru Progresul României'}"
      ]
     },
     "execution_count": 83,
     "metadata": {},
     "output_type": "execute_result"
    }
   ],
   "source": [
    "set([i['Csoportok'] for i in m if i['Típus']=='Párt'])"
   ]
  },
  {
   "cell_type": "code",
   "execution_count": 84,
   "metadata": {},
   "outputs": [],
   "source": [
    "# m=m[:1000]"
   ]
  },
  {
   "cell_type": "code",
   "execution_count": 85,
   "metadata": {},
   "outputs": [
    {
     "name": "stdout",
     "output_type": "stream",
     "text": [
      "0.0 %\n",
      "3.302728053372085 %\n",
      "6.60545610674417 %\n",
      "9.908184160116255 %\n",
      "13.21091221348834 %\n",
      "16.513640266860428 %\n",
      "19.81636832023251 %\n",
      "23.1190963736046 %\n",
      "26.42182442697668 %\n",
      "29.72455248034877 %\n",
      "33.027280533720855 %\n",
      "36.33000858709294 %\n",
      "39.63273664046502 %\n",
      "42.93546469383711 %\n",
      "46.2381927472092 %\n",
      "49.540920800581276 %\n",
      "52.84364885395336 %\n",
      "56.14637690732545 %\n",
      "59.44910496069754 %\n",
      "62.751833014069625 %\n",
      "66.05456106744171 %\n",
      "69.35728912081379 %\n",
      "72.66001717418588 %\n",
      "75.96274522755796 %\n",
      "79.26547328093004 %\n",
      "82.56820133430213 %\n",
      "85.87092938767422 %\n",
      "89.1736574410463 %\n",
      "92.4763854944184 %\n",
      "95.77911354779047 %\n",
      "99.08184160116255 %\n"
     ]
    }
   ],
   "source": [
    "data={'Ország':{},'Bizottság':{},'Párt':{},'Megye':{}}\n",
    "attention={}\n",
    "for k,i in enumerate(m):\n",
    "    if k%1000==0: print(k/len(m)*100,'%')\n",
    "    name=i['Simple']\n",
    "    if i['Típus'] in list(data.keys()):\n",
    "        if i['Csoportok'] not in data[i['Típus']]:data[i['Típus']][i['Csoportok']]={}\n",
    "        for t in pd.date_range(i['start'],i['end']):\n",
    "            st=str(t)[:10]\n",
    "            if st not in data[i['Típus']][i['Csoportok']]:data[i['Típus']][i['Csoportok']][st]=set()\n",
    "            data[i['Típus']][i['Csoportok']][st].add(name)            \n",
    "            if name not in attention:attention[name]={}\n",
    "            if st not in attention[name]:attention[name][st]=0\n",
    "            attention[name][st]+=1"
   ]
  },
  {
   "cell_type": "code",
   "execution_count": 86,
   "metadata": {},
   "outputs": [
    {
     "data": {
      "image/png": "[encoded data removed]",
      "text/plain": [
       "<Figure size 360x216 with 1 Axes>"
      ]
     },
     "metadata": {
      "needs_background": "light"
     },
     "output_type": "display_data"
    }
   ],
   "source": [
    "def anneal(t,p=7):\n",
    "    #pd.to_datetime('2020-01-01')-pd.to_datetime('1989-01-01')=11322\n",
    "    return (2-(pd.to_datetime('2020-01-01')-pd.to_datetime(t)).days/11322)**p\n",
    "    \n",
    "tanneal={}\n",
    "anneal2020=anneal(pd.to_datetime('2020'))\n",
    "for t in pd.date_range('1990','2020'):\n",
    "    tanneal[t]=anneal(t)/anneal2020+0.1\n",
    "    tanneal[str(t)[:10]]=tanneal[t]\n",
    "plt.subplots(1,1,figsize=(5,3))\n",
    "plt.grid()\n",
    "plt.plot(tanneal.keys(),tanneal.values())\n",
    "plt.ylabel('Elavulási együttható')\n",
    "plt.show()"
   ]
  },
  {
   "cell_type": "code",
   "execution_count": 134,
   "metadata": {},
   "outputs": [
    {
     "data": {
      "text/plain": [
       "<matplotlib.axes._subplots.AxesSubplot at 0x1b6281fc2b0>"
      ]
     },
     "execution_count": 134,
     "metadata": {},
     "output_type": "execute_result"
    },
    {
     "data": {
      "image/png": "[encoded data removed]",
      "text/plain": [
       "<Figure size 432x288 with 1 Axes>"
      ]
     },
     "metadata": {
      "needs_background": "light"
     },
     "output_type": "display_data"
    },
    {
     "data": {
      "image/png": "[encoded data removed]",
      "text/plain": [
       "<Figure size 432x288 with 1 Axes>"
      ]
     },
     "metadata": {
      "needs_background": "light"
     },
     "output_type": "display_data"
    }
   ],
   "source": [
    "att=pd.DataFrame(attention['Verestoy Attila | 1954-03-01'],index=['attention']).T\n",
    "att.index=pd.to_datetime(att.index)\n",
    "att.plot()\n",
    "att=pd.DataFrame(attention['Chelaru Ioan | 1953-02-10'],index=['attention']).T\n",
    "att.index=pd.to_datetime(att.index)\n",
    "att.plot()"
   ]
  },
  {
   "cell_type": "code",
   "execution_count": 87,
   "metadata": {},
   "outputs": [
    {
     "name": "stdout",
     "output_type": "stream",
     "text": [
      "🇨🇾 Ciprus\n",
      "🇩🇰 Dánia\n",
      "🇯🇵 Japán\n",
      "🇦🇺 Ausztrália\n",
      "🇪🇸 Spanyolország\n",
      "🇮🇹 Olaszország\n",
      "🇱🇧 Libanon\n",
      "🇲🇳 Mongólia\n",
      "🇩🇪 Németország\n",
      "🇬🇳 Guinea\n",
      "🇬🇷 Görögország\n",
      "🇭🇺 Magyarország\n",
      "🇱🇻 Lettország\n",
      "🇵🇱 Lengyelország\n",
      "🇵🇹 Portugália\n",
      "🇫🇷 Franciaország\n",
      "🇸🇾 Szíria\n",
      "🇸🇪 Svédország\n",
      "🇹🇷 Törökország\n",
      "🇧🇪 Belgium\n",
      "🇨🇮 Elefántcsontpart\n",
      "🇬🇧 Egyesült Királyság\n",
      "🇮🇱 Izrael\n",
      "🇮🇳 India\n",
      "🇿🇦 Dél-Afrika\n",
      "🇪🇬 Egyiptom\n",
      "🇵🇪 Peru\n",
      "🇰🇷 Dél-Korea\n",
      "🇲🇹 Málta\n",
      "🇦🇹 Ausztria\n",
      "🇧🇬 Bulgária\n",
      "🇨🇦 Kanada\n",
      "🇬🇪 Grúzia\n",
      "🇲🇽 Mexikó\n",
      "Más ország\n",
      "🇲🇦 Marokkó\n",
      "🇨🇷 Costa Rica\n",
      "🇰🇼 Kuvait\n",
      "🇰🇿 Kazahsztán\n",
      "🇸🇦 Szaúd-Arábia\n",
      "🇧🇷 Brazília\n",
      "🇱🇺 Luxemburg\n",
      "🇨🇳 Kína\n",
      "🇪🇨 Ecuador\n",
      "🇻🇪 Venezuela\n",
      "Jugoszlávia\n",
      "🇯🇴 Jordánia\n",
      "🇧🇾 Fehéroroszország\n",
      "🇨🇺 Kuba\n",
      "🇫🇮 Finnország\n",
      "🇲🇰 Macedónia\n",
      "🇹🇳 Tunézia\n",
      "🇺🇦 Ukrajna\n",
      "🇪🇪 Észtország\n",
      "🇶🇦 Katar\n",
      "🇧🇭 Bahrein\n",
      "🇸🇰 Szlovákia\n",
      "🇧🇴 Bolívia\n",
      "🇮🇶 Irak\n",
      "🇺🇸 Egyesült Államok\n",
      "🇨🇬 Kongó\n",
      "🇮🇸 Izland\n",
      "🇸🇬 Szingapúr\n",
      "🇨🇴 Kolumbia\n",
      "🇸🇩 Szudán\n",
      "🇱🇹 Litvánia\n",
      "🇷🇸 Szerbia\n",
      "🇩🇿 Algéria\n",
      "🇹🇲 Türkmenisztán\n",
      "🇺🇾 Uruguay\n",
      "🇦🇲 Örményország\n",
      "🇦🇱 Albánia\n",
      "🇵🇦 Panama\n",
      "🇮🇷 Irán\n",
      "🇨🇿 Czechia\n",
      "🇳🇴 Norvégia\n",
      "🇧🇦 Bosznia-Hercegovina\n",
      "🇳🇱 Hollandia\n",
      "🇹🇭 Thaiföld\n",
      "🇵🇭 Fülöp-szigetek\n",
      "🇲🇪 Montenegró\n",
      "🇲🇾 Malajzia\n",
      "🇭🇷 Horvátország\n",
      "🇸🇮 Szlovénia\n",
      "🇮🇩 Indonézia\n",
      "🇷🇺 Oroszország\n",
      "🇻🇳 Vietnam\n",
      "🇦🇪 Egyesült Arab Emírségek\n",
      "🇴🇲 Omán\n",
      "🇨🇱 Chile\n",
      "🇨🇭 Svájc\n",
      "🇦🇿 Azerbajdzsán\n",
      "🇮🇪 Írország\n",
      "🇵🇰 Pakisztán\n",
      "🇦🇷 Argentína\n",
      "🇿🇲 Zambia\n",
      "🇸🇳 Szenegál\n",
      "🇱🇰 Srí Lanka\n",
      "🌐 Külpolitika, diaszpóra\n",
      "🔄 Közigazgatás, környezetvédelem\n",
      "🔀 Állami ügyek\n",
      "🚹 Emberi jogok, kisebbségek\n",
      "🚻 Munka, szociális és családi ügyek\n",
      "🔠 Oktatás, tudomány, sport\n",
      "🎦 Művészet, média\n",
      "⏫ Gazdaság, ipar\n",
      "⏺️ Európa\n",
      "🛃 Biztonság\n",
      "➿ Infrastruktúra, energia, kommunikáció\n",
      "🚰 Mezőgazdaság, erdők\n",
      "💹 Pénzügy\n",
      "♿️ Egészségügy\n",
      "📐 PNL - Partidul Naţional Liberal\n",
      "⚪️ FSN - Frontul Salvării Naţionale\n",
      "🍀 PDAR - Partidul Democrat Agrar din România\n",
      "🌷 RMDSZ - Romániai Magyar Demokrata Szövetség\n",
      "🌹 PSD - Partidul Social Democrat\n",
      "🔶 PD - Partidul Democrat\n",
      "🔶 PDL - Partidul Democrat Liberal\n",
      "🍀 PER - Partidul Ecologist Român\n",
      "⚪️ FDSN - Frontul Democrat al Salvarii Nationale\n",
      "🌹 PDSR - Partidul Democraţiei Sociale din România\n",
      "🔱 PRM - Partidul România Mare\n",
      "🕊️ PUNR - Partidul Unităţii Naţionale Române\n",
      "🔷 USR - Uniunea Salvaţi România\n",
      "👤 Independent - Independent\n",
      "✳️ PNTCD - Partidul Naţional Ţărănesc Creştin Democrat\n",
      "⚛️ PP-DD - Partidul Poporului Dan Diaconescu\n",
      "🍏 PMP - Partidul Mişcarea Populară\n",
      "🦅 UNPR - Uniunea Naţională pentru Progresul României\n",
      "📐 PL'93 - Partidul Liberal\n",
      "🕊️ PC - Partidul Conservator\n",
      "🌹 PSDR - Partidul Social Democrat Român\n",
      "🕊️ ALDE - Partidul Alianţa Liberalilor şi Democraţilor\n",
      "🔘 PAR - Partidul Alternativa României\n",
      "🍀 MER - Mişcarea Ecologistă din România\n",
      "🕊️ PUR-SL - Partidul Umanist din România\n",
      "📐 PAC - Partidul Alianţei Civice\n",
      "🌹 PSM - Partidul Socialist al Muncii\n",
      "📐 PNL-CD - Partidul Naţional Liberal\n",
      "🔘 PTLDR - Partidul Tineretului Liber Democrat din România\n",
      "🔘 FC - Forţa Civică\n",
      "🔘 PLS - Partidul Liber Schimbist\n",
      "🔘 AUR - Alianţa pentru Unitatea Românilor\n",
      "📐 PNL-AT - Partidul Naţional Liberal\n",
      "🔘 GDC - Gruparea Democratică de Centru\n",
      "🔘 PRNR - Partidul Reconstrucţiei Naţionale din România\n",
      "👤 Minorități - Minorități\n",
      "🍀 FER - Federaţia Ecologistă Română\n",
      "🔘 ULB - Uniunea Liberală \"Brătianu\"\n",
      "🔘 PDM - Partidul Democrat al Muncii\n",
      "🇷🇴 Suceava\n",
      "🇷🇴 Hunyad\n",
      "🇷🇴 Prahova\n",
      "🇷🇴 Szatmár\n",
      "🇷🇴 Bihar\n",
      "🇷🇴 Dolj\n",
      "🇷🇴 Kolozs\n",
      "🇷🇴 Bukarest\n",
      "🇷🇴 Krassó-Szörény\n",
      "🇷🇴 Brassó\n",
      "🇷🇴 Temes\n",
      "🇷🇴 Buzău\n",
      "🇷🇴 Argeș\n",
      "🇷🇴 Szeben\n",
      "🇷🇴 Dâmbovița\n",
      "🇷🇴 Diaszpóra\n",
      "🇷🇴 Arad\n",
      "🇷🇴 Konstanca\n",
      "🇷🇴 Teleorman\n",
      "🇷🇴 Iași\n",
      "🇷🇴 Vâlcea\n",
      "🇷🇴 Vrancea\n",
      "🇷🇴 Ialomița\n",
      "🇷🇴 Mehedinți\n",
      "🇷🇴 Brăila\n",
      "🇷🇴 Bákó\n",
      "🇷🇴 Hargita\n",
      "🇷🇴 Neamț\n",
      "🇷🇴 Călărași\n",
      "🇷🇴 Maros\n",
      "🇷🇴 Botoșani\n",
      "🇷🇴 Máramaros\n",
      "🇷🇴 Kovászna\n",
      "🇷🇴 Beszterce\n",
      "🇷🇴 Giurgiu\n",
      "🇷🇴 Tulcea\n",
      "🇷🇴 Ilfov\n",
      "🇷🇴 Vaslui\n",
      "🇷🇴 Fehér\n",
      "🇷🇴 Szilágy\n",
      "🇷🇴 Olt\n",
      "🇷🇴 Galac\n",
      "🇷🇴 Gorj\n"
     ]
    }
   ],
   "source": [
    "edges={}\n",
    "points={'Ország':3,'Bizottság':4,'Párt':2,'Megye':1}\n",
    "for tipus in data:\n",
    "    for csoport in data[tipus]:\n",
    "        print(csoport)\n",
    "        for t in data[tipus][csoport]:\n",
    "            names=list(data[tipus][csoport][t])\n",
    "            for r in range(len(names)):\n",
    "                name=names[r]\n",
    "                for p in range(r+1,len(names)):\n",
    "                    name2=names[p]\n",
    "                    nset=tuple(np.sort([name,name2]))\n",
    "                    v=points[tipus]\n",
    "                    if nset not in edges:edges[nset]={'anneal':0,'values':0}\n",
    "                    edges[nset]['values']+=v\n",
    "                    edges[nset]['anneal']+=v*tanneal[t]"
   ]
  },
  {
   "cell_type": "markdown",
   "metadata": {},
   "source": [
    "Save"
   ]
  },
  {
   "cell_type": "code",
   "execution_count": 88,
   "metadata": {},
   "outputs": [],
   "source": [
    "import pickle"
   ]
  },
  {
   "cell_type": "code",
   "execution_count": 89,
   "metadata": {},
   "outputs": [],
   "source": [
    "def save_obj(obj, name ):\n",
    "    with open('ignore/'+ name + '.pkl', 'wb') as f:\n",
    "        pickle.dump(obj, f, pickle.HIGHEST_PROTOCOL)\n",
    "\n",
    "def load_obj(name ):\n",
    "    with open('ignore/' + name + '.pkl', 'rb') as f:\n",
    "        return pickle.load(f)"
   ]
  },
  {
   "cell_type": "code",
   "execution_count": 90,
   "metadata": {},
   "outputs": [],
   "source": [
    "save_obj(edges,'plotter_name_edges')"
   ]
  },
  {
   "cell_type": "code",
   "execution_count": 91,
   "metadata": {},
   "outputs": [],
   "source": [
    "#edges=load_obj('plotter_name_edges')"
   ]
  },
  {
   "cell_type": "markdown",
   "metadata": {},
   "source": [
    "Prune"
   ]
  },
  {
   "cell_type": "code",
   "execution_count": 92,
   "metadata": {},
   "outputs": [],
   "source": [
    "df=pd.DataFrame(edges).T"
   ]
  },
  {
   "cell_type": "code",
   "execution_count": 93,
   "metadata": {},
   "outputs": [],
   "source": [
    "all_nodes=set(df.reset_index()['level_0']).union(df.reset_index()['level_1'])"
   ]
  },
  {
   "cell_type": "code",
   "execution_count": 109,
   "metadata": {},
   "outputs": [],
   "source": [
    "min_baratsag=365*2*4  #average bizottsag-barastag * hany ev\n",
    "df2=df[df['anneal']>min_baratsag]"
   ]
  },
  {
   "cell_type": "code",
   "execution_count": 110,
   "metadata": {},
   "outputs": [
    {
     "name": "stderr",
     "output_type": "stream",
     "text": [
      "C:\\ProgramData\\Anaconda3\\lib\\site-packages\\ipykernel_launcher.py:1: SettingWithCopyWarning: \n",
      "A value is trying to be set on a copy of a slice from a DataFrame.\n",
      "Try using .loc[row_indexer,col_indexer] = value instead\n",
      "\n",
      "See the caveats in the documentation: http://pandas.pydata.org/pandas-docs/stable/indexing.html#indexing-view-versus-copy\n",
      "  \"\"\"Entry point for launching an IPython kernel.\n"
     ]
    }
   ],
   "source": [
    "df2['regi']=df2['anneal']/df2['values']"
   ]
  },
  {
   "cell_type": "code",
   "execution_count": 111,
   "metadata": {},
   "outputs": [],
   "source": [
    "df2=df2['anneal'].reset_index()"
   ]
  },
  {
   "cell_type": "code",
   "execution_count": 112,
   "metadata": {},
   "outputs": [],
   "source": [
    "df2.columns=['source','target','weight']"
   ]
  },
  {
   "cell_type": "code",
   "execution_count": 113,
   "metadata": {},
   "outputs": [],
   "source": [
    "nodes={}\n",
    "for i in all_nodes:\n",
    "    if i not in nodes:\n",
    "        nodes[i]={'pr':0,'bc':0,'cf':0}"
   ]
  },
  {
   "cell_type": "code",
   "execution_count": 114,
   "metadata": {},
   "outputs": [],
   "source": [
    "G=nx.Graph(df2)"
   ]
  },
  {
   "cell_type": "code",
   "execution_count": 115,
   "metadata": {},
   "outputs": [],
   "source": [
    "r = nx.pagerank(G,weight='weight')\n",
    "mr=np.median(list(r.values()))\n",
    "for i in r:\n",
    "    nodes[i]['pr']=r[i]/mr"
   ]
  },
  {
   "cell_type": "code",
   "execution_count": 116,
   "metadata": {},
   "outputs": [],
   "source": [
    "Gc = max(nx.connected_component_subgraphs(G), key=len)\n",
    "r = nx.current_flow_closeness_centrality(Gc,weight='weight')\n",
    "mr=np.median(list(r.values()))\n",
    "for i in r:\n",
    "    nodes[i]['cf']=r[i]/mr"
   ]
  },
  {
   "cell_type": "code",
   "execution_count": 117,
   "metadata": {},
   "outputs": [],
   "source": [
    "links={}\n",
    "for i in G.edges(data=True):\n",
    "    name=i[0]\n",
    "    name2=i[1]\n",
    "    z=i[2]['weight']\n",
    "    if name not in links:links[name]={}\n",
    "    if name2 not in links:links[name2]={}\n",
    "    links[name][name2]=z\n",
    "    links[name2][name]=z"
   ]
  },
  {
   "cell_type": "code",
   "execution_count": 118,
   "metadata": {},
   "outputs": [
    {
     "name": "stdout",
     "output_type": "stream",
     "text": [
      "2818 nodes and 37938 edges\n"
     ]
    }
   ],
   "source": [
    "#save \n",
    "network={'nodes':nodes,'links':links}\n",
    "print(len(nodes),'nodes and',len(G.edges()),'edges')"
   ]
  },
  {
   "cell_type": "code",
   "execution_count": 119,
   "metadata": {},
   "outputs": [
    {
     "data": {
      "text/plain": [
       "4285741"
      ]
     },
     "execution_count": 119,
     "metadata": {},
     "output_type": "execute_result"
    }
   ],
   "source": [
    "open('ignore/plotter_name.json','w').write(json.dumps(network))"
   ]
  },
  {
   "cell_type": "code",
   "execution_count": 120,
   "metadata": {},
   "outputs": [],
   "source": [
    "import zipfile\n",
    "\n",
    "with zipfile.ZipFile(\"json/plotter_name.zip\", \"w\", compression=zipfile.ZIP_DEFLATED) as zf:\n",
    "    zf.write(\"ignore/plotter_name.json\",'plotter_name.json')"
   ]
  },
  {
   "cell_type": "code",
   "execution_count": null,
   "metadata": {},
   "outputs": [],
   "source": []
  }
 ],
 "metadata": {
  "kernelspec": {
   "display_name": "Python 3",
   "language": "python",
   "name": "python3"
  },
  "language_info": {
   "codemirror_mode": {
    "name": "ipython",
    "version": 3
   },
   "file_extension": ".py",
   "mimetype": "text/x-python",
   "name": "python",
   "nbconvert_exporter": "python",
   "pygments_lexer": "ipython3",
   "version": "3.6.7"
  },
  "toc": {
   "base_numbering": 1,
   "nav_menu": {},
   "number_sections": true,
   "sideBar": true,
   "skip_h1_title": false,
   "title_cell": "Table of Contents",
   "title_sidebar": "Contents",
   "toc_cell": false,
   "toc_position": {},
   "toc_section_display": true,
   "toc_window_display": false
  }
 },
 "nbformat": 4,
 "nbformat_minor": 2
}
