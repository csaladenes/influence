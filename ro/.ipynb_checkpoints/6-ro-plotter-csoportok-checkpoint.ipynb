{
 "cells": [
  {
   "cell_type": "code",
   "execution_count": 1,
   "metadata": {
    "ExecuteTime": {
     "end_time": "2019-03-07T02:56:32.521682Z",
     "start_time": "2019-03-07T02:56:26.288106Z"
    }
   },
   "outputs": [],
   "source": [
    "import pandas as pd, numpy as np, json, os"
   ]
  },
  {
   "cell_type": "code",
   "execution_count": 2,
   "metadata": {},
   "outputs": [],
   "source": [
    "m=json.loads(open('json/member_timelines.json','r').read())"
   ]
  },
  {
   "cell_type": "code",
   "execution_count": 3,
   "metadata": {},
   "outputs": [],
   "source": [
    "df=pd.DataFrame(m).groupby(['Name','Csoportok']).first()"
   ]
  },
  {
   "cell_type": "code",
   "execution_count": 4,
   "metadata": {},
   "outputs": [
    {
     "data": {
      "text/html": [
       "<div>\n",
       "<style scoped>\n",
       "    .dataframe tbody tr th:only-of-type {\n",
       "        vertical-align: middle;\n",
       "    }\n",
       "\n",
       "    .dataframe tbody tr th {\n",
       "        vertical-align: top;\n",
       "    }\n",
       "\n",
       "    .dataframe thead th {\n",
       "        text-align: right;\n",
       "    }\n",
       "</style>\n",
       "<table border=\"1\" class=\"dataframe\">\n",
       "  <thead>\n",
       "    <tr style=\"text-align: right;\">\n",
       "      <th></th>\n",
       "      <th></th>\n",
       "      <th>Csoportok0</th>\n",
       "      <th>Csoportok1</th>\n",
       "      <th>Simple</th>\n",
       "      <th>Típus</th>\n",
       "      <th>duration</th>\n",
       "      <th>end</th>\n",
       "      <th>index</th>\n",
       "      <th>start</th>\n",
       "    </tr>\n",
       "    <tr>\n",
       "      <th>Name</th>\n",
       "      <th>Csoportok</th>\n",
       "      <th></th>\n",
       "      <th></th>\n",
       "      <th></th>\n",
       "      <th></th>\n",
       "      <th></th>\n",
       "      <th></th>\n",
       "      <th></th>\n",
       "      <th></th>\n",
       "    </tr>\n",
       "  </thead>\n",
       "  <tbody>\n",
       "    <tr>\n",
       "      <th rowspan=\"8\" valign=\"top\">ALBERT Álmos</th>\n",
       "      <th>⏺️ Európa</th>\n",
       "      <td>⏺️ Európa</td>\n",
       "      <td>⏺️ Európa</td>\n",
       "      <td>Albert Almos</td>\n",
       "      <td>Bizottság</td>\n",
       "      <td>1462</td>\n",
       "      <td>2012-12-20 00:00:00</td>\n",
       "      <td>0</td>\n",
       "      <td>2008-12-19 00:00:00</td>\n",
       "    </tr>\n",
       "    <tr>\n",
       "      <th>🇨🇺 Kuba</th>\n",
       "      <td>🇨🇺 Kuba</td>\n",
       "      <td>🇨🇺 Kuba</td>\n",
       "      <td>Albert Almos</td>\n",
       "      <td>Ország</td>\n",
       "      <td>1462</td>\n",
       "      <td>2012-12-20 00:00:00</td>\n",
       "      <td>5</td>\n",
       "      <td>2008-12-19 00:00:00</td>\n",
       "    </tr>\n",
       "    <tr>\n",
       "      <th>🇩🇿 Algéria</th>\n",
       "      <td>🇩🇿 Algéria</td>\n",
       "      <td>🇩🇿 Algéria</td>\n",
       "      <td>Albert Almos</td>\n",
       "      <td>Ország</td>\n",
       "      <td>1462</td>\n",
       "      <td>2012-12-20 00:00:00</td>\n",
       "      <td>6</td>\n",
       "      <td>2008-12-19 00:00:00</td>\n",
       "    </tr>\n",
       "    <tr>\n",
       "      <th>🇫🇷 Franciaország</th>\n",
       "      <td>🇫🇷 Franciaország</td>\n",
       "      <td>🇫🇷 Franciaország</td>\n",
       "      <td>Albert Almos</td>\n",
       "      <td>Ország</td>\n",
       "      <td>1298</td>\n",
       "      <td>2012-12-20 00:00:00</td>\n",
       "      <td>7</td>\n",
       "      <td>2009-06-01 00:00:00</td>\n",
       "    </tr>\n",
       "    <tr>\n",
       "      <th>🇲🇦 Marokkó</th>\n",
       "      <td>🇲🇦 Marokkó</td>\n",
       "      <td>🇲🇦 Marokkó</td>\n",
       "      <td>Albert Almos</td>\n",
       "      <td>Ország</td>\n",
       "      <td>1462</td>\n",
       "      <td>2012-12-20 00:00:00</td>\n",
       "      <td>8</td>\n",
       "      <td>2008-12-19 00:00:00</td>\n",
       "    </tr>\n",
       "    <tr>\n",
       "      <th>🇷🇴 Kovászna</th>\n",
       "      <td>🇷🇴 Kovászna</td>\n",
       "      <td>🇷🇴 Kovászna</td>\n",
       "      <td>Albert Almos</td>\n",
       "      <td>Megye</td>\n",
       "      <td>1462</td>\n",
       "      <td>2012-12-20 00:00:00</td>\n",
       "      <td>4</td>\n",
       "      <td>2008-12-19 00:00:00</td>\n",
       "    </tr>\n",
       "    <tr>\n",
       "      <th>🌷 RMDSZ - Romániai Magyar Demokrata Szövetség</th>\n",
       "      <td>🌷 RMDSZ - Romániai Magyar Demokrata Szövetség</td>\n",
       "      <td>🌷 RMDSZ - Romániai Magyar Demokrata Szövetség</td>\n",
       "      <td>Albert Almos</td>\n",
       "      <td>Párt</td>\n",
       "      <td>1462</td>\n",
       "      <td>2012-12-20 00:00:00</td>\n",
       "      <td>9</td>\n",
       "      <td>2008-12-19 00:00:00</td>\n",
       "    </tr>\n",
       "    <tr>\n",
       "      <th>🔀 Állami ügyek</th>\n",
       "      <td>🔀 Állami ügyek</td>\n",
       "      <td>🔀 Állami ügyek</td>\n",
       "      <td>Albert Almos</td>\n",
       "      <td>Bizottság</td>\n",
       "      <td>802</td>\n",
       "      <td>2011-03-01 00:00:00</td>\n",
       "      <td>1</td>\n",
       "      <td>2008-12-19 00:00:00</td>\n",
       "    </tr>\n",
       "  </tbody>\n",
       "</table>\n",
       "</div>"
      ],
      "text/plain": [
       "                                                                                               Csoportok0  \\\n",
       "Name         Csoportok                                                                                      \n",
       "ALBERT Álmos ⏺️ Európa                                                                          ⏺️ Európa   \n",
       "             🇨🇺 Kuba                                                                              🇨🇺 Kuba   \n",
       "             🇩🇿 Algéria                                                                        🇩🇿 Algéria   \n",
       "             🇫🇷 Franciaország                                                            🇫🇷 Franciaország   \n",
       "             🇲🇦 Marokkó                                                                        🇲🇦 Marokkó   \n",
       "             🇷🇴 Kovászna                                                                      🇷🇴 Kovászna   \n",
       "             🌷 RMDSZ - Romániai Magyar Demokrata Szövetség  🌷 RMDSZ - Romániai Magyar Demokrata Szövetség   \n",
       "             🔀 Állami ügyek                                                                🔀 Állami ügyek   \n",
       "\n",
       "                                                                                               Csoportok1  \\\n",
       "Name         Csoportok                                                                                      \n",
       "ALBERT Álmos ⏺️ Európa                                                                          ⏺️ Európa   \n",
       "             🇨🇺 Kuba                                                                              🇨🇺 Kuba   \n",
       "             🇩🇿 Algéria                                                                        🇩🇿 Algéria   \n",
       "             🇫🇷 Franciaország                                                            🇫🇷 Franciaország   \n",
       "             🇲🇦 Marokkó                                                                        🇲🇦 Marokkó   \n",
       "             🇷🇴 Kovászna                                                                      🇷🇴 Kovászna   \n",
       "             🌷 RMDSZ - Romániai Magyar Demokrata Szövetség  🌷 RMDSZ - Romániai Magyar Demokrata Szövetség   \n",
       "             🔀 Állami ügyek                                                                🔀 Állami ügyek   \n",
       "\n",
       "                                                                  Simple  \\\n",
       "Name         Csoportok                                                     \n",
       "ALBERT Álmos ⏺️ Európa                                      Albert Almos   \n",
       "             🇨🇺 Kuba                                        Albert Almos   \n",
       "             🇩🇿 Algéria                                     Albert Almos   \n",
       "             🇫🇷 Franciaország                               Albert Almos   \n",
       "             🇲🇦 Marokkó                                     Albert Almos   \n",
       "             🇷🇴 Kovászna                                    Albert Almos   \n",
       "             🌷 RMDSZ - Romániai Magyar Demokrata Szövetség  Albert Almos   \n",
       "             🔀 Állami ügyek                                 Albert Almos   \n",
       "\n",
       "                                                                Típus  \\\n",
       "Name         Csoportok                                                  \n",
       "ALBERT Álmos ⏺️ Európa                                      Bizottság   \n",
       "             🇨🇺 Kuba                                           Ország   \n",
       "             🇩🇿 Algéria                                        Ország   \n",
       "             🇫🇷 Franciaország                                  Ország   \n",
       "             🇲🇦 Marokkó                                        Ország   \n",
       "             🇷🇴 Kovászna                                        Megye   \n",
       "             🌷 RMDSZ - Romániai Magyar Demokrata Szövetség       Párt   \n",
       "             🔀 Állami ügyek                                 Bizottság   \n",
       "\n",
       "                                                           duration  \\\n",
       "Name         Csoportok                                                \n",
       "ALBERT Álmos ⏺️ Európa                                         1462   \n",
       "             🇨🇺 Kuba                                           1462   \n",
       "             🇩🇿 Algéria                                        1462   \n",
       "             🇫🇷 Franciaország                                  1298   \n",
       "             🇲🇦 Marokkó                                        1462   \n",
       "             🇷🇴 Kovászna                                       1462   \n",
       "             🌷 RMDSZ - Romániai Magyar Demokrata Szövetség     1462   \n",
       "             🔀 Állami ügyek                                     802   \n",
       "\n",
       "                                                                            end  \\\n",
       "Name         Csoportok                                                            \n",
       "ALBERT Álmos ⏺️ Európa                                      2012-12-20 00:00:00   \n",
       "             🇨🇺 Kuba                                        2012-12-20 00:00:00   \n",
       "             🇩🇿 Algéria                                     2012-12-20 00:00:00   \n",
       "             🇫🇷 Franciaország                               2012-12-20 00:00:00   \n",
       "             🇲🇦 Marokkó                                     2012-12-20 00:00:00   \n",
       "             🇷🇴 Kovászna                                    2012-12-20 00:00:00   \n",
       "             🌷 RMDSZ - Romániai Magyar Demokrata Szövetség  2012-12-20 00:00:00   \n",
       "             🔀 Állami ügyek                                 2011-03-01 00:00:00   \n",
       "\n",
       "                                                           index  \\\n",
       "Name         Csoportok                                             \n",
       "ALBERT Álmos ⏺️ Európa                                         0   \n",
       "             🇨🇺 Kuba                                           5   \n",
       "             🇩🇿 Algéria                                        6   \n",
       "             🇫🇷 Franciaország                                  7   \n",
       "             🇲🇦 Marokkó                                        8   \n",
       "             🇷🇴 Kovászna                                       4   \n",
       "             🌷 RMDSZ - Romániai Magyar Demokrata Szövetség     9   \n",
       "             🔀 Állami ügyek                                    1   \n",
       "\n",
       "                                                                          start  \n",
       "Name         Csoportok                                                           \n",
       "ALBERT Álmos ⏺️ Európa                                      2008-12-19 00:00:00  \n",
       "             🇨🇺 Kuba                                        2008-12-19 00:00:00  \n",
       "             🇩🇿 Algéria                                     2008-12-19 00:00:00  \n",
       "             🇫🇷 Franciaország                               2009-06-01 00:00:00  \n",
       "             🇲🇦 Marokkó                                     2008-12-19 00:00:00  \n",
       "             🇷🇴 Kovászna                                    2008-12-19 00:00:00  \n",
       "             🌷 RMDSZ - Romániai Magyar Demokrata Szövetség  2008-12-19 00:00:00  \n",
       "             🔀 Állami ügyek                                 2008-12-19 00:00:00  "
      ]
     },
     "execution_count": 4,
     "metadata": {},
     "output_type": "execute_result"
    }
   ],
   "source": [
    "df.head(8)"
   ]
  },
  {
   "cell_type": "code",
   "execution_count": 49,
   "metadata": {},
   "outputs": [
    {
     "name": "stdout",
     "output_type": "stream",
     "text": [
      "0.0 %\n",
      "3.5855145213338115 %\n",
      "7.171029042667623 %\n",
      "10.756543564001435 %\n",
      "14.342058085335246 %\n",
      "17.927572606669056 %\n",
      "21.51308712800287 %\n",
      "25.098601649336683 %\n",
      "28.684116170670492 %\n",
      "32.269630692004306 %\n",
      "35.85514521333811 %\n",
      "39.440659734671925 %\n",
      "43.02617425600574 %\n",
      "46.61168877733955 %\n",
      "50.197203298673365 %\n",
      "53.78271782000718 %\n",
      "57.368232341340985 %\n",
      "60.9537468626748 %\n",
      "64.53926138400861 %\n",
      "68.12477590534242 %\n",
      "71.71029042667622 %\n",
      "75.29580494801003 %\n",
      "78.88131946934385 %\n",
      "82.46683399067766 %\n",
      "86.05234851201148 %\n",
      "89.63786303334528 %\n",
      "93.2233775546791 %\n",
      "96.80889207601291 %\n"
     ]
    }
   ],
   "source": [
    "tipusok=['Bizottság']\n",
    "edges={}\n",
    "members_set=df.reset_index()['Name'].unique()\n",
    "for iname,name in enumerate(members_set):\n",
    "    if iname%100==0: print(iname/len(members_set)*100,'%')\n",
    "    sdf=df.loc[name]\n",
    "    csoportok=sdf.index\n",
    "    tipus=sdf['Típus'].values\n",
    "    start=sdf['start'].astype('datetime64').dt.date.values\n",
    "    end=sdf['end'].astype('datetime64').dt.date.values\n",
    "    for t in pd.date_range(min(sdf['start']),max(sdf['end'])):\n",
    "        td=t.date()\n",
    "        for i in range(len(csoportok)):\n",
    "            csop=csoportok[i]\n",
    "            tip=tipus[i]\n",
    "            if tip in tipusok:\n",
    "                if start[i]<td<end[i]:\n",
    "                    for j in range(i+1,len(csoportok)):\n",
    "                        csop2=csoportok[j]\n",
    "                        tip2=tipus[j]\n",
    "                        if tip2 in tipusok:\n",
    "                            if start[j]<td<end[j]:\n",
    "                                nset=tuple(np.sort([csop,csop2]))\n",
    "                                if nset not in edges:edges[nset]=0\n",
    "                                edges[nset]+=1"
   ]
  },
  {
   "cell_type": "code",
   "execution_count": 50,
   "metadata": {},
   "outputs": [],
   "source": [
    "import networkx as nx"
   ]
  },
  {
   "cell_type": "code",
   "execution_count": 51,
   "metadata": {},
   "outputs": [],
   "source": [
    "G=nx.Graph(list(edges.keys()))"
   ]
  },
  {
   "cell_type": "markdown",
   "metadata": {},
   "source": [
    "nodes"
   ]
  },
  {
   "cell_type": "code",
   "execution_count": 52,
   "metadata": {},
   "outputs": [],
   "source": [
    "pr = nx.pagerank(G)\n",
    "nodes={i:{'id':i,'pr':pr[i]/np.mean(list(pr.values()))} for i in pr}"
   ]
  },
  {
   "cell_type": "code",
   "execution_count": 58,
   "metadata": {},
   "outputs": [],
   "source": [
    "ec=nx.eigenvector_centrality(G) #weight\n",
    "for name in ec:\n",
    "    nodes[name]['ec']=ec[name]/np.mean(list(ec.values()))"
   ]
  },
  {
   "cell_type": "code",
   "execution_count": 59,
   "metadata": {},
   "outputs": [],
   "source": [
    "from networkx.algorithms.community import greedy_modularity_communities\n",
    "communities = list(greedy_modularity_communities(G))\n",
    "for i,names in enumerate(sorted(map(sorted, communities))):\n",
    "    for name in names:\n",
    "        nodes[name]['modularity']='c'+str(i)"
   ]
  },
  {
   "cell_type": "markdown",
   "metadata": {},
   "source": [
    "links"
   ]
  },
  {
   "cell_type": "code",
   "execution_count": 60,
   "metadata": {},
   "outputs": [],
   "source": [
    "ebc=nx.edge_betweenness_centrality(G) #weight"
   ]
  },
  {
   "cell_type": "code",
   "execution_count": 65,
   "metadata": {},
   "outputs": [
    {
     "name": "stdout",
     "output_type": "stream",
     "text": [
      "91\n"
     ]
    }
   ],
   "source": [
    "links=[]\n",
    "for i,nset in enumerate(edges):\n",
    "    w=edges[nset]/np.nanmean(list(edges.values()))\n",
    "    nset=list(nset)\n",
    "    if w>0:\n",
    "        if tuple(nset) in ebc:\n",
    "            u=ebc[tuple(nset)]/np.mean(list(ebc.values()))\n",
    "        elif tuple(nset)[::-1] in ebc: \n",
    "            u=ebc[tuple(nset)[::-1]]/np.mean(list(ebc.values()))\n",
    "        else:\n",
    "            u=1\n",
    "        links.append({'source':nset[0],'target':nset[1],\n",
    "                      'value':w,\n",
    "                      'ebc':u\n",
    "                     })\n",
    "print(len(links))"
   ]
  },
  {
   "cell_type": "markdown",
   "metadata": {},
   "source": [
    "save"
   ]
  },
  {
   "cell_type": "code",
   "execution_count": 66,
   "metadata": {},
   "outputs": [
    {
     "data": {
      "text/plain": [
       "16285"
      ]
     },
     "execution_count": 66,
     "metadata": {},
     "output_type": "execute_result"
    }
   ],
   "source": [
    "open('json/bizott_pagerank.json','w').write(json.dumps({'nodes':nodes,'links':links}))"
   ]
  },
  {
   "cell_type": "code",
   "execution_count": null,
   "metadata": {},
   "outputs": [],
   "source": []
  }
 ],
 "metadata": {
  "kernelspec": {
   "display_name": "Python 3",
   "language": "python",
   "name": "python3"
  },
  "language_info": {
   "codemirror_mode": {
    "name": "ipython",
    "version": 3
   },
   "file_extension": ".py",
   "mimetype": "text/x-python",
   "name": "python",
   "nbconvert_exporter": "python",
   "pygments_lexer": "ipython3",
   "version": "3.6.7"
  },
  "toc": {
   "base_numbering": 1,
   "nav_menu": {},
   "number_sections": true,
   "sideBar": true,
   "skip_h1_title": false,
   "title_cell": "Table of Contents",
   "title_sidebar": "Contents",
   "toc_cell": false,
   "toc_position": {},
   "toc_section_display": true,
   "toc_window_display": false
  }
 },
 "nbformat": 4,
 "nbformat_minor": 2
}
