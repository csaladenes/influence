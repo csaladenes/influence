{
 "cells": [
  {
   "cell_type": "code",
   "execution_count": 1,
   "metadata": {},
   "outputs": [],
   "source": [
    "import pandas as pd, numpy as np\n",
    "import bs4, requests, json, os"
   ]
  },
  {
   "cell_type": "code",
   "execution_count": 2,
   "metadata": {},
   "outputs": [],
   "source": [
    "os.chdir('E:/Onedrive - Lancaster University/datarepo/influence/ro')\n",
    "# os.chdir('C:/users/csala/Onedrive - Lancaster University/datarepo/influence/ro')"
   ]
  },
  {
   "cell_type": "code",
   "execution_count": 3,
   "metadata": {},
   "outputs": [],
   "source": [
    "base_url='http://www.cdep.ro'\n",
    "url=base_url+'/pls/parlam/structura2015.ab?idl=1'"
   ]
  },
  {
   "cell_type": "code",
   "execution_count": 4,
   "metadata": {},
   "outputs": [
    {
     "data": {
      "text/plain": [
       "'http://www.cdep.ro/pls/parlam/structura2015.ab?idl=1'"
      ]
     },
     "execution_count": 4,
     "metadata": {},
     "output_type": "execute_result"
    }
   ],
   "source": [
    "url"
   ]
  },
  {
   "cell_type": "code",
   "execution_count": 5,
   "metadata": {},
   "outputs": [],
   "source": [
    "r=requests.get(url)\n",
    "soup = bs4.BeautifulSoup(r.content)"
   ]
  },
  {
   "cell_type": "code",
   "execution_count": 6,
   "metadata": {},
   "outputs": [],
   "source": [
    "tables=soup.findAll('table')\n",
    "table=tables[1]"
   ]
  },
  {
   "cell_type": "code",
   "execution_count": 7,
   "metadata": {},
   "outputs": [],
   "source": [
    "links=list(set([l['href'] for l in table.findAll('a')]))"
   ]
  },
  {
   "cell_type": "code",
   "execution_count": 8,
   "metadata": {},
   "outputs": [],
   "source": [
    "def state_format(j):\n",
    "    j=j.replace('\\n ','')\n",
    "    j=j.strip()\n",
    "    return j"
   ]
  },
  {
   "cell_type": "code",
   "execution_count": 9,
   "metadata": {},
   "outputs": [],
   "source": [
    "import pickle"
   ]
  },
  {
   "cell_type": "code",
   "execution_count": 10,
   "metadata": {},
   "outputs": [],
   "source": [
    "def save_obj(obj, name ):\n",
    "    with open('data/'+ name + '.pkl', 'wb') as f:\n",
    "        pickle.dump(obj, f, pickle.HIGHEST_PROTOCOL)\n",
    "\n",
    "def load_obj(name ):\n",
    "    with open('data/' + name + '.pkl', 'rb') as f:\n",
    "        return pickle.load(f)"
   ]
  },
  {
   "cell_type": "code",
   "execution_count": 11,
   "metadata": {},
   "outputs": [],
   "source": [
    "members=[]\n",
    "party_imgs={}\n",
    "state_imgs={}\n",
    "parsed_links=set()\n",
    "\n",
    "#if available, load, dont parse\n",
    "load_from_pages=True\n",
    "if load_from_pages:\n",
    "    pages=load_obj('pages')\n",
    "else:\n",
    "    pages={}"
   ]
  },
  {
   "cell_type": "code",
   "execution_count": 12,
   "metadata": {},
   "outputs": [
    {
     "name": "stdout",
     "output_type": "stream",
     "text": [
      "0.0 %\n",
      "2.3261223540358222 %\n",
      "4.6522447080716445 %\n",
      "6.978367062107467 %\n",
      "9.304489416143289 %\n",
      "11.630611770179112 %\n",
      "13.956734124214934 %\n",
      "16.282856478250757 %\n",
      "18.608978832286578 %\n",
      "20.9351011863224 %\n",
      "23.261223540358223 %\n",
      "25.58734589439404 %\n",
      "27.91346824842987 %\n",
      "30.23959060246569 %\n",
      "32.565712956501514 %\n",
      "34.89183531053733 %\n",
      "37.217957664573156 %\n",
      "39.54408001860898 %\n",
      "41.8702023726448 %\n",
      "44.19632472668062 %\n",
      "46.52244708071645 %\n",
      "48.84856943475227 %\n",
      "51.17469178878808 %\n",
      "53.50081414282391 %\n",
      "55.82693649685974 %\n",
      "58.153058850895555 %\n",
      "60.47918120493138 %\n",
      "62.80530355896721 %\n",
      "65.13142591300303 %\n",
      "67.45754826703885 %\n",
      "69.78367062107466 %\n",
      "72.10979297511048 %\n",
      "74.43591532914631 %\n",
      "76.76203768318214 %\n",
      "79.08816003721796 %\n",
      "81.41428239125378 %\n",
      "83.7404047452896 %\n",
      "86.06652709932543 %\n",
      "88.39264945336124 %\n",
      "90.71877180739708 %\n",
      "93.0448941614329 %\n",
      "95.37101651546871 %\n",
      "97.69713886950454 %\n"
     ]
    }
   ],
   "source": [
    "for link in links:\n",
    "    if link not in parsed_links:\n",
    "        if len(parsed_links)%100==0: print(len(parsed_links)/len(links)*100,'%')\n",
    "        idm=link[link.find('idm=')+4:link.find('idm=')+4+link[link.find('idm=')+4:].find('&')]\n",
    "        leg=link[link.find('leg=')+4:link.find('leg=')+4+link[link.find('leg=')+4:].find('&')]\n",
    "        url=base_url+link\n",
    "        if not load_from_pages:\n",
    "            r=requests.get(url)\n",
    "            soup = bs4.BeautifulSoup(r.content)\n",
    "            pages[link]=str(soup)\n",
    "        else:\n",
    "            soup=bs4.BeautifulSoup(pages[link])\n",
    "        name=soup.find('title').text\n",
    "        olddiv=soup.find('div',{'id':'olddiv'})\n",
    "        pretty_name=olddiv.find('h1').text\n",
    "        img=olddiv.find('img')['src']\n",
    "        divs=soup.find('div',{'id':'olddiv'}).find('div').findAll('div',{'class':'boxDep'})\n",
    "        camera=divs[0].find('h3').text\n",
    "        judet=divs[0].find('a').text\n",
    "        birth_ro=soup.find('div',{'class':'profile-pic-dep'}).text.replace('\\n','').replace('n.','').strip()\n",
    "        start=''\n",
    "        end=''\n",
    "        if 'data valid' in repr(divs[0]):\n",
    "            start=repr(divs[0])[repr(divs[0]).find('data valid')+14:]\n",
    "            start=start[:start.find('<')]\n",
    "            start=start.replace(':','').replace('-','').strip()\n",
    "        if 'mandatului' in repr(divs[0]):\n",
    "            end=repr(divs[0])[repr(divs[0]).find('mandatului')+10:]\n",
    "            end=end[:end.find('<')]\n",
    "            end=end.replace(':','').replace('-','').strip()\n",
    "        comisii=[]\n",
    "        comisii_abbr=[]\n",
    "        parties=[]\n",
    "        parties_abbr=[]\n",
    "        gparties=[]\n",
    "        gparties_abbr=[]\n",
    "        state=[]\n",
    "        state_abbr=[]\n",
    "        state_img=[]\n",
    "        activitate=[]\n",
    "        def divformat(div):\n",
    "            #return div.text.lower().replace('subcomisia ','#SUB#comisia ').replace('comisiei ','comisia ').split('comisia ')[1:]\n",
    "            return div.text.lower().replace('subcomisia ','comisia ').replace('comisiei ','comisia ').split('comisia ')[1:]\n",
    "        \n",
    "        for div in divs:\n",
    "            header=div.find('h3').text\n",
    "            if 'omisii permanente' in header:\n",
    "                comisii+=['Comisia '+j.replace('\\n','').strip() for j in divformat(div)]\n",
    "                comisii_abbr+=[j.text for j in div.findAll('a')]\n",
    "            if 'Biroului Permanent' in header:\n",
    "                comisii+=['#BP#'+i.text for i in divs[1].findAll('tr')]\n",
    "                comisii_abbr+=['#BP#' for i in divs[1].findAll('tr')]\n",
    "            if 'omisii special' in header:\n",
    "                comisii+=['#SPEC#'+'Comisia '+j.replace('\\n','').strip() for j in divformat(div)]\n",
    "                comisii_abbr+=['#SPEC#'+j.text for j in div.findAll('a')]\n",
    "            if 'omisii de anch' in header:\n",
    "                comisii+=['#ANCH#'+'Comisia '+j.replace('\\n','').strip() for j in divformat(div)]\n",
    "                comisii_abbr+=['#ANCH#'+j.text for j in div.findAll('a')]\n",
    "            if 'lte comisii' in header:\n",
    "                comisii+=['Comisia '+j.replace('\\n','').strip() for j in divformat(div)]\n",
    "                comisii_abbr+=[j.text for j in div.findAll('a')]\n",
    "            if 'iunea politic' in header:\n",
    "                parties=[j for j in div.findAll('tr',{'valign':'center'}) if j.findAll('table')]\n",
    "            if 'upul parlamentar:' in header:\n",
    "                if div.find('table'):\n",
    "                    gparties=['#GRUP#Grupul parlamentar'+j.replace('\\n','').strip() \n",
    "                              for j in div.find('table').text.replace('Senator','Grupul parlamentar')\\\n",
    "                              .replace('Deputa','Grupul parlamentar').replace('Grupul Parlamentar','Grupul parlamentar')\\\n",
    "                              .split('Grupul parlamentar')][1:]\n",
    "            if 'altor state' in header:\n",
    "                states=div.findAll('tr')\n",
    "                state+=[state_format(states[j].text) for j in range(len(states))]    \n",
    "                state_abbr+=['' if states[j].find('a')==None else states[j].find('a').text for j in range(len(states))]\n",
    "                state_img+=['' if states[j].find('img')==None else states[j].find('img')['src'] for j in range(len(states))]\n",
    "            if 'mentare interna' in header:\n",
    "                states=div.findAll('tr')\n",
    "                state+=['#INTER#'+state_format(states[j].text) for j in range(len(states))]    \n",
    "                state_abbr+=['' if states[j].find('a')==None else '#INTER#'+states[j].find('a').text for j in range(len(states))]\n",
    "                state_img+=['' if states[j].find('img')==None else '#INTER#'+states[j].find('img')['src'] for j in range(len(states))]\n",
    "            if 'lte grupuri' in header:\n",
    "                states=div.findAll('tr')\n",
    "                state+=[state_format(states[j].text) for j in range(len(states))]    \n",
    "                state_abbr+=['' if states[j].find('a')==None else states[j].find('a').text for j in range(len(states))]\n",
    "                state_img+=['' if states[j].find('img')==None else states[j].find('img')['src'] for j in range(len(states))]\n",
    "            if 'cifre' in header:\n",
    "                activitate=[j.text.split(':') for j in div.findAll('tr') if j.text.split(':')!=['']]        \n",
    "        \n",
    "        party=[parties[j].find('table').text for j in range(len(parties))]\n",
    "        party_abbr=['' if parties[j].find('table').find('a')==None else parties[j].find('table').find('a').text for j in range(len(parties))]\n",
    "        party_img=['' if parties[j].find('img')==None else parties[j].find('img')['src'] for j in range(len(parties))]\n",
    "        party+=gparties\n",
    "        party_abbr+=['' for i in range(len(gparties))]\n",
    "        party_img+=['' for i in range(len(gparties))]\n",
    "        \n",
    "        for i in range(len(state_img)):\n",
    "            s=state_img[i]\n",
    "            t=state_abbr[i]\n",
    "            if t not in state_imgs:state_imgs[t]=s\n",
    "        for i in range(len(party_img)):\n",
    "            s=party_img[i]\n",
    "            a=party_abbr[i]\n",
    "            t=party[i]\n",
    "            if a not in party_imgs:party_imgs[a]={'name':t,'img':s}\n",
    "        members.append({'name':name,'birth_ro':birth_ro,'idm':idm,'link':url,'leg':leg,'start':start,\n",
    "                        'img':img,'pretty_name':pretty_name,'camera':camera,'judet':judet,'end':end,\n",
    "                       'party_abbr':party_abbr,'party':party,'state':state,'state_abbr':state_abbr,\n",
    "                        'activitate':activitate,'comisii':comisii,'comisii_abbr':comisii_abbr})\n",
    "        parsed_links.add(link)"
   ]
  },
  {
   "cell_type": "code",
   "execution_count": 13,
   "metadata": {},
   "outputs": [
    {
     "data": {
      "text/plain": [
       "(4299, 4299)"
      ]
     },
     "execution_count": 13,
     "metadata": {},
     "output_type": "execute_result"
    }
   ],
   "source": [
    "len(members), len(links)"
   ]
  },
  {
   "cell_type": "code",
   "execution_count": 18,
   "metadata": {},
   "outputs": [
    {
     "data": {
      "text/plain": [
       "6778520"
      ]
     },
     "execution_count": 18,
     "metadata": {},
     "output_type": "execute_result"
    }
   ],
   "source": [
    "open('data/members.json','w').write(json.dumps({'members':members,\n",
    "                                                'party_imgs':party_imgs,\n",
    "                                                'state_imgs':state_imgs}))"
   ]
  },
  {
   "cell_type": "code",
   "execution_count": 19,
   "metadata": {},
   "outputs": [],
   "source": [
    "members=json.loads(open('data/members.json','r').read())['members']\n",
    "party_imgs=json.loads(open('data/members.json','r').read())['party_imgs']\n",
    "state_imgs=json.loads(open('data/members.json','r').read())['state_imgs']"
   ]
  },
  {
   "cell_type": "code",
   "execution_count": 20,
   "metadata": {},
   "outputs": [],
   "source": [
    "save_obj(pages,'pages')"
   ]
  },
  {
   "cell_type": "markdown",
   "metadata": {},
   "source": [
    "Clean"
   ]
  },
  {
   "cell_type": "code",
   "execution_count": 21,
   "metadata": {},
   "outputs": [],
   "source": [
    "legs={'2016':['2016-12-21','2019-07-01'],\n",
    "'2012':['2012-12-20','2016-12-21'],\n",
    "'2008':['2008-12-19','2012-12-20'],\n",
    "'2004':['2004-12-19','2008-12-13'],\n",
    "'2000':['2000-12-15','2004-11-30'],\n",
    "'1996':['1996-11-27','2000-11-30'],\n",
    "'1992':['1992-10-28','1996-11-22'],\n",
    "'1990':['1990-06-19','1992-10-16']}"
   ]
  },
  {
   "cell_type": "markdown",
   "metadata": {},
   "source": [
    "Manual fix for tihs Monitorul official:\n",
    "- http://www.cdep.ro/pls/legis/legis_pck.htp_act?ida=54223\n",
    "- appears as 17 feb 2004\n",
    "- http://www.cdep.ro/pls/parlam/structura2015.mp?idm=84&leg=2004&cam=1\n",
    "- should be 17 dec 2004"
   ]
  },
  {
   "cell_type": "code",
   "execution_count": 22,
   "metadata": {},
   "outputs": [],
   "source": [
    "ro_months={'ian.':'Jan',\n",
    "          ' ia ':' Jan ',\n",
    "          'feb.':'Feb',\n",
    "          'mar.':'Mar',\n",
    "          'apr.':'Apr',\n",
    "          'mai':'May',\n",
    "          'iun.':'Jun',\n",
    "          ' iu ':' Jun ',\n",
    "          'iul.':'Jul',\n",
    "          'aug.':'Aug',\n",
    "          'sep.':'Sep',\n",
    "          'oct.':'Oct',\n",
    "          'noi.':'Nov',\n",
    "          'dec.':'Dec',\n",
    "          'ianuarie':'Jan',\n",
    "          'februarie':'Feb',\n",
    "          'martie':'Mar',\n",
    "          'aprilie':'Apr',\n",
    "          'mai':'May',\n",
    "          'iunie':'Jun',\n",
    "          'iulie':'Jul',\n",
    "          'august':'Aug',\n",
    "          'septembrie':'Sep',\n",
    "          'octombrie':'Oct',\n",
    "          'noiembrie':'Nov',\n",
    "          'decembrie':'Dec',}\n",
    "def date_ro(d,s=True):\n",
    "    if 'prezent' in d:\n",
    "        t=pd.to_datetime(legs['2016'][1])\n",
    "    else:\n",
    "        ds=d.replace(')','').replace('(','').split(' ')\n",
    "        x=ds[1].replace('0201','2001').replace('0092','1992').replace('0213','2013')\n",
    "        t=pd.to_datetime(ro_months[ds[0].strip()]+' '+x)\n",
    "    if s: return str(t)[:10]\n",
    "    else: return t\n",
    "def date_ro2(d,s=False):\n",
    "    for i in range(20):\n",
    "        d=d.replace('  ',' ')\n",
    "    ds=d.split(' ')\n",
    "    t=pd.to_datetime(ds[0]+' '+ro_months[ds[1]]+' '+ds[2])\n",
    "    s=str(t)[:10]\n",
    "    if s=='2004-02-17': s='2004-12-17'\n",
    "    return s"
   ]
  },
  {
   "cell_type": "code",
   "execution_count": 23,
   "metadata": {},
   "outputs": [],
   "source": [
    "decess={'Ratiu Ion1917-2000':'6 Jun 1917',\n",
    "      'Popovici Dan Ion Cristian1946-1996':'26 Dec 1946',\n",
    "      'Palfi Mozes Zoltan1943-2011':'1 Jan 1943',\n",
    "      'Blaga Ionel1929-1994':'17 Mar 1929',\n",
    "      'Daraban Aurel1939-2004':'27 Sep 1939',\n",
    "      'Croitoru Mircea-Adrian1941-1999':'1 Jan 1941',\n",
    "      'Budeanu Radu1943-1997':'1 Jan 1943',\n",
    "      'Coposu Corneliu1914-1995':'20 May 1914',\n",
    "      'Ignat Miron1941-2018':'24 Aug 1941',\n",
    "      'Nastase Toma1932-1997':'1 Jan 1932',\n",
    "      'Musat Mircea1930-1994':'1 Jan 1930',\n",
    "      'Stoica Stefan1976-2014':'1 Jan 1976',\n",
    "      'Grama Mihail1924-1999':'1 Jan 1924',\n",
    "      'Bot Octavian1951-2015':'1 Jan 1951', #real 1 Jan\n",
    "      'Iorgovan Antonie1948-2007':'9 Aug 1948',\n",
    "      'Dinescu Valentin1955-2008':'25 Dec 1955',\n",
    "      'Babias Iohan-Peter1952-2002':'28 Jun 1952',\n",
    "      'Munteanu Mircea Mihai1933-1998':'26 May 1933',\n",
    "      'Timis Ioan1951-2010':'17 Sep 1951',\n",
    "      'Barbu Eugen1924-1993':'1 Jan 1924',\n",
    "      'Tcaciuc Stefan1936-2005':'13 Jan 1936',\n",
    "      'Mircovici Niculae1950-2016':'1 Oct 1950',\n",
    "      'Rusu Horia Mircea1952-2001':'18 Sep 1952',\n",
    "      'Racoceanu Viorel1962-2006':'8 Jun 1962',\n",
    "      'Andrei Zeno1935-2001':'1 Jan 1935',\n",
    "      'Surdu-Soreanu Raul-Victor1947-2011':'11 Jul 1947',\n",
    "      'Dan Iosif1950-2007':'14 Oct 1950',\n",
    "      'Dutu Ion1942-2000':'7 Oct 1942',\n",
    "      'Bindea Liviu-Doru1957-2006':'26 Jul 1957',\n",
    "      'Verestoy Attila1954-2018':'1 Mar 1954',\n",
    "      'Dragomir Nelu Aristide1957-1995':'13 Oct 1957',\n",
    "      'Micle Ulpiu-Radu-Sabin1935-2000':'1 Jan 1935',\n",
    "       'Cojocariu Emil1938-1994':'2 Dec 1938',\n",
    "       'Policrat Rene-Radu1910-1993':'12 Aug 1910',\n",
    "       'Serban Gheorghe1954-1998':'25 Jun 1954',\n",
    "       'Vladoiu Aurel1948-2015':'27 Jan 1948',\n",
    "       'Preda Ion1947-2007':'1 Jan 1947',\n",
    "       'Coste Marina-Adelina1965-2017':'30 Nov 1965',\n",
    "       'Sincai Ovidiu1949-1999':'14 Dec 1949',\n",
    "       'Grosaru Mircea1952-2014':'30 Jun 1952',\n",
    "       'Florescu Nicolae-Doru1960-2001':'1 jan 1960',\n",
    "       'Sinko Stefan1939-1995':'1 Jan 1939',\n",
    "       'Alecsandrescu Nicolae1923-1993':'1 Jan 1923',\n",
    "       'Ratoi Neculai1939-2016':'15 Mar 1939',\n",
    "       'Ichim Mircea-Adrian1944-1993':'1 Jan 1944',\n",
    "       'Fotopolos Sotiris1937-2008':'6 Dec 1937',\n",
    "       'Ciobanu Gheorghe1964-2015':'22 Sep 1964',\n",
    "       'Dumitrescu Liana1973-2011':'20 Jan 1973',\n",
    "       'Dida Corneliu Ioan1942-2008':'26 May 1942',\n",
    "       'Draghici Sonia-Maria1956-2016':'25 Jul 1956'}"
   ]
  },
  {
   "cell_type": "code",
   "execution_count": 24,
   "metadata": {},
   "outputs": [],
   "source": [
    "state_abbs={'membru':'','\\xa0':'','supleant':''}"
   ]
  },
  {
   "cell_type": "code",
   "execution_count": 25,
   "metadata": {},
   "outputs": [],
   "source": [
    "def replace_all(text, dic):\n",
    "    for i in dic:\n",
    "        text = text.replace(i, dic[i])\n",
    "    return text"
   ]
  },
  {
   "cell_type": "code",
   "execution_count": 26,
   "metadata": {},
   "outputs": [],
   "source": [
    "def president(s):\n",
    "    abb=''\n",
    "    #reset pres\n",
    "    if 'Vicepreşedinte' in s:\n",
    "        s=s.replace('Vicepreşedinte','')\n",
    "        abb='#VP#'\n",
    "    elif 'vicepreşedinte' in s:\n",
    "        s=s.replace('vicepreşedinte','')\n",
    "        abb='#VP#'\n",
    "    elif 'preşedinte' in s:\n",
    "        s=s.replace('preşedinte','')\n",
    "        abb='#PRES#'\n",
    "    elif 'Preşedinte' in s:\n",
    "        s=s.replace('Preşedinte','')\n",
    "        abb='#PRES#'\n",
    "    elif 'Secretar' in s:\n",
    "        s=s.replace('Secretar','')\n",
    "        abb='#SECR#'\n",
    "    elif 'secretar' in s:\n",
    "        s=s.replace('secretar','')\n",
    "        abb='#SECR#'\n",
    "    elif 'Trezorier' in s:\n",
    "        s=s.replace('Trezorier','')\n",
    "        abb='#TREZ#'\n",
    "    elif 'trezorier' in s:\n",
    "        s=s.replace('trezorier','')\n",
    "        abb='#TREZ#'\n",
    "    elif 'chestor' in s:\n",
    "        s=s.replace('chestor','')\n",
    "        abb='#CHES#'\n",
    "    elif 'Chestor' in s:\n",
    "        s=s.replace('Chestor','')\n",
    "        abb='#CHES#'\n",
    "    elif 'Şeful' in s:\n",
    "        s=s.replace('Şeful','')\n",
    "        abb='#SEF#'\n",
    "    \n",
    "    return s.strip(),abb"
   ]
  },
  {
   "cell_type": "code",
   "execution_count": 27,
   "metadata": {},
   "outputs": [],
   "source": [
    "gpresident={'Vicelider':'$#VP#%',\n",
    "'vicelider':'$#VP#%',\n",
    "'Secretar':'$#SECR#%',\n",
    "'secretar':'$#SECR#%',\n",
    "'Lider':'$#PRES#%',\n",
    "'Purtător de cuvânt':'$#PRCV#%',\n",
    "'lider':'$#PRES#%'}"
   ]
  },
  {
   "cell_type": "code",
   "execution_count": 28,
   "metadata": {},
   "outputs": [],
   "source": [
    "gpresident2={'Vicepreşedinte':'$#VP#%',\n",
    "'vicepreşedinte':'$#VP#%',\n",
    "'preşedinte':'$#PRES#%',\n",
    "'Preşedinte':'$#PRES#%',\n",
    "'Secretar':'$#SECR#%',\n",
    "'secretar':'$#SECR#%'}        "
   ]
  },
  {
   "cell_type": "code",
   "execution_count": 36,
   "metadata": {},
   "outputs": [],
   "source": [
    "nmembers={}\n",
    "nparty_imgs={}\n",
    "nstate_imgs={}\n",
    "party_set=set()\n",
    "country_set=set()\n",
    "comisii_set=set()\n",
    "deaths={}\n",
    "for i in members:\n",
    "    if '-' not in i['birth_ro']:\n",
    "        birth=str(pd.to_datetime(replace_all(i['birth_ro'],ro_months)))\n",
    "        death=''\n",
    "    else:\n",
    "        birth=str(pd.to_datetime(replace_all(i['name']+i['birth_ro'],decess)))\n",
    "        death=i['birth_ro'].split('-')[1].strip()\n",
    "    if len(birth)>3:\n",
    "        name=i['name']+' | '+birth[:10]\n",
    "    else:\n",
    "        name=i['name']+' | Ismeretlen'\n",
    "    if death:\n",
    "        if name not in deaths:\n",
    "            deaths[name]=death\n",
    "    since=str(pd.to_datetime(legs[i['leg']][0]))[:10]\n",
    "    until=str(pd.to_datetime(legs[i['leg']][1]))[:10] \n",
    "    if i['start']: since=date_ro2(i['start'],True)\n",
    "    if i['end']: until=date_ro2(i['end'])\n",
    "    pretty_name,pres=president(i['pretty_name'])\n",
    "    if name not in nmembers:\n",
    "        nmembers[name]={}\n",
    "    if 'Name' not in nmembers[name]:\n",
    "        nmembers[name]['Name']={'full':i['pretty_name'],'simple':name,'short':i['name']}\n",
    "    if 'Photo' not in nmembers[name]:\n",
    "        nmembers[name]['Photo']=[]\n",
    "    nmembers[name]['Photo'].append(base_url+i['img'])\n",
    "    if 'UserID' not in nmembers[name]:\n",
    "        nmembers[name]['UserID']=[]\n",
    "    nmembers[name]['UserID'].append(i['idm'])\n",
    "    if 'Camera' not in nmembers[name]:\n",
    "        nmembers[name]['Camera']=[]\n",
    "    dummy,pres=president(i['camera'])\n",
    "    if not pres:\n",
    "        dummy,pres=president(i['pretty_name'])\n",
    "    nmembers[name]['Camera'].append(pres+i['camera'])\n",
    "    if 'Starts' not in nmembers[name]:\n",
    "        nmembers[name]['Starts']=[]\n",
    "    nmembers[name]['Starts'].append(since)\n",
    "    if 'Ends' not in nmembers[name]:\n",
    "        nmembers[name]['Ends']=[]\n",
    "    nmembers[name]['Ends'].append(until)\n",
    "    if 'Link' not in nmembers[name]:\n",
    "        nmembers[name]['Link']=[]\n",
    "    nmembers[name]['Link'].append(i['link'])\n",
    "\n",
    "    if 'Parties' not in nmembers[name]:\n",
    "        nmembers[name]['Parties']=[]\n",
    "    parties=i['party']\n",
    "    parties_abbr=i['party_abbr']\n",
    "    for pi in range(len(parties)):\n",
    "        p=parties[pi].strip()\n",
    "        p,pres=president(p)\n",
    "        #reset since\n",
    "        since=str(pd.to_datetime(legs[i['leg']][0]))[:10]\n",
    "        until=str(pd.to_datetime(legs[i['leg']][1]))[:10] \n",
    "        if i['start']: since=date_ro2(i['start'],True)\n",
    "        if i['end']: until=date_ro2(i['end'])\n",
    "        #process\n",
    "        if '#GRUP#' not in p:\n",
    "            if '-' not in p:\n",
    "                if p!='independent':\n",
    "                    abbr='Minorități'\n",
    "                    party=p\n",
    "                else:\n",
    "                    abbr='Independent'\n",
    "                    party='Independent'\n",
    "            else:\n",
    "                abbr=parties_abbr[pi]\n",
    "                party=p.split('-')[1].strip()\n",
    "                if ('din ') in party:\n",
    "                    if ('din R') not in party:\n",
    "                        if ('din B') not in party:\n",
    "                            since=max(since,date_ro(party[party.find('din ')+4:].strip(),True))\n",
    "                            party='Independent'\n",
    "                #else:\n",
    "                if True: #keep, for cases with both 'din' and 'pana'\n",
    "                    if len(p.split('-'))>2:\n",
    "                        s=''.join(p.split('-')[2:]).strip()\n",
    "                        if ('din ') in s:\n",
    "                            if ('din R') not in s:\n",
    "                                since=max(since,date_ro(s[s.find('din ')+4:].strip(),True))\n",
    "                        if ('până în ') in s:\n",
    "                            until=min(until,date_ro(s[s.find('până în ')+8:].strip(),True))\n",
    "            if abbr in ['independent','','Neafiliaţi']:\n",
    "                abbr='Independent'\n",
    "            nmembers[name]['Parties'].append({'party':pres+abbr,\n",
    "                    'start':since,'end':until,'judet':i['judet']})\n",
    "            party_set.add(abbr)\n",
    "        else:\n",
    "            p=parties[pi].strip()\n",
    "            abbr=p.split('\\xa0')[0]\n",
    "            p=replace_all(p,gpresident)\n",
    "            for pk in p.split('$'):\n",
    "                kabbr=pk.replace('%',abbr).replace('  ',' ').replace('  ',' ').replace('  ',' ').strip()\n",
    "                pabbr=kabbr[:kabbr.find(abbr)+len(abbr)].strip()\n",
    "                s=kabbr[kabbr.find(abbr)+len(abbr):].strip()\n",
    "                if ('din ') in s:\n",
    "                    since=max(since,date_ro(s[s.find('din ')+4:].strip(),True))\n",
    "                if ('până în ') in s:\n",
    "                    until=min(until,date_ro(s[s.find('până în ')+8:].strip(),True))\n",
    "                nmembers[name]['Parties'].append({'party':pabbr,\n",
    "                        'start':since,'end':until,'judet':i['judet']})\n",
    "                party_set.add(pabbr)\n",
    "\n",
    "    if 'Countries' not in nmembers[name]:\n",
    "        nmembers[name]['Countries']=[]\n",
    "    states=i['state']\n",
    "    states_abbr=i['state_abbr']\n",
    "    for pi in range(len(states)):\n",
    "        p=states[pi].strip()\n",
    "        p,pres=president(p)\n",
    "        cont=True\n",
    "        if '#INTER#' in p:\n",
    "            cont=False\n",
    "            if 'Bucureşti - Chişinău' in p:cont=True\n",
    "            if 'elega' in p:cont=True\n",
    "            if 'Europol' in p:cont=True\n",
    "        if cont:\n",
    "            abb_state=state_format(states_abbr[pi])\n",
    "            #reset since\n",
    "            since=str(pd.to_datetime(legs[i['leg']][0]))[:10]\n",
    "            until=str(pd.to_datetime(legs[i['leg']][1]))[:10] \n",
    "            if i['start']: since=date_ro2(i['start'],True)\n",
    "            if i['end']: until=date_ro2(i['end'])\n",
    "            #process\n",
    "            if '-' in p:\n",
    "                state=p.split('-')[0]\n",
    "                s=replace_all(''.join(p.split('-')[1:]).strip(),state_abbs).strip()\n",
    "                if ('din ') in s:\n",
    "                    if ('din R') not in s:\n",
    "                        since=max(since,date_ro(s[s.find('din ')+4:].strip(),True))\n",
    "                if ('până în ') in s:\n",
    "                    until=min(until,date_ro(s[s.find('până în ')+8:].strip(),True))\n",
    "            nmembers[name]['Countries'].append({'country':pres+abb_state,'start':since,'end':until})\n",
    "            country_set.add(abb_state)\n",
    "\n",
    "    if 'Groups' not in nmembers[name]:\n",
    "        nmembers[name]['Groups']=[]\n",
    "    comisii=i['comisii']\n",
    "    comisii_abbr=i['comisii_abbr']\n",
    "    for pi in range(len(comisii_abbr)):\n",
    "        p=comisii[pi].strip()\n",
    "        abbr=comisii_abbr[pi].strip()\n",
    "        if '#BP#' in p:\n",
    "            p=replace_all(p,state_abbs)\n",
    "            if '#BP#Atribu' not in p:\n",
    "                #reset since\n",
    "                since=str(pd.to_datetime(legs[i['leg']][0]))[:10]\n",
    "                until=str(pd.to_datetime(legs[i['leg']][1]))[:10] \n",
    "                if i['start']: since=date_ro2(i['start'],True)\n",
    "                if i['end']: until=date_ro2(i['end'])\n",
    "                if '-' in p:\n",
    "                    s0=p.replace('#BP#','').replace('în sesiunea parlamentară:','').replace('atributii','')\n",
    "                    s=s0.split('-')\n",
    "                    if len(s[0])<6:\n",
    "                        s[0]=s[0]+s[1].strip()[-4:]\n",
    "                    since=max(since,date_ro(s[0].strip(),True))\n",
    "                    until=min(until,date_ro(s[1].strip(),True))\n",
    "                    if ('din ') in s0:\n",
    "                        if ('din sumele') not in s:\n",
    "                            since=max(since,date_ro(s0[s0.find('din ')+4:].strip(),True))\n",
    "                    if ('până în ') in s:\n",
    "                        until=min(until,date_ro(s0[s0.find('până în ')+8:].strip(),True))\n",
    "                nmembers[name]['Groups'].append({'group':abbr,\n",
    "                        'start':since,'end':until})\n",
    "                comisii_set.add(abbr)                \n",
    "        else:\n",
    "            #process\n",
    "            p=replace_all(p,gpresident2)\n",
    "            if '$' not in p:\n",
    "                since=str(pd.to_datetime(legs[i['leg']][0]))[:10]\n",
    "                until=str(pd.to_datetime(legs[i['leg']][1]))[:10] \n",
    "                if i['start']: since=date_ro2(i['start'],True)\n",
    "                if i['end']: until=date_ro2(i['end'])\n",
    "                kabbr=p.replace('  ',' ').replace('  ',' ').replace('  ',' ').strip()\n",
    "                pabbr=kabbr[:kabbr.find(abbr)+len(abbr)].strip()\n",
    "                s=kabbr[kabbr.find(abbr)+len(abbr):].strip()\n",
    "                if ('din ') in s:\n",
    "                    if ('din sumele') not in s:\n",
    "                        since=max(since,date_ro(s[s.find('din ')+4:s.find('din ')+4+9].replace(')','').strip(),True))\n",
    "                if ('până în ') in s:\n",
    "                    until=min(until,date_ro(s[s.find('până în ')+8:s.find('până în ')+8+9].replace(')','').strip(),True))\n",
    "                nmembers[name]['Groups'].append({'group':pabbr,\n",
    "                        'start':since,'end':until})\n",
    "                comisii_set.add(pabbr)                \n",
    "            else:\n",
    "                pk=p.split('$')[0]\n",
    "                since0=str(pd.to_datetime(legs[i['leg']][0]))[:10]\n",
    "                until0=str(pd.to_datetime(legs[i['leg']][1]))[:10] \n",
    "                if i['start']: since0=date_ro2(i['start'],True)\n",
    "                if i['end']: until0=date_ro2(i['end'])\n",
    "                kabbr=pk.replace('%',abbr).replace('  ',' ').replace('  ',' ').replace('  ',' ').strip()\n",
    "                pabbr0=kabbr[:kabbr.find(abbr)+len(abbr)].strip()\n",
    "                s=kabbr[kabbr.find(abbr)+len(abbr):].strip()\n",
    "                if ('din ') in s:\n",
    "                    if ('din sumele') not in s:\n",
    "                        since0=max(since0,date_ro(s[s.find('din ')+4:s.find('din ')+4+9].replace(')','').strip(),True))\n",
    "                if ('până în ') in s:\n",
    "                    until0=min(until0,date_ro(s[s.find('până în ')+8:s.find('până în ')+8+9].replace(')','').strip(),True))\n",
    "                if ('-') in s:\n",
    "                    if len(s.split('-')[-1])>4:\n",
    "                        s0=s.split('-')[0].strip()\n",
    "                        s1=s.split('-')[1].strip()\n",
    "                        if len(s0)<6:\n",
    "                            s0=s0+' '+s1.split(' ')[1].strip()\n",
    "                        since0=max(since0,date_ro(s0,True))\n",
    "                        until0=min(until0,date_ro(s1,True))\n",
    "\n",
    "                pk=p.split('$')[1]\n",
    "                since1=str(pd.to_datetime(legs[i['leg']][0]))[:10]\n",
    "                until1=str(pd.to_datetime(legs[i['leg']][1]))[:10] \n",
    "                if i['start']: since1=date_ro2(i['start'],True)\n",
    "                if i['end']: until1=date_ro2(i['end'])\n",
    "                kabbr=pk.replace('%',abbr).replace('  ',' ').replace('  ',' ').replace('  ',' ').strip()\n",
    "                pabbr1=kabbr[:kabbr.find(abbr)+len(abbr)].strip()\n",
    "                s=kabbr[kabbr.find(abbr)+len(abbr):].strip()\n",
    "                if ('din ') in s:\n",
    "                    if ('din sumele') not in s:\n",
    "                        since1=max(since1,date_ro(s[s.find('din ')+4:s.find('din ')+4+9].replace(')','').strip(),True))\n",
    "                if ('până în ') in s:\n",
    "                    until1=min(until1,date_ro(s[s.find('până în ')+8:s.find('până în ')+8+9].replace(')','').strip(),True))\n",
    "                if ('-') in s:\n",
    "                    if len(s.split('-')[-1])>4:\n",
    "                        s0=s.split('-')[0].strip()\n",
    "                        s1=s.split('-')[1].strip()\n",
    "                        if len(s0)<6:\n",
    "                            s0=s0+' '+s1.split(' ')[1].strip()\n",
    "                        since1=max(since1,date_ro(s0,True))\n",
    "                        until1=min(until1,date_ro(s1,True))\n",
    "                since1=max(since0,since1)\n",
    "                until1=min(until0,until1)\n",
    "\n",
    "                if since0==since1 and until0==until1:\n",
    "                    nmembers[name]['Groups'].append({'group':pabbr1,\n",
    "                            'start':since1,'end':until1})\n",
    "                    comisii_set.add(pabbr1)\n",
    "                elif since0<since1:\n",
    "                    if until0>until1:\n",
    "                        nmembers[name]['Groups'].append({'group':pabbr0,\n",
    "                                'start':since0,'end':since1})\n",
    "                        comisii_set.add(pabbr0)\n",
    "                        nmembers[name]['Groups'].append({'group':pabbr1,\n",
    "                                'start':since1,'end':until1})\n",
    "                        comisii_set.add(pabbr1)\n",
    "                        nmembers[name]['Groups'].append({'group':pabbr0,\n",
    "                                'start':until1,'end':until0})\n",
    "                        comisii_set.add(pabbr0)\n",
    "                    elif until1<until0:\n",
    "                        nmembers[name]['Groups'].append({'group':pabbr1,\n",
    "                                'start':since0,'end':until1})\n",
    "                        comisii_set.add(pabbr1)\n",
    "                        nmembers[name]['Groups'].append({'group':pabbr0,\n",
    "                                'start':until1,'end':until0})\n",
    "                        comisii_set.add(pabbr0)\n",
    "                elif since1>since0:\n",
    "                    if until0>until1:\n",
    "                        nmembers[name]['Groups'].append({'group':pabbr0,\n",
    "                                'start':since0,'end':since1})\n",
    "                        comisii_set.add(pabbr0)\n",
    "                        nmembers[name]['Groups'].append({'group':pabbr1,\n",
    "                                'start':since1,'end':until0})\n",
    "                        comisii_set.add(pabbr1)\n",
    "                    elif  until1<until0:\n",
    "                        nmembers[name]['Groups'].append({'group':pabbr0,\n",
    "                            'start':since0,'end':since1})\n",
    "                        comisii_set.add(pabbr0)\n",
    "                        nmembers[name]['Groups'].append({'group':pabbr1,\n",
    "                                'start':since1,'end':until0})\n",
    "                        comisii_set.add(pabbr1)\n",
    "\n",
    "    #reset since\n",
    "    since=str(pd.to_datetime(legs[i['leg']][0]))[:10]\n",
    "    until=str(pd.to_datetime(legs[i['leg']][1]))[:10] \n",
    "    if i['start']: since=date_ro2(i['start'],True)\n",
    "    if i['end']: until=date_ro2(i['end'])\n",
    "    #process\n",
    "    if 'Activity' not in nmembers[name]:\n",
    "        nmembers[name]['Activity']={}\n",
    "    activitate=i['activitate']\n",
    "    for a in activitate:\n",
    "        if len(a)>1:\n",
    "            an=a[0]\n",
    "            if an not in ['Membru în']:\n",
    "                av=int(a[1].split('(')[0].strip().split(',')[0].strip().split('-')[0].strip())\n",
    "                if an not in nmembers[name]['Activity']:nmembers[name]['Activity'][an]=[]\n",
    "                nmembers[name]['Activity'][an].append({'value':av,'start':since,'end':until})        \n",
    "            if an=='Luari de cuvânt':\n",
    "                if 'în ' in a[1]:\n",
    "                    av=int(a[1].split('(în ')[-1].strip().split('sedinte)')[0].strip())\n",
    "                    nmembers[name]['Activity']['Sedințe']={'value':av,'start':since,'end':until}"
   ]
  },
  {
   "cell_type": "code",
   "execution_count": 37,
   "metadata": {},
   "outputs": [],
   "source": [
    "#nmembers['Verestoy Attila | 1954-03-01']['Parties']"
   ]
  },
  {
   "cell_type": "code",
   "execution_count": 34,
   "metadata": {},
   "outputs": [
    {
     "data": {
      "text/plain": [
       "[{'party': 'PNL',\n",
       "  'start': '2004-12-17',\n",
       "  'end': '2006-09-01',\n",
       "  'judet': 'SIBIU'},\n",
       " {'party': 'Independent',\n",
       "  'start': '2006-09-01',\n",
       "  'end': '2008-02-01',\n",
       "  'judet': 'SIBIU'},\n",
       " {'party': 'PDL',\n",
       "  'start': '2008-02-01',\n",
       "  'end': '2008-12-13',\n",
       "  'judet': 'SIBIU'},\n",
       " {'party': '#GRUP#Grupul parlamentaral Partidului Naţional Liberal',\n",
       "  'start': '2004-12-17',\n",
       "  'end': '2006-12-01',\n",
       "  'judet': 'SIBIU'},\n",
       " {'party': '#GRUP#Grupul parlamentaral Partidului Democrat care se transforma în',\n",
       "  'start': '2004-12-17',\n",
       "  'end': '2008-12-13',\n",
       "  'judet': 'SIBIU'},\n",
       " {'party': '#GRUP#Grupul parlamentaral Partidului Democrat-Liberal în feb-2008fost',\n",
       "  'start': '2004-12-17',\n",
       "  'end': '2008-12-13',\n",
       "  'judet': 'SIBIU'},\n",
       " {'party': '#GRUP#Grupul parlamentaral Partidului Democrat (până în feb. 2008)',\n",
       "  'start': '2007-12-01',\n",
       "  'end': '2008-12-13',\n",
       "  'judet': 'SIBIU'},\n",
       " {'party': '#GRUP#Grupul parlamentart neafiliat',\n",
       "  'start': '2006-12-01',\n",
       "  'end': '2007-12-01',\n",
       "  'judet': 'SIBIU'},\n",
       " {'party': 'PNL',\n",
       "  'start': '2016-12-21',\n",
       "  'end': '2019-07-01',\n",
       "  'judet': 'SIBIU'},\n",
       " {'party': '#GRUP#Grupul parlamentaral Partidului Naţional Liberal',\n",
       "  'start': '2016-12-21',\n",
       "  'end': '2019-07-01',\n",
       "  'judet': 'SIBIU'},\n",
       " {'party': '#PRES##GRUP#Grupul parlamentaral Partidului Naţional Liberal',\n",
       "  'start': '2016-12-21',\n",
       "  'end': '2019-07-01',\n",
       "  'judet': 'SIBIU'},\n",
       " {'party': 'PDL',\n",
       "  'start': '2008-12-19',\n",
       "  'end': '2012-12-20',\n",
       "  'judet': 'SIBIU'},\n",
       " {'party': '#GRUP#Grupul parlamentaral Partidului Democrat-Liberal',\n",
       "  'start': '2008-12-19',\n",
       "  'end': '2012-12-20',\n",
       "  'judet': 'SIBIU'},\n",
       " {'party': 'PDL',\n",
       "  'start': '2012-12-20',\n",
       "  'end': '2015-02-01',\n",
       "  'judet': 'SIBIU'},\n",
       " {'party': 'PNL',\n",
       "  'start': '2015-02-01',\n",
       "  'end': '2016-12-21',\n",
       "  'judet': 'SIBIU'},\n",
       " {'party': '#GRUP#Grupul parlamentaral Partidului Democrat Liberal',\n",
       "  'start': '2012-12-20',\n",
       "  'end': '2015-02-01',\n",
       "  'judet': 'SIBIU'},\n",
       " {'party': '#GRUP#Grupul parlamentaral Partidului Naţional Liberal',\n",
       "  'start': '2015-02-01',\n",
       "  'end': '2016-12-21',\n",
       "  'judet': 'SIBIU'}]"
      ]
     },
     "execution_count": 34,
     "metadata": {},
     "output_type": "execute_result"
    }
   ],
   "source": [
    "nmembers['Turcan Raluca | 1976-04-02']['Parties']"
   ]
  },
  {
   "cell_type": "code",
   "execution_count": 1193,
   "metadata": {},
   "outputs": [
    {
     "data": {
      "text/plain": [
       "(2818, 4299, 50)"
      ]
     },
     "execution_count": 1193,
     "metadata": {},
     "output_type": "execute_result"
    }
   ],
   "source": [
    "len(nmembers),len(members),len(deaths)"
   ]
  },
  {
   "cell_type": "code",
   "execution_count": 1194,
   "metadata": {},
   "outputs": [
    {
     "data": {
      "text/plain": [
       "6866873"
      ]
     },
     "execution_count": 1194,
     "metadata": {},
     "output_type": "execute_result"
    }
   ],
   "source": [
    "open('data/nmembers.json','w').write(json.dumps(nmembers))"
   ]
  },
  {
   "cell_type": "code",
   "execution_count": 1195,
   "metadata": {},
   "outputs": [
    {
     "data": {
      "text/plain": [
       "2021"
      ]
     },
     "execution_count": 1195,
     "metadata": {},
     "output_type": "execute_result"
    }
   ],
   "source": [
    "open('data/deaths.json','w').write(json.dumps(deaths))"
   ]
  },
  {
   "cell_type": "markdown",
   "metadata": {},
   "source": [
    "No need to re-run"
   ]
  },
  {
   "cell_type": "code",
   "execution_count": 1196,
   "metadata": {},
   "outputs": [],
   "source": [
    "def party_cleaner(i,p):\n",
    "    if i==p: return p\n",
    "    p=p[len(i)+1:].split('-')[0].strip()\n",
    "    return p"
   ]
  },
  {
   "cell_type": "code",
   "execution_count": 1197,
   "metadata": {},
   "outputs": [],
   "source": [
    "#! run once\n",
    "for i in party_set.difference(set(party_imgs.keys())):\n",
    "    party_imgs[i]={'name': i, 'img': ''}\n",
    "for i in set(party_imgs.keys()).difference(party_set):\n",
    "    party_imgs.pop(i)\n",
    "for i in party_imgs:\n",
    "    party_imgs[i]['name']=party_cleaner(i,party_imgs[i]['name'])"
   ]
  },
  {
   "cell_type": "code",
   "execution_count": 1198,
   "metadata": {},
   "outputs": [],
   "source": [
    "nstate_imgs={}"
   ]
  },
  {
   "cell_type": "code",
   "execution_count": 1199,
   "metadata": {},
   "outputs": [],
   "source": [
    "for i in state_imgs:\n",
    "    nstate_imgs[state_format(i)]=state_imgs[i]\n",
    "nstate_imgs['']=''"
   ]
  },
  {
   "cell_type": "code",
   "execution_count": 1200,
   "metadata": {},
   "outputs": [],
   "source": [
    "#img=json.loads(open('data/img.json','r').read())\n",
    "img={'party':party_imgs,'state':nstate_imgs}"
   ]
  },
  {
   "cell_type": "code",
   "execution_count": 1201,
   "metadata": {},
   "outputs": [],
   "source": [
    "#manual\n",
    "img['party']['PP-DD']['name']='Partidul Poporului Dan Diaconescu'\n",
    "img['party']['PUR-SL']['name']='Partidul Umanist din România'\n",
    "img['party']['RMDSZ']=img['party']['UDMR']\n",
    "img['party']['RMDSZ']['name']='Romániai Magyar Demokrata Szövetség'"
   ]
  },
  {
   "cell_type": "code",
   "execution_count": 1202,
   "metadata": {},
   "outputs": [
    {
     "data": {
      "text/plain": [
       "49419"
      ]
     },
     "execution_count": 1202,
     "metadata": {},
     "output_type": "execute_result"
    }
   ],
   "source": [
    "open('data/img.json','w').write(json.dumps(img))"
   ]
  },
  {
   "cell_type": "code",
   "execution_count": null,
   "metadata": {},
   "outputs": [],
   "source": []
  }
 ],
 "metadata": {
  "kernelspec": {
   "display_name": "Python 3",
   "language": "python",
   "name": "python3"
  },
  "language_info": {
   "codemirror_mode": {
    "name": "ipython",
    "version": 3
   },
   "file_extension": ".py",
   "mimetype": "text/x-python",
   "name": "python",
   "nbconvert_exporter": "python",
   "pygments_lexer": "ipython3",
   "version": "3.7.3"
  }
 },
 "nbformat": 4,
 "nbformat_minor": 2
}
