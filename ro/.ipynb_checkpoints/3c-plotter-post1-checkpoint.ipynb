{
 "cells": [
  {
   "cell_type": "code",
   "execution_count": 193,
   "metadata": {
    "ExecuteTime": {
     "end_time": "2019-03-07T02:56:32.521682Z",
     "start_time": "2019-03-07T02:56:26.288106Z"
    }
   },
   "outputs": [],
   "source": [
    "import pandas as pd, numpy as np, json, os\n",
    "import matplotlib.pyplot as plt\n",
    "%matplotlib inline"
   ]
  },
  {
   "cell_type": "code",
   "execution_count": 194,
   "metadata": {},
   "outputs": [
    {
     "data": {
      "text/plain": [
       "['bmh',\n",
       " 'classic',\n",
       " 'dark_background',\n",
       " 'fast',\n",
       " 'fivethirtyeight',\n",
       " 'ggplot',\n",
       " 'grayscale',\n",
       " 'seaborn-bright',\n",
       " 'seaborn-colorblind',\n",
       " 'seaborn-dark-palette',\n",
       " 'seaborn-dark',\n",
       " 'seaborn-darkgrid',\n",
       " 'seaborn-deep',\n",
       " 'seaborn-muted',\n",
       " 'seaborn-notebook',\n",
       " 'seaborn-paper',\n",
       " 'seaborn-pastel',\n",
       " 'seaborn-poster',\n",
       " 'seaborn-talk',\n",
       " 'seaborn-ticks',\n",
       " 'seaborn-white',\n",
       " 'seaborn-whitegrid',\n",
       " 'seaborn',\n",
       " 'Solarize_Light2',\n",
       " 'tableau-colorblind10',\n",
       " '_classic_test']"
      ]
     },
     "execution_count": 194,
     "metadata": {},
     "output_type": "execute_result"
    }
   ],
   "source": [
    "plt.style.use('seaborn-whitegrid')\n",
    "plt.style.available"
   ]
  },
  {
   "cell_type": "code",
   "execution_count": 195,
   "metadata": {},
   "outputs": [],
   "source": [
    "#!pip install d3IpyPlus\n",
    "from d3IpyPlus import ScatterPlot, LinePlot, BarPlot, StackedArea"
   ]
  },
  {
   "cell_type": "code",
   "execution_count": 196,
   "metadata": {},
   "outputs": [],
   "source": [
    "#!pip install pyecharts"
   ]
  },
  {
   "cell_type": "code",
   "execution_count": 197,
   "metadata": {},
   "outputs": [],
   "source": [
    "m=json.loads(open('ignore/member_timelines.json','r').read())\n",
    "members=json.loads(open('ignore/member_simple.json','r').read())"
   ]
  },
  {
   "cell_type": "code",
   "execution_count": 198,
   "metadata": {},
   "outputs": [],
   "source": [
    "d=pd.DataFrame(members['deaths'],index=['v']).T"
   ]
  },
  {
   "cell_type": "code",
   "execution_count": 199,
   "metadata": {},
   "outputs": [],
   "source": [
    "d['v']=' †'"
   ]
  },
  {
   "cell_type": "code",
   "execution_count": 200,
   "metadata": {},
   "outputs": [],
   "source": [
    "s=pd.DataFrame(members['s2'],index=['s']).T\n",
    "s=s.join(d)\n",
    "s['v']=s['v'].fillna('')\n",
    "s['s']=s['s']+s['v']\n",
    "s=s[['s']]\n",
    "s['w']=s['s'].str.split(' ').str[0].str[0]+s['s'].str.split(' ').str[-1].str[0]"
   ]
  },
  {
   "cell_type": "code",
   "execution_count": 201,
   "metadata": {},
   "outputs": [
    {
     "data": {
      "text/html": [
       "<div>\n",
       "<style scoped>\n",
       "    .dataframe tbody tr th:only-of-type {\n",
       "        vertical-align: middle;\n",
       "    }\n",
       "\n",
       "    .dataframe tbody tr th {\n",
       "        vertical-align: top;\n",
       "    }\n",
       "\n",
       "    .dataframe thead th {\n",
       "        text-align: right;\n",
       "    }\n",
       "</style>\n",
       "<table border=\"1\" class=\"dataframe\">\n",
       "  <thead>\n",
       "    <tr style=\"text-align: right;\">\n",
       "      <th></th>\n",
       "      <th>Part</th>\n",
       "    </tr>\n",
       "  </thead>\n",
       "  <tbody>\n",
       "    <tr>\n",
       "      <th>Scrieciu Gheorghe | 1932-09-11</th>\n",
       "      <td>🍀 PDAR - Partidul Democrat Agrar din România</td>\n",
       "    </tr>\n",
       "    <tr>\n",
       "      <th>Bejan Costache | 1946-08-13</th>\n",
       "      <td>🍀 PDAR - Partidul Democrat Agrar din România</td>\n",
       "    </tr>\n",
       "    <tr>\n",
       "      <th>Armasescu Dumitru | 1947-02-25</th>\n",
       "      <td>⚪️ FSN - Frontul Salvării Naţionale</td>\n",
       "    </tr>\n",
       "    <tr>\n",
       "      <th>Negoescu Nicolae-Ioan | 1933-06-24</th>\n",
       "      <td>⚪️ FSN - Frontul Salvării Naţionale</td>\n",
       "    </tr>\n",
       "    <tr>\n",
       "      <th>Lupau Gheorghita | 1945-12-08</th>\n",
       "      <td>⚪️ FSN - Frontul Salvării Naţionale</td>\n",
       "    </tr>\n",
       "  </tbody>\n",
       "</table>\n",
       "</div>"
      ],
      "text/plain": [
       "                                                                           Part \n",
       "Scrieciu Gheorghe | 1932-09-11      🍀 PDAR - Partidul Democrat Agrar din România\n",
       "Bejan Costache | 1946-08-13         🍀 PDAR - Partidul Democrat Agrar din România\n",
       "Armasescu Dumitru | 1947-02-25               ⚪️ FSN - Frontul Salvării Naţionale\n",
       "Negoescu Nicolae-Ioan | 1933-06-24           ⚪️ FSN - Frontul Salvării Naţionale\n",
       "Lupau Gheorghita | 1945-12-08                ⚪️ FSN - Frontul Salvării Naţionale"
      ]
     },
     "execution_count": 201,
     "metadata": {},
     "output_type": "execute_result"
    }
   ],
   "source": [
    "p=pd.DataFrame(members['part'],index=['Part ']).T\n",
    "p.head()"
   ]
  },
  {
   "cell_type": "code",
   "execution_count": 202,
   "metadata": {},
   "outputs": [],
   "source": [
    "szd_color='#E91C62'"
   ]
  },
  {
   "cell_type": "code",
   "execution_count": 203,
   "metadata": {},
   "outputs": [],
   "source": [
    "pcolors=json.loads(open('json/pcolors.json','r').read())\n",
    "p['Color']=p['Part '].str.split(' ').str[1].str.strip()\n",
    "p['Part  ']=p['Part '].str.split('-').str[0].str.strip()\n",
    "p=p.join(pd.DataFrame(pcolors,index=['cvalue']).T,on='Color')"
   ]
  },
  {
   "cell_type": "code",
   "execution_count": 204,
   "metadata": {},
   "outputs": [
    {
     "data": {
      "text/html": [
       "<div>\n",
       "<style scoped>\n",
       "    .dataframe tbody tr th:only-of-type {\n",
       "        vertical-align: middle;\n",
       "    }\n",
       "\n",
       "    .dataframe tbody tr th {\n",
       "        vertical-align: top;\n",
       "    }\n",
       "\n",
       "    .dataframe thead th {\n",
       "        text-align: right;\n",
       "    }\n",
       "</style>\n",
       "<table border=\"1\" class=\"dataframe\">\n",
       "  <thead>\n",
       "    <tr style=\"text-align: right;\">\n",
       "      <th></th>\n",
       "      <th>Megye</th>\n",
       "    </tr>\n",
       "  </thead>\n",
       "  <tbody>\n",
       "    <tr>\n",
       "      <th>Scrieciu Gheorghe | 1932-09-11</th>\n",
       "      <td>🇷🇴 Dolj</td>\n",
       "    </tr>\n",
       "    <tr>\n",
       "      <th>Bejan Costache | 1946-08-13</th>\n",
       "      <td>🇷🇴 Iași</td>\n",
       "    </tr>\n",
       "    <tr>\n",
       "      <th>Armasescu Dumitru | 1947-02-25</th>\n",
       "      <td>🇷🇴 Hunyad</td>\n",
       "    </tr>\n",
       "    <tr>\n",
       "      <th>Negoescu Nicolae-Ioan | 1933-06-24</th>\n",
       "      <td>🇷🇴 Temes</td>\n",
       "    </tr>\n",
       "    <tr>\n",
       "      <th>Lupau Gheorghita | 1945-12-08</th>\n",
       "      <td>🇷🇴 Bihar</td>\n",
       "    </tr>\n",
       "  </tbody>\n",
       "</table>\n",
       "</div>"
      ],
      "text/plain": [
       "                                       Megye \n",
       "Scrieciu Gheorghe | 1932-09-11        🇷🇴 Dolj\n",
       "Bejan Costache | 1946-08-13           🇷🇴 Iași\n",
       "Armasescu Dumitru | 1947-02-25      🇷🇴 Hunyad\n",
       "Negoescu Nicolae-Ioan | 1933-06-24   🇷🇴 Temes\n",
       "Lupau Gheorghita | 1945-12-08        🇷🇴 Bihar"
      ]
     },
     "execution_count": 204,
     "metadata": {},
     "output_type": "execute_result"
    }
   ],
   "source": [
    "g=pd.DataFrame(members['megye'],index=['Megye ']).T\n",
    "g.head()"
   ]
  },
  {
   "cell_type": "code",
   "execution_count": 205,
   "metadata": {},
   "outputs": [
    {
     "name": "stdout",
     "output_type": "stream",
     "text": [
      "0.0 %\n",
      "3.302728053372085 %\n",
      "6.60545610674417 %\n",
      "9.908184160116255 %\n",
      "13.21091221348834 %\n",
      "16.513640266860428 %\n",
      "19.81636832023251 %\n",
      "23.1190963736046 %\n",
      "26.42182442697668 %\n",
      "29.72455248034877 %\n",
      "33.027280533720855 %\n",
      "36.33000858709294 %\n",
      "39.63273664046502 %\n",
      "42.93546469383711 %\n",
      "46.2381927472092 %\n",
      "49.540920800581276 %\n",
      "52.84364885395336 %\n",
      "56.14637690732545 %\n",
      "59.44910496069754 %\n",
      "62.751833014069625 %\n",
      "66.05456106744171 %\n",
      "69.35728912081379 %\n",
      "72.66001717418588 %\n",
      "75.96274522755796 %\n",
      "79.26547328093004 %\n",
      "82.56820133430213 %\n",
      "85.87092938767422 %\n",
      "89.1736574410463 %\n",
      "92.4763854944184 %\n",
      "95.77911354779047 %\n",
      "99.08184160116255 %\n"
     ]
    }
   ],
   "source": [
    "data={'Ország':{},'Bizottság':{},'Párt':{},'Megye':{}}\n",
    "attention={}\n",
    "for k,i in enumerate(m):\n",
    "    if k%1000==0: print(k/len(m)*100,'%')\n",
    "    name=i['Simple']\n",
    "    if i['Típus'] in list(data.keys()):\n",
    "        if i['Csoportok'] not in data[i['Típus']]:data[i['Típus']][i['Csoportok']]={}\n",
    "        for t in pd.date_range(i['start'],i['end']):\n",
    "            st=str(t)[:10]\n",
    "            if st not in data[i['Típus']][i['Csoportok']]:data[i['Típus']][i['Csoportok']][st]=set()\n",
    "            data[i['Típus']][i['Csoportok']][st].add(name)            \n",
    "            if name not in attention:attention[name]={}\n",
    "            if st not in attention[name]:attention[name][st]=0\n",
    "            attention[name][st]+=1"
   ]
  },
  {
   "cell_type": "code",
   "execution_count": 206,
   "metadata": {},
   "outputs": [],
   "source": [
    "df=pd.DataFrame(attention)"
   ]
  },
  {
   "cell_type": "code",
   "execution_count": 207,
   "metadata": {},
   "outputs": [
    {
     "data": {
      "text/plain": [
       "Timedelta('523 days 00:00:00')"
      ]
     },
     "execution_count": 207,
     "metadata": {},
     "output_type": "execute_result"
    }
   ],
   "source": [
    "pd.to_datetime('2019-07-01')-pd.to_datetime('2018-01-24')"
   ]
  },
  {
   "cell_type": "code",
   "execution_count": null,
   "metadata": {},
   "outputs": [],
   "source": [
    "counts=df.count().sort_values(ascending=False)"
   ]
  },
  {
   "cell_type": "code",
   "execution_count": null,
   "metadata": {},
   "outputs": [
    {
     "data": {
      "text/plain": [
       "Marton Arpad-Francisc | 1955-03-25        10556\n",
       "Verestoy Attila | 1954-03-01              10056\n",
       "Dumitrescu Cristian-Sorin | 1955-04-24     9711\n",
       "Seres Denes | 1953-07-21                   9711\n",
       "Nicolicea Eugen | 1956-06-06               9704\n",
       "Marko Bela | 1951-09-08                    9657\n",
       "Kerekes Karoly | 1947-12-14                9634\n",
       "dtype: int64"
      ]
     },
     "execution_count": 209,
     "metadata": {},
     "output_type": "execute_result"
    }
   ],
   "source": [
    "counts.head(7)"
   ]
  },
  {
   "cell_type": "code",
   "execution_count": null,
   "metadata": {},
   "outputs": [],
   "source": [
    "counts2=df.max().sort_values(ascending=False)"
   ]
  },
  {
   "cell_type": "code",
   "execution_count": null,
   "metadata": {},
   "outputs": [],
   "source": [
    "counts2={}\n",
    "for i in df.columns:\n",
    "    counts2[i]=df[i].last_valid_index()\n",
    "counts2=pd.DataFrame(counts2,index=[0]).T[0]"
   ]
  },
  {
   "cell_type": "code",
   "execution_count": null,
   "metadata": {},
   "outputs": [
    {
     "data": {
      "text/plain": [
       "Fador Angelica | 1977-10-15     2019-07-01\n",
       "Ivan Gheorghe | 1943-10-15      1992-05-12\n",
       "Pescaru Valeriu | 1934-11-29    1992-10-16\n",
       "Varga Attila | 1963-04-21       2012-12-20\n",
       "Sarb Gheorghe | 1955-01-19      2008-12-13\n",
       "Rosca Ioan | 1921-03-10         2000-11-30\n",
       "Timen Iosef | 1927-02-10        1992-10-16\n",
       "Name: 0, dtype: object"
      ]
     },
     "execution_count": 212,
     "metadata": {},
     "output_type": "execute_result"
    }
   ],
   "source": [
    "counts2.head(7)"
   ]
  },
  {
   "cell_type": "code",
   "execution_count": null,
   "metadata": {},
   "outputs": [],
   "source": [
    "min_time=365*6\n",
    "min_time1=365*4\n",
    "min_dep=2"
   ]
  },
  {
   "cell_type": "code",
   "execution_count": null,
   "metadata": {},
   "outputs": [],
   "source": [
    "de=pd.DataFrame(counts).join(p)\n",
    "de=de[de[0]>min_time1]\n",
    "dd=de.groupby('Part ').nunique()\n",
    "de=de.groupby('Part ').mean()\n",
    "de=np.round(de.loc[dd[dd[0]>min_dep].index]/365,1)\n",
    "de.columns=['Atlagos regiseg']\n",
    "de=de.join(p.set_index('Part ').drop_duplicates())\n",
    "dj=de.groupby(['Part  ','cvalue']).mean().reset_index().sort_values(by='Atlagos regiseg', ascending=False)"
   ]
  },
  {
   "cell_type": "code",
   "execution_count": null,
   "metadata": {},
   "outputs": [
    {
     "data": {
      "text/html": [
       "<div>\n",
       "<style scoped>\n",
       "    .dataframe tbody tr th:only-of-type {\n",
       "        vertical-align: middle;\n",
       "    }\n",
       "\n",
       "    .dataframe tbody tr th {\n",
       "        vertical-align: top;\n",
       "    }\n",
       "\n",
       "    .dataframe thead th {\n",
       "        text-align: right;\n",
       "    }\n",
       "</style>\n",
       "<table border=\"1\" class=\"dataframe\">\n",
       "  <thead>\n",
       "    <tr style=\"text-align: right;\">\n",
       "      <th></th>\n",
       "      <th>Atlagos regiseg</th>\n",
       "      <th>Color</th>\n",
       "      <th>Part</th>\n",
       "      <th>cvalue</th>\n",
       "    </tr>\n",
       "    <tr>\n",
       "      <th>Part</th>\n",
       "      <th></th>\n",
       "      <th></th>\n",
       "      <th></th>\n",
       "      <th></th>\n",
       "    </tr>\n",
       "  </thead>\n",
       "  <tbody>\n",
       "    <tr>\n",
       "      <th>✳️ PNTCD - Partidul Naţional Ţărănesc Creştin Democrat</th>\n",
       "      <td>5.4</td>\n",
       "      <td>PNTCD</td>\n",
       "      <td>✳️ PNTCD</td>\n",
       "      <td>#04843c</td>\n",
       "    </tr>\n",
       "    <tr>\n",
       "      <th>🌷 RMDSZ - Romániai Magyar Demokrata Szövetség</th>\n",
       "      <td>10.0</td>\n",
       "      <td>RMDSZ</td>\n",
       "      <td>🌷 RMDSZ</td>\n",
       "      <td>green</td>\n",
       "    </tr>\n",
       "    <tr>\n",
       "      <th>🌹 PDSR - Partidul Democraţiei Sociale din România</th>\n",
       "      <td>5.3</td>\n",
       "      <td>PDSR</td>\n",
       "      <td>🌹 PDSR</td>\n",
       "      <td>#dc2c24</td>\n",
       "    </tr>\n",
       "    <tr>\n",
       "      <th>🌹 PSD - Partidul Social Democrat</th>\n",
       "      <td>8.9</td>\n",
       "      <td>PSD</td>\n",
       "      <td>🌹 PSD</td>\n",
       "      <td>#dc2c24</td>\n",
       "    </tr>\n",
       "    <tr>\n",
       "      <th>🌹 PSDR - Partidul Social Democrat Român</th>\n",
       "      <td>6.6</td>\n",
       "      <td>PSDR</td>\n",
       "      <td>🌹 PSDR</td>\n",
       "      <td>#dc2c24</td>\n",
       "    </tr>\n",
       "    <tr>\n",
       "      <th>🌹 PSM - Partidul Socialist al Muncii</th>\n",
       "      <td>4.3</td>\n",
       "      <td>PSM</td>\n",
       "      <td>🌹 PSM</td>\n",
       "      <td>#dc2c24</td>\n",
       "    </tr>\n",
       "    <tr>\n",
       "      <th>🍀 PER - Partidul Ecologist Român</th>\n",
       "      <td>7.2</td>\n",
       "      <td>PER</td>\n",
       "      <td>🍀 PER</td>\n",
       "      <td>#69a54f</td>\n",
       "    </tr>\n",
       "    <tr>\n",
       "      <th>🍏 PMP - Partidul Mişcarea Populară</th>\n",
       "      <td>8.3</td>\n",
       "      <td>PMP</td>\n",
       "      <td>🍏 PMP</td>\n",
       "      <td>#0484cc</td>\n",
       "    </tr>\n",
       "    <tr>\n",
       "      <th>👤 Independent - Independent</th>\n",
       "      <td>6.3</td>\n",
       "      <td>Independent</td>\n",
       "      <td>👤 Independent</td>\n",
       "      <td>#444</td>\n",
       "    </tr>\n",
       "    <tr>\n",
       "      <th>📐 PNL - Partidul Naţional Liberal</th>\n",
       "      <td>7.6</td>\n",
       "      <td>PNL</td>\n",
       "      <td>📐 PNL</td>\n",
       "      <td>#f4d42c</td>\n",
       "    </tr>\n",
       "    <tr>\n",
       "      <th>📐 PNL-CD - Partidul Naţional Liberal</th>\n",
       "      <td>5.1</td>\n",
       "      <td>PNL-CD</td>\n",
       "      <td>📐 PNL</td>\n",
       "      <td>#f4d42c</td>\n",
       "    </tr>\n",
       "    <tr>\n",
       "      <th>🔱 PRM - Partidul România Mare</th>\n",
       "      <td>7.2</td>\n",
       "      <td>PRM</td>\n",
       "      <td>🔱 PRM</td>\n",
       "      <td>#0d5ca4</td>\n",
       "    </tr>\n",
       "    <tr>\n",
       "      <th>🔶 PD - Partidul Democrat</th>\n",
       "      <td>7.1</td>\n",
       "      <td>PD</td>\n",
       "      <td>🔶 PD</td>\n",
       "      <td>darkOrange</td>\n",
       "    </tr>\n",
       "    <tr>\n",
       "      <th>🔶 PDL - Partidul Democrat Liberal</th>\n",
       "      <td>5.6</td>\n",
       "      <td>PDL</td>\n",
       "      <td>🔶 PDL</td>\n",
       "      <td>darkOrange</td>\n",
       "    </tr>\n",
       "    <tr>\n",
       "      <th>🕊️ ALDE - Partidul Alianţa Liberalilor şi Democraţilor</th>\n",
       "      <td>11.2</td>\n",
       "      <td>ALDE</td>\n",
       "      <td>🕊️ ALDE</td>\n",
       "      <td>#046cab</td>\n",
       "    </tr>\n",
       "    <tr>\n",
       "      <th>🕊️ PC - Partidul Conservator</th>\n",
       "      <td>7.8</td>\n",
       "      <td>PC</td>\n",
       "      <td>🕊️ PC</td>\n",
       "      <td>#96c2f2</td>\n",
       "    </tr>\n",
       "    <tr>\n",
       "      <th>🕊️ PUNR - Partidul Unităţii Naţionale Române</th>\n",
       "      <td>5.1</td>\n",
       "      <td>PUNR</td>\n",
       "      <td>🕊️ PUNR</td>\n",
       "      <td>grey</td>\n",
       "    </tr>\n",
       "    <tr>\n",
       "      <th>🦅 UNPR - Uniunea Naţională pentru Progresul României</th>\n",
       "      <td>5.6</td>\n",
       "      <td>UNPR</td>\n",
       "      <td>🦅 UNPR</td>\n",
       "      <td>#a8190f</td>\n",
       "    </tr>\n",
       "  </tbody>\n",
       "</table>\n",
       "</div>"
      ],
      "text/plain": [
       "                                                    Atlagos regiseg  \\\n",
       "Part                                                                  \n",
       "✳️ PNTCD - Partidul Naţional Ţărănesc Creştin D...              5.4   \n",
       "🌷 RMDSZ - Romániai Magyar Demokrata Szövetség                  10.0   \n",
       "🌹 PDSR - Partidul Democraţiei Sociale din România               5.3   \n",
       "🌹 PSD - Partidul Social Democrat                                8.9   \n",
       "🌹 PSDR - Partidul Social Democrat Român                         6.6   \n",
       "🌹 PSM - Partidul Socialist al Muncii                            4.3   \n",
       "🍀 PER - Partidul Ecologist Român                                7.2   \n",
       "🍏 PMP - Partidul Mişcarea Populară                              8.3   \n",
       "👤 Independent - Independent                                     6.3   \n",
       "📐 PNL - Partidul Naţional Liberal                               7.6   \n",
       "📐 PNL-CD - Partidul Naţional Liberal                            5.1   \n",
       "🔱 PRM - Partidul România Mare                                   7.2   \n",
       "🔶 PD - Partidul Democrat                                        7.1   \n",
       "🔶 PDL - Partidul Democrat Liberal                               5.6   \n",
       "🕊️ ALDE - Partidul Alianţa Liberalilor şi Democ...             11.2   \n",
       "🕊️ PC - Partidul Conservator                                    7.8   \n",
       "🕊️ PUNR - Partidul Unităţii Naţionale Române                    5.1   \n",
       "🦅 UNPR - Uniunea Naţională pentru Progresul Rom...              5.6   \n",
       "\n",
       "                                                          Color  \\\n",
       "Part                                                              \n",
       "✳️ PNTCD - Partidul Naţional Ţărănesc Creştin D...        PNTCD   \n",
       "🌷 RMDSZ - Romániai Magyar Demokrata Szövetség             RMDSZ   \n",
       "🌹 PDSR - Partidul Democraţiei Sociale din România          PDSR   \n",
       "🌹 PSD - Partidul Social Democrat                            PSD   \n",
       "🌹 PSDR - Partidul Social Democrat Român                    PSDR   \n",
       "🌹 PSM - Partidul Socialist al Muncii                        PSM   \n",
       "🍀 PER - Partidul Ecologist Român                            PER   \n",
       "🍏 PMP - Partidul Mişcarea Populară                          PMP   \n",
       "👤 Independent - Independent                         Independent   \n",
       "📐 PNL - Partidul Naţional Liberal                           PNL   \n",
       "📐 PNL-CD - Partidul Naţional Liberal                     PNL-CD   \n",
       "🔱 PRM - Partidul România Mare                               PRM   \n",
       "🔶 PD - Partidul Democrat                                     PD   \n",
       "🔶 PDL - Partidul Democrat Liberal                           PDL   \n",
       "🕊️ ALDE - Partidul Alianţa Liberalilor şi Democ...         ALDE   \n",
       "🕊️ PC - Partidul Conservator                                 PC   \n",
       "🕊️ PUNR - Partidul Unităţii Naţionale Române               PUNR   \n",
       "🦅 UNPR - Uniunea Naţională pentru Progresul Rom...         UNPR   \n",
       "\n",
       "                                                           Part        cvalue  \n",
       "Part                                                                           \n",
       "✳️ PNTCD - Partidul Naţional Ţărănesc Creştin D...       ✳️ PNTCD     #04843c  \n",
       "🌷 RMDSZ - Romániai Magyar Demokrata Szövetség             🌷 RMDSZ       green  \n",
       "🌹 PDSR - Partidul Democraţiei Sociale din România          🌹 PDSR     #dc2c24  \n",
       "🌹 PSD - Partidul Social Democrat                            🌹 PSD     #dc2c24  \n",
       "🌹 PSDR - Partidul Social Democrat Român                    🌹 PSDR     #dc2c24  \n",
       "🌹 PSM - Partidul Socialist al Muncii                        🌹 PSM     #dc2c24  \n",
       "🍀 PER - Partidul Ecologist Român                            🍀 PER     #69a54f  \n",
       "🍏 PMP - Partidul Mişcarea Populară                          🍏 PMP     #0484cc  \n",
       "👤 Independent - Independent                         👤 Independent        #444  \n",
       "📐 PNL - Partidul Naţional Liberal                           📐 PNL     #f4d42c  \n",
       "📐 PNL-CD - Partidul Naţional Liberal                        📐 PNL     #f4d42c  \n",
       "🔱 PRM - Partidul România Mare                               🔱 PRM     #0d5ca4  \n",
       "🔶 PD - Partidul Democrat                                     🔶 PD  darkOrange  \n",
       "🔶 PDL - Partidul Democrat Liberal                           🔶 PDL  darkOrange  \n",
       "🕊️ ALDE - Partidul Alianţa Liberalilor şi Democ...        🕊️ ALDE     #046cab  \n",
       "🕊️ PC - Partidul Conservator                                🕊️ PC     #96c2f2  \n",
       "🕊️ PUNR - Partidul Unităţii Naţionale Române              🕊️ PUNR        grey  \n",
       "🦅 UNPR - Uniunea Naţională pentru Progresul Rom...         🦅 UNPR     #a8190f  "
      ]
     },
     "execution_count": 215,
     "metadata": {},
     "output_type": "execute_result"
    }
   ],
   "source": [
    "de"
   ]
  },
  {
   "cell_type": "code",
   "execution_count": null,
   "metadata": {},
   "outputs": [
    {
     "data": {
      "text/html": [
       "<div id='d3viz_16' style='height:400px;width:100%px'></div>"
      ],
      "text/plain": [
       "<IPython.core.display.HTML object>"
      ]
     },
     "metadata": {},
     "output_type": "display_data"
    },
    {
     "data": {
      "application/javascript": [
       "var link = document.createElement(\"link\");\n",
       "\tlink.ref = \"stylesheet\";\n",
       "\tlink.type = \"text/css\";\n",
       "\tlink.href = \"\";\n",
       "\tdocument.head.appendChild(link);\n",
       "new Promise(function(resolve, reject) {\n",
       "\tvar script = document.createElement(\"script\");\n",
       "\tscript.onload = resolve;\n",
       "\tscript.onerror = reject;\n",
       "\tscript.src = \"//d3plus.org/js/d3.js\";\n",
       "\tdocument.head.appendChild(script);\n",
       "}).then(() => {\n",
       "new Promise(function(resolve, reject) {\n",
       "\tvar script = document.createElement(\"script\");\n",
       "\tscript.onload = resolve;\n",
       "\tscript.onerror = reject;\n",
       "\tscript.src = \"//d3plus.org/js/d3plus.js\";\n",
       "\tdocument.head.appendChild(script);\n",
       "}).then(() => {\n",
       "\n",
       "        (function (){\n",
       "            \n",
       "            var viz_data = [{\"Part \": \"\\u2733\\ufe0f PNTCD - Partidul Na\\u0163ional \\u0162\\u0103r\\u0103nesc Cre\\u015ftin Democrat\", \"Atlagos regiseg\": 5.4, \"Color\": \"PNTCD\", \"Part  \": \"\\u2733\\ufe0f PNTCD\", \"cvalue\": \"#04843c\"}, {\"Part \": \"\\ud83c\\udf37 RMDSZ - Rom\\u00e1niai Magyar Demokrata Sz\\u00f6vets\\u00e9g\", \"Atlagos regiseg\": 10.0, \"Color\": \"RMDSZ\", \"Part  \": \"\\ud83c\\udf37 RMDSZ\", \"cvalue\": \"green\"}, {\"Part \": \"\\ud83c\\udf39 PDSR - Partidul Democra\\u0163iei Sociale din Rom\\u00e2nia\", \"Atlagos regiseg\": 5.3, \"Color\": \"PDSR\", \"Part  \": \"\\ud83c\\udf39 PDSR\", \"cvalue\": \"#dc2c24\"}, {\"Part \": \"\\ud83c\\udf39 PSD - Partidul Social Democrat\", \"Atlagos regiseg\": 8.9, \"Color\": \"PSD\", \"Part  \": \"\\ud83c\\udf39 PSD\", \"cvalue\": \"#dc2c24\"}, {\"Part \": \"\\ud83c\\udf39 PSDR - Partidul Social Democrat Rom\\u00e2n\", \"Atlagos regiseg\": 6.6, \"Color\": \"PSDR\", \"Part  \": \"\\ud83c\\udf39 PSDR\", \"cvalue\": \"#dc2c24\"}, {\"Part \": \"\\ud83c\\udf39 PSM - Partidul Socialist al Muncii\", \"Atlagos regiseg\": 4.3, \"Color\": \"PSM\", \"Part  \": \"\\ud83c\\udf39 PSM\", \"cvalue\": \"#dc2c24\"}, {\"Part \": \"\\ud83c\\udf40 PER - Partidul Ecologist Rom\\u00e2n\", \"Atlagos regiseg\": 7.2, \"Color\": \"PER\", \"Part  \": \"\\ud83c\\udf40 PER\", \"cvalue\": \"#69a54f\"}, {\"Part \": \"\\ud83c\\udf4f PMP - Partidul Mi\\u015fcarea Popular\\u0103\", \"Atlagos regiseg\": 8.3, \"Color\": \"PMP\", \"Part  \": \"\\ud83c\\udf4f PMP\", \"cvalue\": \"#0484cc\"}, {\"Part \": \"\\ud83d\\udc64 Independent - Independent\", \"Atlagos regiseg\": 6.3, \"Color\": \"Independent\", \"Part  \": \"\\ud83d\\udc64 Independent\", \"cvalue\": \"#444\"}, {\"Part \": \"\\ud83d\\udcd0 PNL - Partidul Na\\u0163ional Liberal\", \"Atlagos regiseg\": 7.6, \"Color\": \"PNL\", \"Part  \": \"\\ud83d\\udcd0 PNL\", \"cvalue\": \"#f4d42c\"}, {\"Part \": \"\\ud83d\\udcd0 PNL-CD - Partidul Na\\u0163ional Liberal\", \"Atlagos regiseg\": 5.1, \"Color\": \"PNL-CD\", \"Part  \": \"\\ud83d\\udcd0 PNL\", \"cvalue\": \"#f4d42c\"}, {\"Part \": \"\\ud83d\\udd31 PRM - Partidul Rom\\u00e2nia Mare\", \"Atlagos regiseg\": 7.2, \"Color\": \"PRM\", \"Part  \": \"\\ud83d\\udd31 PRM\", \"cvalue\": \"#0d5ca4\"}, {\"Part \": \"\\ud83d\\udd36 PD - Partidul Democrat\", \"Atlagos regiseg\": 7.1, \"Color\": \"PD\", \"Part  \": \"\\ud83d\\udd36 PD\", \"cvalue\": \"darkOrange\"}, {\"Part \": \"\\ud83d\\udd36 PDL - Partidul Democrat Liberal\", \"Atlagos regiseg\": 5.6, \"Color\": \"PDL\", \"Part  \": \"\\ud83d\\udd36 PDL\", \"cvalue\": \"darkOrange\"}, {\"Part \": \"\\ud83d\\udd4a\\ufe0f ALDE - Partidul Alian\\u0163a Liberalilor \\u015fi Democra\\u0163ilor\", \"Atlagos regiseg\": 11.2, \"Color\": \"ALDE\", \"Part  \": \"\\ud83d\\udd4a\\ufe0f ALDE\", \"cvalue\": \"#046cab\"}, {\"Part \": \"\\ud83d\\udd4a\\ufe0f PC - Partidul Conservator\", \"Atlagos regiseg\": 7.8, \"Color\": \"PC\", \"Part  \": \"\\ud83d\\udd4a\\ufe0f PC\", \"cvalue\": \"#96c2f2\"}, {\"Part \": \"\\ud83d\\udd4a\\ufe0f PUNR - Partidul Unit\\u0103\\u0163ii Na\\u0163ionale Rom\\u00e2ne\", \"Atlagos regiseg\": 5.1, \"Color\": \"PUNR\", \"Part  \": \"\\ud83d\\udd4a\\ufe0f PUNR\", \"cvalue\": \"grey\"}, {\"Part \": \"\\ud83e\\udd85 UNPR - Uniunea Na\\u0163ional\\u0103 pentru Progresul Rom\\u00e2niei\", \"Atlagos regiseg\": 5.6, \"Color\": \"UNPR\", \"Part  \": \"\\ud83e\\udd85 UNPR\", \"cvalue\": \"#a8190f\"}];\n",
       "\n",
       "            var viz_d3viz_16 = d3plus.viz()\n",
       "                .container('#d3viz_16')\n",
       "                .type('bar')\n",
       "                .id('Part  ')\n",
       "\t\t.x('Part  ')\n",
       "\t\t.y({'value': 'Atlagos regiseg','label': 'Atlagos regiseg (ev)'})\n",
       "\t\t.text(' ')\n",
       "\t\t.color('cvalue')\n",
       "\t\t.tooltip(['Part '])\n",
       "\t\t.legend(false)\n",
       "\t\t.aggs({'Atlagos regiseg': 'mean'})\n",
       "\t\t.order({'value': 'Atlagos regiseg','sort': 'desc'})\n",
       "                .data(viz_data)\n",
       "                .draw();\n",
       "\n",
       "        })();\n",
       "        \n",
       "});\n",
       "});"
      ],
      "text/plain": [
       "<IPython.core.display.Javascript object>"
      ]
     },
     "metadata": {},
     "output_type": "display_data"
    },
    {
     "data": {
      "text/plain": [
       "3893"
      ]
     },
     "execution_count": 216,
     "metadata": {},
     "output_type": "execute_result"
    }
   ],
   "source": [
    "sample_data = list(de.reset_index().T.to_dict().values())\n",
    "scplot = BarPlot(\n",
    "    x='Part  ', \n",
    "    y={'value':'Atlagos regiseg','label':'Atlagos regiseg (ev)'}, \n",
    "    id='Part  ', \n",
    "    aggs={'Atlagos regiseg':'mean'},\n",
    "    text=' ', \n",
    "    color='cvalue', \n",
    "    order={'value':'Atlagos regiseg','sort':'desc'},\n",
    "    tooltip=['Part '], \n",
    "    legend=False, \n",
    "    width='100%', \n",
    ")\n",
    "scplot.draw(sample_data)\n",
    "scplot.height='100%'\n",
    "open('time1.html','w').write(scplot.dump_html(sample_data))"
   ]
  },
  {
   "cell_type": "code",
   "execution_count": null,
   "metadata": {},
   "outputs": [],
   "source": [
    "from IPython.display import IFrame"
   ]
  },
  {
   "cell_type": "code",
   "execution_count": null,
   "metadata": {},
   "outputs": [],
   "source": [
    "from pyecharts.charts import Bar, Grid\n",
    "from pyecharts import options as opts\n",
    "#docs https://pyecharts.org/#/en-us/"
   ]
  },
  {
   "cell_type": "code",
   "execution_count": null,
   "metadata": {},
   "outputs": [
    {
     "data": {
      "text/html": [
       "\n",
       "        <iframe\n",
       "            width=\"98%\"\n",
       "            height=\"440\"\n",
       "            src=\"time1e.html\"\n",
       "            frameborder=\"0\"\n",
       "            allowfullscreen\n",
       "        ></iframe>\n",
       "        "
      ],
      "text/plain": [
       "<IPython.lib.display.IFrame at 0x2848e8ddf98>"
      ]
     },
     "execution_count": 219,
     "metadata": {},
     "output_type": "execute_result"
    }
   ],
   "source": [
    "bar = (\n",
    "    Bar(\n",
    "        init_opts=opts.InitOpts(\n",
    "            width='100%',\n",
    "            height='410px'\n",
    "        )\n",
    "    )\n",
    "    .add_xaxis(list(dj['Part  '].values))\n",
    "    .add_yaxis('Átlagos régiség',\n",
    "               [opts.BarItem(\n",
    "                   name=i[1]['Part  '],\n",
    "                   value=np.round(i[1]['Atlagos regiseg'],1),\n",
    "                   itemstyle_opts=opts.ItemStyleOpts(color=i[1]['cvalue']),\n",
    "                ) for i in dj.T.iteritems()]\n",
    "              )\n",
    "    .set_global_opts(\n",
    "        legend_opts=opts.LegendOpts(is_show=False),\n",
    "        title_opts=opts.TitleOpts(\n",
    "            title=\"Parlamenterek átlagos régisége\",\n",
    "            pos_left='center',\n",
    "            pos_top='20'\n",
    "        ),\n",
    "        xaxis_opts=opts.AxisOpts(\n",
    "            type_='category',\n",
    "            axislabel_opts =opts.LabelOpts(\n",
    "                rotate=-50,\n",
    "                font_weight='normal'\n",
    "            )\n",
    "        ),\n",
    "#         graphic_opts=[\n",
    "#                 opts.GraphicImage(\n",
    "#                     graphic_item=opts.GraphicItem(\n",
    "#                         id_=\"logo\",\n",
    "#                         right=50,\n",
    "#                         top=50,\n",
    "#                         z=-10,\n",
    "#                         bounding=\"raw\",\n",
    "#                         origin=[75, 75],\n",
    "#                     ),\n",
    "#                     graphic_imagestyle_opts=opts.GraphicImageStyleOpts(\n",
    "#                         image=\"https://szekelydata.csaladen.es/favicon.ico\",\n",
    "#                         width=25,\n",
    "#                         height=25,\n",
    "#                         opacity=0.8,\n",
    "#                     ),\n",
    "#                 )\n",
    "#             ],\n",
    "    )\n",
    "    .set_series_opts(\n",
    "        label_opts=opts.LabelOpts(\n",
    "        )\n",
    "    )\n",
    "    .render('time1e.html')\n",
    ")\n",
    "IFrame(src='time1e.html', width='98%', height=440)"
   ]
  },
  {
   "cell_type": "code",
   "execution_count": null,
   "metadata": {},
   "outputs": [],
   "source": [
    "from plotly import offline as po\n",
    "import plotly.plotly as py\n",
    "import plotly.graph_objs as go\n",
    "\n",
    "trace0 = go.Bar(\n",
    "    x=list(dj['Part  '].values),\n",
    "    y=np.round(np.array(dj['Atlagos regiseg'].values),1),\n",
    "    marker=dict(\n",
    "        color=list(dj['cvalue'].values)\n",
    "    ),\n",
    ")\n",
    "\n",
    "data = [trace0]\n",
    "\n",
    "fig = go.Figure(data=data)\n",
    "file_name='time1c.html'\n",
    "po.plot(fig, filename=file_name, auto_open=False);\n",
    "IFrame(src=file_name, width='98%', height=420)"
   ]
  },
  {
   "cell_type": "code",
   "execution_count": null,
   "metadata": {},
   "outputs": [],
   "source": [
    "de=pd.DataFrame(counts).join(g)\n",
    "de=de[de[0]>min_time1]\n",
    "dd=de.groupby('Megye ').nunique()\n",
    "de=de.groupby('Megye ').mean()\n",
    "de=np.round(de.loc[dd[dd[0]>min_dep].index]/365,1)\n",
    "de.columns=['Atlagos regiseg']\n",
    "dj=de.groupby(['Megye ']).mean().reset_index().sort_values(by='Atlagos regiseg', ascending=False)"
   ]
  },
  {
   "cell_type": "code",
   "execution_count": null,
   "metadata": {},
   "outputs": [],
   "source": [
    "ro_shape=json.loads(open('json/romania-counties.json','r').read())\n",
    "megyek=json.loads(open('C:/users/csala/Onedrive/Github/universal/ro/hun_megyek.json','r').read())\n",
    "megye_map={}\n",
    "for i,di in enumerate(ro_shape['objects']['ROU_adm1']['geometries']):\n",
    "    if (di['properties']['VARNAME_1']):\n",
    "        megye_map[i]=di['properties']['VARNAME_1']\n",
    "    else:\n",
    "        megye_map[i]=di['properties']['NAME_1']\n",
    "megye_map={megyek[megye_map[i]]:i for i in megye_map}\n",
    "dj['id']=[megye_map[i]  if i in megye_map else -1 for i in dj['Megye '].str.split(' ').str[1].values]\n",
    "open('json/megye_map.json','w').write(json.dumps(list(dj.T.to_dict().values())))"
   ]
  },
  {
   "cell_type": "code",
   "execution_count": null,
   "metadata": {},
   "outputs": [],
   "source": [
    "sample_data = list(de.reset_index().T.to_dict().values())\n",
    "scplot = BarPlot(\n",
    "    x='Megye ', \n",
    "    y={'value':'Atlagos regiseg','label':'Atlagos regiseg (ev)'}, \n",
    "    id='Megye ', \n",
    "    aggs={'Atlagos regiseg':'mean'},\n",
    "    text=' ', \n",
    "#     color='cvalue', \n",
    "    order={'value':'Atlagos regiseg','sort':'desc'},\n",
    "#     tooltip=['Part '], \n",
    "    legend=False, \n",
    "    width='100%',    \n",
    ")\n",
    "scplot.draw(sample_data)\n",
    "scplot.height='100%'\n",
    "open('time2.html','w').write(scplot.dump_html(sample_data))"
   ]
  },
  {
   "cell_type": "code",
   "execution_count": null,
   "metadata": {},
   "outputs": [],
   "source": [
    "bar = (\n",
    "    Bar(\n",
    "        init_opts=opts.InitOpts(\n",
    "            width='100%',\n",
    "            height='410px'\n",
    "        )\n",
    "    )\n",
    "    .add_xaxis(list(dj['Megye '].values))\n",
    "    .add_yaxis('Átlagos régiség',\n",
    "               [opts.BarItem(\n",
    "                   name=i[1]['Megye '],\n",
    "                   value=np.round(i[1]['Atlagos regiseg'],1),\n",
    "                   itemstyle_opts=opts.ItemStyleOpts(color=szd_color),\n",
    "                ) for i in dj.T.iteritems()]\n",
    "              )\n",
    "    .set_global_opts(\n",
    "        legend_opts=opts.LegendOpts(is_show=False),\n",
    "        xaxis_opts=opts.AxisOpts(\n",
    "            type_='category',\n",
    "            axislabel_opts =opts.LabelOpts(\n",
    "                rotate=-90,\n",
    "                font_weight='normal'\n",
    "            ),\n",
    "#             offset=0\n",
    "            \n",
    "        ),\n",
    "#         graphic_opts=[\n",
    "#                 opts.GraphicImage(\n",
    "#                     graphic_item=opts.GraphicItem(\n",
    "#                         id_=\"logo\",\n",
    "#                         right=50,\n",
    "#                         top=50,\n",
    "#                         z=-10,\n",
    "#                         bounding=\"raw\",\n",
    "#                         origin=[75, 75],\n",
    "#                     ),\n",
    "#                     graphic_imagestyle_opts=opts.GraphicImageStyleOpts(\n",
    "#                         image=\"https://szekelydata.csaladen.es/favicon.ico\",\n",
    "#                         width=25,\n",
    "#                         height=25,\n",
    "#                         opacity=0.8,\n",
    "#                     ),\n",
    "#                 )\n",
    "#             ],\n",
    "    )\n",
    "    .set_series_opts(\n",
    "        label_opts=opts.LabelOpts(\n",
    "        )\n",
    "    )\n",
    "    .render('time2e.html')\n",
    ")\n",
    "IFrame(src='time2e.html', width='98%', height=440)"
   ]
  },
  {
   "cell_type": "code",
   "execution_count": null,
   "metadata": {},
   "outputs": [],
   "source": [
    "from plotly import offline as po\n",
    "import plotly.plotly as py\n",
    "import plotly.graph_objs as go\n",
    "\n",
    "trace0 = go.Bar(\n",
    "    x=list(dj['Megye '].values),\n",
    "    y=np.round(np.array(dj['Atlagos regiseg'].values),1)\n",
    ")\n",
    "\n",
    "data = [trace0]\n",
    "\n",
    "fig = go.Figure(data=data)\n",
    "file_name='time2c.html'\n",
    "po.plot(fig, filename=file_name, auto_open=False);\n",
    "IFrame(src=file_name, width='98%', height=420)"
   ]
  },
  {
   "cell_type": "code",
   "execution_count": null,
   "metadata": {},
   "outputs": [],
   "source": [
    "de=pd.DataFrame(counts2).join(p).join(d)\n",
    "de=de.reset_index()\n",
    "de=de[[str(i)=='nan' for i in list(de['v'].values)]] #keep only alive ones\n",
    "de['szul']=de['index'].str.split('|').str[1].str.strip()\n",
    "de=de[[str(i)!='Ismeretlen' for i in list(de['szul'].values)]] #keep only known birth dates\n",
    "de['Eletkor']=(pd.to_datetime(de[0])-pd.to_datetime(de['szul'])).dt.days/365\n",
    "dd=de.groupby('Part ').nunique()\n",
    "de=de.groupby('Part ').mean()[['Eletkor']]\n",
    "de=np.round(de.loc[dd[dd[0]>min_dep].index],0)\n",
    "de.columns=['Atlagos eletkor']\n",
    "de=de.join(p.set_index('Part ').drop_duplicates())\n",
    "dj=de.groupby(['Part  ','cvalue']).mean().reset_index().sort_values(by='Atlagos eletkor', ascending=False)"
   ]
  },
  {
   "cell_type": "code",
   "execution_count": null,
   "metadata": {},
   "outputs": [],
   "source": [
    "sample_data = list(de.reset_index().T.to_dict().values())\n",
    "scplot = BarPlot(\n",
    "    x='Part  ', \n",
    "    y='Atlagos eletkor', \n",
    "    id='Part  ', \n",
    "    aggs={'Atlagos eletkor':'mean'},\n",
    "   text=' ', \n",
    "    color='cvalue', \n",
    "    order={'value':'Atlagos eletkor','sort':'desc'},\n",
    "    tooltip=['Part '], \n",
    "    legend=False, \n",
    "    width='100%', \n",
    ")\n",
    "scplot.draw(sample_data)\n",
    "scplot.height='100%'\n",
    "open('time3.html','w').write(scplot.dump_html(sample_data))"
   ]
  },
  {
   "cell_type": "code",
   "execution_count": null,
   "metadata": {},
   "outputs": [],
   "source": [
    "from plotly import offline as po\n",
    "import plotly.plotly as py\n",
    "import plotly.graph_objs as go\n",
    "\n",
    "trace0 = go.Bar(\n",
    "    x=list(dj['Part  '].values),\n",
    "    y=np.round(np.array(dj['Atlagos eletkor'].values),0),\n",
    "    marker=dict(\n",
    "        color=list(dj['cvalue'].values)\n",
    "    ),\n",
    ")\n",
    "\n",
    "data = [trace0]\n",
    "\n",
    "fig = go.Figure(data=data)\n",
    "file_name='time3c.html'\n",
    "po.plot(fig, filename=file_name, auto_open=False);\n",
    "IFrame(src=file_name, width='98%', height=420)"
   ]
  },
  {
   "cell_type": "code",
   "execution_count": null,
   "metadata": {},
   "outputs": [],
   "source": [
    "de=pd.DataFrame(counts2).join(g).join(d)\n",
    "de=de.reset_index()\n",
    "de=de[[str(i)=='nan' for i in list(de['v'].values)]] #keep only alive ones\n",
    "de['szul']=de['index'].str.split('|').str[1].str.strip()\n",
    "de=de[[str(i)!='Ismeretlen' for i in list(de['szul'].values)]] #keep only known birth dates\n",
    "de['Eletkor']=(pd.to_datetime(de[0])-pd.to_datetime(de['szul'])).dt.days/365\n",
    "dd=de.groupby('Megye ').nunique()\n",
    "de=de.groupby('Megye ').mean()[['Eletkor']]\n",
    "de=np.round(de.loc[dd[dd[0]>min_dep].index],0)\n",
    "de.columns=['Atlagos eletkor']\n",
    "dj=de.groupby(['Megye ']).mean().reset_index().sort_values(by='Atlagos eletkor', ascending=False)"
   ]
  },
  {
   "cell_type": "code",
   "execution_count": null,
   "metadata": {},
   "outputs": [],
   "source": [
    "ro_shape=json.loads(open('json/romania-counties.json','r').read())\n",
    "megyek=json.loads(open('C:/users/csala/Onedrive/Github/universal/ro/hun_megyek.json','r').read())\n",
    "megye_map={}\n",
    "for i,di in enumerate(ro_shape['objects']['ROU_adm1']['geometries']):\n",
    "    if (di['properties']['VARNAME_1']):\n",
    "        megye_map[i]=di['properties']['VARNAME_1']\n",
    "    else:\n",
    "        megye_map[i]=di['properties']['NAME_1']\n",
    "megye_map={megyek[megye_map[i]]:i for i in megye_map}\n",
    "dj['id']=[megye_map[i]  if i in megye_map else -1 for i in dj['Megye '].str.split(' ').str[1].values]\n",
    "open('json/megye_map2.json','w').write(json.dumps(list(dj.T.to_dict().values())))"
   ]
  },
  {
   "cell_type": "code",
   "execution_count": null,
   "metadata": {},
   "outputs": [],
   "source": [
    "sample_data = list(de.reset_index().T.to_dict().values())\n",
    "scplot = BarPlot(\n",
    "    x='Megye ', \n",
    "    y='Atlagos eletkor', \n",
    "    id='Megye ', \n",
    "    aggs={'Atlagos eletkor':'mean'},\n",
    "    text=' ', \n",
    "#     color='cvalue', \n",
    "    order={'value':'Atlagos eletkor','sort':'desc'},\n",
    "#     tooltip=['Part '], \n",
    "    legend=False, \n",
    "    width='100%',    \n",
    ")\n",
    "scplot.draw(sample_data)\n",
    "scplot.height='100%'\n",
    "open('time4.html','w').write(scplot.dump_html(sample_data))"
   ]
  },
  {
   "cell_type": "code",
   "execution_count": null,
   "metadata": {},
   "outputs": [],
   "source": [
    "from plotly import offline as po\n",
    "import plotly.plotly as py\n",
    "import plotly.graph_objs as go\n",
    "\n",
    "trace0 = go.Bar(\n",
    "    x=list(dj['Megye '].values),\n",
    "    y=np.round(np.array(dj['Atlagos eletkor'].values),0)\n",
    ")\n",
    "\n",
    "data = [trace0]\n",
    "\n",
    "fig = go.Figure(data=data)\n",
    "file_name='time4c.html'\n",
    "po.plot(fig, filename=file_name, auto_open=False);\n",
    "IFrame(src=file_name, width='98%', height=420)"
   ]
  },
  {
   "cell_type": "markdown",
   "metadata": {},
   "source": [
    "Fusions"
   ]
  },
  {
   "cell_type": "code",
   "execution_count": null,
   "metadata": {},
   "outputs": [],
   "source": [
    "switches={}\n",
    "fusions={}\n",
    "for k,i in enumerate(m):\n",
    "    if k%1000==0: print(k/len(m)*100,'%')\n",
    "    name=i['Simple']\n",
    "    if i['Típus'] in ['Megye','Párt']:\n",
    "        for t in pd.date_range(i['start'],i['end']):\n",
    "            st=str(t)[:10]\n",
    "            if name not in switches:switches[name]={}\n",
    "            if i['Típus']not in switches[name]:switches[name][i['Típus']]={'count':0,'current':i['Csoportok']}\n",
    "            if switches[name][i['Típus']]['current']!=i['Csoportok']:\n",
    "                p1=i['Csoportok']\n",
    "                p2=switches[name][i['Típus']]['current']\n",
    "                if i['Típus'] not in fusions:fusions[i['Típus']]={}\n",
    "                if p1 not in fusions[i['Típus']]:fusions[i['Típus']][p1]={}\n",
    "                if p2 not in fusions[i['Típus']][p1]:fusions[i['Típus']][p1][p2]=0\n",
    "                fusions[i['Típus']][p1][p2]+=1\n",
    "                switches[name][i['Típus']]['current']=str(i['Csoportok'])\n",
    "                switches[name][i['Típus']]['count']+=1"
   ]
  },
  {
   "cell_type": "code",
   "execution_count": null,
   "metadata": {},
   "outputs": [],
   "source": [
    "def get_sub(dz,x,k=1):\n",
    "    part=dz.T[x].sort_values(ascending=False)\n",
    "    print(part.mean())\n",
    "    print(part.head(5))\n",
    "    df=pd.DataFrame(part).join(pd.DataFrame(counts)).join(s)\n",
    "    df['a']=df[x]/(df[0]/k)\n",
    "    df=df.replace([np.inf, -np.inf], np.nan)\n",
    "    df=df[df[0]>min_time] #remove outliers\n",
    "    part=df.sort_values(by='a',ascending=False)[['a','s','w']]\n",
    "    return part"
   ]
  },
  {
   "cell_type": "code",
   "execution_count": null,
   "metadata": {},
   "outputs": [],
   "source": [
    "dw=pd.DataFrame({i:{j:switches[i][j]['count'] for j in switches[i]} for i in switches})\n",
    "part=get_sub(dw,'Párt',365)\n",
    "megye=get_sub(dw,'Megye',365)"
   ]
  },
  {
   "cell_type": "code",
   "execution_count": null,
   "metadata": {},
   "outputs": [],
   "source": [
    "top=15\n",
    "fig,axes=plt.subplots(1,2,figsize=(11,3))\n",
    "to_plot=part.set_index('s')['a']\n",
    "ax=axes[0]\n",
    "print(to_plot.mean())\n",
    "ax=to_plot.head(top).plot(kind='bar',ax=ax,color=szd_color)\n",
    "ax.set_xlabel(\"\")\n",
    "ax.set_ylabel(\"Pártváltás / év\")\n",
    "to_plot=megye.set_index('s')['a']\n",
    "ax=axes[1]\n",
    "print(to_plot.mean())\n",
    "to_plot.head(top).plot(kind='bar',ax=ax,color=szd_color)\n",
    "ax.set_xlabel(\"\")\n",
    "ax.set_ylabel(\"Megyeváltás / év\")\n",
    "plt.savefig('fig/valtas.png',bbox_inches='tight',transparent=True)\n",
    "plt.show()"
   ]
  },
  {
   "cell_type": "markdown",
   "metadata": {},
   "source": [
    "Fusions"
   ]
  },
  {
   "cell_type": "code",
   "execution_count": null,
   "metadata": {},
   "outputs": [],
   "source": [
    "fusions['part']=fusions['Párt']\n",
    "fusions.pop('Párt');\n",
    "open('json/fusions.json','w').write(json.dumps(fusions))"
   ]
  },
  {
   "cell_type": "code",
   "execution_count": null,
   "metadata": {},
   "outputs": [],
   "source": [
    "switches2={}\n",
    "fusions2={}\n",
    "for k,i in enumerate(m):\n",
    "    if k%1000==0: print(k/len(m)*100,'%')\n",
    "    name=i['Simple']\n",
    "    if i['Típus'] in ['Párt']:\n",
    "        if not ((i['Típus']=='Párt')and(i['Csoportok']=='👤 Independent - Independent')):        \n",
    "            for t in pd.date_range(i['start'],i['end']):\n",
    "                st=str(t)[:10]\n",
    "                if name not in switches2:switches2[name]={}\n",
    "                if i['Típus']not in switches2[name]:switches2[name][i['Típus']]={'count':0,'current':i['Csoportok']}\n",
    "                if switches2[name][i['Típus']]['current']!=i['Csoportok']:\n",
    "                    p1=i['Csoportok']\n",
    "                    p2=switches2[name][i['Típus']]['current']\n",
    "                    if i['Típus'] not in fusions2:fusions2[i['Típus']]={}\n",
    "                    if p1 not in fusions2[i['Típus']]:fusions2[i['Típus']][p1]={}\n",
    "                    if p2 not in fusions2[i['Típus']][p1]:fusions2[i['Típus']][p1][p2]=0\n",
    "                    fusions2[i['Típus']][p1][p2]+=1\n",
    "                    switches2[name][i['Típus']]['current']=str(i['Csoportok'])\n",
    "                    switches2[name][i['Típus']]['count']+=1"
   ]
  },
  {
   "cell_type": "code",
   "execution_count": null,
   "metadata": {},
   "outputs": [],
   "source": [
    "fusions2['part']=fusions2['Párt']\n",
    "fusions2.pop('Párt');\n",
    "open('json/fusions2.json','w').write(json.dumps(fusions2))"
   ]
  },
  {
   "cell_type": "markdown",
   "metadata": {},
   "source": [
    "Orszag"
   ]
  },
  {
   "cell_type": "code",
   "execution_count": null,
   "metadata": {},
   "outputs": [],
   "source": [
    "countries={}\n",
    "for k,i in enumerate(m):\n",
    "    if k%1000==0: print(k/len(m)*100,'%')\n",
    "    name=i['Simple']\n",
    "    if i['Típus'] in ['Ország','Bizottság']:\n",
    "        for t in pd.date_range(i['start'],i['end']):\n",
    "            st=str(t)[:10]\n",
    "            if name not in countries:countries[name]={}\n",
    "            if i['Típus'] not in countries[name]:countries[name][i['Típus']]={}\n",
    "            if i['Csoportok'] not in countries[name][i['Típus']]:countries[name][i['Típus']][i['Csoportok']]=0\n",
    "            countries[name][i['Típus']][i['Csoportok']]+=1"
   ]
  },
  {
   "cell_type": "code",
   "execution_count": null,
   "metadata": {},
   "outputs": [],
   "source": [
    "dz=pd.DataFrame({i:{j:sum(countries[i][j].values()) for j in countries[i]} for i in countries}).fillna(0)\n",
    "dz2=pd.DataFrame({i:{j:len(countries[i][j].values()) for j in countries[i]} for i in countries}).fillna(0)"
   ]
  },
  {
   "cell_type": "code",
   "execution_count": null,
   "metadata": {},
   "outputs": [],
   "source": [
    "orsz1=get_sub(dz2,'Ország')\n",
    "biz1=get_sub(dz2,'Bizottság')"
   ]
  },
  {
   "cell_type": "code",
   "execution_count": null,
   "metadata": {},
   "outputs": [],
   "source": [
    "orsz2=get_sub(dz,'Ország')\n",
    "biz2=get_sub(dz,'Bizottság')"
   ]
  },
  {
   "cell_type": "code",
   "execution_count": null,
   "metadata": {},
   "outputs": [],
   "source": [
    "top=15\n",
    "fig,axes=plt.subplots(1,2,figsize=(11,3))\n",
    "to_plot=orsz2.set_index('s')['a']\n",
    "ax=axes[0]\n",
    "print(to_plot.mean())\n",
    "to_plot.head(top).plot(kind='bar',ax=ax,color=szd_color)\n",
    "ax.set_xlabel(\"\")\n",
    "ax.set_ylabel(\"Ország-barátság-csoport / év\")\n",
    "to_plot=biz2.set_index('s')['a']\n",
    "ax=axes[1]\n",
    "print(to_plot.mean())\n",
    "to_plot.head(top).plot(kind='bar',ax=ax,color=szd_color)\n",
    "ax.set_xlabel(\"\")\n",
    "ax.set_ylabel(\"Bizottság / év\")\n",
    "plt.savefig('fig/valtas2.png',bbox_inches='tight',transparent=True)\n",
    "plt.show()"
   ]
  },
  {
   "cell_type": "markdown",
   "metadata": {},
   "source": [
    "Scatter"
   ]
  },
  {
   "cell_type": "code",
   "execution_count": null,
   "metadata": {},
   "outputs": [],
   "source": [
    "part2=pd.DataFrame(part[['a','w','s']])\n",
    "part2.columns=['Part','Nev','Nev2']\n",
    "megye2=pd.DataFrame(megye['a'])\n",
    "megye2.columns=['Megye']\n",
    "sc1=part2.join(megye2).join(p).join(g).join(pd.DataFrame(counts/365,columns=['Evek']))"
   ]
  },
  {
   "cell_type": "code",
   "execution_count": null,
   "metadata": {},
   "outputs": [],
   "source": [
    "orsz3=pd.DataFrame(orsz2[['a','w','s']])\n",
    "orsz3.columns=['Orszag','Nev','Nev2']\n",
    "biz3=pd.DataFrame(biz2[['a']])\n",
    "biz3.columns=['Bizottsag']\n",
    "sc2=orsz3.join(biz3).join(p).join(g).join(pd.DataFrame(counts/365,columns=['Evek']))"
   ]
  },
  {
   "cell_type": "code",
   "execution_count": null,
   "metadata": {},
   "outputs": [],
   "source": [
    "fig,axes=plt.subplots(1,2,figsize=(9,4))\n",
    "ax=axes[0]\n",
    "sc1.plot(x='Part',y='Megye',kind='scatter',ax=ax,color=szd_color)\n",
    "ax.set_xlabel('Pártváltás / év')\n",
    "ax.set_ylabel('Megyeváltás / év')\n",
    "ax=axes[1]\n",
    "sc2.plot(x='Orszag',y='Bizottsag',kind='scatter',ax=ax,color=szd_color)\n",
    "ax.set_xlabel('Ország-barátság-csoport / év')\n",
    "ax.set_ylabel('Bizottság / év')\n",
    "plt.savefig('fig/valtas3.png',bbox_inches='tight',transparent=True)\n",
    "plt.show()"
   ]
  },
  {
   "cell_type": "code",
   "execution_count": null,
   "metadata": {},
   "outputs": [],
   "source": [
    "sample_data = list(sc1.reset_index().T.to_dict().values())\n",
    "scplot = ScatterPlot(x={'value':'Part','label':'Partvaltas / ev'}, \n",
    "                     y={'value':'Megye','label':'Megyevaltas / ev'}, id='index', \n",
    "                     text='Nev', \n",
    "                     color='cvalue', \n",
    "#                      order={'value':'Evek','sort':'asc'},\n",
    "                     tooltip=['Nev2', 'Part  ','Megye '], \n",
    "                     legend=False, width='100%', size='Evek')\n",
    "scplot.draw(sample_data)\n",
    "open('scatter1b.html','w').write(scplot.dump_html(sample_data))"
   ]
  },
  {
   "cell_type": "code",
   "execution_count": null,
   "metadata": {},
   "outputs": [],
   "source": [
    "sample_data = list(sc2.reset_index().T.to_dict().values())\n",
    "scplot = ScatterPlot(x={'value':'Orszag','label':'Orszag-baratsag-csoport'}, \n",
    "                     y={'value':'Bizottsag','label':'Bizottsag'}, id='index', \n",
    "                     text='Nev', \n",
    "                     color='cvalue',  \n",
    "#                      order={'value':'Evek','sort':'asc'},\n",
    "                     tooltip=['Nev2', 'Part  ','Megye '], \n",
    "                     legend=False, width='100%', size='Evek')\n",
    "scplot.draw(sample_data)\n",
    "open('scatter2b.html','w').write(scplot.dump_html(sample_data))"
   ]
  }
 ],
 "metadata": {
  "kernelspec": {
   "display_name": "Python 3",
   "language": "python",
   "name": "python3"
  },
  "language_info": {
   "codemirror_mode": {
    "name": "ipython",
    "version": 3
   },
   "file_extension": ".py",
   "mimetype": "text/x-python",
   "name": "python",
   "nbconvert_exporter": "python",
   "pygments_lexer": "ipython3",
   "version": "3.6.7"
  },
  "toc": {
   "base_numbering": 1,
   "nav_menu": {},
   "number_sections": true,
   "sideBar": true,
   "skip_h1_title": false,
   "title_cell": "Table of Contents",
   "title_sidebar": "Contents",
   "toc_cell": false,
   "toc_position": {},
   "toc_section_display": true,
   "toc_window_display": false
  }
 },
 "nbformat": 4,
 "nbformat_minor": 2
}
