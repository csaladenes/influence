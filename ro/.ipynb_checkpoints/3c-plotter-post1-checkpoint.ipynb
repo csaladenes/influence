{
 "cells": [
  {
   "cell_type": "code",
   "execution_count": 117,
   "metadata": {
    "ExecuteTime": {
     "end_time": "2019-03-07T02:56:32.521682Z",
     "start_time": "2019-03-07T02:56:26.288106Z"
    }
   },
   "outputs": [],
   "source": [
    "import pandas as pd, numpy as np, json, os\n",
    "import matplotlib.pyplot as plt\n",
    "%matplotlib inline"
   ]
  },
  {
   "cell_type": "code",
   "execution_count": 118,
   "metadata": {},
   "outputs": [
    {
     "data": {
      "text/plain": [
       "['bmh',\n",
       " 'classic',\n",
       " 'dark_background',\n",
       " 'fast',\n",
       " 'fivethirtyeight',\n",
       " 'ggplot',\n",
       " 'grayscale',\n",
       " 'seaborn-bright',\n",
       " 'seaborn-colorblind',\n",
       " 'seaborn-dark-palette',\n",
       " 'seaborn-dark',\n",
       " 'seaborn-darkgrid',\n",
       " 'seaborn-deep',\n",
       " 'seaborn-muted',\n",
       " 'seaborn-notebook',\n",
       " 'seaborn-paper',\n",
       " 'seaborn-pastel',\n",
       " 'seaborn-poster',\n",
       " 'seaborn-talk',\n",
       " 'seaborn-ticks',\n",
       " 'seaborn-white',\n",
       " 'seaborn-whitegrid',\n",
       " 'seaborn',\n",
       " 'Solarize_Light2',\n",
       " 'tableau-colorblind10',\n",
       " '_classic_test']"
      ]
     },
     "execution_count": 118,
     "metadata": {},
     "output_type": "execute_result"
    }
   ],
   "source": [
    "plt.style.use('seaborn-whitegrid')\n",
    "plt.style.available"
   ]
  },
  {
   "cell_type": "code",
   "execution_count": 119,
   "metadata": {},
   "outputs": [],
   "source": [
    "#!pip install d3IpyPlus\n",
    "from d3IpyPlus import ScatterPlot, LinePlot, BarPlot, StackedArea"
   ]
  },
  {
   "cell_type": "code",
   "execution_count": 120,
   "metadata": {},
   "outputs": [],
   "source": [
    "#!pip install pyecharts"
   ]
  },
  {
   "cell_type": "code",
   "execution_count": 121,
   "metadata": {},
   "outputs": [],
   "source": [
    "m=json.loads(open('ignore/member_timelines.json','r').read())\n",
    "members=json.loads(open('ignore/member_simple.json','r').read())"
   ]
  },
  {
   "cell_type": "code",
   "execution_count": 122,
   "metadata": {},
   "outputs": [],
   "source": [
    "d=pd.DataFrame(members['deaths'],index=['v']).T"
   ]
  },
  {
   "cell_type": "code",
   "execution_count": 123,
   "metadata": {},
   "outputs": [],
   "source": [
    "d['v']=' †'"
   ]
  },
  {
   "cell_type": "code",
   "execution_count": 124,
   "metadata": {},
   "outputs": [],
   "source": [
    "s=pd.DataFrame(members['s2'],index=['s']).T\n",
    "s=s.join(d)\n",
    "s['v']=s['v'].fillna('')\n",
    "s['s']=s['s']+s['v']\n",
    "s=s[['s']]\n",
    "s['w']=s['s'].str.split(' ').str[0].str[0]+s['s'].str.split(' ').str[-1].str[0]"
   ]
  },
  {
   "cell_type": "code",
   "execution_count": 125,
   "metadata": {},
   "outputs": [
    {
     "data": {
      "text/html": [
       "<div>\n",
       "<style scoped>\n",
       "    .dataframe tbody tr th:only-of-type {\n",
       "        vertical-align: middle;\n",
       "    }\n",
       "\n",
       "    .dataframe tbody tr th {\n",
       "        vertical-align: top;\n",
       "    }\n",
       "\n",
       "    .dataframe thead th {\n",
       "        text-align: right;\n",
       "    }\n",
       "</style>\n",
       "<table border=\"1\" class=\"dataframe\">\n",
       "  <thead>\n",
       "    <tr style=\"text-align: right;\">\n",
       "      <th></th>\n",
       "      <th>Part</th>\n",
       "    </tr>\n",
       "  </thead>\n",
       "  <tbody>\n",
       "    <tr>\n",
       "      <th>Scrieciu Gheorghe | 1932-09-11</th>\n",
       "      <td>🍀 PDAR - Partidul Democrat Agrar din România</td>\n",
       "    </tr>\n",
       "    <tr>\n",
       "      <th>Bejan Costache | 1946-08-13</th>\n",
       "      <td>🍀 PDAR - Partidul Democrat Agrar din România</td>\n",
       "    </tr>\n",
       "    <tr>\n",
       "      <th>Armasescu Dumitru | 1947-02-25</th>\n",
       "      <td>⚪️ FSN - Frontul Salvării Naţionale</td>\n",
       "    </tr>\n",
       "    <tr>\n",
       "      <th>Negoescu Nicolae-Ioan | 1933-06-24</th>\n",
       "      <td>⚪️ FSN - Frontul Salvării Naţionale</td>\n",
       "    </tr>\n",
       "    <tr>\n",
       "      <th>Lupau Gheorghita | 1945-12-08</th>\n",
       "      <td>⚪️ FSN - Frontul Salvării Naţionale</td>\n",
       "    </tr>\n",
       "  </tbody>\n",
       "</table>\n",
       "</div>"
      ],
      "text/plain": [
       "                                                                           Part \n",
       "Scrieciu Gheorghe | 1932-09-11      🍀 PDAR - Partidul Democrat Agrar din România\n",
       "Bejan Costache | 1946-08-13         🍀 PDAR - Partidul Democrat Agrar din România\n",
       "Armasescu Dumitru | 1947-02-25               ⚪️ FSN - Frontul Salvării Naţionale\n",
       "Negoescu Nicolae-Ioan | 1933-06-24           ⚪️ FSN - Frontul Salvării Naţionale\n",
       "Lupau Gheorghita | 1945-12-08                ⚪️ FSN - Frontul Salvării Naţionale"
      ]
     },
     "execution_count": 125,
     "metadata": {},
     "output_type": "execute_result"
    }
   ],
   "source": [
    "p=pd.DataFrame(members['part'],index=['Part ']).T\n",
    "p.head()"
   ]
  },
  {
   "cell_type": "code",
   "execution_count": 126,
   "metadata": {},
   "outputs": [],
   "source": [
    "szd_color='#E91C62'"
   ]
  },
  {
   "cell_type": "code",
   "execution_count": 127,
   "metadata": {},
   "outputs": [],
   "source": [
    "pcolors=json.loads(open('json/pcolors.json','r').read())\n",
    "p['Color']=p['Part '].str.split(' ').str[1].str.strip()\n",
    "p['Part  ']=p['Part '].str.split('-').str[0].str.strip()\n",
    "p=p.join(pd.DataFrame(pcolors,index=['cvalue']).T,on='Color')"
   ]
  },
  {
   "cell_type": "code",
   "execution_count": 128,
   "metadata": {},
   "outputs": [
    {
     "data": {
      "text/html": [
       "<div>\n",
       "<style scoped>\n",
       "    .dataframe tbody tr th:only-of-type {\n",
       "        vertical-align: middle;\n",
       "    }\n",
       "\n",
       "    .dataframe tbody tr th {\n",
       "        vertical-align: top;\n",
       "    }\n",
       "\n",
       "    .dataframe thead th {\n",
       "        text-align: right;\n",
       "    }\n",
       "</style>\n",
       "<table border=\"1\" class=\"dataframe\">\n",
       "  <thead>\n",
       "    <tr style=\"text-align: right;\">\n",
       "      <th></th>\n",
       "      <th>Megye</th>\n",
       "    </tr>\n",
       "  </thead>\n",
       "  <tbody>\n",
       "    <tr>\n",
       "      <th>Lascu Vasile | 1948-01-30</th>\n",
       "      <td>🇷🇴 Brassó</td>\n",
       "    </tr>\n",
       "    <tr>\n",
       "      <th>Gulea Aurelian | 1936-11-07</th>\n",
       "      <td>🇷🇴 Botoșani</td>\n",
       "    </tr>\n",
       "    <tr>\n",
       "      <th>Fieroiu Octavian | 1948-10-20</th>\n",
       "      <td>🇷🇴 Vâlcea</td>\n",
       "    </tr>\n",
       "    <tr>\n",
       "      <th>Ureche Nicolai | 1937-12-06</th>\n",
       "      <td>🇷🇴 Botoșani</td>\n",
       "    </tr>\n",
       "    <tr>\n",
       "      <th>Podhradszky Vasile | 1920-03-20</th>\n",
       "      <td>🇷🇴 Kolozs</td>\n",
       "    </tr>\n",
       "  </tbody>\n",
       "</table>\n",
       "</div>"
      ],
      "text/plain": [
       "                                      Megye \n",
       "Lascu Vasile | 1948-01-30          🇷🇴 Brassó\n",
       "Gulea Aurelian | 1936-11-07      🇷🇴 Botoșani\n",
       "Fieroiu Octavian | 1948-10-20      🇷🇴 Vâlcea\n",
       "Ureche Nicolai | 1937-12-06      🇷🇴 Botoșani\n",
       "Podhradszky Vasile | 1920-03-20    🇷🇴 Kolozs"
      ]
     },
     "execution_count": 128,
     "metadata": {},
     "output_type": "execute_result"
    }
   ],
   "source": [
    "g=pd.DataFrame(members['megye'],index=['Megye ']).T\n",
    "g.head()"
   ]
  },
  {
   "cell_type": "code",
   "execution_count": null,
   "metadata": {},
   "outputs": [
    {
     "name": "stdout",
     "output_type": "stream",
     "text": [
      "0.0 %\n",
      "3.323031934336889 %\n",
      "6.646063868673778 %\n",
      "9.969095803010667 %\n"
     ]
    }
   ],
   "source": [
    "data={'Ország':{},'Bizottság':{},'Párt':{},'Megye':{}}\n",
    "attention={}\n",
    "for k,i in enumerate(m):\n",
    "    if k%1000==0: print(k/len(m)*100,'%')\n",
    "    name=i['Simple']\n",
    "    if i['Típus'] in list(data.keys()):\n",
    "        if i['Csoportok'] not in data[i['Típus']]:data[i['Típus']][i['Csoportok']]={}\n",
    "        for t in pd.date_range(i['start'],i['end']):\n",
    "            st=str(t)[:10]\n",
    "            if st not in data[i['Típus']][i['Csoportok']]:data[i['Típus']][i['Csoportok']][st]=set()\n",
    "            data[i['Típus']][i['Csoportok']][st].add(name)            \n",
    "            if name not in attention:attention[name]={}\n",
    "            if st not in attention[name]:attention[name][st]=0\n",
    "            attention[name][st]+=1"
   ]
  },
  {
   "cell_type": "code",
   "execution_count": null,
   "metadata": {},
   "outputs": [],
   "source": [
    "df=pd.DataFrame(attention)"
   ]
  },
  {
   "cell_type": "code",
   "execution_count": null,
   "metadata": {},
   "outputs": [],
   "source": [
    "pd.to_datetime('2019-07-01')-pd.to_datetime('2018-01-24')"
   ]
  },
  {
   "cell_type": "code",
   "execution_count": null,
   "metadata": {},
   "outputs": [],
   "source": [
    "counts=df.count().sort_values(ascending=False)"
   ]
  },
  {
   "cell_type": "code",
   "execution_count": null,
   "metadata": {},
   "outputs": [],
   "source": [
    "counts.head(7)"
   ]
  },
  {
   "cell_type": "code",
   "execution_count": null,
   "metadata": {},
   "outputs": [],
   "source": [
    "counts2=df.max().sort_values(ascending=False)"
   ]
  },
  {
   "cell_type": "code",
   "execution_count": null,
   "metadata": {},
   "outputs": [],
   "source": [
    "counts2={}\n",
    "for i in df.columns:\n",
    "    counts2[i]=df[i].last_valid_index()\n",
    "counts2=pd.DataFrame(counts2,index=[0]).T[0]"
   ]
  },
  {
   "cell_type": "code",
   "execution_count": null,
   "metadata": {},
   "outputs": [],
   "source": [
    "counts2.head(7)"
   ]
  },
  {
   "cell_type": "code",
   "execution_count": null,
   "metadata": {},
   "outputs": [],
   "source": [
    "min_time=365*6\n",
    "min_time1=365*4\n",
    "min_dep=2"
   ]
  },
  {
   "cell_type": "code",
   "execution_count": null,
   "metadata": {},
   "outputs": [],
   "source": [
    "de=pd.DataFrame(counts).join(p)\n",
    "de=de[de[0]>min_time1]\n",
    "dd=de.groupby('Part ').nunique()\n",
    "de=de.groupby('Part ').mean()\n",
    "de=np.round(de.loc[dd[dd[0]>min_dep].index]/365,1)\n",
    "de.columns=['Atlagos regiseg']\n",
    "de=de.join(p.set_index('Part ').drop_duplicates())\n",
    "dj=de.groupby(['Part  ','cvalue']).mean().reset_index().sort_values(by='Atlagos regiseg', ascending=False)"
   ]
  },
  {
   "cell_type": "code",
   "execution_count": null,
   "metadata": {},
   "outputs": [],
   "source": [
    "de"
   ]
  },
  {
   "cell_type": "code",
   "execution_count": null,
   "metadata": {},
   "outputs": [],
   "source": [
    "sample_data = list(de.reset_index().T.to_dict().values())\n",
    "scplot = BarPlot(\n",
    "    x='Part  ', \n",
    "    y={'value':'Atlagos regiseg','label':'Atlagos regiseg (ev)'}, \n",
    "    id='Part  ', \n",
    "    aggs={'Atlagos regiseg':'mean'},\n",
    "    text=' ', \n",
    "    color='cvalue', \n",
    "    order={'value':'Atlagos regiseg','sort':'desc'},\n",
    "    tooltip=['Part '], \n",
    "    legend=False, \n",
    "    width='100%', \n",
    ")\n",
    "scplot.draw(sample_data)\n",
    "scplot.height='100%'\n",
    "open('time1.html','w').write(scplot.dump_html(sample_data))"
   ]
  },
  {
   "cell_type": "code",
   "execution_count": null,
   "metadata": {},
   "outputs": [],
   "source": [
    "from IPython.display import IFrame"
   ]
  },
  {
   "cell_type": "code",
   "execution_count": null,
   "metadata": {},
   "outputs": [],
   "source": [
    "from pyecharts.charts import Bar, Grid\n",
    "from pyecharts import options as opts\n",
    "#docs https://pyecharts.org/#/en-us/"
   ]
  },
  {
   "cell_type": "code",
   "execution_count": null,
   "metadata": {},
   "outputs": [],
   "source": [
    "bar = (\n",
    "    Bar(\n",
    "        init_opts=opts.InitOpts(\n",
    "            width='100%',\n",
    "            height='410px'\n",
    "        )\n",
    "    )\n",
    "    .add_xaxis(list(dj['Part  '].values))\n",
    "    .add_yaxis('Átlagos régiség',\n",
    "               [opts.BarItem(\n",
    "                   name=i[1]['Part  '],\n",
    "                   value=np.round(i[1]['Atlagos regiseg'],1),\n",
    "                   itemstyle_opts=opts.ItemStyleOpts(color=i[1]['cvalue']),\n",
    "                ) for i in dj.T.iteritems()]\n",
    "              )\n",
    "    .set_global_opts(\n",
    "        legend_opts=opts.LegendOpts(is_show=False),\n",
    "        title_opts=opts.TitleOpts(\n",
    "            title=\"Parlamenterek átlagos régisége\",\n",
    "            pos_left='center',\n",
    "            pos_top='20'\n",
    "        ),\n",
    "        xaxis_opts=opts.AxisOpts(\n",
    "            type_='category',\n",
    "            axislabel_opts =opts.LabelOpts(\n",
    "                rotate=-50,\n",
    "                font_weight='normal'\n",
    "            )\n",
    "        ),\n",
    "#         graphic_opts=[\n",
    "#                 opts.GraphicImage(\n",
    "#                     graphic_item=opts.GraphicItem(\n",
    "#                         id_=\"logo\",\n",
    "#                         right=50,\n",
    "#                         top=50,\n",
    "#                         z=-10,\n",
    "#                         bounding=\"raw\",\n",
    "#                         origin=[75, 75],\n",
    "#                     ),\n",
    "#                     graphic_imagestyle_opts=opts.GraphicImageStyleOpts(\n",
    "#                         image=\"https://szekelydata.csaladen.es/favicon.ico\",\n",
    "#                         width=25,\n",
    "#                         height=25,\n",
    "#                         opacity=0.8,\n",
    "#                     ),\n",
    "#                 )\n",
    "#             ],\n",
    "    )\n",
    "    .set_series_opts(\n",
    "        label_opts=opts.LabelOpts(\n",
    "        )\n",
    "    )\n",
    "    .render('time1e.html')\n",
    ")\n",
    "IFrame(src='time1e.html', width='98%', height=440)"
   ]
  },
  {
   "cell_type": "code",
   "execution_count": null,
   "metadata": {},
   "outputs": [],
   "source": [
    "from plotly import offline as po\n",
    "import plotly.plotly as py\n",
    "import plotly.graph_objs as go\n",
    "\n",
    "trace0 = go.Bar(\n",
    "    x=list(dj['Part  '].values),\n",
    "    y=np.round(np.array(dj['Atlagos regiseg'].values),1),\n",
    "    marker=dict(\n",
    "        color=list(dj['cvalue'].values)\n",
    "    ),\n",
    ")\n",
    "\n",
    "data = [trace0]\n",
    "\n",
    "fig = go.Figure(data=data)\n",
    "file_name='time1c.html'\n",
    "po.plot(fig, filename=file_name, auto_open=False);\n",
    "IFrame(src=file_name, width='98%', height=420)"
   ]
  },
  {
   "cell_type": "code",
   "execution_count": null,
   "metadata": {},
   "outputs": [],
   "source": [
    "de=pd.DataFrame(counts).join(g)\n",
    "de=de[de[0]>min_time1]\n",
    "dd=de.groupby('Megye ').nunique()\n",
    "de=de.groupby('Megye ').mean()\n",
    "de=np.round(de.loc[dd[dd[0]>min_dep].index]/365,1)\n",
    "de.columns=['Atlagos regiseg']\n",
    "dj=de.groupby(['Megye ']).mean().reset_index().sort_values(by='Atlagos regiseg', ascending=False)"
   ]
  },
  {
   "cell_type": "code",
   "execution_count": null,
   "metadata": {},
   "outputs": [],
   "source": [
    "ro_shape=json.loads(open('json/romania-counties.json','r').read())\n",
    "megyek=json.loads(open('C:/users/csala/Onedrive/Github/universal/ro/hun_megyek.json','r').read())\n",
    "megye_map={}\n",
    "for i,di in enumerate(ro_shape['objects']['ROU_adm1']['geometries']):\n",
    "    if (di['properties']['VARNAME_1']):\n",
    "        megye_map[i]=di['properties']['VARNAME_1']\n",
    "    else:\n",
    "        megye_map[i]=di['properties']['NAME_1']\n",
    "megye_map={megyek[megye_map[i]]:i for i in megye_map}\n",
    "dj['id']=[megye_map[i]  if i in megye_map else -1 for i in dj['Megye '].str.split(' ').str[1].values]\n",
    "open('json/megye_map.json','w').write(json.dumps(list(dj.T.to_dict().values())))"
   ]
  },
  {
   "cell_type": "code",
   "execution_count": null,
   "metadata": {},
   "outputs": [],
   "source": [
    "sample_data = list(de.reset_index().T.to_dict().values())\n",
    "scplot = BarPlot(\n",
    "    x='Megye ', \n",
    "    y={'value':'Atlagos regiseg','label':'Atlagos regiseg (ev)'}, \n",
    "    id='Megye ', \n",
    "    aggs={'Atlagos regiseg':'mean'},\n",
    "    text=' ', \n",
    "#     color='cvalue', \n",
    "    order={'value':'Atlagos regiseg','sort':'desc'},\n",
    "#     tooltip=['Part '], \n",
    "    legend=False, \n",
    "    width='100%',    \n",
    ")\n",
    "scplot.draw(sample_data)\n",
    "scplot.height='100%'\n",
    "open('time2.html','w').write(scplot.dump_html(sample_data))"
   ]
  },
  {
   "cell_type": "code",
   "execution_count": null,
   "metadata": {},
   "outputs": [],
   "source": [
    "bar = (\n",
    "    Bar(\n",
    "        init_opts=opts.InitOpts(\n",
    "            width='100%',\n",
    "            height='410px'\n",
    "        )\n",
    "    )\n",
    "    .add_xaxis(list(dj['Megye '].values))\n",
    "    .add_yaxis('Átlagos régiség',\n",
    "               [opts.BarItem(\n",
    "                   name=i[1]['Megye '],\n",
    "                   value=np.round(i[1]['Atlagos regiseg'],1),\n",
    "                   itemstyle_opts=opts.ItemStyleOpts(color=szd_color),\n",
    "                ) for i in dj.T.iteritems()]\n",
    "              )\n",
    "    .set_global_opts(\n",
    "        legend_opts=opts.LegendOpts(is_show=False),\n",
    "        xaxis_opts=opts.AxisOpts(\n",
    "            type_='category',\n",
    "            axislabel_opts =opts.LabelOpts(\n",
    "                rotate=-90,\n",
    "                font_weight='normal'\n",
    "            ),\n",
    "#             offset=0\n",
    "            \n",
    "        ),\n",
    "#         graphic_opts=[\n",
    "#                 opts.GraphicImage(\n",
    "#                     graphic_item=opts.GraphicItem(\n",
    "#                         id_=\"logo\",\n",
    "#                         right=50,\n",
    "#                         top=50,\n",
    "#                         z=-10,\n",
    "#                         bounding=\"raw\",\n",
    "#                         origin=[75, 75],\n",
    "#                     ),\n",
    "#                     graphic_imagestyle_opts=opts.GraphicImageStyleOpts(\n",
    "#                         image=\"https://szekelydata.csaladen.es/favicon.ico\",\n",
    "#                         width=25,\n",
    "#                         height=25,\n",
    "#                         opacity=0.8,\n",
    "#                     ),\n",
    "#                 )\n",
    "#             ],\n",
    "    )\n",
    "    .set_series_opts(\n",
    "        label_opts=opts.LabelOpts(\n",
    "        )\n",
    "    )\n",
    "    .render('time2e.html')\n",
    ")\n",
    "IFrame(src='time2e.html', width='98%', height=440)"
   ]
  },
  {
   "cell_type": "code",
   "execution_count": null,
   "metadata": {},
   "outputs": [],
   "source": [
    "from plotly import offline as po\n",
    "import plotly.plotly as py\n",
    "import plotly.graph_objs as go\n",
    "\n",
    "trace0 = go.Bar(\n",
    "    x=list(dj['Megye '].values),\n",
    "    y=np.round(np.array(dj['Atlagos regiseg'].values),1)\n",
    ")\n",
    "\n",
    "data = [trace0]\n",
    "\n",
    "fig = go.Figure(data=data)\n",
    "file_name='time2c.html'\n",
    "po.plot(fig, filename=file_name, auto_open=False);\n",
    "IFrame(src=file_name, width='98%', height=420)"
   ]
  },
  {
   "cell_type": "code",
   "execution_count": null,
   "metadata": {},
   "outputs": [],
   "source": [
    "de=pd.DataFrame(counts2).join(p).join(d)\n",
    "de=de.reset_index()\n",
    "de=de[[str(i)=='nan' for i in list(de['v'].values)]] #keep only alive ones\n",
    "de['szul']=de['index'].str.split('|').str[1].str.strip()\n",
    "de=de[[str(i)!='Ismeretlen' for i in list(de['szul'].values)]] #keep only known birth dates\n",
    "de['Eletkor']=(pd.to_datetime(de[0])-pd.to_datetime(de['szul'])).dt.days/365\n",
    "dd=de.groupby('Part ').nunique()\n",
    "de=de.groupby('Part ').mean()[['Eletkor']]\n",
    "de=np.round(de.loc[dd[dd[0]>min_dep].index],0)\n",
    "de.columns=['Atlagos eletkor']\n",
    "de=de.join(p.set_index('Part ').drop_duplicates())\n",
    "dj=de.groupby(['Part  ','cvalue']).mean().reset_index().sort_values(by='Atlagos eletkor', ascending=False)"
   ]
  },
  {
   "cell_type": "code",
   "execution_count": null,
   "metadata": {},
   "outputs": [],
   "source": [
    "sample_data = list(de.reset_index().T.to_dict().values())\n",
    "scplot = BarPlot(\n",
    "    x='Part  ', \n",
    "    y='Atlagos eletkor', \n",
    "    id='Part  ', \n",
    "    aggs={'Atlagos eletkor':'mean'},\n",
    "   text=' ', \n",
    "    color='cvalue', \n",
    "    order={'value':'Atlagos eletkor','sort':'desc'},\n",
    "    tooltip=['Part '], \n",
    "    legend=False, \n",
    "    width='100%', \n",
    ")\n",
    "scplot.draw(sample_data)\n",
    "scplot.height='100%'\n",
    "open('time3.html','w').write(scplot.dump_html(sample_data))"
   ]
  },
  {
   "cell_type": "code",
   "execution_count": null,
   "metadata": {},
   "outputs": [],
   "source": [
    "from plotly import offline as po\n",
    "import plotly.plotly as py\n",
    "import plotly.graph_objs as go\n",
    "\n",
    "trace0 = go.Bar(\n",
    "    x=list(dj['Part  '].values),\n",
    "    y=np.round(np.array(dj['Atlagos eletkor'].values),0),\n",
    "    marker=dict(\n",
    "        color=list(dj['cvalue'].values)\n",
    "    ),\n",
    ")\n",
    "\n",
    "data = [trace0]\n",
    "\n",
    "fig = go.Figure(data=data)\n",
    "file_name='time3c.html'\n",
    "po.plot(fig, filename=file_name, auto_open=False);\n",
    "IFrame(src=file_name, width='98%', height=420)"
   ]
  },
  {
   "cell_type": "code",
   "execution_count": null,
   "metadata": {},
   "outputs": [],
   "source": [
    "de=pd.DataFrame(counts2).join(g).join(d)\n",
    "de=de.reset_index()\n",
    "de=de[[str(i)=='nan' for i in list(de['v'].values)]] #keep only alive ones\n",
    "de['szul']=de['index'].str.split('|').str[1].str.strip()\n",
    "de=de[[str(i)!='Ismeretlen' for i in list(de['szul'].values)]] #keep only known birth dates\n",
    "de['Eletkor']=(pd.to_datetime(de[0])-pd.to_datetime(de['szul'])).dt.days/365\n",
    "dd=de.groupby('Megye ').nunique()\n",
    "de=de.groupby('Megye ').mean()[['Eletkor']]\n",
    "de=np.round(de.loc[dd[dd[0]>min_dep].index],0)\n",
    "de.columns=['Atlagos eletkor']\n",
    "dj=de.groupby(['Megye ']).mean().reset_index().sort_values(by='Atlagos eletkor', ascending=False)"
   ]
  },
  {
   "cell_type": "code",
   "execution_count": null,
   "metadata": {},
   "outputs": [],
   "source": [
    "ro_shape=json.loads(open('json/romania-counties.json','r').read())\n",
    "megyek=json.loads(open('C:/users/csala/Onedrive/Github/universal/ro/hun_megyek.json','r').read())\n",
    "megye_map={}\n",
    "for i,di in enumerate(ro_shape['objects']['ROU_adm1']['geometries']):\n",
    "    if (di['properties']['VARNAME_1']):\n",
    "        megye_map[i]=di['properties']['VARNAME_1']\n",
    "    else:\n",
    "        megye_map[i]=di['properties']['NAME_1']\n",
    "megye_map={megyek[megye_map[i]]:i for i in megye_map}\n",
    "dj['id']=[megye_map[i]  if i in megye_map else -1 for i in dj['Megye '].str.split(' ').str[1].values]\n",
    "open('json/megye_map2.json','w').write(json.dumps(list(dj.T.to_dict().values())))"
   ]
  },
  {
   "cell_type": "code",
   "execution_count": null,
   "metadata": {},
   "outputs": [],
   "source": [
    "sample_data = list(de.reset_index().T.to_dict().values())\n",
    "scplot = BarPlot(\n",
    "    x='Megye ', \n",
    "    y='Atlagos eletkor', \n",
    "    id='Megye ', \n",
    "    aggs={'Atlagos eletkor':'mean'},\n",
    "    text=' ', \n",
    "#     color='cvalue', \n",
    "    order={'value':'Atlagos eletkor','sort':'desc'},\n",
    "#     tooltip=['Part '], \n",
    "    legend=False, \n",
    "    width='100%',    \n",
    ")\n",
    "scplot.draw(sample_data)\n",
    "scplot.height='100%'\n",
    "open('time4.html','w').write(scplot.dump_html(sample_data))"
   ]
  },
  {
   "cell_type": "code",
   "execution_count": null,
   "metadata": {},
   "outputs": [],
   "source": [
    "from plotly import offline as po\n",
    "import plotly.plotly as py\n",
    "import plotly.graph_objs as go\n",
    "\n",
    "trace0 = go.Bar(\n",
    "    x=list(dj['Megye '].values),\n",
    "    y=np.round(np.array(dj['Atlagos eletkor'].values),0)\n",
    ")\n",
    "\n",
    "data = [trace0]\n",
    "\n",
    "fig = go.Figure(data=data)\n",
    "file_name='time4c.html'\n",
    "po.plot(fig, filename=file_name, auto_open=False);\n",
    "IFrame(src=file_name, width='98%', height=420)"
   ]
  },
  {
   "cell_type": "markdown",
   "metadata": {},
   "source": [
    "Fusions"
   ]
  },
  {
   "cell_type": "code",
   "execution_count": null,
   "metadata": {},
   "outputs": [],
   "source": [
    "switches={}\n",
    "fusions={}\n",
    "for k,i in enumerate(m):\n",
    "    if k%1000==0: print(k/len(m)*100,'%')\n",
    "    name=i['Simple']\n",
    "    if i['Típus'] in ['Megye','Párt']:\n",
    "        for t in pd.date_range(i['start'],i['end']):\n",
    "            st=str(t)[:10]\n",
    "            if name not in switches:switches[name]={}\n",
    "            if i['Típus']not in switches[name]:switches[name][i['Típus']]={'count':0,'current':i['Csoportok']}\n",
    "            if switches[name][i['Típus']]['current']!=i['Csoportok']:\n",
    "                p1=i['Csoportok']\n",
    "                p2=switches[name][i['Típus']]['current']\n",
    "                if i['Típus'] not in fusions:fusions[i['Típus']]={}\n",
    "                if p1 not in fusions[i['Típus']]:fusions[i['Típus']][p1]={}\n",
    "                if p2 not in fusions[i['Típus']][p1]:fusions[i['Típus']][p1][p2]=0\n",
    "                fusions[i['Típus']][p1][p2]+=1\n",
    "                switches[name][i['Típus']]['current']=str(i['Csoportok'])\n",
    "                switches[name][i['Típus']]['count']+=1"
   ]
  },
  {
   "cell_type": "code",
   "execution_count": null,
   "metadata": {},
   "outputs": [],
   "source": [
    "def get_sub(dz,x,k=1):\n",
    "    part=dz.T[x].sort_values(ascending=False)\n",
    "    print(part.mean())\n",
    "    print(part.head(5))\n",
    "    df=pd.DataFrame(part).join(pd.DataFrame(counts)).join(s)\n",
    "    df['a']=df[x]/(df[0]/k)\n",
    "    df=df.replace([np.inf, -np.inf], np.nan)\n",
    "    df=df[df[0]>min_time] #remove outliers\n",
    "    part=df.sort_values(by='a',ascending=False)[['a','s','w']]\n",
    "    return part"
   ]
  },
  {
   "cell_type": "code",
   "execution_count": null,
   "metadata": {},
   "outputs": [],
   "source": [
    "dw=pd.DataFrame({i:{j:switches[i][j]['count'] for j in switches[i]} for i in switches})\n",
    "part=get_sub(dw,'Párt',365)\n",
    "megye=get_sub(dw,'Megye',365)"
   ]
  },
  {
   "cell_type": "code",
   "execution_count": null,
   "metadata": {},
   "outputs": [],
   "source": [
    "top=15\n",
    "fig,axes=plt.subplots(1,2,figsize=(11,3))\n",
    "to_plot=part.set_index('s')['a']\n",
    "ax=axes[0]\n",
    "print(to_plot.mean())\n",
    "ax=to_plot.head(top).plot(kind='bar',ax=ax,color=szd_color)\n",
    "ax.set_xlabel(\"\")\n",
    "ax.set_ylabel(\"Pártváltás / év\")\n",
    "to_plot=megye.set_index('s')['a']\n",
    "ax=axes[1]\n",
    "print(to_plot.mean())\n",
    "to_plot.head(top).plot(kind='bar',ax=ax,color=szd_color)\n",
    "ax.set_xlabel(\"\")\n",
    "ax.set_ylabel(\"Megyeváltás / év\")\n",
    "plt.savefig('fig/valtas.png',bbox_inches='tight',transparent=True)\n",
    "plt.show()"
   ]
  },
  {
   "cell_type": "markdown",
   "metadata": {},
   "source": [
    "Fusions"
   ]
  },
  {
   "cell_type": "code",
   "execution_count": null,
   "metadata": {},
   "outputs": [],
   "source": [
    "fusions['part']=fusions['Párt']\n",
    "fusions.pop('Párt');\n",
    "open('json/fusions.json','w').write(json.dumps(fusions))"
   ]
  },
  {
   "cell_type": "code",
   "execution_count": null,
   "metadata": {},
   "outputs": [],
   "source": [
    "switches2={}\n",
    "fusions2={}\n",
    "for k,i in enumerate(m):\n",
    "    if k%1000==0: print(k/len(m)*100,'%')\n",
    "    name=i['Simple']\n",
    "    if i['Típus'] in ['Párt']:\n",
    "        if not ((i['Típus']=='Párt')and(i['Csoportok']=='👤 Independent - Independent')):        \n",
    "            for t in pd.date_range(i['start'],i['end']):\n",
    "                st=str(t)[:10]\n",
    "                if name not in switches2:switches2[name]={}\n",
    "                if i['Típus']not in switches2[name]:switches2[name][i['Típus']]={'count':0,'current':i['Csoportok']}\n",
    "                if switches2[name][i['Típus']]['current']!=i['Csoportok']:\n",
    "                    p1=i['Csoportok']\n",
    "                    p2=switches2[name][i['Típus']]['current']\n",
    "                    if i['Típus'] not in fusions2:fusions2[i['Típus']]={}\n",
    "                    if p1 not in fusions2[i['Típus']]:fusions2[i['Típus']][p1]={}\n",
    "                    if p2 not in fusions2[i['Típus']][p1]:fusions2[i['Típus']][p1][p2]=0\n",
    "                    fusions2[i['Típus']][p1][p2]+=1\n",
    "                    switches2[name][i['Típus']]['current']=str(i['Csoportok'])\n",
    "                    switches2[name][i['Típus']]['count']+=1"
   ]
  },
  {
   "cell_type": "code",
   "execution_count": null,
   "metadata": {},
   "outputs": [],
   "source": [
    "fusions2['part']=fusions2['Párt']\n",
    "fusions2.pop('Párt');\n",
    "open('json/fusions2.json','w').write(json.dumps(fusions2))"
   ]
  },
  {
   "cell_type": "markdown",
   "metadata": {},
   "source": [
    "Orszag"
   ]
  },
  {
   "cell_type": "code",
   "execution_count": null,
   "metadata": {},
   "outputs": [],
   "source": [
    "countries={}\n",
    "for k,i in enumerate(m):\n",
    "    if k%1000==0: print(k/len(m)*100,'%')\n",
    "    name=i['Simple']\n",
    "    if i['Típus'] in ['Ország','Bizottság']:\n",
    "        for t in pd.date_range(i['start'],i['end']):\n",
    "            st=str(t)[:10]\n",
    "            if name not in countries:countries[name]={}\n",
    "            if i['Típus'] not in countries[name]:countries[name][i['Típus']]={}\n",
    "            if i['Csoportok'] not in countries[name][i['Típus']]:countries[name][i['Típus']][i['Csoportok']]=0\n",
    "            countries[name][i['Típus']][i['Csoportok']]+=1"
   ]
  },
  {
   "cell_type": "code",
   "execution_count": null,
   "metadata": {},
   "outputs": [],
   "source": [
    "dz=pd.DataFrame({i:{j:sum(countries[i][j].values()) for j in countries[i]} for i in countries}).fillna(0)\n",
    "dz2=pd.DataFrame({i:{j:len(countries[i][j].values()) for j in countries[i]} for i in countries}).fillna(0)"
   ]
  },
  {
   "cell_type": "code",
   "execution_count": null,
   "metadata": {},
   "outputs": [],
   "source": [
    "orsz1=get_sub(dz2,'Ország')\n",
    "biz1=get_sub(dz2,'Bizottság')"
   ]
  },
  {
   "cell_type": "code",
   "execution_count": null,
   "metadata": {},
   "outputs": [],
   "source": [
    "orsz2=get_sub(dz,'Ország')\n",
    "biz2=get_sub(dz,'Bizottság')"
   ]
  },
  {
   "cell_type": "code",
   "execution_count": null,
   "metadata": {},
   "outputs": [],
   "source": [
    "top=15\n",
    "fig,axes=plt.subplots(1,2,figsize=(11,3))\n",
    "to_plot=orsz2.set_index('s')['a']\n",
    "ax=axes[0]\n",
    "print(to_plot.mean())\n",
    "to_plot.head(top).plot(kind='bar',ax=ax,color=szd_color)\n",
    "ax.set_xlabel(\"\")\n",
    "ax.set_ylabel(\"Ország-barátság-csoport / év\")\n",
    "to_plot=biz2.set_index('s')['a']\n",
    "ax=axes[1]\n",
    "print(to_plot.mean())\n",
    "to_plot.head(top).plot(kind='bar',ax=ax,color=szd_color)\n",
    "ax.set_xlabel(\"\")\n",
    "ax.set_ylabel(\"Bizottság / év\")\n",
    "plt.savefig('fig/valtas2.png',bbox_inches='tight',transparent=True)\n",
    "plt.show()"
   ]
  },
  {
   "cell_type": "markdown",
   "metadata": {},
   "source": [
    "Scatter"
   ]
  },
  {
   "cell_type": "code",
   "execution_count": null,
   "metadata": {},
   "outputs": [],
   "source": [
    "part2=pd.DataFrame(part[['a','w','s']])\n",
    "part2.columns=['Part','Nev','Nev2']\n",
    "megye2=pd.DataFrame(megye['a'])\n",
    "megye2.columns=['Megye']\n",
    "sc1=part2.join(megye2).join(p).join(g).join(pd.DataFrame(counts/365,columns=['Evek']))"
   ]
  },
  {
   "cell_type": "code",
   "execution_count": null,
   "metadata": {},
   "outputs": [],
   "source": [
    "orsz3=pd.DataFrame(orsz2[['a','w','s']])\n",
    "orsz3.columns=['Orszag','Nev','Nev2']\n",
    "biz3=pd.DataFrame(biz2[['a']])\n",
    "biz3.columns=['Bizottsag']\n",
    "sc2=orsz3.join(biz3).join(p).join(g).join(pd.DataFrame(counts/365,columns=['Evek']))"
   ]
  },
  {
   "cell_type": "code",
   "execution_count": null,
   "metadata": {},
   "outputs": [],
   "source": [
    "fig,axes=plt.subplots(1,2,figsize=(9,4))\n",
    "ax=axes[0]\n",
    "sc1.plot(x='Part',y='Megye',kind='scatter',ax=ax,color=szd_color)\n",
    "ax.set_xlabel('Pártváltás / év')\n",
    "ax.set_ylabel('Megyeváltás / év')\n",
    "ax=axes[1]\n",
    "sc2.plot(x='Orszag',y='Bizottsag',kind='scatter',ax=ax,color=szd_color)\n",
    "ax.set_xlabel('Ország-barátság-csoport / év')\n",
    "ax.set_ylabel('Bizottság / év')\n",
    "plt.savefig('fig/valtas3.png',bbox_inches='tight',transparent=True)\n",
    "plt.show()"
   ]
  },
  {
   "cell_type": "code",
   "execution_count": null,
   "metadata": {},
   "outputs": [],
   "source": [
    "sample_data = list(sc1.reset_index().T.to_dict().values())\n",
    "scplot = ScatterPlot(x={'value':'Part','label':'Partvaltas / ev'}, \n",
    "                     y={'value':'Megye','label':'Megyevaltas / ev'}, id='index', \n",
    "                     text='Nev', \n",
    "                     color='cvalue', \n",
    "#                      order={'value':'Evek','sort':'asc'},\n",
    "                     tooltip=['Nev2', 'Part  ','Megye '], \n",
    "                     legend=False, width='100%', size='Evek')\n",
    "scplot.draw(sample_data)\n",
    "open('scatter1b.html','w').write(scplot.dump_html(sample_data))"
   ]
  },
  {
   "cell_type": "code",
   "execution_count": null,
   "metadata": {},
   "outputs": [],
   "source": [
    "sample_data = list(sc2.reset_index().T.to_dict().values())\n",
    "scplot = ScatterPlot(x={'value':'Orszag','label':'Orszag-baratsag-csoport'}, \n",
    "                     y={'value':'Bizottsag','label':'Bizottsag'}, id='index', \n",
    "                     text='Nev', \n",
    "                     color='cvalue',  \n",
    "#                      order={'value':'Evek','sort':'asc'},\n",
    "                     tooltip=['Nev2', 'Part  ','Megye '], \n",
    "                     legend=False, width='100%', size='Evek')\n",
    "scplot.draw(sample_data)\n",
    "open('scatter2b.html','w').write(scplot.dump_html(sample_data))"
   ]
  }
 ],
 "metadata": {
  "kernelspec": {
   "display_name": "Python 3",
   "language": "python",
   "name": "python3"
  },
  "language_info": {
   "codemirror_mode": {
    "name": "ipython",
    "version": 3
   },
   "file_extension": ".py",
   "mimetype": "text/x-python",
   "name": "python",
   "nbconvert_exporter": "python",
   "pygments_lexer": "ipython3",
   "version": "3.6.7"
  },
  "toc": {
   "base_numbering": 1,
   "nav_menu": {},
   "number_sections": true,
   "sideBar": true,
   "skip_h1_title": false,
   "title_cell": "Table of Contents",
   "title_sidebar": "Contents",
   "toc_cell": false,
   "toc_position": {},
   "toc_section_display": true,
   "toc_window_display": false
  }
 },
 "nbformat": 4,
 "nbformat_minor": 2
}
