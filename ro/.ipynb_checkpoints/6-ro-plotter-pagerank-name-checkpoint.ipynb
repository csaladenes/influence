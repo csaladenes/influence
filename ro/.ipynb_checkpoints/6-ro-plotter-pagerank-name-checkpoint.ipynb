{
 "cells": [
  {
   "cell_type": "code",
   "execution_count": 8,
   "metadata": {
    "ExecuteTime": {
     "end_time": "2019-03-07T02:56:32.521682Z",
     "start_time": "2019-03-07T02:56:26.288106Z"
    }
   },
   "outputs": [],
   "source": [
    "import pandas as pd, numpy as np, json, os"
   ]
  },
  {
   "cell_type": "code",
   "execution_count": 9,
   "metadata": {},
   "outputs": [],
   "source": [
    "m=json.loads(open('json/member_timelines.json','r').read())"
   ]
  },
  {
   "cell_type": "code",
   "execution_count": 10,
   "metadata": {},
   "outputs": [
    {
     "name": "stdout",
     "output_type": "stream",
     "text": [
      "0.0 %\n",
      "3.289040915668991 %\n",
      "6.578081831337982 %\n",
      "9.867122747006974 %\n",
      "13.156163662675963 %\n",
      "16.445204578344956 %\n",
      "19.734245494013948 %\n",
      "23.023286409682935 %\n",
      "26.312327325351927 %\n",
      "29.60136824102092 %\n",
      "32.89040915668991 %\n",
      "36.1794500723589 %\n",
      "39.468490988027895 %\n",
      "42.75753190369688 %\n",
      "46.04657281936587 %\n",
      "49.33561373503486 %\n",
      "52.62465465070385 %\n",
      "55.913695566372844 %\n",
      "59.20273648204184 %\n",
      "62.49177739771083 %\n",
      "65.78081831337983 %\n",
      "69.06985922904882 %\n",
      "72.3589001447178 %\n",
      "75.64794106038678 %\n",
      "78.93698197605579 %\n",
      "82.22602289172477 %\n",
      "85.51506380739376 %\n",
      "88.80410472306276 %\n",
      "92.09314563873174 %\n",
      "95.38218655440073 %\n",
      "98.67122747006972 %\n"
     ]
    }
   ],
   "source": [
    "data={'Ország':{},'Bizottság':{},'Párt':{}}\n",
    "attention={}\n",
    "for k,i in enumerate(m):\n",
    "    if k%1000==0: print(k/len(m)*100,'%')\n",
    "    if i['Típus'] in list(data.keys()):\n",
    "        if i['Csoportok'] not in data[i['Típus']]:data[i['Típus']][i['Csoportok']]={}\n",
    "        for t in pd.date_range(i['start'],i['end']):\n",
    "            st=str(t)[:10]\n",
    "            if st not in data[i['Típus']][i['Csoportok']]:data[i['Típus']][i['Csoportok']][st]=set()\n",
    "            data[i['Típus']][i['Csoportok']][st].add(i['Name'])\n",
    "            \n",
    "            if i['Name'] not in attention:attention[i['Name']]={}\n",
    "            if st not in attention[i['Name']]:attention[i['Name']][st]=0\n",
    "            attention[i['Name']][st]+=1"
   ]
  },
  {
   "cell_type": "code",
   "execution_count": 339,
   "metadata": {},
   "outputs": [],
   "source": [
    "data2=dict(data)\n",
    "for tipus in data:\n",
    "    for csoport in data[tipus]:\n",
    "        for t in data[tipus][csoport]:\n",
    "            data2[tipus][csoport][t]=list(data[tipus][csoport][t])"
   ]
  },
  {
   "cell_type": "code",
   "execution_count": 340,
   "metadata": {},
   "outputs": [
    {
     "data": {
      "text/plain": [
       "536767417"
      ]
     },
     "execution_count": 340,
     "metadata": {},
     "output_type": "execute_result"
    }
   ],
   "source": [
    "#save\n",
    "open('E:/Onedrive - Lancaster University/datarepo/influence/ro/data/member_pairs.json','w').write(json.dumps(data2))"
   ]
  },
  {
   "cell_type": "code",
   "execution_count": 2,
   "metadata": {},
   "outputs": [],
   "source": [
    "#load\n",
    "# data=json.loads(open('E:/Onedrive - Lancaster University/datarepo/influence/ro/data/member_pairs.json','r').read())\n",
    "data=json.loads(open('C:/Users/csala/Onedrive - Lancaster University/datarepo/influence/ro/data/member_pairs.json','r').read())"
   ]
  },
  {
   "cell_type": "code",
   "execution_count": null,
   "metadata": {},
   "outputs": [],
   "source": [
    "network={}\n",
    "tnetwork={}\n",
    "weights={'Ország':2,'Bizottság':3,'Párt':1}\n",
    "attention_penalty=0.5 #parameter that controls the attention penalty. larger values take the advantage from people in larger groups than their average\n",
    "group_penalty=0.5 #parameter that control the group penalty. larger values increase the large group penalty effect\n",
    "cohort_attention_penalty=0.25 #parameter that controls the cohort attention penalty. larger values take the advantage from people who are in many groups\n",
    "cohort_mean_attention=np.mean([np.mean(list(attention[name].values())) for name in attention]) #cohort mean of individual mean attentions\n",
    "for tipus in data:\n",
    "    for csoport in data[tipus]:\n",
    "        print(csoport)\n",
    "        for t in data[tipus][csoport]:\n",
    "            names=list(data[tipus][csoport][t])\n",
    "            \n",
    "            #we also track influence by year\n",
    "            #st=t[:7]\n",
    "            st=t[:4]\n",
    "            if st not in tnetwork:tnetwork[st]={}\n",
    "            \n",
    "            #more people in the group reduce your ability to make friends\n",
    "            group_size=len(names)\n",
    "            relative_group=(5/group_size)**group_penalty\n",
    "            #relative_group=np.log(5/group_size)\n",
    "            \n",
    "            #logarithmic time anneal\n",
    "            #anneal=2-float((pd.to_datetime('2019-05-01')-pd.to_datetime(t))/(pd.to_datetime('2019-05-01')-pd.to_datetime('1990-01-01')))**0.5\n",
    "            anneal=max(0.,-np.log(float((pd.to_datetime('2019-05-01')-pd.to_datetime(t))/(pd.to_datetime('2019-05-01')-pd.to_datetime('1989-01-01')))))\n",
    "            for r in range(len(names)):\n",
    "                name=names[r]\n",
    "                \n",
    "                #the more gorups you are in the less likely you are able to pay attention\n",
    "                #but of course everybody has a different basic attention level, and basic socialization level, number of assistents, etc.\n",
    "                #so we take the relative situation of the current number of groups versus usually the person is in how many groups\n",
    "                #we call this relative attention\n",
    "                mean_attention=np.mean(list(attention[name].values()))\n",
    "                relative_attention=(mean_attention/attention[name][t])**attention_penalty\n",
    "                #relative_attention=np.log(mean_attention/attention[name][t])\n",
    "                \n",
    "                #one could argue to normalize for this inside the cohort, but a larger team might actually mean an extention of the influence, so we chose a weak effect\n",
    "                cohort_relative_attention=(cohort_mean_attention/mean_attention)**cohort_attention_penalty\n",
    "                #cohort_relative_attention=np.log(cohort_mean_attention/mean_attention)\n",
    "                \n",
    "                if name not in network: network[name]={}\n",
    "                if name not in tnetwork[st]: tnetwork[st][name]={}\n",
    "                \n",
    "                #asymmetric network\n",
    "                for p in range(len(names)):\n",
    "                    name2=names[p]\n",
    "                    if name!=name2:\n",
    "                        v=weights[tipus]*anneal*relative_group*relative_attention*cohort_relative_attention\n",
    "                        if name2 not in network[name]: network[name][name2]=0\n",
    "                        network[name][name2]+=v\n",
    "                        if name2 not in tnetwork[st][name]: tnetwork[st][name][name2]=0\n",
    "                        tnetwork[st][name][name2]+=v"
   ]
  },
  {
   "cell_type": "code",
   "execution_count": 233,
   "metadata": {},
   "outputs": [
    {
     "data": {
      "text/plain": [
       "46850855"
      ]
     },
     "execution_count": 233,
     "metadata": {},
     "output_type": "execute_result"
    }
   ],
   "source": [
    "open('C:/Users/csala/Onedrive - Lancaster University/datarepo/influence/ro/data/member_pagerank_raw_log.json','w').write(json.dumps(network))"
   ]
  },
  {
   "cell_type": "code",
   "execution_count": null,
   "metadata": {},
   "outputs": [],
   "source": [
    "#load\n",
    "#network=json.loads(open('C:/Users/csala/Onedrive - Lancaster University/datarepo/influence/ro/data/member_pagerank_raw_log.json','r').read())"
   ]
  },
  {
   "cell_type": "code",
   "execution_count": 234,
   "metadata": {},
   "outputs": [
    {
     "data": {
      "text/plain": [
       "173735510"
      ]
     },
     "execution_count": 234,
     "metadata": {},
     "output_type": "execute_result"
    }
   ],
   "source": [
    "open('C:/Users/csala/Onedrive - Lancaster University/datarepo/influence/ro/data/member_pagerank_raw_log.json','w').write(json.dumps(tnetwork))"
   ]
  },
  {
   "cell_type": "markdown",
   "metadata": {},
   "source": [
    "Format for D3plus"
   ]
  },
  {
   "cell_type": "markdown",
   "metadata": {},
   "source": [
    "Normalize to fraction of all committee days spent together"
   ]
  },
  {
   "cell_type": "code",
   "execution_count": 284,
   "metadata": {},
   "outputs": [
    {
     "data": {
      "text/plain": [
       "dict_keys(['2012', '2013', '2014', '2015', '1990', '1991', '1992', '2010', '1997', '1998', '1999', '2000', '2001', '2002', '2003', '2004', '2016', '2017', '2018', '2019', '2008', '2009', '2005', '2006', '2007', '2011', '1996', '1993', '1994', '1995'])"
      ]
     },
     "execution_count": 284,
     "metadata": {},
     "output_type": "execute_result"
    }
   ],
   "source": [
    "network.keys()"
   ]
  },
  {
   "cell_type": "code",
   "execution_count": 283,
   "metadata": {},
   "outputs": [
    {
     "name": "stdout",
     "output_type": "stream",
     "text": [
      "0.0 %\n"
     ]
    },
    {
     "ename": "TypeError",
     "evalue": "unsupported operand type(s) for +: 'dict' and 'dict'",
     "output_type": "error",
     "traceback": [
      "\u001b[1;31m---------------------------------------------------------------------------\u001b[0m",
      "\u001b[1;31mTypeError\u001b[0m                                 Traceback (most recent call last)",
      "\u001b[1;32m<ipython-input-283-cbae75cd01e2>\u001b[0m in \u001b[0;36m<module>\u001b[1;34m\u001b[0m\n\u001b[0;32m      5\u001b[0m     \u001b[1;32mfor\u001b[0m \u001b[0mname2\u001b[0m \u001b[1;32min\u001b[0m \u001b[0mnetwork\u001b[0m\u001b[1;33m[\u001b[0m\u001b[0mname\u001b[0m\u001b[1;33m]\u001b[0m\u001b[1;33m:\u001b[0m\u001b[1;33m\u001b[0m\u001b[1;33m\u001b[0m\u001b[0m\n\u001b[0;32m      6\u001b[0m         \u001b[1;32mif\u001b[0m \u001b[0mname\u001b[0m\u001b[1;33m!=\u001b[0m\u001b[0mname2\u001b[0m\u001b[1;33m:\u001b[0m\u001b[1;33m\u001b[0m\u001b[1;33m\u001b[0m\u001b[0m\n\u001b[1;32m----> 7\u001b[1;33m             \u001b[0mratio\u001b[0m\u001b[1;33m=\u001b[0m\u001b[0mnetwork\u001b[0m\u001b[1;33m[\u001b[0m\u001b[0mname\u001b[0m\u001b[1;33m]\u001b[0m\u001b[1;33m[\u001b[0m\u001b[0mname2\u001b[0m\u001b[1;33m]\u001b[0m\u001b[1;33m/\u001b[0m\u001b[0mnp\u001b[0m\u001b[1;33m.\u001b[0m\u001b[0mmean\u001b[0m\u001b[1;33m(\u001b[0m\u001b[0mlist\u001b[0m\u001b[1;33m(\u001b[0m\u001b[0mnetwork\u001b[0m\u001b[1;33m[\u001b[0m\u001b[0mname\u001b[0m\u001b[1;33m]\u001b[0m\u001b[1;33m.\u001b[0m\u001b[0mvalues\u001b[0m\u001b[1;33m(\u001b[0m\u001b[1;33m)\u001b[0m\u001b[1;33m)\u001b[0m\u001b[1;33m)\u001b[0m\u001b[1;33m\u001b[0m\u001b[1;33m\u001b[0m\u001b[0m\n\u001b[0m\u001b[0;32m      8\u001b[0m \u001b[1;33m\u001b[0m\u001b[0m\n\u001b[0;32m      9\u001b[0m             \u001b[1;32mif\u001b[0m \u001b[0mname\u001b[0m \u001b[1;32mnot\u001b[0m \u001b[1;32min\u001b[0m \u001b[0mmembers_dict\u001b[0m\u001b[1;33m:\u001b[0m\u001b[0mmembers_dict\u001b[0m\u001b[1;33m[\u001b[0m\u001b[0mname\u001b[0m\u001b[1;33m]\u001b[0m\u001b[1;33m=\u001b[0m\u001b[1;33m{\u001b[0m\u001b[1;33m}\u001b[0m\u001b[1;33m\u001b[0m\u001b[1;33m\u001b[0m\u001b[0m\n",
      "\u001b[1;32mC:\\ProgramData\\Anaconda3\\lib\\site-packages\\numpy\\core\\fromnumeric.py\u001b[0m in \u001b[0;36mmean\u001b[1;34m(a, axis, dtype, out, keepdims)\u001b[0m\n\u001b[0;32m   3116\u001b[0m \u001b[1;33m\u001b[0m\u001b[0m\n\u001b[0;32m   3117\u001b[0m     return _methods._mean(a, axis=axis, dtype=dtype,\n\u001b[1;32m-> 3118\u001b[1;33m                           out=out, **kwargs)\n\u001b[0m\u001b[0;32m   3119\u001b[0m \u001b[1;33m\u001b[0m\u001b[0m\n\u001b[0;32m   3120\u001b[0m \u001b[1;33m\u001b[0m\u001b[0m\n",
      "\u001b[1;32mC:\\ProgramData\\Anaconda3\\lib\\site-packages\\numpy\\core\\_methods.py\u001b[0m in \u001b[0;36m_mean\u001b[1;34m(a, axis, dtype, out, keepdims)\u001b[0m\n\u001b[0;32m     73\u001b[0m             \u001b[0mis_float16_result\u001b[0m \u001b[1;33m=\u001b[0m \u001b[1;32mTrue\u001b[0m\u001b[1;33m\u001b[0m\u001b[1;33m\u001b[0m\u001b[0m\n\u001b[0;32m     74\u001b[0m \u001b[1;33m\u001b[0m\u001b[0m\n\u001b[1;32m---> 75\u001b[1;33m     \u001b[0mret\u001b[0m \u001b[1;33m=\u001b[0m \u001b[0mumr_sum\u001b[0m\u001b[1;33m(\u001b[0m\u001b[0marr\u001b[0m\u001b[1;33m,\u001b[0m \u001b[0maxis\u001b[0m\u001b[1;33m,\u001b[0m \u001b[0mdtype\u001b[0m\u001b[1;33m,\u001b[0m \u001b[0mout\u001b[0m\u001b[1;33m,\u001b[0m \u001b[0mkeepdims\u001b[0m\u001b[1;33m)\u001b[0m\u001b[1;33m\u001b[0m\u001b[1;33m\u001b[0m\u001b[0m\n\u001b[0m\u001b[0;32m     76\u001b[0m     \u001b[1;32mif\u001b[0m \u001b[0misinstance\u001b[0m\u001b[1;33m(\u001b[0m\u001b[0mret\u001b[0m\u001b[1;33m,\u001b[0m \u001b[0mmu\u001b[0m\u001b[1;33m.\u001b[0m\u001b[0mndarray\u001b[0m\u001b[1;33m)\u001b[0m\u001b[1;33m:\u001b[0m\u001b[1;33m\u001b[0m\u001b[1;33m\u001b[0m\u001b[0m\n\u001b[0;32m     77\u001b[0m         ret = um.true_divide(\n",
      "\u001b[1;31mTypeError\u001b[0m: unsupported operand type(s) for +: 'dict' and 'dict'"
     ]
    }
   ],
   "source": [
    "members_dict={}\n",
    "members_set={}\n",
    "for iname,name in enumerate(network):\n",
    "    if iname%100==0: print(iname/len(network)*100,'%')\n",
    "    for name2 in network[name]:\n",
    "        if name!=name2:\n",
    "            ratio=network[name][name2]/np.mean(list(network[name].values()))\n",
    "            \n",
    "            if name not in members_dict:members_dict[name]={}\n",
    "            members_dict[name][name2]=ratio\n",
    "            \n",
    "            nset=str(set([name,name2]))\n",
    "            if nset not in members_set:members_set[nset]=0\n",
    "            members_set[nset]+=ratio"
   ]
  },
  {
   "cell_type": "code",
   "execution_count": 279,
   "metadata": {},
   "outputs": [
    {
     "data": {
      "text/plain": [
       "(16, 35)"
      ]
     },
     "execution_count": 279,
     "metadata": {},
     "output_type": "execute_result"
    }
   ],
   "source": [
    "len(members_dict),len(members_set)"
   ]
  },
  {
   "cell_type": "code",
   "execution_count": 280,
   "metadata": {},
   "outputs": [
    {
     "name": "stdout",
     "output_type": "stream",
     "text": [
      "0.0 %\n"
     ]
    }
   ],
   "source": [
    "member_rings_normed=[]\n",
    "all_names=set()\n",
    "min_ratio=25\n",
    "for iname,name in enumerate(members_set):\n",
    "    if iname%100000==0: print(iname/len(members_set)*100,'%')\n",
    "    names=[i.strip() for i in name.replace('{','').replace('}','').replace(\"'\",'').split(',')]\n",
    "    ratio=members_set[name]\n",
    "    if ratio>min_ratio:\n",
    "        all_names.add(names[0])\n",
    "        all_names.add(names[1])\n",
    "        member_rings_normed.append({'source':names[0],'target':names[1],'ratio':ratio})"
   ]
  },
  {
   "cell_type": "code",
   "execution_count": 281,
   "metadata": {},
   "outputs": [
    {
     "name": "stdout",
     "output_type": "stream",
     "text": [
      "0\n"
     ]
    }
   ],
   "source": [
    "print(len(member_rings_normed))"
   ]
  },
  {
   "cell_type": "code",
   "execution_count": 266,
   "metadata": {},
   "outputs": [],
   "source": [
    "#add lone nodes\n",
    "member_rings_normed3=member_rings_normed+[{'source':i,'target':'Nincsenek erős kapcsolatok '+i,'ratio':1} for i in network if i not in all_names]"
   ]
  },
  {
   "cell_type": "markdown",
   "metadata": {},
   "source": [
    "Network analysis"
   ]
  },
  {
   "cell_type": "code",
   "execution_count": 267,
   "metadata": {},
   "outputs": [],
   "source": [
    "import networkx as nx"
   ]
  },
  {
   "cell_type": "code",
   "execution_count": 272,
   "metadata": {},
   "outputs": [],
   "source": [
    "# G=nx.Graph(members_dict) \n",
    "#G=nx.Graph(network) \n",
    "G = nx.Graph(pd.DataFrame(member_rings_normed3), source='source', target='target') \n",
    "pr = nx.pagerank(G)\n",
    "sorted_pr = sorted(pr.items(), key=lambda kv: kv[1], reverse=True)\n",
    "member_rings_nodes={i[0]:i[1] for i in sorted_pr}\n",
    "member_rings_nodes={i:[{'id':'','Befolyás':member_rings_nodes[i]/np.mean(list(member_rings_nodes.values()))}] for i in member_rings_nodes}"
   ]
  },
  {
   "cell_type": "code",
   "execution_count": 269,
   "metadata": {},
   "outputs": [
    {
     "name": "stdout",
     "output_type": "stream",
     "text": [
      "2012\n",
      "2013\n",
      "2014\n",
      "2015\n",
      "1990\n",
      "1991\n",
      "1992\n",
      "2010\n",
      "1997\n",
      "1998\n",
      "1999\n",
      "2000\n",
      "2001\n",
      "2002\n",
      "2003\n",
      "2004\n",
      "2016\n",
      "2017\n",
      "2018\n",
      "2019\n",
      "2008\n",
      "2009\n",
      "2005\n",
      "2006\n",
      "2007\n",
      "2011\n",
      "1996\n",
      "1993\n",
      "1994\n",
      "1995\n"
     ]
    }
   ],
   "source": [
    "tmember_rings_nodes=[]\n",
    "for t in tnetwork:\n",
    "    print(t)\n",
    "    G=nx.Graph(tnetwork[t]) \n",
    "    pr = nx.pagerank(G)\n",
    "    sorted_pr = sorted(pr.items(), key=lambda kv: kv[1], reverse=True)\n",
    "    smember_rings_nodes={i[0]:i[1] for i in sorted_pr}\n",
    "    tmember_rings_nodes+=[{'id':i,'x':t,'y':smember_rings_nodes[i]/np.mean(list(smember_rings_nodes.values()))} for i in smember_rings_nodes]"
   ]
  },
  {
   "cell_type": "code",
   "execution_count": 270,
   "metadata": {},
   "outputs": [],
   "source": [
    "tmember_rings_dict={}\n",
    "for i in tmember_rings_nodes:\n",
    "    if i['id'] not in tmember_rings_dict:tmember_rings_dict[i['id']]=[]\n",
    "    z=dict(i)\n",
    "    z['id']='Relatív befolyás'\n",
    "    #z['x']=int(z['x'])\n",
    "    #z['x']=str(pd.to_datetime(z['x']))\n",
    "    tmember_rings_dict[i['id']].append(z)"
   ]
  },
  {
   "cell_type": "code",
   "execution_count": 273,
   "metadata": {},
   "outputs": [
    {
     "data": {
      "text/plain": [
       "2325318"
      ]
     },
     "execution_count": 273,
     "metadata": {},
     "output_type": "execute_result"
    }
   ],
   "source": [
    "open('json/member_pagerank_normed.json','w').write(json.dumps({'nodes_abs':member_rings_nodes,'nodes_t':tmember_rings_dict,'edges':member_rings_normed3}))"
   ]
  }
 ],
 "metadata": {
  "kernelspec": {
   "display_name": "Python 3",
   "language": "python",
   "name": "python3"
  },
  "language_info": {
   "codemirror_mode": {
    "name": "ipython",
    "version": 3
   },
   "file_extension": ".py",
   "mimetype": "text/x-python",
   "name": "python",
   "nbconvert_exporter": "python",
   "pygments_lexer": "ipython3",
   "version": "3.6.7"
  },
  "toc": {
   "base_numbering": 1,
   "nav_menu": {},
   "number_sections": true,
   "sideBar": true,
   "skip_h1_title": false,
   "title_cell": "Table of Contents",
   "title_sidebar": "Contents",
   "toc_cell": false,
   "toc_position": {},
   "toc_section_display": true,
   "toc_window_display": false
  }
 },
 "nbformat": 4,
 "nbformat_minor": 2
}
