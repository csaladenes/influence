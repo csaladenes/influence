{
 "cells": [
  {
   "cell_type": "code",
   "execution_count": 7,
   "metadata": {
    "ExecuteTime": {
     "end_time": "2019-03-07T02:56:32.521682Z",
     "start_time": "2019-03-07T02:56:26.288106Z"
    }
   },
   "outputs": [],
   "source": [
    "import pandas as pd, numpy as np, json"
   ]
  },
  {
   "cell_type": "code",
   "execution_count": 124,
   "metadata": {},
   "outputs": [],
   "source": [
    "base_url='http://www.cdep.ro'"
   ]
  },
  {
   "cell_type": "code",
   "execution_count": 125,
   "metadata": {},
   "outputs": [],
   "source": [
    "nmembers=json.loads(open('data/nmembers.json','r').read())"
   ]
  },
  {
   "cell_type": "code",
   "execution_count": 126,
   "metadata": {},
   "outputs": [],
   "source": [
    "img=json.loads(open('data/img.json','r').read())"
   ]
  },
  {
   "cell_type": "code",
   "execution_count": 140,
   "metadata": {},
   "outputs": [],
   "source": [
    "records=json.loads(open('data/records.json','r').read())"
   ]
  },
  {
   "cell_type": "code",
   "execution_count": 141,
   "metadata": {},
   "outputs": [
    {
     "data": {
      "text/plain": [
       "{'votid': '318',\n",
       " 'vot': 'DA',\n",
       " 'grup': 'neafiliat',\n",
       " 'name': 'Lificiu Petru',\n",
       " 'camera': '2'}"
      ]
     },
     "execution_count": 141,
     "metadata": {},
     "output_type": "execute_result"
    }
   ],
   "source": [
    "records[90]"
   ]
  },
  {
   "cell_type": "code",
   "execution_count": 151,
   "metadata": {},
   "outputs": [
    {
     "data": {
      "text/plain": [
       "{'Name': {'full': 'Mihăiţă CALIMENTE', 'simple': 'Calimente Mihaita'},\n",
       " 'Photo': ['http://www.cdep.ro/parlamentari/l1996/caliment.jpg',\n",
       "  'http://www.cdep.ro/parlamentari/l2008/Calimente_Mihaita.jpg',\n",
       "  'http://www.cdep.ro/parlamentari/l2012/Calimente_Mihaita.jpg',\n",
       "  'http://www.cdep.ro/parlamentari/l2004/CalimenteMihaita.jpg'],\n",
       " 'UserID': ['5', '58', '50', '60'],\n",
       " 'Camera': ['DEPUTAT', 'DEPUTAT', 'DEPUTAT', 'DEPUTAT'],\n",
       " 'Link': ['http://www.cdep.ro/pls/parlam/structura2015.mp?idm=5&leg=1996&cam=2',\n",
       "  'http://www.cdep.ro/pls/parlam/structura2015.mp?idm=58&leg=2008&cam=2',\n",
       "  'http://www.cdep.ro/pls/parlam/structura2015.mp?idm=50&leg=2012&cam=2',\n",
       "  'http://www.cdep.ro/pls/parlam/structura2015.mp?idm=60&leg=2004&cam=2'],\n",
       " 'Parties': [{'party': 'PNTCD',\n",
       "   'start': '1996-11-27',\n",
       "   'end': '2000-02-01',\n",
       "   'judet': 'ARAD'},\n",
       "  {'party': 'Independent',\n",
       "   'start': '2000-02-01',\n",
       "   'end': '2000-11-30',\n",
       "   'judet': 'ARAD'},\n",
       "  {'party': 'PNL',\n",
       "   'start': '2008-12-19',\n",
       "   'end': '2012-12-20',\n",
       "   'judet': 'ARAD'},\n",
       "  {'party': 'PNL',\n",
       "   'start': '2012-12-20',\n",
       "   'end': '2016-09-01',\n",
       "   'judet': 'ARAD'},\n",
       "  {'party': 'Independent',\n",
       "   'start': '2016-09-01',\n",
       "   'end': '2016-12-21',\n",
       "   'judet': 'ARAD'},\n",
       "  {'party': 'PNL',\n",
       "   'start': '2004-12-19',\n",
       "   'end': '2008-12-13',\n",
       "   'judet': 'ARAD'}],\n",
       " 'Countries': [{'country': 'Republica Federativă a Braziliei',\n",
       "   'start': '1997-02-01',\n",
       "   'end': '2000-11-30'},\n",
       "  {'country': 'Republica Letonia', 'start': '2010-03-01', 'end': '2012-12-20'},\n",
       "  {'country': 'Marele Ducat de Luxemburg',\n",
       "   'start': '2010-03-01',\n",
       "   'end': '2012-12-20'},\n",
       "  {'country': 'Republica Italiană',\n",
       "   'start': '2010-03-01',\n",
       "   'end': '2012-12-20'},\n",
       "  {'country': 'Marele Ducat de Luxemburg',\n",
       "   'start': '2012-12-20',\n",
       "   'end': '2016-12-21'},\n",
       "  {'country': 'Albania', 'start': '2012-12-20', 'end': '2016-12-21'},\n",
       "  {'country': 'UNESCO', 'start': '2007-04-01', 'end': '2008-03-01'},\n",
       "  {'country': 'Marele Ducat de Luxemburg',\n",
       "   'start': '2004-12-19',\n",
       "   'end': '2008-12-13'}],\n",
       " 'Groups': [{'group': 'Comisia pentru cercetarea abuzurilor, corupţiei şi pentru petiţii',\n",
       "   'start': '1996-11-27',\n",
       "   'end': '2000-11-30'},\n",
       "  {'group': 'Comisia pentru apărare, ordine publică şi siguranţă naţională',\n",
       "   'start': '2008-12-19',\n",
       "   'end': '2012-12-20'},\n",
       "  {'group': 'Comisia pentru apărare, ordine publică şi siguranţă naţională',\n",
       "   'start': '2012-12-20',\n",
       "   'end': '2016-12-21'},\n",
       "  {'group': 'Comisia pentru apărare, ordine publică şi siguranţă naţională',\n",
       "   'start': '2004-12-19',\n",
       "   'end': '2008-12-13'}],\n",
       " 'Activity': {'Luari de cuvânt': [{'value': 8,\n",
       "    'start': '1996-11-27',\n",
       "    'end': '2000-11-30'},\n",
       "   {'value': 117, 'start': '2008-12-19', 'end': '2012-12-20'},\n",
       "   {'value': 58, 'start': '2012-12-20', 'end': '2016-12-21'},\n",
       "   {'value': 84, 'start': '2004-12-19', 'end': '2008-12-13'}],\n",
       "  'Sedințe': {'value': 70, 'start': '2004-12-19', 'end': '2008-12-13'},\n",
       "  '- din care declaraţii politice': [{'value': 1,\n",
       "    'start': '1996-11-27',\n",
       "    'end': '2000-11-30'},\n",
       "   {'value': 11, 'start': '2008-12-19', 'end': '2012-12-20'},\n",
       "   {'value': 11, 'start': '2012-12-20', 'end': '2016-12-21'},\n",
       "   {'value': 9, 'start': '2004-12-19', 'end': '2008-12-13'}],\n",
       "  'Propuneri legislative initiate': [{'value': 2,\n",
       "    'start': '1996-11-27',\n",
       "    'end': '2000-11-30'},\n",
       "   {'value': 28, 'start': '2008-12-19', 'end': '2012-12-20'},\n",
       "   {'value': 70, 'start': '2012-12-20', 'end': '2016-12-21'},\n",
       "   {'value': 51, 'start': '2004-12-19', 'end': '2008-12-13'}],\n",
       "  'Întrebari si interpelari': [{'value': 1,\n",
       "    'start': '1996-11-27',\n",
       "    'end': '2000-11-30'},\n",
       "   {'value': 7, 'start': '2008-12-19', 'end': '2012-12-20'},\n",
       "   {'value': 8, 'start': '2004-12-19', 'end': '2008-12-13'}],\n",
       "  'Declaraţii politice depuse în scris': [{'value': 17,\n",
       "    'start': '2008-12-19',\n",
       "    'end': '2012-12-20'},\n",
       "   {'value': 5, 'start': '2012-12-20', 'end': '2016-12-21'},\n",
       "   {'value': 24, 'start': '2004-12-19', 'end': '2008-12-13'}],\n",
       "  'Motiuni': [{'value': 21, 'start': '2008-12-19', 'end': '2012-12-20'},\n",
       "   {'value': 14, 'start': '2012-12-20', 'end': '2016-12-21'}]}}"
      ]
     },
     "execution_count": 151,
     "metadata": {},
     "output_type": "execute_result"
    }
   ],
   "source": [
    "nmembers['Calimente Mihaita']"
   ]
  },
  {
   "cell_type": "code",
   "execution_count": 130,
   "metadata": {},
   "outputs": [
    {
     "data": {
      "text/plain": [
       "{'-', 'AB', 'DA', 'NU'}"
      ]
     },
     "execution_count": 130,
     "metadata": {},
     "output_type": "execute_result"
    }
   ],
   "source": [
    "{i['vot'] for i in records}"
   ]
  },
  {
   "cell_type": "code",
   "execution_count": 131,
   "metadata": {},
   "outputs": [],
   "source": [
    "votes=json.loads(open('data/votes.json','r').read())"
   ]
  },
  {
   "cell_type": "code",
   "execution_count": 132,
   "metadata": {},
   "outputs": [
    {
     "data": {
      "text/plain": [
       "[{'votid': '313',\n",
       "  'descriere': 'Proiectul de Hotărâre privind atribuirea unor spaţii din Palatul Parlamentului în folosinţa gratuită a Clubului Parlamentarilor Români',\n",
       "  'time': '06.02.2006 16:47',\n",
       "  'camera': '2'}]"
      ]
     },
     "execution_count": 132,
     "metadata": {},
     "output_type": "execute_result"
    }
   ],
   "source": [
    "votes[9]"
   ]
  },
  {
   "cell_type": "code",
   "execution_count": 133,
   "metadata": {},
   "outputs": [],
   "source": [
    "def get_allegiance(allegiance,voteid,outcome,names):\n",
    "    if voteid not in allegiance:\n",
    "        allegiance[voteid]={}\n",
    "    if outcome not in allegiance[voteid]:\n",
    "        allegiance[voteid][outcome]=[]\n",
    "    for name in names:\n",
    "        allegiance[voteid][outcome].append(name)\n",
    "    return allegiance"
   ]
  },
  {
   "cell_type": "code",
   "execution_count": 134,
   "metadata": {},
   "outputs": [],
   "source": [
    "votes_dict={v[0]['votid']:v[0] for v in votes}\n",
    "#votes_dict={v['votid']:v for v in votes}"
   ]
  },
  {
   "cell_type": "code",
   "execution_count": 135,
   "metadata": {},
   "outputs": [
    {
     "data": {
      "text/plain": [
       "{'votid': '388',\n",
       " 'descriere': 'Pl-x 585/2005',\n",
       " 'time': '14.02.2006 12:50',\n",
       " 'camera': '2'}"
      ]
     },
     "execution_count": 135,
     "metadata": {},
     "output_type": "execute_result"
    }
   ],
   "source": [
    "votes_dict['388']"
   ]
  },
  {
   "cell_type": "code",
   "execution_count": 136,
   "metadata": {},
   "outputs": [],
   "source": [
    "def senate(camera):\n",
    "    if camera=='1':return 'Senatori'\n",
    "    else: return 'Deputați'"
   ]
  },
  {
   "cell_type": "code",
   "execution_count": 154,
   "metadata": {},
   "outputs": [],
   "source": [
    "import unidecode"
   ]
  },
  {
   "cell_type": "code",
   "execution_count": 155,
   "metadata": {},
   "outputs": [],
   "source": [
    "def name_normalizer(name):\n",
    "    return unidecode.unidecode(name)"
   ]
  },
  {
   "cell_type": "code",
   "execution_count": 165,
   "metadata": {},
   "outputs": [
    {
     "data": {
      "text/plain": [
       "3382156"
      ]
     },
     "execution_count": 165,
     "metadata": {},
     "output_type": "execute_result"
    }
   ],
   "source": [
    "len(records)"
   ]
  },
  {
   "cell_type": "code",
   "execution_count": 168,
   "metadata": {},
   "outputs": [],
   "source": [
    "eu_allegiance={}\n",
    "eu_vt={}\n",
    "eu_joint_allegiance={}\n",
    "eu_joint_vt={}\n",
    "records_parsed=set()"
   ]
  },
  {
   "cell_type": "code",
   "execution_count": null,
   "metadata": {},
   "outputs": [
    {
     "name": "stdout",
     "output_type": "stream",
     "text": [
      "0\n"
     ]
    }
   ],
   "source": [
    "for i in range(len(records[:])):\n",
    "    if (i%10000==0):\n",
    "        print(i)\n",
    "    if i not in records_parsed:\n",
    "        j=records[i]\n",
    "        vote=votes_dict[j['votid']]\n",
    "        ts=pd.to_datetime('-'.join(vote['time'].split(' ')[0].split('.')[::-1]))\n",
    "        year=int(vote['time'].split(' ')[0][-4:])\n",
    "        camera=senate(vote['camera'])\n",
    "        if camera not in eu_vt:eu_vt[camera]={}\n",
    "        if year not in eu_vt[camera]:eu_vt[camera][year]=[]\n",
    "        if camera not in eu_allegiance:eu_allegiance[camera]={}\n",
    "        if year not in eu_allegiance[camera]:eu_allegiance[camera][year]={'Name':{},'Group':{},'Party':{},'Country':{}}  \n",
    "        if year not in eu_joint_vt:eu_joint_vt[year]=[]\n",
    "        if year not in eu_joint_allegiance:eu_joint_allegiance[year]={'Name':{},'Group':{},'Party':{},'Country':{}}    \n",
    "        if vote['descriere'] not in [\"Modification de l'ordre du jour\"]:\n",
    "                #name=' '.join(j['name'].split(' ')[::-1])\n",
    "                name=name_normalizer(j['name'])\n",
    "                if name not in nmembers:\n",
    "                    print(name)\n",
    "                else:\n",
    "                    member=nmembers[name]\n",
    "                    dummy={}\n",
    "                    outcome=j['vot']\n",
    "                    dummy['Vote']=j['votid']\n",
    "                    dummy['Name']=[member['Name']['full']]\n",
    "                    dummy['Outcome']=outcome\n",
    "                    dummy['Year']=year\n",
    "                    dummy['Group']=[]\n",
    "                    dummy['Party']=[]\n",
    "                    dummy['Country']=[]\n",
    "                    for k in member['Parties']:\n",
    "                        if pd.to_datetime(k['start'])<ts<pd.to_datetime(k['end']):\n",
    "                            dummy['Party'].append(k['party'])\n",
    "                    for k in member['Groups']:\n",
    "                        if pd.to_datetime(k['start'])<ts<pd.to_datetime(k['end']):\n",
    "                            dummy['Group'].append(k['group'])\n",
    "                    for k in member['Countries']:\n",
    "                        if pd.to_datetime(k['start'])<ts<pd.to_datetime(k['end']):\n",
    "                            dummy['Country'].append(k['country'])\n",
    "                    eu_vt[camera][year].append(dummy)\n",
    "                    eu_joint_vt[year].append(dummy)\n",
    "                    for allegiance_type in eu_allegiance[camera][year].keys():\n",
    "                        eu_allegiance[camera][year][allegiance_type]=\\\n",
    "                            get_allegiance(eu_allegiance[camera][year][allegiance_type],j['votid'],\n",
    "                                       outcome,dummy[allegiance_type])\n",
    "                        eu_joint_allegiance[year][allegiance_type]=\\\n",
    "                            get_allegiance(eu_joint_allegiance[year][allegiance_type],j['votid'],\n",
    "                                       outcome,dummy[allegiance_type])\n",
    "        records_parsed.add(i)"
   ]
  },
  {
   "cell_type": "code",
   "execution_count": null,
   "metadata": {},
   "outputs": [],
   "source": [
    "eu_allegiance['Joint']=eu_joint_allegiance\n",
    "eu_vt['Joint']=eu_joint_vt"
   ]
  },
  {
   "cell_type": "code",
   "execution_count": null,
   "metadata": {},
   "outputs": [],
   "source": [
    "open('data/eu_allegiance.json','w').write(json.dumps(eu_allegiance))"
   ]
  }
 ],
 "metadata": {
  "kernelspec": {
   "display_name": "Python 3",
   "language": "python",
   "name": "python3"
  },
  "language_info": {
   "codemirror_mode": {
    "name": "ipython",
    "version": 3
   },
   "file_extension": ".py",
   "mimetype": "text/x-python",
   "name": "python",
   "nbconvert_exporter": "python",
   "pygments_lexer": "ipython3",
   "version": "3.6.6"
  },
  "toc": {
   "base_numbering": 1,
   "nav_menu": {},
   "number_sections": true,
   "sideBar": true,
   "skip_h1_title": false,
   "title_cell": "Table of Contents",
   "title_sidebar": "Contents",
   "toc_cell": false,
   "toc_position": {},
   "toc_section_display": true,
   "toc_window_display": false
  }
 },
 "nbformat": 4,
 "nbformat_minor": 2
}
