{
 "cells": [
  {
   "cell_type": "code",
   "execution_count": 498,
   "metadata": {
    "ExecuteTime": {
     "end_time": "2019-03-07T02:56:32.521682Z",
     "start_time": "2019-03-07T02:56:26.288106Z"
    }
   },
   "outputs": [],
   "source": [
    "import pandas as pd, numpy as np, json, os\n",
    "import matplotlib.pyplot as plt\n",
    "%matplotlib inline"
   ]
  },
  {
   "cell_type": "code",
   "execution_count": 499,
   "metadata": {},
   "outputs": [],
   "source": [
    "plt.style.use('seaborn-whitegrid')"
   ]
  },
  {
   "cell_type": "code",
   "execution_count": 500,
   "metadata": {},
   "outputs": [],
   "source": [
    "#!pip install d3IpyPlus\n",
    "from d3IpyPlus import ScatterPlot, LinePlot, BarPlot, StackedArea"
   ]
  },
  {
   "cell_type": "code",
   "execution_count": 501,
   "metadata": {},
   "outputs": [],
   "source": [
    "#!pip install pyecharts"
   ]
  },
  {
   "cell_type": "code",
   "execution_count": 502,
   "metadata": {},
   "outputs": [],
   "source": [
    "m=json.loads(open('ignore/member_timelines.json','r').read())\n",
    "members=json.loads(open('ignore/member_simple.json','r').read())"
   ]
  },
  {
   "cell_type": "code",
   "execution_count": 503,
   "metadata": {},
   "outputs": [],
   "source": [
    "d=pd.DataFrame(members['deaths'],index=['v']).T"
   ]
  },
  {
   "cell_type": "code",
   "execution_count": 504,
   "metadata": {},
   "outputs": [],
   "source": [
    "d['v']=' †'"
   ]
  },
  {
   "cell_type": "code",
   "execution_count": 505,
   "metadata": {},
   "outputs": [],
   "source": [
    "s=pd.DataFrame(members['s2'],index=['s']).T\n",
    "s=s.join(d)\n",
    "s['v']=s['v'].fillna('')\n",
    "s['s']=s['s']+s['v']\n",
    "s=s[['s']]\n",
    "s['w']=s['s'].str.split(' ').str[0].str[0]+s['s'].str.split(' ').str[-1].str[0]"
   ]
  },
  {
   "cell_type": "code",
   "execution_count": 506,
   "metadata": {},
   "outputs": [],
   "source": [
    "szd_color='#E91C62'"
   ]
  },
  {
   "cell_type": "code",
   "execution_count": 507,
   "metadata": {},
   "outputs": [],
   "source": [
    "pcolors=json.loads(open('json/pcolors.json','r').read())"
   ]
  },
  {
   "cell_type": "code",
   "execution_count": 508,
   "metadata": {},
   "outputs": [
    {
     "data": {
      "text/html": [
       "<div>\n",
       "<style scoped>\n",
       "    .dataframe tbody tr th:only-of-type {\n",
       "        vertical-align: middle;\n",
       "    }\n",
       "\n",
       "    .dataframe tbody tr th {\n",
       "        vertical-align: top;\n",
       "    }\n",
       "\n",
       "    .dataframe thead th {\n",
       "        text-align: right;\n",
       "    }\n",
       "</style>\n",
       "<table border=\"1\" class=\"dataframe\">\n",
       "  <thead>\n",
       "    <tr style=\"text-align: right;\">\n",
       "      <th></th>\n",
       "      <th>Megye</th>\n",
       "    </tr>\n",
       "  </thead>\n",
       "  <tbody>\n",
       "    <tr>\n",
       "      <th>Scrieciu Gheorghe | 1932-09-11</th>\n",
       "      <td>🇷🇴 Dolj</td>\n",
       "    </tr>\n",
       "    <tr>\n",
       "      <th>Bejan Costache | 1946-08-13</th>\n",
       "      <td>🇷🇴 Iași</td>\n",
       "    </tr>\n",
       "    <tr>\n",
       "      <th>Armasescu Dumitru | 1947-02-25</th>\n",
       "      <td>🇷🇴 Hunyad</td>\n",
       "    </tr>\n",
       "    <tr>\n",
       "      <th>Negoescu Nicolae-Ioan | 1933-06-24</th>\n",
       "      <td>🇷🇴 Temes</td>\n",
       "    </tr>\n",
       "    <tr>\n",
       "      <th>Lupau Gheorghita | 1945-12-08</th>\n",
       "      <td>🇷🇴 Bihar</td>\n",
       "    </tr>\n",
       "  </tbody>\n",
       "</table>\n",
       "</div>"
      ],
      "text/plain": [
       "                                       Megye \n",
       "Scrieciu Gheorghe | 1932-09-11        🇷🇴 Dolj\n",
       "Bejan Costache | 1946-08-13           🇷🇴 Iași\n",
       "Armasescu Dumitru | 1947-02-25      🇷🇴 Hunyad\n",
       "Negoescu Nicolae-Ioan | 1933-06-24   🇷🇴 Temes\n",
       "Lupau Gheorghita | 1945-12-08        🇷🇴 Bihar"
      ]
     },
     "execution_count": 508,
     "metadata": {},
     "output_type": "execute_result"
    }
   ],
   "source": [
    "g=pd.DataFrame(members['megye'],index=['Megye ']).T\n",
    "g.head()"
   ]
  },
  {
   "cell_type": "code",
   "execution_count": 509,
   "metadata": {},
   "outputs": [
    {
     "name": "stdout",
     "output_type": "stream",
     "text": [
      "0.0 %\n",
      "3.3028371371007696 %\n",
      "6.605674274201539 %\n",
      "9.908511411302309 %\n",
      "13.211348548403079 %\n",
      "16.51418568550385 %\n",
      "19.817022822604617 %\n",
      "23.119859959705387 %\n",
      "26.422697096806157 %\n",
      "29.725534233906924 %\n",
      "33.0283713710077 %\n",
      "36.33120850810847 %\n",
      "39.634045645209234 %\n",
      "42.93688278231001 %\n",
      "46.239719919410774 %\n",
      "49.54255705651154 %\n",
      "52.845394193612314 %\n",
      "56.14823133071308 %\n",
      "59.45106846781385 %\n",
      "62.753905604914614 %\n",
      "66.0567427420154 %\n",
      "69.35957987911617 %\n",
      "72.66241701621693 %\n",
      "75.9652541533177 %\n",
      "79.26809129041847 %\n",
      "82.57092842751923 %\n",
      "85.87376556462002 %\n",
      "89.17660270172078 %\n",
      "92.47943983882155 %\n",
      "95.78227697592231 %\n",
      "99.08511411302308 %\n"
     ]
    }
   ],
   "source": [
    "data={}\n",
    "attention={}\n",
    "for k,i in enumerate(m):\n",
    "    if k%1000==0: print(k/len(m)*100,'%')\n",
    "    if i['Típus']=='Párt':\n",
    "        if i['Csoportok'] not in data:data[i['Csoportok']]={'start':pd.to_datetime('2030'),'end':pd.to_datetime('1980')}\n",
    "        start=pd.to_datetime(i['start'])\n",
    "        end=pd.to_datetime(i['end'])\n",
    "        data[i['Csoportok']]['start']=min(data[i['Csoportok']]['start'],start)\n",
    "        data[i['Csoportok']]['end']=max(data[i['Csoportok']]['end'],end)"
   ]
  },
  {
   "cell_type": "code",
   "execution_count": 510,
   "metadata": {},
   "outputs": [],
   "source": [
    "part_timelines=pd.DataFrame(data).T\n",
    "part_timelines.index.name='id'"
   ]
  },
  {
   "cell_type": "code",
   "execution_count": 511,
   "metadata": {},
   "outputs": [],
   "source": [
    "part_timelines['start']=part_timelines['start'].astype(str).str[:10]\n",
    "part_timelines['end']=part_timelines['end'].astype(str).str[:10]"
   ]
  },
  {
   "cell_type": "code",
   "execution_count": 512,
   "metadata": {},
   "outputs": [],
   "source": [
    "p=part_timelines.reset_index()[['id']]\n",
    "p['Color']=p['id'].str.split(' ').str[1].str.strip()\n",
    "p['Part']=p['id'].str.split('-').str[0].str.strip()"
   ]
  },
  {
   "cell_type": "code",
   "execution_count": 513,
   "metadata": {},
   "outputs": [],
   "source": [
    "part_timelines=part_timelines.join(p.set_index('id').drop_duplicates())"
   ]
  },
  {
   "cell_type": "code",
   "execution_count": 514,
   "metadata": {},
   "outputs": [],
   "source": [
    "logos={'🕊️':'ALDE', '🌹':'PSD', '📐':'PNL', '🔶':'PD', '⚛️':'PP-DD', '👤':'Független', '⚪️':'FSN',\n",
    "       '✳️':'PNTCD', '🔱':'PRM', '🌷':'RMDSZ', '🍀':'ECO', '🍏':'PMP',\n",
    "       '🔷':'USR', '🦅':'UNPR', '🔘':'Más'}"
   ]
  },
  {
   "cell_type": "code",
   "execution_count": 515,
   "metadata": {},
   "outputs": [],
   "source": [
    "part_timelines['logo']=part_timelines['Part'].str.split(' ').str[0]"
   ]
  },
  {
   "cell_type": "code",
   "execution_count": 516,
   "metadata": {},
   "outputs": [],
   "source": [
    "part_timelines['group']=[logos[i] for i in part_timelines['logo'].values]\n",
    "part_timelines['label']=[i+' '+logos[i] for i in part_timelines['logo'].values]"
   ]
  },
  {
   "cell_type": "code",
   "execution_count": 517,
   "metadata": {},
   "outputs": [],
   "source": [
    "part_timelines=part_timelines.join(pd.DataFrame(pcolors,index=['cvalue']).T,on='group').fillna('grey')"
   ]
  },
  {
   "cell_type": "code",
   "execution_count": 518,
   "metadata": {},
   "outputs": [],
   "source": [
    "part_timelines_list=list(part_timelines.reset_index().T.to_dict().values())"
   ]
  },
  {
   "cell_type": "code",
   "execution_count": 519,
   "metadata": {},
   "outputs": [
    {
     "data": {
      "text/plain": [
       "9874"
      ]
     },
     "execution_count": 519,
     "metadata": {},
     "output_type": "execute_result"
    }
   ],
   "source": [
    "open('json/part_timelines.json','w').write(json.dumps(part_timelines_list))"
   ]
  },
  {
   "cell_type": "markdown",
   "metadata": {},
   "source": [
    "Resolve for non-activity\n"
   ]
  },
  {
   "cell_type": "code",
   "execution_count": 520,
   "metadata": {},
   "outputs": [],
   "source": [
    "from calendar import monthrange"
   ]
  },
  {
   "cell_type": "code",
   "execution_count": 521,
   "metadata": {},
   "outputs": [
    {
     "name": "stdout",
     "output_type": "stream",
     "text": [
      "0.0 %\n",
      "3.3028371371007696 %\n",
      "6.605674274201539 %\n",
      "9.908511411302309 %\n",
      "13.211348548403079 %\n",
      "16.51418568550385 %\n",
      "19.817022822604617 %\n",
      "23.119859959705387 %\n",
      "26.422697096806157 %\n",
      "29.725534233906924 %\n",
      "33.0283713710077 %\n",
      "36.33120850810847 %\n",
      "39.634045645209234 %\n",
      "42.93688278231001 %\n",
      "46.239719919410774 %\n",
      "49.54255705651154 %\n",
      "52.845394193612314 %\n",
      "56.14823133071308 %\n",
      "59.45106846781385 %\n",
      "62.753905604914614 %\n",
      "66.0567427420154 %\n",
      "69.35957987911617 %\n",
      "72.66241701621693 %\n",
      "75.9652541533177 %\n",
      "79.26809129041847 %\n",
      "82.57092842751923 %\n",
      "85.87376556462002 %\n",
      "89.17660270172078 %\n",
      "92.47943983882155 %\n",
      "95.78227697592231 %\n",
      "99.08511411302308 %\n"
     ]
    }
   ],
   "source": [
    "data={}\n",
    "for k,i in enumerate(m):\n",
    "    if k%1000==0: print(k/len(m)*100,'%')\n",
    "    if i['Típus']=='Párt':\n",
    "        part=i['Csoportok']\n",
    "        if part not in data:data[part]={}\n",
    "        for t in pd.date_range(i['start'],i['end']):\n",
    "            st=str(t)[:7]\n",
    "            if st not in data[part]:data[part][st]=0\n",
    "            data[part][st]+=1/monthrange(t.year,t.month)[1]"
   ]
  },
  {
   "cell_type": "code",
   "execution_count": 538,
   "metadata": {},
   "outputs": [],
   "source": [
    "df=pd.DataFrame(data)"
   ]
  },
  {
   "cell_type": "code",
   "execution_count": 539,
   "metadata": {},
   "outputs": [],
   "source": [
    "df=df.stack().reset_index()\n",
    "df.columns=['x','id','y']"
   ]
  },
  {
   "cell_type": "code",
   "execution_count": 540,
   "metadata": {},
   "outputs": [],
   "source": [
    "df=df.groupby(['id','x']).mean().rolling(7).mean().reset_index().dropna()"
   ]
  },
  {
   "cell_type": "code",
   "execution_count": 541,
   "metadata": {},
   "outputs": [],
   "source": [
    "df2=df.join(part_timelines,on='id')"
   ]
  },
  {
   "cell_type": "code",
   "execution_count": 542,
   "metadata": {},
   "outputs": [
    {
     "data": {
      "text/plain": [
       "966954"
      ]
     },
     "execution_count": 542,
     "metadata": {},
     "output_type": "execute_result"
    }
   ],
   "source": [
    "df2=df2[df2['y']>2]\n",
    "values=list(df2.T.to_dict().values())\n",
    "open('json/part_timelines2.json','w').write(json.dumps(values))"
   ]
  },
  {
   "cell_type": "code",
   "execution_count": null,
   "metadata": {},
   "outputs": [],
   "source": []
  }
 ],
 "metadata": {
  "kernelspec": {
   "display_name": "Python 3",
   "language": "python",
   "name": "python3"
  },
  "language_info": {
   "codemirror_mode": {
    "name": "ipython",
    "version": 3
   },
   "file_extension": ".py",
   "mimetype": "text/x-python",
   "name": "python",
   "nbconvert_exporter": "python",
   "pygments_lexer": "ipython3",
   "version": "3.6.7"
  },
  "toc": {
   "base_numbering": 1,
   "nav_menu": {},
   "number_sections": true,
   "sideBar": true,
   "skip_h1_title": false,
   "title_cell": "Table of Contents",
   "title_sidebar": "Contents",
   "toc_cell": false,
   "toc_position": {},
   "toc_section_display": true,
   "toc_window_display": false
  }
 },
 "nbformat": 4,
 "nbformat_minor": 2
}
