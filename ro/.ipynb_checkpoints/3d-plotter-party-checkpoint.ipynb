{
 "cells": [
  {
   "cell_type": "code",
   "execution_count": 601,
   "metadata": {
    "ExecuteTime": {
     "end_time": "2019-03-07T02:56:32.521682Z",
     "start_time": "2019-03-07T02:56:26.288106Z"
    }
   },
   "outputs": [],
   "source": [
    "import pandas as pd, numpy as np, json, os\n",
    "import matplotlib.pyplot as plt\n",
    "%matplotlib inline"
   ]
  },
  {
   "cell_type": "code",
   "execution_count": 602,
   "metadata": {},
   "outputs": [],
   "source": [
    "plt.style.use('seaborn-whitegrid')"
   ]
  },
  {
   "cell_type": "code",
   "execution_count": 603,
   "metadata": {},
   "outputs": [],
   "source": [
    "#!pip install d3IpyPlus\n",
    "from d3IpyPlus import ScatterPlot, LinePlot, BarPlot, StackedArea"
   ]
  },
  {
   "cell_type": "code",
   "execution_count": 604,
   "metadata": {},
   "outputs": [],
   "source": [
    "#!pip install pyecharts"
   ]
  },
  {
   "cell_type": "code",
   "execution_count": 605,
   "metadata": {},
   "outputs": [],
   "source": [
    "m=json.loads(open('ignore/member_timelines.json','r').read())\n",
    "members=json.loads(open('ignore/member_simple.json','r').read())"
   ]
  },
  {
   "cell_type": "code",
   "execution_count": 606,
   "metadata": {},
   "outputs": [],
   "source": [
    "d=pd.DataFrame(members['deaths'],index=['v']).T"
   ]
  },
  {
   "cell_type": "code",
   "execution_count": 607,
   "metadata": {},
   "outputs": [],
   "source": [
    "d['v']=' †'"
   ]
  },
  {
   "cell_type": "code",
   "execution_count": 608,
   "metadata": {},
   "outputs": [],
   "source": [
    "s=pd.DataFrame(members['s2'],index=['s']).T\n",
    "s=s.join(d)\n",
    "s['v']=s['v'].fillna('')\n",
    "s['s']=s['s']+s['v']\n",
    "s=s[['s']]\n",
    "s['w']=s['s'].str.split(' ').str[0].str[0]+s['s'].str.split(' ').str[-1].str[0]"
   ]
  },
  {
   "cell_type": "code",
   "execution_count": 609,
   "metadata": {},
   "outputs": [],
   "source": [
    "szd_color='#E91C62'"
   ]
  },
  {
   "cell_type": "code",
   "execution_count": 610,
   "metadata": {},
   "outputs": [],
   "source": [
    "pcolors=json.loads(open('json/pcolors.json','r').read())"
   ]
  },
  {
   "cell_type": "code",
   "execution_count": 611,
   "metadata": {},
   "outputs": [
    {
     "data": {
      "text/html": [
       "<div>\n",
       "<style scoped>\n",
       "    .dataframe tbody tr th:only-of-type {\n",
       "        vertical-align: middle;\n",
       "    }\n",
       "\n",
       "    .dataframe tbody tr th {\n",
       "        vertical-align: top;\n",
       "    }\n",
       "\n",
       "    .dataframe thead th {\n",
       "        text-align: right;\n",
       "    }\n",
       "</style>\n",
       "<table border=\"1\" class=\"dataframe\">\n",
       "  <thead>\n",
       "    <tr style=\"text-align: right;\">\n",
       "      <th></th>\n",
       "      <th>Megye</th>\n",
       "    </tr>\n",
       "  </thead>\n",
       "  <tbody>\n",
       "    <tr>\n",
       "      <th>Scrieciu Gheorghe | 1932-09-11</th>\n",
       "      <td>🇷🇴 Dolj</td>\n",
       "    </tr>\n",
       "    <tr>\n",
       "      <th>Bejan Costache | 1946-08-13</th>\n",
       "      <td>🇷🇴 Iași</td>\n",
       "    </tr>\n",
       "    <tr>\n",
       "      <th>Armasescu Dumitru | 1947-02-25</th>\n",
       "      <td>🇷🇴 Hunyad</td>\n",
       "    </tr>\n",
       "    <tr>\n",
       "      <th>Negoescu Nicolae-Ioan | 1933-06-24</th>\n",
       "      <td>🇷🇴 Temes</td>\n",
       "    </tr>\n",
       "    <tr>\n",
       "      <th>Lupau Gheorghita | 1945-12-08</th>\n",
       "      <td>🇷🇴 Bihar</td>\n",
       "    </tr>\n",
       "  </tbody>\n",
       "</table>\n",
       "</div>"
      ],
      "text/plain": [
       "                                       Megye \n",
       "Scrieciu Gheorghe | 1932-09-11        🇷🇴 Dolj\n",
       "Bejan Costache | 1946-08-13           🇷🇴 Iași\n",
       "Armasescu Dumitru | 1947-02-25      🇷🇴 Hunyad\n",
       "Negoescu Nicolae-Ioan | 1933-06-24   🇷🇴 Temes\n",
       "Lupau Gheorghita | 1945-12-08        🇷🇴 Bihar"
      ]
     },
     "execution_count": 611,
     "metadata": {},
     "output_type": "execute_result"
    }
   ],
   "source": [
    "g=pd.DataFrame(members['megye'],index=['Megye ']).T\n",
    "g.head()"
   ]
  },
  {
   "cell_type": "code",
   "execution_count": 612,
   "metadata": {},
   "outputs": [
    {
     "name": "stdout",
     "output_type": "stream",
     "text": [
      "0.0 %\n",
      "3.302728053372085 %\n",
      "6.60545610674417 %\n",
      "9.908184160116255 %\n",
      "13.21091221348834 %\n",
      "16.513640266860428 %\n",
      "19.81636832023251 %\n",
      "23.1190963736046 %\n",
      "26.42182442697668 %\n",
      "29.72455248034877 %\n",
      "33.027280533720855 %\n",
      "36.33000858709294 %\n",
      "39.63273664046502 %\n",
      "42.93546469383711 %\n",
      "46.2381927472092 %\n",
      "49.540920800581276 %\n",
      "52.84364885395336 %\n",
      "56.14637690732545 %\n",
      "59.44910496069754 %\n",
      "62.751833014069625 %\n",
      "66.05456106744171 %\n",
      "69.35728912081379 %\n",
      "72.66001717418588 %\n",
      "75.96274522755796 %\n",
      "79.26547328093004 %\n",
      "82.56820133430213 %\n",
      "85.87092938767422 %\n",
      "89.1736574410463 %\n",
      "92.4763854944184 %\n",
      "95.77911354779047 %\n",
      "99.08184160116255 %\n"
     ]
    }
   ],
   "source": [
    "data={}\n",
    "attention={}\n",
    "for k,i in enumerate(m):\n",
    "    if k%1000==0: print(k/len(m)*100,'%')\n",
    "    if i['Típus']=='Párt':\n",
    "        if i['Csoportok'] not in data:data[i['Csoportok']]={'start':pd.to_datetime('2030'),'end':pd.to_datetime('1980')}\n",
    "        start=pd.to_datetime(i['start'])\n",
    "        end=pd.to_datetime(i['end'])\n",
    "        data[i['Csoportok']]['start']=min(data[i['Csoportok']]['start'],start)\n",
    "        data[i['Csoportok']]['end']=max(data[i['Csoportok']]['end'],end)"
   ]
  },
  {
   "cell_type": "code",
   "execution_count": 613,
   "metadata": {},
   "outputs": [],
   "source": [
    "part_timelines=pd.DataFrame(data).T\n",
    "part_timelines.index.name='id'"
   ]
  },
  {
   "cell_type": "code",
   "execution_count": 614,
   "metadata": {},
   "outputs": [],
   "source": [
    "part_timelines['start']=part_timelines['start'].astype(str).str[:10]\n",
    "part_timelines['end']=part_timelines['end'].astype(str).str[:10]"
   ]
  },
  {
   "cell_type": "code",
   "execution_count": 615,
   "metadata": {},
   "outputs": [],
   "source": [
    "p=part_timelines.reset_index()[['id']]\n",
    "p['Color']=p['id'].str.split(' ').str[1].str.strip()\n",
    "p['Part']=p['id'].str.split('-').str[0].str.strip()"
   ]
  },
  {
   "cell_type": "code",
   "execution_count": 616,
   "metadata": {},
   "outputs": [],
   "source": [
    "part_timelines=part_timelines.join(p.set_index('id').drop_duplicates())"
   ]
  },
  {
   "cell_type": "code",
   "execution_count": 617,
   "metadata": {},
   "outputs": [],
   "source": [
    "logos={'🕊️':'ALDE', '🌹':'PSD', '📐':'PNL', '🔶':'PD', '⚛️':'PP-DD', '👤':'Független', '⚪️':'FSN',\n",
    "       '✳️':'PNTCD', '🔱':'PRM', '🌷':'RMDSZ', '🍀':'ECO', '🍏':'PMP',\n",
    "       '🔷':'USR', '🦅':'UNPR', '🔘':'Más'}"
   ]
  },
  {
   "cell_type": "code",
   "execution_count": 618,
   "metadata": {},
   "outputs": [],
   "source": [
    "part_timelines['logo']=part_timelines['Part'].str.split(' ').str[0]"
   ]
  },
  {
   "cell_type": "code",
   "execution_count": 619,
   "metadata": {},
   "outputs": [],
   "source": [
    "part_timelines['group']=[logos[i] for i in part_timelines['logo'].values]\n",
    "part_timelines['label']=[i+' '+logos[i] for i in part_timelines['logo'].values]"
   ]
  },
  {
   "cell_type": "code",
   "execution_count": 620,
   "metadata": {},
   "outputs": [],
   "source": [
    "part_timelines=part_timelines.join(pd.DataFrame(pcolors,index=['cvalue']).T,on='group').fillna('grey')"
   ]
  },
  {
   "cell_type": "code",
   "execution_count": 621,
   "metadata": {},
   "outputs": [],
   "source": [
    "part_timelines_list=list(part_timelines.reset_index().T.to_dict().values())"
   ]
  },
  {
   "cell_type": "code",
   "execution_count": 622,
   "metadata": {},
   "outputs": [
    {
     "data": {
      "text/plain": [
       "9874"
      ]
     },
     "execution_count": 622,
     "metadata": {},
     "output_type": "execute_result"
    }
   ],
   "source": [
    "open('json/part_timelines.json','w').write(json.dumps(part_timelines_list))"
   ]
  },
  {
   "cell_type": "markdown",
   "metadata": {},
   "source": [
    "Resolve for non-activity\n"
   ]
  },
  {
   "cell_type": "code",
   "execution_count": 630,
   "metadata": {},
   "outputs": [],
   "source": [
    "legs={'2016':['2016-12-21','2019-07-01'],\n",
    "'2012':['2012-12-20','2016-12-21'],\n",
    "'2008':['2008-12-19','2012-12-20'],\n",
    "'2004':['2004-12-19','2008-12-13'],\n",
    "'2000':['2000-12-15','2004-11-30'],\n",
    "'1996':['1996-11-27','2000-11-30'],\n",
    "'1992':['1992-10-28','1996-11-22'],\n",
    "'1990':['1990-06-19','1992-10-16']}"
   ]
  },
  {
   "cell_type": "code",
   "execution_count": 638,
   "metadata": {},
   "outputs": [],
   "source": [
    "switch_months=set([str(pd.to_datetime(j))[:7] for i in legs for j in legs[i]])"
   ]
  },
  {
   "cell_type": "code",
   "execution_count": 623,
   "metadata": {},
   "outputs": [],
   "source": [
    "from calendar import monthrange"
   ]
  },
  {
   "cell_type": "code",
   "execution_count": null,
   "metadata": {},
   "outputs": [
    {
     "name": "stdout",
     "output_type": "stream",
     "text": [
      "0.0 %\n",
      "3.302728053372085 %\n",
      "6.60545610674417 %\n"
     ]
    }
   ],
   "source": [
    "data={}\n",
    "for k,i in enumerate(m):\n",
    "    if k%1000==0: print(k/len(m)*100,'%')\n",
    "    if i['Típus']=='Párt':\n",
    "        part=i['Csoportok']\n",
    "        if part not in data:data[part]={}\n",
    "        for t in pd.date_range(i['start'],i['end']):\n",
    "            st=str(t)[:7]\n",
    "            if st not in switch_months: #skip transition months\n",
    "                if st not in data[part]:data[part][st]=0\n",
    "                data[part][st]+=1/monthrange(t.year,t.month)[1]"
   ]
  },
  {
   "cell_type": "code",
   "execution_count": null,
   "metadata": {},
   "outputs": [],
   "source": [
    "df=pd.DataFrame(data)"
   ]
  },
  {
   "cell_type": "code",
   "execution_count": null,
   "metadata": {},
   "outputs": [],
   "source": [
    "df=df.stack().reset_index()\n",
    "df.columns=['x','id','y']"
   ]
  },
  {
   "cell_type": "code",
   "execution_count": null,
   "metadata": {},
   "outputs": [],
   "source": [
    "df=df.groupby(['id','x']).mean().rolling(7).mean().reset_index().dropna()"
   ]
  },
  {
   "cell_type": "code",
   "execution_count": null,
   "metadata": {},
   "outputs": [],
   "source": [
    "df2=df.join(part_timelines,on='id')"
   ]
  },
  {
   "cell_type": "code",
   "execution_count": null,
   "metadata": {},
   "outputs": [],
   "source": [
    "df2=df2[df2['y']>2]\n",
    "values=list(df2.T.to_dict().values())\n",
    "open('json/part_timelines2.json','w').write(json.dumps(values))"
   ]
  },
  {
   "cell_type": "code",
   "execution_count": null,
   "metadata": {},
   "outputs": [],
   "source": []
  }
 ],
 "metadata": {
  "kernelspec": {
   "display_name": "Python 3",
   "language": "python",
   "name": "python3"
  },
  "language_info": {
   "codemirror_mode": {
    "name": "ipython",
    "version": 3
   },
   "file_extension": ".py",
   "mimetype": "text/x-python",
   "name": "python",
   "nbconvert_exporter": "python",
   "pygments_lexer": "ipython3",
   "version": "3.6.7"
  },
  "toc": {
   "base_numbering": 1,
   "nav_menu": {},
   "number_sections": true,
   "sideBar": true,
   "skip_h1_title": false,
   "title_cell": "Table of Contents",
   "title_sidebar": "Contents",
   "toc_cell": false,
   "toc_position": {},
   "toc_section_display": true,
   "toc_window_display": false
  }
 },
 "nbformat": 4,
 "nbformat_minor": 2
}
