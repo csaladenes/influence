{
 "cells": [
  {
   "cell_type": "code",
   "execution_count": 543,
   "metadata": {
    "ExecuteTime": {
     "end_time": "2019-03-07T02:56:32.521682Z",
     "start_time": "2019-03-07T02:56:26.288106Z"
    }
   },
   "outputs": [],
   "source": [
    "import pandas as pd, numpy as np, json, os\n",
    "import matplotlib.pyplot as plt\n",
    "%matplotlib inline"
   ]
  },
  {
   "cell_type": "code",
   "execution_count": 544,
   "metadata": {},
   "outputs": [],
   "source": [
    "plt.style.use('seaborn-whitegrid')"
   ]
  },
  {
   "cell_type": "code",
   "execution_count": 545,
   "metadata": {},
   "outputs": [],
   "source": [
    "#!pip install d3IpyPlus\n",
    "from d3IpyPlus import ScatterPlot, LinePlot, BarPlot, StackedArea"
   ]
  },
  {
   "cell_type": "code",
   "execution_count": 546,
   "metadata": {},
   "outputs": [],
   "source": [
    "#!pip install pyecharts"
   ]
  },
  {
   "cell_type": "code",
   "execution_count": 547,
   "metadata": {},
   "outputs": [],
   "source": [
    "m=json.loads(open('ignore/member_timelines.json','r').read())\n",
    "members=json.loads(open('ignore/member_simple.json','r').read())"
   ]
  },
  {
   "cell_type": "code",
   "execution_count": 548,
   "metadata": {},
   "outputs": [],
   "source": [
    "d=pd.DataFrame(members['deaths'],index=['v']).T"
   ]
  },
  {
   "cell_type": "code",
   "execution_count": 549,
   "metadata": {},
   "outputs": [],
   "source": [
    "d['v']=' †'"
   ]
  },
  {
   "cell_type": "code",
   "execution_count": 550,
   "metadata": {},
   "outputs": [],
   "source": [
    "s=pd.DataFrame(members['s2'],index=['s']).T\n",
    "s=s.join(d)\n",
    "s['v']=s['v'].fillna('')\n",
    "s['s']=s['s']+s['v']\n",
    "s=s[['s']]\n",
    "s['w']=s['s'].str.split(' ').str[0].str[0]+s['s'].str.split(' ').str[-1].str[0]"
   ]
  },
  {
   "cell_type": "code",
   "execution_count": 551,
   "metadata": {},
   "outputs": [],
   "source": [
    "szd_color='#E91C62'"
   ]
  },
  {
   "cell_type": "code",
   "execution_count": 552,
   "metadata": {},
   "outputs": [],
   "source": [
    "pcolors=json.loads(open('json/pcolors.json','r').read())"
   ]
  },
  {
   "cell_type": "code",
   "execution_count": 553,
   "metadata": {},
   "outputs": [
    {
     "data": {
      "text/html": [
       "<div>\n",
       "<style scoped>\n",
       "    .dataframe tbody tr th:only-of-type {\n",
       "        vertical-align: middle;\n",
       "    }\n",
       "\n",
       "    .dataframe tbody tr th {\n",
       "        vertical-align: top;\n",
       "    }\n",
       "\n",
       "    .dataframe thead th {\n",
       "        text-align: right;\n",
       "    }\n",
       "</style>\n",
       "<table border=\"1\" class=\"dataframe\">\n",
       "  <thead>\n",
       "    <tr style=\"text-align: right;\">\n",
       "      <th></th>\n",
       "      <th>Megye</th>\n",
       "    </tr>\n",
       "  </thead>\n",
       "  <tbody>\n",
       "    <tr>\n",
       "      <th>Lascu Vasile | 1948-01-30</th>\n",
       "      <td>🇷🇴 Brassó</td>\n",
       "    </tr>\n",
       "    <tr>\n",
       "      <th>Gulea Aurelian | 1936-11-07</th>\n",
       "      <td>🇷🇴 Botoșani</td>\n",
       "    </tr>\n",
       "    <tr>\n",
       "      <th>Fieroiu Octavian | 1948-10-20</th>\n",
       "      <td>🇷🇴 Vâlcea</td>\n",
       "    </tr>\n",
       "    <tr>\n",
       "      <th>Ureche Nicolai | 1937-12-06</th>\n",
       "      <td>🇷🇴 Botoșani</td>\n",
       "    </tr>\n",
       "    <tr>\n",
       "      <th>Podhradszky Vasile | 1920-03-20</th>\n",
       "      <td>🇷🇴 Kolozs</td>\n",
       "    </tr>\n",
       "  </tbody>\n",
       "</table>\n",
       "</div>"
      ],
      "text/plain": [
       "                                      Megye \n",
       "Lascu Vasile | 1948-01-30          🇷🇴 Brassó\n",
       "Gulea Aurelian | 1936-11-07      🇷🇴 Botoșani\n",
       "Fieroiu Octavian | 1948-10-20      🇷🇴 Vâlcea\n",
       "Ureche Nicolai | 1937-12-06      🇷🇴 Botoșani\n",
       "Podhradszky Vasile | 1920-03-20    🇷🇴 Kolozs"
      ]
     },
     "execution_count": 553,
     "metadata": {},
     "output_type": "execute_result"
    }
   ],
   "source": [
    "g=pd.DataFrame(members['megye'],index=['Megye ']).T\n",
    "g.head()"
   ]
  },
  {
   "cell_type": "code",
   "execution_count": 554,
   "metadata": {},
   "outputs": [
    {
     "name": "stdout",
     "output_type": "stream",
     "text": [
      "0.0 %\n",
      "3.323031934336889 %\n",
      "6.646063868673778 %\n",
      "9.969095803010667 %\n",
      "13.292127737347556 %\n",
      "16.615159671684445 %\n",
      "19.938191606021334 %\n",
      "23.261223540358223 %\n",
      "26.584255474695112 %\n",
      "29.907287409032 %\n",
      "33.23031934336889 %\n",
      "36.55335127770578 %\n",
      "39.87638321204267 %\n",
      "43.19941514637956 %\n",
      "46.52244708071645 %\n",
      "49.845479015053336 %\n",
      "53.168510949390225 %\n",
      "56.49154288372711 %\n",
      "59.814574818064 %\n",
      "63.137606752400885 %\n",
      "66.46063868673778 %\n",
      "69.78367062107466 %\n",
      "73.10670255541156 %\n",
      "76.42973448974844 %\n",
      "79.75276642408534 %\n",
      "83.07579835842222 %\n",
      "86.39883029275911 %\n",
      "89.72186222709601 %\n",
      "93.0448941614329 %\n",
      "96.36792609576979 %\n",
      "99.69095803010667 %\n"
     ]
    }
   ],
   "source": [
    "data={}\n",
    "attention={}\n",
    "for k,i in enumerate(m):\n",
    "    if k%1000==0: print(k/len(m)*100,'%')\n",
    "    if i['Típus']=='Párt':\n",
    "        if i['Csoportok'] not in data:data[i['Csoportok']]={'start':pd.to_datetime('2030'),'end':pd.to_datetime('1980')}\n",
    "        start=pd.to_datetime(i['start'])\n",
    "        end=pd.to_datetime(i['end'])\n",
    "        data[i['Csoportok']]['start']=min(data[i['Csoportok']]['start'],start)\n",
    "        data[i['Csoportok']]['end']=max(data[i['Csoportok']]['end'],end)"
   ]
  },
  {
   "cell_type": "code",
   "execution_count": 555,
   "metadata": {},
   "outputs": [],
   "source": [
    "part_timelines=pd.DataFrame(data).T\n",
    "part_timelines.index.name='id'"
   ]
  },
  {
   "cell_type": "code",
   "execution_count": 556,
   "metadata": {},
   "outputs": [],
   "source": [
    "part_timelines['start']=part_timelines['start'].astype(str).str[:10]\n",
    "part_timelines['end']=part_timelines['end'].astype(str).str[:10]"
   ]
  },
  {
   "cell_type": "code",
   "execution_count": 557,
   "metadata": {},
   "outputs": [],
   "source": [
    "p=part_timelines.reset_index()[['id']]\n",
    "p['Color']=p['id'].str.split(' ').str[1].str.strip()\n",
    "p['Part']=p['id'].str.split('-').str[0].str.strip()"
   ]
  },
  {
   "cell_type": "code",
   "execution_count": 558,
   "metadata": {},
   "outputs": [],
   "source": [
    "part_timelines=part_timelines.join(p.set_index('id').drop_duplicates())"
   ]
  },
  {
   "cell_type": "code",
   "execution_count": 559,
   "metadata": {},
   "outputs": [],
   "source": [
    "logos={'🕊️':'ALDE', '🌹':'PSD', '📐':'PNL', '🔶':'PD', '⚛️':'PP-DD', '👤':'Független', '⚪️':'FSN',\n",
    "       '✳️':'PNTCD', '🔱':'PRM', '🌷':'RMDSZ', '🍀':'ECO', '🍏':'PMP',\n",
    "       '🔷':'USR', '🦅':'UNPR', '🔘':'Más'}"
   ]
  },
  {
   "cell_type": "code",
   "execution_count": 560,
   "metadata": {},
   "outputs": [],
   "source": [
    "part_timelines['logo']=part_timelines['Part'].str.split(' ').str[0]"
   ]
  },
  {
   "cell_type": "code",
   "execution_count": 561,
   "metadata": {},
   "outputs": [],
   "source": [
    "part_timelines['group']=[logos[i] for i in part_timelines['logo'].values]\n",
    "part_timelines['label']=[i+' '+logos[i] for i in part_timelines['logo'].values]"
   ]
  },
  {
   "cell_type": "code",
   "execution_count": 562,
   "metadata": {},
   "outputs": [],
   "source": [
    "part_timelines=part_timelines.join(pd.DataFrame(pcolors,index=['cvalue']).T,on='group').fillna('grey')"
   ]
  },
  {
   "cell_type": "code",
   "execution_count": 563,
   "metadata": {},
   "outputs": [],
   "source": [
    "part_timelines_list=list(part_timelines.reset_index().T.to_dict().values())"
   ]
  },
  {
   "cell_type": "code",
   "execution_count": 564,
   "metadata": {},
   "outputs": [
    {
     "data": {
      "text/plain": [
       "9874"
      ]
     },
     "execution_count": 564,
     "metadata": {},
     "output_type": "execute_result"
    }
   ],
   "source": [
    "open('json/part_timelines.json','w').write(json.dumps(part_timelines_list))"
   ]
  },
  {
   "cell_type": "markdown",
   "metadata": {},
   "source": [
    "Resolve for non-activity\n"
   ]
  },
  {
   "cell_type": "code",
   "execution_count": 565,
   "metadata": {},
   "outputs": [],
   "source": [
    "from calendar import monthrange"
   ]
  },
  {
   "cell_type": "code",
   "execution_count": 566,
   "metadata": {},
   "outputs": [
    {
     "name": "stdout",
     "output_type": "stream",
     "text": [
      "0.0 %\n",
      "3.323031934336889 %\n",
      "6.646063868673778 %\n",
      "9.969095803010667 %\n",
      "13.292127737347556 %\n",
      "16.615159671684445 %\n",
      "19.938191606021334 %\n",
      "23.261223540358223 %\n",
      "26.584255474695112 %\n",
      "29.907287409032 %\n",
      "33.23031934336889 %\n",
      "36.55335127770578 %\n",
      "39.87638321204267 %\n",
      "43.19941514637956 %\n",
      "46.52244708071645 %\n",
      "49.845479015053336 %\n",
      "53.168510949390225 %\n",
      "56.49154288372711 %\n",
      "59.814574818064 %\n",
      "63.137606752400885 %\n",
      "66.46063868673778 %\n",
      "69.78367062107466 %\n",
      "73.10670255541156 %\n",
      "76.42973448974844 %\n",
      "79.75276642408534 %\n",
      "83.07579835842222 %\n",
      "86.39883029275911 %\n",
      "89.72186222709601 %\n",
      "93.0448941614329 %\n",
      "96.36792609576979 %\n",
      "99.69095803010667 %\n"
     ]
    }
   ],
   "source": [
    "data={}\n",
    "for k,i in enumerate(m):\n",
    "    if k%1000==0: print(k/len(m)*100,'%')\n",
    "    if i['Típus']=='Párt':\n",
    "        part=i['Csoportok']\n",
    "        if part not in data:data[part]={}\n",
    "        for t in pd.date_range(i['start'],i['end']):\n",
    "            st=str(t)[:7]\n",
    "            if st not in data[part]:data[part][st]=0\n",
    "            data[part][st]+=1/monthrange(t.year,t.month)[1]"
   ]
  },
  {
   "cell_type": "code",
   "execution_count": 567,
   "metadata": {},
   "outputs": [],
   "source": [
    "df=pd.DataFrame(data)"
   ]
  },
  {
   "cell_type": "code",
   "execution_count": 568,
   "metadata": {},
   "outputs": [],
   "source": [
    "df=df.stack().reset_index()\n",
    "df.columns=['x','id','y']"
   ]
  },
  {
   "cell_type": "code",
   "execution_count": 569,
   "metadata": {},
   "outputs": [],
   "source": [
    "df=df.groupby(['id','x']).mean().rolling(7).mean().reset_index().dropna()"
   ]
  },
  {
   "cell_type": "code",
   "execution_count": 570,
   "metadata": {},
   "outputs": [],
   "source": [
    "df2=df.join(part_timelines,on='id')"
   ]
  },
  {
   "cell_type": "code",
   "execution_count": 571,
   "metadata": {},
   "outputs": [
    {
     "data": {
      "text/plain": [
       "868591"
      ]
     },
     "execution_count": 571,
     "metadata": {},
     "output_type": "execute_result"
    }
   ],
   "source": [
    "df2=df2[df2['y']>2]\n",
    "values=list(df2.T.to_dict().values())\n",
    "open('json/part_timelines2.json','w').write(json.dumps(values))"
   ]
  },
  {
   "cell_type": "code",
   "execution_count": null,
   "metadata": {},
   "outputs": [],
   "source": []
  }
 ],
 "metadata": {
  "kernelspec": {
   "display_name": "Python 3",
   "language": "python",
   "name": "python3"
  },
  "language_info": {
   "codemirror_mode": {
    "name": "ipython",
    "version": 3
   },
   "file_extension": ".py",
   "mimetype": "text/x-python",
   "name": "python",
   "nbconvert_exporter": "python",
   "pygments_lexer": "ipython3",
   "version": "3.6.7"
  },
  "toc": {
   "base_numbering": 1,
   "nav_menu": {},
   "number_sections": true,
   "sideBar": true,
   "skip_h1_title": false,
   "title_cell": "Table of Contents",
   "title_sidebar": "Contents",
   "toc_cell": false,
   "toc_position": {},
   "toc_section_display": true,
   "toc_window_display": false
  }
 },
 "nbformat": 4,
 "nbformat_minor": 2
}
