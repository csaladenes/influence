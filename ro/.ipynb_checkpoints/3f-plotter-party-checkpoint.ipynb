{
 "cells": [
  {
   "cell_type": "code",
   "execution_count": 45,
   "metadata": {
    "ExecuteTime": {
     "end_time": "2019-03-07T02:56:32.521682Z",
     "start_time": "2019-03-07T02:56:26.288106Z"
    }
   },
   "outputs": [],
   "source": [
    "import pandas as pd, numpy as np, json, os\n",
    "import matplotlib.pyplot as plt\n",
    "%matplotlib inline"
   ]
  },
  {
   "cell_type": "code",
   "execution_count": 46,
   "metadata": {},
   "outputs": [],
   "source": [
    "plt.style.use('seaborn-whitegrid')"
   ]
  },
  {
   "cell_type": "code",
   "execution_count": 47,
   "metadata": {},
   "outputs": [],
   "source": [
    "#!pip install d3IpyPlus\n",
    "from d3IpyPlus import ScatterPlot, LinePlot, BarPlot, StackedArea"
   ]
  },
  {
   "cell_type": "code",
   "execution_count": 48,
   "metadata": {},
   "outputs": [],
   "source": [
    "#!pip install pyecharts"
   ]
  },
  {
   "cell_type": "code",
   "execution_count": 49,
   "metadata": {},
   "outputs": [],
   "source": [
    "m=json.loads(open('ignore/member_timelines.json','r').read())\n",
    "members=json.loads(open('ignore/member_simple.json','r').read())"
   ]
  },
  {
   "cell_type": "code",
   "execution_count": 50,
   "metadata": {},
   "outputs": [],
   "source": [
    "d=pd.DataFrame(members['deaths'],index=['v']).T"
   ]
  },
  {
   "cell_type": "code",
   "execution_count": 51,
   "metadata": {},
   "outputs": [],
   "source": [
    "d['v']=' †'"
   ]
  },
  {
   "cell_type": "code",
   "execution_count": 52,
   "metadata": {},
   "outputs": [],
   "source": [
    "s=pd.DataFrame(members['s2'],index=['s']).T\n",
    "s=s.join(d)\n",
    "s['v']=s['v'].fillna('')\n",
    "s['s']=s['s']+s['v']\n",
    "s=s[['s']]\n",
    "s['w']=s['s'].str.split(' ').str[0].str[0]+s['s'].str.split(' ').str[-1].str[0]"
   ]
  },
  {
   "cell_type": "code",
   "execution_count": 54,
   "metadata": {},
   "outputs": [],
   "source": [
    "szd_color='#E91C62'"
   ]
  },
  {
   "cell_type": "code",
   "execution_count": 55,
   "metadata": {},
   "outputs": [],
   "source": [
    "pcolors=json.loads(open('json/pcolors.json','r').read())"
   ]
  },
  {
   "cell_type": "code",
   "execution_count": 56,
   "metadata": {},
   "outputs": [
    {
     "data": {
      "text/html": [
       "<div>\n",
       "<style scoped>\n",
       "    .dataframe tbody tr th:only-of-type {\n",
       "        vertical-align: middle;\n",
       "    }\n",
       "\n",
       "    .dataframe tbody tr th {\n",
       "        vertical-align: top;\n",
       "    }\n",
       "\n",
       "    .dataframe thead th {\n",
       "        text-align: right;\n",
       "    }\n",
       "</style>\n",
       "<table border=\"1\" class=\"dataframe\">\n",
       "  <thead>\n",
       "    <tr style=\"text-align: right;\">\n",
       "      <th></th>\n",
       "      <th>Megye</th>\n",
       "    </tr>\n",
       "  </thead>\n",
       "  <tbody>\n",
       "    <tr>\n",
       "      <th>Alexandrescu Emil Lucian | 1937-11-19</th>\n",
       "      <td>🇷🇴 Iași</td>\n",
       "    </tr>\n",
       "    <tr>\n",
       "      <th>Dobritoiu Teodoru | 1954-06-14</th>\n",
       "      <td>🇷🇴 Galac</td>\n",
       "    </tr>\n",
       "    <tr>\n",
       "      <th>Stef Mircea-Ioan | 1930-11-07</th>\n",
       "      <td>🇷🇴 Iași</td>\n",
       "    </tr>\n",
       "    <tr>\n",
       "      <th>Barbat Vasile | 1937-10-06</th>\n",
       "      <td>🇷🇴 Temes</td>\n",
       "    </tr>\n",
       "    <tr>\n",
       "      <th>Dumitrescu Alexandru | Ismeretlen</th>\n",
       "      <td>🇷🇴 Buzău</td>\n",
       "    </tr>\n",
       "  </tbody>\n",
       "</table>\n",
       "</div>"
      ],
      "text/plain": [
       "                                         Megye \n",
       "Alexandrescu Emil Lucian | 1937-11-19   🇷🇴 Iași\n",
       "Dobritoiu Teodoru | 1954-06-14         🇷🇴 Galac\n",
       "Stef Mircea-Ioan | 1930-11-07           🇷🇴 Iași\n",
       "Barbat Vasile | 1937-10-06             🇷🇴 Temes\n",
       "Dumitrescu Alexandru | Ismeretlen      🇷🇴 Buzău"
      ]
     },
     "execution_count": 56,
     "metadata": {},
     "output_type": "execute_result"
    }
   ],
   "source": [
    "g=pd.DataFrame(members['megye'],index=['Megye ']).T\n",
    "g.head()"
   ]
  },
  {
   "cell_type": "code",
   "execution_count": 63,
   "metadata": {},
   "outputs": [
    {
     "name": "stdout",
     "output_type": "stream",
     "text": [
      "0.0 %\n",
      "3.3029462280354074 %\n",
      "6.605892456070815 %\n",
      "9.908838684106223 %\n",
      "13.21178491214163 %\n",
      "16.514731140177037 %\n",
      "19.817677368212447 %\n",
      "23.120623596247853 %\n",
      "26.42356982428326 %\n",
      "29.72651605231867 %\n",
      "33.029462280354075 %\n",
      "36.332408508389484 %\n",
      "39.635354736424894 %\n",
      "42.938300964460296 %\n",
      "46.241247192495706 %\n",
      "49.544193420531116 %\n",
      "52.84713964856652 %\n",
      "56.15008587660193 %\n",
      "59.45303210463734 %\n",
      "62.75597833267275 %\n",
      "66.05892456070815 %\n",
      "69.36187078874356 %\n",
      "72.66481701677897 %\n",
      "75.96776324481438 %\n",
      "79.27070947284979 %\n",
      "82.57365570088518 %\n",
      "85.87660192892059 %\n",
      "89.179548156956 %\n",
      "92.48249438499141 %\n",
      "95.78544061302682 %\n",
      "99.08838684106223 %\n"
     ]
    }
   ],
   "source": [
    "data={}\n",
    "attention={}\n",
    "for k,i in enumerate(m):\n",
    "    if k%1000==0: print(k/len(m)*100,'%')\n",
    "    if i['Típus']=='Párt':\n",
    "        if i['Csoportok'] not in data:data[i['Csoportok']]={'start':pd.to_datetime('2030'),'end':pd.to_datetime('1980')}\n",
    "        start=pd.to_datetime(i['start'])\n",
    "        end=pd.to_datetime(i['end'])\n",
    "        data[i['Csoportok']]['start']=min(data[i['Csoportok']]['start'],start)\n",
    "        data[i['Csoportok']]['end']=max(data[i['Csoportok']]['end'],end)"
   ]
  },
  {
   "cell_type": "code",
   "execution_count": 198,
   "metadata": {},
   "outputs": [],
   "source": [
    "part_timelines=pd.DataFrame(data).T\n",
    "part_timelines.index.name='id'"
   ]
  },
  {
   "cell_type": "code",
   "execution_count": 199,
   "metadata": {},
   "outputs": [],
   "source": [
    "part_timelines['start']=part_timelines['start'].astype(str).str[:10]\n",
    "part_timelines['end']=part_timelines['end'].astype(str).str[:10]"
   ]
  },
  {
   "cell_type": "code",
   "execution_count": 200,
   "metadata": {},
   "outputs": [],
   "source": [
    "p=part_timelines.reset_index()[['id']]\n",
    "p['Color']=p['id'].str.split(' ').str[1].str.strip()\n",
    "p['Part']=p['id'].str.split('-').str[0].str.strip()"
   ]
  },
  {
   "cell_type": "code",
   "execution_count": 201,
   "metadata": {},
   "outputs": [],
   "source": [
    "part_timelines=part_timelines.join(p.set_index('id').drop_duplicates())"
   ]
  },
  {
   "cell_type": "code",
   "execution_count": 202,
   "metadata": {},
   "outputs": [],
   "source": [
    "logos={'🕊️':'ALDE', '🌹':'PSD', '📐':'PNL', '🔶':'PD', '⚛️':'PP-DD', '👤':'Független', '⚪️':'FSN',\n",
    "       '✳️':'PNTCD', '🔱':'PRM', '🌷':'RMDSZ', '🍀':'ECO', '🍏':'PMP',\n",
    "       '🔷':'USR', '🦅':'UNPR', '🔘':'Más'}"
   ]
  },
  {
   "cell_type": "code",
   "execution_count": 203,
   "metadata": {},
   "outputs": [],
   "source": [
    "part_timelines['logo']=part_timelines['Part'].str.split(' ').str[0]"
   ]
  },
  {
   "cell_type": "code",
   "execution_count": 204,
   "metadata": {},
   "outputs": [],
   "source": [
    "part_timelines['group']=[logos[i] for i in part_timelines['logo'].values]\n",
    "part_timelines['label']=[i+' '+logos[i] for i in part_timelines['logo'].values]"
   ]
  },
  {
   "cell_type": "code",
   "execution_count": 212,
   "metadata": {},
   "outputs": [],
   "source": [
    "part_timelines=part_timelines.join(pd.DataFrame(pcolors,index=['cvalue']).T,on='group').fillna('grey')"
   ]
  },
  {
   "cell_type": "code",
   "execution_count": 213,
   "metadata": {},
   "outputs": [],
   "source": [
    "part_timelines=list(part_timelines.reset_index().T.to_dict().values())"
   ]
  },
  {
   "cell_type": "code",
   "execution_count": 214,
   "metadata": {},
   "outputs": [
    {
     "data": {
      "text/plain": [
       "9874"
      ]
     },
     "execution_count": 214,
     "metadata": {},
     "output_type": "execute_result"
    }
   ],
   "source": [
    "open('json/part_timelines.json','w').write(json.dumps(part_timelines))"
   ]
  },
  {
   "cell_type": "code",
   "execution_count": 215,
   "metadata": {},
   "outputs": [
    {
     "data": {
      "text/plain": [
       "{'id': '🕊️ PUNR - Partidul Unităţii Naţionale Române',\n",
       " 'end': '2000-11-30',\n",
       " 'start': '1990-06-19',\n",
       " 'Color': 'PUNR',\n",
       " 'Part': '🕊️ PUNR',\n",
       " 'logo': '🕊️',\n",
       " 'group': 'ALDE',\n",
       " 'label': '🕊️ ALDE',\n",
       " 'cvalue': '#046cab'}"
      ]
     },
     "execution_count": 215,
     "metadata": {},
     "output_type": "execute_result"
    }
   ],
   "source": [
    "part_timelines[3]"
   ]
  }
 ],
 "metadata": {
  "kernelspec": {
   "display_name": "Python 3",
   "language": "python",
   "name": "python3"
  },
  "language_info": {
   "codemirror_mode": {
    "name": "ipython",
    "version": 3
   },
   "file_extension": ".py",
   "mimetype": "text/x-python",
   "name": "python",
   "nbconvert_exporter": "python",
   "pygments_lexer": "ipython3",
   "version": "3.6.7"
  },
  "toc": {
   "base_numbering": 1,
   "nav_menu": {},
   "number_sections": true,
   "sideBar": true,
   "skip_h1_title": false,
   "title_cell": "Table of Contents",
   "title_sidebar": "Contents",
   "toc_cell": false,
   "toc_position": {},
   "toc_section_display": true,
   "toc_window_display": false
  }
 },
 "nbformat": 4,
 "nbformat_minor": 2
}
