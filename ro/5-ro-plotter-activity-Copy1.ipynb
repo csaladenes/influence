{
 "cells": [
  {
   "cell_type": "code",
   "execution_count": 2,
   "metadata": {
    "ExecuteTime": {
     "end_time": "2019-03-07T02:56:32.521682Z",
     "start_time": "2019-03-07T02:56:26.288106Z"
    }
   },
   "outputs": [],
   "source": [
    "import pandas as pd, numpy as np, json, os"
   ]
  },
  {
   "cell_type": "code",
   "execution_count": 3,
   "metadata": {},
   "outputs": [],
   "source": [
    "base_url='http://www.cdep.ro'"
   ]
  },
  {
   "cell_type": "code",
   "execution_count": 4,
   "metadata": {},
   "outputs": [],
   "source": [
    "os.chdir('E:/Onedrive - Lancaster University/datarepo/influence/ro')"
   ]
  },
  {
   "cell_type": "code",
   "execution_count": 5,
   "metadata": {},
   "outputs": [],
   "source": [
    "nmembers=json.loads(open('data/nmembers.json','r').read())"
   ]
  },
  {
   "cell_type": "code",
   "execution_count": 6,
   "metadata": {},
   "outputs": [],
   "source": [
    "img=json.loads(open('data/img.json','r').read())"
   ]
  },
  {
   "cell_type": "code",
   "execution_count": 7,
   "metadata": {},
   "outputs": [],
   "source": [
    "os.chdir('E:/Skydrive/Github/influence/ro')"
   ]
  },
  {
   "cell_type": "code",
   "execution_count": 8,
   "metadata": {},
   "outputs": [],
   "source": [
    "legs={'2016':['2016-12-21','2019-05-01'],\n",
    "'2012':['2012-12-20','2016-12-21'],\n",
    "'2008':['2008-12-19','2012-12-20'],\n",
    "'2004':['2004-12-19','2008-12-13'],\n",
    "'2000':['2000-12-15','2004-11-30'],\n",
    "'1996':['1996-11-27','2000-11-30'],\n",
    "'1992':['1992-10-28','1996-11-22'],\n",
    "'1990':['1990-06-19','1992-10-16']}"
   ]
  },
  {
   "cell_type": "code",
   "execution_count": 9,
   "metadata": {},
   "outputs": [],
   "source": [
    "import altair as alt"
   ]
  },
  {
   "cell_type": "code",
   "execution_count": 39,
   "metadata": {},
   "outputs": [],
   "source": [
    "def extender(r,n=5):\n",
    "    p={}\n",
    "    for i in r:\n",
    "        for j in range(n):\n",
    "            p[i+j*' ']=r[i]+j*' '\n",
    "    return p"
   ]
  },
  {
   "cell_type": "code",
   "execution_count": 66,
   "metadata": {},
   "outputs": [],
   "source": [
    "pretty={'- din care declaraţii politice':'🧾 Nyilatkozatok',\n",
    "        'Declaraţii politice depuse în scris':'🧾 Nyilatkozatok',\n",
    "       'Luari de cuvânt':'🎙️ Felszólalások', \n",
    "        'Luari de cuvânt în BP':'🎙️ Felszólalások', \n",
    "        'Motiuni':'📚 Javaslatok', \n",
    "        'Proiecte de hotarâre initiate':'📚 Javaslatok', \n",
    "        'Propuneri legislative initiate':'📚 Javaslatok',\n",
    "        'Sedințe':'💺 Ülések', \n",
    "        'Întrebari si interpelari':'🎙️ Felszólalások'}"
   ]
  },
  {
   "cell_type": "code",
   "execution_count": 80,
   "metadata": {},
   "outputs": [],
   "source": [
    "efs=[]\n",
    "for n in nmembers:\n",
    "    m=nmembers[n]\n",
    "    data=[]\n",
    "    for pi in range(len(m['Link'])):\n",
    "        p=m['Link'][pi]\n",
    "        d={}\n",
    "        d['Name']=m['Name']['full']\n",
    "        d['Simple']=n\n",
    "        d['Link']=p\n",
    "        d['Session']=p[-10:-6]\n",
    "        for a in m['Activity']:\n",
    "            if type(m['Activity'][a])==list:\n",
    "                g=m['Activity'][a]\n",
    "            else:\n",
    "                g=[m['Activity'][a]]\n",
    "            for h in g:\n",
    "                if h['start']==legs[d['Session']][0]: \n",
    "                    if pretty[a] not in d:d[pretty[a]]=0\n",
    "                    d[pretty[a]]+=h['value']\n",
    "        data.append(d)\n",
    "    ef=pd.DataFrame(data)\n",
    "    \n",
    "    #append\n",
    "    efs.append(ef)"
   ]
  },
  {
   "cell_type": "code",
   "execution_count": 144,
   "metadata": {},
   "outputs": [
    {
     "name": "stderr",
     "output_type": "stream",
     "text": [
      "C:\\ProgramData\\Anaconda3\\lib\\site-packages\\ipykernel_launcher.py:1: FutureWarning: Sorting because non-concatenation axis is not aligned. A future version\n",
      "of pandas will change to not sort by default.\n",
      "\n",
      "To accept the future behavior, pass 'sort=False'.\n",
      "\n",
      "To retain the current behavior and silence the warning, pass 'sort=True'.\n",
      "\n",
      "  \"\"\"Entry point for launching an IPython kernel.\n"
     ]
    }
   ],
   "source": [
    "efs2=pd.concat(efs).fillna(0).reset_index().drop('index',axis=1)"
   ]
  },
  {
   "cell_type": "code",
   "execution_count": 178,
   "metadata": {},
   "outputs": [],
   "source": [
    "j=efs2.T.astype(str).to_dict()\n",
    "j2=list(j.values())"
   ]
  },
  {
   "cell_type": "code",
   "execution_count": 179,
   "metadata": {},
   "outputs": [],
   "source": [
    "j3={}\n",
    "for i in j2:\n",
    "    if i['Name'] not in j3:j3[i['Name']]=[]\n",
    "    j3[i['Name']].append(i)"
   ]
  },
  {
   "cell_type": "code",
   "execution_count": 180,
   "metadata": {},
   "outputs": [
    {
     "data": {
      "text/plain": [
       "1479466"
      ]
     },
     "execution_count": 180,
     "metadata": {},
     "output_type": "execute_result"
    }
   ],
   "source": [
    "open('json/member_activity.json','w').write(json.dumps(j3))"
   ]
  },
  {
   "cell_type": "code",
   "execution_count": 132,
   "metadata": {},
   "outputs": [],
   "source": [
    "efs3=[]\n",
    "cols=['🎙️ Felszólalások', '💺 Ülések',\n",
    "       '📚 Javaslatok', '🧾 Nyilatkozatok']\n",
    "for c in cols:\n",
    "    ef=efs2.set_index(['Name', 'Session', 'Simple'])[[c]]\n",
    "    ef.columns=['Value']\n",
    "    ef['Type']=c\n",
    "    efs3.append(ef)\n",
    "efs3=pd.concat(efs3).reset_index()"
   ]
  },
  {
   "cell_type": "code",
   "execution_count": 138,
   "metadata": {},
   "outputs": [
    {
     "name": "stderr",
     "output_type": "stream",
     "text": [
      "C:\\ProgramData\\Anaconda3\\lib\\site-packages\\ipykernel_launcher.py:1: UserWarning: DataFrame columns are not unique, some columns will be omitted.\n",
      "  \"\"\"Entry point for launching an IPython kernel.\n"
     ]
    },
    {
     "data": {
      "text/plain": [
       "293716"
      ]
     },
     "execution_count": 138,
     "metadata": {},
     "output_type": "execute_result"
    }
   ],
   "source": [
    "j=efs3.T.astype(str).to_dict()\n",
    "open('json/member_activity2.json','w').write(json.dumps(list(j.values())))"
   ]
  }
 ],
 "metadata": {
  "kernelspec": {
   "display_name": "Python 3",
   "language": "python",
   "name": "python3"
  },
  "language_info": {
   "codemirror_mode": {
    "name": "ipython",
    "version": 3
   },
   "file_extension": ".py",
   "mimetype": "text/x-python",
   "name": "python",
   "nbconvert_exporter": "python",
   "pygments_lexer": "ipython3",
   "version": "3.6.7"
  },
  "toc": {
   "base_numbering": 1,
   "nav_menu": {},
   "number_sections": true,
   "sideBar": true,
   "skip_h1_title": false,
   "title_cell": "Table of Contents",
   "title_sidebar": "Contents",
   "toc_cell": false,
   "toc_position": {},
   "toc_section_display": true,
   "toc_window_display": false
  }
 },
 "nbformat": 4,
 "nbformat_minor": 2
}
