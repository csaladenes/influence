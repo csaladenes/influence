{
 "cells": [
  {
   "cell_type": "code",
   "execution_count": 4,
   "metadata": {
    "ExecuteTime": {
     "end_time": "2019-03-07T02:56:32.521682Z",
     "start_time": "2019-03-07T02:56:26.288106Z"
    }
   },
   "outputs": [],
   "source": [
    "import pandas as pd, numpy as np, json, os\n",
    "import networkx as nx\n",
    "import operator\n",
    "import matplotlib.pyplot as plt\n",
    "%matplotlib inline"
   ]
  },
  {
   "cell_type": "code",
   "execution_count": 5,
   "metadata": {},
   "outputs": [],
   "source": [
    "plt.style.use('seaborn-whitegrid')"
   ]
  },
  {
   "cell_type": "code",
   "execution_count": 6,
   "metadata": {},
   "outputs": [],
   "source": [
    "m=json.loads(open('ignore/member_timelines.json','r').read())"
   ]
  },
  {
   "cell_type": "code",
   "execution_count": 7,
   "metadata": {},
   "outputs": [
    {
     "data": {
      "text/plain": [
       "{'⚛️ PP-DD - Partidul Poporului Dan Diaconescu',\n",
       " '⚪️ FDSN - ul Democrat al Salvarii Nationale',\n",
       " '⚪️ FSN - tul Salvării Naţionale',\n",
       " '✳️ PNTCD - ul Naţional Ţărănesc Creştin Democrat',\n",
       " '🌷 RMDSZ - Romániai Magyar Demokrata Szövetség',\n",
       " '🌹 PDSR - dul Democraţiei Sociale din România',\n",
       " '🌹 PSD - idul Social Democrat',\n",
       " '🌹 PSDR - dul Socialist Democratic din România',\n",
       " '🌹 PSM - idul Socialist al Muncii',\n",
       " '🍀 FER - raţia Ecologistă Română',\n",
       " '🍀 MER - area Ecologistă din România',\n",
       " '🍀 PDAR - dul Democrat Agrar din România',\n",
       " '🍀 PER - idul Ecologist Român',\n",
       " '🍏 PMP - idul Mişcarea Populară',\n",
       " '👤 Independent - Independent',\n",
       " '👤 Minorități - Minorități',\n",
       " '📐 PAC - idul Alianţei Civice',\n",
       " \"📐 PL'93 - ul Liberal\",\n",
       " '📐 PNL - idul Naţional Liberal',\n",
       " '📐 PNL-AT - l Naţional Liberal',\n",
       " '📐 PNL-CD - l Naţional Liberal',\n",
       " '🔘 AUR - nţa pentru Unitatea Românilor',\n",
       " '🔘 FC - ţa Civică',\n",
       " '🔘 GDC - area Democratică de Centru',\n",
       " '🔘 PAR - idul Alternativa României',\n",
       " '🔘 PDM - idul Democrat al Muncii',\n",
       " '🔘 PLS - idul Liber Schimbist',\n",
       " '🔘 PRNR - dul Reconstrucţiei Naţionale din România',\n",
       " '🔘 PTLDR - ul Tineretului Liber Democrat din România',\n",
       " '🔘 ULB - nea Liberală \"Brătianu\"',\n",
       " '🔱 PRM - idul România Mare',\n",
       " '🔶 PD - tidul Democrat',\n",
       " '🔶 PDL - idul Democrat Liberal',\n",
       " '🔷 USR - nea Salvaţi România',\n",
       " '🕊️ ALDE - dul Alianţa Liberalilor şi Democraţilor',\n",
       " '🕊️ PC - tidul Conservator',\n",
       " '🕊️ PUNR - dul Unităţii Naţionale Române',\n",
       " '🕊️ PUR-SL - Partidul Umanist din România',\n",
       " '🦅 UNPR - ea Naţională pentru Progresul României'}"
      ]
     },
     "execution_count": 7,
     "metadata": {},
     "output_type": "execute_result"
    }
   ],
   "source": [
    "set([i['Csoportok'] for i in m if i['Típus']=='Párt'])"
   ]
  },
  {
   "cell_type": "code",
   "execution_count": 14,
   "metadata": {},
   "outputs": [],
   "source": [
    "def replace_all(text, dic):\n",
    "    for i in dic:\n",
    "        text = text.replace(i, dic[i])\n",
    "    return text"
   ]
  },
  {
   "cell_type": "code",
   "execution_count": 30,
   "metadata": {},
   "outputs": [],
   "source": [
    "medals={'🥈':2,'🥇':3,'🥉':1.5,'🏅':1.25,'🚩':1.5}\n",
    "medals_none={i:'' for i in medals}\n",
    "\n",
    "bizotts={'Parlamenti Iroda':2,\n",
    "         'Állambiztonság':2,\n",
    "         'Állami ügyek':1.5,\n",
    "         'Választások':1.5,\n",
    "         'Parlament':1.5,\n",
    "         'Pénzügy':1.5,\n",
    "         'Biztonság':1.5,\n",
    "         '🇺🇳':2,\n",
    "         '🇺🇸':1.5,\n",
    "         '🇫🇷':1.5,\n",
    "         '🇮🇱':1.5,\n",
    "         '🇪🇸':1.5,\n",
    "         '🇮🇹':1.5,\n",
    "         '🇬🇧':1.5,\n",
    "        '🏅🔼 Szenátus':2,\n",
    "        '🏅🔽 Képviselőház':2,\n",
    "        '🥇🔼 Szenátus':5,\n",
    "        '🥇🔽 Képviselőház':5,\n",
    "        '🥈🔼 Szenátus':4,\n",
    "        '🥈🔽 Képviselőház':4,\n",
    "        '🥉🔼 Szenátus':3,\n",
    "        '🥉🔽 Képviselőház':3}"
   ]
  },
  {
   "cell_type": "code",
   "execution_count": null,
   "metadata": {},
   "outputs": [
    {
     "name": "stdout",
     "output_type": "stream",
     "text": [
      "0.0 %\n",
      "2.9080757262919126 %\n",
      "5.816151452583825 %\n",
      "8.724227178875738 %\n",
      "11.63230290516765 %\n",
      "14.540378631459564 %\n",
      "17.448454357751476 %\n",
      "20.35653008404339 %\n",
      "23.2646058103353 %\n",
      "26.172681536627213 %\n",
      "29.08075726291913 %\n",
      "31.98883298921104 %\n",
      "34.89690871550295 %\n"
     ]
    }
   ],
   "source": [
    "data={'Ország':{},'Bizottság':{},'Párt':{},'Megye':{}}\n",
    "attention={}\n",
    "for k,i in enumerate(m):\n",
    "    if k%1000==0: print(k/len(m)*100,'%')\n",
    "    name=i['Simple']\n",
    "    if i['Típus'] in list(data.keys()):\n",
    "        csoport=i['Csoportok']\n",
    "        csoport=replace_all(csoport,medals_none)\n",
    "        if csoport not in data[i['Típus']]:data[i['Típus']][csoport]={}\n",
    "        for t in pd.date_range(i['start'],i['end']):\n",
    "            st=str(t)[:10]\n",
    "            if st not in data[i['Típus']][csoport]:data[i['Típus']][csoport][st]=set()\n",
    "            data[i['Típus']][csoport][st].add(name)            \n",
    "            if name not in attention:attention[name]={}\n",
    "            if csoport not in attention[name]:attention[name][csoport]={}\n",
    "            if st not in attention[name][csoport]:attention[name][csoport][st]=0\n",
    "            v=1\n",
    "            for j in medals:\n",
    "                if j in i['Csoportok']:\n",
    "                    v*=medals[j]\n",
    "            for j in bizotts:\n",
    "                if j in i['Csoportok']:\n",
    "                    v*=bizotts[j]\n",
    "            attention[name][csoport][st]+=v"
   ]
  },
  {
   "cell_type": "code",
   "execution_count": null,
   "metadata": {},
   "outputs": [],
   "source": [
    "def anneal(t,p=7):\n",
    "    #pd.to_datetime('2020-01-01')-pd.to_datetime('1989-01-01')=11322\n",
    "    return (2-(pd.to_datetime('2020-01-01')-pd.to_datetime(t)).days/11322)**p\n",
    "    \n",
    "tanneal={}\n",
    "anneal2020=anneal(pd.to_datetime('2020'))\n",
    "for t in pd.date_range('1990','2020'):\n",
    "    tanneal[t]=anneal(t)/anneal2020+0.1\n",
    "    tanneal[str(t)[:10]]=tanneal[t]\n",
    "plt.subplots(1,1,figsize=(5,3))\n",
    "plt.plot(tanneal.keys(),tanneal.values())\n",
    "plt.ylabel('Elavulási együttható')\n",
    "plt.show()"
   ]
  },
  {
   "cell_type": "code",
   "execution_count": null,
   "metadata": {},
   "outputs": [],
   "source": [
    "edges={}\n",
    "edges2={}\n",
    "points={'Ország':1.5,'Bizottság':4,'Párt':2,'Megye':1}\n",
    "for tipus in data:\n",
    "    for csoport in data[tipus]:\n",
    "        print(csoport)\n",
    "        for t in data[tipus][csoport]:\n",
    "            names=list(data[tipus][csoport][t])\n",
    "            for r in range(len(names)):\n",
    "                name=names[r]\n",
    "                for p in range(r+1,len(names)):\n",
    "                    name2=names[p]\n",
    "                    nset=tuple(np.sort([name,name2]))\n",
    "                    v=points[tipus]\n",
    "                    \n",
    "                    #symmetric\n",
    "                    if nset not in edges:edges[nset]={'anneal':0,'values':0}\n",
    "                    edges[nset]['values']+=v\n",
    "                    edges[nset]['anneal']+=v*tanneal[t]\n",
    "                    \n",
    "                    #asymmetric\n",
    "                    nset=tuple(np.sort([name,name2]))\n",
    "                    v=points[tipus]*attention[name][csoport][t]\n",
    "                    if nset not in edges2:edges2[nset]={'anneal':0,'values':0}\n",
    "                    edges2[nset]['values']+=v\n",
    "                    edges2[nset]['anneal']+=v*tanneal[t]\n",
    "                    \n",
    "                    nset=tuple(np.sort([name,name2]))\n",
    "                    v=points[tipus]*attention[name2][csoport][t]\n",
    "                    nset=tuple(np.sort([name,name2])[::-1])\n",
    "                    if nset not in edges2:edges2[nset]={'anneal':0,'values':0}\n",
    "                    edges2[nset]['values']+=v\n",
    "                    edges2[nset]['anneal']+=v*tanneal[t]"
   ]
  },
  {
   "cell_type": "markdown",
   "metadata": {},
   "source": [
    "Save"
   ]
  },
  {
   "cell_type": "code",
   "execution_count": null,
   "metadata": {},
   "outputs": [],
   "source": [
    "import pickle"
   ]
  },
  {
   "cell_type": "code",
   "execution_count": null,
   "metadata": {},
   "outputs": [],
   "source": [
    "def save_obj(obj, name ):\n",
    "    with open('ignore/'+ name + '.pkl', 'wb') as f:\n",
    "        pickle.dump(obj, f, pickle.HIGHEST_PROTOCOL)\n",
    "\n",
    "def load_obj(name ):\n",
    "    with open('ignore/' + name + '.pkl', 'rb') as f:\n",
    "        return pickle.load(f)"
   ]
  },
  {
   "cell_type": "code",
   "execution_count": null,
   "metadata": {},
   "outputs": [],
   "source": [
    "save_obj(edges,'plotter_name_edges')"
   ]
  },
  {
   "cell_type": "code",
   "execution_count": null,
   "metadata": {},
   "outputs": [],
   "source": [
    "#edges=load_obj('plotter_name_edges')"
   ]
  },
  {
   "cell_type": "markdown",
   "metadata": {},
   "source": [
    "Prune"
   ]
  },
  {
   "cell_type": "code",
   "execution_count": null,
   "metadata": {},
   "outputs": [],
   "source": [
    "df=pd.DataFrame(edges).T"
   ]
  },
  {
   "cell_type": "markdown",
   "metadata": {},
   "source": [
    "Unweighted"
   ]
  },
  {
   "cell_type": "code",
   "execution_count": null,
   "metadata": {},
   "outputs": [],
   "source": [
    "all_nodes=set(df.reset_index()['level_0']).union(df.reset_index()['level_1'])\n",
    "nodes={}\n",
    "for i in all_nodes:\n",
    "    if i not in nodes:\n",
    "        nodes[i]={'pr':0,'bc':0,'cf':0}"
   ]
  },
  {
   "cell_type": "code",
   "execution_count": null,
   "metadata": {},
   "outputs": [],
   "source": [
    "min_baratsag=365*2*4  #average bizottsag-barastag * hany ev\n",
    "df2=df[df['anneal']>min_baratsag]\n",
    "df2['regi']=df2['anneal']/df2['values']\n",
    "df2=df2['anneal'].reset_index()\n",
    "df2.columns=['source','target','weight']"
   ]
  },
  {
   "cell_type": "code",
   "execution_count": null,
   "metadata": {},
   "outputs": [],
   "source": [
    "G=nx.Graph(df2)\n",
    "\n",
    "r = nx.pagerank(G,weight='weight')\n",
    "mr=np.median(list(r.values()))\n",
    "for i in r:\n",
    "    nodes[i]['pr']=r[i]/mr\n",
    "    \n",
    "Gc = max(nx.connected_component_subgraphs(G), key=len)\n",
    "r = nx.current_flow_closeness_centrality(Gc,weight='weight')\n",
    "mr=np.median(list(r.values()))\n",
    "for i in r:\n",
    "    nodes[i]['cf']=r[i]/mr\n",
    "    \n",
    "links={}\n",
    "for i in G.edges(data=True):\n",
    "    name=i[0]\n",
    "    name2=i[1]\n",
    "    z=i[2]['weight']\n",
    "    if name not in links:links[name]={}\n",
    "    links[name][name2]=z"
   ]
  },
  {
   "cell_type": "code",
   "execution_count": null,
   "metadata": {},
   "outputs": [],
   "source": [
    "#save \n",
    "network={'nodes':nodes,'links':links}\n",
    "print(len(nodes),'nodes and',len(G.edges()),'edges')\n",
    "open('ignore/plotter_name.json','w').write(json.dumps(network))\n",
    "import zipfile\n",
    "\n",
    "with zipfile.ZipFile(\"json/plotter_name.zip\", \"w\", compression=zipfile.ZIP_DEFLATED) as zf:\n",
    "    zf.write(\"ignore/plotter_name.json\",'plotter_name.json')"
   ]
  },
  {
   "cell_type": "code",
   "execution_count": null,
   "metadata": {},
   "outputs": [],
   "source": [
    "#Normalize links by their average weighted in-degree node? create directed graph\n",
    "#mixture of relative value and absolute value links\n",
    "#of course ven more realistic do do it through the attention, yeear by year"
   ]
  },
  {
   "cell_type": "markdown",
   "metadata": {},
   "source": [
    "Weighted"
   ]
  },
  {
   "cell_type": "code",
   "execution_count": null,
   "metadata": {},
   "outputs": [],
   "source": [
    "lv={i:edges[i]['anneal'] for i in edges}\n",
    "sorted_x = sorted(lv.items(), key=operator.itemgetter(1))\n",
    "sorted_x[-20:]"
   ]
  },
  {
   "cell_type": "code",
   "execution_count": null,
   "metadata": {},
   "outputs": [],
   "source": [
    "plt.hist(lv.values(),bins=50,rwidth=0.7);\n",
    "plt.yscale('log')\n",
    "plt.xlabel('Kapcsolat erőssége');\n",
    "plt.ylabel('Kapcsolatok száma');"
   ]
  },
  {
   "cell_type": "code",
   "execution_count": 396,
   "metadata": {},
   "outputs": [],
   "source": [
    "dflog=df.reset_index()\n",
    "dflog['log']=np.log(dflog['anneal'])\n",
    "mean0=dflog.groupby('level_0').median()[['log']]\n",
    "mean1=dflog.groupby('level_1').median()[['log']]\n",
    "mean0.columns=['mean0']\n",
    "mean1.columns=['mean1']\n",
    "dfm=mean0.join(mean1)\n",
    "\n",
    "count0=dflog.groupby('level_0').count()[['log']]\n",
    "count1=dflog.groupby('level_1').count()[['log']]\n",
    "count0.columns=['count0']\n",
    "count1.columns=['count1']\n",
    "dfc=count0.join(count1)"
   ]
  },
  {
   "cell_type": "code",
   "execution_count": 397,
   "metadata": {},
   "outputs": [],
   "source": [
    "dfm=dfm.T.fillna(method='pad').T\n",
    "dfm['mean']=(dfm['mean0']+dfm['mean1'])/2\n",
    "\n",
    "dfc=dfc.fillna(0)\n",
    "dfc['total']=(dfc['count0']+dfc['count1'])"
   ]
  },
  {
   "cell_type": "code",
   "execution_count": 398,
   "metadata": {},
   "outputs": [
    {
     "data": {
      "text/plain": [
       "<matplotlib.axes._subplots.AxesSubplot at 0x1b621529a58>"
      ]
     },
     "execution_count": 398,
     "metadata": {},
     "output_type": "execute_result"
    },
    {
     "data": {
      "image/png": "[encoded data removed]",
      "text/plain": [
       "<Figure size 432x288 with 1 Axes>"
      ]
     },
     "metadata": {},
     "output_type": "display_data"
    }
   ],
   "source": [
    "dfm=dfm.join(dfc)\n",
    "dfm['intensity']=dfm['mean']/dfm['total']\n",
    "dfm['attention']=(dfm['total'].mean()/dfm['total'])**0.3\n",
    "dfm['attention'].hist()"
   ]
  },
  {
   "cell_type": "code",
   "execution_count": 399,
   "metadata": {},
   "outputs": [
    {
     "data": {
      "text/html": [
       "<div>\n",
       "<style scoped>\n",
       "    .dataframe tbody tr th:only-of-type {\n",
       "        vertical-align: middle;\n",
       "    }\n",
       "\n",
       "    .dataframe tbody tr th {\n",
       "        vertical-align: top;\n",
       "    }\n",
       "\n",
       "    .dataframe thead th {\n",
       "        text-align: right;\n",
       "    }\n",
       "</style>\n",
       "<table border=\"1\" class=\"dataframe\">\n",
       "  <thead>\n",
       "    <tr style=\"text-align: right;\">\n",
       "      <th></th>\n",
       "      <th>mean0</th>\n",
       "      <th>mean1</th>\n",
       "      <th>mean</th>\n",
       "      <th>count0</th>\n",
       "      <th>count1</th>\n",
       "      <th>total</th>\n",
       "      <th>intensity</th>\n",
       "      <th>attention</th>\n",
       "    </tr>\n",
       "    <tr>\n",
       "      <th>level_0</th>\n",
       "      <th></th>\n",
       "      <th></th>\n",
       "      <th></th>\n",
       "      <th></th>\n",
       "      <th></th>\n",
       "      <th></th>\n",
       "      <th></th>\n",
       "      <th></th>\n",
       "    </tr>\n",
       "  </thead>\n",
       "  <tbody>\n",
       "    <tr>\n",
       "      <th>Arcan Emilia | 1965-02-13</th>\n",
       "      <td>7.436720</td>\n",
       "      <td>7.842185</td>\n",
       "      <td>7.639452</td>\n",
       "      <td>388</td>\n",
       "      <td>8.0</td>\n",
       "      <td>396.0</td>\n",
       "      <td>0.019292</td>\n",
       "      <td>0.995675</td>\n",
       "    </tr>\n",
       "    <tr>\n",
       "      <th>Wiener Adrian | 1973-06-23</th>\n",
       "      <td>7.842185</td>\n",
       "      <td>7.436720</td>\n",
       "      <td>7.639452</td>\n",
       "      <td>3</td>\n",
       "      <td>127.0</td>\n",
       "      <td>130.0</td>\n",
       "      <td>0.058765</td>\n",
       "      <td>1.390732</td>\n",
       "    </tr>\n",
       "    <tr>\n",
       "      <th>Ungureanu Emanuel-Dumitru | 1978-03-12</th>\n",
       "      <td>7.842185</td>\n",
       "      <td>7.436720</td>\n",
       "      <td>7.639452</td>\n",
       "      <td>16</td>\n",
       "      <td>197.0</td>\n",
       "      <td>213.0</td>\n",
       "      <td>0.035866</td>\n",
       "      <td>1.199258</td>\n",
       "    </tr>\n",
       "    <tr>\n",
       "      <th>Simionca Ioan | 1963-07-21</th>\n",
       "      <td>7.842185</td>\n",
       "      <td>7.436720</td>\n",
       "      <td>7.639452</td>\n",
       "      <td>29</td>\n",
       "      <td>151.0</td>\n",
       "      <td>180.0</td>\n",
       "      <td>0.042441</td>\n",
       "      <td>1.261376</td>\n",
       "    </tr>\n",
       "    <tr>\n",
       "      <th>Pataki Csaba | 1973-07-19</th>\n",
       "      <td>7.596846</td>\n",
       "      <td>7.718343</td>\n",
       "      <td>7.657594</td>\n",
       "      <td>116</td>\n",
       "      <td>285.0</td>\n",
       "      <td>401.0</td>\n",
       "      <td>0.019096</td>\n",
       "      <td>0.991935</td>\n",
       "    </tr>\n",
       "    <tr>\n",
       "      <th>Ghera Giureci-Slobodan | 1979-04-15</th>\n",
       "      <td>7.571131</td>\n",
       "      <td>7.842185</td>\n",
       "      <td>7.706658</td>\n",
       "      <td>202</td>\n",
       "      <td>133.0</td>\n",
       "      <td>335.0</td>\n",
       "      <td>0.023005</td>\n",
       "      <td>1.046919</td>\n",
       "    </tr>\n",
       "    <tr>\n",
       "      <th>Popescu Nicolae-Daniel | 1981-05-31</th>\n",
       "      <td>7.720349</td>\n",
       "      <td>7.720349</td>\n",
       "      <td>7.720349</td>\n",
       "      <td>46</td>\n",
       "      <td>124.0</td>\n",
       "      <td>170.0</td>\n",
       "      <td>0.045414</td>\n",
       "      <td>1.283192</td>\n",
       "    </tr>\n",
       "    <tr>\n",
       "      <th>Korodi Attila | 1977-06-23</th>\n",
       "      <td>7.842185</td>\n",
       "      <td>7.612952</td>\n",
       "      <td>7.727569</td>\n",
       "      <td>247</td>\n",
       "      <td>241.0</td>\n",
       "      <td>488.0</td>\n",
       "      <td>0.015835</td>\n",
       "      <td>0.935191</td>\n",
       "    </tr>\n",
       "    <tr>\n",
       "      <th>Avram Constantin | 1954-06-10</th>\n",
       "      <td>7.669168</td>\n",
       "      <td>7.842185</td>\n",
       "      <td>7.755677</td>\n",
       "      <td>259</td>\n",
       "      <td>8.0</td>\n",
       "      <td>267.0</td>\n",
       "      <td>0.029047</td>\n",
       "      <td>1.120658</td>\n",
       "    </tr>\n",
       "    <tr>\n",
       "      <th>Zisopol Dragos Gabriel | 1967-11-12</th>\n",
       "      <td>8.256431</td>\n",
       "      <td>7.555504</td>\n",
       "      <td>7.905968</td>\n",
       "      <td>1</td>\n",
       "      <td>285.0</td>\n",
       "      <td>286.0</td>\n",
       "      <td>0.027643</td>\n",
       "      <td>1.097783</td>\n",
       "    </tr>\n",
       "  </tbody>\n",
       "</table>\n",
       "</div>"
      ],
      "text/plain": [
       "                                           mean0     mean1      mean  count0  \\\n",
       "level_0                                                                        \n",
       "Arcan Emilia | 1965-02-13               7.436720  7.842185  7.639452     388   \n",
       "Wiener Adrian | 1973-06-23              7.842185  7.436720  7.639452       3   \n",
       "Ungureanu Emanuel-Dumitru | 1978-03-12  7.842185  7.436720  7.639452      16   \n",
       "Simionca Ioan | 1963-07-21              7.842185  7.436720  7.639452      29   \n",
       "Pataki Csaba | 1973-07-19               7.596846  7.718343  7.657594     116   \n",
       "Ghera Giureci-Slobodan | 1979-04-15     7.571131  7.842185  7.706658     202   \n",
       "Popescu Nicolae-Daniel | 1981-05-31     7.720349  7.720349  7.720349      46   \n",
       "Korodi Attila | 1977-06-23              7.842185  7.612952  7.727569     247   \n",
       "Avram Constantin | 1954-06-10           7.669168  7.842185  7.755677     259   \n",
       "Zisopol Dragos Gabriel | 1967-11-12     8.256431  7.555504  7.905968       1   \n",
       "\n",
       "                                        count1  total  intensity  attention  \n",
       "level_0                                                                      \n",
       "Arcan Emilia | 1965-02-13                  8.0  396.0   0.019292   0.995675  \n",
       "Wiener Adrian | 1973-06-23               127.0  130.0   0.058765   1.390732  \n",
       "Ungureanu Emanuel-Dumitru | 1978-03-12   197.0  213.0   0.035866   1.199258  \n",
       "Simionca Ioan | 1963-07-21               151.0  180.0   0.042441   1.261376  \n",
       "Pataki Csaba | 1973-07-19                285.0  401.0   0.019096   0.991935  \n",
       "Ghera Giureci-Slobodan | 1979-04-15      133.0  335.0   0.023005   1.046919  \n",
       "Popescu Nicolae-Daniel | 1981-05-31      124.0  170.0   0.045414   1.283192  \n",
       "Korodi Attila | 1977-06-23               241.0  488.0   0.015835   0.935191  \n",
       "Avram Constantin | 1954-06-10              8.0  267.0   0.029047   1.120658  \n",
       "Zisopol Dragos Gabriel | 1967-11-12      285.0  286.0   0.027643   1.097783  "
      ]
     },
     "execution_count": 399,
     "metadata": {},
     "output_type": "execute_result"
    }
   ],
   "source": [
    "dfm.sort_values(by='mean').tail(10)"
   ]
  },
  {
   "cell_type": "code",
   "execution_count": 400,
   "metadata": {},
   "outputs": [
    {
     "data": {
      "text/html": [
       "<div>\n",
       "<style scoped>\n",
       "    .dataframe tbody tr th:only-of-type {\n",
       "        vertical-align: middle;\n",
       "    }\n",
       "\n",
       "    .dataframe tbody tr th {\n",
       "        vertical-align: top;\n",
       "    }\n",
       "\n",
       "    .dataframe thead th {\n",
       "        text-align: right;\n",
       "    }\n",
       "</style>\n",
       "<table border=\"1\" class=\"dataframe\">\n",
       "  <thead>\n",
       "    <tr style=\"text-align: right;\">\n",
       "      <th></th>\n",
       "      <th>mean0</th>\n",
       "      <th>mean1</th>\n",
       "      <th>mean</th>\n",
       "      <th>count0</th>\n",
       "      <th>count1</th>\n",
       "      <th>total</th>\n",
       "      <th>intensity</th>\n",
       "      <th>attention</th>\n",
       "    </tr>\n",
       "    <tr>\n",
       "      <th>level_0</th>\n",
       "      <th></th>\n",
       "      <th></th>\n",
       "      <th></th>\n",
       "      <th></th>\n",
       "      <th></th>\n",
       "      <th></th>\n",
       "      <th></th>\n",
       "      <th></th>\n",
       "    </tr>\n",
       "  </thead>\n",
       "  <tbody>\n",
       "    <tr>\n",
       "      <th>Blaga Vasile | 1956-07-26</th>\n",
       "      <td>6.290365</td>\n",
       "      <td>6.464729</td>\n",
       "      <td>6.377547</td>\n",
       "      <td>1212</td>\n",
       "      <td>123.0</td>\n",
       "      <td>1335.0</td>\n",
       "      <td>0.004777</td>\n",
       "      <td>0.691484</td>\n",
       "    </tr>\n",
       "    <tr>\n",
       "      <th>Radulescu Cristian | 1955-11-13</th>\n",
       "      <td>6.459387</td>\n",
       "      <td>6.367045</td>\n",
       "      <td>6.413216</td>\n",
       "      <td>307</td>\n",
       "      <td>1047.0</td>\n",
       "      <td>1354.0</td>\n",
       "      <td>0.004736</td>\n",
       "      <td>0.688558</td>\n",
       "    </tr>\n",
       "    <tr>\n",
       "      <th>Man Mircea | 1962-11-26</th>\n",
       "      <td>6.212016</td>\n",
       "      <td>6.184723</td>\n",
       "      <td>6.198369</td>\n",
       "      <td>672</td>\n",
       "      <td>692.0</td>\n",
       "      <td>1364.0</td>\n",
       "      <td>0.004544</td>\n",
       "      <td>0.687040</td>\n",
       "    </tr>\n",
       "    <tr>\n",
       "      <th>Nicolaescu Sergiu-Florin | 1930-04-13</th>\n",
       "      <td>6.120791</td>\n",
       "      <td>5.763968</td>\n",
       "      <td>5.942379</td>\n",
       "      <td>512</td>\n",
       "      <td>869.0</td>\n",
       "      <td>1381.0</td>\n",
       "      <td>0.004303</td>\n",
       "      <td>0.684492</td>\n",
       "    </tr>\n",
       "    <tr>\n",
       "      <th>Oltean Ioan | 1953-04-20</th>\n",
       "      <td>6.654727</td>\n",
       "      <td>6.654727</td>\n",
       "      <td>6.654727</td>\n",
       "      <td>499</td>\n",
       "      <td>884.0</td>\n",
       "      <td>1383.0</td>\n",
       "      <td>0.004812</td>\n",
       "      <td>0.684195</td>\n",
       "    </tr>\n",
       "    <tr>\n",
       "      <th>Timis Ioan | 1951-09-17</th>\n",
       "      <td>5.969900</td>\n",
       "      <td>6.099069</td>\n",
       "      <td>6.034485</td>\n",
       "      <td>119</td>\n",
       "      <td>1271.0</td>\n",
       "      <td>1390.0</td>\n",
       "      <td>0.004341</td>\n",
       "      <td>0.683159</td>\n",
       "    </tr>\n",
       "    <tr>\n",
       "      <th>Dumitrescu Cristian-Sorin | 1955-04-24</th>\n",
       "      <td>7.085705</td>\n",
       "      <td>7.187767</td>\n",
       "      <td>7.136736</td>\n",
       "      <td>1007</td>\n",
       "      <td>404.0</td>\n",
       "      <td>1411.0</td>\n",
       "      <td>0.005058</td>\n",
       "      <td>0.680093</td>\n",
       "    </tr>\n",
       "    <tr>\n",
       "      <th>Nistor Vasile | 1956-09-08</th>\n",
       "      <td>6.516151</td>\n",
       "      <td>6.458994</td>\n",
       "      <td>6.487573</td>\n",
       "      <td>507</td>\n",
       "      <td>912.0</td>\n",
       "      <td>1419.0</td>\n",
       "      <td>0.004572</td>\n",
       "      <td>0.678940</td>\n",
       "    </tr>\n",
       "    <tr>\n",
       "      <th>Nicolicea Eugen | 1956-06-06</th>\n",
       "      <td>6.972722</td>\n",
       "      <td>6.959457</td>\n",
       "      <td>6.966090</td>\n",
       "      <td>551</td>\n",
       "      <td>915.0</td>\n",
       "      <td>1466.0</td>\n",
       "      <td>0.004752</td>\n",
       "      <td>0.672336</td>\n",
       "    </tr>\n",
       "    <tr>\n",
       "      <th>Niculescu Duvaz Bogdan Nicolae | 1948-12-14</th>\n",
       "      <td>6.356670</td>\n",
       "      <td>6.120791</td>\n",
       "      <td>6.238731</td>\n",
       "      <td>564</td>\n",
       "      <td>1012.0</td>\n",
       "      <td>1576.0</td>\n",
       "      <td>0.003959</td>\n",
       "      <td>0.657899</td>\n",
       "    </tr>\n",
       "  </tbody>\n",
       "</table>\n",
       "</div>"
      ],
      "text/plain": [
       "                                                mean0     mean1      mean  \\\n",
       "level_0                                                                     \n",
       "Blaga Vasile | 1956-07-26                    6.290365  6.464729  6.377547   \n",
       "Radulescu Cristian | 1955-11-13              6.459387  6.367045  6.413216   \n",
       "Man Mircea | 1962-11-26                      6.212016  6.184723  6.198369   \n",
       "Nicolaescu Sergiu-Florin | 1930-04-13        6.120791  5.763968  5.942379   \n",
       "Oltean Ioan | 1953-04-20                     6.654727  6.654727  6.654727   \n",
       "Timis Ioan | 1951-09-17                      5.969900  6.099069  6.034485   \n",
       "Dumitrescu Cristian-Sorin | 1955-04-24       7.085705  7.187767  7.136736   \n",
       "Nistor Vasile | 1956-09-08                   6.516151  6.458994  6.487573   \n",
       "Nicolicea Eugen | 1956-06-06                 6.972722  6.959457  6.966090   \n",
       "Niculescu Duvaz Bogdan Nicolae | 1948-12-14  6.356670  6.120791  6.238731   \n",
       "\n",
       "                                             count0  count1   total  \\\n",
       "level_0                                                               \n",
       "Blaga Vasile | 1956-07-26                      1212   123.0  1335.0   \n",
       "Radulescu Cristian | 1955-11-13                 307  1047.0  1354.0   \n",
       "Man Mircea | 1962-11-26                         672   692.0  1364.0   \n",
       "Nicolaescu Sergiu-Florin | 1930-04-13           512   869.0  1381.0   \n",
       "Oltean Ioan | 1953-04-20                        499   884.0  1383.0   \n",
       "Timis Ioan | 1951-09-17                         119  1271.0  1390.0   \n",
       "Dumitrescu Cristian-Sorin | 1955-04-24         1007   404.0  1411.0   \n",
       "Nistor Vasile | 1956-09-08                      507   912.0  1419.0   \n",
       "Nicolicea Eugen | 1956-06-06                    551   915.0  1466.0   \n",
       "Niculescu Duvaz Bogdan Nicolae | 1948-12-14     564  1012.0  1576.0   \n",
       "\n",
       "                                             intensity  attention  \n",
       "level_0                                                            \n",
       "Blaga Vasile | 1956-07-26                     0.004777   0.691484  \n",
       "Radulescu Cristian | 1955-11-13               0.004736   0.688558  \n",
       "Man Mircea | 1962-11-26                       0.004544   0.687040  \n",
       "Nicolaescu Sergiu-Florin | 1930-04-13         0.004303   0.684492  \n",
       "Oltean Ioan | 1953-04-20                      0.004812   0.684195  \n",
       "Timis Ioan | 1951-09-17                       0.004341   0.683159  \n",
       "Dumitrescu Cristian-Sorin | 1955-04-24        0.005058   0.680093  \n",
       "Nistor Vasile | 1956-09-08                    0.004572   0.678940  \n",
       "Nicolicea Eugen | 1956-06-06                  0.004752   0.672336  \n",
       "Niculescu Duvaz Bogdan Nicolae | 1948-12-14   0.003959   0.657899  "
      ]
     },
     "execution_count": 400,
     "metadata": {},
     "output_type": "execute_result"
    }
   ],
   "source": [
    "dfm.sort_values(by='total').tail(10)"
   ]
  },
  {
   "cell_type": "code",
   "execution_count": 401,
   "metadata": {},
   "outputs": [
    {
     "name": "stdout",
     "output_type": "stream",
     "text": [
      "1576\n",
      "1113.6449475441755\n",
      "471.4897911943567\n"
     ]
    },
    {
     "data": {
      "image/png": "[encoded data removed]",
      "text/plain": [
       "<Figure size 432x288 with 4 Axes>"
      ]
     },
     "metadata": {},
     "output_type": "display_data"
    }
   ],
   "source": [
    "n='Niculescu Duvaz Bogdan Nicolae | 1948-12-14'\n",
    "h=dflog[(dflog['level_0']==n)|\\\n",
    "     (dflog['level_1']==n)]\n",
    "print(len(h))\n",
    "print(np.mean(h['anneal']))\n",
    "print(np.median(h['anneal']))\n",
    "h.hist();"
   ]
  },
  {
   "cell_type": "code",
   "execution_count": 402,
   "metadata": {},
   "outputs": [
    {
     "name": "stdout",
     "output_type": "stream",
     "text": [
      "488\n",
      "2234.2497502930087\n",
      "2463.346443636172\n"
     ]
    },
    {
     "data": {
      "image/png": "[encoded data removed]",
      "text/plain": [
       "<Figure size 432x288 with 4 Axes>"
      ]
     },
     "metadata": {},
     "output_type": "display_data"
    }
   ],
   "source": [
    "n='Korodi Attila | 1977-06-23'\n",
    "h=dflog[(dflog['level_0']==n)|\\\n",
    "     (dflog['level_1']==n)]\n",
    "print(len(h))\n",
    "print(np.mean(h['anneal']))\n",
    "print(np.median(h['anneal']))\n",
    "h.hist();"
   ]
  },
  {
   "cell_type": "code",
   "execution_count": 454,
   "metadata": {},
   "outputs": [
    {
     "data": {
      "text/plain": [
       "<matplotlib.axes._subplots.AxesSubplot at 0x1b622c93940>"
      ]
     },
     "execution_count": 454,
     "metadata": {},
     "output_type": "execute_result"
    },
    {
     "data": {
      "image/png": "[encoded data removed]",
      "text/plain": [
       "<Figure size 432x288 with 2 Axes>"
      ]
     },
     "metadata": {},
     "output_type": "display_data"
    }
   ],
   "source": [
    "dfm.plot.scatter(x='mean',y='total',c='attention',colormap='viridis')"
   ]
  },
  {
   "cell_type": "code",
   "execution_count": 455,
   "metadata": {},
   "outputs": [],
   "source": [
    "all_nodes=set(df.reset_index()['level_0']).union(df.reset_index()['level_1'])\n",
    "nodes={}\n",
    "for i in all_nodes:\n",
    "    if i not in nodes:\n",
    "        nodes[i]={'pr':0,'bc':0,'cf':0}"
   ]
  },
  {
   "cell_type": "code",
   "execution_count": 463,
   "metadata": {},
   "outputs": [
    {
     "name": "stderr",
     "output_type": "stream",
     "text": [
      "C:\\ProgramData\\Anaconda3\\lib\\site-packages\\ipykernel_launcher.py:3: SettingWithCopyWarning: \n",
      "A value is trying to be set on a copy of a slice from a DataFrame.\n",
      "Try using .loc[row_indexer,col_indexer] = value instead\n",
      "\n",
      "See the caveats in the documentation: http://pandas.pydata.org/pandas-docs/stable/indexing.html#indexing-view-versus-copy\n",
      "  This is separate from the ipykernel package so we can avoid doing imports until\n"
     ]
    }
   ],
   "source": [
    "min_baratsag=365*2*4  #average bizottsag-barastag * hany ev\n",
    "df2=df[df['anneal']>min_baratsag]\n",
    "df2['log']=np.log(df2['anneal'])"
   ]
  },
  {
   "cell_type": "code",
   "execution_count": null,
   "metadata": {},
   "outputs": [],
   "source": [
    "df20=df2.reset_index().join(dfm,on='level_0')[['level_0', 'level_1','mean','log','attention']]\n",
    "df20['weight']=df20['log']/df20['attention']\n",
    "df20=df20[['level_0', 'level_1','weight']]\n",
    "df21=df2.reset_index().join(dfm,on='level_1')[['level_0', 'level_1','mean','log','attention']]\n",
    "df21['weight']=df21['log']/df21['attention']\n",
    "df21=df21[['level_1','level_0', 'weight']]\n",
    "df21.columns=['level_0', 'level_1','weight']"
   ]
  },
  {
   "cell_type": "code",
   "execution_count": null,
   "metadata": {},
   "outputs": [],
   "source": [
    "df3=pd.concat([df20,df21]).dropna()"
   ]
  },
  {
   "cell_type": "code",
   "execution_count": null,
   "metadata": {},
   "outputs": [],
   "source": [
    "df3t=df3.set_index(['level_0','level_1']).T.to_dict()"
   ]
  },
  {
   "cell_type": "code",
   "execution_count": null,
   "metadata": {},
   "outputs": [],
   "source": [
    "df3tl=[(i[0],i[1],df3t[i]) for i in df3t]"
   ]
  },
  {
   "cell_type": "code",
   "execution_count": null,
   "metadata": {},
   "outputs": [],
   "source": [
    "G = nx.DiGraph()\n",
    "G.add_edges_from(df3tl)\n",
    "\n",
    "r = nx.pagerank(G,weight='weight')\n",
    "mr=np.median(list(r.values()))\n",
    "for i in r:\n",
    "    nodes[i]['pr']=r[i]/mr\n",
    "    \n",
    "links={}\n",
    "for i in G.edges(data=True):\n",
    "    name=i[0]\n",
    "    name2=i[1]\n",
    "    z=i[2]['weight']\n",
    "    if name not in links:links[name]={}\n",
    "    if name2 not in links:links[name2]={}\n",
    "    links[name][name2]=z"
   ]
  },
  {
   "cell_type": "code",
   "execution_count": null,
   "metadata": {},
   "outputs": [],
   "source": [
    "#save \n",
    "network={'nodes':nodes,'links':links}\n",
    "print(len(nodes),'nodes and',len(G.edges()),'edges')\n",
    "open('ignore/plotter_name_weighted.json','w').write(json.dumps(network))\n",
    "import zipfile\n",
    "\n",
    "with zipfile.ZipFile(\"json/plotter_name_weighted.zip\", \"w\", compression=zipfile.ZIP_DEFLATED) as zf:\n",
    "    zf.write(\"ignore/plotter_name_weighted.json\",'plotter_name_weighted.json')"
   ]
  },
  {
   "cell_type": "code",
   "execution_count": null,
   "metadata": {},
   "outputs": [],
   "source": []
  }
 ],
 "metadata": {
  "kernelspec": {
   "display_name": "Python 3",
   "language": "python",
   "name": "python3"
  },
  "language_info": {
   "codemirror_mode": {
    "name": "ipython",
    "version": 3
   },
   "file_extension": ".py",
   "mimetype": "text/x-python",
   "name": "python",
   "nbconvert_exporter": "python",
   "pygments_lexer": "ipython3",
   "version": "3.6.7"
  },
  "toc": {
   "base_numbering": 1,
   "nav_menu": {},
   "number_sections": true,
   "sideBar": true,
   "skip_h1_title": false,
   "title_cell": "Table of Contents",
   "title_sidebar": "Contents",
   "toc_cell": false,
   "toc_position": {},
   "toc_section_display": true,
   "toc_window_display": false
  }
 },
 "nbformat": 4,
 "nbformat_minor": 2
}
