{
 "cells": [
  {
   "cell_type": "code",
   "execution_count": 72,
   "metadata": {},
   "outputs": [],
   "source": [
    "import pandas as pd, numpy as np\n",
    "import bs4, requests, json, os"
   ]
  },
  {
   "cell_type": "code",
   "execution_count": 73,
   "metadata": {},
   "outputs": [],
   "source": [
    "#os.chdir('E:/Onedrive - Lancaster University/datarepo/influence/ro')\n",
    "os.chdir('C:/users/csala/Onedrive - Lancaster University/datarepo/influence/ro')"
   ]
  },
  {
   "cell_type": "code",
   "execution_count": 2,
   "metadata": {},
   "outputs": [],
   "source": [
    "base_url='http://www.cdep.ro'\n",
    "url=base_url+'/pls/parlam/structura2015.ab?idl=1'"
   ]
  },
  {
   "cell_type": "code",
   "execution_count": 3,
   "metadata": {},
   "outputs": [
    {
     "data": {
      "text/plain": [
       "'http://www.cdep.ro/pls/parlam/structura2015.ab?idl=1'"
      ]
     },
     "execution_count": 3,
     "metadata": {},
     "output_type": "execute_result"
    }
   ],
   "source": [
    "url"
   ]
  },
  {
   "cell_type": "code",
   "execution_count": 4,
   "metadata": {},
   "outputs": [],
   "source": [
    "r=requests.get(url)\n",
    "soup = bs4.BeautifulSoup(r.content)"
   ]
  },
  {
   "cell_type": "code",
   "execution_count": 5,
   "metadata": {},
   "outputs": [],
   "source": [
    "tables=soup.findAll('table')\n",
    "table=tables[1]"
   ]
  },
  {
   "cell_type": "code",
   "execution_count": 6,
   "metadata": {},
   "outputs": [],
   "source": [
    "links=list(set([l['href'] for l in table.findAll('a')]))"
   ]
  },
  {
   "cell_type": "code",
   "execution_count": 7,
   "metadata": {},
   "outputs": [],
   "source": [
    "def state_format(j):\n",
    "    j\n",
    "    j=j.replace('Grupul parlamentar de prietenie cu ','')\n",
    "    j=j.replace('Grupul Parlamentar de prietenie cu ','')\n",
    "    j=j.replace('\\n ','')\n",
    "    j=j.replace('Secretar','')\n",
    "    j=j.replace('Vicepreşedinte','')\n",
    "    j=j.replace('Preşedinte','')\n",
    "    j=j.strip()\n",
    "    return j"
   ]
  },
  {
   "cell_type": "code",
   "execution_count": 51,
   "metadata": {},
   "outputs": [],
   "source": [
    "members=[]\n",
    "party_imgs={}\n",
    "state_imgs={}\n",
    "parsed_links=set()"
   ]
  },
  {
   "cell_type": "code",
   "execution_count": 69,
   "metadata": {},
   "outputs": [],
   "source": [
    "for link in links[:]:\n",
    "    if link not in parsed_links:\n",
    "        idm=link[link.find('idm=')+4:link.find('idm=')+4+link[link.find('idm=')+4:].find('&')]\n",
    "        leg=link[link.find('leg=')+4:link.find('leg=')+4+link[link.find('leg=')+4:].find('&')]\n",
    "        url=base_url+link\n",
    "        r=requests.get(url)\n",
    "        soup = bs4.BeautifulSoup(r.content)\n",
    "        name=soup.find('title').text\n",
    "        olddiv=soup.find('div',{'id':'olddiv'})\n",
    "        pretty_name=olddiv.find('h1').text\n",
    "        img=olddiv.find('img')['src']\n",
    "        divs=soup.find('div',{'id':'olddiv'}).find('div').findAll('div',{'class':'boxDep'})\n",
    "        camera=divs[0].find('h3').text\n",
    "        judet=divs[0].find('a').text\n",
    "        birth_ro=soup.find('div',{'class':'profile-pic-dep'}).text.replace('\\n','').replace('n.','').strip()\n",
    "        comisii=[]\n",
    "        comisii_abbr=[]\n",
    "        parties=[]\n",
    "        states=[]\n",
    "        activitate=[]\n",
    "        for div in divs:\n",
    "            header=div.find('h3').text\n",
    "            if 'omisii permanente' in header:\n",
    "                comisii=['Comisia '+j.replace('\\n','').strip() for j in div.text.split('Comisia ')[1:]]\n",
    "                comisii_abbr=[j.text for j in div.findAll('a')]\n",
    "            if 'iunea politic' in header:\n",
    "                parties=[j for j in div.findAll('tr',{'valign':'center'}) if j.findAll('table')]\n",
    "            if 'altor state' in header:\n",
    "                states=div.findAll('tr')\n",
    "            if 'cifre' in header:\n",
    "                activitate=[j.text.split(':') for j in div.findAll('tr') if j.text.split(':')!=['']]        \n",
    "        \n",
    "        state=[state_format(states[j].text) for j in range(len(states))]    \n",
    "        state_abbr=['' if states[j].find('a')==None else states[j].find('a').text for j in range(len(states))]\n",
    "        state_img=['' if states[j].find('img')==None else states[j].find('img')['src'] for j in range(len(states))]\n",
    "        party=[parties[j].find('table').text for j in range(len(parties))]\n",
    "        party_abbr=['' if parties[j].find('table').find('a')==None else parties[j].find('table').find('a').text for j in range(len(parties))]\n",
    "        party_img=['' if parties[j].find('img')==None else parties[j].find('img')['src'] for j in range(len(parties))]\n",
    "            \n",
    "        for i in range(len(state_img)):\n",
    "            s=state_img[i]\n",
    "            t=state_abbr[i]\n",
    "            if t not in state_imgs:state_imgs[t]=s\n",
    "        for i in range(len(party_img)):\n",
    "            s=party_img[i]\n",
    "            a=party_abbr[i]\n",
    "            t=party[i]\n",
    "            if a not in party_imgs:party_imgs[a]={'name':t,'img':s}\n",
    "        members.append({'name':name,'birth_ro':birth_ro,'idm':idm,'link':url,'leg':leg,\n",
    "                        'img':img,'pretty_name':pretty_name,'camera':camera,'judet':judet,\n",
    "                       'party_abbr':party_abbr,'party':party,'state':state,'state_abbr':state_abbr,\n",
    "                        'activitate':activitate,'comisii':comisii,'comisii_abbr':comisii_abbr})\n",
    "        parsed_links.add(link)"
   ]
  },
  {
   "cell_type": "code",
   "execution_count": 68,
   "metadata": {},
   "outputs": [
    {
     "data": {
      "text/plain": [
       "(4226, 4292)"
      ]
     },
     "execution_count": 68,
     "metadata": {},
     "output_type": "execute_result"
    }
   ],
   "source": [
    "len(members), len(links)"
   ]
  },
  {
   "cell_type": "code",
   "execution_count": 74,
   "metadata": {},
   "outputs": [
    {
     "data": {
      "text/plain": [
       "4618539"
      ]
     },
     "execution_count": 74,
     "metadata": {},
     "output_type": "execute_result"
    }
   ],
   "source": [
    "open('data/members.json','w').write(json.dumps(members))"
   ]
  },
  {
   "cell_type": "code",
   "execution_count": null,
   "metadata": {},
   "outputs": [],
   "source": [
    "#members=json.loads(open('data/members.json','r').read())"
   ]
  },
  {
   "cell_type": "markdown",
   "metadata": {},
   "source": [
    "Clean"
   ]
  },
  {
   "cell_type": "code",
   "execution_count": 75,
   "metadata": {},
   "outputs": [],
   "source": [
    "legs={'2016':['2016-12-21','2019-07-01'],\n",
    "'2012':['2012-12-20','2016-12-21'],\n",
    "'2008':['2008-12-19','2012-12-20'],\n",
    "'2004':['2004-12-19','2008-12-13'],\n",
    "'2000':['2000-12-15','2004-11-30'],\n",
    "'1996':['1996-11-27','2000-11-30'],\n",
    "'1992':['1992-10-28','1996-11-22'],\n",
    "'1990':['1990-06-19','1992-10-16']}"
   ]
  },
  {
   "cell_type": "code",
   "execution_count": 288,
   "metadata": {},
   "outputs": [],
   "source": [
    "ro_months={'ian.':'Jan',\n",
    "          ' ia ':' Jan ',\n",
    "          'feb.':'Feb',\n",
    "          'mar.':'Mar',\n",
    "          'apr.':'Apr',\n",
    "          'mai':'May',\n",
    "          'iun.':'Jun',\n",
    "          ' iu ':' Jun ',\n",
    "          'iul.':'Jul',\n",
    "          'aug.':'Aug',\n",
    "          'sep.':'Sep',\n",
    "          'oct.':'Oct',\n",
    "          'noi.':'Nov',\n",
    "          'dec.':'Dec'}\n",
    "def date_ro(d,s=True):\n",
    "    ds=d.split(' ')\n",
    "    x=ds[1].replace('0201','2001').replace('0092','1992')\n",
    "    t=pd.to_datetime(ro_months[ds[0].strip()]+' '+x)\n",
    "    if s: return str(t)[:10]\n",
    "    else: return t"
   ]
  },
  {
   "cell_type": "code",
   "execution_count": 539,
   "metadata": {},
   "outputs": [],
   "source": [
    "decess={'Ratiu Ion1917-2000':'6 Jun 1917',\n",
    "      'Popovici Dan Ion Cristian1946-1996':'26 Dec 1946',\n",
    "      'Palfi Mozes Zoltan1943-2011':'1 Jan 1943',\n",
    "      'Blaga Ionel1929-1994':'17 Mar 1929',\n",
    "      'Daraban Aurel1939-2004':'27 Sep 1939',\n",
    "      'Croitoru Mircea-Adrian1941-1999':'1 Jan 1941',\n",
    "      'Budeanu Radu1943-1997':'1 Jan 1943',\n",
    "      'Coposu Corneliu1914-1995':'20 May 1914',\n",
    "      'Ignat Miron1941-2018':'24 Aug 1941',\n",
    "      'Nastase Toma1932-1997':'1 Jan 1932',\n",
    "      'Musat Mircea1930-1994':'1 Jan 1930',\n",
    "      'Stoica Stefan1976-2014':'1 Jan 1976',\n",
    "      'Grama Mihail1924-1999':'1 Jan 1924',\n",
    "      'Bot Octavian1951-2015':'1 Jan 1951', #real 1 Jan\n",
    "      'Iorgovan Antonie1948-2007':'9 Aug 1948',\n",
    "      'Dinescu Valentin1955-2008':'25 Dec 1955',\n",
    "      'Babias Iohan-Peter1952-2002':'28 Jun 1952',\n",
    "      'Munteanu Mircea Mihai1933-1998':'26 May 1933',\n",
    "      'Timis Ioan1951-2010':'17 Sep 1951',\n",
    "      'Barbu Eugen1924-1993':'1 Jan 1924',\n",
    "      'Tcaciuc Stefan1936-2005':'13 Jan 1936',\n",
    "      'Mircovici Niculae1950-2016':'1 Oct 1950',\n",
    "      'Rusu Horia Mircea1952-2001':'18 Sep 1952',\n",
    "      'Racoceanu Viorel1962-2006':'8 Jun 1962',\n",
    "      'Andrei Zeno1935-2001':'1 Jan 1935',\n",
    "      'Surdu-Soreanu Raul-Victor1947-2011':'11 Jul 1947',\n",
    "      'Dan Iosif1950-2007':'14 Oct 1950',\n",
    "      'Dutu Ion1942-2000':'7 Oct 1942',\n",
    "      'Bindea Liviu-Doru1957-2006':'26 Jul 1957',\n",
    "      'Verestoy Attila1954-2018':'1 Mar 1954',\n",
    "      'Dragomir Nelu Aristide1957-1995':'13 Oct 1957',\n",
    "      'Micle Ulpiu-Radu-Sabin1935-2000':'1 Jan 1935',\n",
    "       'Cojocariu Emil1938-1994':'2 Dec 1938',\n",
    "       'Policrat Rene-Radu1910-1993':'12 Aug 1910',\n",
    "       'Serban Gheorghe1954-1998':'25 Jun 1954',\n",
    "       'Vladoiu Aurel1948-2015':'27 Jan 1948',\n",
    "       'Preda Ion1947-2007':'1 Jan 1947',\n",
    "       'Coste Marina-Adelina1965-2017':'30 Nov 1965',\n",
    "       'Sincai Ovidiu1949-1999':'14 Dec 1949',\n",
    "       'Grosaru Mircea1952-2014':'30 Jun 1952',\n",
    "       'Florescu Nicolae-Doru1960-2001':'1 jan 1960',\n",
    "       'Sinko Stefan1939-1995':'1 Jan 1939',\n",
    "       'Alecsandrescu Nicolae1923-1993':'1 Jan 1923',\n",
    "       'Ratoi Neculai1939-2016':'15 Mar 1939',\n",
    "       'Ichim Mircea-Adrian1944-1993':'1 Jan 1944',\n",
    "       'Fotopolos Sotiris1937-2008':'6 Dec 1937',\n",
    "       'Ciobanu Gheorghe1964-2015':'22 Sep 1964',\n",
    "       'Dumitrescu Liana1973-2011':'20 Jan 1973',\n",
    "       'Dida Corneliu Ioan1942-2008':'26 May 1942',\n",
    "       'Draghici Sonia-Maria1956-2016':'25 Jul 1956'}"
   ]
  },
  {
   "cell_type": "code",
   "execution_count": 576,
   "metadata": {},
   "outputs": [],
   "source": [
    "nmembers={}\n",
    "nparty_imgs={}\n",
    "nstate_imgs={}"
   ]
  },
  {
   "cell_type": "code",
   "execution_count": 577,
   "metadata": {},
   "outputs": [],
   "source": [
    "def replace_all(text, dic):\n",
    "    for i in dic:\n",
    "        text = text.replace(i, dic[i])\n",
    "    return text"
   ]
  },
  {
   "cell_type": "code",
   "execution_count": 592,
   "metadata": {},
   "outputs": [],
   "source": [
    "party_set=set()\n",
    "country_set=set()\n",
    "deaths={}\n",
    "for i in members:\n",
    "    if '-' not in i['birth_ro']:\n",
    "        birth=str(pd.to_datetime(replace_all(i['birth_ro'],ro_months)))\n",
    "        death=''\n",
    "    else:\n",
    "        birth=str(pd.to_datetime(replace_all(i['name']+i['birth_ro'],decess)))\n",
    "        death=i['birth_ro'].split('-')[1].strip()\n",
    "    if len(birth)>3:\n",
    "        name=i['name']+' | '+birth[:10]\n",
    "    else:\n",
    "        name=i['name']+' | Ismeretlen'\n",
    "    if death:\n",
    "        if name not in deaths:\n",
    "            deaths[name]=death\n",
    "    if name not in nmembers:\n",
    "        nmembers[name]={}\n",
    "    if 'Name' not in nmembers[name]:\n",
    "        nmembers[name]['Name']={'full':i['pretty_name'],'simple':name,'short':i['name']}\n",
    "    if 'Photo' not in nmembers[name]:\n",
    "        nmembers[name]['Photo']=[]\n",
    "    nmembers[name]['Photo'].append(base_url+i['img'])\n",
    "    if 'UserID' not in nmembers[name]:\n",
    "        nmembers[name]['UserID']=[]\n",
    "    nmembers[name]['UserID'].append(i['idm'])\n",
    "    if 'Camera' not in nmembers[name]:\n",
    "        nmembers[name]['Camera']=[]\n",
    "    nmembers[name]['Camera'].append(i['camera'])\n",
    "    if 'Link' not in nmembers[name]:\n",
    "        nmembers[name]['Link']=[]\n",
    "    nmembers[name]['Link'].append(i['link'])\n",
    "    \n",
    "    if 'Parties' not in nmembers[name]:\n",
    "        nmembers[name]['Parties']=[]\n",
    "    parties=i['party']\n",
    "    parties_abbr=i['party_abbr']\n",
    "    for pi in range(len(parties)):\n",
    "        p=parties[pi].strip()\n",
    "        since=str(pd.to_datetime(legs[i['leg']][0]))[:10]\n",
    "        until=str(pd.to_datetime(legs[i['leg']][1]))[:10]   \n",
    "        if '-' not in p:\n",
    "            if p!='independent':\n",
    "                abbr='Minorități'\n",
    "                party=p\n",
    "            else:\n",
    "                abbr='Independent'\n",
    "                party='Independent'\n",
    "        else:\n",
    "            abbr=parties_abbr[pi]\n",
    "            party=p.split('-')[1].strip()\n",
    "            if ('din ') in party:\n",
    "                if ('din R') not in party:\n",
    "                    if ('din B') not in party:\n",
    "                        since=date_ro(party[party.find('din ')+4:].strip(),True)\n",
    "                        party='Independent'\n",
    "            #else:\n",
    "            if True:\n",
    "                if len(p.split('-'))>2:\n",
    "                    s=''.join(p.split('-')[2:]).strip()\n",
    "                    if ('din ') in s:\n",
    "                        if ('din R') not in s:\n",
    "                            since=date_ro(s[s.find('din ')+4:].strip(),True)\n",
    "                    if ('până în ') in s:\n",
    "                        until=date_ro(s[s.find('până în ')+8:].strip(),True)\n",
    "        if abbr in ['independent','','Neafiliaţi']:\n",
    "            abbr='Independent'\n",
    "        nmembers[name]['Parties'].append({'party':abbr,\n",
    "                'start':since,'end':until,'judet':i['judet']})\n",
    "        party_set.add(abbr)\n",
    "    \n",
    "    if 'Countries' not in nmembers[name]:\n",
    "        nmembers[name]['Countries']=[]\n",
    "    states=i['state']\n",
    "    states_abbr=i['state_abbr']\n",
    "    for pi in range(len(states)):\n",
    "        p=states[pi].strip()\n",
    "        since=str(pd.to_datetime(legs[i['leg']][0]))[:10]\n",
    "        until=str(pd.to_datetime(legs[i['leg']][1]))[:10]    \n",
    "        if '-' in p:\n",
    "            state=p.split('-')[0]\n",
    "            s=''.join(p.split('-')[1:]).strip()\n",
    "            if ('din ') in s:\n",
    "                if ('din R') not in s:\n",
    "                    since=date_ro(s[s.find('din ')+4:].strip(),True)\n",
    "            if ('până în ') in s:\n",
    "                until=date_ro(s[s.find('până în ')+8:].strip(),True)\n",
    "        nmembers[name]['Countries'].append({'country':state_format(states_abbr[pi]),'start':since,'end':until})\n",
    "        country_set.add(states_abbr[pi])\n",
    "    \n",
    "    if 'Groups' not in nmembers[name]:\n",
    "        nmembers[name]['Groups']=[]\n",
    "    comisii=i['comisii']\n",
    "    comisii_abbr=i['comisii_abbr']\n",
    "    for pi in range(len(comisii)):\n",
    "        p=comisii[pi].strip()\n",
    "        since=str(pd.to_datetime(legs[i['leg']][0]))[:10]\n",
    "        until=str(pd.to_datetime(legs[i['leg']][1]))[:10]\n",
    "        if '(' in p:\n",
    "            s=''.join(p.split('(')[1:]).strip()\n",
    "            s=s[:s.find(')')]\n",
    "            if ('din ') in s:\n",
    "                since=date_ro(s[s.find('din ')+4:].strip(),True)\n",
    "            if ('până în ') in s:\n",
    "                until=date_ro(s[s.find('până în ')+8:].strip(),True)\n",
    "        nmembers[name]['Groups'].append({'group':comisii_abbr[pi],\n",
    "                'start':since,'end':until})\n",
    "    \n",
    "    if 'Activity' not in nmembers[name]:\n",
    "        nmembers[name]['Activity']={}\n",
    "    activitate=i['activitate']\n",
    "    for a in activitate:\n",
    "        if len(a)>1:\n",
    "            an=a[0]\n",
    "            if an not in ['Membru în']:\n",
    "                av=int(a[1].split('(')[0].strip().split(',')[0].strip().split('-')[0].strip())\n",
    "                if an not in nmembers[name]['Activity']:nmembers[name]['Activity'][an]=[]\n",
    "                since=str(pd.to_datetime(legs[i['leg']][0]))[:10]\n",
    "                until=str(pd.to_datetime(legs[i['leg']][1]))[:10]  \n",
    "                nmembers[name]['Activity'][an].append({'value':av,'start':since,'end':until})        \n",
    "            if an=='Luari de cuvânt':\n",
    "                if 'în ' in a[1]:\n",
    "                    av=int(a[1].split('(în ')[-1].strip().split('sedinte)')[0].strip())\n",
    "                    nmembers[name]['Activity']['Sedințe']={'value':av,'start':since,'end':until}"
   ]
  },
  {
   "cell_type": "code",
   "execution_count": 593,
   "metadata": {},
   "outputs": [
    {
     "data": {
      "text/plain": [
       "(2811, 4292, 50)"
      ]
     },
     "execution_count": 593,
     "metadata": {},
     "output_type": "execute_result"
    }
   ],
   "source": [
    "len(nmembers),len(members),len(deaths)"
   ]
  },
  {
   "cell_type": "code",
   "execution_count": 594,
   "metadata": {},
   "outputs": [
    {
     "data": {
      "text/plain": [
       "11468484"
      ]
     },
     "execution_count": 594,
     "metadata": {},
     "output_type": "execute_result"
    }
   ],
   "source": [
    "open('data/nmembers.json','w').write(json.dumps(nmembers))"
   ]
  },
  {
   "cell_type": "code",
   "execution_count": 595,
   "metadata": {},
   "outputs": [
    {
     "data": {
      "text/plain": [
       "2021"
      ]
     },
     "execution_count": 595,
     "metadata": {},
     "output_type": "execute_result"
    }
   ],
   "source": [
    "open('data/deaths.json','w').write(json.dumps(deaths))"
   ]
  },
  {
   "cell_type": "code",
   "execution_count": 596,
   "metadata": {},
   "outputs": [],
   "source": [
    "def party_cleaner(i,p):\n",
    "    if i==p: return p\n",
    "    p=p[len(i)+1:].split('-')[0].strip()\n",
    "    return p"
   ]
  },
  {
   "cell_type": "code",
   "execution_count": 582,
   "metadata": {},
   "outputs": [],
   "source": [
    "#! run once\n",
    "for i in party_set.difference(set(party_imgs.keys())):\n",
    "    party_imgs[i]={'name': i, 'img': ''}\n",
    "for i in set(party_imgs.keys()).difference(party_set):\n",
    "    party_imgs.pop(i)\n",
    "for i in party_imgs:\n",
    "    party_imgs[i]['name']=party_cleaner(i,party_imgs[i]['name'])"
   ]
  },
  {
   "cell_type": "code",
   "execution_count": 583,
   "metadata": {},
   "outputs": [],
   "source": [
    "nstate_imgs={}"
   ]
  },
  {
   "cell_type": "code",
   "execution_count": 584,
   "metadata": {},
   "outputs": [],
   "source": [
    "for i in state_imgs:\n",
    "    nstate_imgs[state_format(i)]=state_imgs[i]\n",
    "nstate_imgs['']=''"
   ]
  },
  {
   "cell_type": "code",
   "execution_count": 585,
   "metadata": {},
   "outputs": [],
   "source": [
    "#img=json.loads(open('data/img.json','r').read())\n",
    "img={'party':party_imgs,'state':nstate_imgs}"
   ]
  },
  {
   "cell_type": "code",
   "execution_count": 586,
   "metadata": {},
   "outputs": [],
   "source": [
    "#manual\n",
    "img['party']['PP-DD']['name']='Partidul Poporului Dan Diaconescu'\n",
    "img['party']['PUR-SL']['name']='Partidul Umanist din România'\n",
    "img['party']['RMDSZ']=img['party']['UDMR']\n",
    "img['party']['RMDSZ']['name']='Romániai Magyar Demokrata Szövetség'"
   ]
  },
  {
   "cell_type": "code",
   "execution_count": 587,
   "metadata": {},
   "outputs": [
    {
     "data": {
      "text/plain": [
       "11180"
      ]
     },
     "execution_count": 587,
     "metadata": {},
     "output_type": "execute_result"
    }
   ],
   "source": [
    "open('data/img.json','w').write(json.dumps(img))"
   ]
  }
 ],
 "metadata": {
  "kernelspec": {
   "display_name": "Python 3",
   "language": "python",
   "name": "python3"
  },
  "language_info": {
   "codemirror_mode": {
    "name": "ipython",
    "version": 3
   },
   "file_extension": ".py",
   "mimetype": "text/x-python",
   "name": "python",
   "nbconvert_exporter": "python",
   "pygments_lexer": "ipython3",
   "version": "3.6.7"
  }
 },
 "nbformat": 4,
 "nbformat_minor": 2
}
