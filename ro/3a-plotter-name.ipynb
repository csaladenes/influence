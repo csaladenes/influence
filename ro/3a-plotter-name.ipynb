{
 "cells": [
  {
   "cell_type": "code",
   "execution_count": 11,
   "metadata": {
    "ExecuteTime": {
     "end_time": "2019-03-07T02:56:32.521682Z",
     "start_time": "2019-03-07T02:56:26.288106Z"
    }
   },
   "outputs": [],
   "source": [
    "import pandas as pd, numpy as np, json, os\n",
    "import networkx as nx\n",
    "import matplotlib.pyplot as plt\n",
    "%matplotlib inline"
   ]
  },
  {
   "cell_type": "code",
   "execution_count": 12,
   "metadata": {},
   "outputs": [],
   "source": [
    "m=json.loads(open('ignore/member_timelines.json','r').read())"
   ]
  },
  {
   "cell_type": "code",
   "execution_count": 13,
   "metadata": {},
   "outputs": [
    {
     "data": {
      "text/plain": [
       "{'⚛️ PP-DD - Partidul Poporului Dan Diaconescu',\n",
       " '⚪️ FDSN - Frontul Democrat al Salvarii Nationale',\n",
       " '⚪️ FSN - Frontul Salvării Naţionale',\n",
       " '✳️ PNTCD - Partidul Naţional Ţărănesc Creştin Democrat',\n",
       " '🌷 RMDSZ - Romániai Magyar Demokrata Szövetség',\n",
       " '🌹 PDSR - Partidul Democraţiei Sociale din România',\n",
       " '🌹 PSD - Partidul Social Democrat',\n",
       " '🌹 PSDR - Partidul Social Democrat Român',\n",
       " '🌹 PSM - Partidul Socialist al Muncii',\n",
       " '🍀 FER - Federaţia Ecologistă Română',\n",
       " '🍀 MER - Mişcarea Ecologistă din România',\n",
       " '🍀 PDAR - Partidul Democrat Agrar din România',\n",
       " '🍀 PER - Partidul Ecologist Român',\n",
       " '🍏 PMP - Partidul Mişcarea Populară',\n",
       " '👤 Independent - Independent',\n",
       " '👤 Minorități - Minorități',\n",
       " '📐 PAC - Partidul Alianţei Civice',\n",
       " \"📐 PL'93 - Partidul Liberal\",\n",
       " '📐 PNL - Partidul Naţional Liberal',\n",
       " '📐 PNL-AT - Partidul Naţional Liberal',\n",
       " '📐 PNL-CD - Partidul Naţional Liberal',\n",
       " '🔘 AUR - Alianţa pentru Unitatea Românilor',\n",
       " '🔘 FC - Forţa Civică',\n",
       " '🔘 GDC - Gruparea Democratică de Centru',\n",
       " '🔘 PAR - Partidul Alternativa României',\n",
       " '🔘 PDM - Partidul Democrat al Muncii',\n",
       " '🔘 PLS - Partidul Liber Schimbist',\n",
       " '🔘 PRNR - Partidul Reconstrucţiei Naţionale din România',\n",
       " '🔘 PTLDR - Partidul Tineretului Liber Democrat din România',\n",
       " '🔘 ULB - Uniunea Liberală \"Brătianu\"',\n",
       " '🔱 PRM - Partidul România Mare',\n",
       " '🔶 PD - Partidul Democrat',\n",
       " '🔶 PDL - Partidul Democrat Liberal',\n",
       " '🔷 USR - Uniunea Salvaţi România',\n",
       " '🕊️ ALDE - Partidul Alianţa Liberalilor şi Democraţilor',\n",
       " '🕊️ PC - Partidul Conservator',\n",
       " '🕊️ PUNR - Partidul Unităţii Naţionale Române',\n",
       " '🕊️ PUR-SL - Partidul Umanist din România',\n",
       " '🦅 UNPR - Uniunea Naţională pentru Progresul României'}"
      ]
     },
     "execution_count": 13,
     "metadata": {},
     "output_type": "execute_result"
    }
   ],
   "source": [
    "set([i['Csoportok'] for i in m if i['Típus']=='Párt'])"
   ]
  },
  {
   "cell_type": "code",
   "execution_count": 299,
   "metadata": {},
   "outputs": [],
   "source": [
    "# m=m[:1000]"
   ]
  },
  {
   "cell_type": "code",
   "execution_count": 14,
   "metadata": {},
   "outputs": [
    {
     "name": "stdout",
     "output_type": "stream",
     "text": [
      "0.0 %\n",
      "3.3029462280354074 %\n",
      "6.605892456070815 %\n",
      "9.908838684106223 %\n",
      "13.21178491214163 %\n",
      "16.514731140177037 %\n",
      "19.817677368212447 %\n",
      "23.120623596247853 %\n",
      "26.42356982428326 %\n",
      "29.72651605231867 %\n",
      "33.029462280354075 %\n",
      "36.332408508389484 %\n",
      "39.635354736424894 %\n",
      "42.938300964460296 %\n",
      "46.241247192495706 %\n",
      "49.544193420531116 %\n",
      "52.84713964856652 %\n",
      "56.15008587660193 %\n",
      "59.45303210463734 %\n",
      "62.75597833267275 %\n",
      "66.05892456070815 %\n",
      "69.36187078874356 %\n",
      "72.66481701677897 %\n",
      "75.96776324481438 %\n",
      "79.27070947284979 %\n",
      "82.57365570088518 %\n",
      "85.87660192892059 %\n",
      "89.179548156956 %\n",
      "92.48249438499141 %\n",
      "95.78544061302682 %\n",
      "99.08838684106223 %\n"
     ]
    }
   ],
   "source": [
    "data={'Ország':{},'Bizottság':{},'Párt':{},'Megye':{}}\n",
    "attention={}\n",
    "for k,i in enumerate(m):\n",
    "    if k%1000==0: print(k/len(m)*100,'%')\n",
    "    name=i['Simple']\n",
    "    if i['Típus'] in list(data.keys()):\n",
    "        if i['Csoportok'] not in data[i['Típus']]:data[i['Típus']][i['Csoportok']]={}\n",
    "        for t in pd.date_range(i['start'],i['end']):\n",
    "            st=str(t)[:10]\n",
    "            if st not in data[i['Típus']][i['Csoportok']]:data[i['Típus']][i['Csoportok']][st]=set()\n",
    "            data[i['Típus']][i['Csoportok']][st].add(name)            \n",
    "            if name not in attention:attention[name]={}\n",
    "            if st not in attention[name]:attention[name][st]=0\n",
    "            attention[name][st]+=1"
   ]
  },
  {
   "cell_type": "code",
   "execution_count": 15,
   "metadata": {},
   "outputs": [
    {
     "name": "stderr",
     "output_type": "stream",
     "text": [
      "C:\\ProgramData\\Anaconda3\\lib\\site-packages\\pandas\\plotting\\_converter.py:129: FutureWarning: Using an implicitly registered datetime converter for a matplotlib plotting method. The converter was registered by pandas on import. Future versions of pandas will require you to explicitly register matplotlib converters.\n",
      "\n",
      "To register the converters:\n",
      "\t>>> from pandas.plotting import register_matplotlib_converters\n",
      "\t>>> register_matplotlib_converters()\n",
      "  warnings.warn(msg, FutureWarning)\n"
     ]
    },
    {
     "data": {
      "image/png": "[encoded data removed]",
      "text/plain": [
       "<Figure size 360x216 with 1 Axes>"
      ]
     },
     "metadata": {
      "needs_background": "light"
     },
     "output_type": "display_data"
    }
   ],
   "source": [
    "def anneal(t,p=7):\n",
    "    #pd.to_datetime('2020-01-01')-pd.to_datetime('1989-01-01')=11322\n",
    "    return (2-(pd.to_datetime('2020-01-01')-pd.to_datetime(t)).days/11322)**p\n",
    "    \n",
    "tanneal={}\n",
    "anneal2020=anneal(pd.to_datetime('2020'))\n",
    "for t in pd.date_range('1990','2020'):\n",
    "    tanneal[t]=anneal(t)/anneal2020+0.1\n",
    "    tanneal[str(t)[:10]]=tanneal[t]\n",
    "plt.subplots(1,1,figsize=(5,3))\n",
    "plt.grid()\n",
    "plt.plot(tanneal.keys(),tanneal.values())\n",
    "plt.ylabel('Elavulási együttható')\n",
    "plt.show()"
   ]
  },
  {
   "cell_type": "code",
   "execution_count": null,
   "metadata": {},
   "outputs": [
    {
     "name": "stdout",
     "output_type": "stream",
     "text": [
      "🇨🇳 Kína\n",
      "🇫🇮 Finnország\n",
      "🇮🇱 Izrael\n",
      "🇳🇴 Norvégia\n",
      "🇩🇪 Németország\n",
      "🇱🇺 Luxemburg\n",
      "🇳🇱 Hollandia\n",
      "🇨🇿 Czechia\n",
      "🇭🇺 Magyarország\n",
      "🇱🇧 Libanon\n",
      "🇦🇹 Ausztria\n",
      "🇩🇰 Dánia\n",
      "🇮🇳 India\n",
      "🇵🇹 Portugália\n",
      "🇸🇮 Szlovénia\n",
      "🇵🇪 Peru\n",
      "🇵🇱 Lengyelország\n",
      "🇧🇬 Bulgária\n",
      "🇧🇭 Bahrein\n",
      "🇯🇵 Japán\n",
      "🇻🇪 Venezuela\n",
      "🇧🇾 Fehéroroszország\n",
      "🇪🇸 Spanyolország\n",
      "🇲🇽 Mexikó\n",
      "🇺🇦 Ukrajna\n",
      "🇨🇦 Kanada\n",
      "🇬🇧 Egyesült Királyság\n",
      "🇰🇷 Dél-Korea\n",
      "🇧🇪 Belgium\n",
      "🇬🇪 Grúzia\n",
      "🇲🇳 Mongólia\n",
      "🇷🇺 Oroszország\n",
      "🇫🇷 Franciaország\n",
      "🇮🇹 Olaszország\n",
      "🇸🇰 Szlovákia\n",
      "Más ország\n",
      "🇱🇻 Lettország\n",
      "🇹🇷 Törökország\n",
      "🇦🇿 Azerbajdzsán\n",
      "🇪🇬 Egyiptom\n",
      "🇲🇦 Marokkó\n",
      "🇹🇳 Tunézia\n",
      "🇺🇸 Egyesült Államok\n",
      "🇮🇩 Indonézia\n",
      "🇦🇲 Örményország\n",
      "🇧🇷 Brazília\n",
      "🇨🇭 Svájc\n",
      "🇬🇷 Görögország\n",
      "🇮🇸 Izland\n",
      "🇸🇾 Szíria\n",
      "🇨🇷 Costa Rica\n",
      "🇯🇴 Jordánia\n",
      "🇨🇮 Elefántcsontpart\n",
      "🇮🇷 Irán\n",
      "🇸🇪 Svédország\n",
      "🇦🇺 Ausztrália\n",
      "🇪🇨 Ecuador\n",
      "🇦🇱 Albánia\n",
      "🇪🇪 Észtország\n",
      "🇨🇺 Kuba\n",
      "🇱🇹 Litvánia\n",
      "🇹🇲 Türkmenisztán\n",
      "🇵🇦 Panama\n",
      "🇨🇱 Chile\n",
      "🇲🇰 Macedónia\n",
      "🇦🇷 Argentína\n",
      "🇭🇷 Horvátország\n",
      "🇹🇭 Thaiföld\n",
      "🇲🇾 Malajzia\n",
      "🇨🇾 Ciprus\n",
      "🇮🇪 Írország\n",
      "🇿🇦 Dél-Afrika\n",
      "🇻🇳 Vietnam\n",
      "🇧🇴 Bolívia\n",
      "🇸🇩 Szudán\n",
      "🇺🇾 Uruguay\n",
      "🇩🇿 Algéria\n",
      "🇵🇰 Pakisztán\n",
      "🇷🇸 Szerbia\n",
      "🇵🇭 Fülöp-szigetek\n",
      "🇲🇹 Málta\n",
      "🇨🇬 Kongó\n",
      "🇰🇿 Kazahsztán\n",
      "🇧🇦 Bosznia-Hercegovina\n",
      "🇲🇪 Montenegró\n",
      "🇸🇦 Szaúd-Arábia\n",
      "🇬🇳 Guinea\n",
      "🇸🇳 Szenegál\n",
      "Jugoszlávia\n",
      "🇶🇦 Katar\n",
      "🇰🇼 Kuvait\n",
      "🇨🇴 Kolumbia\n",
      "🇮🇶 Irak\n",
      "🇸🇬 Szingapúr\n",
      "🇴🇲 Omán\n",
      "🇱🇰 Srí Lanka\n",
      "🇦🇪 Egyesült Arab Emírségek\n",
      "🇿🇲 Zambia\n",
      "⏺️ Európa\n",
      "🌐 Külpolitika, diaszpóra\n",
      "🎦 Művészet, média\n",
      "🔀 Állami ügyek\n",
      "🚹 Emberi jogok, kisebbségek\n",
      "♿️ Egészségügy\n",
      "🔄 Közigazgatás, környezetvédelem\n",
      "💹 Pénzügy\n",
      "🚰 Mezőgazdaság, erdők\n",
      "⏫ Gazdaság, ipar\n",
      "🚻 Munka, szociális és családi ügyek\n",
      "🔠 Oktatás, tudomány, sport\n",
      "🛃 Biztonság\n",
      "➿ Infrastruktúra, energia, kommunikáció\n",
      "🕊️ PC - Partidul Conservator\n",
      "🕊️ PUR-SL - Partidul Umanist din România\n",
      "🌹 PSD - Partidul Social Democrat\n"
     ]
    }
   ],
   "source": [
    "edges={}\n",
    "points={'Ország':3,'Bizottság':4,'Párt':2,'Megye':1}\n",
    "for tipus in data:\n",
    "    for csoport in data[tipus]:\n",
    "        print(csoport)\n",
    "        for t in data[tipus][csoport]:\n",
    "            names=list(data[tipus][csoport][t])\n",
    "            for r in range(len(names)):\n",
    "                name=names[r]\n",
    "                for p in range(r+1,len(names)):\n",
    "                    name2=names[p]\n",
    "                    nset=tuple(np.sort([name,name2]))\n",
    "                    v=points[tipus]\n",
    "                    if nset not in edges:edges[nset]={'anneal':0,'values':0}\n",
    "                    edges[nset]['values']+=v\n",
    "                    edges[nset]['anneal']+=v*tanneal[t]"
   ]
  },
  {
   "cell_type": "markdown",
   "metadata": {},
   "source": [
    "Save"
   ]
  },
  {
   "cell_type": "code",
   "execution_count": null,
   "metadata": {},
   "outputs": [],
   "source": [
    "import pickle"
   ]
  },
  {
   "cell_type": "code",
   "execution_count": null,
   "metadata": {},
   "outputs": [],
   "source": [
    "def save_obj(obj, name ):\n",
    "    with open('ignore/'+ name + '.pkl', 'wb') as f:\n",
    "        pickle.dump(obj, f, pickle.HIGHEST_PROTOCOL)\n",
    "\n",
    "def load_obj(name ):\n",
    "    with open('ignore/' + name + '.pkl', 'rb') as f:\n",
    "        return pickle.load(f)"
   ]
  },
  {
   "cell_type": "code",
   "execution_count": null,
   "metadata": {},
   "outputs": [],
   "source": [
    "save_obj(edges,'plotter_name_edges')"
   ]
  },
  {
   "cell_type": "code",
   "execution_count": 82,
   "metadata": {},
   "outputs": [],
   "source": [
    "edges=load_obj('plotter_name_edges')"
   ]
  },
  {
   "cell_type": "markdown",
   "metadata": {},
   "source": [
    "Prune"
   ]
  },
  {
   "cell_type": "code",
   "execution_count": null,
   "metadata": {},
   "outputs": [],
   "source": [
    "df=pd.DataFrame(edges).T"
   ]
  },
  {
   "cell_type": "code",
   "execution_count": null,
   "metadata": {},
   "outputs": [],
   "source": [
    "all_nodes=set(df.reset_index()['level_0']).union(df.reset_index()['level_1'])"
   ]
  },
  {
   "cell_type": "code",
   "execution_count": null,
   "metadata": {},
   "outputs": [],
   "source": [
    "min_baratsag=500\n",
    "df2=df[df['anneal']>min_baratsag]"
   ]
  },
  {
   "cell_type": "code",
   "execution_count": null,
   "metadata": {},
   "outputs": [],
   "source": [
    "df2['regi']=df2['anneal']/df2['values']"
   ]
  },
  {
   "cell_type": "code",
   "execution_count": null,
   "metadata": {},
   "outputs": [],
   "source": [
    "df2=df2['anneal'].reset_index()"
   ]
  },
  {
   "cell_type": "code",
   "execution_count": null,
   "metadata": {},
   "outputs": [],
   "source": [
    "df2.columns=['source','target','weight']"
   ]
  },
  {
   "cell_type": "code",
   "execution_count": null,
   "metadata": {},
   "outputs": [],
   "source": [
    "nodes={}\n",
    "for i in all_nodes:\n",
    "    if i not in nodes:\n",
    "        nodes[i]={'pr':0,'bc':0,'cf':0}"
   ]
  },
  {
   "cell_type": "code",
   "execution_count": null,
   "metadata": {},
   "outputs": [],
   "source": [
    "G=nx.Graph(df2)"
   ]
  },
  {
   "cell_type": "code",
   "execution_count": null,
   "metadata": {},
   "outputs": [],
   "source": [
    "r = nx.pagerank(G,weight='weight')\n",
    "mr=np.median(list(r.values()))\n",
    "for i in r:\n",
    "    nodes[i]['pr']=r[i]/mr"
   ]
  },
  {
   "cell_type": "code",
   "execution_count": null,
   "metadata": {},
   "outputs": [],
   "source": [
    "Gc = max(nx.connected_component_subgraphs(G), key=len)\n",
    "r = nx.current_flow_closeness_centrality(Gc,weight='weight')\n",
    "mr=np.median(list(r.values()))\n",
    "for i in r:\n",
    "    nodes[i]['cf']=r[i]/mr"
   ]
  },
  {
   "cell_type": "code",
   "execution_count": null,
   "metadata": {},
   "outputs": [],
   "source": [
    "links={}\n",
    "for i in G.edges(data=True):\n",
    "    name=i[0]\n",
    "    name2=i[1]\n",
    "    z=i[2]['weight']\n",
    "    if name not in links:links[name]={}\n",
    "    if name2 not in links:links[name2]={}\n",
    "    links[name][name2]=z\n",
    "    links[name2][name]=z"
   ]
  },
  {
   "cell_type": "code",
   "execution_count": null,
   "metadata": {},
   "outputs": [],
   "source": [
    "#save \n",
    "network={'nodes':nodes,'links':links}\n",
    "print(len(nodes),'nodes and',len(G.edges()),'edges')"
   ]
  },
  {
   "cell_type": "code",
   "execution_count": null,
   "metadata": {},
   "outputs": [],
   "source": [
    "open('ignore/plotter_name.json','w').write(json.dumps(network))"
   ]
  },
  {
   "cell_type": "code",
   "execution_count": null,
   "metadata": {},
   "outputs": [],
   "source": [
    "import zipfile\n",
    "\n",
    "with zipfile.ZipFile(\"json/plotter_name.zip\", \"w\", compression=zipfile.ZIP_DEFLATED) as zf:\n",
    "    zf.write(\"ignore/plotter_name.json\",'plotter_name.json')"
   ]
  },
  {
   "cell_type": "code",
   "execution_count": null,
   "metadata": {},
   "outputs": [],
   "source": []
  }
 ],
 "metadata": {
  "kernelspec": {
   "display_name": "Python 3",
   "language": "python",
   "name": "python3"
  },
  "language_info": {
   "codemirror_mode": {
    "name": "ipython",
    "version": 3
   },
   "file_extension": ".py",
   "mimetype": "text/x-python",
   "name": "python",
   "nbconvert_exporter": "python",
   "pygments_lexer": "ipython3",
   "version": "3.6.7"
  },
  "toc": {
   "base_numbering": 1,
   "nav_menu": {},
   "number_sections": true,
   "sideBar": true,
   "skip_h1_title": false,
   "title_cell": "Table of Contents",
   "title_sidebar": "Contents",
   "toc_cell": false,
   "toc_position": {},
   "toc_section_display": true,
   "toc_window_display": false
  }
 },
 "nbformat": 4,
 "nbformat_minor": 2
}
