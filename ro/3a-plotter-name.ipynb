{
 "cells": [
  {
   "cell_type": "code",
   "execution_count": 2,
   "metadata": {
    "ExecuteTime": {
     "end_time": "2019-03-07T02:56:32.521682Z",
     "start_time": "2019-03-07T02:56:26.288106Z"
    }
   },
   "outputs": [],
   "source": [
    "import pandas as pd, numpy as np, json, os\n",
    "import networkx as nx\n",
    "import matplotlib.pyplot as plt\n",
    "%matplotlib inline"
   ]
  },
  {
   "cell_type": "code",
   "execution_count": 3,
   "metadata": {},
   "outputs": [],
   "source": [
    "m=json.loads(open('ignore/member_timelines.json','r').read())"
   ]
  },
  {
   "cell_type": "code",
   "execution_count": 10,
   "metadata": {},
   "outputs": [
    {
     "data": {
      "text/plain": [
       "{'⚛️ PP-DD - Partidul Poporului Dan Diaconescu',\n",
       " '⚪️ FDSN - mocrat al Salvarii Nationale',\n",
       " '⚪️ FSN - Salvării Naţionale',\n",
       " '✳️ PNTCD - ional Ţărănesc Creştin Democrat',\n",
       " '🌷 RMDSZ - Romániai Magyar Demokrata Szövetség',\n",
       " '🌹 PDSR - emocraţiei Sociale din România',\n",
       " '🌹 PSD - Social Democrat',\n",
       " '🌹 PSDR - ocial Democrat Român',\n",
       " '🌹 PSM - Socialist al Muncii',\n",
       " '🍀 FER - a Ecologistă Română',\n",
       " '🍀 MER - Ecologistă din România',\n",
       " '🍀 PDAR - emocrat Agrar din România',\n",
       " '🍀 PER - Ecologist Român',\n",
       " '🍏 PMP - Mişcarea Populară',\n",
       " '👤 Independent - Independent',\n",
       " '👤 Minorități - Minorități',\n",
       " '📐 PAC - Alianţei Civice',\n",
       " \"📐 PL'93 - eral\",\n",
       " '📐 PNL - Naţional Liberal',\n",
       " '📐 PNL-AT - nal Liberal',\n",
       " '📐 PNL-CD - nal Liberal',\n",
       " '🔘 AUR - pentru Unitatea Românilor',\n",
       " '🔘 FC - Civică',\n",
       " '🔘 GDC - Democratică de Centru',\n",
       " '🔘 PAR - Alternativa României',\n",
       " '🔘 PDM - Democrat al Muncii',\n",
       " '🔘 PLS - Liber Schimbist',\n",
       " '🔘 PRNR - econstrucţiei Naţionale din România',\n",
       " '🔘 PTLDR - eretului Liber Democrat din România',\n",
       " '🔘 ULB - Liberală \"Brătianu\"',\n",
       " '🔱 PRM - România Mare',\n",
       " '🔶 PD - ul Democrat',\n",
       " '🔶 PDL - Democrat Liberal',\n",
       " '🔷 USR - Salvaţi România',\n",
       " '🕊️ ALDE - lianţa Liberalilor şi Democraţilor',\n",
       " '🕊️ PC - ul Conservator',\n",
       " '🕊️ PUNR - nităţii Naţionale Române',\n",
       " '🕊️ PUR-SL - Partidul Umanist din România',\n",
       " '🦅 UNPR - ţională pentru Progresul României'}"
      ]
     },
     "execution_count": 10,
     "metadata": {},
     "output_type": "execute_result"
    }
   ],
   "source": [
    "set([i['Csoportok'] for i in m if i['Típus']=='Párt'])"
   ]
  },
  {
   "cell_type": "code",
   "execution_count": 299,
   "metadata": {},
   "outputs": [],
   "source": [
    "# m=m[:1000]"
   ]
  },
  {
   "cell_type": "code",
   "execution_count": 300,
   "metadata": {},
   "outputs": [
    {
     "name": "stdout",
     "output_type": "stream",
     "text": [
      "0.0 %\n",
      "3.3083005260197833 %\n",
      "6.616601052039567 %\n",
      "9.92490157805935 %\n",
      "13.233202104079133 %\n",
      "16.54150263009892 %\n",
      "19.8498031561187 %\n",
      "23.15810368213849 %\n",
      "26.466404208158266 %\n",
      "29.774704734178055 %\n",
      "33.08300526019784 %\n",
      "36.39130578621762 %\n",
      "39.6996063122374 %\n",
      "43.007906838257185 %\n",
      "46.31620736427698 %\n",
      "49.624507890296755 %\n",
      "52.93280841631653 %\n",
      "56.241108942336325 %\n",
      "59.54940946835611 %\n",
      "62.85770999437589 %\n",
      "66.16601052039567 %\n",
      "69.47431104641547 %\n",
      "72.78261157243524 %\n",
      "76.09091209845502 %\n",
      "79.3992126244748 %\n",
      "82.70751315049459 %\n",
      "86.01581367651437 %\n",
      "89.32411420253416 %\n",
      "92.63241472855395 %\n",
      "95.94071525457373 %\n",
      "99.24901578059351 %\n"
     ]
    }
   ],
   "source": [
    "data={'Ország':{},'Bizottság':{},'Párt':{},'Megye':{}}\n",
    "attention={}\n",
    "for k,i in enumerate(m):\n",
    "    if k%1000==0: print(k/len(m)*100,'%')\n",
    "    name=i['Simple']\n",
    "    if i['Típus'] in list(data.keys()):\n",
    "        if i['Csoportok'] not in data[i['Típus']]:data[i['Típus']][i['Csoportok']]={}\n",
    "        for t in pd.date_range(i['start'],i['end']):\n",
    "            st=str(t)[:10]\n",
    "            if st not in data[i['Típus']][i['Csoportok']]:data[i['Típus']][i['Csoportok']][st]=set()\n",
    "            data[i['Típus']][i['Csoportok']][st].add(name)            \n",
    "            if name not in attention:attention[name]={}\n",
    "            if st not in attention[name]:attention[name][st]=0\n",
    "            attention[name][st]+=1"
   ]
  },
  {
   "cell_type": "code",
   "execution_count": 301,
   "metadata": {},
   "outputs": [
    {
     "data": {
      "image/png": "[encoded data removed]",
      "text/plain": [
       "<Figure size 360x216 with 1 Axes>"
      ]
     },
     "metadata": {
      "needs_background": "light"
     },
     "output_type": "display_data"
    }
   ],
   "source": [
    "def anneal(t,p=7):\n",
    "    #pd.to_datetime('2020-01-01')-pd.to_datetime('1989-01-01')=11322\n",
    "    return (2-(pd.to_datetime('2020-01-01')-pd.to_datetime(t)).days/11322)**p\n",
    "    \n",
    "tanneal={}\n",
    "anneal2020=anneal(pd.to_datetime('2020'))\n",
    "for t in pd.date_range('1990','2020'):\n",
    "    tanneal[t]=anneal(t)/anneal2020+0.1\n",
    "    tanneal[str(t)[:10]]=tanneal[t]\n",
    "plt.subplots(1,1,figsize=(5,3))\n",
    "plt.grid()\n",
    "plt.plot(tanneal.keys(),tanneal.values())\n",
    "plt.ylabel('Elavulási együttható')\n",
    "plt.show()"
   ]
  },
  {
   "cell_type": "code",
   "execution_count": 302,
   "metadata": {},
   "outputs": [
    {
     "name": "stdout",
     "output_type": "stream",
     "text": [
      "🇮🇳 India\n",
      "🇸🇪 Svédország\n",
      "🇦🇷 Argentína\n",
      "🇦🇹 Ausztria\n",
      "🇦🇺 Ausztrália\n",
      "🇨🇮 Elefántcsontpart\n",
      "🇫🇮 Finnország\n",
      "🇭🇷 Horvátország\n",
      "🇱🇹 Litvánia\n",
      "🇵🇹 Portugália\n",
      "🇸🇮 Szlovénia\n",
      "🇹🇭 Thaiföld\n",
      "🇧🇪 Belgium\n",
      "🇧🇬 Bulgária\n",
      "🇪🇨 Ecuador\n",
      "🇮🇷 Irán\n",
      "🇹🇲 Türkmenisztán\n",
      "Más ország\n",
      "🇨🇿 Czechia\n",
      "🇫🇷 Franciaország\n",
      "🇬🇧 Egyesült Királyság\n",
      "🇮🇩 Indonézia\n",
      "🇮🇪 Írország\n",
      "🇱🇺 Luxemburg\n",
      "🇲🇦 Marokkó\n",
      "🇵🇭 Fülöp-szigetek\n",
      "🇧🇦 Bosznia-Hercegovina\n",
      "🇳🇴 Norvégia\n",
      "🇷🇸 Szerbia\n",
      "🇩🇪 Németország\n",
      "🇹🇳 Tunézia\n",
      "🇹🇷 Törökország\n",
      "🇨🇳 Kína\n",
      "🇬🇷 Görögország\n",
      "🇮🇹 Olaszország\n",
      "🇯🇵 Japán\n",
      "🇰🇷 Dél-Korea\n",
      "🇲🇽 Mexikó\n",
      "🇵🇪 Peru\n",
      "🇪🇸 Spanyolország\n",
      "🇨🇾 Ciprus\n",
      "🇺🇾 Uruguay\n",
      "🇻🇪 Venezuela\n",
      "🇨🇷 Costa Rica\n",
      "🇸🇬 Szingapúr\n",
      "🇱🇧 Libanon\n",
      "🇨🇬 Kongó\n",
      "🇲🇪 Montenegró\n",
      "🇸🇳 Szenegál\n",
      "🇪🇬 Egyiptom\n",
      "🇨🇦 Kanada\n",
      "🇨🇱 Chile\n",
      "🇮🇱 Izrael\n",
      "🇩🇿 Algéria\n",
      "🇬🇪 Grúzia\n",
      "🇦🇪 Egyesült Arab Emírségek\n",
      "🇧🇷 Brazília\n",
      "🇨🇺 Kuba\n",
      "🇪🇪 Észtország\n",
      "🇺🇦 Ukrajna\n",
      "🇸🇰 Szlovákia\n",
      "🇿🇦 Dél-Afrika\n",
      "🇵🇰 Pakisztán\n",
      "🇵🇱 Lengyelország\n",
      "🇦🇱 Albánia\n",
      "🇯🇴 Jordánia\n",
      "🇧🇭 Bahrein\n",
      "🇦🇲 Örményország\n",
      "🇸🇾 Szíria\n",
      "🇲🇾 Malajzia\n",
      "🇲🇳 Mongólia\n",
      "🇨🇴 Kolumbia\n",
      "🇶🇦 Katar\n",
      "🇻🇳 Vietnam\n",
      "🇨🇭 Svájc\n",
      "🇱🇻 Lettország\n",
      "🇲🇰 Macedónia\n",
      "Jugoszlávia\n",
      "🇲🇹 Málta\n",
      "🇴🇲 Omán\n",
      "🇦🇿 Azerbajdzsán\n",
      "🇸🇦 Szaúd-Arábia\n",
      "🇰🇼 Kuvait\n",
      "🇭🇺 Magyarország\n",
      "🇳🇱 Hollandia\n",
      "🇵🇦 Panama\n",
      "🇷🇺 Oroszország\n",
      "🇧🇴 Bolívia\n",
      "🇬🇳 Guinea\n",
      "🇰🇿 Kazahsztán\n",
      "🇩🇰 Dánia\n",
      "🇮🇸 Izland\n",
      "🇧🇾 Fehéroroszország\n",
      "🇮🇶 Irak\n",
      "🇱🇰 Srí Lanka\n",
      "🇸🇩 Szudán\n",
      "🇿🇲 Zambia\n",
      "⏫ Gazdaság, ipar\n",
      "🌐 Külpolitika, diaszpóra\n",
      "⏺️ Európa\n",
      "🚰 Mezőgazdaság, erdők\n",
      "🎦 Művészet, média\n",
      "🔠 Oktatás, tudomány, sport\n",
      "🚻 Munka, szociális és családi ügyek\n",
      "➿ Infrastruktúra, energia, kommunikáció\n",
      "🔀 Állami ügyek\n",
      "🔄 Közigazgatás, környezetvédelem\n",
      "♿️ Egészségügy\n",
      "🚹 Emberi jogok, kisebbségek\n",
      "🛃 Biztonság\n",
      "💹 Pénzügy\n",
      "🔱 PRM - România Mare\n",
      "🌷 RMDSZ - Romániai Magyar Demokrata Szövetség\n",
      "🌹 PSD - Social Democrat\n",
      "👤 Independent - Independent\n",
      "🔶 PDL - Democrat Liberal\n",
      "🌹 PDSR - emocraţiei Sociale din România\n",
      "🔘 Independent - Independent\n",
      "🔷 USR - Salvaţi România\n",
      "⚪️ FSN - Salvării Naţionale\n",
      "📐 PAC - Alianţei Civice\n",
      "📐 PNL - Naţional Liberal\n",
      "🔶 PD - ul Democrat\n",
      "🕊️ PUNR - nităţii Naţionale Române\n",
      "🦅 UNPR - ţională pentru Progresul României\n",
      "✳️ PNTCD - ional Ţărănesc Creştin Democrat\n",
      "🕊️ PC - ul Conservator\n",
      "🕊️ ALDE - lianţa Liberalilor şi Democraţilor\n",
      "🔘 FC - Civică\n",
      "⚪️ FDSN - mocrat al Salvarii Nationale\n",
      "⚛️ PP-DD - Partidul Poporului Dan Diaconescu\n",
      "🔘 PAR - Alternativa României\n",
      "📐 PL'93 - eral\n",
      "🍀 FER - a Ecologistă Română\n",
      "🍀 MER - Ecologistă din România\n",
      "🍏 PMP - Mişcarea Populară\n",
      "🌹 PSDR - ocial Democrat Român\n",
      "🕊️ PUR-SL - Partidul Umanist din România\n",
      "🔘 AUR - pentru Unitatea Românilor\n",
      "🍀 PER - Ecologist Român\n",
      "📐 PNL-CD - nal Liberal\n",
      "🌹 PSM - Socialist al Muncii\n",
      "🔘 PLS - Liber Schimbist\n",
      "📐 PNL-AT - nal Liberal\n",
      "🍀 PDAR - emocrat Agrar din România\n",
      "🔘 PRNR - econstrucţiei Naţionale din România\n",
      "🔘 PTLDR - eretului Liber Democrat din România\n",
      "🔘 GDC - Democratică de Centru\n",
      "🔘 PDM - Democrat al Muncii\n",
      "👤 Minorități - Minorități\n",
      "🔘 ULB - Liberală \"Brătianu\"\n",
      "🇷🇴 Gorj\n",
      "🇷🇴 Hargita\n",
      "🇷🇴 Kolozs\n",
      "🇷🇴 Bukarest\n",
      "🇷🇴 Mehedinți\n",
      "🇷🇴 Argeș\n",
      "🇷🇴 Arad\n",
      "🇷🇴 Dâmbovița\n",
      "🇷🇴 Maros\n",
      "🇷🇴 Hunyad\n",
      "🇷🇴 Brassó\n",
      "🇷🇴 Vâlcea\n",
      "🇷🇴 Kovászna\n",
      "🇷🇴 Iași\n",
      "🇷🇴 Ialomița\n",
      "🇷🇴 Olt\n",
      "🇷🇴 Botoșani\n",
      "🇷🇴 Máramaros\n",
      "🇷🇴 Beszterce\n",
      "🇷🇴 Prahova\n",
      "🇷🇴 Galac\n",
      "🇷🇴 Bihar\n",
      "🇷🇴 Szatmár\n",
      "🇷🇴 Bákó\n",
      "🇷🇴 Suceava\n",
      "🇷🇴 Krassó-Szörény\n",
      "🇷🇴 Tulcea\n",
      "🇷🇴 Neamț\n",
      "🇷🇴 Temes\n",
      "🇷🇴 Buzău\n",
      "🇷🇴 Konstanca\n",
      "🇷🇴 Călărași\n",
      "🇷🇴 Giurgiu\n",
      "🇷🇴 Szeben\n",
      "🇷🇴 Brăila\n",
      "🇷🇴 Ilfov\n",
      "🇷🇴 Teleorman\n",
      "🇷🇴 Fehér\n",
      "🇷🇴 Szilágy\n",
      "🇷🇴 Vrancea\n",
      "🇷🇴 Vaslui\n",
      "🇷🇴 Dolj\n",
      "🇷🇴 Diaszpóra\n"
     ]
    }
   ],
   "source": [
    "edges={}\n",
    "points={'Ország':3,'Bizottság':4,'Párt':2,'Megye':1}\n",
    "for tipus in data:\n",
    "    for csoport in data[tipus]:\n",
    "        print(csoport)\n",
    "        for t in data[tipus][csoport]:\n",
    "            names=list(data[tipus][csoport][t])\n",
    "            for r in range(len(names)):\n",
    "                name=names[r]\n",
    "                for p in range(r+1,len(names)):\n",
    "                    name2=names[p]\n",
    "                    nset=tuple(np.sort([name,name2]))\n",
    "                    v=points[tipus]\n",
    "                    if nset not in edges:edges[nset]={'anneal':0,'values':0}\n",
    "                    edges[nset]['values']+=v\n",
    "                    edges[nset]['anneal']+=v*tanneal[t]"
   ]
  },
  {
   "cell_type": "markdown",
   "metadata": {},
   "source": [
    "Save"
   ]
  },
  {
   "cell_type": "code",
   "execution_count": 303,
   "metadata": {},
   "outputs": [],
   "source": [
    "import pickle"
   ]
  },
  {
   "cell_type": "code",
   "execution_count": 304,
   "metadata": {},
   "outputs": [],
   "source": [
    "def save_obj(obj, name ):\n",
    "    with open('ignore/'+ name + '.pkl', 'wb') as f:\n",
    "        pickle.dump(obj, f, pickle.HIGHEST_PROTOCOL)\n",
    "\n",
    "def load_obj(name ):\n",
    "    with open('ignore/' + name + '.pkl', 'rb') as f:\n",
    "        return pickle.load(f)"
   ]
  },
  {
   "cell_type": "code",
   "execution_count": 305,
   "metadata": {},
   "outputs": [],
   "source": [
    "save_obj(edges,'plotter_name_edges')"
   ]
  },
  {
   "cell_type": "code",
   "execution_count": 82,
   "metadata": {},
   "outputs": [],
   "source": [
    "edges=load_obj('plotter_name_edges')"
   ]
  },
  {
   "cell_type": "markdown",
   "metadata": {},
   "source": [
    "Prune"
   ]
  },
  {
   "cell_type": "code",
   "execution_count": 306,
   "metadata": {},
   "outputs": [],
   "source": [
    "df=pd.DataFrame(edges).T"
   ]
  },
  {
   "cell_type": "code",
   "execution_count": 307,
   "metadata": {},
   "outputs": [],
   "source": [
    "all_nodes=set(df.reset_index()['level_0']).union(df.reset_index()['level_1'])"
   ]
  },
  {
   "cell_type": "code",
   "execution_count": 308,
   "metadata": {},
   "outputs": [],
   "source": [
    "min_baratsag=500\n",
    "df2=df[df['anneal']>min_baratsag]"
   ]
  },
  {
   "cell_type": "code",
   "execution_count": 309,
   "metadata": {},
   "outputs": [
    {
     "name": "stderr",
     "output_type": "stream",
     "text": [
      "C:\\ProgramData\\Anaconda3\\lib\\site-packages\\ipykernel_launcher.py:1: SettingWithCopyWarning: \n",
      "A value is trying to be set on a copy of a slice from a DataFrame.\n",
      "Try using .loc[row_indexer,col_indexer] = value instead\n",
      "\n",
      "See the caveats in the documentation: http://pandas.pydata.org/pandas-docs/stable/indexing.html#indexing-view-versus-copy\n",
      "  \"\"\"Entry point for launching an IPython kernel.\n"
     ]
    }
   ],
   "source": [
    "df2['regi']=df2['anneal']/df2['values']"
   ]
  },
  {
   "cell_type": "code",
   "execution_count": 310,
   "metadata": {},
   "outputs": [],
   "source": [
    "df2=df2['anneal'].reset_index()"
   ]
  },
  {
   "cell_type": "code",
   "execution_count": 311,
   "metadata": {},
   "outputs": [],
   "source": [
    "df2.columns=['source','target','weight']"
   ]
  },
  {
   "cell_type": "code",
   "execution_count": 312,
   "metadata": {},
   "outputs": [],
   "source": [
    "nodes={}\n",
    "for i in all_nodes:\n",
    "    if i not in nodes:\n",
    "        nodes[i]={'pr':0,'bc':0,'cf':0}"
   ]
  },
  {
   "cell_type": "code",
   "execution_count": 313,
   "metadata": {},
   "outputs": [],
   "source": [
    "G=nx.Graph(df2)"
   ]
  },
  {
   "cell_type": "code",
   "execution_count": 314,
   "metadata": {},
   "outputs": [],
   "source": [
    "r = nx.pagerank(G,weight='weight')\n",
    "mr=np.median(list(r.values()))\n",
    "for i in r:\n",
    "    nodes[i]['pr']=r[i]/mr"
   ]
  },
  {
   "cell_type": "code",
   "execution_count": 315,
   "metadata": {},
   "outputs": [],
   "source": [
    "Gc = max(nx.connected_component_subgraphs(G), key=len)\n",
    "r = nx.current_flow_closeness_centrality(Gc,weight='weight')\n",
    "mr=np.median(list(r.values()))\n",
    "for i in r:\n",
    "    nodes[i]['cf']=r[i]/mr"
   ]
  },
  {
   "cell_type": "code",
   "execution_count": 316,
   "metadata": {},
   "outputs": [],
   "source": [
    "links={}\n",
    "for i in G.edges(data=True):\n",
    "    name=i[0]\n",
    "    name2=i[1]\n",
    "    z=i[2]['weight']\n",
    "    if name not in links:links[name]={}\n",
    "    if name2 not in links:links[name2]={}\n",
    "    links[name][name2]=z\n",
    "    links[name2][name]=z"
   ]
  },
  {
   "cell_type": "code",
   "execution_count": 317,
   "metadata": {},
   "outputs": [
    {
     "name": "stdout",
     "output_type": "stream",
     "text": [
      "2811 nodes and 307728 edges\n"
     ]
    }
   ],
   "source": [
    "#save \n",
    "network={'nodes':nodes,'links':links}\n",
    "print(len(nodes),'nodes and',len(G.edges()),'edges')"
   ]
  },
  {
   "cell_type": "code",
   "execution_count": 318,
   "metadata": {},
   "outputs": [
    {
     "data": {
      "text/plain": [
       "32754181"
      ]
     },
     "execution_count": 318,
     "metadata": {},
     "output_type": "execute_result"
    }
   ],
   "source": [
    "open('ignore/plotter_name.json','w').write(json.dumps(network))"
   ]
  },
  {
   "cell_type": "code",
   "execution_count": 320,
   "metadata": {},
   "outputs": [],
   "source": [
    "import zipfile\n",
    "\n",
    "with zipfile.ZipFile(\"json/plotter_name.zip\", \"w\", compression=zipfile.ZIP_DEFLATED) as zf:\n",
    "    zf.write(\"ignore/plotter_name.json\",'plotter_name.json')"
   ]
  },
  {
   "cell_type": "code",
   "execution_count": null,
   "metadata": {},
   "outputs": [],
   "source": []
  }
 ],
 "metadata": {
  "kernelspec": {
   "display_name": "Python 3",
   "language": "python",
   "name": "python3"
  },
  "language_info": {
   "codemirror_mode": {
    "name": "ipython",
    "version": 3
   },
   "file_extension": ".py",
   "mimetype": "text/x-python",
   "name": "python",
   "nbconvert_exporter": "python",
   "pygments_lexer": "ipython3",
   "version": "3.6.7"
  },
  "toc": {
   "base_numbering": 1,
   "nav_menu": {},
   "number_sections": true,
   "sideBar": true,
   "skip_h1_title": false,
   "title_cell": "Table of Contents",
   "title_sidebar": "Contents",
   "toc_cell": false,
   "toc_position": {},
   "toc_section_display": true,
   "toc_window_display": false
  }
 },
 "nbformat": 4,
 "nbformat_minor": 2
}
