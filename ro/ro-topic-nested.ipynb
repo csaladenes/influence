{
 "cells": [
  {
   "cell_type": "code",
   "execution_count": 1,
   "metadata": {
    "ExecuteTime": {
     "end_time": "2019-03-07T02:56:32.521682Z",
     "start_time": "2019-03-07T02:56:26.288106Z"
    }
   },
   "outputs": [],
   "source": [
    "import pandas as pd, numpy as np, json"
   ]
  },
  {
   "cell_type": "code",
   "execution_count": 4,
   "metadata": {},
   "outputs": [],
   "source": [
    "from utils import party_color_links,\\\n",
    "    get_link_color,\\\n",
    "    party_normalizer,\\\n",
    "    party_normalizer2,\\\n",
    "    country_normalizer,\\\n",
    "    hu_country,\\\n",
    "    get_photo,get_photos,get_url,\\\n",
    "    load_file, save_local, load_local"
   ]
  },
  {
   "cell_type": "code",
   "execution_count": 5,
   "metadata": {},
   "outputs": [],
   "source": [
    "eu_vt=load_local('eu_vt')"
   ]
  },
  {
   "cell_type": "code",
   "execution_count": 6,
   "metadata": {},
   "outputs": [],
   "source": [
    "eu_allegiance=load_local('eu_allegiance')"
   ]
  },
  {
   "cell_type": "code",
   "execution_count": 7,
   "metadata": {},
   "outputs": [],
   "source": [
    "voteid_2_dossierid=load_local('voteid_2_dossierid')"
   ]
  },
  {
   "cell_type": "code",
   "execution_count": 8,
   "metadata": {},
   "outputs": [],
   "source": [
    "countries=sorted(eu_vt)"
   ]
  },
  {
   "cell_type": "markdown",
   "metadata": {},
   "source": [
    "Allegiance"
   ]
  },
  {
   "cell_type": "code",
   "execution_count": 9,
   "metadata": {
    "ExecuteTime": {
     "end_time": "2019-03-07T00:55:58.723167Z",
     "start_time": "2019-03-07T00:55:58.183534Z"
    }
   },
   "outputs": [],
   "source": [
    "def get_allegiance_matrix(key,vt,allegiance):\n",
    "    allegiance_matrix={}\n",
    "    initvote={'Same':0,'Opposite':0,'Total':0}\n",
    "    for j1 in vt:\n",
    "        outcome=j1['outcome']\n",
    "        name1=j1[key]\n",
    "        if name1 not in allegiance_matrix:allegiance_matrix[name1]={}\n",
    "        if outcome=='For':\n",
    "            for name2 in allegiance[j1['vote']]['For']:\n",
    "                if name2 not in allegiance_matrix[name1]:\n",
    "                    allegiance_matrix[name1][name2]=dict(initvote)\n",
    "                allegiance_matrix[name1][name2]['Total']+=1\n",
    "                allegiance_matrix[name1][name2]['Same']+=1\n",
    "            if 'Against' in allegiance[j1['vote']]:\n",
    "                for name2 in allegiance[j1['vote']]['Against']:\n",
    "                    if name2 not in allegiance_matrix[name1]:\n",
    "                        allegiance_matrix[name1][name2]=dict(initvote)\n",
    "                    allegiance_matrix[name1][name2]['Total']+=1\n",
    "                    allegiance_matrix[name1][name2]['Opposite']+=1\n",
    "        elif outcome=='Against':\n",
    "            for name2 in allegiance[j1['vote']]['Against']:\n",
    "                if name2 not in allegiance_matrix[name1]:\n",
    "                    allegiance_matrix[name1][name2]=dict(initvote)\n",
    "                allegiance_matrix[name1][name2]['Total']+=1\n",
    "                allegiance_matrix[name1][name2]['Same']+=1\n",
    "            if 'For' in allegiance[j1['vote']]:\n",
    "                for name2 in allegiance[j1['vote']]['For']:\n",
    "                    if name2 not in allegiance_matrix[name1]:\n",
    "                        allegiance_matrix[name1][name2]=dict(initvote)\n",
    "                    allegiance_matrix[name1][name2]['Total']+=1\n",
    "                    allegiance_matrix[name1][name2]['Opposite']+=1\n",
    "    for j in allegiance_matrix:\n",
    "        for i in allegiance_matrix[j]:\n",
    "            allegiance_matrix[j][i]['Same_perc']=np.round(allegiance_matrix[j][i]['Same']/allegiance_matrix[j][i]['Total'],3)\n",
    "            allegiance_matrix[j][i]['Opposite_perc']=np.round(allegiance_matrix[j][i]['Opposite']/allegiance_matrix[j][i]['Total'],3)\n",
    "    return allegiance_matrix"
   ]
  },
  {
   "cell_type": "code",
   "execution_count": 18,
   "metadata": {},
   "outputs": [],
   "source": [
    "init_areas=[]\n",
    "override_areas=True\n",
    "init_topics=[]\n",
    "override_topics=False"
   ]
  },
  {
   "cell_type": "code",
   "execution_count": 19,
   "metadata": {
    "ExecuteTime": {
     "end_time": "2019-03-07T01:02:56.830809Z",
     "start_time": "2019-03-07T00:55:58.756695Z"
    }
   },
   "outputs": [
    {
     "name": "stdout",
     "output_type": "stream",
     "text": [
      "France 2008\n",
      "France 2013\n",
      "France 2018\n",
      "Germany 2008\n",
      "Germany 2013\n",
      "Germany 2018\n",
      "Hungary 2008\n",
      "Hungary 2013\n",
      "Hungary 2018\n",
      "Italy 2008\n",
      "Italy 2013\n",
      "Italy 2018\n",
      "Joint 2008\n",
      "Joint 2013\n",
      "Joint 2018\n",
      "United Kingdom 2008\n",
      "United Kingdom 2013\n",
      "United Kingdom 2018\n"
     ]
    }
   ],
   "source": [
    "eu_allegiance_matrix={}\n",
    "for country in countries:\n",
    "    for year in sorted(eu_vt[country]):\n",
    "        print(country,year)\n",
    "        votes_area_topic={}\n",
    "        for vote in eu_vt[country][year]:\n",
    "            if not override_topics:\n",
    "                topics=get_vote_topics(vote['vote'])\n",
    "            else:\n",
    "                topics=list(init_topics)\n",
    "            topics.append('All topics')    \n",
    "            if not override_areas:\n",
    "                areas=get_vote_areas(vote['vote'])\n",
    "            else:\n",
    "                areas=list(init_areas)\n",
    "            areas.append('All areas')    \n",
    "            for area in areas:\n",
    "                for topic in topics:\n",
    "                    if area not in votes_area_topic:votes_area_topic[area]={}\n",
    "                    if topic not in votes_area_topic[area]:votes_area_topic[area][topic]=[]\n",
    "                    votes_area_topic[area][topic].append(vote)\n",
    "        for area in sorted(votes_area_topic):\n",
    "            for topic in sorted(votes_area_topic[area]):    \n",
    "                for allegiance_type1 in ['name','group','party']:\n",
    "                    for allegiance_type2 in ['name','group','party']:\n",
    "                        dummy=get_allegiance_matrix(allegiance_type1,votes_area_topic[area][topic],\n",
    "                                eu_allegiance[country][year][allegiance_type2])\n",
    "                        if dummy!={}:\n",
    "                            if country not in eu_allegiance_matrix:\n",
    "                                eu_allegiance_matrix[country]={}\n",
    "                            if year not in eu_allegiance_matrix[country]:\n",
    "                                eu_allegiance_matrix[country][year]={}\n",
    "                            if area not in eu_allegiance_matrix[country][year]:\n",
    "                                eu_allegiance_matrix[country][year][area]={}\n",
    "                            if topic not in eu_allegiance_matrix[country][year][area]:\n",
    "                                eu_allegiance_matrix[country][year][area][topic]={}\n",
    "                            if allegiance_type1 not in eu_allegiance_matrix[country][year][area][topic]:\n",
    "                                eu_allegiance_matrix[country][year][area][topic][allegiance_type1]={}\n",
    "                            if allegiance_type2 not in eu_allegiance_matrix[country][year][area][topic][allegiance_type1]:\n",
    "                                eu_allegiance_matrix[country][year][area][topic][allegiance_type1][allegiance_type2]={}\n",
    "                            eu_allegiance_matrix[country][year][area][topic][allegiance_type1][allegiance_type2]=dummy"
   ]
  },
  {
   "cell_type": "code",
   "execution_count": 20,
   "metadata": {},
   "outputs": [
    {
     "name": "stdout",
     "output_type": "stream",
     "text": [
      "France 2008\n",
      "France 2013\n",
      "France 2018\n",
      "Germany 2008\n",
      "Germany 2013\n",
      "Germany 2018\n",
      "Hungary 2008\n",
      "Hungary 2013\n",
      "Hungary 2018\n",
      "Italy 2008\n",
      "Italy 2013\n",
      "Italy 2018\n",
      "Joint 2008\n",
      "Joint 2013\n",
      "Joint 2018\n",
      "United Kingdom 2008\n",
      "United Kingdom 2013\n",
      "United Kingdom 2018\n"
     ]
    }
   ],
   "source": [
    "keys=['Same_perc']\n",
    "eu_allegiance_list=[]\n",
    "clean_names={'name':set(),'group':set(),'party':set()}\n",
    "for country in sorted(eu_allegiance_matrix):\n",
    "    for year in sorted(eu_allegiance_matrix[country]):\n",
    "        print(country,year)\n",
    "        for area in sorted(eu_allegiance_matrix[country][year]):\n",
    "            for topic in sorted(eu_allegiance_matrix[country][year][area]): \n",
    "                for allegiance_type1 in sorted(eu_allegiance_matrix[country][year][area][topic]):\n",
    "                    for allegiance_type2 in sorted(eu_allegiance_matrix[country][year][area][topic][allegiance_type1]):\n",
    "                        for name1 in sorted(eu_allegiance_matrix[country][year][area][topic][allegiance_type1][allegiance_type2]):\n",
    "                            for name2 in sorted(eu_allegiance_matrix[country][year][area][topic][allegiance_type1][allegiance_type2][name1]):\n",
    "                                if name1!=name2:\n",
    "                                    clean_names[allegiance_type1].add(name1)\n",
    "                                    clean_names[allegiance_type2].add(name2)\n",
    "                                    dummy={'country':country,\n",
    "                                            'year':year,\n",
    "                                            'allegiance_type1':allegiance_type1,\n",
    "                                            'allegiance_type2':allegiance_type2,\n",
    "                                            'area':area,\n",
    "                                            'topic':topic,\n",
    "                                            'name1':name1,\n",
    "                                            'name2':name2}\n",
    "                                    for key in keys:\n",
    "                                        dummy[key]=eu_allegiance_matrix[country][year][area][topic]\\\n",
    "                                            [allegiance_type1][allegiance_type2][name1][name2][key]\n",
    "                                    eu_allegiance_list.append(dummy)"
   ]
  },
  {
   "cell_type": "code",
   "execution_count": 21,
   "metadata": {},
   "outputs": [],
   "source": [
    "for i in clean_names:\n",
    "    clean_names[i]=sorted(list(clean_names[i]))"
   ]
  },
  {
   "cell_type": "code",
   "execution_count": 24,
   "metadata": {},
   "outputs": [
    {
     "data": {
      "text/plain": [
       "18370"
      ]
     },
     "execution_count": 24,
     "metadata": {},
     "output_type": "execute_result"
    }
   ],
   "source": [
    "open('ep/export/json/clean_names.json','w').write(json.dumps(clean_names))"
   ]
  },
  {
   "cell_type": "code",
   "execution_count": 41,
   "metadata": {},
   "outputs": [],
   "source": [
    "datarepo='C:/Users/csala/OneDrive - Lancaster University/Datarepo/ep/'"
   ]
  },
  {
   "cell_type": "code",
   "execution_count": 38,
   "metadata": {},
   "outputs": [
    {
     "data": {
      "text/plain": [
       "4250113652"
      ]
     },
     "execution_count": 38,
     "metadata": {},
     "output_type": "execute_result"
    }
   ],
   "source": [
    "#!!! lots of memory required ~2GB per country\n",
    "open(datarepo+'eu_allegiance_list.json','w').write(json.dumps(eu_allegiance_list))"
   ]
  },
  {
   "cell_type": "code",
   "execution_count": 39,
   "metadata": {},
   "outputs": [],
   "source": [
    "del eu_allegiance_list"
   ]
  },
  {
   "cell_type": "code",
   "execution_count": 42,
   "metadata": {},
   "outputs": [],
   "source": [
    "zf = zipfile.ZipFile(datarepo+'eu_allegiance_list.zip', mode='w')\n",
    "zf.write(datarepo+'eu_allegiance_list.json','data.json',compress_type=compression)\n",
    "zf.close()"
   ]
  },
  {
   "cell_type": "code",
   "execution_count": 43,
   "metadata": {},
   "outputs": [],
   "source": [
    "save_local(eu_allegiance_matrix,'allegiance_matrix')"
   ]
  },
  {
   "cell_type": "markdown",
   "metadata": {},
   "source": [
    "Clusterings"
   ]
  },
  {
   "cell_type": "code",
   "execution_count": 26,
   "metadata": {},
   "outputs": [],
   "source": [
    "groups=load_local('groups')\n",
    "parties=load_local('parties')"
   ]
  },
  {
   "cell_type": "code",
   "execution_count": 27,
   "metadata": {},
   "outputs": [],
   "source": [
    "names=load_local('names')"
   ]
  },
  {
   "cell_type": "code",
   "execution_count": 28,
   "metadata": {
    "ExecuteTime": {
     "end_time": "2019-03-07T01:03:43.009807Z",
     "start_time": "2019-03-07T01:03:41.708739Z"
    }
   },
   "outputs": [],
   "source": [
    "from scipy.cluster.hierarchy import dendrogram, linkage, fcluster"
   ]
  },
  {
   "cell_type": "code",
   "execution_count": 29,
   "metadata": {
    "ExecuteTime": {
     "end_time": "2019-03-07T01:03:43.026801Z",
     "start_time": "2019-03-07T01:03:43.013795Z"
    }
   },
   "outputs": [],
   "source": [
    "def dict_2_matrix(matrix,key,party_labels=False):\n",
    "    labels=sorted(matrix)\n",
    "    slabels=[]\n",
    "    for i in range(len(labels)):\n",
    "        label=labels[i]\n",
    "        if label in names:\n",
    "            if party_labels:\n",
    "                party=party_normalizer(names[label]['Constituencies'][0]['party'])\n",
    "                group=party_normalizer(names[label]['Groups'][0]['groupid'])\n",
    "                slabels.append(str(label)+u' | '+str(party)+' | '+str(group))\n",
    "            else:\n",
    "                slabels.append(label)\n",
    "        else:\n",
    "            slabels.append(label)\n",
    "\n",
    "    #extend to square matrix\n",
    "    inner_keys=matrix[sorted(matrix)[0]]\n",
    "    inner_keys=sorted(inner_keys[sorted(inner_keys)[0]])\n",
    "    for name1 in  labels:\n",
    "        for name2 in labels:\n",
    "            if name2 not in matrix[name1]:\n",
    "                matrix[name1][name2]={i:0 for i in inner_keys}\n",
    "    return np.array([[matrix[name1][name2][key] for name2 in sorted(matrix[name1])] for name1 in labels]),slabels"
   ]
  },
  {
   "cell_type": "code",
   "execution_count": 30,
   "metadata": {
    "ExecuteTime": {
     "end_time": "2019-03-07T01:03:43.044797Z",
     "start_time": "2019-03-07T01:03:43.032798Z"
    }
   },
   "outputs": [],
   "source": [
    "def hier_cluster(matrix,level,th=1,key='Same_perc',party_labels=False,method='single', metric='euclidean',criterion='distance'):\n",
    "    X,labelList=dict_2_matrix(matrix[level][level],key,party_labels)\n",
    "    if len(X)>1:\n",
    "        try:\n",
    "            linked = linkage(X, method=method,metric=metric)\n",
    "        except:\n",
    "            try:\n",
    "                linked = linkage(X, method=method,metric='euclidean')\n",
    "            except:\n",
    "                linked = linkage(X, method='single',metric='euclidean')\n",
    "        f=fcluster(linked, th, criterion)\n",
    "        labelList=[labelList[i]+' | '+str(f[i]) for i in range(len(labelList))]\n",
    "        return linked,labelList\n",
    "    else:\n",
    "        return [],[]"
   ]
  },
  {
   "cell_type": "markdown",
   "metadata": {},
   "source": [
    "Exctract clusters"
   ]
  },
  {
   "cell_type": "code",
   "execution_count": 31,
   "metadata": {
    "ExecuteTime": {
     "end_time": "2019-03-07T01:03:45.292376Z",
     "start_time": "2019-03-07T01:03:45.285376Z"
    }
   },
   "outputs": [],
   "source": [
    "def get_unique_parent_node(nodes_children,node):\n",
    "    if node in leafs:\n",
    "        return node\n",
    "    elif len(nodes_children[node])>1:\n",
    "        return node\n",
    "    else:\n",
    "        return get_unique_parent_node(nodes_children,nodes_children[node][0])\n",
    "def get_unique_parent(node,node_dict,unique_node_set,root):\n",
    "    if node not in node_dict: \n",
    "        return root\n",
    "    elif node_dict[node] in unique_node_set:\n",
    "        return node_dict[node]\n",
    "    else:\n",
    "        return get_unique_parent(node_dict[node],node_dict,unique_node_set,root)"
   ]
  },
  {
   "cell_type": "markdown",
   "metadata": {},
   "source": [
    "Save for VEGA"
   ]
  },
  {
   "cell_type": "code",
   "execution_count": 32,
   "metadata": {},
   "outputs": [],
   "source": [
    "def country_normalizer(country):\n",
    "    sign='🇪🇺'\n",
    "    if country=='Hungary': sign='🇭🇺'\n",
    "    elif country=='Germany': sign='🇩🇪'\n",
    "    elif country=='Belgium': sign='🇧🇪'\n",
    "    elif country=='France': sign='🇫🇷'\n",
    "    elif country=='Poland': sign='🇵🇱'\n",
    "    elif country=='Italy': sign='🇮🇹'\n",
    "    elif country=='United Kingdom': sign='🇬🇧'\n",
    "    return country+' '+sign"
   ]
  },
  {
   "cell_type": "code",
   "execution_count": 34,
   "metadata": {
    "ExecuteTime": {
     "end_time": "2019-03-07T01:03:47.052375Z",
     "start_time": "2019-03-07T01:03:45.299376Z"
    }
   },
   "outputs": [
    {
     "name": "stdout",
     "output_type": "stream",
     "text": [
      "France 2008\n",
      "France 2013\n",
      "France 2018\n",
      "Germany 2008\n",
      "Germany 2013\n",
      "Germany 2018\n",
      "Hungary 2008\n",
      "Hungary 2013\n",
      "Hungary 2018\n",
      "Italy 2008\n",
      "Italy 2013\n",
      "Italy 2018\n",
      "Joint 2008\n",
      "Joint 2013\n",
      "Joint 2018\n",
      "United Kingdom 2008\n",
      "United Kingdom 2013\n",
      "United Kingdom 2018\n"
     ]
    }
   ],
   "source": [
    "master_tree={}\n",
    "nc_levels=10\n",
    "key='Same_perc'\n",
    "mpruned_nodes=[]\n",
    "for country in countries:\n",
    "    for year in eu_allegiance_matrix[country]:\n",
    "        print(country,year)\n",
    "        for area in eu_allegiance_matrix[country][year]:\n",
    "            for topic in eu_allegiance_matrix[country][year][area]:\n",
    "                for allegiance in eu_allegiance_matrix[country][year][area][topic]:\n",
    "                    uid=country+year+allegiance+area+topic\n",
    "                    cluster_list=[]\n",
    "                    clusterdummy={}\n",
    "                    if country=='Joint':\n",
    "                        nc_max=nc_levels*1+2\n",
    "                    else:\n",
    "                        nc_max=nc_levels*1\n",
    "                    for nc in range(2,nc_max):\n",
    "                        hc,hlabels=hier_cluster(eu_allegiance_matrix[country][year][area][topic],\n",
    "                                                allegiance,nc,key,True,'complete','seuclidean','maxclust')\n",
    "                        for i in hlabels:\n",
    "                            hi=i.split('|')\n",
    "                            name=hi[0].strip()\n",
    "                            cluster_no=hi[-1].strip()\n",
    "                            if name not in clusterdummy:\n",
    "                                clusterdummy[name]={}\n",
    "                                clusterdummy[name]['name']=name\n",
    "                                clusterdummy[name]['cluster_level_'+str(nc_max)]=name\n",
    "                                clusterdummy[name]['country']=country\n",
    "                                clusterdummy[name]['cluster_level_1']=country\n",
    "                            clusterdummy[name]['cluster_level_'+str(nc)]='c'+str(nc)+str(cluster_no)\n",
    "                    cluster_list=list(clusterdummy.values())\n",
    "                    #construct tree\n",
    "                    leafs=sorted(clusterdummy)\n",
    "                    nodes=[{'name':country}]\n",
    "                    nodes_done=set()\n",
    "                    nodes_children={}\n",
    "                    for i in cluster_list:\n",
    "                        for cluster_level in range(2,nc_max+1):\n",
    "                            node=i['cluster_level_'+str(cluster_level)]\n",
    "                            parent=i['cluster_level_'+str(cluster_level-1)]\n",
    "                            if node not in nodes_done:\n",
    "                                dummy={}\n",
    "                                nodes_done.add(node)\n",
    "                                dummy['name']=node\n",
    "                                dummy['parent']=parent\n",
    "                                if parent not in nodes_children:nodes_children[parent]=[]\n",
    "                                nodes_children[parent].append(node)\n",
    "                                nodes.append(dummy)\n",
    "                    #get unique nodes\n",
    "                    node_dict={i['name']:i['parent'] for i in nodes[1:]}\n",
    "                    unique_nodes={}\n",
    "                    for node in nodes_children:\n",
    "                        unique_nodes[node]=get_unique_parent_node(nodes_children,node)\n",
    "                    unique_node_set=set(unique_nodes.values()).union(set(leafs))\n",
    "                    #prune\n",
    "                    pruned_nodes=[]\n",
    "                    for i in nodes:\n",
    "                        dummy=i\n",
    "                        name=i['name']\n",
    "                        if 'parent' not in i:\n",
    "                            pruned_nodes.append(i)\n",
    "                        elif i['name'] in unique_node_set:\n",
    "                            dummy['parent']=get_unique_parent(name,node_dict,unique_node_set,nodes[0]['name'])\n",
    "                            if name in leafs:\n",
    "                                if allegiance=='name':\n",
    "                                    party=names[name]['Constituencies'][0]['party']\n",
    "                                    group=names[name]['Groups'][0]['groupid']\n",
    "                                    home_country=names[name]['Constituencies'][0]['country']\n",
    "                                    if type(party)==list:\n",
    "                                        party=party[0]\n",
    "                                    if type(group)==list:\n",
    "                                        group=group[0]\n",
    "                                    if type(home_country)==list:\n",
    "                                        home_country=home_country[0]\n",
    "                                    dummy['party']=party_normalizer(party)\n",
    "                                    dummy['group']=party_normalizer(group)\n",
    "                                    dummy['party2']=party_normalizer2(party)\n",
    "                                    dummy['group2']=party_normalizer2(group)\n",
    "                                else:\n",
    "                                    dummy['party']=''\n",
    "                                    dummy['group']=''\n",
    "                                    dummy['party2']=''\n",
    "                                    dummy['group2']=''\n",
    "                                dummy['image']=get_photo(name,names,allegiance)     \n",
    "                                dummy['url']=get_url(name,names,allegiance)\n",
    "                            pruned_nodes.append(dummy)\n",
    "                    for i in pruned_nodes:\n",
    "                        dummy=i\n",
    "                        if 'party' in dummy:\n",
    "                            dummy['partycolor']=get_link_color(dummy['party'])\n",
    "                        if 'group' in dummy:\n",
    "                            dummy['groupcolor']=get_link_color(dummy['group'])\n",
    "                        dummy['country']=country\n",
    "                        dummy['home_country']=home_country\n",
    "                        dummy['home_country2']=country_normalizer(home_country)\n",
    "                        dummy['year']=year\n",
    "                        dummy['area']=area\n",
    "                        dummy['topic']=topic\n",
    "                        dummy['allegiance']=allegiance\n",
    "                        mpruned_nodes.append(dummy)"
   ]
  },
  {
   "cell_type": "code",
   "execution_count": 35,
   "metadata": {},
   "outputs": [
    {
     "data": {
      "text/plain": [
       "44872418"
      ]
     },
     "execution_count": 35,
     "metadata": {},
     "output_type": "execute_result"
    }
   ],
   "source": [
    "open('ep/export/json/topics.json','w').write(json.dumps(mpruned_nodes))"
   ]
  },
  {
   "cell_type": "code",
   "execution_count": 36,
   "metadata": {},
   "outputs": [],
   "source": [
    "save_local(mpruned_nodes,'topics')"
   ]
  },
  {
   "cell_type": "code",
   "execution_count": 37,
   "metadata": {},
   "outputs": [],
   "source": [
    "del mpruned_nodes"
   ]
  },
  {
   "cell_type": "code",
   "execution_count": null,
   "metadata": {},
   "outputs": [],
   "source": []
  }
 ],
 "metadata": {
  "kernelspec": {
   "display_name": "Python 3",
   "language": "python",
   "name": "python3"
  },
  "language_info": {
   "codemirror_mode": {
    "name": "ipython",
    "version": 3
   },
   "file_extension": ".py",
   "mimetype": "text/x-python",
   "name": "python",
   "nbconvert_exporter": "python",
   "pygments_lexer": "ipython3",
   "version": "3.6.6"
  },
  "toc": {
   "base_numbering": 1,
   "nav_menu": {},
   "number_sections": true,
   "sideBar": true,
   "skip_h1_title": false,
   "title_cell": "Table of Contents",
   "title_sidebar": "Contents",
   "toc_cell": false,
   "toc_position": {},
   "toc_section_display": true,
   "toc_window_display": false
  }
 },
 "nbformat": 4,
 "nbformat_minor": 2
}
